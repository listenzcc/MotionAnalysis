{
 "cells": [
  {
   "cell_type": "markdown",
   "id": "56c5bfbb-5c9e-445a-8c0e-7d38006473cd",
   "metadata": {},
   "source": [
    "## Imports"
   ]
  },
  {
   "cell_type": "code",
   "execution_count": 1,
   "id": "28353a88-d089-4f5a-b7b4-2dff9fd5624c",
   "metadata": {},
   "outputs": [],
   "source": [
    "import os\n",
    "\n",
    "import numpy as np\n",
    "import pandas as pd\n",
    "import plotly.express as px\n",
    "import plotly.graph_objects as go\n",
    "from tqdm.auto import tqdm"
   ]
  },
  {
   "cell_type": "markdown",
   "id": "853a9662-8f7e-44c6-92b7-e031b9cb43b2",
   "metadata": {},
   "source": [
    "## Read Parameters"
   ]
  },
  {
   "cell_type": "code",
   "execution_count": 2,
   "id": "99f815e7-eba4-40cd-8424-7d87090b04d2",
   "metadata": {},
   "outputs": [
    {
     "data": {
      "text/plain": [
       "((31625, 20, 6), (31625,))"
      ]
     },
     "execution_count": 2,
     "metadata": {},
     "output_type": "execute_result"
    }
   ],
   "source": [
    "folder = os.path.join(\n",
    "    os.environ[\"SYNC\"], r\"MotionData\\data\\2nd-Development\", \"parsedData\"\n",
    ")\n",
    "\n",
    "event_name = {\n",
    "    \"0-SLW\": 1,\n",
    "    \"1-MLW\": 2,\n",
    "    \"2-FLW\": 3,\n",
    "    \"3-RD\": 4,\n",
    "    \"4-SD\": 5,\n",
    "    \"5-sit\": 6,\n",
    "    \"6-stand\": 7,\n",
    "    \"7-RA\": 8,\n",
    "    \"8-SA\": 9,\n",
    "}\n",
    "\n",
    "# Read and mark the Signal\n",
    "X3s = []\n",
    "ys = []\n",
    "\n",
    "for name, label in event_name.items():\n",
    "    with open(os.path.join(folder, f\"{name}.npy\"), \"rb\") as f:\n",
    "        mat = np.load(f)\n",
    "    X3s.append(mat)\n",
    "    ys.append(np.zeros(mat.shape[0]) + label)\n",
    "\n",
    "X3 = np.concatenate(X3s)\n",
    "y = np.concatenate(ys)\n",
    "\n",
    "# Simple Report\n",
    "X3.shape, y.shape"
   ]
  },
  {
   "cell_type": "markdown",
   "id": "38606c03-8275-43ba-8147-58cd6fb8ba9a",
   "metadata": {},
   "source": [
    "## Take an Example"
   ]
  },
  {
   "cell_type": "code",
   "execution_count": 3,
   "id": "0fd1ce85-e6c5-4a12-8020-35943ee5f1ab",
   "metadata": {
    "scrolled": true,
    "tags": []
   },
   "outputs": [
    {
     "data": {
      "text/html": [
       "<div>\n",
       "<style scoped>\n",
       "    .dataframe tbody tr th:only-of-type {\n",
       "        vertical-align: middle;\n",
       "    }\n",
       "\n",
       "    .dataframe tbody tr th {\n",
       "        vertical-align: top;\n",
       "    }\n",
       "\n",
       "    .dataframe thead th {\n",
       "        text-align: right;\n",
       "    }\n",
       "</style>\n",
       "<table border=\"1\" class=\"dataframe\">\n",
       "  <thead>\n",
       "    <tr style=\"text-align: right;\">\n",
       "      <th></th>\n",
       "      <th>0</th>\n",
       "      <th>1</th>\n",
       "      <th>2</th>\n",
       "      <th>3</th>\n",
       "      <th>4</th>\n",
       "      <th>5</th>\n",
       "    </tr>\n",
       "  </thead>\n",
       "  <tbody>\n",
       "    <tr>\n",
       "      <th>0</th>\n",
       "      <td>-0.46</td>\n",
       "      <td>-0.35</td>\n",
       "      <td>-1.46</td>\n",
       "      <td>-48.23</td>\n",
       "      <td>196.47</td>\n",
       "      <td>44.74</td>\n",
       "    </tr>\n",
       "    <tr>\n",
       "      <th>1</th>\n",
       "      <td>-0.47</td>\n",
       "      <td>-0.21</td>\n",
       "      <td>-1.49</td>\n",
       "      <td>-60.67</td>\n",
       "      <td>180.91</td>\n",
       "      <td>52.67</td>\n",
       "    </tr>\n",
       "    <tr>\n",
       "      <th>2</th>\n",
       "      <td>-0.46</td>\n",
       "      <td>-0.04</td>\n",
       "      <td>-1.51</td>\n",
       "      <td>-26.38</td>\n",
       "      <td>179.34</td>\n",
       "      <td>56.34</td>\n",
       "    </tr>\n",
       "    <tr>\n",
       "      <th>3</th>\n",
       "      <td>-0.36</td>\n",
       "      <td>0.06</td>\n",
       "      <td>-1.45</td>\n",
       "      <td>24.03</td>\n",
       "      <td>177.45</td>\n",
       "      <td>47.34</td>\n",
       "    </tr>\n",
       "    <tr>\n",
       "      <th>4</th>\n",
       "      <td>-0.12</td>\n",
       "      <td>-0.01</td>\n",
       "      <td>-1.32</td>\n",
       "      <td>49.87</td>\n",
       "      <td>171.94</td>\n",
       "      <td>39.17</td>\n",
       "    </tr>\n",
       "    <tr>\n",
       "      <th>5</th>\n",
       "      <td>0.13</td>\n",
       "      <td>-0.13</td>\n",
       "      <td>-1.26</td>\n",
       "      <td>63.96</td>\n",
       "      <td>161.90</td>\n",
       "      <td>28.58</td>\n",
       "    </tr>\n",
       "    <tr>\n",
       "      <th>6</th>\n",
       "      <td>0.28</td>\n",
       "      <td>-0.25</td>\n",
       "      <td>-1.28</td>\n",
       "      <td>67.75</td>\n",
       "      <td>144.61</td>\n",
       "      <td>23.74</td>\n",
       "    </tr>\n",
       "    <tr>\n",
       "      <th>7</th>\n",
       "      <td>0.29</td>\n",
       "      <td>-0.28</td>\n",
       "      <td>-1.28</td>\n",
       "      <td>61.36</td>\n",
       "      <td>112.47</td>\n",
       "      <td>21.50</td>\n",
       "    </tr>\n",
       "    <tr>\n",
       "      <th>8</th>\n",
       "      <td>0.31</td>\n",
       "      <td>-0.27</td>\n",
       "      <td>-1.23</td>\n",
       "      <td>49.75</td>\n",
       "      <td>78.09</td>\n",
       "      <td>19.36</td>\n",
       "    </tr>\n",
       "    <tr>\n",
       "      <th>9</th>\n",
       "      <td>0.29</td>\n",
       "      <td>-0.18</td>\n",
       "      <td>-1.19</td>\n",
       "      <td>36.56</td>\n",
       "      <td>49.82</td>\n",
       "      <td>18.97</td>\n",
       "    </tr>\n",
       "    <tr>\n",
       "      <th>10</th>\n",
       "      <td>0.16</td>\n",
       "      <td>-0.08</td>\n",
       "      <td>-1.21</td>\n",
       "      <td>28.61</td>\n",
       "      <td>28.43</td>\n",
       "      <td>16.21</td>\n",
       "    </tr>\n",
       "    <tr>\n",
       "      <th>11</th>\n",
       "      <td>0.01</td>\n",
       "      <td>-0.02</td>\n",
       "      <td>-1.26</td>\n",
       "      <td>23.11</td>\n",
       "      <td>16.76</td>\n",
       "      <td>15.04</td>\n",
       "    </tr>\n",
       "    <tr>\n",
       "      <th>12</th>\n",
       "      <td>-0.07</td>\n",
       "      <td>0.01</td>\n",
       "      <td>-1.30</td>\n",
       "      <td>25.74</td>\n",
       "      <td>2.70</td>\n",
       "      <td>12.83</td>\n",
       "    </tr>\n",
       "    <tr>\n",
       "      <th>13</th>\n",
       "      <td>0.08</td>\n",
       "      <td>0.12</td>\n",
       "      <td>-1.21</td>\n",
       "      <td>27.46</td>\n",
       "      <td>-17.07</td>\n",
       "      <td>12.06</td>\n",
       "    </tr>\n",
       "    <tr>\n",
       "      <th>14</th>\n",
       "      <td>0.74</td>\n",
       "      <td>0.25</td>\n",
       "      <td>-0.85</td>\n",
       "      <td>49.67</td>\n",
       "      <td>-30.33</td>\n",
       "      <td>9.99</td>\n",
       "    </tr>\n",
       "    <tr>\n",
       "      <th>15</th>\n",
       "      <td>1.27</td>\n",
       "      <td>0.45</td>\n",
       "      <td>-0.60</td>\n",
       "      <td>93.09</td>\n",
       "      <td>-43.24</td>\n",
       "      <td>-7.32</td>\n",
       "    </tr>\n",
       "    <tr>\n",
       "      <th>16</th>\n",
       "      <td>1.07</td>\n",
       "      <td>0.57</td>\n",
       "      <td>-0.47</td>\n",
       "      <td>113.75</td>\n",
       "      <td>-62.82</td>\n",
       "      <td>-42.66</td>\n",
       "    </tr>\n",
       "    <tr>\n",
       "      <th>17</th>\n",
       "      <td>0.42</td>\n",
       "      <td>0.34</td>\n",
       "      <td>-0.54</td>\n",
       "      <td>109.28</td>\n",
       "      <td>-70.97</td>\n",
       "      <td>-55.65</td>\n",
       "    </tr>\n",
       "    <tr>\n",
       "      <th>18</th>\n",
       "      <td>-0.27</td>\n",
       "      <td>0.02</td>\n",
       "      <td>-0.80</td>\n",
       "      <td>58.10</td>\n",
       "      <td>-40.34</td>\n",
       "      <td>-36.83</td>\n",
       "    </tr>\n",
       "    <tr>\n",
       "      <th>19</th>\n",
       "      <td>-0.92</td>\n",
       "      <td>-0.29</td>\n",
       "      <td>-1.23</td>\n",
       "      <td>11.08</td>\n",
       "      <td>14.67</td>\n",
       "      <td>-14.56</td>\n",
       "    </tr>\n",
       "  </tbody>\n",
       "</table>\n",
       "</div>"
      ],
      "text/plain": [
       "       0     1     2       3       4      5\n",
       "0  -0.46 -0.35 -1.46  -48.23  196.47  44.74\n",
       "1  -0.47 -0.21 -1.49  -60.67  180.91  52.67\n",
       "2  -0.46 -0.04 -1.51  -26.38  179.34  56.34\n",
       "3  -0.36  0.06 -1.45   24.03  177.45  47.34\n",
       "4  -0.12 -0.01 -1.32   49.87  171.94  39.17\n",
       "5   0.13 -0.13 -1.26   63.96  161.90  28.58\n",
       "6   0.28 -0.25 -1.28   67.75  144.61  23.74\n",
       "7   0.29 -0.28 -1.28   61.36  112.47  21.50\n",
       "8   0.31 -0.27 -1.23   49.75   78.09  19.36\n",
       "9   0.29 -0.18 -1.19   36.56   49.82  18.97\n",
       "10  0.16 -0.08 -1.21   28.61   28.43  16.21\n",
       "11  0.01 -0.02 -1.26   23.11   16.76  15.04\n",
       "12 -0.07  0.01 -1.30   25.74    2.70  12.83\n",
       "13  0.08  0.12 -1.21   27.46  -17.07  12.06\n",
       "14  0.74  0.25 -0.85   49.67  -30.33   9.99\n",
       "15  1.27  0.45 -0.60   93.09  -43.24  -7.32\n",
       "16  1.07  0.57 -0.47  113.75  -62.82 -42.66\n",
       "17  0.42  0.34 -0.54  109.28  -70.97 -55.65\n",
       "18 -0.27  0.02 -0.80   58.10  -40.34 -36.83\n",
       "19 -0.92 -0.29 -1.23   11.08   14.67 -14.56"
      ]
     },
     "execution_count": 3,
     "metadata": {},
     "output_type": "execute_result"
    }
   ],
   "source": [
    "pd.DataFrame(X3[0])"
   ]
  },
  {
   "cell_type": "markdown",
   "id": "5f39ff41-9754-47cc-aee2-c30610a4fb25",
   "metadata": {},
   "source": [
    "## Compute the Trace"
   ]
  },
  {
   "cell_type": "code",
   "execution_count": 4,
   "id": "6110ed36-2b69-4431-bf1a-50d76028f957",
   "metadata": {},
   "outputs": [],
   "source": [
    "def scale(v, s=1):\n",
    "    \"\"\" Scale the vector of y \\in R3,\n",
    "        s is the  scaler,\n",
    "        It computes the normalized vector of y is s = 1 as default.\n",
    "    \"\"\"\n",
    "    return s * np.array(v) / np.linalg.norm(v)\n",
    "\n",
    "\n",
    "def rotate(r, n, a):\n",
    "    \"\"\" Compute the rotated vector of r \\in R3,\n",
    "        n \\in R3 is the rotate axis,\n",
    "        a \\in R is the radius.\n",
    "    \"\"\"\n",
    "    d = np.cross(n, r)\n",
    "\n",
    "    if all(d == 0):\n",
    "        return r\n",
    "\n",
    "    o = scale(scale(r, np.cos(a)) + scale(d, np.sin(a)))\n",
    "    return o\n",
    "\n",
    "\n",
    "class Point(object):\n",
    "    \"\"\" A point has its position and x-, y- and z- normalized coordinates \"\"\"\n",
    "\n",
    "    def __init__(self, p=[0, 0, 0], nx=[1, 0, 0], ny=[0, 1, 0], nz=[0, 0, 1]):\n",
    "        \"\"\"\n",
    "        Initialize the point,\n",
    "        - p: The origin of the point;\n",
    "        - nx: The normed x axis;\n",
    "        - ny: The normed y axis;\n",
    "        - nz: The normed z axis.\n",
    "        \"\"\"\n",
    "        self.p = np.array(p).astype(np.float32)\n",
    "        self.nx = scale(nx)\n",
    "        self.ny = scale(ny)\n",
    "        self.nz = scale(nz)\n",
    "\n",
    "    def translate(self, dp):\n",
    "        \"\"\" Translate the point by p \\in R3 \"\"\"\n",
    "        self.p += dp\n",
    "        pass\n",
    "\n",
    "    def rotate(self, ax, ay, az):\n",
    "        \"\"\" The point rotates around its origin, by 3 axis at ax, ay and az radius \"\"\"\n",
    "        # self.nx = rotate(self.nx, self.nx, ax)\n",
    "        self.ny = rotate(self.ny, self.nx, ax)\n",
    "        self.nz = rotate(self.nz, self.nx, ax)\n",
    "\n",
    "        self.nx = rotate(self.nx, self.ny, ay)\n",
    "        # self.ny = rotate(self.ny, self.ny, ay)\n",
    "        self.nz = rotate(self.nz, self.ny, ay)\n",
    "\n",
    "        self.nx = rotate(self.nx, self.nz, az)\n",
    "        self.ny = rotate(self.ny, self.nz, az)\n",
    "        # self.nz = rotate(self.nz, self.nz, az)\n",
    "        pass\n",
    "\n",
    "    def snip(self):\n",
    "        \"\"\" Get a quick snip of the point on the current state\"\"\"\n",
    "        return [self.p.copy(), self.nx, self.ny, self.nz]\n",
    "\n",
    "\n",
    "class MotionTrace(object):\n",
    "    def __init__(self):\n",
    "        self.point = Point()\n",
    "        self.trace = [self.point.snip()]\n",
    "\n",
    "    def forward(self, dp=(0, 0, 0), ax=0, ay=0, az=0):\n",
    "        self.point.translate(dp)\n",
    "        self.point.rotate(ax, ay, az)\n",
    "        self.trace.append(self.point.snip())\n",
    "        pass"
   ]
  },
  {
   "cell_type": "code",
   "execution_count": 5,
   "id": "f210367e-ea74-4af7-b1da-cb61dac74088",
   "metadata": {
    "scrolled": true,
    "tags": []
   },
   "outputs": [
    {
     "data": {
      "text/plain": [
       "[[array([0., 0., 0.], dtype=float32),\n",
       "  array([1., 0., 0.]),\n",
       "  array([0., 1., 0.]),\n",
       "  array([0., 0., 1.])],\n",
       " [array([-48.23, 196.47,  44.74], dtype=float32),\n",
       "  array([ 0.10386623, -0.87372632,  0.47519903]),\n",
       "  array([0.93361282, 0.25037175, 0.25628322]),\n",
       "  array([-0.34289781,  0.41703274,  0.84172727])],\n",
       " [array([-108.9 ,  377.38,   97.41], dtype=float32),\n",
       "  array([-0.97428234, -0.09504764,  0.20430338]),\n",
       "  array([ 0.20529835, -0.74815549,  0.63096431]),\n",
       "  array([0.09287903, 0.65668053, 0.7484278 ])],\n",
       " [array([-135.28   ,  556.72003,  153.75   ], dtype=float32),\n",
       "  array([-0.20118624,  0.95499381, -0.21797   ]),\n",
       "  array([-0.95607274, -0.1430118 ,  0.25587601]),\n",
       "  array([0.21318772, 0.25987391, 0.94181556])],\n",
       " [array([-111.25   ,  734.17004,  201.09   ], dtype=float32),\n",
       "  array([0.93961049, 0.33722766, 0.05839199]),\n",
       "  array([-0.30806299,  0.9076896 , -0.28495048]),\n",
       "  array([-0.14909498,  0.24975405,  0.95676204])],\n",
       " [array([-61.38   , 906.11005, 240.26   ], dtype=float32),\n",
       "  array([ 0.51170681, -0.75943361,  0.40176702]),\n",
       "  array([ 0.83690391,  0.54634197, -0.03320078]),\n",
       "  array([-0.19428839,  0.35322945,  0.91513987])],\n",
       " [array([   2.579999, 1068.01    ,  268.84    ], dtype=float32),\n",
       "  array([-0.62287522, -0.7785848 ,  0.07636869]),\n",
       "  array([ 0.69198967, -0.50278643,  0.51803098]),\n",
       "  array([-0.36493391,  0.37551501,  0.85194585])],\n",
       " [array([  70.33, 1212.62,  292.58], dtype=float32),\n",
       "  array([-0.75198128,  0.18266333, -0.63337056]),\n",
       "  array([-0.54486505, -0.7130266 ,  0.44126539]),\n",
       "  array([-0.37100705,  0.6769248 ,  0.63570952])],\n",
       " [array([ 131.69, 1325.09,  314.08], dtype=float32),\n",
       "  array([ 0.37879736,  0.5870111 , -0.71549321]),\n",
       "  array([-0.92534335,  0.25349449, -0.28192237]),\n",
       "  array([0.01588203, 0.76886833, 0.63920986])],\n",
       " [array([ 181.44   , 1403.1799 ,  333.43997], dtype=float32),\n",
       "  array([ 0.97452429, -0.20111066, -0.09928194]),\n",
       "  array([ 0.12592129,  0.8569251 , -0.49982316]),\n",
       "  array([0.18559695, 0.4745881 , 0.86041845])],\n",
       " [array([ 218.     , 1452.9999 ,  352.40997], dtype=float32),\n",
       "  array([ 0.2044873 , -0.94789443,  0.24429714]),\n",
       "  array([ 0.97824613,  0.20679387, -0.01645599]),\n",
       "  array([-0.03492061,  0.24234777,  0.96956078])],\n",
       " [array([ 246.61   , 1481.4299 ,  368.61996], dtype=float32),\n",
       "  array([-0.83177935, -0.55486761, -0.01628044]),\n",
       "  array([ 0.51544396, -0.78290329,  0.34839627]),\n",
       "  array([-0.20605982,  0.28139717,  0.93720595])],\n",
       " [array([ 269.72   , 1498.19   ,  383.65997], dtype=float32),\n",
       "  array([-0.74437586,  0.57479312, -0.33987858]),\n",
       "  array([-0.6387987 , -0.76122424,  0.11168656]),\n",
       "  array([-0.19452715,  0.30025077,  0.93381404])],\n",
       " [array([ 295.46   , 1500.8899 ,  396.48996], dtype=float32),\n",
       "  array([ 0.40243122,  0.90501268, -0.13784473]),\n",
       "  array([-0.88173321,  0.34270049, -0.3241958 ]),\n",
       "  array([-0.24616185,  0.25200879,  0.93589311])],\n",
       " [array([ 322.91998, 1483.82   ,  408.54996], dtype=float32),\n",
       "  array([ 0.98916687, -0.03072228,  0.14354459]),\n",
       "  array([ 0.07618626,  0.94328918, -0.3231117 ]),\n",
       "  array([-0.12547733,  0.33054751,  0.93541102])],\n",
       " [array([ 372.59   , 1453.49   ,  418.53995], dtype=float32),\n",
       "  array([ 0.67735275, -0.64642986, -0.35117188]),\n",
       "  array([0.72810217, 0.65732513, 0.19439885]),\n",
       "  array([ 0.10516888, -0.3873656 ,  0.91590796])],\n",
       " [array([ 465.68   , 1410.25   ,  411.21994], dtype=float32),\n",
       "  array([ 0.56332749, -0.11489014, -0.81820682]),\n",
       "  array([ 0.76847315, -0.29090251,  0.56993399]),\n",
       "  array([-0.30349822, -0.94982945, -0.0755834 ])],\n",
       " [array([ 579.43   , 1347.43   ,  368.55994], dtype=float32),\n",
       "  array([ 0.7707455 ,  0.45099286, -0.45006312]),\n",
       "  array([ 0.50674061, -0.86208959,  0.00393678]),\n",
       "  array([-0.38621927, -0.23109952, -0.89298807])],\n",
       " [array([ 688.71   , 1276.4601 ,  312.90994], dtype=float32),\n",
       "  array([0.62628389, 0.77764389, 0.05512221]),\n",
       "  array([ 0.73126156, -0.56147618, -0.38729966]),\n",
       "  array([-0.2702314 ,  0.28286829, -0.92030458])],\n",
       " [array([ 746.81   , 1236.1201 ,  276.07996], dtype=float32),\n",
       "  array([-0.12011649,  0.98228006,  0.14386772]),\n",
       "  array([ 0.99135191,  0.1263951 , -0.03529403]),\n",
       "  array([-0.05285279,  0.13838415, -0.98896735])],\n",
       " [array([ 757.89   , 1250.7902 ,  261.51996], dtype=float32),\n",
       "  array([-0.57182078,  0.36382757, -0.7352894 ]),\n",
       "  array([0.31024642, 0.92562098, 0.21673246]),\n",
       "  array([ 0.75945254, -0.10418878, -0.64216551])]]"
      ]
     },
     "execution_count": 5,
     "metadata": {},
     "output_type": "execute_result"
    }
   ],
   "source": [
    "mt = MotionTrace()\n",
    "\n",
    "for d in X3[0]:\n",
    "    mt.forward(dp=d[3:], ax=d[0], ay=d[1], az=d[2])\n",
    "\n",
    "mt.trace"
   ]
  },
  {
   "cell_type": "code",
   "execution_count": 28,
   "id": "f377d2a1-eb0e-456c-bc85-39bff8455bfe",
   "metadata": {},
   "outputs": [
    {
     "data": {
      "application/vnd.jupyter.widget-view+json": {
       "model_id": "f0d1488ed5164790bbf9233f1dd1a753",
       "version_major": 2,
       "version_minor": 0
      },
      "text/plain": [
       "  0%|          | 0/21 [00:00<?, ?it/s]"
      ]
     },
     "metadata": {},
     "output_type": "display_data"
    },
    {
     "data": {
      "application/vnd.plotly.v1+json": {
       "config": {
        "plotlyServerURL": "https://plot.ly"
       },
       "data": [
        {
         "line": {
          "color": "red",
          "width": 2
         },
         "marker": {
          "color": "red",
          "size": 2
         },
         "type": "scatter3d",
         "x": [
          0,
          100
         ],
         "y": [
          0,
          0
         ],
         "z": [
          0,
          0
         ]
        },
        {
         "line": {
          "color": "green",
          "width": 2
         },
         "marker": {
          "color": "green",
          "size": 2
         },
         "type": "scatter3d",
         "x": [
          0,
          0
         ],
         "y": [
          0,
          100
         ],
         "z": [
          0,
          0
         ]
        },
        {
         "line": {
          "color": "blue",
          "width": 2
         },
         "marker": {
          "color": "blue",
          "size": 2
         },
         "type": "scatter3d",
         "x": [
          0,
          0
         ],
         "y": [
          0,
          0
         ],
         "z": [
          0,
          100
         ]
        },
        {
         "line": {
          "color": "red",
          "width": 2
         },
         "marker": {
          "color": "red",
          "size": 2
         },
         "type": "scatter3d",
         "x": [
          -48.22999954223633,
          -37.843376139384716
         ],
         "y": [
          196.47000122070312,
          109.09736914524855
         ],
         "z": [
          44.7400016784668,
          92.25990507161967
         ]
        },
        {
         "line": {
          "color": "green",
          "width": 2
         },
         "marker": {
          "color": "green",
          "size": 2
         },
         "type": "scatter3d",
         "x": [
          -48.22999954223633,
          45.13128253288181
         ],
         "y": [
          196.47000122070312,
          221.50717601889522
         ],
         "z": [
          44.7400016784668,
          70.36832365660258
         ]
        },
        {
         "line": {
          "color": "blue",
          "width": 2
         },
         "marker": {
          "color": "blue",
          "size": 2
         },
         "type": "scatter3d",
         "x": [
          -48.22999954223633,
          -82.51978028778146
         ],
         "y": [
          196.47000122070312,
          238.173274981069
         ],
         "z": [
          44.7400016784668,
          128.912728223889
         ]
        },
        {
         "line": {
          "color": "red",
          "width": 2
         },
         "marker": {
          "color": "red",
          "size": 2
         },
         "type": "scatter3d",
         "x": [
          -108.9000015258789,
          -206.32823533184785
         ],
         "y": [
          377.3800048828125,
          367.8752408094572
         ],
         "z": [
          97.41000366210938,
          117.84034182277878
         ]
        },
        {
         "line": {
          "color": "green",
          "width": 2
         },
         "marker": {
          "color": "green",
          "size": 2
         },
         "type": "scatter3d",
         "x": [
          -108.9000015258789,
          -88.3701666179555
         ],
         "y": [
          377.3800048828125,
          302.56445635984267
         ],
         "z": [
          97.41000366210938,
          160.5064344475394
         ]
        },
        {
         "line": {
          "color": "blue",
          "width": 2
         },
         "marker": {
          "color": "blue",
          "size": 2
         },
         "type": "scatter3d",
         "x": [
          -108.9000015258789,
          -99.61209885073953
         ],
         "y": [
          377.3800048828125,
          443.0480576871785
         ],
         "z": [
          97.41000366210938,
          172.25278357293402
         ]
        },
        {
         "line": {
          "color": "red",
          "width": 2
         },
         "marker": {
          "color": "red",
          "size": 2
         },
         "type": "scatter3d",
         "x": [
          -135.27999877929688,
          -155.39862255136887
         ],
         "y": [
          556.7200317382812,
          652.2194126174429
         ],
         "z": [
          153.75,
          131.952999536298
         ]
        },
        {
         "line": {
          "color": "green",
          "width": 2
         },
         "marker": {
          "color": "green",
          "size": 2
         },
         "type": "scatter3d",
         "x": [
          -135.27999877929688,
          -230.88727317336205
         ],
         "y": [
          556.7200317382812,
          542.4188518218588
         ],
         "z": [
          153.75,
          179.33760121496428
         ]
        },
        {
         "line": {
          "color": "blue",
          "width": 2
         },
         "marker": {
          "color": "blue",
          "size": 2
         },
         "type": "scatter3d",
         "x": [
          -135.27999877929688,
          -113.96122628987462
         ],
         "y": [
          556.7200317382812,
          582.7074230020253
         ],
         "z": [
          153.75,
          247.9315557041257
         ]
        },
        {
         "line": {
          "color": "red",
          "width": 2
         },
         "marker": {
          "color": "red",
          "size": 2
         },
         "type": "scatter3d",
         "x": [
          -111.25,
          -17.28895069855821
         ],
         "y": [
          734.1700439453125,
          767.892810331053
         ],
         "z": [
          201.08999633789062,
          206.92919503846565
         ]
        },
        {
         "line": {
          "color": "green",
          "width": 2
         },
         "marker": {
          "color": "green",
          "size": 2
         },
         "type": "scatter3d",
         "x": [
          -111.25,
          -142.05629918641853
         ],
         "y": [
          734.1700439453125,
          824.9390042886481
         ],
         "z": [
          201.08999633789062,
          172.59494819568107
         ]
        },
        {
         "line": {
          "color": "blue",
          "width": 2
         },
         "marker": {
          "color": "blue",
          "size": 2
         },
         "type": "scatter3d",
         "x": [
          -111.25,
          -126.15949846939515
         ],
         "y": [
          734.1700439453125,
          759.145449156895
         ],
         "z": [
          201.08999633789062,
          296.7662002232265
         ]
        },
        {
         "line": {
          "color": "red",
          "width": 2
         },
         "marker": {
          "color": "red",
          "size": 2
         },
         "type": "scatter3d",
         "x": [
          -61.380001068115234,
          -10.209319876449143
         ],
         "y": [
          906.1100463867188,
          830.1666856691596
         ],
         "z": [
          240.25999450683594,
          280.4366960800558
         ]
        },
        {
         "line": {
          "color": "green",
          "width": 2
         },
         "marker": {
          "color": "green",
          "size": 2
         },
         "type": "scatter3d",
         "x": [
          -61.380001068115234,
          22.310390208639618
         ],
         "y": [
          906.1100463867188,
          960.7442434413553
         ],
         "z": [
          240.25999450683594,
          236.9399161735996
         ]
        },
        {
         "line": {
          "color": "blue",
          "width": 2
         },
         "marker": {
          "color": "blue",
          "size": 2
         },
         "type": "scatter3d",
         "x": [
          -61.380001068115234,
          -80.80884031096625
         ],
         "y": [
          906.1100463867188,
          941.4329918346546
         ],
         "z": [
          240.25999450683594,
          331.77398103653314
         ]
        },
        {
         "line": {
          "color": "red",
          "width": 2
         },
         "marker": {
          "color": "red",
          "size": 2
         },
         "type": "scatter3d",
         "x": [
          2.5799989700317383,
          -59.707522577520066
         ],
         "y": [
          1068.010009765625,
          990.1515298873178
         ],
         "z": [
          268.8399963378906,
          276.47686549367023
         ]
        },
        {
         "line": {
          "color": "green",
          "width": 2
         },
         "marker": {
          "color": "green",
          "size": 2
         },
         "type": "scatter3d",
         "x": [
          2.5799989700317383,
          71.77896637818857
         ],
         "y": [
          1068.010009765625,
          1017.7313670850565
         ],
         "z": [
          268.8399963378906,
          320.6430946993262
         ]
        },
        {
         "line": {
          "color": "blue",
          "width": 2
         },
         "marker": {
          "color": "blue",
          "size": 2
         },
         "type": "scatter3d",
         "x": [
          2.5799989700317383,
          -33.9133917892293
         ],
         "y": [
          1068.010009765625,
          1105.561510417915
         ],
         "z": [
          268.8399963378906,
          354.03458084684246
         ]
        },
        {
         "line": {
          "color": "red",
          "width": 2
         },
         "marker": {
          "color": "red",
          "size": 2
         },
         "type": "scatter3d",
         "x": [
          70.33000183105469,
          -4.868125994202586
         ],
         "y": [
          1212.6199951171875,
          1230.8863280805497
         ],
         "z": [
          292.5799865722656,
          229.24293065988638
         ]
        },
        {
         "line": {
          "color": "green",
          "width": 2
         },
         "marker": {
          "color": "green",
          "size": 2
         },
         "type": "scatter3d",
         "x": [
          70.33000183105469,
          15.843496356905874
         ],
         "y": [
          1212.6199951171875,
          1141.317335590535
         ],
         "z": [
          292.5799865722656,
          336.70652581614746
         ]
        },
        {
         "line": {
          "color": "blue",
          "width": 2
         },
         "marker": {
          "color": "blue",
          "size": 2
         },
         "type": "scatter3d",
         "x": [
          70.33000183105469,
          33.22929708314165
         ],
         "y": [
          1212.6199951171875,
          1280.3124749395274
         ],
         "z": [
          292.5799865722656,
          356.15093813593427
         ]
        },
        {
         "line": {
          "color": "red",
          "width": 2
         },
         "marker": {
          "color": "red",
          "size": 2
         },
         "type": "scatter3d",
         "x": [
          131.69000244140625,
          169.5697384718245
         ],
         "y": [
          1325.0899658203125,
          1383.7910756827675
         ],
         "z": [
          314.0799865722656,
          242.53066582649038
         ]
        },
        {
         "line": {
          "color": "green",
          "width": 2
         },
         "marker": {
          "color": "green",
          "size": 2
         },
         "type": "scatter3d",
         "x": [
          131.69000244140625,
          39.15566714171186
         ],
         "y": [
          1325.0899658203125,
          1350.4394152025843
         ],
         "z": [
          314.0799865722656,
          285.8877499341524
         ]
        },
        {
         "line": {
          "color": "blue",
          "width": 2
         },
         "marker": {
          "color": "blue",
          "size": 2
         },
         "type": "scatter3d",
         "x": [
          131.69000244140625,
          133.27820548559365
         ],
         "y": [
          1325.0899658203125,
          1401.9767990034502
         ],
         "z": [
          314.0799865722656,
          378.0009729082007
         ]
        },
        {
         "line": {
          "color": "red",
          "width": 2
         },
         "marker": {
          "color": "red",
          "size": 2
         },
         "type": "scatter3d",
         "x": [
          181.44000244140625,
          278.8924319121162
         ],
         "y": [
          1403.179931640625,
          1383.0688659848192
         ],
         "z": [
          333.4399719238281,
          323.51177830947023
         ]
        },
        {
         "line": {
          "color": "green",
          "width": 2
         },
         "marker": {
          "color": "green",
          "size": 2
         },
         "type": "scatter3d",
         "x": [
          181.44000244140625,
          194.03213174855205
         ],
         "y": [
          1403.179931640625,
          1488.8724421392365
         ],
         "z": [
          333.4399719238281,
          283.45765581145224
         ]
        },
        {
         "line": {
          "color": "blue",
          "width": 2
         },
         "marker": {
          "color": "blue",
          "size": 2
         },
         "type": "scatter3d",
         "x": [
          181.44000244140625,
          199.99969720636463
         ],
         "y": [
          1403.179931640625,
          1450.6387420200817
         ],
         "z": [
          333.4399719238281,
          419.4818166715923
         ]
        },
        {
         "line": {
          "color": "red",
          "width": 2
         },
         "marker": {
          "color": "red",
          "size": 2
         },
         "type": "scatter3d",
         "x": [
          218,
          238.44873009760062
         ],
         "y": [
          1452.9998779296875,
          1358.2104348517466
         ],
         "z": [
          352.40997314453125,
          376.83968698586193
         ]
        },
        {
         "line": {
          "color": "green",
          "width": 2
         },
         "marker": {
          "color": "green",
          "size": 2
         },
         "type": "scatter3d",
         "x": [
          218,
          315.8246131998957
         ],
         "y": [
          1452.9998779296875,
          1473.6792651562346
         ],
         "z": [
          352.40997314453125,
          350.7643740969745
         ]
        },
        {
         "line": {
          "color": "blue",
          "width": 2
         },
         "marker": {
          "color": "blue",
          "size": 2
         },
         "type": "scatter3d",
         "x": [
          218,
          214.5079390488888
         ],
         "y": [
          1452.9998779296875,
          1477.2346551085343
         ],
         "z": [
          352.40997314453125,
          449.3660512696564
         ]
        },
        {
         "line": {
          "color": "red",
          "width": 2
         },
         "marker": {
          "color": "red",
          "size": 2
         },
         "type": "scatter3d",
         "x": [
          246.61000061035156,
          163.43206602984677
         ],
         "y": [
          1481.429931640625,
          1425.9431704084159
         ],
         "z": [
          368.6199645996094,
          366.9919207178062
         ]
        },
        {
         "line": {
          "color": "green",
          "width": 2
         },
         "marker": {
          "color": "green",
          "size": 2
         },
         "type": "scatter3d",
         "x": [
          246.61000061035156,
          298.15439623267486
         ],
         "y": [
          1481.429931640625,
          1403.1396023374793
         ],
         "z": [
          368.6199645996094,
          403.459591714928
         ]
        },
        {
         "line": {
          "color": "blue",
          "width": 2
         },
         "marker": {
          "color": "blue",
          "size": 2
         },
         "type": "scatter3d",
         "x": [
          246.61000061035156,
          226.00401898241927
         ],
         "y": [
          1481.429931640625,
          1509.569648511355
         ],
         "z": [
          368.6199645996094,
          462.34055921778537
         ]
        },
        {
         "line": {
          "color": "red",
          "width": 2
         },
         "marker": {
          "color": "red",
          "size": 2
         },
         "type": "scatter3d",
         "x": [
          269.7200012207031,
          195.28241566223912
         ],
         "y": [
          1498.18994140625,
          1555.6692536888102
         ],
         "z": [
          383.65997314453125,
          349.6721147867254
         ]
        },
        {
         "line": {
          "color": "green",
          "width": 2
         },
         "marker": {
          "color": "green",
          "size": 2
         },
         "type": "scatter3d",
         "x": [
          269.7200012207031,
          205.84013165079227
         ],
         "y": [
          1498.18994140625,
          1422.067517703515
         ],
         "z": [
          383.65997314453125,
          394.82862898811754
         ]
        },
        {
         "line": {
          "color": "blue",
          "width": 2
         },
         "marker": {
          "color": "blue",
          "size": 2
         },
         "type": "scatter3d",
         "x": [
          269.7200012207031,
          250.2672862441881
         ],
         "y": [
          1498.18994140625,
          1528.2150187441223
         ],
         "z": [
          383.65997314453125,
          477.0413771332123
         ]
        },
        {
         "line": {
          "color": "red",
          "width": 2
         },
         "marker": {
          "color": "red",
          "size": 2
         },
         "type": "scatter3d",
         "x": [
          295.4599914550781,
          335.7031131872665
         ],
         "y": [
          1500.889892578125,
          1591.391160226593
         ],
         "z": [
          396.4899597167969,
          382.70548630398076
         ]
        },
        {
         "line": {
          "color": "green",
          "width": 2
         },
         "marker": {
          "color": "green",
          "size": 2
         },
         "type": "scatter3d",
         "x": [
          295.4599914550781,
          207.28667016954304
         ],
         "y": [
          1500.889892578125,
          1535.1599414360633
         ],
         "z": [
          396.4899597167969,
          364.0703797572673
         ]
        },
        {
         "line": {
          "color": "blue",
          "width": 2
         },
         "marker": {
          "color": "blue",
          "size": 2
         },
         "type": "scatter3d",
         "x": [
          295.4599914550781,
          270.84380639877674
         ],
         "y": [
          1500.889892578125,
          1526.0907716361041
         ],
         "z": [
          396.4899597167969,
          490.07927068754304
         ]
        },
        {
         "line": {
          "color": "red",
          "width": 2
         },
         "marker": {
          "color": "red",
          "size": 2
         },
         "type": "scatter3d",
         "x": [
          322.91998291015625,
          421.83666966127373
         ],
         "y": [
          1483.8199462890625,
          1480.7477185654357
         ],
         "z": [
          408.5499572753906,
          422.9044164778641
         ]
        },
        {
         "line": {
          "color": "green",
          "width": 2
         },
         "marker": {
          "color": "green",
          "size": 2
         },
         "type": "scatter3d",
         "x": [
          322.91998291015625,
          330.53860934384926
         ],
         "y": [
          1483.8199462890625,
          1578.1488647017054
         ],
         "z": [
          408.5499572753906,
          376.2387876530329
         ]
        },
        {
         "line": {
          "color": "blue",
          "width": 2
         },
         "marker": {
          "color": "blue",
          "size": 2
         },
         "type": "scatter3d",
         "x": [
          322.91998291015625,
          310.3722495114451
         ],
         "y": [
          1483.8199462890625,
          1516.8746973532457
         ],
         "z": [
          408.5499572753906,
          502.09105957079737
         ]
        },
        {
         "line": {
          "color": "red",
          "width": 2
         },
         "marker": {
          "color": "red",
          "size": 2
         },
         "type": "scatter3d",
         "x": [
          372.5899963378906,
          440.3252710373564
         ],
         "y": [
          1453.489990234375,
          1388.8470039986055
         ],
         "z": [
          418.5399475097656,
          383.422759525674
         ]
        },
        {
         "line": {
          "color": "green",
          "width": 2
         },
         "marker": {
          "color": "green",
          "size": 2
         },
         "type": "scatter3d",
         "x": [
          372.5899963378906,
          445.4002128578484
         ],
         "y": [
          1453.489990234375,
          1519.2225030613538
         ],
         "z": [
          418.5399475097656,
          437.9798324828805
         ]
        },
        {
         "line": {
          "color": "blue",
          "width": 2
         },
         "marker": {
          "color": "blue",
          "size": 2
         },
         "type": "scatter3d",
         "x": [
          372.5899963378906,
          383.1068842665879
         ],
         "y": [
          1453.489990234375,
          1414.7534301396377
         ],
         "z": [
          418.5399475097656,
          510.1307438832115
         ]
        },
        {
         "line": {
          "color": "red",
          "width": 2
         },
         "marker": {
          "color": "red",
          "size": 2
         },
         "type": "scatter3d",
         "x": [
          465.67999267578125,
          522.0127412925015
         ],
         "y": [
          1410.25,
          1398.7609862509564
         ],
         "z": [
          411.2199401855469,
          329.3992582257899
         ]
        },
        {
         "line": {
          "color": "green",
          "width": 2
         },
         "marker": {
          "color": "green",
          "size": 2
         },
         "type": "scatter3d",
         "x": [
          465.67999267578125,
          542.5273073118135
         ],
         "y": [
          1410.25,
          1381.159748573377
         ],
         "z": [
          411.2199401855469,
          468.2133389714284
         ]
        },
        {
         "line": {
          "color": "blue",
          "width": 2
         },
         "marker": {
          "color": "blue",
          "size": 2
         },
         "type": "scatter3d",
         "x": [
          465.67999267578125,
          435.3301711521533
         ],
         "y": [
          1410.25,
          1315.2670550308628
         ],
         "z": [
          411.2199401855469,
          403.6616005217201
         ]
        },
        {
         "line": {
          "color": "red",
          "width": 2
         },
         "marker": {
          "color": "red",
          "size": 2
         },
         "type": "scatter3d",
         "x": [
          579.4299926757812,
          656.5045428714502
         ],
         "y": [
          1347.4300537109375,
          1392.529339356311
         ],
         "z": [
          368.5599365234375,
          323.55362422824595
         ]
        },
        {
         "line": {
          "color": "green",
          "width": 2
         },
         "marker": {
          "color": "green",
          "size": 2
         },
         "type": "scatter3d",
         "x": [
          579.4299926757812,
          630.104053519953
         ],
         "y": [
          1347.4300537109375,
          1261.2210949229673
         ],
         "z": [
          368.5599365234375,
          368.9536143806097
         ]
        },
        {
         "line": {
          "color": "blue",
          "width": 2
         },
         "marker": {
          "color": "blue",
          "size": 2
         },
         "type": "scatter3d",
         "x": [
          579.4299926757812,
          540.8080653585631
         ],
         "y": [
          1347.4300537109375,
          1324.3201021971188
         ],
         "z": [
          368.5599365234375,
          279.2611298610164
         ]
        },
        {
         "line": {
          "color": "red",
          "width": 2
         },
         "marker": {
          "color": "red",
          "size": 2
         },
         "type": "scatter3d",
         "x": [
          688.7100219726562,
          751.3384113714476
         ],
         "y": [
          1276.4600830078125,
          1354.224472416621
         ],
         "z": [
          312.9099426269531,
          318.4221637027589
         ]
        },
        {
         "line": {
          "color": "green",
          "width": 2
         },
         "marker": {
          "color": "green",
          "size": 2
         },
         "type": "scatter3d",
         "x": [
          688.7100219726562,
          761.8361781939939
         ],
         "y": [
          1276.4600830078125,
          1220.312464699901
         ],
         "z": [
          312.9099426269531,
          274.17997703644915
         ]
        },
        {
         "line": {
          "color": "blue",
          "width": 2
         },
         "marker": {
          "color": "blue",
          "size": 2
         },
         "type": "scatter3d",
         "x": [
          688.7100219726562,
          661.6868815628909
         ],
         "y": [
          1276.4600830078125,
          1304.7469120670105
         ],
         "z": [
          312.9099426269531,
          220.8794847112727
         ]
        },
        {
         "line": {
          "color": "red",
          "width": 2
         },
         "marker": {
          "color": "red",
          "size": 2
         },
         "type": "scatter3d",
         "x": [
          746.8099975585938,
          734.7983487640229
         ],
         "y": [
          1236.1201171875,
          1334.3481227444115
         ],
         "z": [
          276.0799560546875,
          290.4667283663366
         ]
        },
        {
         "line": {
          "color": "green",
          "width": 2
         },
         "marker": {
          "color": "green",
          "size": 2
         },
         "type": "scatter3d",
         "x": [
          746.8099975585938,
          845.9451886560914
         ],
         "y": [
          1236.1201171875,
          1248.7596267332847
         ],
         "z": [
          276.0799560546875,
          272.55055320085586
         ]
        },
        {
         "line": {
          "color": "blue",
          "width": 2
         },
         "marker": {
          "color": "blue",
          "size": 2
         },
         "type": "scatter3d",
         "x": [
          746.8099975585938,
          741.524718067545
         ],
         "y": [
          1236.1201171875,
          1249.9585319360674
         ],
         "z": [
          276.0799560546875,
          177.18322153858665
         ]
        },
        {
         "line": {
          "color": "red",
          "width": 2
         },
         "marker": {
          "color": "red",
          "size": 2
         },
         "type": "scatter3d",
         "x": [
          757.8900146484375,
          700.7079368540146
         ],
         "y": [
          1250.7901611328125,
          1287.1729178566125
         ],
         "z": [
          261.51995849609375,
          187.99101866768768
         ]
        },
        {
         "line": {
          "color": "green",
          "width": 2
         },
         "marker": {
          "color": "green",
          "size": 2
         },
         "type": "scatter3d",
         "x": [
          757.8900146484375,
          788.9146569644607
         ],
         "y": [
          1250.7901611328125,
          1343.3522591400515
         ],
         "z": [
          261.51995849609375,
          283.19320425350446
         ]
        },
        {
         "line": {
          "color": "blue",
          "width": 2
         },
         "marker": {
          "color": "blue",
          "size": 2
         },
         "type": "scatter3d",
         "x": [
          757.8900146484375,
          833.8352682741605
         ],
         "y": [
          1250.7901611328125,
          1240.3712828018647
         ],
         "z": [
          261.51995849609375,
          197.3034074671766
         ]
        }
       ],
       "layout": {
        "autosize": true,
        "scene": {
         "aspectmode": "auto",
         "aspectratio": {
          "x": 1.1261924540612138,
          "y": 1.6643375637674231,
          "z": 0.5335141860135486
         },
         "camera": {
          "center": {
           "x": 0,
           "y": 0,
           "z": 0
          },
          "eye": {
           "x": 1.5506009500748568,
           "y": 0.5002677624931351,
           "z": 0.9068128746454837
          },
          "projection": {
           "type": "perspective"
          },
          "up": {
           "x": 0,
           "y": 0,
           "z": 1
          }
         }
        },
        "template": {
         "data": {
          "bar": [
           {
            "error_x": {
             "color": "#2a3f5f"
            },
            "error_y": {
             "color": "#2a3f5f"
            },
            "marker": {
             "line": {
              "color": "#E5ECF6",
              "width": 0.5
             },
             "pattern": {
              "fillmode": "overlay",
              "size": 10,
              "solidity": 0.2
             }
            },
            "type": "bar"
           }
          ],
          "barpolar": [
           {
            "marker": {
             "line": {
              "color": "#E5ECF6",
              "width": 0.5
             },
             "pattern": {
              "fillmode": "overlay",
              "size": 10,
              "solidity": 0.2
             }
            },
            "type": "barpolar"
           }
          ],
          "carpet": [
           {
            "aaxis": {
             "endlinecolor": "#2a3f5f",
             "gridcolor": "white",
             "linecolor": "white",
             "minorgridcolor": "white",
             "startlinecolor": "#2a3f5f"
            },
            "baxis": {
             "endlinecolor": "#2a3f5f",
             "gridcolor": "white",
             "linecolor": "white",
             "minorgridcolor": "white",
             "startlinecolor": "#2a3f5f"
            },
            "type": "carpet"
           }
          ],
          "choropleth": [
           {
            "colorbar": {
             "outlinewidth": 0,
             "ticks": ""
            },
            "type": "choropleth"
           }
          ],
          "contour": [
           {
            "colorbar": {
             "outlinewidth": 0,
             "ticks": ""
            },
            "colorscale": [
             [
              0,
              "#0d0887"
             ],
             [
              0.1111111111111111,
              "#46039f"
             ],
             [
              0.2222222222222222,
              "#7201a8"
             ],
             [
              0.3333333333333333,
              "#9c179e"
             ],
             [
              0.4444444444444444,
              "#bd3786"
             ],
             [
              0.5555555555555556,
              "#d8576b"
             ],
             [
              0.6666666666666666,
              "#ed7953"
             ],
             [
              0.7777777777777778,
              "#fb9f3a"
             ],
             [
              0.8888888888888888,
              "#fdca26"
             ],
             [
              1,
              "#f0f921"
             ]
            ],
            "type": "contour"
           }
          ],
          "contourcarpet": [
           {
            "colorbar": {
             "outlinewidth": 0,
             "ticks": ""
            },
            "type": "contourcarpet"
           }
          ],
          "heatmap": [
           {
            "colorbar": {
             "outlinewidth": 0,
             "ticks": ""
            },
            "colorscale": [
             [
              0,
              "#0d0887"
             ],
             [
              0.1111111111111111,
              "#46039f"
             ],
             [
              0.2222222222222222,
              "#7201a8"
             ],
             [
              0.3333333333333333,
              "#9c179e"
             ],
             [
              0.4444444444444444,
              "#bd3786"
             ],
             [
              0.5555555555555556,
              "#d8576b"
             ],
             [
              0.6666666666666666,
              "#ed7953"
             ],
             [
              0.7777777777777778,
              "#fb9f3a"
             ],
             [
              0.8888888888888888,
              "#fdca26"
             ],
             [
              1,
              "#f0f921"
             ]
            ],
            "type": "heatmap"
           }
          ],
          "heatmapgl": [
           {
            "colorbar": {
             "outlinewidth": 0,
             "ticks": ""
            },
            "colorscale": [
             [
              0,
              "#0d0887"
             ],
             [
              0.1111111111111111,
              "#46039f"
             ],
             [
              0.2222222222222222,
              "#7201a8"
             ],
             [
              0.3333333333333333,
              "#9c179e"
             ],
             [
              0.4444444444444444,
              "#bd3786"
             ],
             [
              0.5555555555555556,
              "#d8576b"
             ],
             [
              0.6666666666666666,
              "#ed7953"
             ],
             [
              0.7777777777777778,
              "#fb9f3a"
             ],
             [
              0.8888888888888888,
              "#fdca26"
             ],
             [
              1,
              "#f0f921"
             ]
            ],
            "type": "heatmapgl"
           }
          ],
          "histogram": [
           {
            "marker": {
             "pattern": {
              "fillmode": "overlay",
              "size": 10,
              "solidity": 0.2
             }
            },
            "type": "histogram"
           }
          ],
          "histogram2d": [
           {
            "colorbar": {
             "outlinewidth": 0,
             "ticks": ""
            },
            "colorscale": [
             [
              0,
              "#0d0887"
             ],
             [
              0.1111111111111111,
              "#46039f"
             ],
             [
              0.2222222222222222,
              "#7201a8"
             ],
             [
              0.3333333333333333,
              "#9c179e"
             ],
             [
              0.4444444444444444,
              "#bd3786"
             ],
             [
              0.5555555555555556,
              "#d8576b"
             ],
             [
              0.6666666666666666,
              "#ed7953"
             ],
             [
              0.7777777777777778,
              "#fb9f3a"
             ],
             [
              0.8888888888888888,
              "#fdca26"
             ],
             [
              1,
              "#f0f921"
             ]
            ],
            "type": "histogram2d"
           }
          ],
          "histogram2dcontour": [
           {
            "colorbar": {
             "outlinewidth": 0,
             "ticks": ""
            },
            "colorscale": [
             [
              0,
              "#0d0887"
             ],
             [
              0.1111111111111111,
              "#46039f"
             ],
             [
              0.2222222222222222,
              "#7201a8"
             ],
             [
              0.3333333333333333,
              "#9c179e"
             ],
             [
              0.4444444444444444,
              "#bd3786"
             ],
             [
              0.5555555555555556,
              "#d8576b"
             ],
             [
              0.6666666666666666,
              "#ed7953"
             ],
             [
              0.7777777777777778,
              "#fb9f3a"
             ],
             [
              0.8888888888888888,
              "#fdca26"
             ],
             [
              1,
              "#f0f921"
             ]
            ],
            "type": "histogram2dcontour"
           }
          ],
          "mesh3d": [
           {
            "colorbar": {
             "outlinewidth": 0,
             "ticks": ""
            },
            "type": "mesh3d"
           }
          ],
          "parcoords": [
           {
            "line": {
             "colorbar": {
              "outlinewidth": 0,
              "ticks": ""
             }
            },
            "type": "parcoords"
           }
          ],
          "pie": [
           {
            "automargin": true,
            "type": "pie"
           }
          ],
          "scatter": [
           {
            "marker": {
             "colorbar": {
              "outlinewidth": 0,
              "ticks": ""
             }
            },
            "type": "scatter"
           }
          ],
          "scatter3d": [
           {
            "line": {
             "colorbar": {
              "outlinewidth": 0,
              "ticks": ""
             }
            },
            "marker": {
             "colorbar": {
              "outlinewidth": 0,
              "ticks": ""
             }
            },
            "type": "scatter3d"
           }
          ],
          "scattercarpet": [
           {
            "marker": {
             "colorbar": {
              "outlinewidth": 0,
              "ticks": ""
             }
            },
            "type": "scattercarpet"
           }
          ],
          "scattergeo": [
           {
            "marker": {
             "colorbar": {
              "outlinewidth": 0,
              "ticks": ""
             }
            },
            "type": "scattergeo"
           }
          ],
          "scattergl": [
           {
            "marker": {
             "colorbar": {
              "outlinewidth": 0,
              "ticks": ""
             }
            },
            "type": "scattergl"
           }
          ],
          "scattermapbox": [
           {
            "marker": {
             "colorbar": {
              "outlinewidth": 0,
              "ticks": ""
             }
            },
            "type": "scattermapbox"
           }
          ],
          "scatterpolar": [
           {
            "marker": {
             "colorbar": {
              "outlinewidth": 0,
              "ticks": ""
             }
            },
            "type": "scatterpolar"
           }
          ],
          "scatterpolargl": [
           {
            "marker": {
             "colorbar": {
              "outlinewidth": 0,
              "ticks": ""
             }
            },
            "type": "scatterpolargl"
           }
          ],
          "scatterternary": [
           {
            "marker": {
             "colorbar": {
              "outlinewidth": 0,
              "ticks": ""
             }
            },
            "type": "scatterternary"
           }
          ],
          "surface": [
           {
            "colorbar": {
             "outlinewidth": 0,
             "ticks": ""
            },
            "colorscale": [
             [
              0,
              "#0d0887"
             ],
             [
              0.1111111111111111,
              "#46039f"
             ],
             [
              0.2222222222222222,
              "#7201a8"
             ],
             [
              0.3333333333333333,
              "#9c179e"
             ],
             [
              0.4444444444444444,
              "#bd3786"
             ],
             [
              0.5555555555555556,
              "#d8576b"
             ],
             [
              0.6666666666666666,
              "#ed7953"
             ],
             [
              0.7777777777777778,
              "#fb9f3a"
             ],
             [
              0.8888888888888888,
              "#fdca26"
             ],
             [
              1,
              "#f0f921"
             ]
            ],
            "type": "surface"
           }
          ],
          "table": [
           {
            "cells": {
             "fill": {
              "color": "#EBF0F8"
             },
             "line": {
              "color": "white"
             }
            },
            "header": {
             "fill": {
              "color": "#C8D4E3"
             },
             "line": {
              "color": "white"
             }
            },
            "type": "table"
           }
          ]
         },
         "layout": {
          "annotationdefaults": {
           "arrowcolor": "#2a3f5f",
           "arrowhead": 0,
           "arrowwidth": 1
          },
          "autotypenumbers": "strict",
          "coloraxis": {
           "colorbar": {
            "outlinewidth": 0,
            "ticks": ""
           }
          },
          "colorscale": {
           "diverging": [
            [
             0,
             "#8e0152"
            ],
            [
             0.1,
             "#c51b7d"
            ],
            [
             0.2,
             "#de77ae"
            ],
            [
             0.3,
             "#f1b6da"
            ],
            [
             0.4,
             "#fde0ef"
            ],
            [
             0.5,
             "#f7f7f7"
            ],
            [
             0.6,
             "#e6f5d0"
            ],
            [
             0.7,
             "#b8e186"
            ],
            [
             0.8,
             "#7fbc41"
            ],
            [
             0.9,
             "#4d9221"
            ],
            [
             1,
             "#276419"
            ]
           ],
           "sequential": [
            [
             0,
             "#0d0887"
            ],
            [
             0.1111111111111111,
             "#46039f"
            ],
            [
             0.2222222222222222,
             "#7201a8"
            ],
            [
             0.3333333333333333,
             "#9c179e"
            ],
            [
             0.4444444444444444,
             "#bd3786"
            ],
            [
             0.5555555555555556,
             "#d8576b"
            ],
            [
             0.6666666666666666,
             "#ed7953"
            ],
            [
             0.7777777777777778,
             "#fb9f3a"
            ],
            [
             0.8888888888888888,
             "#fdca26"
            ],
            [
             1,
             "#f0f921"
            ]
           ],
           "sequentialminus": [
            [
             0,
             "#0d0887"
            ],
            [
             0.1111111111111111,
             "#46039f"
            ],
            [
             0.2222222222222222,
             "#7201a8"
            ],
            [
             0.3333333333333333,
             "#9c179e"
            ],
            [
             0.4444444444444444,
             "#bd3786"
            ],
            [
             0.5555555555555556,
             "#d8576b"
            ],
            [
             0.6666666666666666,
             "#ed7953"
            ],
            [
             0.7777777777777778,
             "#fb9f3a"
            ],
            [
             0.8888888888888888,
             "#fdca26"
            ],
            [
             1,
             "#f0f921"
            ]
           ]
          },
          "colorway": [
           "#636efa",
           "#EF553B",
           "#00cc96",
           "#ab63fa",
           "#FFA15A",
           "#19d3f3",
           "#FF6692",
           "#B6E880",
           "#FF97FF",
           "#FECB52"
          ],
          "font": {
           "color": "#2a3f5f"
          },
          "geo": {
           "bgcolor": "white",
           "lakecolor": "white",
           "landcolor": "#E5ECF6",
           "showlakes": true,
           "showland": true,
           "subunitcolor": "white"
          },
          "hoverlabel": {
           "align": "left"
          },
          "hovermode": "closest",
          "mapbox": {
           "style": "light"
          },
          "paper_bgcolor": "white",
          "plot_bgcolor": "#E5ECF6",
          "polar": {
           "angularaxis": {
            "gridcolor": "white",
            "linecolor": "white",
            "ticks": ""
           },
           "bgcolor": "#E5ECF6",
           "radialaxis": {
            "gridcolor": "white",
            "linecolor": "white",
            "ticks": ""
           }
          },
          "scene": {
           "xaxis": {
            "backgroundcolor": "#E5ECF6",
            "gridcolor": "white",
            "gridwidth": 2,
            "linecolor": "white",
            "showbackground": true,
            "ticks": "",
            "zerolinecolor": "white"
           },
           "yaxis": {
            "backgroundcolor": "#E5ECF6",
            "gridcolor": "white",
            "gridwidth": 2,
            "linecolor": "white",
            "showbackground": true,
            "ticks": "",
            "zerolinecolor": "white"
           },
           "zaxis": {
            "backgroundcolor": "#E5ECF6",
            "gridcolor": "white",
            "gridwidth": 2,
            "linecolor": "white",
            "showbackground": true,
            "ticks": "",
            "zerolinecolor": "white"
           }
          },
          "shapedefaults": {
           "line": {
            "color": "#2a3f5f"
           }
          },
          "ternary": {
           "aaxis": {
            "gridcolor": "white",
            "linecolor": "white",
            "ticks": ""
           },
           "baxis": {
            "gridcolor": "white",
            "linecolor": "white",
            "ticks": ""
           },
           "bgcolor": "#E5ECF6",
           "caxis": {
            "gridcolor": "white",
            "linecolor": "white",
            "ticks": ""
           }
          },
          "title": {
           "x": 0.05
          },
          "xaxis": {
           "automargin": true,
           "gridcolor": "white",
           "linecolor": "white",
           "ticks": "",
           "title": {
            "standoff": 15
           },
           "zerolinecolor": "white",
           "zerolinewidth": 2
          },
          "yaxis": {
           "automargin": true,
           "gridcolor": "white",
           "linecolor": "white",
           "ticks": "",
           "title": {
            "standoff": 15
           },
           "zerolinecolor": "white",
           "zerolinewidth": 2
          }
         }
        }
       }
      },
      "text/html": [
       "<div>                            <div id=\"3498dc4b-6bd8-473c-8497-ae1e03f1b8d2\" class=\"plotly-graph-div\" style=\"height:525px; width:100%;\"></div>            <script type=\"text/javascript\">                require([\"plotly\"], function(Plotly) {                    window.PLOTLYENV=window.PLOTLYENV || {};                                    if (document.getElementById(\"3498dc4b-6bd8-473c-8497-ae1e03f1b8d2\")) {                    Plotly.newPlot(                        \"3498dc4b-6bd8-473c-8497-ae1e03f1b8d2\",                        [{\"line\":{\"color\":\"red\",\"width\":2},\"marker\":{\"color\":\"red\",\"size\":2},\"type\":\"scatter3d\",\"x\":[0.0,100.0],\"y\":[0.0,0.0],\"z\":[0.0,0.0]},{\"line\":{\"color\":\"green\",\"width\":2},\"marker\":{\"color\":\"green\",\"size\":2},\"type\":\"scatter3d\",\"x\":[0.0,0.0],\"y\":[0.0,100.0],\"z\":[0.0,0.0]},{\"line\":{\"color\":\"blue\",\"width\":2},\"marker\":{\"color\":\"blue\",\"size\":2},\"type\":\"scatter3d\",\"x\":[0.0,0.0],\"y\":[0.0,0.0],\"z\":[0.0,100.0]},{\"line\":{\"color\":\"red\",\"width\":2},\"marker\":{\"color\":\"red\",\"size\":2},\"type\":\"scatter3d\",\"x\":[-48.22999954223633,-37.843376139384716],\"y\":[196.47000122070312,109.09736914524855],\"z\":[44.7400016784668,92.25990507161967]},{\"line\":{\"color\":\"green\",\"width\":2},\"marker\":{\"color\":\"green\",\"size\":2},\"type\":\"scatter3d\",\"x\":[-48.22999954223633,45.13128253288181],\"y\":[196.47000122070312,221.50717601889522],\"z\":[44.7400016784668,70.36832365660258]},{\"line\":{\"color\":\"blue\",\"width\":2},\"marker\":{\"color\":\"blue\",\"size\":2},\"type\":\"scatter3d\",\"x\":[-48.22999954223633,-82.51978028778146],\"y\":[196.47000122070312,238.173274981069],\"z\":[44.7400016784668,128.912728223889]},{\"line\":{\"color\":\"red\",\"width\":2},\"marker\":{\"color\":\"red\",\"size\":2},\"type\":\"scatter3d\",\"x\":[-108.9000015258789,-206.32823533184785],\"y\":[377.3800048828125,367.8752408094572],\"z\":[97.41000366210938,117.84034182277878]},{\"line\":{\"color\":\"green\",\"width\":2},\"marker\":{\"color\":\"green\",\"size\":2},\"type\":\"scatter3d\",\"x\":[-108.9000015258789,-88.3701666179555],\"y\":[377.3800048828125,302.56445635984267],\"z\":[97.41000366210938,160.5064344475394]},{\"line\":{\"color\":\"blue\",\"width\":2},\"marker\":{\"color\":\"blue\",\"size\":2},\"type\":\"scatter3d\",\"x\":[-108.9000015258789,-99.61209885073953],\"y\":[377.3800048828125,443.0480576871785],\"z\":[97.41000366210938,172.25278357293402]},{\"line\":{\"color\":\"red\",\"width\":2},\"marker\":{\"color\":\"red\",\"size\":2},\"type\":\"scatter3d\",\"x\":[-135.27999877929688,-155.39862255136887],\"y\":[556.7200317382812,652.2194126174429],\"z\":[153.75,131.952999536298]},{\"line\":{\"color\":\"green\",\"width\":2},\"marker\":{\"color\":\"green\",\"size\":2},\"type\":\"scatter3d\",\"x\":[-135.27999877929688,-230.88727317336205],\"y\":[556.7200317382812,542.4188518218588],\"z\":[153.75,179.33760121496428]},{\"line\":{\"color\":\"blue\",\"width\":2},\"marker\":{\"color\":\"blue\",\"size\":2},\"type\":\"scatter3d\",\"x\":[-135.27999877929688,-113.96122628987462],\"y\":[556.7200317382812,582.7074230020253],\"z\":[153.75,247.9315557041257]},{\"line\":{\"color\":\"red\",\"width\":2},\"marker\":{\"color\":\"red\",\"size\":2},\"type\":\"scatter3d\",\"x\":[-111.25,-17.28895069855821],\"y\":[734.1700439453125,767.892810331053],\"z\":[201.08999633789062,206.92919503846565]},{\"line\":{\"color\":\"green\",\"width\":2},\"marker\":{\"color\":\"green\",\"size\":2},\"type\":\"scatter3d\",\"x\":[-111.25,-142.05629918641853],\"y\":[734.1700439453125,824.9390042886481],\"z\":[201.08999633789062,172.59494819568107]},{\"line\":{\"color\":\"blue\",\"width\":2},\"marker\":{\"color\":\"blue\",\"size\":2},\"type\":\"scatter3d\",\"x\":[-111.25,-126.15949846939515],\"y\":[734.1700439453125,759.145449156895],\"z\":[201.08999633789062,296.7662002232265]},{\"line\":{\"color\":\"red\",\"width\":2},\"marker\":{\"color\":\"red\",\"size\":2},\"type\":\"scatter3d\",\"x\":[-61.380001068115234,-10.209319876449143],\"y\":[906.1100463867188,830.1666856691596],\"z\":[240.25999450683594,280.4366960800558]},{\"line\":{\"color\":\"green\",\"width\":2},\"marker\":{\"color\":\"green\",\"size\":2},\"type\":\"scatter3d\",\"x\":[-61.380001068115234,22.310390208639618],\"y\":[906.1100463867188,960.7442434413553],\"z\":[240.25999450683594,236.9399161735996]},{\"line\":{\"color\":\"blue\",\"width\":2},\"marker\":{\"color\":\"blue\",\"size\":2},\"type\":\"scatter3d\",\"x\":[-61.380001068115234,-80.80884031096625],\"y\":[906.1100463867188,941.4329918346546],\"z\":[240.25999450683594,331.77398103653314]},{\"line\":{\"color\":\"red\",\"width\":2},\"marker\":{\"color\":\"red\",\"size\":2},\"type\":\"scatter3d\",\"x\":[2.5799989700317383,-59.707522577520066],\"y\":[1068.010009765625,990.1515298873178],\"z\":[268.8399963378906,276.47686549367023]},{\"line\":{\"color\":\"green\",\"width\":2},\"marker\":{\"color\":\"green\",\"size\":2},\"type\":\"scatter3d\",\"x\":[2.5799989700317383,71.77896637818857],\"y\":[1068.010009765625,1017.7313670850565],\"z\":[268.8399963378906,320.6430946993262]},{\"line\":{\"color\":\"blue\",\"width\":2},\"marker\":{\"color\":\"blue\",\"size\":2},\"type\":\"scatter3d\",\"x\":[2.5799989700317383,-33.9133917892293],\"y\":[1068.010009765625,1105.561510417915],\"z\":[268.8399963378906,354.03458084684246]},{\"line\":{\"color\":\"red\",\"width\":2},\"marker\":{\"color\":\"red\",\"size\":2},\"type\":\"scatter3d\",\"x\":[70.33000183105469,-4.868125994202586],\"y\":[1212.6199951171875,1230.8863280805497],\"z\":[292.5799865722656,229.24293065988638]},{\"line\":{\"color\":\"green\",\"width\":2},\"marker\":{\"color\":\"green\",\"size\":2},\"type\":\"scatter3d\",\"x\":[70.33000183105469,15.843496356905874],\"y\":[1212.6199951171875,1141.317335590535],\"z\":[292.5799865722656,336.70652581614746]},{\"line\":{\"color\":\"blue\",\"width\":2},\"marker\":{\"color\":\"blue\",\"size\":2},\"type\":\"scatter3d\",\"x\":[70.33000183105469,33.22929708314165],\"y\":[1212.6199951171875,1280.3124749395274],\"z\":[292.5799865722656,356.15093813593427]},{\"line\":{\"color\":\"red\",\"width\":2},\"marker\":{\"color\":\"red\",\"size\":2},\"type\":\"scatter3d\",\"x\":[131.69000244140625,169.5697384718245],\"y\":[1325.0899658203125,1383.7910756827675],\"z\":[314.0799865722656,242.53066582649038]},{\"line\":{\"color\":\"green\",\"width\":2},\"marker\":{\"color\":\"green\",\"size\":2},\"type\":\"scatter3d\",\"x\":[131.69000244140625,39.15566714171186],\"y\":[1325.0899658203125,1350.4394152025843],\"z\":[314.0799865722656,285.8877499341524]},{\"line\":{\"color\":\"blue\",\"width\":2},\"marker\":{\"color\":\"blue\",\"size\":2},\"type\":\"scatter3d\",\"x\":[131.69000244140625,133.27820548559365],\"y\":[1325.0899658203125,1401.9767990034502],\"z\":[314.0799865722656,378.0009729082007]},{\"line\":{\"color\":\"red\",\"width\":2},\"marker\":{\"color\":\"red\",\"size\":2},\"type\":\"scatter3d\",\"x\":[181.44000244140625,278.8924319121162],\"y\":[1403.179931640625,1383.0688659848192],\"z\":[333.4399719238281,323.51177830947023]},{\"line\":{\"color\":\"green\",\"width\":2},\"marker\":{\"color\":\"green\",\"size\":2},\"type\":\"scatter3d\",\"x\":[181.44000244140625,194.03213174855205],\"y\":[1403.179931640625,1488.8724421392365],\"z\":[333.4399719238281,283.45765581145224]},{\"line\":{\"color\":\"blue\",\"width\":2},\"marker\":{\"color\":\"blue\",\"size\":2},\"type\":\"scatter3d\",\"x\":[181.44000244140625,199.99969720636463],\"y\":[1403.179931640625,1450.6387420200817],\"z\":[333.4399719238281,419.4818166715923]},{\"line\":{\"color\":\"red\",\"width\":2},\"marker\":{\"color\":\"red\",\"size\":2},\"type\":\"scatter3d\",\"x\":[218.0,238.44873009760062],\"y\":[1452.9998779296875,1358.2104348517466],\"z\":[352.40997314453125,376.83968698586193]},{\"line\":{\"color\":\"green\",\"width\":2},\"marker\":{\"color\":\"green\",\"size\":2},\"type\":\"scatter3d\",\"x\":[218.0,315.8246131998957],\"y\":[1452.9998779296875,1473.6792651562346],\"z\":[352.40997314453125,350.7643740969745]},{\"line\":{\"color\":\"blue\",\"width\":2},\"marker\":{\"color\":\"blue\",\"size\":2},\"type\":\"scatter3d\",\"x\":[218.0,214.5079390488888],\"y\":[1452.9998779296875,1477.2346551085343],\"z\":[352.40997314453125,449.3660512696564]},{\"line\":{\"color\":\"red\",\"width\":2},\"marker\":{\"color\":\"red\",\"size\":2},\"type\":\"scatter3d\",\"x\":[246.61000061035156,163.43206602984677],\"y\":[1481.429931640625,1425.9431704084159],\"z\":[368.6199645996094,366.9919207178062]},{\"line\":{\"color\":\"green\",\"width\":2},\"marker\":{\"color\":\"green\",\"size\":2},\"type\":\"scatter3d\",\"x\":[246.61000061035156,298.15439623267486],\"y\":[1481.429931640625,1403.1396023374793],\"z\":[368.6199645996094,403.459591714928]},{\"line\":{\"color\":\"blue\",\"width\":2},\"marker\":{\"color\":\"blue\",\"size\":2},\"type\":\"scatter3d\",\"x\":[246.61000061035156,226.00401898241927],\"y\":[1481.429931640625,1509.569648511355],\"z\":[368.6199645996094,462.34055921778537]},{\"line\":{\"color\":\"red\",\"width\":2},\"marker\":{\"color\":\"red\",\"size\":2},\"type\":\"scatter3d\",\"x\":[269.7200012207031,195.28241566223912],\"y\":[1498.18994140625,1555.6692536888102],\"z\":[383.65997314453125,349.6721147867254]},{\"line\":{\"color\":\"green\",\"width\":2},\"marker\":{\"color\":\"green\",\"size\":2},\"type\":\"scatter3d\",\"x\":[269.7200012207031,205.84013165079227],\"y\":[1498.18994140625,1422.067517703515],\"z\":[383.65997314453125,394.82862898811754]},{\"line\":{\"color\":\"blue\",\"width\":2},\"marker\":{\"color\":\"blue\",\"size\":2},\"type\":\"scatter3d\",\"x\":[269.7200012207031,250.2672862441881],\"y\":[1498.18994140625,1528.2150187441223],\"z\":[383.65997314453125,477.0413771332123]},{\"line\":{\"color\":\"red\",\"width\":2},\"marker\":{\"color\":\"red\",\"size\":2},\"type\":\"scatter3d\",\"x\":[295.4599914550781,335.7031131872665],\"y\":[1500.889892578125,1591.391160226593],\"z\":[396.4899597167969,382.70548630398076]},{\"line\":{\"color\":\"green\",\"width\":2},\"marker\":{\"color\":\"green\",\"size\":2},\"type\":\"scatter3d\",\"x\":[295.4599914550781,207.28667016954304],\"y\":[1500.889892578125,1535.1599414360633],\"z\":[396.4899597167969,364.0703797572673]},{\"line\":{\"color\":\"blue\",\"width\":2},\"marker\":{\"color\":\"blue\",\"size\":2},\"type\":\"scatter3d\",\"x\":[295.4599914550781,270.84380639877674],\"y\":[1500.889892578125,1526.0907716361041],\"z\":[396.4899597167969,490.07927068754304]},{\"line\":{\"color\":\"red\",\"width\":2},\"marker\":{\"color\":\"red\",\"size\":2},\"type\":\"scatter3d\",\"x\":[322.91998291015625,421.83666966127373],\"y\":[1483.8199462890625,1480.7477185654357],\"z\":[408.5499572753906,422.9044164778641]},{\"line\":{\"color\":\"green\",\"width\":2},\"marker\":{\"color\":\"green\",\"size\":2},\"type\":\"scatter3d\",\"x\":[322.91998291015625,330.53860934384926],\"y\":[1483.8199462890625,1578.1488647017054],\"z\":[408.5499572753906,376.2387876530329]},{\"line\":{\"color\":\"blue\",\"width\":2},\"marker\":{\"color\":\"blue\",\"size\":2},\"type\":\"scatter3d\",\"x\":[322.91998291015625,310.3722495114451],\"y\":[1483.8199462890625,1516.8746973532457],\"z\":[408.5499572753906,502.09105957079737]},{\"line\":{\"color\":\"red\",\"width\":2},\"marker\":{\"color\":\"red\",\"size\":2},\"type\":\"scatter3d\",\"x\":[372.5899963378906,440.3252710373564],\"y\":[1453.489990234375,1388.8470039986055],\"z\":[418.5399475097656,383.422759525674]},{\"line\":{\"color\":\"green\",\"width\":2},\"marker\":{\"color\":\"green\",\"size\":2},\"type\":\"scatter3d\",\"x\":[372.5899963378906,445.4002128578484],\"y\":[1453.489990234375,1519.2225030613538],\"z\":[418.5399475097656,437.9798324828805]},{\"line\":{\"color\":\"blue\",\"width\":2},\"marker\":{\"color\":\"blue\",\"size\":2},\"type\":\"scatter3d\",\"x\":[372.5899963378906,383.1068842665879],\"y\":[1453.489990234375,1414.7534301396377],\"z\":[418.5399475097656,510.1307438832115]},{\"line\":{\"color\":\"red\",\"width\":2},\"marker\":{\"color\":\"red\",\"size\":2},\"type\":\"scatter3d\",\"x\":[465.67999267578125,522.0127412925015],\"y\":[1410.25,1398.7609862509564],\"z\":[411.2199401855469,329.3992582257899]},{\"line\":{\"color\":\"green\",\"width\":2},\"marker\":{\"color\":\"green\",\"size\":2},\"type\":\"scatter3d\",\"x\":[465.67999267578125,542.5273073118135],\"y\":[1410.25,1381.159748573377],\"z\":[411.2199401855469,468.2133389714284]},{\"line\":{\"color\":\"blue\",\"width\":2},\"marker\":{\"color\":\"blue\",\"size\":2},\"type\":\"scatter3d\",\"x\":[465.67999267578125,435.3301711521533],\"y\":[1410.25,1315.2670550308628],\"z\":[411.2199401855469,403.6616005217201]},{\"line\":{\"color\":\"red\",\"width\":2},\"marker\":{\"color\":\"red\",\"size\":2},\"type\":\"scatter3d\",\"x\":[579.4299926757812,656.5045428714502],\"y\":[1347.4300537109375,1392.529339356311],\"z\":[368.5599365234375,323.55362422824595]},{\"line\":{\"color\":\"green\",\"width\":2},\"marker\":{\"color\":\"green\",\"size\":2},\"type\":\"scatter3d\",\"x\":[579.4299926757812,630.104053519953],\"y\":[1347.4300537109375,1261.2210949229673],\"z\":[368.5599365234375,368.9536143806097]},{\"line\":{\"color\":\"blue\",\"width\":2},\"marker\":{\"color\":\"blue\",\"size\":2},\"type\":\"scatter3d\",\"x\":[579.4299926757812,540.8080653585631],\"y\":[1347.4300537109375,1324.3201021971188],\"z\":[368.5599365234375,279.2611298610164]},{\"line\":{\"color\":\"red\",\"width\":2},\"marker\":{\"color\":\"red\",\"size\":2},\"type\":\"scatter3d\",\"x\":[688.7100219726562,751.3384113714476],\"y\":[1276.4600830078125,1354.224472416621],\"z\":[312.9099426269531,318.4221637027589]},{\"line\":{\"color\":\"green\",\"width\":2},\"marker\":{\"color\":\"green\",\"size\":2},\"type\":\"scatter3d\",\"x\":[688.7100219726562,761.8361781939939],\"y\":[1276.4600830078125,1220.312464699901],\"z\":[312.9099426269531,274.17997703644915]},{\"line\":{\"color\":\"blue\",\"width\":2},\"marker\":{\"color\":\"blue\",\"size\":2},\"type\":\"scatter3d\",\"x\":[688.7100219726562,661.6868815628909],\"y\":[1276.4600830078125,1304.7469120670105],\"z\":[312.9099426269531,220.8794847112727]},{\"line\":{\"color\":\"red\",\"width\":2},\"marker\":{\"color\":\"red\",\"size\":2},\"type\":\"scatter3d\",\"x\":[746.8099975585938,734.7983487640229],\"y\":[1236.1201171875,1334.3481227444115],\"z\":[276.0799560546875,290.4667283663366]},{\"line\":{\"color\":\"green\",\"width\":2},\"marker\":{\"color\":\"green\",\"size\":2},\"type\":\"scatter3d\",\"x\":[746.8099975585938,845.9451886560914],\"y\":[1236.1201171875,1248.7596267332847],\"z\":[276.0799560546875,272.55055320085586]},{\"line\":{\"color\":\"blue\",\"width\":2},\"marker\":{\"color\":\"blue\",\"size\":2},\"type\":\"scatter3d\",\"x\":[746.8099975585938,741.524718067545],\"y\":[1236.1201171875,1249.9585319360674],\"z\":[276.0799560546875,177.18322153858665]},{\"line\":{\"color\":\"red\",\"width\":2},\"marker\":{\"color\":\"red\",\"size\":2},\"type\":\"scatter3d\",\"x\":[757.8900146484375,700.7079368540146],\"y\":[1250.7901611328125,1287.1729178566125],\"z\":[261.51995849609375,187.99101866768768]},{\"line\":{\"color\":\"green\",\"width\":2},\"marker\":{\"color\":\"green\",\"size\":2},\"type\":\"scatter3d\",\"x\":[757.8900146484375,788.9146569644607],\"y\":[1250.7901611328125,1343.3522591400515],\"z\":[261.51995849609375,283.19320425350446]},{\"line\":{\"color\":\"blue\",\"width\":2},\"marker\":{\"color\":\"blue\",\"size\":2},\"type\":\"scatter3d\",\"x\":[757.8900146484375,833.8352682741605],\"y\":[1250.7901611328125,1240.3712828018647],\"z\":[261.51995849609375,197.3034074671766]}],                        {\"template\":{\"data\":{\"bar\":[{\"error_x\":{\"color\":\"#2a3f5f\"},\"error_y\":{\"color\":\"#2a3f5f\"},\"marker\":{\"line\":{\"color\":\"#E5ECF6\",\"width\":0.5},\"pattern\":{\"fillmode\":\"overlay\",\"size\":10,\"solidity\":0.2}},\"type\":\"bar\"}],\"barpolar\":[{\"marker\":{\"line\":{\"color\":\"#E5ECF6\",\"width\":0.5},\"pattern\":{\"fillmode\":\"overlay\",\"size\":10,\"solidity\":0.2}},\"type\":\"barpolar\"}],\"carpet\":[{\"aaxis\":{\"endlinecolor\":\"#2a3f5f\",\"gridcolor\":\"white\",\"linecolor\":\"white\",\"minorgridcolor\":\"white\",\"startlinecolor\":\"#2a3f5f\"},\"baxis\":{\"endlinecolor\":\"#2a3f5f\",\"gridcolor\":\"white\",\"linecolor\":\"white\",\"minorgridcolor\":\"white\",\"startlinecolor\":\"#2a3f5f\"},\"type\":\"carpet\"}],\"choropleth\":[{\"colorbar\":{\"outlinewidth\":0,\"ticks\":\"\"},\"type\":\"choropleth\"}],\"contour\":[{\"colorbar\":{\"outlinewidth\":0,\"ticks\":\"\"},\"colorscale\":[[0.0,\"#0d0887\"],[0.1111111111111111,\"#46039f\"],[0.2222222222222222,\"#7201a8\"],[0.3333333333333333,\"#9c179e\"],[0.4444444444444444,\"#bd3786\"],[0.5555555555555556,\"#d8576b\"],[0.6666666666666666,\"#ed7953\"],[0.7777777777777778,\"#fb9f3a\"],[0.8888888888888888,\"#fdca26\"],[1.0,\"#f0f921\"]],\"type\":\"contour\"}],\"contourcarpet\":[{\"colorbar\":{\"outlinewidth\":0,\"ticks\":\"\"},\"type\":\"contourcarpet\"}],\"heatmap\":[{\"colorbar\":{\"outlinewidth\":0,\"ticks\":\"\"},\"colorscale\":[[0.0,\"#0d0887\"],[0.1111111111111111,\"#46039f\"],[0.2222222222222222,\"#7201a8\"],[0.3333333333333333,\"#9c179e\"],[0.4444444444444444,\"#bd3786\"],[0.5555555555555556,\"#d8576b\"],[0.6666666666666666,\"#ed7953\"],[0.7777777777777778,\"#fb9f3a\"],[0.8888888888888888,\"#fdca26\"],[1.0,\"#f0f921\"]],\"type\":\"heatmap\"}],\"heatmapgl\":[{\"colorbar\":{\"outlinewidth\":0,\"ticks\":\"\"},\"colorscale\":[[0.0,\"#0d0887\"],[0.1111111111111111,\"#46039f\"],[0.2222222222222222,\"#7201a8\"],[0.3333333333333333,\"#9c179e\"],[0.4444444444444444,\"#bd3786\"],[0.5555555555555556,\"#d8576b\"],[0.6666666666666666,\"#ed7953\"],[0.7777777777777778,\"#fb9f3a\"],[0.8888888888888888,\"#fdca26\"],[1.0,\"#f0f921\"]],\"type\":\"heatmapgl\"}],\"histogram\":[{\"marker\":{\"pattern\":{\"fillmode\":\"overlay\",\"size\":10,\"solidity\":0.2}},\"type\":\"histogram\"}],\"histogram2d\":[{\"colorbar\":{\"outlinewidth\":0,\"ticks\":\"\"},\"colorscale\":[[0.0,\"#0d0887\"],[0.1111111111111111,\"#46039f\"],[0.2222222222222222,\"#7201a8\"],[0.3333333333333333,\"#9c179e\"],[0.4444444444444444,\"#bd3786\"],[0.5555555555555556,\"#d8576b\"],[0.6666666666666666,\"#ed7953\"],[0.7777777777777778,\"#fb9f3a\"],[0.8888888888888888,\"#fdca26\"],[1.0,\"#f0f921\"]],\"type\":\"histogram2d\"}],\"histogram2dcontour\":[{\"colorbar\":{\"outlinewidth\":0,\"ticks\":\"\"},\"colorscale\":[[0.0,\"#0d0887\"],[0.1111111111111111,\"#46039f\"],[0.2222222222222222,\"#7201a8\"],[0.3333333333333333,\"#9c179e\"],[0.4444444444444444,\"#bd3786\"],[0.5555555555555556,\"#d8576b\"],[0.6666666666666666,\"#ed7953\"],[0.7777777777777778,\"#fb9f3a\"],[0.8888888888888888,\"#fdca26\"],[1.0,\"#f0f921\"]],\"type\":\"histogram2dcontour\"}],\"mesh3d\":[{\"colorbar\":{\"outlinewidth\":0,\"ticks\":\"\"},\"type\":\"mesh3d\"}],\"parcoords\":[{\"line\":{\"colorbar\":{\"outlinewidth\":0,\"ticks\":\"\"}},\"type\":\"parcoords\"}],\"pie\":[{\"automargin\":true,\"type\":\"pie\"}],\"scatter\":[{\"marker\":{\"colorbar\":{\"outlinewidth\":0,\"ticks\":\"\"}},\"type\":\"scatter\"}],\"scatter3d\":[{\"line\":{\"colorbar\":{\"outlinewidth\":0,\"ticks\":\"\"}},\"marker\":{\"colorbar\":{\"outlinewidth\":0,\"ticks\":\"\"}},\"type\":\"scatter3d\"}],\"scattercarpet\":[{\"marker\":{\"colorbar\":{\"outlinewidth\":0,\"ticks\":\"\"}},\"type\":\"scattercarpet\"}],\"scattergeo\":[{\"marker\":{\"colorbar\":{\"outlinewidth\":0,\"ticks\":\"\"}},\"type\":\"scattergeo\"}],\"scattergl\":[{\"marker\":{\"colorbar\":{\"outlinewidth\":0,\"ticks\":\"\"}},\"type\":\"scattergl\"}],\"scattermapbox\":[{\"marker\":{\"colorbar\":{\"outlinewidth\":0,\"ticks\":\"\"}},\"type\":\"scattermapbox\"}],\"scatterpolar\":[{\"marker\":{\"colorbar\":{\"outlinewidth\":0,\"ticks\":\"\"}},\"type\":\"scatterpolar\"}],\"scatterpolargl\":[{\"marker\":{\"colorbar\":{\"outlinewidth\":0,\"ticks\":\"\"}},\"type\":\"scatterpolargl\"}],\"scatterternary\":[{\"marker\":{\"colorbar\":{\"outlinewidth\":0,\"ticks\":\"\"}},\"type\":\"scatterternary\"}],\"surface\":[{\"colorbar\":{\"outlinewidth\":0,\"ticks\":\"\"},\"colorscale\":[[0.0,\"#0d0887\"],[0.1111111111111111,\"#46039f\"],[0.2222222222222222,\"#7201a8\"],[0.3333333333333333,\"#9c179e\"],[0.4444444444444444,\"#bd3786\"],[0.5555555555555556,\"#d8576b\"],[0.6666666666666666,\"#ed7953\"],[0.7777777777777778,\"#fb9f3a\"],[0.8888888888888888,\"#fdca26\"],[1.0,\"#f0f921\"]],\"type\":\"surface\"}],\"table\":[{\"cells\":{\"fill\":{\"color\":\"#EBF0F8\"},\"line\":{\"color\":\"white\"}},\"header\":{\"fill\":{\"color\":\"#C8D4E3\"},\"line\":{\"color\":\"white\"}},\"type\":\"table\"}]},\"layout\":{\"annotationdefaults\":{\"arrowcolor\":\"#2a3f5f\",\"arrowhead\":0,\"arrowwidth\":1},\"autotypenumbers\":\"strict\",\"coloraxis\":{\"colorbar\":{\"outlinewidth\":0,\"ticks\":\"\"}},\"colorscale\":{\"diverging\":[[0,\"#8e0152\"],[0.1,\"#c51b7d\"],[0.2,\"#de77ae\"],[0.3,\"#f1b6da\"],[0.4,\"#fde0ef\"],[0.5,\"#f7f7f7\"],[0.6,\"#e6f5d0\"],[0.7,\"#b8e186\"],[0.8,\"#7fbc41\"],[0.9,\"#4d9221\"],[1,\"#276419\"]],\"sequential\":[[0.0,\"#0d0887\"],[0.1111111111111111,\"#46039f\"],[0.2222222222222222,\"#7201a8\"],[0.3333333333333333,\"#9c179e\"],[0.4444444444444444,\"#bd3786\"],[0.5555555555555556,\"#d8576b\"],[0.6666666666666666,\"#ed7953\"],[0.7777777777777778,\"#fb9f3a\"],[0.8888888888888888,\"#fdca26\"],[1.0,\"#f0f921\"]],\"sequentialminus\":[[0.0,\"#0d0887\"],[0.1111111111111111,\"#46039f\"],[0.2222222222222222,\"#7201a8\"],[0.3333333333333333,\"#9c179e\"],[0.4444444444444444,\"#bd3786\"],[0.5555555555555556,\"#d8576b\"],[0.6666666666666666,\"#ed7953\"],[0.7777777777777778,\"#fb9f3a\"],[0.8888888888888888,\"#fdca26\"],[1.0,\"#f0f921\"]]},\"colorway\":[\"#636efa\",\"#EF553B\",\"#00cc96\",\"#ab63fa\",\"#FFA15A\",\"#19d3f3\",\"#FF6692\",\"#B6E880\",\"#FF97FF\",\"#FECB52\"],\"font\":{\"color\":\"#2a3f5f\"},\"geo\":{\"bgcolor\":\"white\",\"lakecolor\":\"white\",\"landcolor\":\"#E5ECF6\",\"showlakes\":true,\"showland\":true,\"subunitcolor\":\"white\"},\"hoverlabel\":{\"align\":\"left\"},\"hovermode\":\"closest\",\"mapbox\":{\"style\":\"light\"},\"paper_bgcolor\":\"white\",\"plot_bgcolor\":\"#E5ECF6\",\"polar\":{\"angularaxis\":{\"gridcolor\":\"white\",\"linecolor\":\"white\",\"ticks\":\"\"},\"bgcolor\":\"#E5ECF6\",\"radialaxis\":{\"gridcolor\":\"white\",\"linecolor\":\"white\",\"ticks\":\"\"}},\"scene\":{\"xaxis\":{\"backgroundcolor\":\"#E5ECF6\",\"gridcolor\":\"white\",\"gridwidth\":2,\"linecolor\":\"white\",\"showbackground\":true,\"ticks\":\"\",\"zerolinecolor\":\"white\"},\"yaxis\":{\"backgroundcolor\":\"#E5ECF6\",\"gridcolor\":\"white\",\"gridwidth\":2,\"linecolor\":\"white\",\"showbackground\":true,\"ticks\":\"\",\"zerolinecolor\":\"white\"},\"zaxis\":{\"backgroundcolor\":\"#E5ECF6\",\"gridcolor\":\"white\",\"gridwidth\":2,\"linecolor\":\"white\",\"showbackground\":true,\"ticks\":\"\",\"zerolinecolor\":\"white\"}},\"shapedefaults\":{\"line\":{\"color\":\"#2a3f5f\"}},\"ternary\":{\"aaxis\":{\"gridcolor\":\"white\",\"linecolor\":\"white\",\"ticks\":\"\"},\"baxis\":{\"gridcolor\":\"white\",\"linecolor\":\"white\",\"ticks\":\"\"},\"bgcolor\":\"#E5ECF6\",\"caxis\":{\"gridcolor\":\"white\",\"linecolor\":\"white\",\"ticks\":\"\"}},\"title\":{\"x\":0.05},\"xaxis\":{\"automargin\":true,\"gridcolor\":\"white\",\"linecolor\":\"white\",\"ticks\":\"\",\"title\":{\"standoff\":15},\"zerolinecolor\":\"white\",\"zerolinewidth\":2},\"yaxis\":{\"automargin\":true,\"gridcolor\":\"white\",\"linecolor\":\"white\",\"ticks\":\"\",\"title\":{\"standoff\":15},\"zerolinecolor\":\"white\",\"zerolinewidth\":2}}}},                        {\"responsive\": true}                    ).then(function(){\n",
       "                            \n",
       "var gd = document.getElementById('3498dc4b-6bd8-473c-8497-ae1e03f1b8d2');\n",
       "var x = new MutationObserver(function (mutations, observer) {{\n",
       "        var display = window.getComputedStyle(gd).display;\n",
       "        if (!display || display === 'none') {{\n",
       "            console.log([gd, 'removed!']);\n",
       "            Plotly.purge(gd);\n",
       "            observer.disconnect();\n",
       "        }}\n",
       "}});\n",
       "\n",
       "// Listen for the removal of the full notebook cells\n",
       "var notebookContainer = gd.closest('#notebook-container');\n",
       "if (notebookContainer) {{\n",
       "    x.observe(notebookContainer, {childList: true});\n",
       "}}\n",
       "\n",
       "// Listen for the clearing of the current output cell\n",
       "var outputEl = gd.closest('.output');\n",
       "if (outputEl) {{\n",
       "    x.observe(outputEl, {childList: true});\n",
       "}}\n",
       "\n",
       "                        })                };                });            </script>        </div>"
      ]
     },
     "metadata": {},
     "output_type": "display_data"
    }
   ],
   "source": [
    "p = mt.trace[0]\n",
    "\n",
    "data = []\n",
    "\n",
    "for p in tqdm(mt.trace):\n",
    "    origin = p[0]\n",
    "    for axis, color in zip(p[1:], ['red', 'green', 'blue']):\n",
    "        data.append(\n",
    "            go.Scatter3d(\n",
    "                x=[origin[0], origin[0] + axis[0] * 100],\n",
    "                y=[origin[1], origin[1] + axis[1] * 100],\n",
    "                z=[origin[2], origin[2] + axis[2] * 100],\n",
    "                marker={'size': 2, 'color': color},\n",
    "                line={\"color\": color, \"width\": 2},\n",
    "            )\n",
    "        )\n",
    "\n",
    "# data = [\n",
    "#     go.Scatter3d(x=[0, 1], y=[0, 0], z=[0, 0], line={\"color\": \"darkblue\", \"width\": 2})\n",
    "# ]\n",
    "fig = go.Figure(data=data)\n",
    "fig.show()"
   ]
  },
  {
   "cell_type": "code",
   "execution_count": 15,
   "id": "392bfd80-e955-46c7-afd9-215f0026e938",
   "metadata": {},
   "outputs": [
    {
     "data": {
      "text/plain": [
       "[Scatter3d({\n",
       "     'line': {'color': 'red', 'width': 2}, 'x': [0.0, 1.0], 'y': [0.0, 0.0], 'z': [0.0, 0.0]\n",
       " }),\n",
       " Scatter3d({\n",
       "     'line': {'color': 'green', 'width': 2}, 'x': [0.0, 0.0], 'y': [0.0, 1.0], 'z': [0.0, 0.0]\n",
       " }),\n",
       " Scatter3d({\n",
       "     'line': {'color': 'blue', 'width': 2}, 'x': [0.0, 0.0], 'y': [0.0, 0.0], 'z': [0.0, 1.0]\n",
       " }),\n",
       " Scatter3d({\n",
       "     'line': {'color': 'red', 'width': 2},\n",
       "     'x': [-48.22999954223633, 0.10386623402851615],\n",
       "     'y': [196.47000122070312, -0.8737263207545458],\n",
       "     'z': [44.7400016784668, 0.47519903393152874]\n",
       " }),\n",
       " Scatter3d({\n",
       "     'line': {'color': 'green', 'width': 2},\n",
       "     'x': [-48.22999954223633, 0.9336128207511815],\n",
       "     'y': [196.47000122070312, 0.25037174798192097],\n",
       "     'z': [44.7400016784668, 0.2562832197813579]\n",
       " }),\n",
       " Scatter3d({\n",
       "     'line': {'color': 'blue', 'width': 2},\n",
       "     'x': [-48.22999954223633, -0.3428978074554514],\n",
       "     'y': [196.47000122070312, 0.4170327376036587],\n",
       "     'z': [44.7400016784668, 0.8417272654542219]\n",
       " }),\n",
       " Scatter3d({\n",
       "     'line': {'color': 'red', 'width': 2},\n",
       "     'x': [-108.9000015258789, -0.9742823380596893],\n",
       "     'y': [377.3800048828125, -0.0950476407335534],\n",
       "     'z': [97.41000366210938, 0.20430338160669415]\n",
       " }),\n",
       " Scatter3d({\n",
       "     'line': {'color': 'green', 'width': 2},\n",
       "     'x': [-108.9000015258789, 0.20529834907923403],\n",
       "     'y': [377.3800048828125, -0.7481554852296981],\n",
       "     'z': [97.41000366210938, 0.6309643078543002]\n",
       " }),\n",
       " Scatter3d({\n",
       "     'line': {'color': 'blue', 'width': 2},\n",
       "     'x': [-108.9000015258789, 0.09287902675139376],\n",
       "     'y': [377.3800048828125, 0.6566805280436603],\n",
       "     'z': [97.41000366210938, 0.7484277991082464]\n",
       " }),\n",
       " Scatter3d({\n",
       "     'line': {'color': 'red', 'width': 2},\n",
       "     'x': [-135.27999877929688, -0.20118623772071992],\n",
       "     'y': [556.7200317382812, 0.954993808791617],\n",
       "     'z': [153.75, -0.21797000463702002]\n",
       " }),\n",
       " Scatter3d({\n",
       "     'line': {'color': 'green', 'width': 2},\n",
       "     'x': [-135.27999877929688, -0.9560727439406518],\n",
       "     'y': [556.7200317382812, -0.14301179916422513],\n",
       "     'z': [153.75, 0.25587601214964273]\n",
       " }),\n",
       " Scatter3d({\n",
       "     'line': {'color': 'blue', 'width': 2},\n",
       "     'x': [-135.27999877929688, 0.21318772489422266],\n",
       "     'y': [556.7200317382812, 0.25987391263744014],\n",
       "     'z': [153.75, 0.9418155570412571]\n",
       " }),\n",
       " Scatter3d({\n",
       "     'line': {'color': 'red', 'width': 2},\n",
       "     'x': [-111.25, 0.9396104930144179],\n",
       "     'y': [734.1700439453125, 0.33722766385740516],\n",
       "     'z': [201.08999633789062, 0.05839198700575037]\n",
       " }),\n",
       " Scatter3d({\n",
       "     'line': {'color': 'green', 'width': 2},\n",
       "     'x': [-111.25, -0.3080629918641854],\n",
       "     'y': [734.1700439453125, 0.9076896034333559],\n",
       "     'z': [201.08999633789062, -0.28495048142209556]\n",
       " }),\n",
       " Scatter3d({\n",
       "     'line': {'color': 'blue', 'width': 2},\n",
       "     'x': [-111.25, -0.14909498469395147],\n",
       "     'y': [734.1700439453125, 0.24975405211582483],\n",
       "     'z': [201.08999633789062, 0.956762038853359]\n",
       " }),\n",
       " Scatter3d({\n",
       "     'line': {'color': 'red', 'width': 2},\n",
       "     'x': [-61.380001068115234, 0.5117068119166609],\n",
       "     'y': [906.1100463867188, -0.7594336071755913],\n",
       "     'z': [240.25999450683594, 0.401767015732199]\n",
       " }),\n",
       " Scatter3d({\n",
       "     'line': {'color': 'green', 'width': 2},\n",
       "     'x': [-61.380001068115234, 0.8369039127675485],\n",
       "     'y': [906.1100463867188, 0.546341970546365],\n",
       "     'z': [240.25999450683594, -0.03320078333236319]\n",
       " }),\n",
       " Scatter3d({\n",
       "     'line': {'color': 'blue', 'width': 2},\n",
       "     'x': [-61.380001068115234, -0.19428839242851018],\n",
       "     'y': [906.1100463867188, 0.3532294544793579],\n",
       "     'z': [240.25999450683594, 0.9151398652969722]\n",
       " }),\n",
       " Scatter3d({\n",
       "     'line': {'color': 'red', 'width': 2},\n",
       "     'x': [2.5799989700317383, -0.622875215475518],\n",
       "     'y': [1068.010009765625, -0.7785847987830723],\n",
       "     'z': [268.8399963378906, 0.07636869155779619]\n",
       " }),\n",
       " Scatter3d({\n",
       "     'line': {'color': 'green', 'width': 2},\n",
       "     'x': [2.5799989700317383, 0.6919896740815683],\n",
       "     'y': [1068.010009765625, -0.5027864268056846],\n",
       "     'z': [268.8399963378906, 0.5180309836143558]\n",
       " }),\n",
       " Scatter3d({\n",
       "     'line': {'color': 'blue', 'width': 2},\n",
       "     'x': [2.5799989700317383, -0.3649339075926104],\n",
       "     'y': [1068.010009765625, 0.3755150065229016],\n",
       "     'z': [268.8399963378906, 0.8519458450895181]\n",
       " }),\n",
       " Scatter3d({\n",
       "     'line': {'color': 'red', 'width': 2},\n",
       "     'x': [70.33000183105469, -0.7519812782525728],\n",
       "     'y': [1212.6199951171875, 0.18266332963362222],\n",
       "     'z': [292.5799865722656, -0.6333705591237924]\n",
       " }),\n",
       " Scatter3d({\n",
       "     'line': {'color': 'green', 'width': 2},\n",
       "     'x': [70.33000183105469, -0.5448650547414882],\n",
       "     'y': [1212.6199951171875, -0.7130265952665235],\n",
       "     'z': [292.5799865722656, 0.44126539243881835]\n",
       " }),\n",
       " Scatter3d({\n",
       "     'line': {'color': 'blue', 'width': 2},\n",
       "     'x': [70.33000183105469, -0.3710070474791304],\n",
       "     'y': [1212.6199951171875, 0.676924798223398],\n",
       "     'z': [292.5799865722656, 0.6357095156366863]\n",
       " }),\n",
       " Scatter3d({\n",
       "     'line': {'color': 'red', 'width': 2},\n",
       "     'x': [131.69000244140625, 0.37879736030418243],\n",
       "     'y': [1325.0899658203125, 0.5870110986245498],\n",
       "     'z': [314.0799865722656, -0.7154932074577525]\n",
       " }),\n",
       " Scatter3d({\n",
       "     'line': {'color': 'green', 'width': 2},\n",
       "     'x': [131.69000244140625, -0.9253433529969439],\n",
       "     'y': [1325.0899658203125, 0.2534944938227174],\n",
       "     'z': [314.0799865722656, -0.28192236638113244]\n",
       " }),\n",
       " Scatter3d({\n",
       "     'line': {'color': 'blue', 'width': 2},\n",
       "     'x': [131.69000244140625, 0.015882030441874057],\n",
       "     'y': [1325.0899658203125, 0.7688683318313764],\n",
       "     'z': [314.0799865722656, 0.639209863359351]\n",
       " }),\n",
       " Scatter3d({\n",
       "     'line': {'color': 'red', 'width': 2},\n",
       "     'x': [181.44000244140625, 0.9745242947070996],\n",
       "     'y': [1403.179931640625, -0.20111065655805693],\n",
       "     'z': [333.4399719238281, -0.0992819361435787]\n",
       " }),\n",
       " Scatter3d({\n",
       "     'line': {'color': 'green', 'width': 2},\n",
       "     'x': [181.44000244140625, 0.1259212930714581],\n",
       "     'y': [1403.179931640625, 0.8569251049861154],\n",
       "     'z': [333.4399719238281, -0.49982316112375913]\n",
       " }),\n",
       " Scatter3d({\n",
       "     'line': {'color': 'blue', 'width': 2},\n",
       "     'x': [181.44000244140625, 0.18559694764958368],\n",
       "     'y': [1403.179931640625, 0.47458810379456695],\n",
       "     'z': [333.4399719238281, 0.8604184474776417]\n",
       " }),\n",
       " Scatter3d({\n",
       "     'line': {'color': 'red', 'width': 2},\n",
       "     'x': [218.0, 0.20448730097600631],\n",
       "     'y': [1452.9998779296875, -0.9478944307794079],\n",
       "     'z': [352.40997314453125, 0.24429713841330708]\n",
       " }),\n",
       " Scatter3d({\n",
       "     'line': {'color': 'green', 'width': 2},\n",
       "     'x': [218.0, 0.978246131998957],\n",
       "     'y': [1452.9998779296875, 0.2067938722654698],\n",
       "     'z': [352.40997314453125, -0.01645599047556738]\n",
       " }),\n",
       " Scatter3d({\n",
       "     'line': {'color': 'blue', 'width': 2},\n",
       "     'x': [218.0, -0.034920609511111915],\n",
       "     'y': [1452.9998779296875, 0.24234777178846703],\n",
       "     'z': [352.40997314453125, 0.9695607812512517]\n",
       " }),\n",
       " Scatter3d({\n",
       "     'line': {'color': 'red', 'width': 2},\n",
       "     'x': [246.61000061035156, -0.831779345805048],\n",
       "     'y': [1481.429931640625, -0.5548676123220917],\n",
       "     'z': [368.6199645996094, -0.016280438818032122]\n",
       " }),\n",
       " Scatter3d({\n",
       "     'line': {'color': 'green', 'width': 2},\n",
       "     'x': [246.61000061035156, 0.5154439562232331],\n",
       "     'y': [1481.429931640625, -0.7829032930314556],\n",
       "     'z': [368.6199645996094, 0.34839627115318644]\n",
       " }),\n",
       " Scatter3d({\n",
       "     'line': {'color': 'blue', 'width': 2},\n",
       "     'x': [246.61000061035156, -0.20605981627932304],\n",
       "     'y': [1481.429931640625, 0.2813971687072987],\n",
       "     'z': [368.6199645996094, 0.9372059461817598]\n",
       " }),\n",
       " Scatter3d({\n",
       "     'line': {'color': 'red', 'width': 2},\n",
       "     'x': [269.7200012207031, -0.74437585558464],\n",
       "     'y': [1498.18994140625, 0.5747931228256024],\n",
       "     'z': [383.65997314453125, -0.33987858357805845]\n",
       " }),\n",
       " Scatter3d({\n",
       "     'line': {'color': 'green', 'width': 2},\n",
       "     'x': [269.7200012207031, -0.6387986956991084],\n",
       "     'y': [1498.18994140625, -0.7612242370273498],\n",
       "     'z': [383.65997314453125, 0.1116865584358627]\n",
       " }),\n",
       " Scatter3d({\n",
       "     'line': {'color': 'blue', 'width': 2},\n",
       "     'x': [269.7200012207031, -0.1945271497651502],\n",
       "     'y': [1498.18994140625, 0.3002507733787233],\n",
       "     'z': [383.65997314453125, 0.9338140398868103]\n",
       " }),\n",
       " Scatter3d({\n",
       "     'line': {'color': 'red', 'width': 2},\n",
       "     'x': [295.4599914550781, 0.40243121732188386],\n",
       "     'y': [1500.889892578125, 0.9050126764846795],\n",
       "     'z': [396.4899597167969, -0.13784473412816117]\n",
       " }),\n",
       " Scatter3d({\n",
       "     'line': {'color': 'green', 'width': 2},\n",
       "     'x': [295.4599914550781, -0.8817332128553508],\n",
       "     'y': [1500.889892578125, 0.3427004885793825],\n",
       "     'z': [396.4899597167969, -0.324195799595296]\n",
       " }),\n",
       " Scatter3d({\n",
       "     'line': {'color': 'blue', 'width': 2},\n",
       "     'x': [295.4599914550781, -0.24616185056301368],\n",
       "     'y': [1500.889892578125, 0.2520087905797916],\n",
       "     'z': [396.4899597167969, 0.9358931097074619]\n",
       " }),\n",
       " Scatter3d({\n",
       "     'line': {'color': 'red', 'width': 2},\n",
       "     'x': [322.91998291015625, 0.989166867511175],\n",
       "     'y': [1483.8199462890625, -0.030722277236268636],\n",
       "     'z': [408.5499572753906, 0.14354459202473485]\n",
       " }),\n",
       " Scatter3d({\n",
       "     'line': {'color': 'green', 'width': 2},\n",
       "     'x': [322.91998291015625, 0.07618626433692982],\n",
       "     'y': [1483.8199462890625, 0.9432891841264301],\n",
       "     'z': [408.5499572753906, -0.3231116962235774]\n",
       " }),\n",
       " Scatter3d({\n",
       "     'line': {'color': 'blue', 'width': 2},\n",
       "     'x': [322.91998291015625, -0.12547733398711164],\n",
       "     'y': [1483.8199462890625, 0.3305475106418315],\n",
       "     'z': [408.5499572753906, 0.9354110229540676]\n",
       " }),\n",
       " Scatter3d({\n",
       "     'line': {'color': 'red', 'width': 2},\n",
       "     'x': [372.5899963378906, 0.6773527469946581],\n",
       "     'y': [1453.489990234375, -0.6464298623576943],\n",
       "     'z': [418.5399475097656, -0.3511718798409166]\n",
       " }),\n",
       " Scatter3d({\n",
       "     'line': {'color': 'green', 'width': 2},\n",
       "     'x': [372.5899963378906, 0.7281021651995776],\n",
       "     'y': [1453.489990234375, 0.6573251282697882],\n",
       "     'z': [418.5399475097656, 0.19439884973114885]\n",
       " }),\n",
       " Scatter3d({\n",
       "     'line': {'color': 'blue', 'width': 2},\n",
       "     'x': [372.5899963378906, 0.10516887928697244],\n",
       "     'y': [1453.489990234375, -0.3873656009473726],\n",
       "     'z': [418.5399475097656, 0.915907963734459]\n",
       " }),\n",
       " Scatter3d({\n",
       "     'line': {'color': 'red', 'width': 2},\n",
       "     'x': [465.67999267578125, 0.5633274861672015],\n",
       "     'y': [1410.25, -0.11489013749043611],\n",
       "     'z': [411.2199401855469, -0.8182068195975699]\n",
       " }),\n",
       " Scatter3d({\n",
       "     'line': {'color': 'green', 'width': 2},\n",
       "     'x': [465.67999267578125, 0.7684731463603229],\n",
       "     'y': [1410.25, -0.2909025142662291],\n",
       "     'z': [411.2199401855469, 0.5699339878588153]\n",
       " }),\n",
       " Scatter3d({\n",
       "     'line': {'color': 'blue', 'width': 2},\n",
       "     'x': [465.67999267578125, -0.3034982152362798],\n",
       "     'y': [1410.25, -0.9498294496913724],\n",
       "     'z': [411.2199401855469, -0.07558339663826782]\n",
       " }),\n",
       " Scatter3d({\n",
       "     'line': {'color': 'red', 'width': 2},\n",
       "     'x': [579.4299926757812, 0.7707455019566897],\n",
       "     'y': [1347.4300537109375, 0.4509928564537358],\n",
       "     'z': [368.5599365234375, -0.45006312295191525]\n",
       " }),\n",
       " Scatter3d({\n",
       "     'line': {'color': 'green', 'width': 2},\n",
       "     'x': [579.4299926757812, 0.5067406084417179],\n",
       "     'y': [1347.4300537109375, -0.8620895878797022],\n",
       "     'z': [368.5599365234375, 0.003936778571721783]\n",
       " }),\n",
       " Scatter3d({\n",
       "     'line': {'color': 'blue', 'width': 2},\n",
       "     'x': [579.4299926757812, -0.3862192731721817],\n",
       "     'y': [1347.4300537109375, -0.23109951513818724],\n",
       "     'z': [368.5599365234375, -0.8929880666242112]\n",
       " }),\n",
       " Scatter3d({\n",
       "     'line': {'color': 'red', 'width': 2},\n",
       "     'x': [688.7100219726562, 0.6262838939879133],\n",
       "     'y': [1276.4600830078125, 0.7776438940880847],\n",
       "     'z': [312.9099426269531, 0.05512221075805769]\n",
       " }),\n",
       " Scatter3d({\n",
       "     'line': {'color': 'green', 'width': 2},\n",
       "     'x': [688.7100219726562, 0.7312615622133759],\n",
       "     'y': [1276.4600830078125, -0.5614761830791142],\n",
       "     'z': [312.9099426269531, -0.38729965590503973]\n",
       " }),\n",
       " Scatter3d({\n",
       "     'line': {'color': 'blue', 'width': 2},\n",
       "     'x': [688.7100219726562, -0.2702314040976536],\n",
       "     'y': [1276.4600830078125, 0.2828682905919794],\n",
       "     'z': [312.9099426269531, -0.9203045791568041]\n",
       " }),\n",
       " Scatter3d({\n",
       "     'line': {'color': 'red', 'width': 2},\n",
       "     'x': [746.8099975585938, -0.12011648794570923],\n",
       "     'y': [1236.1201171875, 0.9822800555691157],\n",
       "     'z': [276.0799560546875, 0.14386772311649138]\n",
       " }),\n",
       " Scatter3d({\n",
       "     'line': {'color': 'green', 'width': 2},\n",
       "     'x': [746.8099975585938, 0.9913519109749769],\n",
       "     'y': [1236.1201171875, 0.12639509545784722],\n",
       "     'z': [276.0799560546875, -0.03529402853831651]\n",
       " }),\n",
       " Scatter3d({\n",
       "     'line': {'color': 'blue', 'width': 2},\n",
       "     'x': [746.8099975585938, -0.05285279491048751],\n",
       "     'y': [1236.1201171875, 0.13838414748567432],\n",
       "     'z': [276.0799560546875, -0.9889673451610085]\n",
       " }),\n",
       " Scatter3d({\n",
       "     'line': {'color': 'red', 'width': 2},\n",
       "     'x': [757.8900146484375, -0.5718207779442293],\n",
       "     'y': [1250.7901611328125, 0.36382756723799864],\n",
       "     'z': [261.51995849609375, -0.7352893982840608]\n",
       " }),\n",
       " Scatter3d({\n",
       "     'line': {'color': 'green', 'width': 2},\n",
       "     'x': [757.8900146484375, 0.3102464231602318],\n",
       "     'y': [1250.7901611328125, 0.9256209800723892],\n",
       "     'z': [261.51995849609375, 0.2167324575741072]\n",
       " }),\n",
       " Scatter3d({\n",
       "     'line': {'color': 'blue', 'width': 2},\n",
       "     'x': [757.8900146484375, 0.7594525362572299],\n",
       "     'y': [1250.7901611328125, -0.10418878330947828],\n",
       "     'z': [261.51995849609375, -0.6421655102891712]\n",
       " })]"
      ]
     },
     "execution_count": 15,
     "metadata": {},
     "output_type": "execute_result"
    }
   ],
   "source": [
    "data"
   ]
  },
  {
   "cell_type": "code",
   "execution_count": null,
   "id": "ceb114f7-6032-4939-94c9-142dc5a26b10",
   "metadata": {},
   "outputs": [],
   "source": []
  }
 ],
 "metadata": {
  "kernelspec": {
   "display_name": "Python 3 (ipykernel)",
   "language": "python",
   "name": "python3"
  },
  "language_info": {
   "codemirror_mode": {
    "name": "ipython",
    "version": 3
   },
   "file_extension": ".py",
   "mimetype": "text/x-python",
   "name": "python",
   "nbconvert_exporter": "python",
   "pygments_lexer": "ipython3",
   "version": "3.8.12"
  }
 },
 "nbformat": 4,
 "nbformat_minor": 5
}
