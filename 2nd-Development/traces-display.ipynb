{
 "cells": [
  {
   "cell_type": "code",
   "execution_count": 1,
   "id": "28353a88-d089-4f5a-b7b4-2dff9fd5624c",
   "metadata": {},
   "outputs": [],
   "source": [
    "import os\n",
    "\n",
    "import numpy as np\n",
    "import pandas as pd\n",
    "import plotly.express as px\n",
    "from tqdm.auto import tqdm "
   ]
  },
  {
   "cell_type": "code",
   "execution_count": 2,
   "id": "99f815e7-eba4-40cd-8424-7d87090b04d2",
   "metadata": {},
   "outputs": [
    {
     "data": {
      "text/plain": [
       "((31625, 20, 6), (31625,))"
      ]
     },
     "execution_count": 2,
     "metadata": {},
     "output_type": "execute_result"
    }
   ],
   "source": [
    "folder = r\"parsedData/\"\n",
    "\n",
    "event_name = {\n",
    "    \"0-SLW\": 1,\n",
    "    \"1-MLW\": 2,\n",
    "    \"2-FLW\": 3,\n",
    "    \"3-RD\": 4,\n",
    "    \"4-SD\": 5,\n",
    "    \"5-sit\": 6,\n",
    "    \"6-stand\": 7,\n",
    "    \"7-RA\": 8,\n",
    "    \"8-SA\": 9,\n",
    "}\n",
    "\n",
    "# Read and mark the Signal\n",
    "X3s = []\n",
    "ys = []\n",
    "\n",
    "for name, label in event_name.items():\n",
    "    with open(os.path.join(folder, f\"{name}.npy\"), \"rb\") as f:\n",
    "        mat = np.load(f)\n",
    "    X3s.append(mat)\n",
    "    ys.append(np.zeros(mat.shape[0]) + label)\n",
    "\n",
    "X3 = np.concatenate(X3s)\n",
    "y = np.concatenate(ys)\n",
    "\n",
    "# Simple Report\n",
    "X3.shape, y.shape"
   ]
  },
  {
   "cell_type": "code",
   "execution_count": null,
   "id": "0fd1ce85-e6c5-4a12-8020-35943ee5f1ab",
   "metadata": {},
   "outputs": [],
   "source": []
  }
 ],
 "metadata": {
  "kernelspec": {
   "display_name": "Python 3 (ipykernel)",
   "language": "python",
   "name": "python3"
  },
  "language_info": {
   "codemirror_mode": {
    "name": "ipython",
    "version": 3
   },
   "file_extension": ".py",
   "mimetype": "text/x-python",
   "name": "python",
   "nbconvert_exporter": "python",
   "pygments_lexer": "ipython3",
   "version": "3.8.12"
  }
 },
 "nbformat": 4,
 "nbformat_minor": 5
}
