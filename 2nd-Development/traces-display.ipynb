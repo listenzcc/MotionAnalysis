{
 "cells": [
  {
   "cell_type": "markdown",
   "id": "c413f856-e4f4-4424-986f-8ad0316afe98",
   "metadata": {},
   "source": [
    "# Display Trace"
   ]
  },
  {
   "cell_type": "markdown",
   "id": "56c5bfbb-5c9e-445a-8c0e-7d38006473cd",
   "metadata": {},
   "source": [
    "## Packages"
   ]
  },
  {
   "cell_type": "code",
   "execution_count": 7,
   "id": "28353a88-d089-4f5a-b7b4-2dff9fd5624c",
   "metadata": {
    "ExecuteTime": {
     "end_time": "2021-11-15T04:40:42.818192Z",
     "start_time": "2021-11-15T04:40:42.812193Z"
    }
   },
   "outputs": [],
   "source": [
    "import os\n",
    "\n",
    "import numpy as np\n",
    "import pandas as pd\n",
    "import plotly.express as px\n",
    "import plotly.graph_objects as go\n",
    "from tqdm.auto import tqdm"
   ]
  },
  {
   "cell_type": "code",
   "execution_count": 8,
   "id": "6110ed36-2b69-4431-bf1a-50d76028f957",
   "metadata": {
    "ExecuteTime": {
     "end_time": "2021-11-15T04:40:42.848221Z",
     "start_time": "2021-11-15T04:40:42.819191Z"
    }
   },
   "outputs": [],
   "source": [
    "def scale(v, s=1):\n",
    "    \"\"\"Scale the vector of y \\in R3,\n",
    "    s is the  scaler,\n",
    "    It computes the normalized vector of y is s = 1 as default.\n",
    "    \"\"\"\n",
    "    return s * np.array(v) / np.linalg.norm(v)\n",
    "\n",
    "\n",
    "def rotate(r, n, a):\n",
    "    \"\"\"Compute the rotated vector of r \\in R3,\n",
    "    n \\in R3 is the rotate axis,\n",
    "    a \\in R is the radius.\n",
    "    \"\"\"\n",
    "    d = np.cross(n, r)\n",
    "\n",
    "    if all(d == 0):\n",
    "        return r\n",
    "\n",
    "    o = scale(scale(r, np.cos(a)) + scale(d, np.sin(a)))\n",
    "    return o\n",
    "\n",
    "\n",
    "class Point(object):\n",
    "    \"\"\"A point has its position and x-, y- and z- normalized coordinates\"\"\"\n",
    "\n",
    "    def __init__(self, p=[0, 0, 0], nx=[1, 0, 0], ny=[0, 1, 0], nz=[0, 0, 1]):\n",
    "        \"\"\"\n",
    "        Initialize the point,\n",
    "        - p: The origin of the point;\n",
    "        - nx: The normed x axis;\n",
    "        - ny: The normed y axis;\n",
    "        - nz: The normed z axis.\n",
    "        \"\"\"\n",
    "        self.p = np.array(p).astype(np.float32)\n",
    "        self.nx = scale(nx)\n",
    "        self.ny = scale(ny)\n",
    "        self.nz = scale(nz)\n",
    "        pass\n",
    "\n",
    "    def translate(self, dp):\n",
    "        \"\"\"Translate the point by p \\in R3\"\"\"\n",
    "        dpx = scale(self.nx, dp[0])\n",
    "        dpy = scale(self.ny, dp[1])\n",
    "        dpz = scale(self.nz, dp[2])\n",
    "        self.p += dpx + dpy + dpz\n",
    "        pass\n",
    "\n",
    "    def rotate(self, ax, ay, az):\n",
    "        \"\"\"The point rotates around its origin, by 3 axis at ax, ay and az radius\"\"\"\n",
    "        # self.nx = rotate(self.nx, self.nx, ax)\n",
    "        self.ny = rotate(self.ny, self.nx, ax)\n",
    "        self.nz = rotate(self.nz, self.nx, ax)\n",
    "\n",
    "        self.nx = rotate(self.nx, self.ny, ay)\n",
    "        # self.ny = rotate(self.ny, self.ny, ay)\n",
    "        self.nz = rotate(self.nz, self.ny, ay)\n",
    "\n",
    "        self.nx = rotate(self.nx, self.nz, az)\n",
    "        self.ny = rotate(self.ny, self.nz, az)\n",
    "        # self.nz = rotate(self.nz, self.nz, az)\n",
    "        pass\n",
    "\n",
    "    def snip(self):\n",
    "        \"\"\"Get a quick snip of the point on the current state\"\"\"\n",
    "        # The p changes in-place, so use hard copy here.\n",
    "        return [self.p.copy(), self.nx, self.ny, self.nz]\n",
    "\n",
    "\n",
    "class MotionTrace(object):\n",
    "    \"\"\"Trace the motion and record every step\"\"\"\n",
    "\n",
    "    def __init__(self):\n",
    "        \"\"\"Initialize\"\"\"\n",
    "        # Dynamic point\n",
    "        self.point = Point()\n",
    "\n",
    "        # The point walks step-by-step,\n",
    "        # the trace records its path.\n",
    "        self.trace = []\n",
    "        self.num_steps = 0\n",
    "\n",
    "        # Reset the speed and angle\n",
    "        self.dax = 0\n",
    "        self.day = 0\n",
    "        self.daz = 0\n",
    "        self.dp = np.array((0.0, 0, 0))\n",
    "\n",
    "        # Place the first point\n",
    "        self.forward()\n",
    "        pass\n",
    "\n",
    "    def forward(self, ap=(0, 0, 0), aax=0, aay=0, aaz=0):\n",
    "        \"\"\"\n",
    "        Forward a step,\n",
    "        - ap: The accelerate of translating the position;\n",
    "        - aax, aay, aaz: The angular accelerate of rotation along the x-, y- and z- axis.\n",
    "        \"\"\"\n",
    "\n",
    "        def rad(x):\n",
    "            return x / 180 * np.pi\n",
    "\n",
    "        self.dax += aax\n",
    "        self.day += aay\n",
    "        self.daz += aaz\n",
    "        self.dp += ap\n",
    "\n",
    "        self.point.translate(self.dp)\n",
    "        self.point.rotate(rad(self.dax), rad(self.day), rad(self.daz))\n",
    "        self.trace.append(self.point.snip())\n",
    "\n",
    "        self.num_steps += 1\n",
    "        pass\n",
    "\n",
    "    def trace_origin(self):\n",
    "        \"\"\"\n",
    "        Trace the origins along the motion,\n",
    "        it will return a matrix \\in R^{n x 3},\n",
    "        - n refers the steps, it equals to the self.num_samples;\n",
    "        - 3 refers the x-, y- and z- coordinates.\n",
    "        \"\"\"\n",
    "        return np.array([e[0] for e in self.trace])\n",
    "    \n",
    "    def trace_finish(self, length=500):\n",
    "        \"\"\"\n",
    "        Trace the finish along the motion,\n",
    "        the input\n",
    "        - length refers the length of the arm/leg.\n",
    "        the length grows at the negative direction of the z-axis.\n",
    "        \n",
    "        It will return a matrix \\in R^{n x 3},\n",
    "        - n refers the steps, it equals to the self.num_samples;\n",
    "        - 3 refers the x-, y- and z- coordinates;\n",
    "        \"\"\"\n",
    "        return np.array([e[0] - e[2] * length for e in self.trace])\n",
    "    "
   ]
  },
  {
   "cell_type": "markdown",
   "id": "853a9662-8f7e-44c6-92b7-e031b9cb43b2",
   "metadata": {},
   "source": [
    "## Read Parameters"
   ]
  },
  {
   "cell_type": "code",
   "execution_count": 9,
   "id": "99f815e7-eba4-40cd-8424-7d87090b04d2",
   "metadata": {
    "ExecuteTime": {
     "end_time": "2021-11-15T04:40:42.878222Z",
     "start_time": "2021-11-15T04:40:42.849191Z"
    }
   },
   "outputs": [
    {
     "name": "stdout",
     "output_type": "stream",
     "text": [
      "[('0-SLW', 1), ('1-MLW', 2), ('2-FLW', 3), ('3-RD', 4), ('4-SD', 5), ('5-sit', 6), ('6-stand', 7), ('7-RA', 8), ('8-SA', 9)]\n"
     ]
    },
    {
     "data": {
      "text/plain": [
       "((31625, 20, 6), (31625,))"
      ]
     },
     "execution_count": 9,
     "metadata": {},
     "output_type": "execute_result"
    }
   ],
   "source": [
    "folder = os.path.join(\n",
    "    os.environ[\"SYNC\"], r\"MotionData\\data\\2nd-Development\", \"parsedData\"\n",
    ")\n",
    "\n",
    "event_name = {\n",
    "    \"0-SLW\": 1,\n",
    "    \"1-MLW\": 2,\n",
    "    \"2-FLW\": 3,\n",
    "    \"3-RD\": 4,\n",
    "    \"4-SD\": 5,\n",
    "    \"5-sit\": 6,\n",
    "    \"6-stand\": 7,\n",
    "    \"7-RA\": 8,\n",
    "    \"8-SA\": 9,\n",
    "}\n",
    "\n",
    "event_table = [(a, b) for a, b in event_name.items()]\n",
    "print(event_table)\n",
    "\n",
    "# Read and mark the Signal\n",
    "X3s = []\n",
    "ys = []\n",
    "\n",
    "for name, label in event_name.items():\n",
    "    with open(os.path.join(folder, f\"{name}.npy\"), \"rb\") as f:\n",
    "        mat = np.load(f)\n",
    "    X3s.append(mat)\n",
    "    ys.append(np.zeros(mat.shape[0]) + label)\n",
    "\n",
    "X3 = np.concatenate(X3s)\n",
    "y = np.concatenate(ys)\n",
    "\n",
    "# Simple Report\n",
    "X3.shape, y.shape"
   ]
  },
  {
   "cell_type": "markdown",
   "id": "38606c03-8275-43ba-8147-58cd6fb8ba9a",
   "metadata": {},
   "source": [
    "## Take an Example"
   ]
  },
  {
   "cell_type": "code",
   "execution_count": 10,
   "id": "0fd1ce85-e6c5-4a12-8020-35943ee5f1ab",
   "metadata": {
    "ExecuteTime": {
     "end_time": "2021-11-15T04:40:42.893191Z",
     "start_time": "2021-11-15T04:40:42.879191Z"
    },
    "scrolled": true,
    "tags": []
   },
   "outputs": [
    {
     "data": {
      "text/html": [
       "<div>\n",
       "<style scoped>\n",
       "    .dataframe tbody tr th:only-of-type {\n",
       "        vertical-align: middle;\n",
       "    }\n",
       "\n",
       "    .dataframe tbody tr th {\n",
       "        vertical-align: top;\n",
       "    }\n",
       "\n",
       "    .dataframe thead th {\n",
       "        text-align: right;\n",
       "    }\n",
       "</style>\n",
       "<table border=\"1\" class=\"dataframe\">\n",
       "  <thead>\n",
       "    <tr style=\"text-align: right;\">\n",
       "      <th></th>\n",
       "      <th>0</th>\n",
       "      <th>1</th>\n",
       "      <th>2</th>\n",
       "      <th>3</th>\n",
       "      <th>4</th>\n",
       "      <th>5</th>\n",
       "    </tr>\n",
       "  </thead>\n",
       "  <tbody>\n",
       "    <tr>\n",
       "      <th>0</th>\n",
       "      <td>-0.46</td>\n",
       "      <td>-0.35</td>\n",
       "      <td>-1.46</td>\n",
       "      <td>-48.23</td>\n",
       "      <td>196.47</td>\n",
       "      <td>44.74</td>\n",
       "    </tr>\n",
       "    <tr>\n",
       "      <th>1</th>\n",
       "      <td>-0.47</td>\n",
       "      <td>-0.21</td>\n",
       "      <td>-1.49</td>\n",
       "      <td>-60.67</td>\n",
       "      <td>180.91</td>\n",
       "      <td>52.67</td>\n",
       "    </tr>\n",
       "    <tr>\n",
       "      <th>2</th>\n",
       "      <td>-0.46</td>\n",
       "      <td>-0.04</td>\n",
       "      <td>-1.51</td>\n",
       "      <td>-26.38</td>\n",
       "      <td>179.34</td>\n",
       "      <td>56.34</td>\n",
       "    </tr>\n",
       "    <tr>\n",
       "      <th>3</th>\n",
       "      <td>-0.36</td>\n",
       "      <td>0.06</td>\n",
       "      <td>-1.45</td>\n",
       "      <td>24.03</td>\n",
       "      <td>177.45</td>\n",
       "      <td>47.34</td>\n",
       "    </tr>\n",
       "    <tr>\n",
       "      <th>4</th>\n",
       "      <td>-0.12</td>\n",
       "      <td>-0.01</td>\n",
       "      <td>-1.32</td>\n",
       "      <td>49.87</td>\n",
       "      <td>171.94</td>\n",
       "      <td>39.17</td>\n",
       "    </tr>\n",
       "    <tr>\n",
       "      <th>5</th>\n",
       "      <td>0.13</td>\n",
       "      <td>-0.13</td>\n",
       "      <td>-1.26</td>\n",
       "      <td>63.96</td>\n",
       "      <td>161.90</td>\n",
       "      <td>28.58</td>\n",
       "    </tr>\n",
       "    <tr>\n",
       "      <th>6</th>\n",
       "      <td>0.28</td>\n",
       "      <td>-0.25</td>\n",
       "      <td>-1.28</td>\n",
       "      <td>67.75</td>\n",
       "      <td>144.61</td>\n",
       "      <td>23.74</td>\n",
       "    </tr>\n",
       "    <tr>\n",
       "      <th>7</th>\n",
       "      <td>0.29</td>\n",
       "      <td>-0.28</td>\n",
       "      <td>-1.28</td>\n",
       "      <td>61.36</td>\n",
       "      <td>112.47</td>\n",
       "      <td>21.50</td>\n",
       "    </tr>\n",
       "    <tr>\n",
       "      <th>8</th>\n",
       "      <td>0.31</td>\n",
       "      <td>-0.27</td>\n",
       "      <td>-1.23</td>\n",
       "      <td>49.75</td>\n",
       "      <td>78.09</td>\n",
       "      <td>19.36</td>\n",
       "    </tr>\n",
       "    <tr>\n",
       "      <th>9</th>\n",
       "      <td>0.29</td>\n",
       "      <td>-0.18</td>\n",
       "      <td>-1.19</td>\n",
       "      <td>36.56</td>\n",
       "      <td>49.82</td>\n",
       "      <td>18.97</td>\n",
       "    </tr>\n",
       "    <tr>\n",
       "      <th>10</th>\n",
       "      <td>0.16</td>\n",
       "      <td>-0.08</td>\n",
       "      <td>-1.21</td>\n",
       "      <td>28.61</td>\n",
       "      <td>28.43</td>\n",
       "      <td>16.21</td>\n",
       "    </tr>\n",
       "    <tr>\n",
       "      <th>11</th>\n",
       "      <td>0.01</td>\n",
       "      <td>-0.02</td>\n",
       "      <td>-1.26</td>\n",
       "      <td>23.11</td>\n",
       "      <td>16.76</td>\n",
       "      <td>15.04</td>\n",
       "    </tr>\n",
       "    <tr>\n",
       "      <th>12</th>\n",
       "      <td>-0.07</td>\n",
       "      <td>0.01</td>\n",
       "      <td>-1.30</td>\n",
       "      <td>25.74</td>\n",
       "      <td>2.70</td>\n",
       "      <td>12.83</td>\n",
       "    </tr>\n",
       "    <tr>\n",
       "      <th>13</th>\n",
       "      <td>0.08</td>\n",
       "      <td>0.12</td>\n",
       "      <td>-1.21</td>\n",
       "      <td>27.46</td>\n",
       "      <td>-17.07</td>\n",
       "      <td>12.06</td>\n",
       "    </tr>\n",
       "    <tr>\n",
       "      <th>14</th>\n",
       "      <td>0.74</td>\n",
       "      <td>0.25</td>\n",
       "      <td>-0.85</td>\n",
       "      <td>49.67</td>\n",
       "      <td>-30.33</td>\n",
       "      <td>9.99</td>\n",
       "    </tr>\n",
       "    <tr>\n",
       "      <th>15</th>\n",
       "      <td>1.27</td>\n",
       "      <td>0.45</td>\n",
       "      <td>-0.60</td>\n",
       "      <td>93.09</td>\n",
       "      <td>-43.24</td>\n",
       "      <td>-7.32</td>\n",
       "    </tr>\n",
       "    <tr>\n",
       "      <th>16</th>\n",
       "      <td>1.07</td>\n",
       "      <td>0.57</td>\n",
       "      <td>-0.47</td>\n",
       "      <td>113.75</td>\n",
       "      <td>-62.82</td>\n",
       "      <td>-42.66</td>\n",
       "    </tr>\n",
       "    <tr>\n",
       "      <th>17</th>\n",
       "      <td>0.42</td>\n",
       "      <td>0.34</td>\n",
       "      <td>-0.54</td>\n",
       "      <td>109.28</td>\n",
       "      <td>-70.97</td>\n",
       "      <td>-55.65</td>\n",
       "    </tr>\n",
       "    <tr>\n",
       "      <th>18</th>\n",
       "      <td>-0.27</td>\n",
       "      <td>0.02</td>\n",
       "      <td>-0.80</td>\n",
       "      <td>58.10</td>\n",
       "      <td>-40.34</td>\n",
       "      <td>-36.83</td>\n",
       "    </tr>\n",
       "    <tr>\n",
       "      <th>19</th>\n",
       "      <td>-0.92</td>\n",
       "      <td>-0.29</td>\n",
       "      <td>-1.23</td>\n",
       "      <td>11.08</td>\n",
       "      <td>14.67</td>\n",
       "      <td>-14.56</td>\n",
       "    </tr>\n",
       "  </tbody>\n",
       "</table>\n",
       "</div>"
      ],
      "text/plain": [
       "       0     1     2       3       4      5\n",
       "0  -0.46 -0.35 -1.46  -48.23  196.47  44.74\n",
       "1  -0.47 -0.21 -1.49  -60.67  180.91  52.67\n",
       "2  -0.46 -0.04 -1.51  -26.38  179.34  56.34\n",
       "3  -0.36  0.06 -1.45   24.03  177.45  47.34\n",
       "4  -0.12 -0.01 -1.32   49.87  171.94  39.17\n",
       "5   0.13 -0.13 -1.26   63.96  161.90  28.58\n",
       "6   0.28 -0.25 -1.28   67.75  144.61  23.74\n",
       "7   0.29 -0.28 -1.28   61.36  112.47  21.50\n",
       "8   0.31 -0.27 -1.23   49.75   78.09  19.36\n",
       "9   0.29 -0.18 -1.19   36.56   49.82  18.97\n",
       "10  0.16 -0.08 -1.21   28.61   28.43  16.21\n",
       "11  0.01 -0.02 -1.26   23.11   16.76  15.04\n",
       "12 -0.07  0.01 -1.30   25.74    2.70  12.83\n",
       "13  0.08  0.12 -1.21   27.46  -17.07  12.06\n",
       "14  0.74  0.25 -0.85   49.67  -30.33   9.99\n",
       "15  1.27  0.45 -0.60   93.09  -43.24  -7.32\n",
       "16  1.07  0.57 -0.47  113.75  -62.82 -42.66\n",
       "17  0.42  0.34 -0.54  109.28  -70.97 -55.65\n",
       "18 -0.27  0.02 -0.80   58.10  -40.34 -36.83\n",
       "19 -0.92 -0.29 -1.23   11.08   14.67 -14.56"
      ]
     },
     "execution_count": 10,
     "metadata": {},
     "output_type": "execute_result"
    }
   ],
   "source": [
    "pd.DataFrame(X3[0])"
   ]
  },
  {
   "cell_type": "markdown",
   "id": "5f39ff41-9754-47cc-aee2-c30610a4fb25",
   "metadata": {},
   "source": [
    "## Display the Trace (Individual Sample)"
   ]
  },
  {
   "cell_type": "code",
   "execution_count": 11,
   "id": "839713d5-ccbe-49c8-b8c2-d8af05f5b75d",
   "metadata": {
    "ExecuteTime": {
     "end_time": "2021-11-15T04:40:43.763198Z",
     "start_time": "2021-11-15T04:40:42.894192Z"
    },
    "scrolled": false
   },
   "outputs": [
    {
     "data": {
      "application/vnd.jupyter.widget-view+json": {
       "model_id": "2a7ed5166a1b4660bd6bb244b841f8fc",
       "version_major": 2,
       "version_minor": 0
      },
      "text/plain": [
       "0it [00:00, ?it/s]"
      ]
     },
     "metadata": {},
     "output_type": "display_data"
    },
    {
     "data": {
      "application/vnd.plotly.v1+json": {
       "config": {
        "plotlyServerURL": "https://plot.ly"
       },
       "data": [
        {
         "legendgroup": "0",
         "legendgrouptitle": {
          "text": "origins"
         },
         "line": {
          "color": "black",
          "width": 2
         },
         "marker": {
          "color": "black",
          "size": 1
         },
         "type": "scatter3d",
         "x": [
          0,
          8.779568672180176,
          26.383560180664062,
          52.653038024902344,
          88.33209228515625,
          133.93460083007812,
          189.37173461914062,
          255.03411865234375,
          330.7092590332031,
          414.9641418457031,
          505.8310241699219,
          599.9314575195312,
          691.6362915039062,
          773.6050415039062,
          837.2778930664062,
          873.821044921875,
          875.6935424804688,
          838.2767944335938,
          761.9019775390625,
          653.2899780273438,
          525.5995483398438
         ],
         "y": [
          0,
          6.814178943634033,
          20.248981475830078,
          39.74723434448242,
          63.46486282348633,
          89.110107421875,
          113.9020004272461,
          134.8002471923828,
          148.29417419433594,
          151.22496032714844,
          139.9419708251953,
          110.34314727783203,
          59.34464645385742,
          -14.122413635253906,
          -108.24862670898438,
          -217.66494750976562,
          -333.2439270019531,
          -442.7580261230469,
          -531.0537719726562,
          -582.731689453125,
          -584.3184204101562
         ],
         "z": [
          0,
          5.970254421234131,
          18.000732421875,
          36.13860321044922,
          60.29911804199219,
          90.2947998046875,
          126.05938720703125,
          167.5974578857422,
          214.99911499023438,
          268.5169982910156,
          328.4549255371094,
          395.3056640625,
          469.82244873046875,
          552.7658081054688,
          644.8541259765625,
          746.796875,
          858.7215576171875,
          980.1502685546875,
          1110.083251953125,
          1247.0638427734375,
          1389.11767578125
         ]
        },
        {
         "legendgroup": "1",
         "legendgrouptitle": {
          "text": "finish"
         },
         "line": {
          "color": "black",
          "width": 2
         },
         "marker": {
          "color": "black",
          "size": 1
         },
         "type": "scatter3d",
         "x": [
          0,
          -0.7604383502718921,
          -2.2434219551273102,
          -4.5400210158562615,
          -6.693981896698347,
          -7.603526778544364,
          -6.231133134121421,
          -0.3247428386943909,
          12.741322396915848,
          35.5504146751245,
          71.40253628143489,
          123.45194389302577,
          193.49673069364775,
          281.7940710998039,
          386.4209320134575,
          502.72322355789566,
          623.1418161532289,
          737.1539860715588,
          832.027226048128,
          894.117381252341,
          910.5140942365769
         ],
         "y": [
          -500,
          -493.09359553193264,
          -478.9204562099402,
          -456.93156985421336,
          -427.31908094798115,
          -390.22189917358133,
          -345.855285553588,
          -294.4264425232421,
          -236.59097895375055,
          -173.00181383832853,
          -105.60707106529787,
          -38.30899660057756,
          23.788752901713032,
          74.69539256872189,
          107.90827228727323,
          117.08800524622029,
          96.85512988698491,
          43.6538069486769,
          -41.92269983602074,
          -154.34255836357084,
          -281.447213533552
         ],
         "z": [
          0,
          7.068109100859295,
          21.220728426379964,
          42.3931581357747,
          70.35723723544322,
          104.7095799354666,
          145.10554467349795,
          191.18348539712127,
          242.5637691225837,
          298.8851155981288,
          359.72083248994807,
          424.79825999099427,
          494.16903759772873,
          568.0421522783436,
          646.9024634540032,
          731.7347503139946,
          823.615620905898,
          923.7791209986835,
          1033.707576558355,
          1154.9502486613771,
          1288.5700532224796
         ]
        },
        {
         "legendgroup": "2",
         "legendgrouptitle": {
          "text": "--2--"
         },
         "line": {
          "color": "red",
          "width": 2
         },
         "marker": {
          "color": "red",
          "size": 1
         },
         "type": "scatter3d",
         "x": [
          0,
          200
         ],
         "y": [
          0,
          0
         ],
         "z": [
          0,
          0
         ]
        },
        {
         "legendgroup": "2",
         "legendgrouptitle": {
          "text": "--2--"
         },
         "line": {
          "color": "green",
          "width": 2
         },
         "marker": {
          "color": "green",
          "size": 1
         },
         "type": "scatter3d",
         "x": [
          0,
          0
         ],
         "y": [
          0,
          200
         ],
         "z": [
          0,
          0
         ]
        },
        {
         "legendgroup": "2",
         "legendgrouptitle": {
          "text": "--2--"
         },
         "line": {
          "color": "blue",
          "width": 2
         },
         "marker": {
          "color": "blue",
          "size": 1
         },
         "type": "scatter3d",
         "x": [
          0,
          0
         ],
         "y": [
          0,
          0
         ],
         "z": [
          0,
          -500
         ]
        },
        {
         "legendgroup": "3",
         "legendgrouptitle": {
          "text": "--3--"
         },
         "line": {
          "color": "red",
          "width": 2
         },
         "marker": {
          "color": "red",
          "size": 1.1
         },
         "type": "scatter3d",
         "x": [
          8.779568672180176,
          208.74307469488846
         ],
         "y": [
          6.814178943634033,
          2.9985942605195866
         ],
         "z": [
          5.970254421234131,
          6.1640910336016015
         ]
        },
        {
         "legendgroup": "3",
         "legendgrouptitle": {
          "text": "--3--"
         },
         "line": {
          "color": "green",
          "width": 2
         },
         "marker": {
          "color": "green",
          "size": 1.1
         },
         "type": "scatter3d",
         "x": [
          8.779568672180176,
          12.595571481161002
         ],
         "y": [
          6.814178943634033,
          206.7772887338607
         ],
         "z": [
          5.970254421234131,
          5.531112549384066
         ]
        },
        {
         "legendgroup": "3",
         "legendgrouptitle": {
          "text": "--3--"
         },
         "line": {
          "color": "blue",
          "width": 2
         },
         "marker": {
          "color": "blue",
          "size": 1.1
         },
         "type": "scatter3d",
         "x": [
          8.779568672180176,
          9.243126032183387
         ],
         "y": [
          6.814178943634033,
          5.707278576211639
         ],
         "z": [
          5.970254421234131,
          -494.0283054628425
         ]
        },
        {
         "legendgroup": "4",
         "legendgrouptitle": {
          "text": "--4--"
         },
         "line": {
          "color": "red",
          "width": 2
         },
         "marker": {
          "color": "red",
          "size": 1.2
         },
         "type": "scatter3d",
         "x": [
          26.383560180664062,
          226.05473347226985
         ],
         "y": [
          20.248981475830078,
          8.802020325499194
         ],
         "z": [
          18.000732421875,
          18.624941342309775
         ]
        },
        {
         "legendgroup": "4",
         "legendgrouptitle": {
          "text": "--4--"
         },
         "line": {
          "color": "green",
          "width": 2
         },
         "marker": {
          "color": "green",
          "size": 1.2
         },
         "type": "scatter3d",
         "x": [
          26.383560180664062,
          37.83435303498061
         ],
         "y": [
          20.248981475830078,
          219.9167565501382
         ],
         "z": [
          18.000732421875,
          16.712734020073015
         ]
        },
        {
         "legendgroup": "4",
         "legendgrouptitle": {
          "text": "--4--"
         },
         "line": {
          "color": "blue",
          "width": 2
         },
         "marker": {
          "color": "blue",
          "size": 1.2
         },
         "type": "scatter3d",
         "x": [
          26.383560180664062,
          27.75719441388446
         ],
         "y": [
          20.248981475830078,
          16.944933486689695
         ],
         "z": [
          18.000732421875,
          -481.98646381006733
         ]
        },
        {
         "legendgroup": "5",
         "legendgrouptitle": {
          "text": "--5--"
         },
         "line": {
          "color": "red",
          "width": 2
         },
         "marker": {
          "color": "red",
          "size": 1.3
         },
         "type": "scatter3d",
         "x": [
          52.653038024902344,
          251.337502334579
         ],
         "y": [
          39.74723434448242,
          16.88553946732566
         ],
         "z": [
          36.13860321044922,
          37.49010212669172
         ]
        },
        {
         "legendgroup": "5",
         "legendgrouptitle": {
          "text": "--5--"
         },
         "line": {
          "color": "green",
          "width": 2
         },
         "marker": {
          "color": "green",
          "size": 1.3
         },
         "type": "scatter3d",
         "x": [
          52.653038024902344,
          75.53026164120578
         ],
         "y": [
          39.74723434448242,
          238.41875602396075
         ],
         "z": [
          36.13860321044922,
          33.636781240319024
         ]
        },
        {
         "legendgroup": "5",
         "legendgrouptitle": {
          "text": "--5--"
         },
         "line": {
          "color": "blue",
          "width": 2
         },
         "marker": {
          "color": "blue",
          "size": 1.3
         },
         "type": "scatter3d",
         "x": [
          52.653038024902344,
          55.29439372140208
         ],
         "y": [
          39.74723434448242,
          33.14733808376282
         ],
         "z": [
          36.13860321044922,
          -463.8108588448993
         ]
        },
        {
         "legendgroup": "6",
         "legendgrouptitle": {
          "text": "--6--"
         },
         "line": {
          "color": "red",
          "width": 2
         },
         "marker": {
          "color": "red",
          "size": 1.4
         },
         "type": "scatter3d",
         "x": [
          88.33209228515625,
          284.680041461718
         ],
         "y": [
          63.46486282348633,
          25.497968697390796
         ],
         "z": [
          60.29911804199219,
          62.748159604760986
         ]
        },
        {
         "legendgroup": "6",
         "legendgrouptitle": {
          "text": "--6--"
         },
         "line": {
          "color": "green",
          "width": 2
         },
         "marker": {
          "color": "green",
          "size": 1.4
         },
         "type": "scatter3d",
         "x": [
          88.33209228515625,
          126.3425219578981
         ],
         "y": [
          63.46486282348633,
          259.77844033207333
         ],
         "z": [
          60.29911804199219,
          56.27587036461177
         ]
        },
        {
         "legendgroup": "6",
         "legendgrouptitle": {
          "text": "--6--"
         },
         "line": {
          "color": "blue",
          "width": 2
         },
         "marker": {
          "color": "blue",
          "size": 1.4
         },
         "type": "scatter3d",
         "x": [
          88.33209228515625,
          92.43246593570876
         ],
         "y": [
          63.46486282348633,
          52.42679341635814
         ],
         "z": [
          60.29911804199219,
          -439.56221068797595
         ]
        },
        {
         "legendgroup": "7",
         "legendgrouptitle": {
          "text": "--7--"
         },
         "line": {
          "color": "red",
          "width": 2
         },
         "marker": {
          "color": "red",
          "size": 1.5
         },
         "type": "scatter3d",
         "x": [
          133.93460083007812,
          325.74136988629175
         ],
         "y": [
          89.110107421875,
          32.593400712541644
         ],
         "z": [
          90.2947998046875,
          94.2979494331085
         ]
        },
        {
         "legendgroup": "7",
         "legendgrouptitle": {
          "text": "--7--"
         },
         "line": {
          "color": "green",
          "width": 2
         },
         "marker": {
          "color": "green",
          "size": 1.5
         },
         "type": "scatter3d",
         "x": [
          133.93460083007812,
          190.54985187352713
         ],
         "y": [
          89.110107421875,
          280.84291006005753
         ],
         "z": [
          90.2947998046875,
          84.52888775237585
         ]
        },
        {
         "legendgroup": "7",
         "legendgrouptitle": {
          "text": "--7--"
         },
         "line": {
          "color": "blue",
          "width": 2
         },
         "marker": {
          "color": "blue",
          "size": 1.5
         },
         "type": "scatter3d",
         "x": [
          133.93460083007812,
          139.45541004588873
         ],
         "y": [
          89.110107421875,
          72.45285388945346
         ],
         "z": [
          90.2947998046875,
          -409.39716187806687
         ]
        },
        {
         "legendgroup": "8",
         "legendgrouptitle": {
          "text": "--8--"
         },
         "line": {
          "color": "red",
          "width": 2
         },
         "marker": {
          "color": "red",
          "size": 1.6
         },
         "type": "scatter3d",
         "x": [
          189.37173461914062,
          373.41342718359886
         ],
         "y": [
          113.9020004272461,
          35.85476500971495
         ],
         "z": [
          126.05938720703125,
          132.165485936165
         ]
        },
        {
         "legendgroup": "8",
         "legendgrouptitle": {
          "text": "--8--"
         },
         "line": {
          "color": "green",
          "width": 2
         },
         "marker": {
          "color": "green",
          "size": 1.6
         },
         "type": "scatter3d",
         "x": [
          189.37173461914062,
          267.61288172044544
         ],
         "y": [
          113.9020004272461,
          297.8049148195797
         ],
         "z": [
          126.05938720703125,
          118.44092422044457
         ]
        },
        {
         "legendgroup": "8",
         "legendgrouptitle": {
          "text": "--8--"
         },
         "line": {
          "color": "blue",
          "width": 2
         },
         "marker": {
          "color": "blue",
          "size": 1.6
         },
         "type": "scatter3d",
         "x": [
          189.37173461914062,
          195.97585183940495
         ],
         "y": [
          113.9020004272461,
          90.40371303134191
         ],
         "z": [
          126.05938720703125,
          -373.34447353615576
         ]
        },
        {
         "legendgroup": "9",
         "legendgrouptitle": {
          "text": "--9--"
         },
         "line": {
          "color": "red",
          "width": 2
         },
         "marker": {
          "color": "red",
          "size": 1.7000000000000002
         },
         "type": "scatter3d",
         "x": [
          255.03411865234375,
          426.9612468002931
         ],
         "y": [
          134.8002471923828,
          33.001712152473374
         ],
         "z": [
          167.5974578857422,
          176.43605904921517
         ]
        },
        {
         "legendgroup": "9",
         "legendgrouptitle": {
          "text": "--9--"
         },
         "line": {
          "color": "green",
          "width": 2
         },
         "marker": {
          "color": "green",
          "size": 1.7000000000000002
         },
         "type": "scatter3d",
         "x": [
          255.03411865234375,
          357.177663248759
         ],
         "y": [
          134.8002471923828,
          306.49092307863276
         ],
         "z": [
          167.5974578857422,
          158.16304688119055
         ]
        },
        {
         "legendgroup": "9",
         "legendgrouptitle": {
          "text": "--9--"
         },
         "line": {
          "color": "blue",
          "width": 2
         },
         "marker": {
          "color": "blue",
          "size": 1.7000000000000002
         },
         "type": "scatter3d",
         "x": [
          255.03411865234375,
          261.9978210075677
         ],
         "y": [
          134.8002471923828,
          103.23978166874403
         ],
         "z": [
          167.5974578857422,
          -331.3568925967835
         ]
        },
        {
         "legendgroup": "10",
         "legendgrouptitle": {
          "text": "--10--"
         },
         "line": {
          "color": "red",
          "width": 2
         },
         "marker": {
          "color": "red",
          "size": 1.8
         },
         "type": "scatter3d",
         "x": [
          330.7092590332031,
          485.0380349835315
         ],
         "y": [
          148.29417419433594,
          21.675746629284717
         ],
         "z": [
          214.99911499023438,
          227.2629934398617
         ]
        },
        {
         "legendgroup": "10",
         "legendgrouptitle": {
          "text": "--10--"
         },
         "line": {
          "color": "green",
          "width": 2
         },
         "marker": {
          "color": "green",
          "size": 1.8
         },
         "type": "scatter3d",
         "x": [
          330.7092590332031,
          457.89643368771806
         ],
         "y": [
          148.29417419433594,
          302.2482354535705
         ],
         "z": [
          214.99911499023438,
          203.97325333729464
         ]
        },
        {
         "legendgroup": "10",
         "legendgrouptitle": {
          "text": "--10--"
         },
         "line": {
          "color": "blue",
          "width": 2
         },
         "marker": {
          "color": "blue",
          "size": 1.8
         },
         "type": "scatter3d",
         "x": [
          330.7092590332031,
          336.85921689651195
         ],
         "y": [
          148.29417419433594,
          107.52647690670662
         ],
         "z": [
          214.99911499023438,
          -283.2981586087126
         ]
        },
        {
         "legendgroup": "11",
         "legendgrouptitle": {
          "text": "--11--"
         },
         "line": {
          "color": "red",
          "width": 2
         },
         "marker": {
          "color": "red",
          "size": 1.9
         },
         "type": "scatter3d",
         "x": [
          414.9641418457031,
          545.2141814285105
         ],
         "y": [
          151.22496032714844,
          0.34103895739457357
         ],
         "z": [
          268.5169982910156,
          284.91728672637765
         ]
        },
        {
         "legendgroup": "11",
         "legendgrouptitle": {
          "text": "--11--"
         },
         "line": {
          "color": "green",
          "width": 2
         },
         "marker": {
          "color": "green",
          "size": 1.9
         },
         "type": "scatter3d",
         "x": [
          414.9641418457031,
          566.7296327139346
         ],
         "y": [
          151.22496032714844,
          280.91566999333924
         ],
         "z": [
          268.5169982910156,
          256.36975136817034
         ]
        },
        {
         "legendgroup": "11",
         "legendgrouptitle": {
          "text": "--11--"
         },
         "line": {
          "color": "blue",
          "width": 2
         },
         "marker": {
          "color": "blue",
          "size": 1.9
         },
         "type": "scatter3d",
         "x": [
          414.9641418457031,
          418.6409018000375
         ],
         "y": [
          151.22496032714844,
          100.33524511094808
         ],
         "z": [
          268.5169982910156,
          -228.87290743833495
         ]
        },
        {
         "legendgroup": "12",
         "legendgrouptitle": {
          "text": "--12--"
         },
         "line": {
          "color": "red",
          "width": 2
         },
         "marker": {
          "color": "red",
          "size": 2
         },
         "type": "scatter3d",
         "x": [
          505.8310241699219,
          604.8429263623558
         ],
         "y": [
          139.9419708251953,
          -32.5336671141381
         ],
         "z": [
          328.4549255371094,
          349.63976779887463
         ]
        },
        {
         "legendgroup": "12",
         "legendgrouptitle": {
          "text": "--12--"
         },
         "line": {
          "color": "green",
          "width": 2
         },
         "marker": {
          "color": "green",
          "size": 2
         },
         "type": "scatter3d",
         "x": [
          505.8310241699219,
          679.6024193253166
         ],
         "y": [
          139.9419708251953,
          238.16158758139258
         ],
         "z": [
          328.4549255371094,
          315.9485627559739
         ]
        },
        {
         "legendgroup": "12",
         "legendgrouptitle": {
          "text": "--12--"
         },
         "line": {
          "color": "blue",
          "width": 2
         },
         "marker": {
          "color": "blue",
          "size": 2
         },
         "type": "scatter3d",
         "x": [
          505.8310241699219,
          504.87757653259683
         ],
         "y": [
          139.9419708251953,
          78.44699126966032
         ],
         "z": [
          328.4549255371094,
          -167.74811599636132
         ]
        },
        {
         "legendgroup": "13",
         "legendgrouptitle": {
          "text": "--13--"
         },
         "line": {
          "color": "red",
          "width": 2
         },
         "marker": {
          "color": "red",
          "size": 2.1
         },
         "type": "scatter3d",
         "x": [
          599.9314575195312,
          660.4629346032976
         ],
         "y": [
          110.34314727783203,
          -78.43293347780715
         ],
         "z": [
          395.3056640625,
          421.75432407766635
         ]
        },
        {
         "legendgroup": "13",
         "legendgrouptitle": {
          "text": "--13--"
         },
         "line": {
          "color": "green",
          "width": 2
         },
         "marker": {
          "color": "green",
          "size": 2.1
         },
         "type": "scatter3d",
         "x": [
          599.9314575195312,
          790.5232629701334
         ],
         "y": [
          110.34314727783203,
          169.80400482919586
         ],
         "z": [
          395.3056640625,
          383.5086256911023
         ]
        },
        {
         "legendgroup": "13",
         "legendgrouptitle": {
          "text": "--13--"
         },
         "line": {
          "color": "blue",
          "width": 2
         },
         "marker": {
          "color": "blue",
          "size": 2.1
         },
         "type": "scatter3d",
         "x": [
          599.9314575195312,
          591.7522242359051
         ],
         "y": [
          110.34314727783203,
          38.405772004403545
         ],
         "z": [
          395.3056640625,
          -99.42468085446785
         ]
        },
        {
         "legendgroup": "14",
         "legendgrouptitle": {
          "text": "--14--"
         },
         "line": {
          "color": "red",
          "width": 2
         },
         "marker": {
          "color": "red",
          "size": 2.2
         },
         "type": "scatter3d",
         "x": [
          691.6362915039062,
          707.2443268238987
         ],
         "y": [
          59.34464645385742,
          -137.4757175572224
         ],
         "z": [
          469.82244873046875,
          501.7306536940185
         ]
        },
        {
         "legendgroup": "14",
         "legendgrouptitle": {
          "text": "--14--"
         },
         "line": {
          "color": "green",
          "width": 2
         },
         "marker": {
          "color": "green",
          "size": 2.2
         },
         "type": "scatter3d",
         "x": [
          691.6362915039062,
          890.8921158280097
         ],
         "y": [
          59.34464645385742,
          73.56700387471518
         ],
         "z": [
          469.82244873046875,
          460.08381318356476
         ]
        },
        {
         "legendgroup": "14",
         "legendgrouptitle": {
          "text": "--14--"
         },
         "line": {
          "color": "blue",
          "width": 2
         },
         "marker": {
          "color": "blue",
          "size": 2.2
         },
         "type": "scatter3d",
         "x": [
          691.6362915039062,
          673.349392783115
         ],
         "y": [
          59.34464645385742,
          -22.02906167488206
         ],
         "z": [
          469.82244873046875,
          -23.17238791648265
         ]
        },
        {
         "legendgroup": "15",
         "legendgrouptitle": {
          "text": "--15--"
         },
         "line": {
          "color": "red",
          "width": 2
         },
         "marker": {
          "color": "red",
          "size": 2.3
         },
         "type": "scatter3d",
         "x": [
          773.6050415039062,
          739.7979739465735
         ],
         "y": [
          -14.122413635253906,
          -207.7120418453878
         ],
         "z": [
          552.7658081054688,
          589.9160171578559
         ]
        },
        {
         "legendgroup": "15",
         "legendgrouptitle": {
          "text": "--15--"
         },
         "line": {
          "color": "green",
          "width": 2
         },
         "marker": {
          "color": "green",
          "size": 2.3
         },
         "type": "scatter3d",
         "x": [
          773.6050415039062,
          970.3294296655472
         ],
         "y": [
          -14.122413635253906,
          -49.649536116844224
         ],
         "z": [
          552.7658081054688,
          546.6552704363188
         ]
        },
        {
         "legendgroup": "15",
         "legendgrouptitle": {
          "text": "--15--"
         },
         "line": {
          "color": "blue",
          "width": 2
         },
         "marker": {
          "color": "blue",
          "size": 2.3
         },
         "type": "scatter3d",
         "x": [
          773.6050415039062,
          742.3203322194612
         ],
         "y": [
          -14.122413635253906,
          -102.89457346169569
         ],
         "z": [
          552.7658081054688,
          61.704945681332504
         ]
        },
        {
         "legendgroup": "16",
         "legendgrouptitle": {
          "text": "--16--"
         },
         "line": {
          "color": "red",
          "width": 2
         },
         "marker": {
          "color": "red",
          "size": 2.4000000000000004
         },
         "type": "scatter3d",
         "x": [
          837.2778930664062,
          752.862529936149
         ],
         "y": [
          -108.24862670898438,
          -284.7155218035406
         ],
         "z": [
          644.8541259765625,
          686.4892241903738
         ]
        },
        {
         "legendgroup": "16",
         "legendgrouptitle": {
          "text": "--16--"
         },
         "line": {
          "color": "green",
          "width": 2
         },
         "marker": {
          "color": "green",
          "size": 2.4000000000000004
         },
         "type": "scatter3d",
         "x": [
          837.2778930664062,
          1017.6206774875858
         ],
         "y": [
          -108.24862670898438,
          -194.71138630748743
         ],
         "z": [
          644.8541259765625,
          644.0347909855863
         ]
        },
        {
         "legendgroup": "16",
         "legendgrouptitle": {
          "text": "--16--"
         },
         "line": {
          "color": "blue",
          "width": 2
         },
         "marker": {
          "color": "blue",
          "size": 2.4000000000000004
         },
         "type": "scatter3d",
         "x": [
          837.2778930664062,
          790.4720056961469
         ],
         "y": [
          -108.24862670898438,
          -201.24144021822713
         ],
         "z": [
          644.8541259765625,
          155.8126701232598
         ]
        },
        {
         "legendgroup": "17",
         "legendgrouptitle": {
          "text": "--17--"
         },
         "line": {
          "color": "red",
          "width": 2
         },
         "marker": {
          "color": "red",
          "size": 2.5
         },
         "type": "scatter3d",
         "x": [
          873.821044921875,
          742.2552126142078
         ],
         "y": [
          -217.66494750976562,
          -361.5023226420622
         ],
         "z": [
          746.796875,
          791.5321103770692
         ]
        },
        {
         "legendgroup": "17",
         "legendgrouptitle": {
          "text": "--17--"
         },
         "line": {
          "color": "green",
          "width": 2
         },
         "marker": {
          "color": "green",
          "size": 2.5
         },
         "type": "scatter3d",
         "x": [
          873.821044921875,
          1022.2601734674668
         ],
         "y": [
          -217.66494750976562,
          -351.56612861216
         ],
         "z": [
          746.796875,
          752.8217248744022
         ]
        },
        {
         "legendgroup": "17",
         "legendgrouptitle": {
          "text": "--17--"
         },
         "line": {
          "color": "blue",
          "width": 2
         },
         "marker": {
          "color": "blue",
          "size": 2.5
         },
         "type": "scatter3d",
         "x": [
          873.821044921875,
          809.777266642087
         ],
         "y": [
          -217.66494750976562,
          -310.57899429612246
         ],
         "z": [
          746.796875,
          259.6979380545042
         ]
        },
        {
         "legendgroup": "18",
         "legendgrouptitle": {
          "text": "--18--"
         },
         "line": {
          "color": "red",
          "width": 2
         },
         "marker": {
          "color": "red",
          "size": 2.6
         },
         "type": "scatter3d",
         "x": [
          875.6935424804688,
          706.2012443849588
         ],
         "y": [
          -333.2439270019531,
          -429.0308889979094
         ],
         "z": [
          858.7215576171875,
          904.5169591100015
         ]
        },
        {
         "legendgroup": "18",
         "legendgrouptitle": {
          "text": "--18--"
         },
         "line": {
          "color": "green",
          "width": 2
         },
         "marker": {
          "color": "green",
          "size": 2.6
         },
         "type": "scatter3d",
         "x": [
          875.6935424804688,
          976.7142330113647
         ],
         "y": [
          -333.2439270019531,
          -505.28354975752836
         ],
         "z": [
          858.7215576171875,
          872.7639323017033
         ]
        },
        {
         "legendgroup": "18",
         "legendgrouptitle": {
          "text": "--18--"
         },
         "line": {
          "color": "blue",
          "width": 2
         },
         "marker": {
          "color": "blue",
          "size": 2.6
         },
         "type": "scatter3d",
         "x": [
          875.6935424804688,
          794.0242026489045
         ],
         "y": [
          -333.2439270019531,
          -420.82339497620916
         ],
         "z": [
          858.7215576171875,
          373.2733567544973
         ]
        },
        {
         "legendgroup": "19",
         "legendgrouptitle": {
          "text": "--19--"
         },
         "line": {
          "color": "red",
          "width": 2
         },
         "marker": {
          "color": "red",
          "size": 2.7
         },
         "type": "scatter3d",
         "x": [
          838.2767944335938,
          646.3572898784618
         ],
         "y": [
          -442.7580261230469,
          -477.52926487118015
         ],
         "z": [
          980.1502685546875,
          1024.3980337777243
         ]
        },
        {
         "legendgroup": "19",
         "legendgrouptitle": {
          "text": "--19--"
         },
         "line": {
          "color": "green",
          "width": 2
         },
         "marker": {
          "color": "green",
          "size": 2.7
         },
         "type": "scatter3d",
         "x": [
          838.2767944335938,
          878.7259177784077
         ],
         "y": [
          -442.7580261230469,
          -637.3227593517364
         ],
         "z": [
          980.1502685546875,
          1002.6987275770891
         ]
        },
        {
         "legendgroup": "19",
         "legendgrouptitle": {
          "text": "--19--"
         },
         "line": {
          "color": "blue",
          "width": 2
         },
         "marker": {
          "color": "blue",
          "size": 2.7
         },
         "type": "scatter3d",
         "x": [
          838.2767944335938,
          740.4640846271511
         ],
         "y": [
          -442.7580261230469,
          -519.2239310892968
         ],
         "z": [
          980.1502685546875,
          495.80985192810334
         ]
        },
        {
         "legendgroup": "20",
         "legendgrouptitle": {
          "text": "--20--"
         },
         "line": {
          "color": "red",
          "width": 2
         },
         "marker": {
          "color": "red",
          "size": 2.8
         },
         "type": "scatter3d",
         "x": [
          761.9019775390625,
          568.8490915352875
         ],
         "y": [
          -531.0537719726562,
          -497.1654455056195
         ],
         "z": [
          1110.083251953125,
          1149.8596838554083
         ]
        },
        {
         "legendgroup": "20",
         "legendgrouptitle": {
          "text": "--20--"
         },
         "line": {
          "color": "green",
          "width": 2
         },
         "marker": {
          "color": "green",
          "size": 2.8
         },
         "type": "scatter3d",
         "x": [
          761.9019775390625,
          733.8518781354363
         ],
         "y": [
          -531.0537719726562,
          -726.7062008273105
         ],
         "z": [
          1110.083251953125,
          1140.633522111033
         ]
        },
        {
         "legendgroup": "20",
         "legendgrouptitle": {
          "text": "--20--"
         },
         "line": {
          "color": "blue",
          "width": 2
         },
         "marker": {
          "color": "blue",
          "size": 2.8
         },
         "type": "scatter3d",
         "x": [
          761.9019775390625,
          651.6813145188022
         ],
         "y": [
          -531.0537719726562,
          -590.8298338901379
         ],
         "z": [
          1110.083251953125,
          626.0602898273477
         ]
        },
        {
         "legendgroup": "21",
         "legendgrouptitle": {
          "text": "--21--"
         },
         "line": {
          "color": "red",
          "width": 2
         },
         "marker": {
          "color": "red",
          "size": 2.9000000000000004
         },
         "type": "scatter3d",
         "x": [
          653.2899780273438,
          484.32863946985754
         ],
         "y": [
          -582.731689453125,
          -480.76385631147645
         ],
         "z": [
          1247.0638427734375,
          1279.5388651330827
         ]
        },
        {
         "legendgroup": "21",
         "legendgrouptitle": {
          "text": "--21--"
         },
         "line": {
          "color": "green",
          "width": 2
         },
         "marker": {
          "color": "green",
          "size": 2.9000000000000004
         },
         "type": "scatter3d",
         "x": [
          653.2899780273438,
          556.9590167373449
         ],
         "y": [
          -582.731689453125,
          -754.0873418889466
         ],
         "z": [
          1247.0638427734375,
          1283.9092804182617
         ]
        },
        {
         "legendgroup": "21",
         "legendgrouptitle": {
          "text": "--21--"
         },
         "line": {
          "color": "blue",
          "width": 2
         },
         "marker": {
          "color": "blue",
          "size": 2.9000000000000004
         },
         "type": "scatter3d",
         "x": [
          653.2899780273438,
          536.7671270010518
         ],
         "y": [
          -582.731689453125,
          -621.445493732963
         ],
         "z": [
          1247.0638427734375,
          762.3745953716749
         ]
        },
        {
         "legendgroup": "22",
         "legendgrouptitle": {
          "text": "--22--"
         },
         "line": {
          "color": "red",
          "width": 2
         },
         "marker": {
          "color": "red",
          "size": 3
         },
         "type": "scatter3d",
         "x": [
          525.5995483398438,
          406.48584231155814
         ],
         "y": [
          -584.3184204101562,
          -425.3095240211147
         ],
         "z": [
          1389.11767578125,
          1412.0980131448791
         ]
        },
        {
         "legendgroup": "22",
         "legendgrouptitle": {
          "text": "--22--"
         },
         "line": {
          "color": "green",
          "width": 2
         },
         "marker": {
          "color": "green",
          "size": 3
         },
         "type": "scatter3d",
         "x": [
          525.5995483398438,
          371.6337299811505
         ],
         "y": [
          -584.3184204101562,
          -705.466903160798
         ],
         "z": [
          1389.11767578125,
          1429.3367248047582
         ]
        },
        {
         "legendgroup": "22",
         "legendgrouptitle": {
          "text": "--22--"
         },
         "line": {
          "color": "blue",
          "width": 2
         },
         "marker": {
          "color": "blue",
          "size": 3
         },
         "type": "scatter3d",
         "x": [
          525.5995483398438,
          410.85930329301436
         ],
         "y": [
          -584.3184204101562,
          -599.9740895823229
         ],
         "z": [
          1389.11767578125,
          902.7129305439473
         ]
        }
       ],
       "layout": {
        "scene": {
         "aspectmode": "data",
         "aspectratio": {
          "x": 1,
          "y": 1,
          "z": 1
         }
        },
        "template": {
         "data": {
          "bar": [
           {
            "error_x": {
             "color": "#2a3f5f"
            },
            "error_y": {
             "color": "#2a3f5f"
            },
            "marker": {
             "line": {
              "color": "#E5ECF6",
              "width": 0.5
             },
             "pattern": {
              "fillmode": "overlay",
              "size": 10,
              "solidity": 0.2
             }
            },
            "type": "bar"
           }
          ],
          "barpolar": [
           {
            "marker": {
             "line": {
              "color": "#E5ECF6",
              "width": 0.5
             },
             "pattern": {
              "fillmode": "overlay",
              "size": 10,
              "solidity": 0.2
             }
            },
            "type": "barpolar"
           }
          ],
          "carpet": [
           {
            "aaxis": {
             "endlinecolor": "#2a3f5f",
             "gridcolor": "white",
             "linecolor": "white",
             "minorgridcolor": "white",
             "startlinecolor": "#2a3f5f"
            },
            "baxis": {
             "endlinecolor": "#2a3f5f",
             "gridcolor": "white",
             "linecolor": "white",
             "minorgridcolor": "white",
             "startlinecolor": "#2a3f5f"
            },
            "type": "carpet"
           }
          ],
          "choropleth": [
           {
            "colorbar": {
             "outlinewidth": 0,
             "ticks": ""
            },
            "type": "choropleth"
           }
          ],
          "contour": [
           {
            "colorbar": {
             "outlinewidth": 0,
             "ticks": ""
            },
            "colorscale": [
             [
              0,
              "#0d0887"
             ],
             [
              0.1111111111111111,
              "#46039f"
             ],
             [
              0.2222222222222222,
              "#7201a8"
             ],
             [
              0.3333333333333333,
              "#9c179e"
             ],
             [
              0.4444444444444444,
              "#bd3786"
             ],
             [
              0.5555555555555556,
              "#d8576b"
             ],
             [
              0.6666666666666666,
              "#ed7953"
             ],
             [
              0.7777777777777778,
              "#fb9f3a"
             ],
             [
              0.8888888888888888,
              "#fdca26"
             ],
             [
              1,
              "#f0f921"
             ]
            ],
            "type": "contour"
           }
          ],
          "contourcarpet": [
           {
            "colorbar": {
             "outlinewidth": 0,
             "ticks": ""
            },
            "type": "contourcarpet"
           }
          ],
          "heatmap": [
           {
            "colorbar": {
             "outlinewidth": 0,
             "ticks": ""
            },
            "colorscale": [
             [
              0,
              "#0d0887"
             ],
             [
              0.1111111111111111,
              "#46039f"
             ],
             [
              0.2222222222222222,
              "#7201a8"
             ],
             [
              0.3333333333333333,
              "#9c179e"
             ],
             [
              0.4444444444444444,
              "#bd3786"
             ],
             [
              0.5555555555555556,
              "#d8576b"
             ],
             [
              0.6666666666666666,
              "#ed7953"
             ],
             [
              0.7777777777777778,
              "#fb9f3a"
             ],
             [
              0.8888888888888888,
              "#fdca26"
             ],
             [
              1,
              "#f0f921"
             ]
            ],
            "type": "heatmap"
           }
          ],
          "heatmapgl": [
           {
            "colorbar": {
             "outlinewidth": 0,
             "ticks": ""
            },
            "colorscale": [
             [
              0,
              "#0d0887"
             ],
             [
              0.1111111111111111,
              "#46039f"
             ],
             [
              0.2222222222222222,
              "#7201a8"
             ],
             [
              0.3333333333333333,
              "#9c179e"
             ],
             [
              0.4444444444444444,
              "#bd3786"
             ],
             [
              0.5555555555555556,
              "#d8576b"
             ],
             [
              0.6666666666666666,
              "#ed7953"
             ],
             [
              0.7777777777777778,
              "#fb9f3a"
             ],
             [
              0.8888888888888888,
              "#fdca26"
             ],
             [
              1,
              "#f0f921"
             ]
            ],
            "type": "heatmapgl"
           }
          ],
          "histogram": [
           {
            "marker": {
             "pattern": {
              "fillmode": "overlay",
              "size": 10,
              "solidity": 0.2
             }
            },
            "type": "histogram"
           }
          ],
          "histogram2d": [
           {
            "colorbar": {
             "outlinewidth": 0,
             "ticks": ""
            },
            "colorscale": [
             [
              0,
              "#0d0887"
             ],
             [
              0.1111111111111111,
              "#46039f"
             ],
             [
              0.2222222222222222,
              "#7201a8"
             ],
             [
              0.3333333333333333,
              "#9c179e"
             ],
             [
              0.4444444444444444,
              "#bd3786"
             ],
             [
              0.5555555555555556,
              "#d8576b"
             ],
             [
              0.6666666666666666,
              "#ed7953"
             ],
             [
              0.7777777777777778,
              "#fb9f3a"
             ],
             [
              0.8888888888888888,
              "#fdca26"
             ],
             [
              1,
              "#f0f921"
             ]
            ],
            "type": "histogram2d"
           }
          ],
          "histogram2dcontour": [
           {
            "colorbar": {
             "outlinewidth": 0,
             "ticks": ""
            },
            "colorscale": [
             [
              0,
              "#0d0887"
             ],
             [
              0.1111111111111111,
              "#46039f"
             ],
             [
              0.2222222222222222,
              "#7201a8"
             ],
             [
              0.3333333333333333,
              "#9c179e"
             ],
             [
              0.4444444444444444,
              "#bd3786"
             ],
             [
              0.5555555555555556,
              "#d8576b"
             ],
             [
              0.6666666666666666,
              "#ed7953"
             ],
             [
              0.7777777777777778,
              "#fb9f3a"
             ],
             [
              0.8888888888888888,
              "#fdca26"
             ],
             [
              1,
              "#f0f921"
             ]
            ],
            "type": "histogram2dcontour"
           }
          ],
          "mesh3d": [
           {
            "colorbar": {
             "outlinewidth": 0,
             "ticks": ""
            },
            "type": "mesh3d"
           }
          ],
          "parcoords": [
           {
            "line": {
             "colorbar": {
              "outlinewidth": 0,
              "ticks": ""
             }
            },
            "type": "parcoords"
           }
          ],
          "pie": [
           {
            "automargin": true,
            "type": "pie"
           }
          ],
          "scatter": [
           {
            "marker": {
             "colorbar": {
              "outlinewidth": 0,
              "ticks": ""
             }
            },
            "type": "scatter"
           }
          ],
          "scatter3d": [
           {
            "line": {
             "colorbar": {
              "outlinewidth": 0,
              "ticks": ""
             }
            },
            "marker": {
             "colorbar": {
              "outlinewidth": 0,
              "ticks": ""
             }
            },
            "type": "scatter3d"
           }
          ],
          "scattercarpet": [
           {
            "marker": {
             "colorbar": {
              "outlinewidth": 0,
              "ticks": ""
             }
            },
            "type": "scattercarpet"
           }
          ],
          "scattergeo": [
           {
            "marker": {
             "colorbar": {
              "outlinewidth": 0,
              "ticks": ""
             }
            },
            "type": "scattergeo"
           }
          ],
          "scattergl": [
           {
            "marker": {
             "colorbar": {
              "outlinewidth": 0,
              "ticks": ""
             }
            },
            "type": "scattergl"
           }
          ],
          "scattermapbox": [
           {
            "marker": {
             "colorbar": {
              "outlinewidth": 0,
              "ticks": ""
             }
            },
            "type": "scattermapbox"
           }
          ],
          "scatterpolar": [
           {
            "marker": {
             "colorbar": {
              "outlinewidth": 0,
              "ticks": ""
             }
            },
            "type": "scatterpolar"
           }
          ],
          "scatterpolargl": [
           {
            "marker": {
             "colorbar": {
              "outlinewidth": 0,
              "ticks": ""
             }
            },
            "type": "scatterpolargl"
           }
          ],
          "scatterternary": [
           {
            "marker": {
             "colorbar": {
              "outlinewidth": 0,
              "ticks": ""
             }
            },
            "type": "scatterternary"
           }
          ],
          "surface": [
           {
            "colorbar": {
             "outlinewidth": 0,
             "ticks": ""
            },
            "colorscale": [
             [
              0,
              "#0d0887"
             ],
             [
              0.1111111111111111,
              "#46039f"
             ],
             [
              0.2222222222222222,
              "#7201a8"
             ],
             [
              0.3333333333333333,
              "#9c179e"
             ],
             [
              0.4444444444444444,
              "#bd3786"
             ],
             [
              0.5555555555555556,
              "#d8576b"
             ],
             [
              0.6666666666666666,
              "#ed7953"
             ],
             [
              0.7777777777777778,
              "#fb9f3a"
             ],
             [
              0.8888888888888888,
              "#fdca26"
             ],
             [
              1,
              "#f0f921"
             ]
            ],
            "type": "surface"
           }
          ],
          "table": [
           {
            "cells": {
             "fill": {
              "color": "#EBF0F8"
             },
             "line": {
              "color": "white"
             }
            },
            "header": {
             "fill": {
              "color": "#C8D4E3"
             },
             "line": {
              "color": "white"
             }
            },
            "type": "table"
           }
          ]
         },
         "layout": {
          "annotationdefaults": {
           "arrowcolor": "#2a3f5f",
           "arrowhead": 0,
           "arrowwidth": 1
          },
          "autotypenumbers": "strict",
          "coloraxis": {
           "colorbar": {
            "outlinewidth": 0,
            "ticks": ""
           }
          },
          "colorscale": {
           "diverging": [
            [
             0,
             "#8e0152"
            ],
            [
             0.1,
             "#c51b7d"
            ],
            [
             0.2,
             "#de77ae"
            ],
            [
             0.3,
             "#f1b6da"
            ],
            [
             0.4,
             "#fde0ef"
            ],
            [
             0.5,
             "#f7f7f7"
            ],
            [
             0.6,
             "#e6f5d0"
            ],
            [
             0.7,
             "#b8e186"
            ],
            [
             0.8,
             "#7fbc41"
            ],
            [
             0.9,
             "#4d9221"
            ],
            [
             1,
             "#276419"
            ]
           ],
           "sequential": [
            [
             0,
             "#0d0887"
            ],
            [
             0.1111111111111111,
             "#46039f"
            ],
            [
             0.2222222222222222,
             "#7201a8"
            ],
            [
             0.3333333333333333,
             "#9c179e"
            ],
            [
             0.4444444444444444,
             "#bd3786"
            ],
            [
             0.5555555555555556,
             "#d8576b"
            ],
            [
             0.6666666666666666,
             "#ed7953"
            ],
            [
             0.7777777777777778,
             "#fb9f3a"
            ],
            [
             0.8888888888888888,
             "#fdca26"
            ],
            [
             1,
             "#f0f921"
            ]
           ],
           "sequentialminus": [
            [
             0,
             "#0d0887"
            ],
            [
             0.1111111111111111,
             "#46039f"
            ],
            [
             0.2222222222222222,
             "#7201a8"
            ],
            [
             0.3333333333333333,
             "#9c179e"
            ],
            [
             0.4444444444444444,
             "#bd3786"
            ],
            [
             0.5555555555555556,
             "#d8576b"
            ],
            [
             0.6666666666666666,
             "#ed7953"
            ],
            [
             0.7777777777777778,
             "#fb9f3a"
            ],
            [
             0.8888888888888888,
             "#fdca26"
            ],
            [
             1,
             "#f0f921"
            ]
           ]
          },
          "colorway": [
           "#636efa",
           "#EF553B",
           "#00cc96",
           "#ab63fa",
           "#FFA15A",
           "#19d3f3",
           "#FF6692",
           "#B6E880",
           "#FF97FF",
           "#FECB52"
          ],
          "font": {
           "color": "#2a3f5f"
          },
          "geo": {
           "bgcolor": "white",
           "lakecolor": "white",
           "landcolor": "#E5ECF6",
           "showlakes": true,
           "showland": true,
           "subunitcolor": "white"
          },
          "hoverlabel": {
           "align": "left"
          },
          "hovermode": "closest",
          "mapbox": {
           "style": "light"
          },
          "paper_bgcolor": "white",
          "plot_bgcolor": "#E5ECF6",
          "polar": {
           "angularaxis": {
            "gridcolor": "white",
            "linecolor": "white",
            "ticks": ""
           },
           "bgcolor": "#E5ECF6",
           "radialaxis": {
            "gridcolor": "white",
            "linecolor": "white",
            "ticks": ""
           }
          },
          "scene": {
           "xaxis": {
            "backgroundcolor": "#E5ECF6",
            "gridcolor": "white",
            "gridwidth": 2,
            "linecolor": "white",
            "showbackground": true,
            "ticks": "",
            "zerolinecolor": "white"
           },
           "yaxis": {
            "backgroundcolor": "#E5ECF6",
            "gridcolor": "white",
            "gridwidth": 2,
            "linecolor": "white",
            "showbackground": true,
            "ticks": "",
            "zerolinecolor": "white"
           },
           "zaxis": {
            "backgroundcolor": "#E5ECF6",
            "gridcolor": "white",
            "gridwidth": 2,
            "linecolor": "white",
            "showbackground": true,
            "ticks": "",
            "zerolinecolor": "white"
           }
          },
          "shapedefaults": {
           "line": {
            "color": "#2a3f5f"
           }
          },
          "ternary": {
           "aaxis": {
            "gridcolor": "white",
            "linecolor": "white",
            "ticks": ""
           },
           "baxis": {
            "gridcolor": "white",
            "linecolor": "white",
            "ticks": ""
           },
           "bgcolor": "#E5ECF6",
           "caxis": {
            "gridcolor": "white",
            "linecolor": "white",
            "ticks": ""
           }
          },
          "title": {
           "x": 0.05
          },
          "xaxis": {
           "automargin": true,
           "gridcolor": "white",
           "linecolor": "white",
           "ticks": "",
           "title": {
            "standoff": 15
           },
           "zerolinecolor": "white",
           "zerolinewidth": 2
          },
          "yaxis": {
           "automargin": true,
           "gridcolor": "white",
           "linecolor": "white",
           "ticks": "",
           "title": {
            "standoff": 15
           },
           "zerolinecolor": "white",
           "zerolinewidth": 2
          }
         }
        },
        "title": {
         "text": "0-SLW"
        }
       }
      },
      "text/html": [
       "<div>                            <div id=\"e8ce6819-86e7-4ea6-99b9-6615221cf44b\" class=\"plotly-graph-div\" style=\"height:525px; width:100%;\"></div>            <script type=\"text/javascript\">                require([\"plotly\"], function(Plotly) {                    window.PLOTLYENV=window.PLOTLYENV || {};                                    if (document.getElementById(\"e8ce6819-86e7-4ea6-99b9-6615221cf44b\")) {                    Plotly.newPlot(                        \"e8ce6819-86e7-4ea6-99b9-6615221cf44b\",                        [{\"legendgroup\":\"0\",\"legendgrouptitle\":{\"text\":\"origins\"},\"line\":{\"color\":\"black\",\"width\":2},\"marker\":{\"color\":\"black\",\"size\":1},\"type\":\"scatter3d\",\"x\":[0.0,8.779568672180176,26.383560180664062,52.653038024902344,88.33209228515625,133.93460083007812,189.37173461914062,255.03411865234375,330.7092590332031,414.9641418457031,505.8310241699219,599.9314575195312,691.6362915039062,773.6050415039062,837.2778930664062,873.821044921875,875.6935424804688,838.2767944335938,761.9019775390625,653.2899780273438,525.5995483398438],\"y\":[0.0,6.814178943634033,20.248981475830078,39.74723434448242,63.46486282348633,89.110107421875,113.9020004272461,134.8002471923828,148.29417419433594,151.22496032714844,139.9419708251953,110.34314727783203,59.34464645385742,-14.122413635253906,-108.24862670898438,-217.66494750976562,-333.2439270019531,-442.7580261230469,-531.0537719726562,-582.731689453125,-584.3184204101562],\"z\":[0.0,5.970254421234131,18.000732421875,36.13860321044922,60.29911804199219,90.2947998046875,126.05938720703125,167.5974578857422,214.99911499023438,268.5169982910156,328.4549255371094,395.3056640625,469.82244873046875,552.7658081054688,644.8541259765625,746.796875,858.7215576171875,980.1502685546875,1110.083251953125,1247.0638427734375,1389.11767578125]},{\"legendgroup\":\"1\",\"legendgrouptitle\":{\"text\":\"finish\"},\"line\":{\"color\":\"black\",\"width\":2},\"marker\":{\"color\":\"black\",\"size\":1},\"type\":\"scatter3d\",\"x\":[0.0,-0.7604383502718921,-2.2434219551273102,-4.5400210158562615,-6.693981896698347,-7.603526778544364,-6.231133134121421,-0.3247428386943909,12.741322396915848,35.5504146751245,71.40253628143489,123.45194389302577,193.49673069364775,281.7940710998039,386.4209320134575,502.72322355789566,623.1418161532289,737.1539860715588,832.027226048128,894.117381252341,910.5140942365769],\"y\":[-500.0,-493.09359553193264,-478.9204562099402,-456.93156985421336,-427.31908094798115,-390.22189917358133,-345.855285553588,-294.4264425232421,-236.59097895375055,-173.00181383832853,-105.60707106529787,-38.30899660057756,23.788752901713032,74.69539256872189,107.90827228727323,117.08800524622029,96.85512988698491,43.6538069486769,-41.92269983602074,-154.34255836357084,-281.447213533552],\"z\":[0.0,7.068109100859295,21.220728426379964,42.3931581357747,70.35723723544322,104.7095799354666,145.10554467349795,191.18348539712127,242.5637691225837,298.8851155981288,359.72083248994807,424.79825999099427,494.16903759772873,568.0421522783436,646.9024634540032,731.7347503139946,823.615620905898,923.7791209986835,1033.707576558355,1154.9502486613771,1288.5700532224796]},{\"legendgroup\":\"2\",\"legendgrouptitle\":{\"text\":\"--2--\"},\"line\":{\"color\":\"red\",\"width\":2},\"marker\":{\"color\":\"red\",\"size\":1.0},\"type\":\"scatter3d\",\"x\":[0.0,200.0],\"y\":[0.0,0.0],\"z\":[0.0,0.0]},{\"legendgroup\":\"2\",\"legendgrouptitle\":{\"text\":\"--2--\"},\"line\":{\"color\":\"green\",\"width\":2},\"marker\":{\"color\":\"green\",\"size\":1.0},\"type\":\"scatter3d\",\"x\":[0.0,0.0],\"y\":[0.0,200.0],\"z\":[0.0,0.0]},{\"legendgroup\":\"2\",\"legendgrouptitle\":{\"text\":\"--2--\"},\"line\":{\"color\":\"blue\",\"width\":2},\"marker\":{\"color\":\"blue\",\"size\":1.0},\"type\":\"scatter3d\",\"x\":[0.0,0.0],\"y\":[0.0,0.0],\"z\":[0.0,-500.0]},{\"legendgroup\":\"3\",\"legendgrouptitle\":{\"text\":\"--3--\"},\"line\":{\"color\":\"red\",\"width\":2},\"marker\":{\"color\":\"red\",\"size\":1.1},\"type\":\"scatter3d\",\"x\":[8.779568672180176,208.74307469488846],\"y\":[6.814178943634033,2.9985942605195866],\"z\":[5.970254421234131,6.1640910336016015]},{\"legendgroup\":\"3\",\"legendgrouptitle\":{\"text\":\"--3--\"},\"line\":{\"color\":\"green\",\"width\":2},\"marker\":{\"color\":\"green\",\"size\":1.1},\"type\":\"scatter3d\",\"x\":[8.779568672180176,12.595571481161002],\"y\":[6.814178943634033,206.7772887338607],\"z\":[5.970254421234131,5.531112549384066]},{\"legendgroup\":\"3\",\"legendgrouptitle\":{\"text\":\"--3--\"},\"line\":{\"color\":\"blue\",\"width\":2},\"marker\":{\"color\":\"blue\",\"size\":1.1},\"type\":\"scatter3d\",\"x\":[8.779568672180176,9.243126032183387],\"y\":[6.814178943634033,5.707278576211639],\"z\":[5.970254421234131,-494.0283054628425]},{\"legendgroup\":\"4\",\"legendgrouptitle\":{\"text\":\"--4--\"},\"line\":{\"color\":\"red\",\"width\":2},\"marker\":{\"color\":\"red\",\"size\":1.2},\"type\":\"scatter3d\",\"x\":[26.383560180664062,226.05473347226985],\"y\":[20.248981475830078,8.802020325499194],\"z\":[18.000732421875,18.624941342309775]},{\"legendgroup\":\"4\",\"legendgrouptitle\":{\"text\":\"--4--\"},\"line\":{\"color\":\"green\",\"width\":2},\"marker\":{\"color\":\"green\",\"size\":1.2},\"type\":\"scatter3d\",\"x\":[26.383560180664062,37.83435303498061],\"y\":[20.248981475830078,219.9167565501382],\"z\":[18.000732421875,16.712734020073015]},{\"legendgroup\":\"4\",\"legendgrouptitle\":{\"text\":\"--4--\"},\"line\":{\"color\":\"blue\",\"width\":2},\"marker\":{\"color\":\"blue\",\"size\":1.2},\"type\":\"scatter3d\",\"x\":[26.383560180664062,27.75719441388446],\"y\":[20.248981475830078,16.944933486689695],\"z\":[18.000732421875,-481.98646381006733]},{\"legendgroup\":\"5\",\"legendgrouptitle\":{\"text\":\"--5--\"},\"line\":{\"color\":\"red\",\"width\":2},\"marker\":{\"color\":\"red\",\"size\":1.3},\"type\":\"scatter3d\",\"x\":[52.653038024902344,251.337502334579],\"y\":[39.74723434448242,16.88553946732566],\"z\":[36.13860321044922,37.49010212669172]},{\"legendgroup\":\"5\",\"legendgrouptitle\":{\"text\":\"--5--\"},\"line\":{\"color\":\"green\",\"width\":2},\"marker\":{\"color\":\"green\",\"size\":1.3},\"type\":\"scatter3d\",\"x\":[52.653038024902344,75.53026164120578],\"y\":[39.74723434448242,238.41875602396075],\"z\":[36.13860321044922,33.636781240319024]},{\"legendgroup\":\"5\",\"legendgrouptitle\":{\"text\":\"--5--\"},\"line\":{\"color\":\"blue\",\"width\":2},\"marker\":{\"color\":\"blue\",\"size\":1.3},\"type\":\"scatter3d\",\"x\":[52.653038024902344,55.29439372140208],\"y\":[39.74723434448242,33.14733808376282],\"z\":[36.13860321044922,-463.8108588448993]},{\"legendgroup\":\"6\",\"legendgrouptitle\":{\"text\":\"--6--\"},\"line\":{\"color\":\"red\",\"width\":2},\"marker\":{\"color\":\"red\",\"size\":1.4},\"type\":\"scatter3d\",\"x\":[88.33209228515625,284.680041461718],\"y\":[63.46486282348633,25.497968697390796],\"z\":[60.29911804199219,62.748159604760986]},{\"legendgroup\":\"6\",\"legendgrouptitle\":{\"text\":\"--6--\"},\"line\":{\"color\":\"green\",\"width\":2},\"marker\":{\"color\":\"green\",\"size\":1.4},\"type\":\"scatter3d\",\"x\":[88.33209228515625,126.3425219578981],\"y\":[63.46486282348633,259.77844033207333],\"z\":[60.29911804199219,56.27587036461177]},{\"legendgroup\":\"6\",\"legendgrouptitle\":{\"text\":\"--6--\"},\"line\":{\"color\":\"blue\",\"width\":2},\"marker\":{\"color\":\"blue\",\"size\":1.4},\"type\":\"scatter3d\",\"x\":[88.33209228515625,92.43246593570876],\"y\":[63.46486282348633,52.42679341635814],\"z\":[60.29911804199219,-439.56221068797595]},{\"legendgroup\":\"7\",\"legendgrouptitle\":{\"text\":\"--7--\"},\"line\":{\"color\":\"red\",\"width\":2},\"marker\":{\"color\":\"red\",\"size\":1.5},\"type\":\"scatter3d\",\"x\":[133.93460083007812,325.74136988629175],\"y\":[89.110107421875,32.593400712541644],\"z\":[90.2947998046875,94.2979494331085]},{\"legendgroup\":\"7\",\"legendgrouptitle\":{\"text\":\"--7--\"},\"line\":{\"color\":\"green\",\"width\":2},\"marker\":{\"color\":\"green\",\"size\":1.5},\"type\":\"scatter3d\",\"x\":[133.93460083007812,190.54985187352713],\"y\":[89.110107421875,280.84291006005753],\"z\":[90.2947998046875,84.52888775237585]},{\"legendgroup\":\"7\",\"legendgrouptitle\":{\"text\":\"--7--\"},\"line\":{\"color\":\"blue\",\"width\":2},\"marker\":{\"color\":\"blue\",\"size\":1.5},\"type\":\"scatter3d\",\"x\":[133.93460083007812,139.45541004588873],\"y\":[89.110107421875,72.45285388945346],\"z\":[90.2947998046875,-409.39716187806687]},{\"legendgroup\":\"8\",\"legendgrouptitle\":{\"text\":\"--8--\"},\"line\":{\"color\":\"red\",\"width\":2},\"marker\":{\"color\":\"red\",\"size\":1.6},\"type\":\"scatter3d\",\"x\":[189.37173461914062,373.41342718359886],\"y\":[113.9020004272461,35.85476500971495],\"z\":[126.05938720703125,132.165485936165]},{\"legendgroup\":\"8\",\"legendgrouptitle\":{\"text\":\"--8--\"},\"line\":{\"color\":\"green\",\"width\":2},\"marker\":{\"color\":\"green\",\"size\":1.6},\"type\":\"scatter3d\",\"x\":[189.37173461914062,267.61288172044544],\"y\":[113.9020004272461,297.8049148195797],\"z\":[126.05938720703125,118.44092422044457]},{\"legendgroup\":\"8\",\"legendgrouptitle\":{\"text\":\"--8--\"},\"line\":{\"color\":\"blue\",\"width\":2},\"marker\":{\"color\":\"blue\",\"size\":1.6},\"type\":\"scatter3d\",\"x\":[189.37173461914062,195.97585183940495],\"y\":[113.9020004272461,90.40371303134191],\"z\":[126.05938720703125,-373.34447353615576]},{\"legendgroup\":\"9\",\"legendgrouptitle\":{\"text\":\"--9--\"},\"line\":{\"color\":\"red\",\"width\":2},\"marker\":{\"color\":\"red\",\"size\":1.7000000000000002},\"type\":\"scatter3d\",\"x\":[255.03411865234375,426.9612468002931],\"y\":[134.8002471923828,33.001712152473374],\"z\":[167.5974578857422,176.43605904921517]},{\"legendgroup\":\"9\",\"legendgrouptitle\":{\"text\":\"--9--\"},\"line\":{\"color\":\"green\",\"width\":2},\"marker\":{\"color\":\"green\",\"size\":1.7000000000000002},\"type\":\"scatter3d\",\"x\":[255.03411865234375,357.177663248759],\"y\":[134.8002471923828,306.49092307863276],\"z\":[167.5974578857422,158.16304688119055]},{\"legendgroup\":\"9\",\"legendgrouptitle\":{\"text\":\"--9--\"},\"line\":{\"color\":\"blue\",\"width\":2},\"marker\":{\"color\":\"blue\",\"size\":1.7000000000000002},\"type\":\"scatter3d\",\"x\":[255.03411865234375,261.9978210075677],\"y\":[134.8002471923828,103.23978166874403],\"z\":[167.5974578857422,-331.3568925967835]},{\"legendgroup\":\"10\",\"legendgrouptitle\":{\"text\":\"--10--\"},\"line\":{\"color\":\"red\",\"width\":2},\"marker\":{\"color\":\"red\",\"size\":1.8},\"type\":\"scatter3d\",\"x\":[330.7092590332031,485.0380349835315],\"y\":[148.29417419433594,21.675746629284717],\"z\":[214.99911499023438,227.2629934398617]},{\"legendgroup\":\"10\",\"legendgrouptitle\":{\"text\":\"--10--\"},\"line\":{\"color\":\"green\",\"width\":2},\"marker\":{\"color\":\"green\",\"size\":1.8},\"type\":\"scatter3d\",\"x\":[330.7092590332031,457.89643368771806],\"y\":[148.29417419433594,302.2482354535705],\"z\":[214.99911499023438,203.97325333729464]},{\"legendgroup\":\"10\",\"legendgrouptitle\":{\"text\":\"--10--\"},\"line\":{\"color\":\"blue\",\"width\":2},\"marker\":{\"color\":\"blue\",\"size\":1.8},\"type\":\"scatter3d\",\"x\":[330.7092590332031,336.85921689651195],\"y\":[148.29417419433594,107.52647690670662],\"z\":[214.99911499023438,-283.2981586087126]},{\"legendgroup\":\"11\",\"legendgrouptitle\":{\"text\":\"--11--\"},\"line\":{\"color\":\"red\",\"width\":2},\"marker\":{\"color\":\"red\",\"size\":1.9},\"type\":\"scatter3d\",\"x\":[414.9641418457031,545.2141814285105],\"y\":[151.22496032714844,0.34103895739457357],\"z\":[268.5169982910156,284.91728672637765]},{\"legendgroup\":\"11\",\"legendgrouptitle\":{\"text\":\"--11--\"},\"line\":{\"color\":\"green\",\"width\":2},\"marker\":{\"color\":\"green\",\"size\":1.9},\"type\":\"scatter3d\",\"x\":[414.9641418457031,566.7296327139346],\"y\":[151.22496032714844,280.91566999333924],\"z\":[268.5169982910156,256.36975136817034]},{\"legendgroup\":\"11\",\"legendgrouptitle\":{\"text\":\"--11--\"},\"line\":{\"color\":\"blue\",\"width\":2},\"marker\":{\"color\":\"blue\",\"size\":1.9},\"type\":\"scatter3d\",\"x\":[414.9641418457031,418.6409018000375],\"y\":[151.22496032714844,100.33524511094808],\"z\":[268.5169982910156,-228.87290743833495]},{\"legendgroup\":\"12\",\"legendgrouptitle\":{\"text\":\"--12--\"},\"line\":{\"color\":\"red\",\"width\":2},\"marker\":{\"color\":\"red\",\"size\":2.0},\"type\":\"scatter3d\",\"x\":[505.8310241699219,604.8429263623558],\"y\":[139.9419708251953,-32.5336671141381],\"z\":[328.4549255371094,349.63976779887463]},{\"legendgroup\":\"12\",\"legendgrouptitle\":{\"text\":\"--12--\"},\"line\":{\"color\":\"green\",\"width\":2},\"marker\":{\"color\":\"green\",\"size\":2.0},\"type\":\"scatter3d\",\"x\":[505.8310241699219,679.6024193253166],\"y\":[139.9419708251953,238.16158758139258],\"z\":[328.4549255371094,315.9485627559739]},{\"legendgroup\":\"12\",\"legendgrouptitle\":{\"text\":\"--12--\"},\"line\":{\"color\":\"blue\",\"width\":2},\"marker\":{\"color\":\"blue\",\"size\":2.0},\"type\":\"scatter3d\",\"x\":[505.8310241699219,504.87757653259683],\"y\":[139.9419708251953,78.44699126966032],\"z\":[328.4549255371094,-167.74811599636132]},{\"legendgroup\":\"13\",\"legendgrouptitle\":{\"text\":\"--13--\"},\"line\":{\"color\":\"red\",\"width\":2},\"marker\":{\"color\":\"red\",\"size\":2.1},\"type\":\"scatter3d\",\"x\":[599.9314575195312,660.4629346032976],\"y\":[110.34314727783203,-78.43293347780715],\"z\":[395.3056640625,421.75432407766635]},{\"legendgroup\":\"13\",\"legendgrouptitle\":{\"text\":\"--13--\"},\"line\":{\"color\":\"green\",\"width\":2},\"marker\":{\"color\":\"green\",\"size\":2.1},\"type\":\"scatter3d\",\"x\":[599.9314575195312,790.5232629701334],\"y\":[110.34314727783203,169.80400482919586],\"z\":[395.3056640625,383.5086256911023]},{\"legendgroup\":\"13\",\"legendgrouptitle\":{\"text\":\"--13--\"},\"line\":{\"color\":\"blue\",\"width\":2},\"marker\":{\"color\":\"blue\",\"size\":2.1},\"type\":\"scatter3d\",\"x\":[599.9314575195312,591.7522242359051],\"y\":[110.34314727783203,38.405772004403545],\"z\":[395.3056640625,-99.42468085446785]},{\"legendgroup\":\"14\",\"legendgrouptitle\":{\"text\":\"--14--\"},\"line\":{\"color\":\"red\",\"width\":2},\"marker\":{\"color\":\"red\",\"size\":2.2},\"type\":\"scatter3d\",\"x\":[691.6362915039062,707.2443268238987],\"y\":[59.34464645385742,-137.4757175572224],\"z\":[469.82244873046875,501.7306536940185]},{\"legendgroup\":\"14\",\"legendgrouptitle\":{\"text\":\"--14--\"},\"line\":{\"color\":\"green\",\"width\":2},\"marker\":{\"color\":\"green\",\"size\":2.2},\"type\":\"scatter3d\",\"x\":[691.6362915039062,890.8921158280097],\"y\":[59.34464645385742,73.56700387471518],\"z\":[469.82244873046875,460.08381318356476]},{\"legendgroup\":\"14\",\"legendgrouptitle\":{\"text\":\"--14--\"},\"line\":{\"color\":\"blue\",\"width\":2},\"marker\":{\"color\":\"blue\",\"size\":2.2},\"type\":\"scatter3d\",\"x\":[691.6362915039062,673.349392783115],\"y\":[59.34464645385742,-22.02906167488206],\"z\":[469.82244873046875,-23.17238791648265]},{\"legendgroup\":\"15\",\"legendgrouptitle\":{\"text\":\"--15--\"},\"line\":{\"color\":\"red\",\"width\":2},\"marker\":{\"color\":\"red\",\"size\":2.3},\"type\":\"scatter3d\",\"x\":[773.6050415039062,739.7979739465735],\"y\":[-14.122413635253906,-207.7120418453878],\"z\":[552.7658081054688,589.9160171578559]},{\"legendgroup\":\"15\",\"legendgrouptitle\":{\"text\":\"--15--\"},\"line\":{\"color\":\"green\",\"width\":2},\"marker\":{\"color\":\"green\",\"size\":2.3},\"type\":\"scatter3d\",\"x\":[773.6050415039062,970.3294296655472],\"y\":[-14.122413635253906,-49.649536116844224],\"z\":[552.7658081054688,546.6552704363188]},{\"legendgroup\":\"15\",\"legendgrouptitle\":{\"text\":\"--15--\"},\"line\":{\"color\":\"blue\",\"width\":2},\"marker\":{\"color\":\"blue\",\"size\":2.3},\"type\":\"scatter3d\",\"x\":[773.6050415039062,742.3203322194612],\"y\":[-14.122413635253906,-102.89457346169569],\"z\":[552.7658081054688,61.704945681332504]},{\"legendgroup\":\"16\",\"legendgrouptitle\":{\"text\":\"--16--\"},\"line\":{\"color\":\"red\",\"width\":2},\"marker\":{\"color\":\"red\",\"size\":2.4000000000000004},\"type\":\"scatter3d\",\"x\":[837.2778930664062,752.862529936149],\"y\":[-108.24862670898438,-284.7155218035406],\"z\":[644.8541259765625,686.4892241903738]},{\"legendgroup\":\"16\",\"legendgrouptitle\":{\"text\":\"--16--\"},\"line\":{\"color\":\"green\",\"width\":2},\"marker\":{\"color\":\"green\",\"size\":2.4000000000000004},\"type\":\"scatter3d\",\"x\":[837.2778930664062,1017.6206774875858],\"y\":[-108.24862670898438,-194.71138630748743],\"z\":[644.8541259765625,644.0347909855863]},{\"legendgroup\":\"16\",\"legendgrouptitle\":{\"text\":\"--16--\"},\"line\":{\"color\":\"blue\",\"width\":2},\"marker\":{\"color\":\"blue\",\"size\":2.4000000000000004},\"type\":\"scatter3d\",\"x\":[837.2778930664062,790.4720056961469],\"y\":[-108.24862670898438,-201.24144021822713],\"z\":[644.8541259765625,155.8126701232598]},{\"legendgroup\":\"17\",\"legendgrouptitle\":{\"text\":\"--17--\"},\"line\":{\"color\":\"red\",\"width\":2},\"marker\":{\"color\":\"red\",\"size\":2.5},\"type\":\"scatter3d\",\"x\":[873.821044921875,742.2552126142078],\"y\":[-217.66494750976562,-361.5023226420622],\"z\":[746.796875,791.5321103770692]},{\"legendgroup\":\"17\",\"legendgrouptitle\":{\"text\":\"--17--\"},\"line\":{\"color\":\"green\",\"width\":2},\"marker\":{\"color\":\"green\",\"size\":2.5},\"type\":\"scatter3d\",\"x\":[873.821044921875,1022.2601734674668],\"y\":[-217.66494750976562,-351.56612861216],\"z\":[746.796875,752.8217248744022]},{\"legendgroup\":\"17\",\"legendgrouptitle\":{\"text\":\"--17--\"},\"line\":{\"color\":\"blue\",\"width\":2},\"marker\":{\"color\":\"blue\",\"size\":2.5},\"type\":\"scatter3d\",\"x\":[873.821044921875,809.777266642087],\"y\":[-217.66494750976562,-310.57899429612246],\"z\":[746.796875,259.6979380545042]},{\"legendgroup\":\"18\",\"legendgrouptitle\":{\"text\":\"--18--\"},\"line\":{\"color\":\"red\",\"width\":2},\"marker\":{\"color\":\"red\",\"size\":2.6},\"type\":\"scatter3d\",\"x\":[875.6935424804688,706.2012443849588],\"y\":[-333.2439270019531,-429.0308889979094],\"z\":[858.7215576171875,904.5169591100015]},{\"legendgroup\":\"18\",\"legendgrouptitle\":{\"text\":\"--18--\"},\"line\":{\"color\":\"green\",\"width\":2},\"marker\":{\"color\":\"green\",\"size\":2.6},\"type\":\"scatter3d\",\"x\":[875.6935424804688,976.7142330113647],\"y\":[-333.2439270019531,-505.28354975752836],\"z\":[858.7215576171875,872.7639323017033]},{\"legendgroup\":\"18\",\"legendgrouptitle\":{\"text\":\"--18--\"},\"line\":{\"color\":\"blue\",\"width\":2},\"marker\":{\"color\":\"blue\",\"size\":2.6},\"type\":\"scatter3d\",\"x\":[875.6935424804688,794.0242026489045],\"y\":[-333.2439270019531,-420.82339497620916],\"z\":[858.7215576171875,373.2733567544973]},{\"legendgroup\":\"19\",\"legendgrouptitle\":{\"text\":\"--19--\"},\"line\":{\"color\":\"red\",\"width\":2},\"marker\":{\"color\":\"red\",\"size\":2.7},\"type\":\"scatter3d\",\"x\":[838.2767944335938,646.3572898784618],\"y\":[-442.7580261230469,-477.52926487118015],\"z\":[980.1502685546875,1024.3980337777243]},{\"legendgroup\":\"19\",\"legendgrouptitle\":{\"text\":\"--19--\"},\"line\":{\"color\":\"green\",\"width\":2},\"marker\":{\"color\":\"green\",\"size\":2.7},\"type\":\"scatter3d\",\"x\":[838.2767944335938,878.7259177784077],\"y\":[-442.7580261230469,-637.3227593517364],\"z\":[980.1502685546875,1002.6987275770891]},{\"legendgroup\":\"19\",\"legendgrouptitle\":{\"text\":\"--19--\"},\"line\":{\"color\":\"blue\",\"width\":2},\"marker\":{\"color\":\"blue\",\"size\":2.7},\"type\":\"scatter3d\",\"x\":[838.2767944335938,740.4640846271511],\"y\":[-442.7580261230469,-519.2239310892968],\"z\":[980.1502685546875,495.80985192810334]},{\"legendgroup\":\"20\",\"legendgrouptitle\":{\"text\":\"--20--\"},\"line\":{\"color\":\"red\",\"width\":2},\"marker\":{\"color\":\"red\",\"size\":2.8},\"type\":\"scatter3d\",\"x\":[761.9019775390625,568.8490915352875],\"y\":[-531.0537719726562,-497.1654455056195],\"z\":[1110.083251953125,1149.8596838554083]},{\"legendgroup\":\"20\",\"legendgrouptitle\":{\"text\":\"--20--\"},\"line\":{\"color\":\"green\",\"width\":2},\"marker\":{\"color\":\"green\",\"size\":2.8},\"type\":\"scatter3d\",\"x\":[761.9019775390625,733.8518781354363],\"y\":[-531.0537719726562,-726.7062008273105],\"z\":[1110.083251953125,1140.633522111033]},{\"legendgroup\":\"20\",\"legendgrouptitle\":{\"text\":\"--20--\"},\"line\":{\"color\":\"blue\",\"width\":2},\"marker\":{\"color\":\"blue\",\"size\":2.8},\"type\":\"scatter3d\",\"x\":[761.9019775390625,651.6813145188022],\"y\":[-531.0537719726562,-590.8298338901379],\"z\":[1110.083251953125,626.0602898273477]},{\"legendgroup\":\"21\",\"legendgrouptitle\":{\"text\":\"--21--\"},\"line\":{\"color\":\"red\",\"width\":2},\"marker\":{\"color\":\"red\",\"size\":2.9000000000000004},\"type\":\"scatter3d\",\"x\":[653.2899780273438,484.32863946985754],\"y\":[-582.731689453125,-480.76385631147645],\"z\":[1247.0638427734375,1279.5388651330827]},{\"legendgroup\":\"21\",\"legendgrouptitle\":{\"text\":\"--21--\"},\"line\":{\"color\":\"green\",\"width\":2},\"marker\":{\"color\":\"green\",\"size\":2.9000000000000004},\"type\":\"scatter3d\",\"x\":[653.2899780273438,556.9590167373449],\"y\":[-582.731689453125,-754.0873418889466],\"z\":[1247.0638427734375,1283.9092804182617]},{\"legendgroup\":\"21\",\"legendgrouptitle\":{\"text\":\"--21--\"},\"line\":{\"color\":\"blue\",\"width\":2},\"marker\":{\"color\":\"blue\",\"size\":2.9000000000000004},\"type\":\"scatter3d\",\"x\":[653.2899780273438,536.7671270010518],\"y\":[-582.731689453125,-621.445493732963],\"z\":[1247.0638427734375,762.3745953716749]},{\"legendgroup\":\"22\",\"legendgrouptitle\":{\"text\":\"--22--\"},\"line\":{\"color\":\"red\",\"width\":2},\"marker\":{\"color\":\"red\",\"size\":3.0},\"type\":\"scatter3d\",\"x\":[525.5995483398438,406.48584231155814],\"y\":[-584.3184204101562,-425.3095240211147],\"z\":[1389.11767578125,1412.0980131448791]},{\"legendgroup\":\"22\",\"legendgrouptitle\":{\"text\":\"--22--\"},\"line\":{\"color\":\"green\",\"width\":2},\"marker\":{\"color\":\"green\",\"size\":3.0},\"type\":\"scatter3d\",\"x\":[525.5995483398438,371.6337299811505],\"y\":[-584.3184204101562,-705.466903160798],\"z\":[1389.11767578125,1429.3367248047582]},{\"legendgroup\":\"22\",\"legendgrouptitle\":{\"text\":\"--22--\"},\"line\":{\"color\":\"blue\",\"width\":2},\"marker\":{\"color\":\"blue\",\"size\":3.0},\"type\":\"scatter3d\",\"x\":[525.5995483398438,410.85930329301436],\"y\":[-584.3184204101562,-599.9740895823229],\"z\":[1389.11767578125,902.7129305439473]}],                        {\"scene\":{\"aspectmode\":\"data\",\"aspectratio\":{\"x\":1,\"y\":1,\"z\":1}},\"template\":{\"data\":{\"bar\":[{\"error_x\":{\"color\":\"#2a3f5f\"},\"error_y\":{\"color\":\"#2a3f5f\"},\"marker\":{\"line\":{\"color\":\"#E5ECF6\",\"width\":0.5},\"pattern\":{\"fillmode\":\"overlay\",\"size\":10,\"solidity\":0.2}},\"type\":\"bar\"}],\"barpolar\":[{\"marker\":{\"line\":{\"color\":\"#E5ECF6\",\"width\":0.5},\"pattern\":{\"fillmode\":\"overlay\",\"size\":10,\"solidity\":0.2}},\"type\":\"barpolar\"}],\"carpet\":[{\"aaxis\":{\"endlinecolor\":\"#2a3f5f\",\"gridcolor\":\"white\",\"linecolor\":\"white\",\"minorgridcolor\":\"white\",\"startlinecolor\":\"#2a3f5f\"},\"baxis\":{\"endlinecolor\":\"#2a3f5f\",\"gridcolor\":\"white\",\"linecolor\":\"white\",\"minorgridcolor\":\"white\",\"startlinecolor\":\"#2a3f5f\"},\"type\":\"carpet\"}],\"choropleth\":[{\"colorbar\":{\"outlinewidth\":0,\"ticks\":\"\"},\"type\":\"choropleth\"}],\"contour\":[{\"colorbar\":{\"outlinewidth\":0,\"ticks\":\"\"},\"colorscale\":[[0.0,\"#0d0887\"],[0.1111111111111111,\"#46039f\"],[0.2222222222222222,\"#7201a8\"],[0.3333333333333333,\"#9c179e\"],[0.4444444444444444,\"#bd3786\"],[0.5555555555555556,\"#d8576b\"],[0.6666666666666666,\"#ed7953\"],[0.7777777777777778,\"#fb9f3a\"],[0.8888888888888888,\"#fdca26\"],[1.0,\"#f0f921\"]],\"type\":\"contour\"}],\"contourcarpet\":[{\"colorbar\":{\"outlinewidth\":0,\"ticks\":\"\"},\"type\":\"contourcarpet\"}],\"heatmap\":[{\"colorbar\":{\"outlinewidth\":0,\"ticks\":\"\"},\"colorscale\":[[0.0,\"#0d0887\"],[0.1111111111111111,\"#46039f\"],[0.2222222222222222,\"#7201a8\"],[0.3333333333333333,\"#9c179e\"],[0.4444444444444444,\"#bd3786\"],[0.5555555555555556,\"#d8576b\"],[0.6666666666666666,\"#ed7953\"],[0.7777777777777778,\"#fb9f3a\"],[0.8888888888888888,\"#fdca26\"],[1.0,\"#f0f921\"]],\"type\":\"heatmap\"}],\"heatmapgl\":[{\"colorbar\":{\"outlinewidth\":0,\"ticks\":\"\"},\"colorscale\":[[0.0,\"#0d0887\"],[0.1111111111111111,\"#46039f\"],[0.2222222222222222,\"#7201a8\"],[0.3333333333333333,\"#9c179e\"],[0.4444444444444444,\"#bd3786\"],[0.5555555555555556,\"#d8576b\"],[0.6666666666666666,\"#ed7953\"],[0.7777777777777778,\"#fb9f3a\"],[0.8888888888888888,\"#fdca26\"],[1.0,\"#f0f921\"]],\"type\":\"heatmapgl\"}],\"histogram\":[{\"marker\":{\"pattern\":{\"fillmode\":\"overlay\",\"size\":10,\"solidity\":0.2}},\"type\":\"histogram\"}],\"histogram2d\":[{\"colorbar\":{\"outlinewidth\":0,\"ticks\":\"\"},\"colorscale\":[[0.0,\"#0d0887\"],[0.1111111111111111,\"#46039f\"],[0.2222222222222222,\"#7201a8\"],[0.3333333333333333,\"#9c179e\"],[0.4444444444444444,\"#bd3786\"],[0.5555555555555556,\"#d8576b\"],[0.6666666666666666,\"#ed7953\"],[0.7777777777777778,\"#fb9f3a\"],[0.8888888888888888,\"#fdca26\"],[1.0,\"#f0f921\"]],\"type\":\"histogram2d\"}],\"histogram2dcontour\":[{\"colorbar\":{\"outlinewidth\":0,\"ticks\":\"\"},\"colorscale\":[[0.0,\"#0d0887\"],[0.1111111111111111,\"#46039f\"],[0.2222222222222222,\"#7201a8\"],[0.3333333333333333,\"#9c179e\"],[0.4444444444444444,\"#bd3786\"],[0.5555555555555556,\"#d8576b\"],[0.6666666666666666,\"#ed7953\"],[0.7777777777777778,\"#fb9f3a\"],[0.8888888888888888,\"#fdca26\"],[1.0,\"#f0f921\"]],\"type\":\"histogram2dcontour\"}],\"mesh3d\":[{\"colorbar\":{\"outlinewidth\":0,\"ticks\":\"\"},\"type\":\"mesh3d\"}],\"parcoords\":[{\"line\":{\"colorbar\":{\"outlinewidth\":0,\"ticks\":\"\"}},\"type\":\"parcoords\"}],\"pie\":[{\"automargin\":true,\"type\":\"pie\"}],\"scatter\":[{\"marker\":{\"colorbar\":{\"outlinewidth\":0,\"ticks\":\"\"}},\"type\":\"scatter\"}],\"scatter3d\":[{\"line\":{\"colorbar\":{\"outlinewidth\":0,\"ticks\":\"\"}},\"marker\":{\"colorbar\":{\"outlinewidth\":0,\"ticks\":\"\"}},\"type\":\"scatter3d\"}],\"scattercarpet\":[{\"marker\":{\"colorbar\":{\"outlinewidth\":0,\"ticks\":\"\"}},\"type\":\"scattercarpet\"}],\"scattergeo\":[{\"marker\":{\"colorbar\":{\"outlinewidth\":0,\"ticks\":\"\"}},\"type\":\"scattergeo\"}],\"scattergl\":[{\"marker\":{\"colorbar\":{\"outlinewidth\":0,\"ticks\":\"\"}},\"type\":\"scattergl\"}],\"scattermapbox\":[{\"marker\":{\"colorbar\":{\"outlinewidth\":0,\"ticks\":\"\"}},\"type\":\"scattermapbox\"}],\"scatterpolar\":[{\"marker\":{\"colorbar\":{\"outlinewidth\":0,\"ticks\":\"\"}},\"type\":\"scatterpolar\"}],\"scatterpolargl\":[{\"marker\":{\"colorbar\":{\"outlinewidth\":0,\"ticks\":\"\"}},\"type\":\"scatterpolargl\"}],\"scatterternary\":[{\"marker\":{\"colorbar\":{\"outlinewidth\":0,\"ticks\":\"\"}},\"type\":\"scatterternary\"}],\"surface\":[{\"colorbar\":{\"outlinewidth\":0,\"ticks\":\"\"},\"colorscale\":[[0.0,\"#0d0887\"],[0.1111111111111111,\"#46039f\"],[0.2222222222222222,\"#7201a8\"],[0.3333333333333333,\"#9c179e\"],[0.4444444444444444,\"#bd3786\"],[0.5555555555555556,\"#d8576b\"],[0.6666666666666666,\"#ed7953\"],[0.7777777777777778,\"#fb9f3a\"],[0.8888888888888888,\"#fdca26\"],[1.0,\"#f0f921\"]],\"type\":\"surface\"}],\"table\":[{\"cells\":{\"fill\":{\"color\":\"#EBF0F8\"},\"line\":{\"color\":\"white\"}},\"header\":{\"fill\":{\"color\":\"#C8D4E3\"},\"line\":{\"color\":\"white\"}},\"type\":\"table\"}]},\"layout\":{\"annotationdefaults\":{\"arrowcolor\":\"#2a3f5f\",\"arrowhead\":0,\"arrowwidth\":1},\"autotypenumbers\":\"strict\",\"coloraxis\":{\"colorbar\":{\"outlinewidth\":0,\"ticks\":\"\"}},\"colorscale\":{\"diverging\":[[0,\"#8e0152\"],[0.1,\"#c51b7d\"],[0.2,\"#de77ae\"],[0.3,\"#f1b6da\"],[0.4,\"#fde0ef\"],[0.5,\"#f7f7f7\"],[0.6,\"#e6f5d0\"],[0.7,\"#b8e186\"],[0.8,\"#7fbc41\"],[0.9,\"#4d9221\"],[1,\"#276419\"]],\"sequential\":[[0.0,\"#0d0887\"],[0.1111111111111111,\"#46039f\"],[0.2222222222222222,\"#7201a8\"],[0.3333333333333333,\"#9c179e\"],[0.4444444444444444,\"#bd3786\"],[0.5555555555555556,\"#d8576b\"],[0.6666666666666666,\"#ed7953\"],[0.7777777777777778,\"#fb9f3a\"],[0.8888888888888888,\"#fdca26\"],[1.0,\"#f0f921\"]],\"sequentialminus\":[[0.0,\"#0d0887\"],[0.1111111111111111,\"#46039f\"],[0.2222222222222222,\"#7201a8\"],[0.3333333333333333,\"#9c179e\"],[0.4444444444444444,\"#bd3786\"],[0.5555555555555556,\"#d8576b\"],[0.6666666666666666,\"#ed7953\"],[0.7777777777777778,\"#fb9f3a\"],[0.8888888888888888,\"#fdca26\"],[1.0,\"#f0f921\"]]},\"colorway\":[\"#636efa\",\"#EF553B\",\"#00cc96\",\"#ab63fa\",\"#FFA15A\",\"#19d3f3\",\"#FF6692\",\"#B6E880\",\"#FF97FF\",\"#FECB52\"],\"font\":{\"color\":\"#2a3f5f\"},\"geo\":{\"bgcolor\":\"white\",\"lakecolor\":\"white\",\"landcolor\":\"#E5ECF6\",\"showlakes\":true,\"showland\":true,\"subunitcolor\":\"white\"},\"hoverlabel\":{\"align\":\"left\"},\"hovermode\":\"closest\",\"mapbox\":{\"style\":\"light\"},\"paper_bgcolor\":\"white\",\"plot_bgcolor\":\"#E5ECF6\",\"polar\":{\"angularaxis\":{\"gridcolor\":\"white\",\"linecolor\":\"white\",\"ticks\":\"\"},\"bgcolor\":\"#E5ECF6\",\"radialaxis\":{\"gridcolor\":\"white\",\"linecolor\":\"white\",\"ticks\":\"\"}},\"scene\":{\"xaxis\":{\"backgroundcolor\":\"#E5ECF6\",\"gridcolor\":\"white\",\"gridwidth\":2,\"linecolor\":\"white\",\"showbackground\":true,\"ticks\":\"\",\"zerolinecolor\":\"white\"},\"yaxis\":{\"backgroundcolor\":\"#E5ECF6\",\"gridcolor\":\"white\",\"gridwidth\":2,\"linecolor\":\"white\",\"showbackground\":true,\"ticks\":\"\",\"zerolinecolor\":\"white\"},\"zaxis\":{\"backgroundcolor\":\"#E5ECF6\",\"gridcolor\":\"white\",\"gridwidth\":2,\"linecolor\":\"white\",\"showbackground\":true,\"ticks\":\"\",\"zerolinecolor\":\"white\"}},\"shapedefaults\":{\"line\":{\"color\":\"#2a3f5f\"}},\"ternary\":{\"aaxis\":{\"gridcolor\":\"white\",\"linecolor\":\"white\",\"ticks\":\"\"},\"baxis\":{\"gridcolor\":\"white\",\"linecolor\":\"white\",\"ticks\":\"\"},\"bgcolor\":\"#E5ECF6\",\"caxis\":{\"gridcolor\":\"white\",\"linecolor\":\"white\",\"ticks\":\"\"}},\"title\":{\"x\":0.05},\"xaxis\":{\"automargin\":true,\"gridcolor\":\"white\",\"linecolor\":\"white\",\"ticks\":\"\",\"title\":{\"standoff\":15},\"zerolinecolor\":\"white\",\"zerolinewidth\":2},\"yaxis\":{\"automargin\":true,\"gridcolor\":\"white\",\"linecolor\":\"white\",\"ticks\":\"\",\"title\":{\"standoff\":15},\"zerolinecolor\":\"white\",\"zerolinewidth\":2}}},\"title\":{\"text\":\"0-SLW\"}},                        {\"responsive\": true}                    ).then(function(){\n",
       "                            \n",
       "var gd = document.getElementById('e8ce6819-86e7-4ea6-99b9-6615221cf44b');\n",
       "var x = new MutationObserver(function (mutations, observer) {{\n",
       "        var display = window.getComputedStyle(gd).display;\n",
       "        if (!display || display === 'none') {{\n",
       "            console.log([gd, 'removed!']);\n",
       "            Plotly.purge(gd);\n",
       "            observer.disconnect();\n",
       "        }}\n",
       "}});\n",
       "\n",
       "// Listen for the removal of the full notebook cells\n",
       "var notebookContainer = gd.closest('#notebook-container');\n",
       "if (notebookContainer) {{\n",
       "    x.observe(notebookContainer, {childList: true});\n",
       "}}\n",
       "\n",
       "// Listen for the clearing of the current output cell\n",
       "var outputEl = gd.closest('.output');\n",
       "if (outputEl) {{\n",
       "    x.observe(outputEl, {childList: true});\n",
       "}}\n",
       "\n",
       "                        })                };                });            </script>        </div>"
      ]
     },
     "metadata": {},
     "output_type": "display_data"
    },
    {
     "data": {
      "application/vnd.jupyter.widget-view+json": {
       "model_id": "8cd4f9e309d243a5b037ca4204f73e15",
       "version_major": 2,
       "version_minor": 0
      },
      "text/plain": [
       "0it [00:00, ?it/s]"
      ]
     },
     "metadata": {},
     "output_type": "display_data"
    },
    {
     "data": {
      "application/vnd.plotly.v1+json": {
       "config": {
        "plotlyServerURL": "https://plot.ly"
       },
       "data": [
        {
         "legendgroup": "0",
         "legendgrouptitle": {
          "text": "origins"
         },
         "line": {
          "color": "black",
          "width": 2
         },
         "marker": {
          "color": "black",
          "size": 1
         },
         "type": "scatter3d",
         "x": [
          0,
          2.8296711444854736,
          9.155072212219238,
          18.804582595825195,
          30.374011993408203,
          41.32200622558594,
          49.492618560791016,
          52.98207473754883,
          49.0088005065918,
          34.56435775756836,
          5.885876178741455,
          -40.23313522338867,
          -105.548583984375,
          -188.5861053466797,
          -284.725341796875,
          -387.28253173828125,
          -486.9713134765625,
          -569.9470825195312,
          -620.1394653320312,
          -622.74658203125,
          -567.4476928710938
         ],
         "y": [
          0,
          -7.350893020629883,
          -21.76079559326172,
          -43.60680389404297,
          -73.41669464111328,
          -110.80050659179688,
          -154.63095092773438,
          -204.1191864013672,
          -258.4047546386719,
          -316.6642150878906,
          -376.2452087402344,
          -433.04998779296875,
          -481.15545654296875,
          -512.8899536132812,
          -520.288818359375,
          -496.5360107421875,
          -435.3984375,
          -334.2513122558594,
          -196.95762634277344,
          -35.16497039794922,
          132.19683837890625
         ],
         "z": [
          0,
          8.676528930664062,
          25.939533233642578,
          51.95524597167969,
          86.69013214111328,
          130.20510864257812,
          182.78892517089844,
          244.7082061767578,
          316.1593017578125,
          397.1977844238281,
          487.88153076171875,
          588.1642456054688,
          697.50048828125,
          814.935546875,
          939.5344848632812,
          1070.179443359375,
          1205.1517333984375,
          1342.23779296875,
          1479.62841796875,
          1616.790771484375,
          1754.298583984375
         ]
        },
        {
         "legendgroup": "1",
         "legendgrouptitle": {
          "text": "finish"
         },
         "line": {
          "color": "black",
          "width": 2
         },
         "marker": {
          "color": "black",
          "size": 1
         },
         "type": "scatter3d",
         "x": [
          0,
          -6.657827396275117,
          -19.2836389434956,
          -38.059905608304526,
          -64.22482243727741,
          -99.72451222155269,
          -145.56314752765968,
          -201.79353971227712,
          -268.43192626052974,
          -344.5098932451107,
          -428.43019943087444,
          -516.8338664351554,
          -604.0443564998404,
          -681.0386456763811,
          -736.6794494304131,
          -760.2170736875116,
          -742.3915261498288,
          -675.1253841595792,
          -555.192888815081,
          -387.8592707145518,
          -188.60597888651466
         ],
         "y": [
          -500,
          -507.25962630469127,
          -520.9410065749961,
          -540.3240700945661,
          -564.2856096319921,
          -590.2848289477259,
          -614.644977196008,
          -633.7599299360375,
          -643.8910202420518,
          -641.6541136808444,
          -622.7498948742419,
          -582.9282126836193,
          -518.3509259947319,
          -426.3731029388956,
          -307.35731457534246,
          -166.07675411988487,
          -10.561959945440606,
          146.2821970241949,
          286.2190114551093,
          387.82744950772394,
          430.798330749049
         ],
         "z": [
          0,
          9.792664121535125,
          29.15771160548962,
          58.15100577666721,
          96.62838249181377,
          144.3707095411106,
          201.2373330181829,
          267.02899865125,
          341.29342240529303,
          423.3564930941651,
          512.4779976022404,
          607.8685779219155,
          708.3845057597499,
          812.6268519601265,
          919.5930884868293,
          1028.7486922950638,
          1139.7722083391516,
          1252.6550305470037,
          1368.6226573747088,
          1490.6743027550485,
          1622.7079137240942
         ]
        },
        {
         "legendgroup": "2",
         "legendgrouptitle": {
          "text": "--2--"
         },
         "line": {
          "color": "red",
          "width": 2
         },
         "marker": {
          "color": "red",
          "size": 1
         },
         "type": "scatter3d",
         "x": [
          0,
          200
         ],
         "y": [
          0,
          0
         ],
         "z": [
          0,
          0
         ]
        },
        {
         "legendgroup": "2",
         "legendgrouptitle": {
          "text": "--2--"
         },
         "line": {
          "color": "green",
          "width": 2
         },
         "marker": {
          "color": "green",
          "size": 1
         },
         "type": "scatter3d",
         "x": [
          0,
          0
         ],
         "y": [
          0,
          200
         ],
         "z": [
          0,
          0
         ]
        },
        {
         "legendgroup": "2",
         "legendgrouptitle": {
          "text": "--2--"
         },
         "line": {
          "color": "blue",
          "width": 2
         },
         "marker": {
          "color": "blue",
          "size": 1
         },
         "type": "scatter3d",
         "x": [
          0,
          0
         ],
         "y": [
          0,
          0
         ],
         "z": [
          0,
          -500
         ]
        },
        {
         "legendgroup": "3",
         "legendgrouptitle": {
          "text": "--3--"
         },
         "line": {
          "color": "red",
          "width": 2
         },
         "marker": {
          "color": "red",
          "size": 1.1
         },
         "type": "scatter3d",
         "x": [
          2.8296711444854736,
          202.79336628612438
         ],
         "y": [
          -7.350893020629883,
          -11.14510830055345
         ],
         "z": [
          8.676528930664062,
          9.029453442852574
         ]
        },
        {
         "legendgroup": "3",
         "legendgrouptitle": {
          "text": "--3--"
         },
         "line": {
          "color": "green",
          "width": 2
         },
         "marker": {
          "color": "green",
          "size": 1.1
         },
         "type": "scatter3d",
         "x": [
          2.8296711444854736,
          6.62467056078971
         ],
         "y": [
          -7.350893020629883,
          192.61260029299467
         ],
         "z": [
          8.676528930664062,
          8.230074854315637
         ]
        },
        {
         "legendgroup": "3",
         "legendgrouptitle": {
          "text": "--3--"
         },
         "line": {
          "color": "blue",
          "width": 2
         },
         "marker": {
          "color": "blue",
          "size": 1.1
         },
         "type": "scatter3d",
         "x": [
          2.8296711444854736,
          3.690647087672429
         ],
         "y": [
          -7.350893020629883,
          -8.4835674598228
         ],
         "z": [
          8.676528930664062,
          -491.32144683427845
         ]
        },
        {
         "legendgroup": "4",
         "legendgrouptitle": {
          "text": "--4--"
         },
         "line": {
          "color": "red",
          "width": 2
         },
         "marker": {
          "color": "red",
          "size": 1.2
         },
         "type": "scatter3d",
         "x": [
          9.155072212219238,
          208.82871045191092
         ],
         "y": [
          -21.76079559326172,
          -33.129321619031
         ],
         "z": [
          25.939533233642578,
          27.032606024514312
         ]
        },
        {
         "legendgroup": "4",
         "legendgrouptitle": {
          "text": "--4--"
         },
         "line": {
          "color": "green",
          "width": 2
         },
         "marker": {
          "color": "green",
          "size": 1.2
         },
         "type": "scatter3d",
         "x": [
          9.155072212219238,
          20.530556674505174
         ],
         "y": [
          -21.76079559326172,
          177.91128879943204
         ],
         "z": [
          25.939533233642578,
          24.652261884903762
         ]
        },
        {
         "legendgroup": "4",
         "legendgrouptitle": {
          "text": "--4--"
         },
         "line": {
          "color": "blue",
          "width": 2
         },
         "marker": {
          "color": "blue",
          "size": 1.2
         },
         "type": "scatter3d",
         "x": [
          9.155072212219238,
          11.70034402116841
         ],
         "y": [
          -21.76079559326172,
          -25.12915042017551
         ],
         "z": [
          25.939533233642578,
          -474.04264222582174
         ]
        },
        {
         "legendgroup": "5",
         "legendgrouptitle": {
          "text": "--5--"
         },
         "line": {
          "color": "red",
          "width": 2
         },
         "marker": {
          "color": "red",
          "size": 1.3
         },
         "type": "scatter3d",
         "x": [
          18.804582595825195,
          217.4970340579485
         ],
         "y": [
          -43.60680389404297,
          -66.32478137377876
         ],
         "z": [
          51.95524597167969,
          54.236305199757254
         ]
        },
        {
         "legendgroup": "5",
         "legendgrouptitle": {
          "text": "--5--"
         },
         "line": {
          "color": "green",
          "width": 2
         },
         "marker": {
          "color": "green",
          "size": 1.3
         },
         "type": "scatter3d",
         "x": [
          18.804582595825195,
          41.55037787747708
         ],
         "y": [
          -43.60680389404297,
          155.08010258616628
         ],
         "z": [
          51.95524597167969,
          49.47694204968468
         ]
        },
        {
         "legendgroup": "5",
         "legendgrouptitle": {
          "text": "--5--"
         },
         "line": {
          "color": "blue",
          "width": 2
         },
         "marker": {
          "color": "blue",
          "size": 1.3
         },
         "type": "scatter3d",
         "x": [
          18.804582595825195,
          23.766014456288225
         ],
         "y": [
          -43.60680389404297,
          -50.41061374349995
         ],
         "z": [
          51.95524597167969,
          -447.9738413651409
         ]
        },
        {
         "legendgroup": "6",
         "legendgrouptitle": {
          "text": "--6--"
         },
         "line": {
          "color": "red",
          "width": 2
         },
         "marker": {
          "color": "red",
          "size": 1.4
         },
         "type": "scatter3d",
         "x": [
          30.374011993408203,
          226.73641987896596
         ],
         "y": [
          -73.41669464111328,
          -111.17847790450259
         ],
         "z": [
          86.69013214111328,
          90.67165121737686
         ]
        },
        {
         "legendgroup": "6",
         "legendgrouptitle": {
          "text": "--6--"
         },
         "line": {
          "color": "green",
          "width": 2
         },
         "marker": {
          "color": "green",
          "size": 1.4
         },
         "type": "scatter3d",
         "x": [
          30.374011993408203,
          68.21354576568245
         ],
         "y": [
          -73.41669464111328,
          122.93087135523825
         ],
         "z": [
          86.69013214111328,
          82.71483200083308
         ]
        },
        {
         "legendgroup": "6",
         "legendgrouptitle": {
          "text": "--6--"
         },
         "line": {
          "color": "blue",
          "width": 2
         },
         "marker": {
          "color": "blue",
          "size": 1.4
         },
         "type": "scatter3d",
         "x": [
          30.374011993408203,
          38.26960145951088
         ],
         "y": [
          -73.41669464111328,
          -85.05742380566883
         ],
         "z": [
          86.69013214111328,
          -413.1119817914913
         ]
        },
        {
         "legendgroup": "7",
         "legendgrouptitle": {
          "text": "--7--"
         },
         "line": {
          "color": "red",
          "width": 2
         },
         "marker": {
          "color": "red",
          "size": 1.5
         },
         "type": "scatter3d",
         "x": [
          41.32200622558594,
          233.14898062958483
         ],
         "y": [
          -110.80050659179688,
          -167.04427614391074
         ],
         "z": [
          130.20510864257812,
          136.45413077218103
         ]
        },
        {
         "legendgroup": "7",
         "legendgrouptitle": {
          "text": "--7--"
         },
         "line": {
          "color": "green",
          "width": 2
         },
         "marker": {
          "color": "green",
          "size": 1.5
         },
         "type": "scatter3d",
         "x": [
          41.32200622558594,
          97.74061360444139
         ],
         "y": [
          -110.80050659179688,
          80.99322235057477
         ],
         "z": [
          130.20510864257812,
          124.53886828316513
         ]
        },
        {
         "legendgroup": "7",
         "legendgrouptitle": {
          "text": "--7--"
         },
         "line": {
          "color": "blue",
          "width": 2
         },
         "marker": {
          "color": "blue",
          "size": 1.5
         },
         "type": "scatter3d",
         "x": [
          41.32200622558594,
          52.31991296906383
         ],
         "y": [
          -110.80050659179688,
          -128.79424247209522
         ],
         "z": [
          130.20510864257812,
          -369.3499649142139
         ]
        },
        {
         "legendgroup": "8",
         "legendgrouptitle": {
          "text": "--8--"
         },
         "line": {
          "color": "red",
          "width": 2
         },
         "marker": {
          "color": "red",
          "size": 1.6
         },
         "type": "scatter3d",
         "x": [
          49.492618560791016,
          233.56277086084796
         ],
         "y": [
          -154.63095092773438,
          -232.31416749346113
         ],
         "z": [
          182.78892517089844,
          191.92658878017215
         ]
        },
        {
         "legendgroup": "8",
         "legendgrouptitle": {
          "text": "--8--"
         },
         "line": {
          "color": "green",
          "width": 2
         },
         "marker": {
          "color": "green",
          "size": 1.6
         },
         "type": "scatter3d",
         "x": [
          49.492618560791016,
          127.51492499617129
         ],
         "y": [
          -154.63095092773438,
          29.374659579575052
         ],
         "z": [
          182.78892517089844,
          175.40956203198465
         ]
        },
        {
         "legendgroup": "8",
         "legendgrouptitle": {
          "text": "--8--"
         },
         "line": {
          "color": "blue",
          "width": 2
         },
         "marker": {
          "color": "blue",
          "size": 1.6
         },
         "type": "scatter3d",
         "x": [
          49.492618560791016,
          63.344227388259185
         ],
         "y": [
          -154.63095092773438,
          -180.52172701627768
         ],
         "z": [
          182.78892517089844,
          -316.3481308031334
         ]
        },
        {
         "legendgroup": "9",
         "legendgrouptitle": {
          "text": "--9--"
         },
         "line": {
          "color": "red",
          "width": 2
         },
         "marker": {
          "color": "red",
          "size": 1.7000000000000002
         },
         "type": "scatter3d",
         "x": [
          52.98207473754883,
          224.95108330785763
         ],
         "y": [
          -204.1191864013672,
          -305.43585898496866
         ],
         "z": [
          244.7082061767578,
          257.4200883321414
         ]
        },
        {
         "legendgroup": "9",
         "legendgrouptitle": {
          "text": "--9--"
         },
         "line": {
          "color": "green",
          "width": 2
         },
         "marker": {
          "color": "green",
          "size": 1.7000000000000002
         },
         "type": "scatter3d",
         "x": [
          52.98207473754883,
          154.89232051747922
         ],
         "y": [
          -204.1191864013672,
          -32.26288898749908
         ],
         "z": [
          244.7082061767578,
          235.77988918696096
         ]
        },
        {
         "legendgroup": "9",
         "legendgrouptitle": {
          "text": "--9--"
         },
         "line": {
          "color": "blue",
          "width": 2
         },
         "marker": {
          "color": "blue",
          "size": 1.7000000000000002
         },
         "type": "scatter3d",
         "x": [
          52.98207473754883,
          68.98244512764626
         ],
         "y": [
          -204.1191864013672,
          -239.5049970978355
         ],
         "z": [
          244.7082061767578,
          -253.7813449160745
         ]
        },
        {
         "legendgroup": "10",
         "legendgrouptitle": {
          "text": "--10--"
         },
         "line": {
          "color": "red",
          "width": 2
         },
         "marker": {
          "color": "red",
          "size": 1.8
         },
         "type": "scatter3d",
         "x": [
          49.0088005065918,
          203.38233119932758
         ],
         "y": [
          -258.4047546386719,
          -384.4202051228636
         ],
         "z": [
          316.1593017578125,
          333.15692690737956
         ]
        },
        {
         "legendgroup": "10",
         "legendgrouptitle": {
          "text": "--10--"
         },
         "line": {
          "color": "green",
          "width": 2
         },
         "marker": {
          "color": "green",
          "size": 1.8
         },
         "type": "scatter3d",
         "x": [
          49.0088005065918,
          175.9850912134404
         ],
         "y": [
          -258.4047546386719,
          -104.21024839731987
         ],
         "z": [
          316.1593017578125,
          306.1056534988203
         ]
        },
        {
         "legendgroup": "10",
         "legendgrouptitle": {
          "text": "--10--"
         },
         "line": {
          "color": "blue",
          "width": 2
         },
         "marker": {
          "color": "blue",
          "size": 1.8
         },
         "type": "scatter3d",
         "x": [
          49.0088005065918,
          65.93411804217388
         ],
         "y": [
          -258.4047546386719,
          -304.783661768684
         ],
         "z": [
          316.1593017578125,
          -181.39725844388505
         ]
        },
        {
         "legendgroup": "11",
         "legendgrouptitle": {
          "text": "--11--"
         },
         "line": {
          "color": "red",
          "width": 2
         },
         "marker": {
          "color": "red",
          "size": 1.9
         },
         "type": "scatter3d",
         "x": [
          34.56435775756836,
          164.82255317144129
         ],
         "y": [
          -316.6642150878906,
          -466.831671102923
         ],
         "z": [
          397.1977844238281,
          419.16452477133146
         ]
        },
        {
         "legendgroup": "11",
         "legendgrouptitle": {
          "text": "--11--"
         },
         "line": {
          "color": "green",
          "width": 2
         },
         "marker": {
          "color": "green",
          "size": 1.9
         },
         "type": "scatter3d",
         "x": [
          34.56435775756836,
          186.19405815864
         ],
         "y": [
          -316.6642150878906,
          -186.66825565070914
         ],
         "z": [
          397.1977844238281,
          386.7343009556933
         ]
        },
        {
         "legendgroup": "11",
         "legendgrouptitle": {
          "text": "--11--"
         },
         "line": {
          "color": "blue",
          "width": 2
         },
         "marker": {
          "color": "blue",
          "size": 1.9
         },
         "type": "scatter3d",
         "x": [
          34.56435775756836,
          50.61826767901824
         ],
         "y": [
          -316.6642150878906,
          -375.336274237668
         ],
         "z": [
          397.1977844238281,
          -99.08828373783103
         ]
        },
        {
         "legendgroup": "12",
         "legendgrouptitle": {
          "text": "--12--"
         },
         "line": {
          "color": "red",
          "width": 2
         },
         "marker": {
          "color": "red",
          "size": 2
         },
         "type": "scatter3d",
         "x": [
          5.885876178741455,
          104.845151088599
         ],
         "y": [
          -376.2452087402344,
          -547.8569856885202
         ],
         "z": [
          487.88153076171875,
          515.3853472599252
         ]
        },
        {
         "legendgroup": "12",
         "legendgrouptitle": {
          "text": "--12--"
         },
         "line": {
          "color": "green",
          "width": 2
         },
         "marker": {
          "color": "green",
          "size": 2
         },
         "type": "scatter3d",
         "x": [
          5.885876178741455,
          179.6123064225878
         ],
         "y": [
          -376.2452087402344,
          -277.64333428663133
         ],
         "z": [
          487.88153076171875,
          478.0429440255101
         ]
        },
        {
         "legendgroup": "12",
         "legendgrouptitle": {
          "text": "--12--"
         },
         "line": {
          "color": "blue",
          "width": 2
         },
         "marker": {
          "color": "blue",
          "size": 2
         },
         "type": "scatter3d",
         "x": [
          5.885876178741455,
          18.679757539872547
         ],
         "y": [
          -376.2452087402344,
          -448.1421995885865
         ],
         "z": [
          487.88153076171875,
          -6.7568617096595744
         ]
        },
        {
         "legendgroup": "13",
         "legendgrouptitle": {
          "text": "--13--"
         },
         "line": {
          "color": "red",
          "width": 2
         },
         "marker": {
          "color": "red",
          "size": 2.1
         },
         "type": "scatter3d",
         "x": [
          -40.23313522338867,
          20.17772276687245
         ],
         "y": [
          -433.04998779296875,
          -620.7629329680245
         ],
         "z": [
          588.1642456054688,
          621.5465530539813
         ]
        },
        {
         "legendgroup": "13",
         "legendgrouptitle": {
          "text": "--13--"
         },
         "line": {
          "color": "green",
          "width": 2
         },
         "marker": {
          "color": "green",
          "size": 2.1
         },
         "type": "scatter3d",
         "x": [
          -40.23313522338867,
          150.407157261318
         ],
         "y": [
          -433.04998779296875,
          -373.09869783670854
         ],
         "z": [
          588.1642456054688,
          580.28251267889
         ]
        },
        {
         "legendgroup": "13",
         "legendgrouptitle": {
          "text": "--13--"
         },
         "line": {
          "color": "blue",
          "width": 2
         },
         "marker": {
          "color": "blue",
          "size": 2.1
         },
         "type": "scatter3d",
         "x": [
          -40.23313522338867,
          -33.710521566845
         ],
         "y": [
          -433.04998779296875,
          -518.5519265972629
         ],
         "z": [
          588.1642456054688,
          95.57225016523199
         ]
        },
        {
         "legendgroup": "14",
         "legendgrouptitle": {
          "text": "--14--"
         },
         "line": {
          "color": "red",
          "width": 2
         },
         "marker": {
          "color": "red",
          "size": 2.2
         },
         "type": "scatter3d",
         "x": [
          -105.548583984375,
          -90.10430069166293
         ],
         "y": [
          -481.15545654296875,
          -676.660963579099
         ],
         "z": [
          697.50048828125,
          736.7314815406626
         ]
        },
        {
         "legendgroup": "14",
         "legendgrouptitle": {
          "text": "--14--"
         },
         "line": {
          "color": "green",
          "width": 2
         },
         "marker": {
          "color": "green",
          "size": 2.2
         },
         "type": "scatter3d",
         "x": [
          -105.548583984375,
          93.84972502181117
         ],
         "y": [
          -481.15545654296875,
          -466.2772687622635
         ],
         "z": [
          697.50048828125,
          693.1468812898501
         ]
        },
        {
         "legendgroup": "14",
         "legendgrouptitle": {
          "text": "--14--"
         },
         "line": {
          "color": "blue",
          "width": 2
         },
         "marker": {
          "color": "blue",
          "size": 2.2
         },
         "type": "scatter3d",
         "x": [
          -105.548583984375,
          -108.89193470628211
         ],
         "y": [
          -481.15545654296875,
          -579.7783572464721
         ],
         "z": [
          697.50048828125,
          207.33485763914013
         ]
        },
        {
         "legendgroup": "15",
         "legendgrouptitle": {
          "text": "--15--"
         },
         "line": {
          "color": "red",
          "width": 2
         },
         "marker": {
          "color": "red",
          "size": 2.3
         },
         "type": "scatter3d",
         "x": [
          -188.5861053466797,
          -222.52684240654003
         ],
         "y": [
          -512.8899536132812,
          -704.8916778987134
         ],
         "z": [
          814.935546875,
          859.4705245807799
         ]
        },
        {
         "legendgroup": "15",
         "legendgrouptitle": {
          "text": "--15--"
         },
         "line": {
          "color": "green",
          "width": 2
         },
         "marker": {
          "color": "green",
          "size": 2.3
         },
         "type": "scatter3d",
         "x": [
          -188.5861053466797,
          8.394910785200835
         ],
         "y": [
          -512.8899536132812,
          -547.4966938830355
         ],
         "z": [
          814.935546875,
          815.8590248409494
         ]
        },
        {
         "legendgroup": "15",
         "legendgrouptitle": {
          "text": "--15--"
         },
         "line": {
          "color": "blue",
          "width": 2
         },
         "marker": {
          "color": "blue",
          "size": 2.3
         },
         "type": "scatter3d",
         "x": [
          -188.5861053466797,
          -205.63486840394629
         ],
         "y": [
          -512.8899536132812,
          -622.9385621722564
         ],
         "z": [
          814.935546875,
          327.49463411484743
         ]
        },
        {
         "legendgroup": "16",
         "legendgrouptitle": {
          "text": "--16--"
         },
         "line": {
          "color": "red",
          "width": 2
         },
         "marker": {
          "color": "red",
          "size": 2.4000000000000004
         },
         "type": "scatter3d",
         "x": [
          -284.725341796875,
          -369.157747915121
         ],
         "y": [
          -520.288818359375,
          -694.9429459696132
         ],
         "z": [
          939.5344848632812,
          988.1873830892882
         ]
        },
        {
         "legendgroup": "16",
         "legendgrouptitle": {
          "text": "--16--"
         },
         "line": {
          "color": "green",
          "width": 2
         },
         "marker": {
          "color": "green",
          "size": 2.4000000000000004
         },
         "type": "scatter3d",
         "x": [
          -284.725341796875,
          -103.94369874345975
         ],
         "y": [
          -520.288818359375,
          -605.461419872988
         ],
         "z": [
          939.5344848632812,
          947.511043413862
         ]
        },
        {
         "legendgroup": "16",
         "legendgrouptitle": {
          "text": "--16--"
         },
         "line": {
          "color": "blue",
          "width": 2
         },
         "marker": {
          "color": "blue",
          "size": 2.4000000000000004
         },
         "type": "scatter3d",
         "x": [
          -284.725341796875,
          -319.10977977315486
         ],
         "y": [
          -520.288818359375,
          -638.6517047540842
         ],
         "z": [
          939.5344848632812,
          454.9646369059733
         ]
        },
        {
         "legendgroup": "17",
         "legendgrouptitle": {
          "text": "--17--"
         },
         "line": {
          "color": "red",
          "width": 2
         },
         "marker": {
          "color": "red",
          "size": 2.5
         },
         "type": "scatter3d",
         "x": [
          -387.28253173828125,
          -518.695964818399
         ],
         "y": [
          -496.5360107421875,
          -638.4636961861584
         ],
         "z": [
          1070.179443359375,
          1121.0424132944333
         ]
        },
        {
         "legendgroup": "17",
         "legendgrouptitle": {
          "text": "--17--"
         },
         "line": {
          "color": "green",
          "width": 2
         },
         "marker": {
          "color": "green",
          "size": 2.5
         },
         "type": "scatter3d",
         "x": [
          -387.28253173828125,
          -238.10871495858913
         ],
         "y": [
          -496.5360107421875,
          -628.7197133911086
         ],
         "z": [
          1070.179443359375,
          1086.7517437850995
         ]
        },
        {
         "legendgroup": "17",
         "legendgrouptitle": {
          "text": "--17--"
         },
         "line": {
          "color": "blue",
          "width": 2
         },
         "marker": {
          "color": "blue",
          "size": 2.5
         },
         "type": "scatter3d",
         "x": [
          -387.28253173828125,
          -441.92237488617576
         ],
         "y": [
          -496.5360107421875,
          -618.6015888789743
         ],
         "z": [
          1070.179443359375,
          588.396834525364
         ]
        },
        {
         "legendgroup": "18",
         "legendgrouptitle": {
          "text": "--18--"
         },
         "line": {
          "color": "red",
          "width": 2
         },
         "marker": {
          "color": "red",
          "size": 2.6
         },
         "type": "scatter3d",
         "x": [
          -486.9713134765625,
          -656.1618975890528
         ],
         "y": [
          -435.3984375,
          -529.3521820558366
         ],
         "z": [
          1205.1517333984375,
          1255.621923923251
         ]
        },
        {
         "legendgroup": "18",
         "legendgrouptitle": {
          "text": "--18--"
         },
         "line": {
          "color": "green",
          "width": 2
         },
         "marker": {
          "color": "green",
          "size": 2.6
         },
         "type": "scatter3d",
         "x": [
          -486.9713134765625,
          -384.803228407256
         ],
         "y": [
          -435.3984375,
          -605.3330285218237
         ],
         "z": [
          1205.1517333984375,
          1231.303543422152
         ]
        },
        {
         "legendgroup": "18",
         "legendgrouptitle": {
          "text": "--18--"
         },
         "line": {
          "color": "blue",
          "width": 2
         },
         "marker": {
          "color": "blue",
          "size": 2.6
         },
         "type": "scatter3d",
         "x": [
          -486.9713134765625,
          -563.4659473138983
         ],
         "y": [
          -435.3984375,
          -555.1619716564294
         ],
         "z": [
          1205.1517333984375,
          725.7716473701861
         ]
        },
        {
         "legendgroup": "19",
         "legendgrouptitle": {
          "text": "--19--"
         },
         "line": {
          "color": "red",
          "width": 2
         },
         "marker": {
          "color": "red",
          "size": 2.7
         },
         "type": "scatter3d",
         "x": [
          -569.9470825195312,
          -761.5097855544785
         ],
         "y": [
          -334.2513122558594,
          -367.4304573452113
         ],
         "z": [
          1342.23779296875,
          1389.1725896241562
         ]
        },
        {
         "legendgroup": "19",
         "legendgrouptitle": {
          "text": "--19--"
         },
         "line": {
          "color": "green",
          "width": 2
         },
         "marker": {
          "color": "green",
          "size": 2.7
         },
         "type": "scatter3d",
         "x": [
          -569.9470825195312,
          -527.8757618635121
         ],
         "y": [
          -334.2513122558594,
          -526.4647159678811
         ],
         "z": [
          1342.23779296875,
          1378.0708979374485
         ]
        },
        {
         "legendgroup": "19",
         "legendgrouptitle": {
          "text": "--19--"
         },
         "line": {
          "color": "blue",
          "width": 2
         },
         "marker": {
          "color": "blue",
          "size": 2.7
         },
         "type": "scatter3d",
         "x": [
          -569.9470825195312,
          -667.8543978808914
         ],
         "y": [
          -334.2513122558594,
          -444.73750383027874
         ],
         "z": [
          1342.23779296875,
          864.5276726341355
         ]
        },
        {
         "legendgroup": "20",
         "legendgrouptitle": {
          "text": "--20--"
         },
         "line": {
          "color": "red",
          "width": 2
         },
         "marker": {
          "color": "red",
          "size": 2.8
         },
         "type": "scatter3d",
         "x": [
          -620.1394653320312,
          -812.9154460011924
         ],
         "y": [
          -196.95762634277344,
          -161.84320212074326
         ],
         "z": [
          1479.62841796875,
          1519.6833613415533
         ]
        },
        {
         "legendgroup": "20",
         "legendgrouptitle": {
          "text": "--20--"
         },
         "line": {
          "color": "green",
          "width": 2
         },
         "marker": {
          "color": "green",
          "size": 2.8
         },
         "type": "scatter3d",
         "x": [
          -620.1394653320312,
          -646.1180959388113
         ],
         "y": [
          -196.95762634277344,
          -390.2282814619265
         ],
         "z": [
          1479.62841796875,
          1524.0307222063666
         ]
        },
        {
         "legendgroup": "20",
         "legendgrouptitle": {
          "text": "--20--"
         },
         "line": {
          "color": "blue",
          "width": 2
         },
         "marker": {
          "color": "blue",
          "size": 2.8
         },
         "type": "scatter3d",
         "x": [
          -620.1394653320312,
          -736.3970465052513
         ],
         "y": [
          -196.95762634277344,
          -290.94669091176615
         ],
         "z": [
          1479.62841796875,
          1002.5013588312517
         ]
        },
        {
         "legendgroup": "21",
         "legendgrouptitle": {
          "text": "--21--"
         },
         "line": {
          "color": "red",
          "width": 2
         },
         "marker": {
          "color": "red",
          "size": 2.9000000000000004
         },
         "type": "scatter3d",
         "x": [
          -622.74658203125,
          -791.639685731888
         ],
         "y": [
          -35.16497039794922,
          67.61860558239798
         ],
         "z": [
          1616.790771484375,
          1646.9678493922468
         ]
        },
        {
         "legendgroup": "21",
         "legendgrouptitle": {
          "text": "--21--"
         },
         "line": {
          "color": "green",
          "width": 2
         },
         "marker": {
          "color": "green",
          "size": 2.9000000000000004
         },
         "type": "scatter3d",
         "x": [
          -622.74658203125,
          -716.7015065579293
         ],
         "y": [
          -35.16497039794922,
          -204.3619383602185
         ],
         "z": [
          1616.790771484375,
          1667.2373589761055
         ]
        },
        {
         "legendgroup": "21",
         "legendgrouptitle": {
          "text": "--21--"
         },
         "line": {
          "color": "blue",
          "width": 2
         },
         "marker": {
          "color": "blue",
          "size": 2.9000000000000004
         },
         "type": "scatter3d",
         "x": [
          -622.74658203125,
          -751.3834663109826
         ],
         "y": [
          -35.16497039794922,
          -106.22491608937854
         ],
         "z": [
          1616.790771484375,
          1138.8754692381153
         ]
        },
        {
         "legendgroup": "22",
         "legendgrouptitle": {
          "text": "--22--"
         },
         "line": {
          "color": "red",
          "width": 2
         },
         "marker": {
          "color": "red",
          "size": 3
         },
         "type": "scatter3d",
         "x": [
          -567.4476928710938,
          -686.7768387887932
         ],
         "y": [
          132.19683837890625,
          291.65227544204544
         ],
         "z": [
          1754.298583984375,
          1772.5884315932446
         ]
        },
        {
         "legendgroup": "22",
         "legendgrouptitle": {
          "text": "--22--"
         },
         "line": {
          "color": "green",
          "width": 2
         },
         "marker": {
          "color": "green",
          "size": 3
         },
         "type": "scatter3d",
         "x": [
          -567.4476928710938,
          -718.9843784649254
         ],
         "y": [
          132.19683837890625,
          12.756241430849144
         ],
         "z": [
          1754.298583984375,
          1806.9348520884873
         ]
        },
        {
         "legendgroup": "22",
         "legendgrouptitle": {
          "text": "--22--"
         },
         "line": {
          "color": "blue",
          "width": 2
         },
         "marker": {
          "color": "blue",
          "size": 3
         },
         "type": "scatter3d",
         "x": [
          -567.4476928710938,
          -699.6688110261713
         ],
         "y": [
          132.19683837890625,
          88.32861299772648
         ],
         "z": [
          1754.298583984375,
          1274.0974233071781
         ]
        }
       ],
       "layout": {
        "scene": {
         "aspectmode": "data",
         "aspectratio": {
          "x": 1,
          "y": 1,
          "z": 1
         }
        },
        "template": {
         "data": {
          "bar": [
           {
            "error_x": {
             "color": "#2a3f5f"
            },
            "error_y": {
             "color": "#2a3f5f"
            },
            "marker": {
             "line": {
              "color": "#E5ECF6",
              "width": 0.5
             },
             "pattern": {
              "fillmode": "overlay",
              "size": 10,
              "solidity": 0.2
             }
            },
            "type": "bar"
           }
          ],
          "barpolar": [
           {
            "marker": {
             "line": {
              "color": "#E5ECF6",
              "width": 0.5
             },
             "pattern": {
              "fillmode": "overlay",
              "size": 10,
              "solidity": 0.2
             }
            },
            "type": "barpolar"
           }
          ],
          "carpet": [
           {
            "aaxis": {
             "endlinecolor": "#2a3f5f",
             "gridcolor": "white",
             "linecolor": "white",
             "minorgridcolor": "white",
             "startlinecolor": "#2a3f5f"
            },
            "baxis": {
             "endlinecolor": "#2a3f5f",
             "gridcolor": "white",
             "linecolor": "white",
             "minorgridcolor": "white",
             "startlinecolor": "#2a3f5f"
            },
            "type": "carpet"
           }
          ],
          "choropleth": [
           {
            "colorbar": {
             "outlinewidth": 0,
             "ticks": ""
            },
            "type": "choropleth"
           }
          ],
          "contour": [
           {
            "colorbar": {
             "outlinewidth": 0,
             "ticks": ""
            },
            "colorscale": [
             [
              0,
              "#0d0887"
             ],
             [
              0.1111111111111111,
              "#46039f"
             ],
             [
              0.2222222222222222,
              "#7201a8"
             ],
             [
              0.3333333333333333,
              "#9c179e"
             ],
             [
              0.4444444444444444,
              "#bd3786"
             ],
             [
              0.5555555555555556,
              "#d8576b"
             ],
             [
              0.6666666666666666,
              "#ed7953"
             ],
             [
              0.7777777777777778,
              "#fb9f3a"
             ],
             [
              0.8888888888888888,
              "#fdca26"
             ],
             [
              1,
              "#f0f921"
             ]
            ],
            "type": "contour"
           }
          ],
          "contourcarpet": [
           {
            "colorbar": {
             "outlinewidth": 0,
             "ticks": ""
            },
            "type": "contourcarpet"
           }
          ],
          "heatmap": [
           {
            "colorbar": {
             "outlinewidth": 0,
             "ticks": ""
            },
            "colorscale": [
             [
              0,
              "#0d0887"
             ],
             [
              0.1111111111111111,
              "#46039f"
             ],
             [
              0.2222222222222222,
              "#7201a8"
             ],
             [
              0.3333333333333333,
              "#9c179e"
             ],
             [
              0.4444444444444444,
              "#bd3786"
             ],
             [
              0.5555555555555556,
              "#d8576b"
             ],
             [
              0.6666666666666666,
              "#ed7953"
             ],
             [
              0.7777777777777778,
              "#fb9f3a"
             ],
             [
              0.8888888888888888,
              "#fdca26"
             ],
             [
              1,
              "#f0f921"
             ]
            ],
            "type": "heatmap"
           }
          ],
          "heatmapgl": [
           {
            "colorbar": {
             "outlinewidth": 0,
             "ticks": ""
            },
            "colorscale": [
             [
              0,
              "#0d0887"
             ],
             [
              0.1111111111111111,
              "#46039f"
             ],
             [
              0.2222222222222222,
              "#7201a8"
             ],
             [
              0.3333333333333333,
              "#9c179e"
             ],
             [
              0.4444444444444444,
              "#bd3786"
             ],
             [
              0.5555555555555556,
              "#d8576b"
             ],
             [
              0.6666666666666666,
              "#ed7953"
             ],
             [
              0.7777777777777778,
              "#fb9f3a"
             ],
             [
              0.8888888888888888,
              "#fdca26"
             ],
             [
              1,
              "#f0f921"
             ]
            ],
            "type": "heatmapgl"
           }
          ],
          "histogram": [
           {
            "marker": {
             "pattern": {
              "fillmode": "overlay",
              "size": 10,
              "solidity": 0.2
             }
            },
            "type": "histogram"
           }
          ],
          "histogram2d": [
           {
            "colorbar": {
             "outlinewidth": 0,
             "ticks": ""
            },
            "colorscale": [
             [
              0,
              "#0d0887"
             ],
             [
              0.1111111111111111,
              "#46039f"
             ],
             [
              0.2222222222222222,
              "#7201a8"
             ],
             [
              0.3333333333333333,
              "#9c179e"
             ],
             [
              0.4444444444444444,
              "#bd3786"
             ],
             [
              0.5555555555555556,
              "#d8576b"
             ],
             [
              0.6666666666666666,
              "#ed7953"
             ],
             [
              0.7777777777777778,
              "#fb9f3a"
             ],
             [
              0.8888888888888888,
              "#fdca26"
             ],
             [
              1,
              "#f0f921"
             ]
            ],
            "type": "histogram2d"
           }
          ],
          "histogram2dcontour": [
           {
            "colorbar": {
             "outlinewidth": 0,
             "ticks": ""
            },
            "colorscale": [
             [
              0,
              "#0d0887"
             ],
             [
              0.1111111111111111,
              "#46039f"
             ],
             [
              0.2222222222222222,
              "#7201a8"
             ],
             [
              0.3333333333333333,
              "#9c179e"
             ],
             [
              0.4444444444444444,
              "#bd3786"
             ],
             [
              0.5555555555555556,
              "#d8576b"
             ],
             [
              0.6666666666666666,
              "#ed7953"
             ],
             [
              0.7777777777777778,
              "#fb9f3a"
             ],
             [
              0.8888888888888888,
              "#fdca26"
             ],
             [
              1,
              "#f0f921"
             ]
            ],
            "type": "histogram2dcontour"
           }
          ],
          "mesh3d": [
           {
            "colorbar": {
             "outlinewidth": 0,
             "ticks": ""
            },
            "type": "mesh3d"
           }
          ],
          "parcoords": [
           {
            "line": {
             "colorbar": {
              "outlinewidth": 0,
              "ticks": ""
             }
            },
            "type": "parcoords"
           }
          ],
          "pie": [
           {
            "automargin": true,
            "type": "pie"
           }
          ],
          "scatter": [
           {
            "marker": {
             "colorbar": {
              "outlinewidth": 0,
              "ticks": ""
             }
            },
            "type": "scatter"
           }
          ],
          "scatter3d": [
           {
            "line": {
             "colorbar": {
              "outlinewidth": 0,
              "ticks": ""
             }
            },
            "marker": {
             "colorbar": {
              "outlinewidth": 0,
              "ticks": ""
             }
            },
            "type": "scatter3d"
           }
          ],
          "scattercarpet": [
           {
            "marker": {
             "colorbar": {
              "outlinewidth": 0,
              "ticks": ""
             }
            },
            "type": "scattercarpet"
           }
          ],
          "scattergeo": [
           {
            "marker": {
             "colorbar": {
              "outlinewidth": 0,
              "ticks": ""
             }
            },
            "type": "scattergeo"
           }
          ],
          "scattergl": [
           {
            "marker": {
             "colorbar": {
              "outlinewidth": 0,
              "ticks": ""
             }
            },
            "type": "scattergl"
           }
          ],
          "scattermapbox": [
           {
            "marker": {
             "colorbar": {
              "outlinewidth": 0,
              "ticks": ""
             }
            },
            "type": "scattermapbox"
           }
          ],
          "scatterpolar": [
           {
            "marker": {
             "colorbar": {
              "outlinewidth": 0,
              "ticks": ""
             }
            },
            "type": "scatterpolar"
           }
          ],
          "scatterpolargl": [
           {
            "marker": {
             "colorbar": {
              "outlinewidth": 0,
              "ticks": ""
             }
            },
            "type": "scatterpolargl"
           }
          ],
          "scatterternary": [
           {
            "marker": {
             "colorbar": {
              "outlinewidth": 0,
              "ticks": ""
             }
            },
            "type": "scatterternary"
           }
          ],
          "surface": [
           {
            "colorbar": {
             "outlinewidth": 0,
             "ticks": ""
            },
            "colorscale": [
             [
              0,
              "#0d0887"
             ],
             [
              0.1111111111111111,
              "#46039f"
             ],
             [
              0.2222222222222222,
              "#7201a8"
             ],
             [
              0.3333333333333333,
              "#9c179e"
             ],
             [
              0.4444444444444444,
              "#bd3786"
             ],
             [
              0.5555555555555556,
              "#d8576b"
             ],
             [
              0.6666666666666666,
              "#ed7953"
             ],
             [
              0.7777777777777778,
              "#fb9f3a"
             ],
             [
              0.8888888888888888,
              "#fdca26"
             ],
             [
              1,
              "#f0f921"
             ]
            ],
            "type": "surface"
           }
          ],
          "table": [
           {
            "cells": {
             "fill": {
              "color": "#EBF0F8"
             },
             "line": {
              "color": "white"
             }
            },
            "header": {
             "fill": {
              "color": "#C8D4E3"
             },
             "line": {
              "color": "white"
             }
            },
            "type": "table"
           }
          ]
         },
         "layout": {
          "annotationdefaults": {
           "arrowcolor": "#2a3f5f",
           "arrowhead": 0,
           "arrowwidth": 1
          },
          "autotypenumbers": "strict",
          "coloraxis": {
           "colorbar": {
            "outlinewidth": 0,
            "ticks": ""
           }
          },
          "colorscale": {
           "diverging": [
            [
             0,
             "#8e0152"
            ],
            [
             0.1,
             "#c51b7d"
            ],
            [
             0.2,
             "#de77ae"
            ],
            [
             0.3,
             "#f1b6da"
            ],
            [
             0.4,
             "#fde0ef"
            ],
            [
             0.5,
             "#f7f7f7"
            ],
            [
             0.6,
             "#e6f5d0"
            ],
            [
             0.7,
             "#b8e186"
            ],
            [
             0.8,
             "#7fbc41"
            ],
            [
             0.9,
             "#4d9221"
            ],
            [
             1,
             "#276419"
            ]
           ],
           "sequential": [
            [
             0,
             "#0d0887"
            ],
            [
             0.1111111111111111,
             "#46039f"
            ],
            [
             0.2222222222222222,
             "#7201a8"
            ],
            [
             0.3333333333333333,
             "#9c179e"
            ],
            [
             0.4444444444444444,
             "#bd3786"
            ],
            [
             0.5555555555555556,
             "#d8576b"
            ],
            [
             0.6666666666666666,
             "#ed7953"
            ],
            [
             0.7777777777777778,
             "#fb9f3a"
            ],
            [
             0.8888888888888888,
             "#fdca26"
            ],
            [
             1,
             "#f0f921"
            ]
           ],
           "sequentialminus": [
            [
             0,
             "#0d0887"
            ],
            [
             0.1111111111111111,
             "#46039f"
            ],
            [
             0.2222222222222222,
             "#7201a8"
            ],
            [
             0.3333333333333333,
             "#9c179e"
            ],
            [
             0.4444444444444444,
             "#bd3786"
            ],
            [
             0.5555555555555556,
             "#d8576b"
            ],
            [
             0.6666666666666666,
             "#ed7953"
            ],
            [
             0.7777777777777778,
             "#fb9f3a"
            ],
            [
             0.8888888888888888,
             "#fdca26"
            ],
            [
             1,
             "#f0f921"
            ]
           ]
          },
          "colorway": [
           "#636efa",
           "#EF553B",
           "#00cc96",
           "#ab63fa",
           "#FFA15A",
           "#19d3f3",
           "#FF6692",
           "#B6E880",
           "#FF97FF",
           "#FECB52"
          ],
          "font": {
           "color": "#2a3f5f"
          },
          "geo": {
           "bgcolor": "white",
           "lakecolor": "white",
           "landcolor": "#E5ECF6",
           "showlakes": true,
           "showland": true,
           "subunitcolor": "white"
          },
          "hoverlabel": {
           "align": "left"
          },
          "hovermode": "closest",
          "mapbox": {
           "style": "light"
          },
          "paper_bgcolor": "white",
          "plot_bgcolor": "#E5ECF6",
          "polar": {
           "angularaxis": {
            "gridcolor": "white",
            "linecolor": "white",
            "ticks": ""
           },
           "bgcolor": "#E5ECF6",
           "radialaxis": {
            "gridcolor": "white",
            "linecolor": "white",
            "ticks": ""
           }
          },
          "scene": {
           "xaxis": {
            "backgroundcolor": "#E5ECF6",
            "gridcolor": "white",
            "gridwidth": 2,
            "linecolor": "white",
            "showbackground": true,
            "ticks": "",
            "zerolinecolor": "white"
           },
           "yaxis": {
            "backgroundcolor": "#E5ECF6",
            "gridcolor": "white",
            "gridwidth": 2,
            "linecolor": "white",
            "showbackground": true,
            "ticks": "",
            "zerolinecolor": "white"
           },
           "zaxis": {
            "backgroundcolor": "#E5ECF6",
            "gridcolor": "white",
            "gridwidth": 2,
            "linecolor": "white",
            "showbackground": true,
            "ticks": "",
            "zerolinecolor": "white"
           }
          },
          "shapedefaults": {
           "line": {
            "color": "#2a3f5f"
           }
          },
          "ternary": {
           "aaxis": {
            "gridcolor": "white",
            "linecolor": "white",
            "ticks": ""
           },
           "baxis": {
            "gridcolor": "white",
            "linecolor": "white",
            "ticks": ""
           },
           "bgcolor": "#E5ECF6",
           "caxis": {
            "gridcolor": "white",
            "linecolor": "white",
            "ticks": ""
           }
          },
          "title": {
           "x": 0.05
          },
          "xaxis": {
           "automargin": true,
           "gridcolor": "white",
           "linecolor": "white",
           "ticks": "",
           "title": {
            "standoff": 15
           },
           "zerolinecolor": "white",
           "zerolinewidth": 2
          },
          "yaxis": {
           "automargin": true,
           "gridcolor": "white",
           "linecolor": "white",
           "ticks": "",
           "title": {
            "standoff": 15
           },
           "zerolinecolor": "white",
           "zerolinewidth": 2
          }
         }
        },
        "title": {
         "text": "1-MLW"
        }
       }
      },
      "text/html": [
       "<div>                            <div id=\"51dfaee3-adef-4ce5-ba2a-f39de7116096\" class=\"plotly-graph-div\" style=\"height:525px; width:100%;\"></div>            <script type=\"text/javascript\">                require([\"plotly\"], function(Plotly) {                    window.PLOTLYENV=window.PLOTLYENV || {};                                    if (document.getElementById(\"51dfaee3-adef-4ce5-ba2a-f39de7116096\")) {                    Plotly.newPlot(                        \"51dfaee3-adef-4ce5-ba2a-f39de7116096\",                        [{\"legendgroup\":\"0\",\"legendgrouptitle\":{\"text\":\"origins\"},\"line\":{\"color\":\"black\",\"width\":2},\"marker\":{\"color\":\"black\",\"size\":1},\"type\":\"scatter3d\",\"x\":[0.0,2.8296711444854736,9.155072212219238,18.804582595825195,30.374011993408203,41.32200622558594,49.492618560791016,52.98207473754883,49.0088005065918,34.56435775756836,5.885876178741455,-40.23313522338867,-105.548583984375,-188.5861053466797,-284.725341796875,-387.28253173828125,-486.9713134765625,-569.9470825195312,-620.1394653320312,-622.74658203125,-567.4476928710938],\"y\":[0.0,-7.350893020629883,-21.76079559326172,-43.60680389404297,-73.41669464111328,-110.80050659179688,-154.63095092773438,-204.1191864013672,-258.4047546386719,-316.6642150878906,-376.2452087402344,-433.04998779296875,-481.15545654296875,-512.8899536132812,-520.288818359375,-496.5360107421875,-435.3984375,-334.2513122558594,-196.95762634277344,-35.16497039794922,132.19683837890625],\"z\":[0.0,8.676528930664062,25.939533233642578,51.95524597167969,86.69013214111328,130.20510864257812,182.78892517089844,244.7082061767578,316.1593017578125,397.1977844238281,487.88153076171875,588.1642456054688,697.50048828125,814.935546875,939.5344848632812,1070.179443359375,1205.1517333984375,1342.23779296875,1479.62841796875,1616.790771484375,1754.298583984375]},{\"legendgroup\":\"1\",\"legendgrouptitle\":{\"text\":\"finish\"},\"line\":{\"color\":\"black\",\"width\":2},\"marker\":{\"color\":\"black\",\"size\":1},\"type\":\"scatter3d\",\"x\":[0.0,-6.657827396275117,-19.2836389434956,-38.059905608304526,-64.22482243727741,-99.72451222155269,-145.56314752765968,-201.79353971227712,-268.43192626052974,-344.5098932451107,-428.43019943087444,-516.8338664351554,-604.0443564998404,-681.0386456763811,-736.6794494304131,-760.2170736875116,-742.3915261498288,-675.1253841595792,-555.192888815081,-387.8592707145518,-188.60597888651466],\"y\":[-500.0,-507.25962630469127,-520.9410065749961,-540.3240700945661,-564.2856096319921,-590.2848289477259,-614.644977196008,-633.7599299360375,-643.8910202420518,-641.6541136808444,-622.7498948742419,-582.9282126836193,-518.3509259947319,-426.3731029388956,-307.35731457534246,-166.07675411988487,-10.561959945440606,146.2821970241949,286.2190114551093,387.82744950772394,430.798330749049],\"z\":[0.0,9.792664121535125,29.15771160548962,58.15100577666721,96.62838249181377,144.3707095411106,201.2373330181829,267.02899865125,341.29342240529303,423.3564930941651,512.4779976022404,607.8685779219155,708.3845057597499,812.6268519601265,919.5930884868293,1028.7486922950638,1139.7722083391516,1252.6550305470037,1368.6226573747088,1490.6743027550485,1622.7079137240942]},{\"legendgroup\":\"2\",\"legendgrouptitle\":{\"text\":\"--2--\"},\"line\":{\"color\":\"red\",\"width\":2},\"marker\":{\"color\":\"red\",\"size\":1.0},\"type\":\"scatter3d\",\"x\":[0.0,200.0],\"y\":[0.0,0.0],\"z\":[0.0,0.0]},{\"legendgroup\":\"2\",\"legendgrouptitle\":{\"text\":\"--2--\"},\"line\":{\"color\":\"green\",\"width\":2},\"marker\":{\"color\":\"green\",\"size\":1.0},\"type\":\"scatter3d\",\"x\":[0.0,0.0],\"y\":[0.0,200.0],\"z\":[0.0,0.0]},{\"legendgroup\":\"2\",\"legendgrouptitle\":{\"text\":\"--2--\"},\"line\":{\"color\":\"blue\",\"width\":2},\"marker\":{\"color\":\"blue\",\"size\":1.0},\"type\":\"scatter3d\",\"x\":[0.0,0.0],\"y\":[0.0,0.0],\"z\":[0.0,-500.0]},{\"legendgroup\":\"3\",\"legendgrouptitle\":{\"text\":\"--3--\"},\"line\":{\"color\":\"red\",\"width\":2},\"marker\":{\"color\":\"red\",\"size\":1.1},\"type\":\"scatter3d\",\"x\":[2.8296711444854736,202.79336628612438],\"y\":[-7.350893020629883,-11.14510830055345],\"z\":[8.676528930664062,9.029453442852574]},{\"legendgroup\":\"3\",\"legendgrouptitle\":{\"text\":\"--3--\"},\"line\":{\"color\":\"green\",\"width\":2},\"marker\":{\"color\":\"green\",\"size\":1.1},\"type\":\"scatter3d\",\"x\":[2.8296711444854736,6.62467056078971],\"y\":[-7.350893020629883,192.61260029299467],\"z\":[8.676528930664062,8.230074854315637]},{\"legendgroup\":\"3\",\"legendgrouptitle\":{\"text\":\"--3--\"},\"line\":{\"color\":\"blue\",\"width\":2},\"marker\":{\"color\":\"blue\",\"size\":1.1},\"type\":\"scatter3d\",\"x\":[2.8296711444854736,3.690647087672429],\"y\":[-7.350893020629883,-8.4835674598228],\"z\":[8.676528930664062,-491.32144683427845]},{\"legendgroup\":\"4\",\"legendgrouptitle\":{\"text\":\"--4--\"},\"line\":{\"color\":\"red\",\"width\":2},\"marker\":{\"color\":\"red\",\"size\":1.2},\"type\":\"scatter3d\",\"x\":[9.155072212219238,208.82871045191092],\"y\":[-21.76079559326172,-33.129321619031],\"z\":[25.939533233642578,27.032606024514312]},{\"legendgroup\":\"4\",\"legendgrouptitle\":{\"text\":\"--4--\"},\"line\":{\"color\":\"green\",\"width\":2},\"marker\":{\"color\":\"green\",\"size\":1.2},\"type\":\"scatter3d\",\"x\":[9.155072212219238,20.530556674505174],\"y\":[-21.76079559326172,177.91128879943204],\"z\":[25.939533233642578,24.652261884903762]},{\"legendgroup\":\"4\",\"legendgrouptitle\":{\"text\":\"--4--\"},\"line\":{\"color\":\"blue\",\"width\":2},\"marker\":{\"color\":\"blue\",\"size\":1.2},\"type\":\"scatter3d\",\"x\":[9.155072212219238,11.70034402116841],\"y\":[-21.76079559326172,-25.12915042017551],\"z\":[25.939533233642578,-474.04264222582174]},{\"legendgroup\":\"5\",\"legendgrouptitle\":{\"text\":\"--5--\"},\"line\":{\"color\":\"red\",\"width\":2},\"marker\":{\"color\":\"red\",\"size\":1.3},\"type\":\"scatter3d\",\"x\":[18.804582595825195,217.4970340579485],\"y\":[-43.60680389404297,-66.32478137377876],\"z\":[51.95524597167969,54.236305199757254]},{\"legendgroup\":\"5\",\"legendgrouptitle\":{\"text\":\"--5--\"},\"line\":{\"color\":\"green\",\"width\":2},\"marker\":{\"color\":\"green\",\"size\":1.3},\"type\":\"scatter3d\",\"x\":[18.804582595825195,41.55037787747708],\"y\":[-43.60680389404297,155.08010258616628],\"z\":[51.95524597167969,49.47694204968468]},{\"legendgroup\":\"5\",\"legendgrouptitle\":{\"text\":\"--5--\"},\"line\":{\"color\":\"blue\",\"width\":2},\"marker\":{\"color\":\"blue\",\"size\":1.3},\"type\":\"scatter3d\",\"x\":[18.804582595825195,23.766014456288225],\"y\":[-43.60680389404297,-50.41061374349995],\"z\":[51.95524597167969,-447.9738413651409]},{\"legendgroup\":\"6\",\"legendgrouptitle\":{\"text\":\"--6--\"},\"line\":{\"color\":\"red\",\"width\":2},\"marker\":{\"color\":\"red\",\"size\":1.4},\"type\":\"scatter3d\",\"x\":[30.374011993408203,226.73641987896596],\"y\":[-73.41669464111328,-111.17847790450259],\"z\":[86.69013214111328,90.67165121737686]},{\"legendgroup\":\"6\",\"legendgrouptitle\":{\"text\":\"--6--\"},\"line\":{\"color\":\"green\",\"width\":2},\"marker\":{\"color\":\"green\",\"size\":1.4},\"type\":\"scatter3d\",\"x\":[30.374011993408203,68.21354576568245],\"y\":[-73.41669464111328,122.93087135523825],\"z\":[86.69013214111328,82.71483200083308]},{\"legendgroup\":\"6\",\"legendgrouptitle\":{\"text\":\"--6--\"},\"line\":{\"color\":\"blue\",\"width\":2},\"marker\":{\"color\":\"blue\",\"size\":1.4},\"type\":\"scatter3d\",\"x\":[30.374011993408203,38.26960145951088],\"y\":[-73.41669464111328,-85.05742380566883],\"z\":[86.69013214111328,-413.1119817914913]},{\"legendgroup\":\"7\",\"legendgrouptitle\":{\"text\":\"--7--\"},\"line\":{\"color\":\"red\",\"width\":2},\"marker\":{\"color\":\"red\",\"size\":1.5},\"type\":\"scatter3d\",\"x\":[41.32200622558594,233.14898062958483],\"y\":[-110.80050659179688,-167.04427614391074],\"z\":[130.20510864257812,136.45413077218103]},{\"legendgroup\":\"7\",\"legendgrouptitle\":{\"text\":\"--7--\"},\"line\":{\"color\":\"green\",\"width\":2},\"marker\":{\"color\":\"green\",\"size\":1.5},\"type\":\"scatter3d\",\"x\":[41.32200622558594,97.74061360444139],\"y\":[-110.80050659179688,80.99322235057477],\"z\":[130.20510864257812,124.53886828316513]},{\"legendgroup\":\"7\",\"legendgrouptitle\":{\"text\":\"--7--\"},\"line\":{\"color\":\"blue\",\"width\":2},\"marker\":{\"color\":\"blue\",\"size\":1.5},\"type\":\"scatter3d\",\"x\":[41.32200622558594,52.31991296906383],\"y\":[-110.80050659179688,-128.79424247209522],\"z\":[130.20510864257812,-369.3499649142139]},{\"legendgroup\":\"8\",\"legendgrouptitle\":{\"text\":\"--8--\"},\"line\":{\"color\":\"red\",\"width\":2},\"marker\":{\"color\":\"red\",\"size\":1.6},\"type\":\"scatter3d\",\"x\":[49.492618560791016,233.56277086084796],\"y\":[-154.63095092773438,-232.31416749346113],\"z\":[182.78892517089844,191.92658878017215]},{\"legendgroup\":\"8\",\"legendgrouptitle\":{\"text\":\"--8--\"},\"line\":{\"color\":\"green\",\"width\":2},\"marker\":{\"color\":\"green\",\"size\":1.6},\"type\":\"scatter3d\",\"x\":[49.492618560791016,127.51492499617129],\"y\":[-154.63095092773438,29.374659579575052],\"z\":[182.78892517089844,175.40956203198465]},{\"legendgroup\":\"8\",\"legendgrouptitle\":{\"text\":\"--8--\"},\"line\":{\"color\":\"blue\",\"width\":2},\"marker\":{\"color\":\"blue\",\"size\":1.6},\"type\":\"scatter3d\",\"x\":[49.492618560791016,63.344227388259185],\"y\":[-154.63095092773438,-180.52172701627768],\"z\":[182.78892517089844,-316.3481308031334]},{\"legendgroup\":\"9\",\"legendgrouptitle\":{\"text\":\"--9--\"},\"line\":{\"color\":\"red\",\"width\":2},\"marker\":{\"color\":\"red\",\"size\":1.7000000000000002},\"type\":\"scatter3d\",\"x\":[52.98207473754883,224.95108330785763],\"y\":[-204.1191864013672,-305.43585898496866],\"z\":[244.7082061767578,257.4200883321414]},{\"legendgroup\":\"9\",\"legendgrouptitle\":{\"text\":\"--9--\"},\"line\":{\"color\":\"green\",\"width\":2},\"marker\":{\"color\":\"green\",\"size\":1.7000000000000002},\"type\":\"scatter3d\",\"x\":[52.98207473754883,154.89232051747922],\"y\":[-204.1191864013672,-32.26288898749908],\"z\":[244.7082061767578,235.77988918696096]},{\"legendgroup\":\"9\",\"legendgrouptitle\":{\"text\":\"--9--\"},\"line\":{\"color\":\"blue\",\"width\":2},\"marker\":{\"color\":\"blue\",\"size\":1.7000000000000002},\"type\":\"scatter3d\",\"x\":[52.98207473754883,68.98244512764626],\"y\":[-204.1191864013672,-239.5049970978355],\"z\":[244.7082061767578,-253.7813449160745]},{\"legendgroup\":\"10\",\"legendgrouptitle\":{\"text\":\"--10--\"},\"line\":{\"color\":\"red\",\"width\":2},\"marker\":{\"color\":\"red\",\"size\":1.8},\"type\":\"scatter3d\",\"x\":[49.0088005065918,203.38233119932758],\"y\":[-258.4047546386719,-384.4202051228636],\"z\":[316.1593017578125,333.15692690737956]},{\"legendgroup\":\"10\",\"legendgrouptitle\":{\"text\":\"--10--\"},\"line\":{\"color\":\"green\",\"width\":2},\"marker\":{\"color\":\"green\",\"size\":1.8},\"type\":\"scatter3d\",\"x\":[49.0088005065918,175.9850912134404],\"y\":[-258.4047546386719,-104.21024839731987],\"z\":[316.1593017578125,306.1056534988203]},{\"legendgroup\":\"10\",\"legendgrouptitle\":{\"text\":\"--10--\"},\"line\":{\"color\":\"blue\",\"width\":2},\"marker\":{\"color\":\"blue\",\"size\":1.8},\"type\":\"scatter3d\",\"x\":[49.0088005065918,65.93411804217388],\"y\":[-258.4047546386719,-304.783661768684],\"z\":[316.1593017578125,-181.39725844388505]},{\"legendgroup\":\"11\",\"legendgrouptitle\":{\"text\":\"--11--\"},\"line\":{\"color\":\"red\",\"width\":2},\"marker\":{\"color\":\"red\",\"size\":1.9},\"type\":\"scatter3d\",\"x\":[34.56435775756836,164.82255317144129],\"y\":[-316.6642150878906,-466.831671102923],\"z\":[397.1977844238281,419.16452477133146]},{\"legendgroup\":\"11\",\"legendgrouptitle\":{\"text\":\"--11--\"},\"line\":{\"color\":\"green\",\"width\":2},\"marker\":{\"color\":\"green\",\"size\":1.9},\"type\":\"scatter3d\",\"x\":[34.56435775756836,186.19405815864],\"y\":[-316.6642150878906,-186.66825565070914],\"z\":[397.1977844238281,386.7343009556933]},{\"legendgroup\":\"11\",\"legendgrouptitle\":{\"text\":\"--11--\"},\"line\":{\"color\":\"blue\",\"width\":2},\"marker\":{\"color\":\"blue\",\"size\":1.9},\"type\":\"scatter3d\",\"x\":[34.56435775756836,50.61826767901824],\"y\":[-316.6642150878906,-375.336274237668],\"z\":[397.1977844238281,-99.08828373783103]},{\"legendgroup\":\"12\",\"legendgrouptitle\":{\"text\":\"--12--\"},\"line\":{\"color\":\"red\",\"width\":2},\"marker\":{\"color\":\"red\",\"size\":2.0},\"type\":\"scatter3d\",\"x\":[5.885876178741455,104.845151088599],\"y\":[-376.2452087402344,-547.8569856885202],\"z\":[487.88153076171875,515.3853472599252]},{\"legendgroup\":\"12\",\"legendgrouptitle\":{\"text\":\"--12--\"},\"line\":{\"color\":\"green\",\"width\":2},\"marker\":{\"color\":\"green\",\"size\":2.0},\"type\":\"scatter3d\",\"x\":[5.885876178741455,179.6123064225878],\"y\":[-376.2452087402344,-277.64333428663133],\"z\":[487.88153076171875,478.0429440255101]},{\"legendgroup\":\"12\",\"legendgrouptitle\":{\"text\":\"--12--\"},\"line\":{\"color\":\"blue\",\"width\":2},\"marker\":{\"color\":\"blue\",\"size\":2.0},\"type\":\"scatter3d\",\"x\":[5.885876178741455,18.679757539872547],\"y\":[-376.2452087402344,-448.1421995885865],\"z\":[487.88153076171875,-6.7568617096595744]},{\"legendgroup\":\"13\",\"legendgrouptitle\":{\"text\":\"--13--\"},\"line\":{\"color\":\"red\",\"width\":2},\"marker\":{\"color\":\"red\",\"size\":2.1},\"type\":\"scatter3d\",\"x\":[-40.23313522338867,20.17772276687245],\"y\":[-433.04998779296875,-620.7629329680245],\"z\":[588.1642456054688,621.5465530539813]},{\"legendgroup\":\"13\",\"legendgrouptitle\":{\"text\":\"--13--\"},\"line\":{\"color\":\"green\",\"width\":2},\"marker\":{\"color\":\"green\",\"size\":2.1},\"type\":\"scatter3d\",\"x\":[-40.23313522338867,150.407157261318],\"y\":[-433.04998779296875,-373.09869783670854],\"z\":[588.1642456054688,580.28251267889]},{\"legendgroup\":\"13\",\"legendgrouptitle\":{\"text\":\"--13--\"},\"line\":{\"color\":\"blue\",\"width\":2},\"marker\":{\"color\":\"blue\",\"size\":2.1},\"type\":\"scatter3d\",\"x\":[-40.23313522338867,-33.710521566845],\"y\":[-433.04998779296875,-518.5519265972629],\"z\":[588.1642456054688,95.57225016523199]},{\"legendgroup\":\"14\",\"legendgrouptitle\":{\"text\":\"--14--\"},\"line\":{\"color\":\"red\",\"width\":2},\"marker\":{\"color\":\"red\",\"size\":2.2},\"type\":\"scatter3d\",\"x\":[-105.548583984375,-90.10430069166293],\"y\":[-481.15545654296875,-676.660963579099],\"z\":[697.50048828125,736.7314815406626]},{\"legendgroup\":\"14\",\"legendgrouptitle\":{\"text\":\"--14--\"},\"line\":{\"color\":\"green\",\"width\":2},\"marker\":{\"color\":\"green\",\"size\":2.2},\"type\":\"scatter3d\",\"x\":[-105.548583984375,93.84972502181117],\"y\":[-481.15545654296875,-466.2772687622635],\"z\":[697.50048828125,693.1468812898501]},{\"legendgroup\":\"14\",\"legendgrouptitle\":{\"text\":\"--14--\"},\"line\":{\"color\":\"blue\",\"width\":2},\"marker\":{\"color\":\"blue\",\"size\":2.2},\"type\":\"scatter3d\",\"x\":[-105.548583984375,-108.89193470628211],\"y\":[-481.15545654296875,-579.7783572464721],\"z\":[697.50048828125,207.33485763914013]},{\"legendgroup\":\"15\",\"legendgrouptitle\":{\"text\":\"--15--\"},\"line\":{\"color\":\"red\",\"width\":2},\"marker\":{\"color\":\"red\",\"size\":2.3},\"type\":\"scatter3d\",\"x\":[-188.5861053466797,-222.52684240654003],\"y\":[-512.8899536132812,-704.8916778987134],\"z\":[814.935546875,859.4705245807799]},{\"legendgroup\":\"15\",\"legendgrouptitle\":{\"text\":\"--15--\"},\"line\":{\"color\":\"green\",\"width\":2},\"marker\":{\"color\":\"green\",\"size\":2.3},\"type\":\"scatter3d\",\"x\":[-188.5861053466797,8.394910785200835],\"y\":[-512.8899536132812,-547.4966938830355],\"z\":[814.935546875,815.8590248409494]},{\"legendgroup\":\"15\",\"legendgrouptitle\":{\"text\":\"--15--\"},\"line\":{\"color\":\"blue\",\"width\":2},\"marker\":{\"color\":\"blue\",\"size\":2.3},\"type\":\"scatter3d\",\"x\":[-188.5861053466797,-205.63486840394629],\"y\":[-512.8899536132812,-622.9385621722564],\"z\":[814.935546875,327.49463411484743]},{\"legendgroup\":\"16\",\"legendgrouptitle\":{\"text\":\"--16--\"},\"line\":{\"color\":\"red\",\"width\":2},\"marker\":{\"color\":\"red\",\"size\":2.4000000000000004},\"type\":\"scatter3d\",\"x\":[-284.725341796875,-369.157747915121],\"y\":[-520.288818359375,-694.9429459696132],\"z\":[939.5344848632812,988.1873830892882]},{\"legendgroup\":\"16\",\"legendgrouptitle\":{\"text\":\"--16--\"},\"line\":{\"color\":\"green\",\"width\":2},\"marker\":{\"color\":\"green\",\"size\":2.4000000000000004},\"type\":\"scatter3d\",\"x\":[-284.725341796875,-103.94369874345975],\"y\":[-520.288818359375,-605.461419872988],\"z\":[939.5344848632812,947.511043413862]},{\"legendgroup\":\"16\",\"legendgrouptitle\":{\"text\":\"--16--\"},\"line\":{\"color\":\"blue\",\"width\":2},\"marker\":{\"color\":\"blue\",\"size\":2.4000000000000004},\"type\":\"scatter3d\",\"x\":[-284.725341796875,-319.10977977315486],\"y\":[-520.288818359375,-638.6517047540842],\"z\":[939.5344848632812,454.9646369059733]},{\"legendgroup\":\"17\",\"legendgrouptitle\":{\"text\":\"--17--\"},\"line\":{\"color\":\"red\",\"width\":2},\"marker\":{\"color\":\"red\",\"size\":2.5},\"type\":\"scatter3d\",\"x\":[-387.28253173828125,-518.695964818399],\"y\":[-496.5360107421875,-638.4636961861584],\"z\":[1070.179443359375,1121.0424132944333]},{\"legendgroup\":\"17\",\"legendgrouptitle\":{\"text\":\"--17--\"},\"line\":{\"color\":\"green\",\"width\":2},\"marker\":{\"color\":\"green\",\"size\":2.5},\"type\":\"scatter3d\",\"x\":[-387.28253173828125,-238.10871495858913],\"y\":[-496.5360107421875,-628.7197133911086],\"z\":[1070.179443359375,1086.7517437850995]},{\"legendgroup\":\"17\",\"legendgrouptitle\":{\"text\":\"--17--\"},\"line\":{\"color\":\"blue\",\"width\":2},\"marker\":{\"color\":\"blue\",\"size\":2.5},\"type\":\"scatter3d\",\"x\":[-387.28253173828125,-441.92237488617576],\"y\":[-496.5360107421875,-618.6015888789743],\"z\":[1070.179443359375,588.396834525364]},{\"legendgroup\":\"18\",\"legendgrouptitle\":{\"text\":\"--18--\"},\"line\":{\"color\":\"red\",\"width\":2},\"marker\":{\"color\":\"red\",\"size\":2.6},\"type\":\"scatter3d\",\"x\":[-486.9713134765625,-656.1618975890528],\"y\":[-435.3984375,-529.3521820558366],\"z\":[1205.1517333984375,1255.621923923251]},{\"legendgroup\":\"18\",\"legendgrouptitle\":{\"text\":\"--18--\"},\"line\":{\"color\":\"green\",\"width\":2},\"marker\":{\"color\":\"green\",\"size\":2.6},\"type\":\"scatter3d\",\"x\":[-486.9713134765625,-384.803228407256],\"y\":[-435.3984375,-605.3330285218237],\"z\":[1205.1517333984375,1231.303543422152]},{\"legendgroup\":\"18\",\"legendgrouptitle\":{\"text\":\"--18--\"},\"line\":{\"color\":\"blue\",\"width\":2},\"marker\":{\"color\":\"blue\",\"size\":2.6},\"type\":\"scatter3d\",\"x\":[-486.9713134765625,-563.4659473138983],\"y\":[-435.3984375,-555.1619716564294],\"z\":[1205.1517333984375,725.7716473701861]},{\"legendgroup\":\"19\",\"legendgrouptitle\":{\"text\":\"--19--\"},\"line\":{\"color\":\"red\",\"width\":2},\"marker\":{\"color\":\"red\",\"size\":2.7},\"type\":\"scatter3d\",\"x\":[-569.9470825195312,-761.5097855544785],\"y\":[-334.2513122558594,-367.4304573452113],\"z\":[1342.23779296875,1389.1725896241562]},{\"legendgroup\":\"19\",\"legendgrouptitle\":{\"text\":\"--19--\"},\"line\":{\"color\":\"green\",\"width\":2},\"marker\":{\"color\":\"green\",\"size\":2.7},\"type\":\"scatter3d\",\"x\":[-569.9470825195312,-527.8757618635121],\"y\":[-334.2513122558594,-526.4647159678811],\"z\":[1342.23779296875,1378.0708979374485]},{\"legendgroup\":\"19\",\"legendgrouptitle\":{\"text\":\"--19--\"},\"line\":{\"color\":\"blue\",\"width\":2},\"marker\":{\"color\":\"blue\",\"size\":2.7},\"type\":\"scatter3d\",\"x\":[-569.9470825195312,-667.8543978808914],\"y\":[-334.2513122558594,-444.73750383027874],\"z\":[1342.23779296875,864.5276726341355]},{\"legendgroup\":\"20\",\"legendgrouptitle\":{\"text\":\"--20--\"},\"line\":{\"color\":\"red\",\"width\":2},\"marker\":{\"color\":\"red\",\"size\":2.8},\"type\":\"scatter3d\",\"x\":[-620.1394653320312,-812.9154460011924],\"y\":[-196.95762634277344,-161.84320212074326],\"z\":[1479.62841796875,1519.6833613415533]},{\"legendgroup\":\"20\",\"legendgrouptitle\":{\"text\":\"--20--\"},\"line\":{\"color\":\"green\",\"width\":2},\"marker\":{\"color\":\"green\",\"size\":2.8},\"type\":\"scatter3d\",\"x\":[-620.1394653320312,-646.1180959388113],\"y\":[-196.95762634277344,-390.2282814619265],\"z\":[1479.62841796875,1524.0307222063666]},{\"legendgroup\":\"20\",\"legendgrouptitle\":{\"text\":\"--20--\"},\"line\":{\"color\":\"blue\",\"width\":2},\"marker\":{\"color\":\"blue\",\"size\":2.8},\"type\":\"scatter3d\",\"x\":[-620.1394653320312,-736.3970465052513],\"y\":[-196.95762634277344,-290.94669091176615],\"z\":[1479.62841796875,1002.5013588312517]},{\"legendgroup\":\"21\",\"legendgrouptitle\":{\"text\":\"--21--\"},\"line\":{\"color\":\"red\",\"width\":2},\"marker\":{\"color\":\"red\",\"size\":2.9000000000000004},\"type\":\"scatter3d\",\"x\":[-622.74658203125,-791.639685731888],\"y\":[-35.16497039794922,67.61860558239798],\"z\":[1616.790771484375,1646.9678493922468]},{\"legendgroup\":\"21\",\"legendgrouptitle\":{\"text\":\"--21--\"},\"line\":{\"color\":\"green\",\"width\":2},\"marker\":{\"color\":\"green\",\"size\":2.9000000000000004},\"type\":\"scatter3d\",\"x\":[-622.74658203125,-716.7015065579293],\"y\":[-35.16497039794922,-204.3619383602185],\"z\":[1616.790771484375,1667.2373589761055]},{\"legendgroup\":\"21\",\"legendgrouptitle\":{\"text\":\"--21--\"},\"line\":{\"color\":\"blue\",\"width\":2},\"marker\":{\"color\":\"blue\",\"size\":2.9000000000000004},\"type\":\"scatter3d\",\"x\":[-622.74658203125,-751.3834663109826],\"y\":[-35.16497039794922,-106.22491608937854],\"z\":[1616.790771484375,1138.8754692381153]},{\"legendgroup\":\"22\",\"legendgrouptitle\":{\"text\":\"--22--\"},\"line\":{\"color\":\"red\",\"width\":2},\"marker\":{\"color\":\"red\",\"size\":3.0},\"type\":\"scatter3d\",\"x\":[-567.4476928710938,-686.7768387887932],\"y\":[132.19683837890625,291.65227544204544],\"z\":[1754.298583984375,1772.5884315932446]},{\"legendgroup\":\"22\",\"legendgrouptitle\":{\"text\":\"--22--\"},\"line\":{\"color\":\"green\",\"width\":2},\"marker\":{\"color\":\"green\",\"size\":3.0},\"type\":\"scatter3d\",\"x\":[-567.4476928710938,-718.9843784649254],\"y\":[132.19683837890625,12.756241430849144],\"z\":[1754.298583984375,1806.9348520884873]},{\"legendgroup\":\"22\",\"legendgrouptitle\":{\"text\":\"--22--\"},\"line\":{\"color\":\"blue\",\"width\":2},\"marker\":{\"color\":\"blue\",\"size\":3.0},\"type\":\"scatter3d\",\"x\":[-567.4476928710938,-699.6688110261713],\"y\":[132.19683837890625,88.32861299772648],\"z\":[1754.298583984375,1274.0974233071781]}],                        {\"scene\":{\"aspectmode\":\"data\",\"aspectratio\":{\"x\":1,\"y\":1,\"z\":1}},\"template\":{\"data\":{\"bar\":[{\"error_x\":{\"color\":\"#2a3f5f\"},\"error_y\":{\"color\":\"#2a3f5f\"},\"marker\":{\"line\":{\"color\":\"#E5ECF6\",\"width\":0.5},\"pattern\":{\"fillmode\":\"overlay\",\"size\":10,\"solidity\":0.2}},\"type\":\"bar\"}],\"barpolar\":[{\"marker\":{\"line\":{\"color\":\"#E5ECF6\",\"width\":0.5},\"pattern\":{\"fillmode\":\"overlay\",\"size\":10,\"solidity\":0.2}},\"type\":\"barpolar\"}],\"carpet\":[{\"aaxis\":{\"endlinecolor\":\"#2a3f5f\",\"gridcolor\":\"white\",\"linecolor\":\"white\",\"minorgridcolor\":\"white\",\"startlinecolor\":\"#2a3f5f\"},\"baxis\":{\"endlinecolor\":\"#2a3f5f\",\"gridcolor\":\"white\",\"linecolor\":\"white\",\"minorgridcolor\":\"white\",\"startlinecolor\":\"#2a3f5f\"},\"type\":\"carpet\"}],\"choropleth\":[{\"colorbar\":{\"outlinewidth\":0,\"ticks\":\"\"},\"type\":\"choropleth\"}],\"contour\":[{\"colorbar\":{\"outlinewidth\":0,\"ticks\":\"\"},\"colorscale\":[[0.0,\"#0d0887\"],[0.1111111111111111,\"#46039f\"],[0.2222222222222222,\"#7201a8\"],[0.3333333333333333,\"#9c179e\"],[0.4444444444444444,\"#bd3786\"],[0.5555555555555556,\"#d8576b\"],[0.6666666666666666,\"#ed7953\"],[0.7777777777777778,\"#fb9f3a\"],[0.8888888888888888,\"#fdca26\"],[1.0,\"#f0f921\"]],\"type\":\"contour\"}],\"contourcarpet\":[{\"colorbar\":{\"outlinewidth\":0,\"ticks\":\"\"},\"type\":\"contourcarpet\"}],\"heatmap\":[{\"colorbar\":{\"outlinewidth\":0,\"ticks\":\"\"},\"colorscale\":[[0.0,\"#0d0887\"],[0.1111111111111111,\"#46039f\"],[0.2222222222222222,\"#7201a8\"],[0.3333333333333333,\"#9c179e\"],[0.4444444444444444,\"#bd3786\"],[0.5555555555555556,\"#d8576b\"],[0.6666666666666666,\"#ed7953\"],[0.7777777777777778,\"#fb9f3a\"],[0.8888888888888888,\"#fdca26\"],[1.0,\"#f0f921\"]],\"type\":\"heatmap\"}],\"heatmapgl\":[{\"colorbar\":{\"outlinewidth\":0,\"ticks\":\"\"},\"colorscale\":[[0.0,\"#0d0887\"],[0.1111111111111111,\"#46039f\"],[0.2222222222222222,\"#7201a8\"],[0.3333333333333333,\"#9c179e\"],[0.4444444444444444,\"#bd3786\"],[0.5555555555555556,\"#d8576b\"],[0.6666666666666666,\"#ed7953\"],[0.7777777777777778,\"#fb9f3a\"],[0.8888888888888888,\"#fdca26\"],[1.0,\"#f0f921\"]],\"type\":\"heatmapgl\"}],\"histogram\":[{\"marker\":{\"pattern\":{\"fillmode\":\"overlay\",\"size\":10,\"solidity\":0.2}},\"type\":\"histogram\"}],\"histogram2d\":[{\"colorbar\":{\"outlinewidth\":0,\"ticks\":\"\"},\"colorscale\":[[0.0,\"#0d0887\"],[0.1111111111111111,\"#46039f\"],[0.2222222222222222,\"#7201a8\"],[0.3333333333333333,\"#9c179e\"],[0.4444444444444444,\"#bd3786\"],[0.5555555555555556,\"#d8576b\"],[0.6666666666666666,\"#ed7953\"],[0.7777777777777778,\"#fb9f3a\"],[0.8888888888888888,\"#fdca26\"],[1.0,\"#f0f921\"]],\"type\":\"histogram2d\"}],\"histogram2dcontour\":[{\"colorbar\":{\"outlinewidth\":0,\"ticks\":\"\"},\"colorscale\":[[0.0,\"#0d0887\"],[0.1111111111111111,\"#46039f\"],[0.2222222222222222,\"#7201a8\"],[0.3333333333333333,\"#9c179e\"],[0.4444444444444444,\"#bd3786\"],[0.5555555555555556,\"#d8576b\"],[0.6666666666666666,\"#ed7953\"],[0.7777777777777778,\"#fb9f3a\"],[0.8888888888888888,\"#fdca26\"],[1.0,\"#f0f921\"]],\"type\":\"histogram2dcontour\"}],\"mesh3d\":[{\"colorbar\":{\"outlinewidth\":0,\"ticks\":\"\"},\"type\":\"mesh3d\"}],\"parcoords\":[{\"line\":{\"colorbar\":{\"outlinewidth\":0,\"ticks\":\"\"}},\"type\":\"parcoords\"}],\"pie\":[{\"automargin\":true,\"type\":\"pie\"}],\"scatter\":[{\"marker\":{\"colorbar\":{\"outlinewidth\":0,\"ticks\":\"\"}},\"type\":\"scatter\"}],\"scatter3d\":[{\"line\":{\"colorbar\":{\"outlinewidth\":0,\"ticks\":\"\"}},\"marker\":{\"colorbar\":{\"outlinewidth\":0,\"ticks\":\"\"}},\"type\":\"scatter3d\"}],\"scattercarpet\":[{\"marker\":{\"colorbar\":{\"outlinewidth\":0,\"ticks\":\"\"}},\"type\":\"scattercarpet\"}],\"scattergeo\":[{\"marker\":{\"colorbar\":{\"outlinewidth\":0,\"ticks\":\"\"}},\"type\":\"scattergeo\"}],\"scattergl\":[{\"marker\":{\"colorbar\":{\"outlinewidth\":0,\"ticks\":\"\"}},\"type\":\"scattergl\"}],\"scattermapbox\":[{\"marker\":{\"colorbar\":{\"outlinewidth\":0,\"ticks\":\"\"}},\"type\":\"scattermapbox\"}],\"scatterpolar\":[{\"marker\":{\"colorbar\":{\"outlinewidth\":0,\"ticks\":\"\"}},\"type\":\"scatterpolar\"}],\"scatterpolargl\":[{\"marker\":{\"colorbar\":{\"outlinewidth\":0,\"ticks\":\"\"}},\"type\":\"scatterpolargl\"}],\"scatterternary\":[{\"marker\":{\"colorbar\":{\"outlinewidth\":0,\"ticks\":\"\"}},\"type\":\"scatterternary\"}],\"surface\":[{\"colorbar\":{\"outlinewidth\":0,\"ticks\":\"\"},\"colorscale\":[[0.0,\"#0d0887\"],[0.1111111111111111,\"#46039f\"],[0.2222222222222222,\"#7201a8\"],[0.3333333333333333,\"#9c179e\"],[0.4444444444444444,\"#bd3786\"],[0.5555555555555556,\"#d8576b\"],[0.6666666666666666,\"#ed7953\"],[0.7777777777777778,\"#fb9f3a\"],[0.8888888888888888,\"#fdca26\"],[1.0,\"#f0f921\"]],\"type\":\"surface\"}],\"table\":[{\"cells\":{\"fill\":{\"color\":\"#EBF0F8\"},\"line\":{\"color\":\"white\"}},\"header\":{\"fill\":{\"color\":\"#C8D4E3\"},\"line\":{\"color\":\"white\"}},\"type\":\"table\"}]},\"layout\":{\"annotationdefaults\":{\"arrowcolor\":\"#2a3f5f\",\"arrowhead\":0,\"arrowwidth\":1},\"autotypenumbers\":\"strict\",\"coloraxis\":{\"colorbar\":{\"outlinewidth\":0,\"ticks\":\"\"}},\"colorscale\":{\"diverging\":[[0,\"#8e0152\"],[0.1,\"#c51b7d\"],[0.2,\"#de77ae\"],[0.3,\"#f1b6da\"],[0.4,\"#fde0ef\"],[0.5,\"#f7f7f7\"],[0.6,\"#e6f5d0\"],[0.7,\"#b8e186\"],[0.8,\"#7fbc41\"],[0.9,\"#4d9221\"],[1,\"#276419\"]],\"sequential\":[[0.0,\"#0d0887\"],[0.1111111111111111,\"#46039f\"],[0.2222222222222222,\"#7201a8\"],[0.3333333333333333,\"#9c179e\"],[0.4444444444444444,\"#bd3786\"],[0.5555555555555556,\"#d8576b\"],[0.6666666666666666,\"#ed7953\"],[0.7777777777777778,\"#fb9f3a\"],[0.8888888888888888,\"#fdca26\"],[1.0,\"#f0f921\"]],\"sequentialminus\":[[0.0,\"#0d0887\"],[0.1111111111111111,\"#46039f\"],[0.2222222222222222,\"#7201a8\"],[0.3333333333333333,\"#9c179e\"],[0.4444444444444444,\"#bd3786\"],[0.5555555555555556,\"#d8576b\"],[0.6666666666666666,\"#ed7953\"],[0.7777777777777778,\"#fb9f3a\"],[0.8888888888888888,\"#fdca26\"],[1.0,\"#f0f921\"]]},\"colorway\":[\"#636efa\",\"#EF553B\",\"#00cc96\",\"#ab63fa\",\"#FFA15A\",\"#19d3f3\",\"#FF6692\",\"#B6E880\",\"#FF97FF\",\"#FECB52\"],\"font\":{\"color\":\"#2a3f5f\"},\"geo\":{\"bgcolor\":\"white\",\"lakecolor\":\"white\",\"landcolor\":\"#E5ECF6\",\"showlakes\":true,\"showland\":true,\"subunitcolor\":\"white\"},\"hoverlabel\":{\"align\":\"left\"},\"hovermode\":\"closest\",\"mapbox\":{\"style\":\"light\"},\"paper_bgcolor\":\"white\",\"plot_bgcolor\":\"#E5ECF6\",\"polar\":{\"angularaxis\":{\"gridcolor\":\"white\",\"linecolor\":\"white\",\"ticks\":\"\"},\"bgcolor\":\"#E5ECF6\",\"radialaxis\":{\"gridcolor\":\"white\",\"linecolor\":\"white\",\"ticks\":\"\"}},\"scene\":{\"xaxis\":{\"backgroundcolor\":\"#E5ECF6\",\"gridcolor\":\"white\",\"gridwidth\":2,\"linecolor\":\"white\",\"showbackground\":true,\"ticks\":\"\",\"zerolinecolor\":\"white\"},\"yaxis\":{\"backgroundcolor\":\"#E5ECF6\",\"gridcolor\":\"white\",\"gridwidth\":2,\"linecolor\":\"white\",\"showbackground\":true,\"ticks\":\"\",\"zerolinecolor\":\"white\"},\"zaxis\":{\"backgroundcolor\":\"#E5ECF6\",\"gridcolor\":\"white\",\"gridwidth\":2,\"linecolor\":\"white\",\"showbackground\":true,\"ticks\":\"\",\"zerolinecolor\":\"white\"}},\"shapedefaults\":{\"line\":{\"color\":\"#2a3f5f\"}},\"ternary\":{\"aaxis\":{\"gridcolor\":\"white\",\"linecolor\":\"white\",\"ticks\":\"\"},\"baxis\":{\"gridcolor\":\"white\",\"linecolor\":\"white\",\"ticks\":\"\"},\"bgcolor\":\"#E5ECF6\",\"caxis\":{\"gridcolor\":\"white\",\"linecolor\":\"white\",\"ticks\":\"\"}},\"title\":{\"x\":0.05},\"xaxis\":{\"automargin\":true,\"gridcolor\":\"white\",\"linecolor\":\"white\",\"ticks\":\"\",\"title\":{\"standoff\":15},\"zerolinecolor\":\"white\",\"zerolinewidth\":2},\"yaxis\":{\"automargin\":true,\"gridcolor\":\"white\",\"linecolor\":\"white\",\"ticks\":\"\",\"title\":{\"standoff\":15},\"zerolinecolor\":\"white\",\"zerolinewidth\":2}}},\"title\":{\"text\":\"1-MLW\"}},                        {\"responsive\": true}                    ).then(function(){\n",
       "                            \n",
       "var gd = document.getElementById('51dfaee3-adef-4ce5-ba2a-f39de7116096');\n",
       "var x = new MutationObserver(function (mutations, observer) {{\n",
       "        var display = window.getComputedStyle(gd).display;\n",
       "        if (!display || display === 'none') {{\n",
       "            console.log([gd, 'removed!']);\n",
       "            Plotly.purge(gd);\n",
       "            observer.disconnect();\n",
       "        }}\n",
       "}});\n",
       "\n",
       "// Listen for the removal of the full notebook cells\n",
       "var notebookContainer = gd.closest('#notebook-container');\n",
       "if (notebookContainer) {{\n",
       "    x.observe(notebookContainer, {childList: true});\n",
       "}}\n",
       "\n",
       "// Listen for the clearing of the current output cell\n",
       "var outputEl = gd.closest('.output');\n",
       "if (outputEl) {{\n",
       "    x.observe(outputEl, {childList: true});\n",
       "}}\n",
       "\n",
       "                        })                };                });            </script>        </div>"
      ]
     },
     "metadata": {},
     "output_type": "display_data"
    },
    {
     "data": {
      "application/vnd.jupyter.widget-view+json": {
       "model_id": "ff0b45e2eec242b7ac9b382677a93e8e",
       "version_major": 2,
       "version_minor": 0
      },
      "text/plain": [
       "0it [00:00, ?it/s]"
      ]
     },
     "metadata": {},
     "output_type": "display_data"
    },
    {
     "data": {
      "application/vnd.plotly.v1+json": {
       "config": {
        "plotlyServerURL": "https://plot.ly"
       },
       "data": [
        {
         "legendgroup": "0",
         "legendgrouptitle": {
          "text": "origins"
         },
         "line": {
          "color": "black",
          "width": 2
         },
         "marker": {
          "color": "black",
          "size": 1
         },
         "type": "scatter3d",
         "x": [
          0,
          3.9547579288482666,
          9.541864395141602,
          14.497509002685547,
          15.158663749694824,
          6.761141777038574,
          -15.366029739379883,
          -55.48552322387695,
          -117.5774917602539,
          -205.29525756835938,
          -322.72808837890625,
          -473.4711608886719,
          -657.3391723632812,
          -870.2645263671875,
          -1103.184814453125,
          -1341.1405029296875,
          -1562.2841796875,
          -1737.47900390625,
          -1834.5010986328125,
          -1824.977783203125,
          -1691.7554931640625
         ],
         "y": [
          0,
          -16.99209976196289,
          -50.92808151245117,
          -102.00221252441406,
          -170.37294006347656,
          -254.93939208984375,
          -353.0709533691406,
          -462.6669921875,
          -580.0301513671875,
          -699.630126953125,
          -814.619384765625,
          -915.1022338867188,
          -988.4275512695312,
          -1021.0510864257812,
          -998.6970825195312,
          -908.4929809570312,
          -741.5609130859375,
          -496.51739501953125,
          -185.64341735839844,
          163.2410888671875,
          508.6513977050781
         ],
         "z": [
          0,
          11.84561538696289,
          35.80522537231445,
          72.28529357910156,
          121.73267364501953,
          184.5962677001953,
          261.6468505859375,
          353.2771301269531,
          459.3203430175781,
          579.7947387695312,
          714.5807495117188,
          862.69482421875,
          1022.7303466796875,
          1193.082763671875,
          1372.0897216796875,
          1558.0123291015625,
          1748.8438720703125,
          1942.639892578125,
          2138.37353515625,
          2336.2607421875,
          2537.905517578125
         ]
        },
        {
         "legendgroup": "1",
         "legendgrouptitle": {
          "text": "finish"
         },
         "line": {
          "color": "black",
          "width": 2
         },
         "marker": {
          "color": "black",
          "size": 1
         },
         "type": "scatter3d",
         "x": [
          0,
          -5.5949382828789265,
          -19.021611506848203,
          -42.43616813553747,
          -79.28673657257829,
          -133.82284651278945,
          -209.58728877619143,
          -309.0136613943017,
          -433.3230307964497,
          -582.1843772994255,
          -754.5699043228194,
          -947.9364890795775,
          -1155.0767270656177,
          -1364.593813091164,
          -1560.7999487451807,
          -1724.2724356767376,
          -1832.5766857596484,
          -1861.3973916598313,
          -1790.0489639711586,
          -1608.8813125150348,
          -1325.4640422147254
         ],
         "y": [
          -500,
          -516.9005438085287,
          -550.1087641551487,
          -598.7406228416983,
          -661.3485455006282,
          -734.7224218353108,
          -813.7314416115416,
          -893.5142772770735,
          -967.5839222368929,
          -1028.0477381069281,
          -1066.516813143382,
          -1072.7955179083087,
          -1035.9008871313192,
          -946.6136503473117,
          -798.2164972515998,
          -588.7821872079593,
          -323.2249063763058,
          -15.373568881409199,
          307.9549640963199,
          608.211320528809,
          840.754803463002
         ],
         "z": [
          0,
          12.437960898697018,
          37.47073453378859,
          75.36881802007511,
          126.53071737012945,
          191.25859498020174,
          270.01447333248564,
          362.97765005022393,
          469.65616729114436,
          589.6163533196682,
          722.3480900434673,
          866.6293533115872,
          1020.8306043043566,
          1183.2022577623366,
          1352.19188768974,
          1526.4698106566404,
          1704.8331159818674,
          1886.5609148260148,
          2072.156879024242,
          2263.433492540446,
          2463.488443963146
         ]
        },
        {
         "legendgroup": "2",
         "legendgrouptitle": {
          "text": "--2--"
         },
         "line": {
          "color": "red",
          "width": 2
         },
         "marker": {
          "color": "red",
          "size": 1
         },
         "type": "scatter3d",
         "x": [
          0,
          200
         ],
         "y": [
          0,
          0
         ],
         "z": [
          0,
          0
         ]
        },
        {
         "legendgroup": "2",
         "legendgrouptitle": {
          "text": "--2--"
         },
         "line": {
          "color": "green",
          "width": 2
         },
         "marker": {
          "color": "green",
          "size": 1
         },
         "type": "scatter3d",
         "x": [
          0,
          0
         ],
         "y": [
          0,
          200
         ],
         "z": [
          0,
          0
         ]
        },
        {
         "legendgroup": "2",
         "legendgrouptitle": {
          "text": "--2--"
         },
         "line": {
          "color": "blue",
          "width": 2
         },
         "marker": {
          "color": "blue",
          "size": 1
         },
         "type": "scatter3d",
         "x": [
          0,
          0
         ],
         "y": [
          0,
          0
         ],
         "z": [
          0,
          -500
         ]
        },
        {
         "legendgroup": "3",
         "legendgrouptitle": {
          "text": "--3--"
         },
         "line": {
          "color": "red",
          "width": 2
         },
         "marker": {
          "color": "red",
          "size": 1.1
         },
         "type": "scatter3d",
         "x": [
          3.9547579288482666,
          203.9181233305488
         ],
         "y": [
          -16.99209976196289,
          -20.81167988488894
         ],
         "z": [
          11.84561538696289,
          12.09722005811672
         ]
        },
        {
         "legendgroup": "3",
         "legendgrouptitle": {
          "text": "--3--"
         },
         "line": {
          "color": "green",
          "width": 2
         },
         "marker": {
          "color": "green",
          "size": 1.1
         },
         "type": "scatter3d",
         "x": [
          3.9547579288482666,
          7.7746364135391435
         ],
         "y": [
          -16.99209976196289,
          182.97127785666345
         ],
         "z": [
          11.84561538696289,
          11.60867718226924
         ]
        },
        {
         "legendgroup": "3",
         "legendgrouptitle": {
          "text": "--3--"
         },
         "line": {
          "color": "blue",
          "width": 2
         },
         "marker": {
          "color": "blue",
          "size": 1.1
         },
         "type": "scatter3d",
         "x": [
          3.9547579288482666,
          4.572341871492439
         ],
         "y": [
          -16.99209976196289,
          -17.596350512872487
         ],
         "z": [
          11.84561538696289,
          -488.15363808358364
         ]
        },
        {
         "legendgroup": "4",
         "legendgrouptitle": {
          "text": "--4--"
         },
         "line": {
          "color": "red",
          "width": 2
         },
         "marker": {
          "color": "red",
          "size": 1.2
         },
         "type": "scatter3d",
         "x": [
          9.541864395141602,
          209.2138290535704
         ],
         "y": [
          -50.92808151245117,
          -62.35081062406495
         ],
         "z": [
          35.80522537231445,
          36.597556796564184
         ]
        },
        {
         "legendgroup": "4",
         "legendgrouptitle": {
          "text": "--4--"
         },
         "line": {
          "color": "green",
          "width": 2
         },
         "marker": {
          "color": "green",
          "size": 1.2
         },
         "type": "scatter3d",
         "x": [
          9.541864395141602,
          20.967254755937525
         ],
         "y": [
          -50.92808151245117,
          148.74419154462785
         ],
         "z": [
          35.80522537231445,
          35.1390217077248
         ]
        },
        {
         "legendgroup": "4",
         "legendgrouptitle": {
          "text": "--4--"
         },
         "line": {
          "color": "blue",
          "width": 2
         },
         "marker": {
          "color": "blue",
          "size": 1.2
         },
         "type": "scatter3d",
         "x": [
          9.541864395141602,
          11.424323801400655
         ],
         "y": [
          -50.92808151245117,
          -52.70401764230667
         ],
         "z": [
          35.80522537231445,
          -464.18807698027354
         ]
        },
        {
         "legendgroup": "5",
         "legendgrouptitle": {
          "text": "--5--"
         },
         "line": {
          "color": "red",
          "width": 2
         },
         "marker": {
          "color": "red",
          "size": 1.3
         },
         "type": "scatter3d",
         "x": [
          14.497509002685547,
          213.19105221139299
         ],
         "y": [
          -102.00221252441406,
          -124.76523568595982
         ],
         "z": [
          72.28529357910156,
          73.93473703567842
         ]
        },
        {
         "legendgroup": "5",
         "legendgrouptitle": {
          "text": "--5--"
         },
         "line": {
          "color": "green",
          "width": 2
         },
         "marker": {
          "color": "green",
          "size": 1.3
         },
         "type": "scatter3d",
         "x": [
          14.497509002685547,
          37.27097985797475
         ],
         "y": [
          -102.00221252441406,
          96.6931516024996
         ],
         "z": [
          72.28529357910156,
          71.05188380271214
         ]
        },
        {
         "legendgroup": "5",
         "legendgrouptitle": {
          "text": "--5--"
         },
         "line": {
          "color": "blue",
          "width": 2
         },
         "marker": {
          "color": "blue",
          "size": 1.3
         },
         "type": "scatter3d",
         "x": [
          14.497509002685547,
          18.24326691398137
         ],
         "y": [
          -102.00221252441406,
          -105.53513891422499
         ],
         "z": [
          72.28529357910156,
          -427.6881934467548
         ]
        },
        {
         "legendgroup": "6",
         "legendgrouptitle": {
          "text": "--6--"
         },
         "line": {
          "color": "red",
          "width": 2
         },
         "marker": {
          "color": "red",
          "size": 1.4
         },
         "type": "scatter3d",
         "x": [
          15.158663749694824,
          211.54316081649927
         ],
         "y": [
          -170.37294006347656,
          -208.1221347482939
         ],
         "z": [
          121.73267364501953,
          124.58357042779505
         ]
        },
        {
         "legendgroup": "6",
         "legendgrouptitle": {
          "text": "--6--"
         },
         "line": {
          "color": "green",
          "width": 2
         },
         "marker": {
          "color": "green",
          "size": 1.4
         },
         "type": "scatter3d",
         "x": [
          15.158663749694824,
          52.936823878604066
         ],
         "y": [
          -170.37294006347656,
          26.017302111384083
         ],
         "z": [
          121.73267364501953,
          119.81345615497557
         ]
        },
        {
         "legendgroup": "6",
         "legendgrouptitle": {
          "text": "--6--"
         },
         "line": {
          "color": "blue",
          "width": 2
         },
         "marker": {
          "color": "blue",
          "size": 1.4
         },
         "type": "scatter3d",
         "x": [
          15.158663749694824,
          21.25165618607782
         ],
         "y": [
          -170.37294006347656,
          -176.43051752241138
         ],
         "z": [
          121.73267364501953,
          -378.19350210345954
         ]
        },
        {
         "legendgroup": "7",
         "legendgrouptitle": {
          "text": "--7--"
         },
         "line": {
          "color": "red",
          "width": 2
         },
         "marker": {
          "color": "red",
          "size": 1.5
         },
         "type": "scatter3d",
         "x": [
          6.761141777038574,
          198.66160664150257
         ],
         "y": [
          -254.93939208984375,
          -311.10830350274546
         ],
         "z": [
          184.5962677001953,
          188.985456177833
         ]
        },
        {
         "legendgroup": "7",
         "legendgrouptitle": {
          "text": "--7--"
         },
         "line": {
          "color": "green",
          "width": 2
         },
         "marker": {
          "color": "green",
          "size": 1.5
         },
         "type": "scatter3d",
         "x": [
          6.761141777038574,
          62.99473709296978
         ],
         "y": [
          -254.93939208984375,
          -63.02618019165695
         ],
         "z": [
          184.5962677001953,
          181.93133678819274
         ]
        },
        {
         "legendgroup": "7",
         "legendgrouptitle": {
          "text": "--7--"
         },
         "line": {
          "color": "blue",
          "width": 2
         },
         "marker": {
          "color": "blue",
          "size": 1.5
         },
         "type": "scatter3d",
         "x": [
          6.761141777038574,
          15.419354152690866
         ],
         "y": [
          -254.93939208984375,
          -264.41715870811623
         ],
         "z": [
          184.5962677001953,
          -315.2389124326038
         ]
        },
        {
         "legendgroup": "8",
         "legendgrouptitle": {
          "text": "--8--"
         },
         "line": {
          "color": "red",
          "width": 2
         },
         "marker": {
          "color": "red",
          "size": 1.6
         },
         "type": "scatter3d",
         "x": [
          -15.366029739379883,
          168.87422703632345
         ],
         "y": [
          -353.0709533691406,
          -430.63554787636616
         ],
         "z": [
          261.6468505859375,
          267.91274734159765
         ]
        },
        {
         "legendgroup": "8",
         "legendgrouptitle": {
          "text": "--8--"
         },
         "line": {
          "color": "green",
          "width": 2
         },
         "marker": {
          "color": "green",
          "size": 1.6
         },
         "type": "scatter3d",
         "x": [
          -15.366029739379883,
          62.32247387534473
         ],
         "y": [
          -353.0709533691406,
          -168.80675807218023
         ],
         "z": [
          261.6468505859375,
          258.29980148731823
         ]
        },
        {
         "legendgroup": "8",
         "legendgrouptitle": {
          "text": "--8--"
         },
         "line": {
          "color": "blue",
          "width": 2
         },
         "marker": {
          "color": "blue",
          "size": 1.6
         },
         "type": "scatter3d",
         "x": [
          -15.366029739379883,
          -4.178930772312633
         ],
         "y": [
          -353.0709533691406,
          -366.8640699706668
         ],
         "z": [
          261.6468505859375,
          -238.037648624432
         ]
        },
        {
         "legendgroup": "9",
         "legendgrouptitle": {
          "text": "--9--"
         },
         "line": {
          "color": "red",
          "width": 2
         },
         "marker": {
          "color": "red",
          "size": 1.7000000000000002
         },
         "type": "scatter3d",
         "x": [
          -55.48552322387695,
          116.81406699705101
         ],
         "y": [
          -462.6669921875,
          -563.8640538966439
         ],
         "z": [
          353.2771301269531,
          361.7627598110731
         ]
        },
        {
         "legendgroup": "9",
         "legendgrouptitle": {
          "text": "--9--"
         },
         "line": {
          "color": "green",
          "width": 2
         },
         "marker": {
          "color": "green",
          "size": 1.7000000000000002
         },
         "type": "scatter3d",
         "x": [
          -55.48552322387695,
          45.92573204429297
         ],
         "y": [
          -462.6669921875,
          -290.32807815167064
         ],
         "z": [
          353.2771301269531,
          349.3969221576448
         ]
        },
        {
         "legendgroup": "9",
         "legendgrouptitle": {
          "text": "--9--"
         },
         "line": {
          "color": "blue",
          "width": 2
         },
         "marker": {
          "color": "blue",
          "size": 1.7000000000000002
         },
         "type": "scatter3d",
         "x": [
          -55.48552322387695,
          -42.11379123191405
         ],
         "y": [
          -462.6669921875,
          -481.7806997011407
         ],
         "z": [
          353.2771301269531,
          -146.1784364338954
         ]
        },
        {
         "legendgroup": "10",
         "legendgrouptitle": {
          "text": "--10--"
         },
         "line": {
          "color": "red",
          "width": 2
         },
         "marker": {
          "color": "red",
          "size": 1.8
         },
         "type": "scatter3d",
         "x": [
          -117.5774917602539,
          37.38577918685837
         ],
         "y": [
          -580.0301513671875,
          -705.9873532993248
         ],
         "z": [
          459.3203430175781,
          470.3279739524638
         ]
        },
        {
         "legendgroup": "10",
         "legendgrouptitle": {
          "text": "--10--"
         },
         "line": {
          "color": "green",
          "width": 2
         },
         "marker": {
          "color": "green",
          "size": 1.8
         },
         "type": "scatter3d",
         "x": [
          -117.5774917602539,
          8.720723854224403
         ],
         "y": [
          -580.0301513671875,
          -425.0086430193053
         ],
         "z": [
          459.3203430175781,
          455.18601330815164
         ]
        },
        {
         "legendgroup": "10",
         "legendgrouptitle": {
          "text": "--10--"
         },
         "line": {
          "color": "blue",
          "width": 2
         },
         "marker": {
          "color": "blue",
          "size": 1.8
         },
         "type": "scatter3d",
         "x": [
          -117.5774917602539,
          -102.75660490027236
         ],
         "y": [
          -580.0301513671875,
          -605.4165688692543
         ],
         "z": [
          459.3203430175781,
          -39.81478008947636
         ]
        },
        {
         "legendgroup": "11",
         "legendgrouptitle": {
          "text": "--11--"
         },
         "line": {
          "color": "red",
          "width": 2
         },
         "marker": {
          "color": "red",
          "size": 1.9
         },
         "type": "scatter3d",
         "x": [
          -205.29525756835938,
          -74.01181905663191
         ],
         "y": [
          -699.630126953125,
          -849.8770362925716
         ],
         "z": [
          579.7947387695312,
          593.5978183708962
         ]
        },
        {
         "legendgroup": "11",
         "legendgrouptitle": {
          "text": "--11--"
         },
         "line": {
          "color": "green",
          "width": 2
         },
         "marker": {
          "color": "green",
          "size": 1.9
         },
         "type": "scatter3d",
         "x": [
          -205.29525756835938,
          -54.53960967593295
         ],
         "y": [
          -699.630126953125,
          -568.2630824916038
         ],
         "z": [
          579.7947387695312,
          575.8660929494765
         ]
        },
        {
         "legendgroup": "11",
         "legendgrouptitle": {
          "text": "--11--"
         },
         "line": {
          "color": "blue",
          "width": 2
         },
         "marker": {
          "color": "blue",
          "size": 1.9
         },
         "type": "scatter3d",
         "x": [
          -205.29525756835938,
          -190.00772157653606
         ],
         "y": [
          -699.630126953125,
          -732.0883562052004
         ],
         "z": [
          579.7947387695312,
          81.0836454528511
         ]
        },
        {
         "legendgroup": "12",
         "legendgrouptitle": {
          "text": "--12--"
         },
         "line": {
          "color": "red",
          "width": 2
         },
         "marker": {
          "color": "red",
          "size": 2
         },
         "type": "scatter3d",
         "x": [
          -322.72808837890625,
          -222.08720110334764
         ],
         "y": [
          -814.619384765625,
          -986.6362032979074
         ],
         "z": [
          714.5807495117188,
          731.362464275715
         ]
        },
        {
         "legendgroup": "12",
         "legendgrouptitle": {
          "text": "--12--"
         },
         "line": {
          "color": "green",
          "width": 2
         },
         "marker": {
          "color": "green",
          "size": 2
         },
         "type": "scatter3d",
         "x": [
          -322.72808837890625,
          -149.991362001341
         ],
         "y": [
          -814.619384765625,
          -713.8604134145221
         ],
         "z": [
          714.5807495117188,
          711.4738132990193
         ]
        },
        {
         "legendgroup": "12",
         "legendgrouptitle": {
          "text": "--12--"
         },
         "line": {
          "color": "blue",
          "width": 2
         },
         "marker": {
          "color": "blue",
          "size": 2
         },
         "type": "scatter3d",
         "x": [
          -322.72808837890625,
          -308.272300448449
         ],
         "y": [
          -814.619384765625,
          -854.7631758717425
         ],
         "z": [
          714.5807495117188,
          216.40456960049693
         ]
        },
        {
         "legendgroup": "13",
         "legendgrouptitle": {
          "text": "--13--"
         },
         "line": {
          "color": "red",
          "width": 2
         },
         "marker": {
          "color": "red",
          "size": 2.1
         },
         "type": "scatter3d",
         "x": [
          -473.4711608886719,
          -410.55345463078186
         ],
         "y": [
          -915.1022338867188,
          -1103.9146221834924
         ],
         "z": [
          862.69482421875,
          882.4747196915347
         ]
        },
        {
         "legendgroup": "13",
         "legendgrouptitle": {
          "text": "--13--"
         },
         "line": {
          "color": "green",
          "width": 2
         },
         "marker": {
          "color": "green",
          "size": 2.1
         },
         "type": "scatter3d",
         "x": [
          -473.4711608886719,
          -283.6850296123096
         ],
         "y": [
          -915.1022338867188,
          -852.0249202780828
         ],
         "z": [
          862.69482421875,
          861.1210125816151
         ]
        },
        {
         "legendgroup": "13",
         "legendgrouptitle": {
          "text": "--13--"
         },
         "line": {
          "color": "blue",
          "width": 2
         },
         "marker": {
          "color": "blue",
          "size": 2.1
         },
         "type": "scatter3d",
         "x": [
          -473.4711608886719,
          -461.58981668934456
         ],
         "y": [
          -915.1022338867188,
          -963.264364600733
         ],
         "z": [
          862.69482421875,
          365.16166670550103
         ]
        },
        {
         "legendgroup": "14",
         "legendgrouptitle": {
          "text": "--14--"
         },
         "line": {
          "color": "red",
          "width": 2
         },
         "marker": {
          "color": "red",
          "size": 2.2
         },
         "type": "scatter3d",
         "x": [
          -657.3391723632812,
          -638.556935987257
         ],
         "y": [
          -988.4275512695312,
          -1186.2559663891273
         ],
         "z": [
          1022.7303466796875,
          1045.3388797586808
         ]
        },
        {
         "legendgroup": "14",
         "legendgrouptitle": {
          "text": "--14--"
         },
         "line": {
          "color": "green",
          "width": 2
         },
         "marker": {
          "color": "green",
          "size": 2.2
         },
         "type": "scatter3d",
         "x": [
          -657.3391723632812,
          -458.2441504823467
         ],
         "y": [
          -988.4275512695312,
          -969.4382169248161
         ],
         "z": [
          1022.7303466796875,
          1023.4902436298198
         ]
        },
        {
         "legendgroup": "14",
         "legendgrouptitle": {
          "text": "--14--"
         },
         "line": {
          "color": "blue",
          "width": 2
         },
         "marker": {
          "color": "blue",
          "size": 2.2
         },
         "type": "scatter3d",
         "x": [
          -657.3391723632812,
          -650.093544826038
         ],
         "y": [
          -988.4275512695312,
          -1044.5147240685212
         ],
         "z": [
          1022.7303466796875,
          525.9389116397829
         ]
        },
        {
         "legendgroup": "15",
         "legendgrouptitle": {
          "text": "--15--"
         },
         "line": {
          "color": "red",
          "width": 2
         },
         "marker": {
          "color": "red",
          "size": 2.3
         },
         "type": "scatter3d",
         "x": [
          -870.2645263671875,
          -900.3002665785699
         ],
         "y": [
          -1021.0510864257812,
          -1217.1948431330559
         ],
         "z": [
          1193.082763671875,
          1218.092382115822
         ]
        },
        {
         "legendgroup": "15",
         "legendgrouptitle": {
          "text": "--15--"
         },
         "line": {
          "color": "green",
          "width": 2
         },
         "marker": {
          "color": "green",
          "size": 2.3
         },
         "type": "scatter3d",
         "x": [
          -870.2645263671875,
          -672.5328116775969
         ],
         "y": [
          -1021.0510864257812,
          -1050.826060857169
         ],
         "z": [
          1193.082763671875,
          1197.0349660356903
         ]
        },
        {
         "legendgroup": "15",
         "legendgrouptitle": {
          "text": "--15--"
         },
         "line": {
          "color": "blue",
          "width": 2
         },
         "marker": {
          "color": "blue",
          "size": 2.3
         },
         "type": "scatter3d",
         "x": [
          -870.2645263671875,
          -869.8827880022021
         ],
         "y": [
          -1021.0510864257812,
          -1084.3498622022362
         ],
         "z": [
          1193.082763671875,
          697.1058294692623
         ]
        },
        {
         "legendgroup": "16",
         "legendgrouptitle": {
          "text": "--16--"
         },
         "line": {
          "color": "red",
          "width": 2
         },
         "marker": {
          "color": "red",
          "size": 2.4000000000000004
         },
         "type": "scatter3d",
         "x": [
          -1103.184814453125,
          -1183.6953294704383
         ],
         "y": [
          -998.6970825195312,
          -1179.8208825750569
         ],
         "z": [
          1372.0897216796875,
          1398.777284796108
         ]
        },
        {
         "legendgroup": "16",
         "legendgrouptitle": {
          "text": "--16--"
         },
         "line": {
          "color": "green",
          "width": 2
         },
         "marker": {
          "color": "green",
          "size": 2.4000000000000004
         },
         "type": "scatter3d",
         "x": [
          -1103.184814453125,
          -920.1387607363027
         ],
         "y": [
          -998.6970825195312,
          -1078.889316626704
         ],
         "z": [
          1372.0897216796875,
          1380.0488552756665
         ]
        },
        {
         "legendgroup": "16",
         "legendgrouptitle": {
          "text": "--16--"
         },
         "line": {
          "color": "blue",
          "width": 2
         },
         "marker": {
          "color": "blue",
          "size": 2.4000000000000004
         },
         "type": "scatter3d",
         "x": [
          -1103.184814453125,
          -1111.916649292233
         ],
         "y": [
          -998.6970825195312,
          -1067.770170728072
         ],
         "z": [
          1372.0897216796875,
          876.9607853957357
         ]
        },
        {
         "legendgroup": "17",
         "legendgrouptitle": {
          "text": "--17--"
         },
         "line": {
          "color": "red",
          "width": 2
         },
         "marker": {
          "color": "red",
          "size": 2.5
         },
         "type": "scatter3d",
         "x": [
          -1341.1405029296875,
          -1469.3995561911593
         ],
         "y": [
          -908.4929809570312,
          -1059.4983369687511
         ],
         "z": [
          1558.0123291015625,
          1585.343587986668
         ]
        },
        {
         "legendgroup": "17",
         "legendgrouptitle": {
          "text": "--17--"
         },
         "line": {
          "color": "green",
          "width": 2
         },
         "marker": {
          "color": "green",
          "size": 2.5
         },
         "type": "scatter3d",
         "x": [
          -1341.1405029296875,
          -1187.8877298308676
         ],
         "y": [
          -908.4929809570312,
          -1036.3772984566601
         ],
         "z": [
          1558.0123291015625,
          1570.6293364795313
         ]
        },
        {
         "legendgroup": "17",
         "legendgrouptitle": {
          "text": "--17--"
         },
         "line": {
          "color": "blue",
          "width": 2
         },
         "marker": {
          "color": "blue",
          "size": 2.5
         },
         "type": "scatter3d",
         "x": [
          -1341.1405029296875,
          -1361.0155491548712
         ],
         "y": [
          -908.4929809570312,
          -981.0784389284745
         ],
         "z": [
          1558.0123291015625,
          1063.708440963281
         ]
        },
        {
         "legendgroup": "18",
         "legendgrouptitle": {
          "text": "--18--"
         },
         "line": {
          "color": "red",
          "width": 2
         },
         "marker": {
          "color": "red",
          "size": 2.6
         },
         "type": "scatter3d",
         "x": [
          -1562.2841796875,
          -1730.0401100148895
         ],
         "y": [
          -741.5609130859375,
          -847.1486295548376
         ],
         "z": [
          1748.8438720703125,
          1775.4743427923106
         ]
        },
        {
         "legendgroup": "18",
         "legendgrouptitle": {
          "text": "--18--"
         },
         "line": {
          "color": "green",
          "width": 2
         },
         "marker": {
          "color": "green",
          "size": 2.6
         },
         "type": "scatter3d",
         "x": [
          -1562.2841796875,
          -1454.1671772586405
         ],
         "y": [
          -741.5609130859375,
          -908.8953157697902
         ],
         "z": [
          1748.8438720703125,
          1766.4481745056905
         ]
        },
        {
         "legendgroup": "18",
         "legendgrouptitle": {
          "text": "--18--"
         },
         "line": {
          "color": "blue",
          "width": 2
         },
         "marker": {
          "color": "blue",
          "size": 2.6
         },
         "type": "scatter3d",
         "x": [
          -1562.2841796875,
          -1594.751627403449
         ],
         "y": [
          -741.5609130859375,
          -814.4663230927314
         ],
         "z": [
          1748.8438720703125,
          1255.2542996211434
         ]
        },
        {
         "legendgroup": "19",
         "legendgrouptitle": {
          "text": "--19--"
         },
         "line": {
          "color": "red",
          "width": 2
         },
         "marker": {
          "color": "red",
          "size": 2.7
         },
         "type": "scatter3d",
         "x": [
          -1737.47900390625,
          -1930.384266911241
         ],
         "y": [
          -496.51739501953125,
          -543.3613042806292
         ],
         "z": [
          1942.639892578125,
          1966.995747523359
         ]
        },
        {
         "legendgroup": "19",
         "legendgrouptitle": {
          "text": "--19--"
         },
         "line": {
          "color": "green",
          "width": 2
         },
         "marker": {
          "color": "green",
          "size": 2.7
         },
         "type": "scatter3d",
         "x": [
          -1737.47900390625,
          -1687.9116488048176
         ],
         "y": [
          -496.51739501953125,
          -688.9749254747801
         ],
         "z": [
          1942.639892578125,
          1965.0714836789691
         ]
        },
        {
         "legendgroup": "19",
         "legendgrouptitle": {
          "text": "--19--"
         },
         "line": {
          "color": "blue",
          "width": 2
         },
         "marker": {
          "color": "blue",
          "size": 2.7
         },
         "type": "scatter3d",
         "x": [
          -1737.47900390625,
          -1782.93755736595
         ],
         "y": [
          -496.51739501953125,
          -565.6977361670079
         ],
         "z": [
          1942.639892578125,
          1449.5399023975629
         ]
        },
        {
         "legendgroup": "20",
         "legendgrouptitle": {
          "text": "--20--"
         },
         "line": {
          "color": "red",
          "width": 2
         },
         "marker": {
          "color": "red",
          "size": 2.8
         },
         "type": "scatter3d",
         "x": [
          -1834.5010986328125,
          -2032.3857725595842
         ],
         "y": [
          -185.64341735839844,
          -165.07745243105978
         ],
         "z": [
          2138.37353515625,
          2158.8356198863726
         ]
        },
        {
         "legendgroup": "20",
         "legendgrouptitle": {
          "text": "--20--"
         },
         "line": {
          "color": "green",
          "width": 2
         },
         "marker": {
          "color": "green",
          "size": 2.8
         },
         "type": "scatter3d",
         "x": [
          -1834.5010986328125,
          -1852.281952497474
         ],
         "y": [
          -185.64341735839844,
          -383.08276994028574
         ],
         "z": [
          2138.37353515625,
          2164.860197609053
         ]
        },
        {
         "legendgroup": "20",
         "legendgrouptitle": {
          "text": "--20--"
         },
         "line": {
          "color": "blue",
          "width": 2
         },
         "marker": {
          "color": "blue",
          "size": 2.8
         },
         "type": "scatter3d",
         "x": [
          -1834.5010986328125,
          -1891.8104052907843
         ],
         "y": [
          -185.64341735839844,
          -246.61180766500866
         ],
         "z": [
          2138.37353515625,
          1645.4247561195195
         ]
        },
        {
         "legendgroup": "21",
         "legendgrouptitle": {
          "text": "--21--"
         },
         "line": {
          "color": "red",
          "width": 2
         },
         "marker": {
          "color": "red",
          "size": 2.9000000000000004
         },
         "type": "scatter3d",
         "x": [
          -1824.977783203125,
          -2003.378109775555
         ],
         "y": [
          163.2410888671875,
          252.3641729130686
         ],
         "z": [
          2336.2607421875,
          2351.4396541709452
         ]
        },
        {
         "legendgroup": "21",
         "legendgrouptitle": {
          "text": "--21--"
         },
         "line": {
          "color": "green",
          "width": 2
         },
         "marker": {
          "color": "green",
          "size": 2.9000000000000004
         },
         "type": "scatter3d",
         "x": [
          -1824.977783203125,
          -1911.416371478361
         ],
         "y": [
          163.2410888671875,
          -14.747003797461076
         ],
         "z": [
          2336.2607421875,
          2365.3916420463215
         ]
        },
        {
         "legendgroup": "21",
         "legendgrouptitle": {
          "text": "--21--"
         },
         "line": {
          "color": "blue",
          "width": 2
         },
         "marker": {
          "color": "blue",
          "size": 2.9000000000000004
         },
         "type": "scatter3d",
         "x": [
          -1824.977783203125,
          -1891.2015485669738
         ],
         "y": [
          163.2410888671875,
          114.6796098076941
         ],
         "z": [
          2336.2607421875,
          1843.0506493745202
         ]
        },
        {
         "legendgroup": "22",
         "legendgrouptitle": {
          "text": "--22--"
         },
         "line": {
          "color": "red",
          "width": 2
         },
         "marker": {
          "color": "red",
          "size": 3
         },
         "type": "scatter3d",
         "x": [
          -1691.7554931640625,
          -1824.9423577322889
         ],
         "y": [
          508.6513977050781,
          657.5783676130952
         ],
         "z": [
          2537.905517578125,
          2546.961827008655
         ]
        },
        {
         "legendgroup": "22",
         "legendgrouptitle": {
          "text": "--22--"
         },
         "line": {
          "color": "green",
          "width": 2
         },
         "marker": {
          "color": "green",
          "size": 3
         },
         "type": "scatter3d",
         "x": [
          -1691.7554931640625,
          -1838.2720735437974
         ],
         "y": [
          508.6513977050781,
          375.81003540190864
         ],
         "z": [
          2537.905517578125,
          2567.672347024117
         ]
        },
        {
         "legendgroup": "22",
         "legendgrouptitle": {
          "text": "--22--"
         },
         "line": {
          "color": "blue",
          "width": 2
         },
         "marker": {
          "color": "blue",
          "size": 3
         },
         "type": "scatter3d",
         "x": [
          -1691.7554931640625,
          -1762.2071956059485
         ],
         "y": [
          508.6513977050781,
          475.6807577872432
         ],
         "z": [
          2537.905517578125,
          2043.993081486009
         ]
        }
       ],
       "layout": {
        "scene": {
         "aspectmode": "data",
         "aspectratio": {
          "x": 1,
          "y": 1,
          "z": 1
         }
        },
        "template": {
         "data": {
          "bar": [
           {
            "error_x": {
             "color": "#2a3f5f"
            },
            "error_y": {
             "color": "#2a3f5f"
            },
            "marker": {
             "line": {
              "color": "#E5ECF6",
              "width": 0.5
             },
             "pattern": {
              "fillmode": "overlay",
              "size": 10,
              "solidity": 0.2
             }
            },
            "type": "bar"
           }
          ],
          "barpolar": [
           {
            "marker": {
             "line": {
              "color": "#E5ECF6",
              "width": 0.5
             },
             "pattern": {
              "fillmode": "overlay",
              "size": 10,
              "solidity": 0.2
             }
            },
            "type": "barpolar"
           }
          ],
          "carpet": [
           {
            "aaxis": {
             "endlinecolor": "#2a3f5f",
             "gridcolor": "white",
             "linecolor": "white",
             "minorgridcolor": "white",
             "startlinecolor": "#2a3f5f"
            },
            "baxis": {
             "endlinecolor": "#2a3f5f",
             "gridcolor": "white",
             "linecolor": "white",
             "minorgridcolor": "white",
             "startlinecolor": "#2a3f5f"
            },
            "type": "carpet"
           }
          ],
          "choropleth": [
           {
            "colorbar": {
             "outlinewidth": 0,
             "ticks": ""
            },
            "type": "choropleth"
           }
          ],
          "contour": [
           {
            "colorbar": {
             "outlinewidth": 0,
             "ticks": ""
            },
            "colorscale": [
             [
              0,
              "#0d0887"
             ],
             [
              0.1111111111111111,
              "#46039f"
             ],
             [
              0.2222222222222222,
              "#7201a8"
             ],
             [
              0.3333333333333333,
              "#9c179e"
             ],
             [
              0.4444444444444444,
              "#bd3786"
             ],
             [
              0.5555555555555556,
              "#d8576b"
             ],
             [
              0.6666666666666666,
              "#ed7953"
             ],
             [
              0.7777777777777778,
              "#fb9f3a"
             ],
             [
              0.8888888888888888,
              "#fdca26"
             ],
             [
              1,
              "#f0f921"
             ]
            ],
            "type": "contour"
           }
          ],
          "contourcarpet": [
           {
            "colorbar": {
             "outlinewidth": 0,
             "ticks": ""
            },
            "type": "contourcarpet"
           }
          ],
          "heatmap": [
           {
            "colorbar": {
             "outlinewidth": 0,
             "ticks": ""
            },
            "colorscale": [
             [
              0,
              "#0d0887"
             ],
             [
              0.1111111111111111,
              "#46039f"
             ],
             [
              0.2222222222222222,
              "#7201a8"
             ],
             [
              0.3333333333333333,
              "#9c179e"
             ],
             [
              0.4444444444444444,
              "#bd3786"
             ],
             [
              0.5555555555555556,
              "#d8576b"
             ],
             [
              0.6666666666666666,
              "#ed7953"
             ],
             [
              0.7777777777777778,
              "#fb9f3a"
             ],
             [
              0.8888888888888888,
              "#fdca26"
             ],
             [
              1,
              "#f0f921"
             ]
            ],
            "type": "heatmap"
           }
          ],
          "heatmapgl": [
           {
            "colorbar": {
             "outlinewidth": 0,
             "ticks": ""
            },
            "colorscale": [
             [
              0,
              "#0d0887"
             ],
             [
              0.1111111111111111,
              "#46039f"
             ],
             [
              0.2222222222222222,
              "#7201a8"
             ],
             [
              0.3333333333333333,
              "#9c179e"
             ],
             [
              0.4444444444444444,
              "#bd3786"
             ],
             [
              0.5555555555555556,
              "#d8576b"
             ],
             [
              0.6666666666666666,
              "#ed7953"
             ],
             [
              0.7777777777777778,
              "#fb9f3a"
             ],
             [
              0.8888888888888888,
              "#fdca26"
             ],
             [
              1,
              "#f0f921"
             ]
            ],
            "type": "heatmapgl"
           }
          ],
          "histogram": [
           {
            "marker": {
             "pattern": {
              "fillmode": "overlay",
              "size": 10,
              "solidity": 0.2
             }
            },
            "type": "histogram"
           }
          ],
          "histogram2d": [
           {
            "colorbar": {
             "outlinewidth": 0,
             "ticks": ""
            },
            "colorscale": [
             [
              0,
              "#0d0887"
             ],
             [
              0.1111111111111111,
              "#46039f"
             ],
             [
              0.2222222222222222,
              "#7201a8"
             ],
             [
              0.3333333333333333,
              "#9c179e"
             ],
             [
              0.4444444444444444,
              "#bd3786"
             ],
             [
              0.5555555555555556,
              "#d8576b"
             ],
             [
              0.6666666666666666,
              "#ed7953"
             ],
             [
              0.7777777777777778,
              "#fb9f3a"
             ],
             [
              0.8888888888888888,
              "#fdca26"
             ],
             [
              1,
              "#f0f921"
             ]
            ],
            "type": "histogram2d"
           }
          ],
          "histogram2dcontour": [
           {
            "colorbar": {
             "outlinewidth": 0,
             "ticks": ""
            },
            "colorscale": [
             [
              0,
              "#0d0887"
             ],
             [
              0.1111111111111111,
              "#46039f"
             ],
             [
              0.2222222222222222,
              "#7201a8"
             ],
             [
              0.3333333333333333,
              "#9c179e"
             ],
             [
              0.4444444444444444,
              "#bd3786"
             ],
             [
              0.5555555555555556,
              "#d8576b"
             ],
             [
              0.6666666666666666,
              "#ed7953"
             ],
             [
              0.7777777777777778,
              "#fb9f3a"
             ],
             [
              0.8888888888888888,
              "#fdca26"
             ],
             [
              1,
              "#f0f921"
             ]
            ],
            "type": "histogram2dcontour"
           }
          ],
          "mesh3d": [
           {
            "colorbar": {
             "outlinewidth": 0,
             "ticks": ""
            },
            "type": "mesh3d"
           }
          ],
          "parcoords": [
           {
            "line": {
             "colorbar": {
              "outlinewidth": 0,
              "ticks": ""
             }
            },
            "type": "parcoords"
           }
          ],
          "pie": [
           {
            "automargin": true,
            "type": "pie"
           }
          ],
          "scatter": [
           {
            "marker": {
             "colorbar": {
              "outlinewidth": 0,
              "ticks": ""
             }
            },
            "type": "scatter"
           }
          ],
          "scatter3d": [
           {
            "line": {
             "colorbar": {
              "outlinewidth": 0,
              "ticks": ""
             }
            },
            "marker": {
             "colorbar": {
              "outlinewidth": 0,
              "ticks": ""
             }
            },
            "type": "scatter3d"
           }
          ],
          "scattercarpet": [
           {
            "marker": {
             "colorbar": {
              "outlinewidth": 0,
              "ticks": ""
             }
            },
            "type": "scattercarpet"
           }
          ],
          "scattergeo": [
           {
            "marker": {
             "colorbar": {
              "outlinewidth": 0,
              "ticks": ""
             }
            },
            "type": "scattergeo"
           }
          ],
          "scattergl": [
           {
            "marker": {
             "colorbar": {
              "outlinewidth": 0,
              "ticks": ""
             }
            },
            "type": "scattergl"
           }
          ],
          "scattermapbox": [
           {
            "marker": {
             "colorbar": {
              "outlinewidth": 0,
              "ticks": ""
             }
            },
            "type": "scattermapbox"
           }
          ],
          "scatterpolar": [
           {
            "marker": {
             "colorbar": {
              "outlinewidth": 0,
              "ticks": ""
             }
            },
            "type": "scatterpolar"
           }
          ],
          "scatterpolargl": [
           {
            "marker": {
             "colorbar": {
              "outlinewidth": 0,
              "ticks": ""
             }
            },
            "type": "scatterpolargl"
           }
          ],
          "scatterternary": [
           {
            "marker": {
             "colorbar": {
              "outlinewidth": 0,
              "ticks": ""
             }
            },
            "type": "scatterternary"
           }
          ],
          "surface": [
           {
            "colorbar": {
             "outlinewidth": 0,
             "ticks": ""
            },
            "colorscale": [
             [
              0,
              "#0d0887"
             ],
             [
              0.1111111111111111,
              "#46039f"
             ],
             [
              0.2222222222222222,
              "#7201a8"
             ],
             [
              0.3333333333333333,
              "#9c179e"
             ],
             [
              0.4444444444444444,
              "#bd3786"
             ],
             [
              0.5555555555555556,
              "#d8576b"
             ],
             [
              0.6666666666666666,
              "#ed7953"
             ],
             [
              0.7777777777777778,
              "#fb9f3a"
             ],
             [
              0.8888888888888888,
              "#fdca26"
             ],
             [
              1,
              "#f0f921"
             ]
            ],
            "type": "surface"
           }
          ],
          "table": [
           {
            "cells": {
             "fill": {
              "color": "#EBF0F8"
             },
             "line": {
              "color": "white"
             }
            },
            "header": {
             "fill": {
              "color": "#C8D4E3"
             },
             "line": {
              "color": "white"
             }
            },
            "type": "table"
           }
          ]
         },
         "layout": {
          "annotationdefaults": {
           "arrowcolor": "#2a3f5f",
           "arrowhead": 0,
           "arrowwidth": 1
          },
          "autotypenumbers": "strict",
          "coloraxis": {
           "colorbar": {
            "outlinewidth": 0,
            "ticks": ""
           }
          },
          "colorscale": {
           "diverging": [
            [
             0,
             "#8e0152"
            ],
            [
             0.1,
             "#c51b7d"
            ],
            [
             0.2,
             "#de77ae"
            ],
            [
             0.3,
             "#f1b6da"
            ],
            [
             0.4,
             "#fde0ef"
            ],
            [
             0.5,
             "#f7f7f7"
            ],
            [
             0.6,
             "#e6f5d0"
            ],
            [
             0.7,
             "#b8e186"
            ],
            [
             0.8,
             "#7fbc41"
            ],
            [
             0.9,
             "#4d9221"
            ],
            [
             1,
             "#276419"
            ]
           ],
           "sequential": [
            [
             0,
             "#0d0887"
            ],
            [
             0.1111111111111111,
             "#46039f"
            ],
            [
             0.2222222222222222,
             "#7201a8"
            ],
            [
             0.3333333333333333,
             "#9c179e"
            ],
            [
             0.4444444444444444,
             "#bd3786"
            ],
            [
             0.5555555555555556,
             "#d8576b"
            ],
            [
             0.6666666666666666,
             "#ed7953"
            ],
            [
             0.7777777777777778,
             "#fb9f3a"
            ],
            [
             0.8888888888888888,
             "#fdca26"
            ],
            [
             1,
             "#f0f921"
            ]
           ],
           "sequentialminus": [
            [
             0,
             "#0d0887"
            ],
            [
             0.1111111111111111,
             "#46039f"
            ],
            [
             0.2222222222222222,
             "#7201a8"
            ],
            [
             0.3333333333333333,
             "#9c179e"
            ],
            [
             0.4444444444444444,
             "#bd3786"
            ],
            [
             0.5555555555555556,
             "#d8576b"
            ],
            [
             0.6666666666666666,
             "#ed7953"
            ],
            [
             0.7777777777777778,
             "#fb9f3a"
            ],
            [
             0.8888888888888888,
             "#fdca26"
            ],
            [
             1,
             "#f0f921"
            ]
           ]
          },
          "colorway": [
           "#636efa",
           "#EF553B",
           "#00cc96",
           "#ab63fa",
           "#FFA15A",
           "#19d3f3",
           "#FF6692",
           "#B6E880",
           "#FF97FF",
           "#FECB52"
          ],
          "font": {
           "color": "#2a3f5f"
          },
          "geo": {
           "bgcolor": "white",
           "lakecolor": "white",
           "landcolor": "#E5ECF6",
           "showlakes": true,
           "showland": true,
           "subunitcolor": "white"
          },
          "hoverlabel": {
           "align": "left"
          },
          "hovermode": "closest",
          "mapbox": {
           "style": "light"
          },
          "paper_bgcolor": "white",
          "plot_bgcolor": "#E5ECF6",
          "polar": {
           "angularaxis": {
            "gridcolor": "white",
            "linecolor": "white",
            "ticks": ""
           },
           "bgcolor": "#E5ECF6",
           "radialaxis": {
            "gridcolor": "white",
            "linecolor": "white",
            "ticks": ""
           }
          },
          "scene": {
           "xaxis": {
            "backgroundcolor": "#E5ECF6",
            "gridcolor": "white",
            "gridwidth": 2,
            "linecolor": "white",
            "showbackground": true,
            "ticks": "",
            "zerolinecolor": "white"
           },
           "yaxis": {
            "backgroundcolor": "#E5ECF6",
            "gridcolor": "white",
            "gridwidth": 2,
            "linecolor": "white",
            "showbackground": true,
            "ticks": "",
            "zerolinecolor": "white"
           },
           "zaxis": {
            "backgroundcolor": "#E5ECF6",
            "gridcolor": "white",
            "gridwidth": 2,
            "linecolor": "white",
            "showbackground": true,
            "ticks": "",
            "zerolinecolor": "white"
           }
          },
          "shapedefaults": {
           "line": {
            "color": "#2a3f5f"
           }
          },
          "ternary": {
           "aaxis": {
            "gridcolor": "white",
            "linecolor": "white",
            "ticks": ""
           },
           "baxis": {
            "gridcolor": "white",
            "linecolor": "white",
            "ticks": ""
           },
           "bgcolor": "#E5ECF6",
           "caxis": {
            "gridcolor": "white",
            "linecolor": "white",
            "ticks": ""
           }
          },
          "title": {
           "x": 0.05
          },
          "xaxis": {
           "automargin": true,
           "gridcolor": "white",
           "linecolor": "white",
           "ticks": "",
           "title": {
            "standoff": 15
           },
           "zerolinecolor": "white",
           "zerolinewidth": 2
          },
          "yaxis": {
           "automargin": true,
           "gridcolor": "white",
           "linecolor": "white",
           "ticks": "",
           "title": {
            "standoff": 15
           },
           "zerolinecolor": "white",
           "zerolinewidth": 2
          }
         }
        },
        "title": {
         "text": "2-FLW"
        }
       }
      },
      "text/html": [
       "<div>                            <div id=\"4b6c881d-f94a-4c26-bb96-f02ea397fefe\" class=\"plotly-graph-div\" style=\"height:525px; width:100%;\"></div>            <script type=\"text/javascript\">                require([\"plotly\"], function(Plotly) {                    window.PLOTLYENV=window.PLOTLYENV || {};                                    if (document.getElementById(\"4b6c881d-f94a-4c26-bb96-f02ea397fefe\")) {                    Plotly.newPlot(                        \"4b6c881d-f94a-4c26-bb96-f02ea397fefe\",                        [{\"legendgroup\":\"0\",\"legendgrouptitle\":{\"text\":\"origins\"},\"line\":{\"color\":\"black\",\"width\":2},\"marker\":{\"color\":\"black\",\"size\":1},\"type\":\"scatter3d\",\"x\":[0.0,3.9547579288482666,9.541864395141602,14.497509002685547,15.158663749694824,6.761141777038574,-15.366029739379883,-55.48552322387695,-117.5774917602539,-205.29525756835938,-322.72808837890625,-473.4711608886719,-657.3391723632812,-870.2645263671875,-1103.184814453125,-1341.1405029296875,-1562.2841796875,-1737.47900390625,-1834.5010986328125,-1824.977783203125,-1691.7554931640625],\"y\":[0.0,-16.99209976196289,-50.92808151245117,-102.00221252441406,-170.37294006347656,-254.93939208984375,-353.0709533691406,-462.6669921875,-580.0301513671875,-699.630126953125,-814.619384765625,-915.1022338867188,-988.4275512695312,-1021.0510864257812,-998.6970825195312,-908.4929809570312,-741.5609130859375,-496.51739501953125,-185.64341735839844,163.2410888671875,508.6513977050781],\"z\":[0.0,11.84561538696289,35.80522537231445,72.28529357910156,121.73267364501953,184.5962677001953,261.6468505859375,353.2771301269531,459.3203430175781,579.7947387695312,714.5807495117188,862.69482421875,1022.7303466796875,1193.082763671875,1372.0897216796875,1558.0123291015625,1748.8438720703125,1942.639892578125,2138.37353515625,2336.2607421875,2537.905517578125]},{\"legendgroup\":\"1\",\"legendgrouptitle\":{\"text\":\"finish\"},\"line\":{\"color\":\"black\",\"width\":2},\"marker\":{\"color\":\"black\",\"size\":1},\"type\":\"scatter3d\",\"x\":[0.0,-5.5949382828789265,-19.021611506848203,-42.43616813553747,-79.28673657257829,-133.82284651278945,-209.58728877619143,-309.0136613943017,-433.3230307964497,-582.1843772994255,-754.5699043228194,-947.9364890795775,-1155.0767270656177,-1364.593813091164,-1560.7999487451807,-1724.2724356767376,-1832.5766857596484,-1861.3973916598313,-1790.0489639711586,-1608.8813125150348,-1325.4640422147254],\"y\":[-500.0,-516.9005438085287,-550.1087641551487,-598.7406228416983,-661.3485455006282,-734.7224218353108,-813.7314416115416,-893.5142772770735,-967.5839222368929,-1028.0477381069281,-1066.516813143382,-1072.7955179083087,-1035.9008871313192,-946.6136503473117,-798.2164972515998,-588.7821872079593,-323.2249063763058,-15.373568881409199,307.9549640963199,608.211320528809,840.754803463002],\"z\":[0.0,12.437960898697018,37.47073453378859,75.36881802007511,126.53071737012945,191.25859498020174,270.01447333248564,362.97765005022393,469.65616729114436,589.6163533196682,722.3480900434673,866.6293533115872,1020.8306043043566,1183.2022577623366,1352.19188768974,1526.4698106566404,1704.8331159818674,1886.5609148260148,2072.156879024242,2263.433492540446,2463.488443963146]},{\"legendgroup\":\"2\",\"legendgrouptitle\":{\"text\":\"--2--\"},\"line\":{\"color\":\"red\",\"width\":2},\"marker\":{\"color\":\"red\",\"size\":1.0},\"type\":\"scatter3d\",\"x\":[0.0,200.0],\"y\":[0.0,0.0],\"z\":[0.0,0.0]},{\"legendgroup\":\"2\",\"legendgrouptitle\":{\"text\":\"--2--\"},\"line\":{\"color\":\"green\",\"width\":2},\"marker\":{\"color\":\"green\",\"size\":1.0},\"type\":\"scatter3d\",\"x\":[0.0,0.0],\"y\":[0.0,200.0],\"z\":[0.0,0.0]},{\"legendgroup\":\"2\",\"legendgrouptitle\":{\"text\":\"--2--\"},\"line\":{\"color\":\"blue\",\"width\":2},\"marker\":{\"color\":\"blue\",\"size\":1.0},\"type\":\"scatter3d\",\"x\":[0.0,0.0],\"y\":[0.0,0.0],\"z\":[0.0,-500.0]},{\"legendgroup\":\"3\",\"legendgrouptitle\":{\"text\":\"--3--\"},\"line\":{\"color\":\"red\",\"width\":2},\"marker\":{\"color\":\"red\",\"size\":1.1},\"type\":\"scatter3d\",\"x\":[3.9547579288482666,203.9181233305488],\"y\":[-16.99209976196289,-20.81167988488894],\"z\":[11.84561538696289,12.09722005811672]},{\"legendgroup\":\"3\",\"legendgrouptitle\":{\"text\":\"--3--\"},\"line\":{\"color\":\"green\",\"width\":2},\"marker\":{\"color\":\"green\",\"size\":1.1},\"type\":\"scatter3d\",\"x\":[3.9547579288482666,7.7746364135391435],\"y\":[-16.99209976196289,182.97127785666345],\"z\":[11.84561538696289,11.60867718226924]},{\"legendgroup\":\"3\",\"legendgrouptitle\":{\"text\":\"--3--\"},\"line\":{\"color\":\"blue\",\"width\":2},\"marker\":{\"color\":\"blue\",\"size\":1.1},\"type\":\"scatter3d\",\"x\":[3.9547579288482666,4.572341871492439],\"y\":[-16.99209976196289,-17.596350512872487],\"z\":[11.84561538696289,-488.15363808358364]},{\"legendgroup\":\"4\",\"legendgrouptitle\":{\"text\":\"--4--\"},\"line\":{\"color\":\"red\",\"width\":2},\"marker\":{\"color\":\"red\",\"size\":1.2},\"type\":\"scatter3d\",\"x\":[9.541864395141602,209.2138290535704],\"y\":[-50.92808151245117,-62.35081062406495],\"z\":[35.80522537231445,36.597556796564184]},{\"legendgroup\":\"4\",\"legendgrouptitle\":{\"text\":\"--4--\"},\"line\":{\"color\":\"green\",\"width\":2},\"marker\":{\"color\":\"green\",\"size\":1.2},\"type\":\"scatter3d\",\"x\":[9.541864395141602,20.967254755937525],\"y\":[-50.92808151245117,148.74419154462785],\"z\":[35.80522537231445,35.1390217077248]},{\"legendgroup\":\"4\",\"legendgrouptitle\":{\"text\":\"--4--\"},\"line\":{\"color\":\"blue\",\"width\":2},\"marker\":{\"color\":\"blue\",\"size\":1.2},\"type\":\"scatter3d\",\"x\":[9.541864395141602,11.424323801400655],\"y\":[-50.92808151245117,-52.70401764230667],\"z\":[35.80522537231445,-464.18807698027354]},{\"legendgroup\":\"5\",\"legendgrouptitle\":{\"text\":\"--5--\"},\"line\":{\"color\":\"red\",\"width\":2},\"marker\":{\"color\":\"red\",\"size\":1.3},\"type\":\"scatter3d\",\"x\":[14.497509002685547,213.19105221139299],\"y\":[-102.00221252441406,-124.76523568595982],\"z\":[72.28529357910156,73.93473703567842]},{\"legendgroup\":\"5\",\"legendgrouptitle\":{\"text\":\"--5--\"},\"line\":{\"color\":\"green\",\"width\":2},\"marker\":{\"color\":\"green\",\"size\":1.3},\"type\":\"scatter3d\",\"x\":[14.497509002685547,37.27097985797475],\"y\":[-102.00221252441406,96.6931516024996],\"z\":[72.28529357910156,71.05188380271214]},{\"legendgroup\":\"5\",\"legendgrouptitle\":{\"text\":\"--5--\"},\"line\":{\"color\":\"blue\",\"width\":2},\"marker\":{\"color\":\"blue\",\"size\":1.3},\"type\":\"scatter3d\",\"x\":[14.497509002685547,18.24326691398137],\"y\":[-102.00221252441406,-105.53513891422499],\"z\":[72.28529357910156,-427.6881934467548]},{\"legendgroup\":\"6\",\"legendgrouptitle\":{\"text\":\"--6--\"},\"line\":{\"color\":\"red\",\"width\":2},\"marker\":{\"color\":\"red\",\"size\":1.4},\"type\":\"scatter3d\",\"x\":[15.158663749694824,211.54316081649927],\"y\":[-170.37294006347656,-208.1221347482939],\"z\":[121.73267364501953,124.58357042779505]},{\"legendgroup\":\"6\",\"legendgrouptitle\":{\"text\":\"--6--\"},\"line\":{\"color\":\"green\",\"width\":2},\"marker\":{\"color\":\"green\",\"size\":1.4},\"type\":\"scatter3d\",\"x\":[15.158663749694824,52.936823878604066],\"y\":[-170.37294006347656,26.017302111384083],\"z\":[121.73267364501953,119.81345615497557]},{\"legendgroup\":\"6\",\"legendgrouptitle\":{\"text\":\"--6--\"},\"line\":{\"color\":\"blue\",\"width\":2},\"marker\":{\"color\":\"blue\",\"size\":1.4},\"type\":\"scatter3d\",\"x\":[15.158663749694824,21.25165618607782],\"y\":[-170.37294006347656,-176.43051752241138],\"z\":[121.73267364501953,-378.19350210345954]},{\"legendgroup\":\"7\",\"legendgrouptitle\":{\"text\":\"--7--\"},\"line\":{\"color\":\"red\",\"width\":2},\"marker\":{\"color\":\"red\",\"size\":1.5},\"type\":\"scatter3d\",\"x\":[6.761141777038574,198.66160664150257],\"y\":[-254.93939208984375,-311.10830350274546],\"z\":[184.5962677001953,188.985456177833]},{\"legendgroup\":\"7\",\"legendgrouptitle\":{\"text\":\"--7--\"},\"line\":{\"color\":\"green\",\"width\":2},\"marker\":{\"color\":\"green\",\"size\":1.5},\"type\":\"scatter3d\",\"x\":[6.761141777038574,62.99473709296978],\"y\":[-254.93939208984375,-63.02618019165695],\"z\":[184.5962677001953,181.93133678819274]},{\"legendgroup\":\"7\",\"legendgrouptitle\":{\"text\":\"--7--\"},\"line\":{\"color\":\"blue\",\"width\":2},\"marker\":{\"color\":\"blue\",\"size\":1.5},\"type\":\"scatter3d\",\"x\":[6.761141777038574,15.419354152690866],\"y\":[-254.93939208984375,-264.41715870811623],\"z\":[184.5962677001953,-315.2389124326038]},{\"legendgroup\":\"8\",\"legendgrouptitle\":{\"text\":\"--8--\"},\"line\":{\"color\":\"red\",\"width\":2},\"marker\":{\"color\":\"red\",\"size\":1.6},\"type\":\"scatter3d\",\"x\":[-15.366029739379883,168.87422703632345],\"y\":[-353.0709533691406,-430.63554787636616],\"z\":[261.6468505859375,267.91274734159765]},{\"legendgroup\":\"8\",\"legendgrouptitle\":{\"text\":\"--8--\"},\"line\":{\"color\":\"green\",\"width\":2},\"marker\":{\"color\":\"green\",\"size\":1.6},\"type\":\"scatter3d\",\"x\":[-15.366029739379883,62.32247387534473],\"y\":[-353.0709533691406,-168.80675807218023],\"z\":[261.6468505859375,258.29980148731823]},{\"legendgroup\":\"8\",\"legendgrouptitle\":{\"text\":\"--8--\"},\"line\":{\"color\":\"blue\",\"width\":2},\"marker\":{\"color\":\"blue\",\"size\":1.6},\"type\":\"scatter3d\",\"x\":[-15.366029739379883,-4.178930772312633],\"y\":[-353.0709533691406,-366.8640699706668],\"z\":[261.6468505859375,-238.037648624432]},{\"legendgroup\":\"9\",\"legendgrouptitle\":{\"text\":\"--9--\"},\"line\":{\"color\":\"red\",\"width\":2},\"marker\":{\"color\":\"red\",\"size\":1.7000000000000002},\"type\":\"scatter3d\",\"x\":[-55.48552322387695,116.81406699705101],\"y\":[-462.6669921875,-563.8640538966439],\"z\":[353.2771301269531,361.7627598110731]},{\"legendgroup\":\"9\",\"legendgrouptitle\":{\"text\":\"--9--\"},\"line\":{\"color\":\"green\",\"width\":2},\"marker\":{\"color\":\"green\",\"size\":1.7000000000000002},\"type\":\"scatter3d\",\"x\":[-55.48552322387695,45.92573204429297],\"y\":[-462.6669921875,-290.32807815167064],\"z\":[353.2771301269531,349.3969221576448]},{\"legendgroup\":\"9\",\"legendgrouptitle\":{\"text\":\"--9--\"},\"line\":{\"color\":\"blue\",\"width\":2},\"marker\":{\"color\":\"blue\",\"size\":1.7000000000000002},\"type\":\"scatter3d\",\"x\":[-55.48552322387695,-42.11379123191405],\"y\":[-462.6669921875,-481.7806997011407],\"z\":[353.2771301269531,-146.1784364338954]},{\"legendgroup\":\"10\",\"legendgrouptitle\":{\"text\":\"--10--\"},\"line\":{\"color\":\"red\",\"width\":2},\"marker\":{\"color\":\"red\",\"size\":1.8},\"type\":\"scatter3d\",\"x\":[-117.5774917602539,37.38577918685837],\"y\":[-580.0301513671875,-705.9873532993248],\"z\":[459.3203430175781,470.3279739524638]},{\"legendgroup\":\"10\",\"legendgrouptitle\":{\"text\":\"--10--\"},\"line\":{\"color\":\"green\",\"width\":2},\"marker\":{\"color\":\"green\",\"size\":1.8},\"type\":\"scatter3d\",\"x\":[-117.5774917602539,8.720723854224403],\"y\":[-580.0301513671875,-425.0086430193053],\"z\":[459.3203430175781,455.18601330815164]},{\"legendgroup\":\"10\",\"legendgrouptitle\":{\"text\":\"--10--\"},\"line\":{\"color\":\"blue\",\"width\":2},\"marker\":{\"color\":\"blue\",\"size\":1.8},\"type\":\"scatter3d\",\"x\":[-117.5774917602539,-102.75660490027236],\"y\":[-580.0301513671875,-605.4165688692543],\"z\":[459.3203430175781,-39.81478008947636]},{\"legendgroup\":\"11\",\"legendgrouptitle\":{\"text\":\"--11--\"},\"line\":{\"color\":\"red\",\"width\":2},\"marker\":{\"color\":\"red\",\"size\":1.9},\"type\":\"scatter3d\",\"x\":[-205.29525756835938,-74.01181905663191],\"y\":[-699.630126953125,-849.8770362925716],\"z\":[579.7947387695312,593.5978183708962]},{\"legendgroup\":\"11\",\"legendgrouptitle\":{\"text\":\"--11--\"},\"line\":{\"color\":\"green\",\"width\":2},\"marker\":{\"color\":\"green\",\"size\":1.9},\"type\":\"scatter3d\",\"x\":[-205.29525756835938,-54.53960967593295],\"y\":[-699.630126953125,-568.2630824916038],\"z\":[579.7947387695312,575.8660929494765]},{\"legendgroup\":\"11\",\"legendgrouptitle\":{\"text\":\"--11--\"},\"line\":{\"color\":\"blue\",\"width\":2},\"marker\":{\"color\":\"blue\",\"size\":1.9},\"type\":\"scatter3d\",\"x\":[-205.29525756835938,-190.00772157653606],\"y\":[-699.630126953125,-732.0883562052004],\"z\":[579.7947387695312,81.0836454528511]},{\"legendgroup\":\"12\",\"legendgrouptitle\":{\"text\":\"--12--\"},\"line\":{\"color\":\"red\",\"width\":2},\"marker\":{\"color\":\"red\",\"size\":2.0},\"type\":\"scatter3d\",\"x\":[-322.72808837890625,-222.08720110334764],\"y\":[-814.619384765625,-986.6362032979074],\"z\":[714.5807495117188,731.362464275715]},{\"legendgroup\":\"12\",\"legendgrouptitle\":{\"text\":\"--12--\"},\"line\":{\"color\":\"green\",\"width\":2},\"marker\":{\"color\":\"green\",\"size\":2.0},\"type\":\"scatter3d\",\"x\":[-322.72808837890625,-149.991362001341],\"y\":[-814.619384765625,-713.8604134145221],\"z\":[714.5807495117188,711.4738132990193]},{\"legendgroup\":\"12\",\"legendgrouptitle\":{\"text\":\"--12--\"},\"line\":{\"color\":\"blue\",\"width\":2},\"marker\":{\"color\":\"blue\",\"size\":2.0},\"type\":\"scatter3d\",\"x\":[-322.72808837890625,-308.272300448449],\"y\":[-814.619384765625,-854.7631758717425],\"z\":[714.5807495117188,216.40456960049693]},{\"legendgroup\":\"13\",\"legendgrouptitle\":{\"text\":\"--13--\"},\"line\":{\"color\":\"red\",\"width\":2},\"marker\":{\"color\":\"red\",\"size\":2.1},\"type\":\"scatter3d\",\"x\":[-473.4711608886719,-410.55345463078186],\"y\":[-915.1022338867188,-1103.9146221834924],\"z\":[862.69482421875,882.4747196915347]},{\"legendgroup\":\"13\",\"legendgrouptitle\":{\"text\":\"--13--\"},\"line\":{\"color\":\"green\",\"width\":2},\"marker\":{\"color\":\"green\",\"size\":2.1},\"type\":\"scatter3d\",\"x\":[-473.4711608886719,-283.6850296123096],\"y\":[-915.1022338867188,-852.0249202780828],\"z\":[862.69482421875,861.1210125816151]},{\"legendgroup\":\"13\",\"legendgrouptitle\":{\"text\":\"--13--\"},\"line\":{\"color\":\"blue\",\"width\":2},\"marker\":{\"color\":\"blue\",\"size\":2.1},\"type\":\"scatter3d\",\"x\":[-473.4711608886719,-461.58981668934456],\"y\":[-915.1022338867188,-963.264364600733],\"z\":[862.69482421875,365.16166670550103]},{\"legendgroup\":\"14\",\"legendgrouptitle\":{\"text\":\"--14--\"},\"line\":{\"color\":\"red\",\"width\":2},\"marker\":{\"color\":\"red\",\"size\":2.2},\"type\":\"scatter3d\",\"x\":[-657.3391723632812,-638.556935987257],\"y\":[-988.4275512695312,-1186.2559663891273],\"z\":[1022.7303466796875,1045.3388797586808]},{\"legendgroup\":\"14\",\"legendgrouptitle\":{\"text\":\"--14--\"},\"line\":{\"color\":\"green\",\"width\":2},\"marker\":{\"color\":\"green\",\"size\":2.2},\"type\":\"scatter3d\",\"x\":[-657.3391723632812,-458.2441504823467],\"y\":[-988.4275512695312,-969.4382169248161],\"z\":[1022.7303466796875,1023.4902436298198]},{\"legendgroup\":\"14\",\"legendgrouptitle\":{\"text\":\"--14--\"},\"line\":{\"color\":\"blue\",\"width\":2},\"marker\":{\"color\":\"blue\",\"size\":2.2},\"type\":\"scatter3d\",\"x\":[-657.3391723632812,-650.093544826038],\"y\":[-988.4275512695312,-1044.5147240685212],\"z\":[1022.7303466796875,525.9389116397829]},{\"legendgroup\":\"15\",\"legendgrouptitle\":{\"text\":\"--15--\"},\"line\":{\"color\":\"red\",\"width\":2},\"marker\":{\"color\":\"red\",\"size\":2.3},\"type\":\"scatter3d\",\"x\":[-870.2645263671875,-900.3002665785699],\"y\":[-1021.0510864257812,-1217.1948431330559],\"z\":[1193.082763671875,1218.092382115822]},{\"legendgroup\":\"15\",\"legendgrouptitle\":{\"text\":\"--15--\"},\"line\":{\"color\":\"green\",\"width\":2},\"marker\":{\"color\":\"green\",\"size\":2.3},\"type\":\"scatter3d\",\"x\":[-870.2645263671875,-672.5328116775969],\"y\":[-1021.0510864257812,-1050.826060857169],\"z\":[1193.082763671875,1197.0349660356903]},{\"legendgroup\":\"15\",\"legendgrouptitle\":{\"text\":\"--15--\"},\"line\":{\"color\":\"blue\",\"width\":2},\"marker\":{\"color\":\"blue\",\"size\":2.3},\"type\":\"scatter3d\",\"x\":[-870.2645263671875,-869.8827880022021],\"y\":[-1021.0510864257812,-1084.3498622022362],\"z\":[1193.082763671875,697.1058294692623]},{\"legendgroup\":\"16\",\"legendgrouptitle\":{\"text\":\"--16--\"},\"line\":{\"color\":\"red\",\"width\":2},\"marker\":{\"color\":\"red\",\"size\":2.4000000000000004},\"type\":\"scatter3d\",\"x\":[-1103.184814453125,-1183.6953294704383],\"y\":[-998.6970825195312,-1179.8208825750569],\"z\":[1372.0897216796875,1398.777284796108]},{\"legendgroup\":\"16\",\"legendgrouptitle\":{\"text\":\"--16--\"},\"line\":{\"color\":\"green\",\"width\":2},\"marker\":{\"color\":\"green\",\"size\":2.4000000000000004},\"type\":\"scatter3d\",\"x\":[-1103.184814453125,-920.1387607363027],\"y\":[-998.6970825195312,-1078.889316626704],\"z\":[1372.0897216796875,1380.0488552756665]},{\"legendgroup\":\"16\",\"legendgrouptitle\":{\"text\":\"--16--\"},\"line\":{\"color\":\"blue\",\"width\":2},\"marker\":{\"color\":\"blue\",\"size\":2.4000000000000004},\"type\":\"scatter3d\",\"x\":[-1103.184814453125,-1111.916649292233],\"y\":[-998.6970825195312,-1067.770170728072],\"z\":[1372.0897216796875,876.9607853957357]},{\"legendgroup\":\"17\",\"legendgrouptitle\":{\"text\":\"--17--\"},\"line\":{\"color\":\"red\",\"width\":2},\"marker\":{\"color\":\"red\",\"size\":2.5},\"type\":\"scatter3d\",\"x\":[-1341.1405029296875,-1469.3995561911593],\"y\":[-908.4929809570312,-1059.4983369687511],\"z\":[1558.0123291015625,1585.343587986668]},{\"legendgroup\":\"17\",\"legendgrouptitle\":{\"text\":\"--17--\"},\"line\":{\"color\":\"green\",\"width\":2},\"marker\":{\"color\":\"green\",\"size\":2.5},\"type\":\"scatter3d\",\"x\":[-1341.1405029296875,-1187.8877298308676],\"y\":[-908.4929809570312,-1036.3772984566601],\"z\":[1558.0123291015625,1570.6293364795313]},{\"legendgroup\":\"17\",\"legendgrouptitle\":{\"text\":\"--17--\"},\"line\":{\"color\":\"blue\",\"width\":2},\"marker\":{\"color\":\"blue\",\"size\":2.5},\"type\":\"scatter3d\",\"x\":[-1341.1405029296875,-1361.0155491548712],\"y\":[-908.4929809570312,-981.0784389284745],\"z\":[1558.0123291015625,1063.708440963281]},{\"legendgroup\":\"18\",\"legendgrouptitle\":{\"text\":\"--18--\"},\"line\":{\"color\":\"red\",\"width\":2},\"marker\":{\"color\":\"red\",\"size\":2.6},\"type\":\"scatter3d\",\"x\":[-1562.2841796875,-1730.0401100148895],\"y\":[-741.5609130859375,-847.1486295548376],\"z\":[1748.8438720703125,1775.4743427923106]},{\"legendgroup\":\"18\",\"legendgrouptitle\":{\"text\":\"--18--\"},\"line\":{\"color\":\"green\",\"width\":2},\"marker\":{\"color\":\"green\",\"size\":2.6},\"type\":\"scatter3d\",\"x\":[-1562.2841796875,-1454.1671772586405],\"y\":[-741.5609130859375,-908.8953157697902],\"z\":[1748.8438720703125,1766.4481745056905]},{\"legendgroup\":\"18\",\"legendgrouptitle\":{\"text\":\"--18--\"},\"line\":{\"color\":\"blue\",\"width\":2},\"marker\":{\"color\":\"blue\",\"size\":2.6},\"type\":\"scatter3d\",\"x\":[-1562.2841796875,-1594.751627403449],\"y\":[-741.5609130859375,-814.4663230927314],\"z\":[1748.8438720703125,1255.2542996211434]},{\"legendgroup\":\"19\",\"legendgrouptitle\":{\"text\":\"--19--\"},\"line\":{\"color\":\"red\",\"width\":2},\"marker\":{\"color\":\"red\",\"size\":2.7},\"type\":\"scatter3d\",\"x\":[-1737.47900390625,-1930.384266911241],\"y\":[-496.51739501953125,-543.3613042806292],\"z\":[1942.639892578125,1966.995747523359]},{\"legendgroup\":\"19\",\"legendgrouptitle\":{\"text\":\"--19--\"},\"line\":{\"color\":\"green\",\"width\":2},\"marker\":{\"color\":\"green\",\"size\":2.7},\"type\":\"scatter3d\",\"x\":[-1737.47900390625,-1687.9116488048176],\"y\":[-496.51739501953125,-688.9749254747801],\"z\":[1942.639892578125,1965.0714836789691]},{\"legendgroup\":\"19\",\"legendgrouptitle\":{\"text\":\"--19--\"},\"line\":{\"color\":\"blue\",\"width\":2},\"marker\":{\"color\":\"blue\",\"size\":2.7},\"type\":\"scatter3d\",\"x\":[-1737.47900390625,-1782.93755736595],\"y\":[-496.51739501953125,-565.6977361670079],\"z\":[1942.639892578125,1449.5399023975629]},{\"legendgroup\":\"20\",\"legendgrouptitle\":{\"text\":\"--20--\"},\"line\":{\"color\":\"red\",\"width\":2},\"marker\":{\"color\":\"red\",\"size\":2.8},\"type\":\"scatter3d\",\"x\":[-1834.5010986328125,-2032.3857725595842],\"y\":[-185.64341735839844,-165.07745243105978],\"z\":[2138.37353515625,2158.8356198863726]},{\"legendgroup\":\"20\",\"legendgrouptitle\":{\"text\":\"--20--\"},\"line\":{\"color\":\"green\",\"width\":2},\"marker\":{\"color\":\"green\",\"size\":2.8},\"type\":\"scatter3d\",\"x\":[-1834.5010986328125,-1852.281952497474],\"y\":[-185.64341735839844,-383.08276994028574],\"z\":[2138.37353515625,2164.860197609053]},{\"legendgroup\":\"20\",\"legendgrouptitle\":{\"text\":\"--20--\"},\"line\":{\"color\":\"blue\",\"width\":2},\"marker\":{\"color\":\"blue\",\"size\":2.8},\"type\":\"scatter3d\",\"x\":[-1834.5010986328125,-1891.8104052907843],\"y\":[-185.64341735839844,-246.61180766500866],\"z\":[2138.37353515625,1645.4247561195195]},{\"legendgroup\":\"21\",\"legendgrouptitle\":{\"text\":\"--21--\"},\"line\":{\"color\":\"red\",\"width\":2},\"marker\":{\"color\":\"red\",\"size\":2.9000000000000004},\"type\":\"scatter3d\",\"x\":[-1824.977783203125,-2003.378109775555],\"y\":[163.2410888671875,252.3641729130686],\"z\":[2336.2607421875,2351.4396541709452]},{\"legendgroup\":\"21\",\"legendgrouptitle\":{\"text\":\"--21--\"},\"line\":{\"color\":\"green\",\"width\":2},\"marker\":{\"color\":\"green\",\"size\":2.9000000000000004},\"type\":\"scatter3d\",\"x\":[-1824.977783203125,-1911.416371478361],\"y\":[163.2410888671875,-14.747003797461076],\"z\":[2336.2607421875,2365.3916420463215]},{\"legendgroup\":\"21\",\"legendgrouptitle\":{\"text\":\"--21--\"},\"line\":{\"color\":\"blue\",\"width\":2},\"marker\":{\"color\":\"blue\",\"size\":2.9000000000000004},\"type\":\"scatter3d\",\"x\":[-1824.977783203125,-1891.2015485669738],\"y\":[163.2410888671875,114.6796098076941],\"z\":[2336.2607421875,1843.0506493745202]},{\"legendgroup\":\"22\",\"legendgrouptitle\":{\"text\":\"--22--\"},\"line\":{\"color\":\"red\",\"width\":2},\"marker\":{\"color\":\"red\",\"size\":3.0},\"type\":\"scatter3d\",\"x\":[-1691.7554931640625,-1824.9423577322889],\"y\":[508.6513977050781,657.5783676130952],\"z\":[2537.905517578125,2546.961827008655]},{\"legendgroup\":\"22\",\"legendgrouptitle\":{\"text\":\"--22--\"},\"line\":{\"color\":\"green\",\"width\":2},\"marker\":{\"color\":\"green\",\"size\":3.0},\"type\":\"scatter3d\",\"x\":[-1691.7554931640625,-1838.2720735437974],\"y\":[508.6513977050781,375.81003540190864],\"z\":[2537.905517578125,2567.672347024117]},{\"legendgroup\":\"22\",\"legendgrouptitle\":{\"text\":\"--22--\"},\"line\":{\"color\":\"blue\",\"width\":2},\"marker\":{\"color\":\"blue\",\"size\":3.0},\"type\":\"scatter3d\",\"x\":[-1691.7554931640625,-1762.2071956059485],\"y\":[508.6513977050781,475.6807577872432],\"z\":[2537.905517578125,2043.993081486009]}],                        {\"scene\":{\"aspectmode\":\"data\",\"aspectratio\":{\"x\":1,\"y\":1,\"z\":1}},\"template\":{\"data\":{\"bar\":[{\"error_x\":{\"color\":\"#2a3f5f\"},\"error_y\":{\"color\":\"#2a3f5f\"},\"marker\":{\"line\":{\"color\":\"#E5ECF6\",\"width\":0.5},\"pattern\":{\"fillmode\":\"overlay\",\"size\":10,\"solidity\":0.2}},\"type\":\"bar\"}],\"barpolar\":[{\"marker\":{\"line\":{\"color\":\"#E5ECF6\",\"width\":0.5},\"pattern\":{\"fillmode\":\"overlay\",\"size\":10,\"solidity\":0.2}},\"type\":\"barpolar\"}],\"carpet\":[{\"aaxis\":{\"endlinecolor\":\"#2a3f5f\",\"gridcolor\":\"white\",\"linecolor\":\"white\",\"minorgridcolor\":\"white\",\"startlinecolor\":\"#2a3f5f\"},\"baxis\":{\"endlinecolor\":\"#2a3f5f\",\"gridcolor\":\"white\",\"linecolor\":\"white\",\"minorgridcolor\":\"white\",\"startlinecolor\":\"#2a3f5f\"},\"type\":\"carpet\"}],\"choropleth\":[{\"colorbar\":{\"outlinewidth\":0,\"ticks\":\"\"},\"type\":\"choropleth\"}],\"contour\":[{\"colorbar\":{\"outlinewidth\":0,\"ticks\":\"\"},\"colorscale\":[[0.0,\"#0d0887\"],[0.1111111111111111,\"#46039f\"],[0.2222222222222222,\"#7201a8\"],[0.3333333333333333,\"#9c179e\"],[0.4444444444444444,\"#bd3786\"],[0.5555555555555556,\"#d8576b\"],[0.6666666666666666,\"#ed7953\"],[0.7777777777777778,\"#fb9f3a\"],[0.8888888888888888,\"#fdca26\"],[1.0,\"#f0f921\"]],\"type\":\"contour\"}],\"contourcarpet\":[{\"colorbar\":{\"outlinewidth\":0,\"ticks\":\"\"},\"type\":\"contourcarpet\"}],\"heatmap\":[{\"colorbar\":{\"outlinewidth\":0,\"ticks\":\"\"},\"colorscale\":[[0.0,\"#0d0887\"],[0.1111111111111111,\"#46039f\"],[0.2222222222222222,\"#7201a8\"],[0.3333333333333333,\"#9c179e\"],[0.4444444444444444,\"#bd3786\"],[0.5555555555555556,\"#d8576b\"],[0.6666666666666666,\"#ed7953\"],[0.7777777777777778,\"#fb9f3a\"],[0.8888888888888888,\"#fdca26\"],[1.0,\"#f0f921\"]],\"type\":\"heatmap\"}],\"heatmapgl\":[{\"colorbar\":{\"outlinewidth\":0,\"ticks\":\"\"},\"colorscale\":[[0.0,\"#0d0887\"],[0.1111111111111111,\"#46039f\"],[0.2222222222222222,\"#7201a8\"],[0.3333333333333333,\"#9c179e\"],[0.4444444444444444,\"#bd3786\"],[0.5555555555555556,\"#d8576b\"],[0.6666666666666666,\"#ed7953\"],[0.7777777777777778,\"#fb9f3a\"],[0.8888888888888888,\"#fdca26\"],[1.0,\"#f0f921\"]],\"type\":\"heatmapgl\"}],\"histogram\":[{\"marker\":{\"pattern\":{\"fillmode\":\"overlay\",\"size\":10,\"solidity\":0.2}},\"type\":\"histogram\"}],\"histogram2d\":[{\"colorbar\":{\"outlinewidth\":0,\"ticks\":\"\"},\"colorscale\":[[0.0,\"#0d0887\"],[0.1111111111111111,\"#46039f\"],[0.2222222222222222,\"#7201a8\"],[0.3333333333333333,\"#9c179e\"],[0.4444444444444444,\"#bd3786\"],[0.5555555555555556,\"#d8576b\"],[0.6666666666666666,\"#ed7953\"],[0.7777777777777778,\"#fb9f3a\"],[0.8888888888888888,\"#fdca26\"],[1.0,\"#f0f921\"]],\"type\":\"histogram2d\"}],\"histogram2dcontour\":[{\"colorbar\":{\"outlinewidth\":0,\"ticks\":\"\"},\"colorscale\":[[0.0,\"#0d0887\"],[0.1111111111111111,\"#46039f\"],[0.2222222222222222,\"#7201a8\"],[0.3333333333333333,\"#9c179e\"],[0.4444444444444444,\"#bd3786\"],[0.5555555555555556,\"#d8576b\"],[0.6666666666666666,\"#ed7953\"],[0.7777777777777778,\"#fb9f3a\"],[0.8888888888888888,\"#fdca26\"],[1.0,\"#f0f921\"]],\"type\":\"histogram2dcontour\"}],\"mesh3d\":[{\"colorbar\":{\"outlinewidth\":0,\"ticks\":\"\"},\"type\":\"mesh3d\"}],\"parcoords\":[{\"line\":{\"colorbar\":{\"outlinewidth\":0,\"ticks\":\"\"}},\"type\":\"parcoords\"}],\"pie\":[{\"automargin\":true,\"type\":\"pie\"}],\"scatter\":[{\"marker\":{\"colorbar\":{\"outlinewidth\":0,\"ticks\":\"\"}},\"type\":\"scatter\"}],\"scatter3d\":[{\"line\":{\"colorbar\":{\"outlinewidth\":0,\"ticks\":\"\"}},\"marker\":{\"colorbar\":{\"outlinewidth\":0,\"ticks\":\"\"}},\"type\":\"scatter3d\"}],\"scattercarpet\":[{\"marker\":{\"colorbar\":{\"outlinewidth\":0,\"ticks\":\"\"}},\"type\":\"scattercarpet\"}],\"scattergeo\":[{\"marker\":{\"colorbar\":{\"outlinewidth\":0,\"ticks\":\"\"}},\"type\":\"scattergeo\"}],\"scattergl\":[{\"marker\":{\"colorbar\":{\"outlinewidth\":0,\"ticks\":\"\"}},\"type\":\"scattergl\"}],\"scattermapbox\":[{\"marker\":{\"colorbar\":{\"outlinewidth\":0,\"ticks\":\"\"}},\"type\":\"scattermapbox\"}],\"scatterpolar\":[{\"marker\":{\"colorbar\":{\"outlinewidth\":0,\"ticks\":\"\"}},\"type\":\"scatterpolar\"}],\"scatterpolargl\":[{\"marker\":{\"colorbar\":{\"outlinewidth\":0,\"ticks\":\"\"}},\"type\":\"scatterpolargl\"}],\"scatterternary\":[{\"marker\":{\"colorbar\":{\"outlinewidth\":0,\"ticks\":\"\"}},\"type\":\"scatterternary\"}],\"surface\":[{\"colorbar\":{\"outlinewidth\":0,\"ticks\":\"\"},\"colorscale\":[[0.0,\"#0d0887\"],[0.1111111111111111,\"#46039f\"],[0.2222222222222222,\"#7201a8\"],[0.3333333333333333,\"#9c179e\"],[0.4444444444444444,\"#bd3786\"],[0.5555555555555556,\"#d8576b\"],[0.6666666666666666,\"#ed7953\"],[0.7777777777777778,\"#fb9f3a\"],[0.8888888888888888,\"#fdca26\"],[1.0,\"#f0f921\"]],\"type\":\"surface\"}],\"table\":[{\"cells\":{\"fill\":{\"color\":\"#EBF0F8\"},\"line\":{\"color\":\"white\"}},\"header\":{\"fill\":{\"color\":\"#C8D4E3\"},\"line\":{\"color\":\"white\"}},\"type\":\"table\"}]},\"layout\":{\"annotationdefaults\":{\"arrowcolor\":\"#2a3f5f\",\"arrowhead\":0,\"arrowwidth\":1},\"autotypenumbers\":\"strict\",\"coloraxis\":{\"colorbar\":{\"outlinewidth\":0,\"ticks\":\"\"}},\"colorscale\":{\"diverging\":[[0,\"#8e0152\"],[0.1,\"#c51b7d\"],[0.2,\"#de77ae\"],[0.3,\"#f1b6da\"],[0.4,\"#fde0ef\"],[0.5,\"#f7f7f7\"],[0.6,\"#e6f5d0\"],[0.7,\"#b8e186\"],[0.8,\"#7fbc41\"],[0.9,\"#4d9221\"],[1,\"#276419\"]],\"sequential\":[[0.0,\"#0d0887\"],[0.1111111111111111,\"#46039f\"],[0.2222222222222222,\"#7201a8\"],[0.3333333333333333,\"#9c179e\"],[0.4444444444444444,\"#bd3786\"],[0.5555555555555556,\"#d8576b\"],[0.6666666666666666,\"#ed7953\"],[0.7777777777777778,\"#fb9f3a\"],[0.8888888888888888,\"#fdca26\"],[1.0,\"#f0f921\"]],\"sequentialminus\":[[0.0,\"#0d0887\"],[0.1111111111111111,\"#46039f\"],[0.2222222222222222,\"#7201a8\"],[0.3333333333333333,\"#9c179e\"],[0.4444444444444444,\"#bd3786\"],[0.5555555555555556,\"#d8576b\"],[0.6666666666666666,\"#ed7953\"],[0.7777777777777778,\"#fb9f3a\"],[0.8888888888888888,\"#fdca26\"],[1.0,\"#f0f921\"]]},\"colorway\":[\"#636efa\",\"#EF553B\",\"#00cc96\",\"#ab63fa\",\"#FFA15A\",\"#19d3f3\",\"#FF6692\",\"#B6E880\",\"#FF97FF\",\"#FECB52\"],\"font\":{\"color\":\"#2a3f5f\"},\"geo\":{\"bgcolor\":\"white\",\"lakecolor\":\"white\",\"landcolor\":\"#E5ECF6\",\"showlakes\":true,\"showland\":true,\"subunitcolor\":\"white\"},\"hoverlabel\":{\"align\":\"left\"},\"hovermode\":\"closest\",\"mapbox\":{\"style\":\"light\"},\"paper_bgcolor\":\"white\",\"plot_bgcolor\":\"#E5ECF6\",\"polar\":{\"angularaxis\":{\"gridcolor\":\"white\",\"linecolor\":\"white\",\"ticks\":\"\"},\"bgcolor\":\"#E5ECF6\",\"radialaxis\":{\"gridcolor\":\"white\",\"linecolor\":\"white\",\"ticks\":\"\"}},\"scene\":{\"xaxis\":{\"backgroundcolor\":\"#E5ECF6\",\"gridcolor\":\"white\",\"gridwidth\":2,\"linecolor\":\"white\",\"showbackground\":true,\"ticks\":\"\",\"zerolinecolor\":\"white\"},\"yaxis\":{\"backgroundcolor\":\"#E5ECF6\",\"gridcolor\":\"white\",\"gridwidth\":2,\"linecolor\":\"white\",\"showbackground\":true,\"ticks\":\"\",\"zerolinecolor\":\"white\"},\"zaxis\":{\"backgroundcolor\":\"#E5ECF6\",\"gridcolor\":\"white\",\"gridwidth\":2,\"linecolor\":\"white\",\"showbackground\":true,\"ticks\":\"\",\"zerolinecolor\":\"white\"}},\"shapedefaults\":{\"line\":{\"color\":\"#2a3f5f\"}},\"ternary\":{\"aaxis\":{\"gridcolor\":\"white\",\"linecolor\":\"white\",\"ticks\":\"\"},\"baxis\":{\"gridcolor\":\"white\",\"linecolor\":\"white\",\"ticks\":\"\"},\"bgcolor\":\"#E5ECF6\",\"caxis\":{\"gridcolor\":\"white\",\"linecolor\":\"white\",\"ticks\":\"\"}},\"title\":{\"x\":0.05},\"xaxis\":{\"automargin\":true,\"gridcolor\":\"white\",\"linecolor\":\"white\",\"ticks\":\"\",\"title\":{\"standoff\":15},\"zerolinecolor\":\"white\",\"zerolinewidth\":2},\"yaxis\":{\"automargin\":true,\"gridcolor\":\"white\",\"linecolor\":\"white\",\"ticks\":\"\",\"title\":{\"standoff\":15},\"zerolinecolor\":\"white\",\"zerolinewidth\":2}}},\"title\":{\"text\":\"2-FLW\"}},                        {\"responsive\": true}                    ).then(function(){\n",
       "                            \n",
       "var gd = document.getElementById('4b6c881d-f94a-4c26-bb96-f02ea397fefe');\n",
       "var x = new MutationObserver(function (mutations, observer) {{\n",
       "        var display = window.getComputedStyle(gd).display;\n",
       "        if (!display || display === 'none') {{\n",
       "            console.log([gd, 'removed!']);\n",
       "            Plotly.purge(gd);\n",
       "            observer.disconnect();\n",
       "        }}\n",
       "}});\n",
       "\n",
       "// Listen for the removal of the full notebook cells\n",
       "var notebookContainer = gd.closest('#notebook-container');\n",
       "if (notebookContainer) {{\n",
       "    x.observe(notebookContainer, {childList: true});\n",
       "}}\n",
       "\n",
       "// Listen for the clearing of the current output cell\n",
       "var outputEl = gd.closest('.output');\n",
       "if (outputEl) {{\n",
       "    x.observe(outputEl, {childList: true});\n",
       "}}\n",
       "\n",
       "                        })                };                });            </script>        </div>"
      ]
     },
     "metadata": {},
     "output_type": "display_data"
    },
    {
     "data": {
      "application/vnd.jupyter.widget-view+json": {
       "model_id": "dcfc1b2c61bc498bbe1b93cbc164d367",
       "version_major": 2,
       "version_minor": 0
      },
      "text/plain": [
       "0it [00:00, ?it/s]"
      ]
     },
     "metadata": {},
     "output_type": "display_data"
    },
    {
     "data": {
      "application/vnd.plotly.v1+json": {
       "config": {
        "plotlyServerURL": "https://plot.ly"
       },
       "data": [
        {
         "legendgroup": "0",
         "legendgrouptitle": {
          "text": "origins"
         },
         "line": {
          "color": "black",
          "width": 2
         },
         "marker": {
          "color": "black",
          "size": 1
         },
         "type": "scatter3d",
         "x": [
          0,
          -2.726853609085083,
          -8.218437194824219,
          -18.253360748291016,
          -35.5622673034668,
          -62.010658264160156,
          -99.03694152832031,
          -148.37481689453125,
          -212.47605895996094,
          -293.35321044921875,
          -392.849853515625,
          -510.4644470214844,
          -642.729736328125,
          -783.33056640625,
          -921.5733032226562,
          -1041.2528076171875,
          -1122.9451904296875,
          -1147.890625,
          -1101.6875,
          -977.6549682617188,
          -781.6732788085938
         ],
         "y": [
          0,
          -11.21274185180664,
          -33.91085433959961,
          -67.8279800415039,
          -112.20352172851562,
          -165.0926971435547,
          -224.15426635742188,
          -286.8277587890625,
          -349.2165832519531,
          -405.5284118652344,
          -448.6273193359375,
          -470.8990478515625,
          -464.45465087890625,
          -421.66357421875,
          -335.1495056152344,
          -200.63743591308594,
          -22.081636428833008,
          187.65234375,
          407.6188049316406,
          609.4679565429688,
          759.8521728515625
         ],
         "z": [
          0,
          9.700716972351074,
          29.011850357055664,
          57.76176452636719,
          95.7403793334961,
          142.66424560546875,
          198.26962280273438,
          262.4037170410156,
          335.01824951171875,
          415.81640625,
          503.98785400390625,
          598.6138305664062,
          698.658935546875,
          802.2815551757812,
          906.6137084960938,
          1008.657958984375,
          1106.36865234375,
          1199.000732421875,
          1287.827880859375,
          1376.267822265625,
          1469.7734375
         ]
        },
        {
         "legendgroup": "1",
         "legendgrouptitle": {
          "text": "finish"
         },
         "line": {
          "color": "black",
          "width": 2
         },
         "marker": {
          "color": "black",
          "size": 1
         },
         "type": "scatter3d",
         "x": [
          0,
          -12.626553053934522,
          -37.886044812348516,
          -77.43248230770199,
          -133.85801366160013,
          -208.5692534342605,
          -301.8076389593581,
          -413.14998501712546,
          -541.7707885637024,
          -685.0617283113347,
          -838.7932146847947,
          -995.1609034324051,
          -1142.650309493957,
          -1266.9604272960164,
          -1350.852094196424,
          -1374.9200556359253,
          -1321.925906638849,
          -1182.4058712828564,
          -959.4082119250861,
          -671.2674187477651,
          -353.6203214002009
         ],
         "y": [
          -500,
          -511.1132185779243,
          -533.0169241773553,
          -564.2649510810861,
          -602.3228614401269,
          -642.8827409014189,
          -680.7741050677945,
          -710.3598576466161,
          -724.701143474369,
          -715.4565753930633,
          -674.0940947051755,
          -593.4367866684443,
          -468.5535657200305,
          -298.033678868482,
          -84.58067794206846,
          162.3321810610601,
          422.4575897743735,
          666.2810699299478,
          859.0858221533792,
          965.8411332994893,
          957.9252929424467
         ],
         "z": [
          0,
          10.929260785964871,
          32.6124210565224,
          64.70189107431987,
          106.739428772051,
          158.06724101626324,
          217.82383358823728,
          285.0900914311072,
          359.02504208752276,
          438.3767805051345,
          521.2867508976676,
          605.9519303437412,
          690.7456920480644,
          773.6842365702349,
          852.4382323228709,
          925.4760814313653,
          993.2689134247607,
          1058.5612783877814,
          1126.7870893008321,
          1205.6078433856885,
          1303.8285528202039
         ]
        },
        {
         "legendgroup": "2",
         "legendgrouptitle": {
          "text": "--2--"
         },
         "line": {
          "color": "red",
          "width": 2
         },
         "marker": {
          "color": "red",
          "size": 1
         },
         "type": "scatter3d",
         "x": [
          0,
          200
         ],
         "y": [
          0,
          0
         ],
         "z": [
          0,
          0
         ]
        },
        {
         "legendgroup": "2",
         "legendgrouptitle": {
          "text": "--2--"
         },
         "line": {
          "color": "green",
          "width": 2
         },
         "marker": {
          "color": "green",
          "size": 1
         },
         "type": "scatter3d",
         "x": [
          0,
          0
         ],
         "y": [
          0,
          200
         ],
         "z": [
          0,
          0
         ]
        },
        {
         "legendgroup": "2",
         "legendgrouptitle": {
          "text": "--2--"
         },
         "line": {
          "color": "blue",
          "width": 2
         },
         "marker": {
          "color": "blue",
          "size": 1
         },
         "type": "scatter3d",
         "x": [
          0,
          0
         ],
         "y": [
          0,
          0
         ],
         "z": [
          0,
          -500
         ]
        },
        {
         "legendgroup": "3",
         "legendgrouptitle": {
          "text": "--3--"
         },
         "line": {
          "color": "red",
          "width": 2
         },
         "marker": {
          "color": "red",
          "size": 1.1
         },
         "type": "scatter3d",
         "x": [
          -2.726853609085083,
          197.23325776124176
         ],
         "y": [
          -11.21274185180664,
          -15.171311324895566
         ],
         "z": [
          9.700716972351074,
          10.233247246808675
         ]
        },
        {
         "legendgroup": "3",
         "legendgrouptitle": {
          "text": "--3--"
         },
         "line": {
          "color": "green",
          "width": 2
         },
         "marker": {
          "color": "green",
          "size": 1.1
         },
         "type": "scatter3d",
         "x": [
          -2.726853609085083,
          1.233026168854693
         ],
         "y": [
          -11.21274185180664,
          188.74744883864042
         ],
         "z": [
          9.700716972351074,
          9.209299446905556
         ]
        },
        {
         "legendgroup": "3",
         "legendgrouptitle": {
          "text": "--3--"
         },
         "line": {
          "color": "blue",
          "width": 2
         },
         "marker": {
          "color": "blue",
          "size": 1.1
         },
         "type": "scatter3d",
         "x": [
          -2.726853609085083,
          -1.4201092989074768
         ],
         "y": [
          -11.21274185180664,
          -12.467400089086413
         ],
         "z": [
          9.700716972351074,
          -490.29600126889443
         ]
        },
        {
         "legendgroup": "4",
         "legendgrouptitle": {
          "text": "--4--"
         },
         "line": {
          "color": "red",
          "width": 2
         },
         "marker": {
          "color": "red",
          "size": 1.2
         },
         "type": "scatter3d",
         "x": [
          -8.218437194824219,
          191.4231338703666
         ],
         "y": [
          -33.91085433959961,
          -45.765995356352285
         ],
         "z": [
          29.011850357055664,
          30.65463278186637
         ]
        },
        {
         "legendgroup": "4",
         "legendgrouptitle": {
          "text": "--4--"
         },
         "line": {
          "color": "green",
          "width": 2
         },
         "marker": {
          "color": "green",
          "size": 1.2
         },
         "type": "scatter3d",
         "x": [
          -8.218437194824219,
          3.6486058521855025
         ],
         "y": [
          -33.91085433959961,
          165.7315735955027
         ],
         "z": [
          29.011850357055664,
          27.57162207726897
         ]
        },
        {
         "legendgroup": "4",
         "legendgrouptitle": {
          "text": "--4--"
         },
         "line": {
          "color": "blue",
          "width": 2
         },
         "marker": {
          "color": "blue",
          "size": 1.2
         },
         "type": "scatter3d",
         "x": [
          -8.218437194824219,
          -4.332250163510002
         ],
         "y": [
          -33.91085433959961,
          -37.74865941736502
         ],
         "z": [
          29.011850357055664,
          -470.9583175555337
         ]
        },
        {
         "legendgroup": "5",
         "legendgrouptitle": {
          "text": "--5--"
         },
         "line": {
          "color": "red",
          "width": 2
         },
         "marker": {
          "color": "red",
          "size": 1.3
         },
         "type": "scatter3d",
         "x": [
          -18.253360748291016,
          180.31731220478994
         ],
         "y": [
          -67.8279800415039,
          -91.45148799027798
         ],
         "z": [
          57.76176452636719,
          61.17024148166149
         ]
        },
        {
         "legendgroup": "5",
         "legendgrouptitle": {
          "text": "--5--"
         },
         "line": {
          "color": "green",
          "width": 2
         },
         "marker": {
          "color": "green",
          "size": 1.3
         },
         "type": "scatter3d",
         "x": [
          -18.253360748291016,
          5.418287875473371
         ],
         "y": [
          -67.8279800415039,
          130.74680837432894
         ],
         "z": [
          57.76176452636719,
          54.98571390718611
         ]
        },
        {
         "legendgroup": "5",
         "legendgrouptitle": {
          "text": "--5--"
         },
         "line": {
          "color": "blue",
          "width": 2
         },
         "marker": {
          "color": "blue",
          "size": 1.3
         },
         "type": "scatter3d",
         "x": [
          -18.253360748291016,
          -10.61264154392369
         ],
         "y": [
          -67.8279800415039,
          -75.7270613968855
         ],
         "z": [
          57.76176452636719,
          -442.1174448070288
         ]
        },
        {
         "legendgroup": "6",
         "legendgrouptitle": {
          "text": "--6--"
         },
         "line": {
          "color": "red",
          "width": 2
         },
         "marker": {
          "color": "red",
          "size": 1.4
         },
         "type": "scatter3d",
         "x": [
          -35.5622673034668,
          160.4727346847658
         ],
         "y": [
          -112.20352172851562,
          -151.38656226516602
         ],
         "z": [
          95.7403793334961,
          101.65369733415008
         ]
        },
        {
         "legendgroup": "6",
         "legendgrouptitle": {
          "text": "--6--"
         },
         "line": {
          "color": "green",
          "width": 2
         },
         "marker": {
          "color": "green",
          "size": 1.4
         },
         "type": "scatter3d",
         "x": [
          -35.5622673034668,
          3.7560312397865374
         ],
         "y": [
          -112.20352172851562,
          83.84421415612888
         ],
         "z": [
          95.7403793334961,
          91.34075955807413
         ]
        },
        {
         "legendgroup": "6",
         "legendgrouptitle": {
          "text": "--6--"
         },
         "line": {
          "color": "blue",
          "width": 2
         },
         "marker": {
          "color": "blue",
          "size": 1.4
         },
         "type": "scatter3d",
         "x": [
          -35.5622673034668,
          -23.225990733617813
         ],
         "y": [
          -112.20352172851562,
          -125.89078515293087
         ],
         "z": [
          95.7403793334961,
          -403.9199804113439
         ]
        },
        {
         "legendgroup": "7",
         "legendgrouptitle": {
          "text": "--7--"
         },
         "line": {
          "color": "red",
          "width": 2
         },
         "marker": {
          "color": "red",
          "size": 1.5
         },
         "type": "scatter3d",
         "x": [
          -62.010658264160156,
          129.07539047919607
         ],
         "y": [
          -165.0926971435547,
          -223.40918212026114
         ],
         "z": [
          142.66424560546875,
          151.9005628159842
         ]
        },
        {
         "legendgroup": "7",
         "legendgrouptitle": {
          "text": "--7--"
         },
         "line": {
          "color": "green",
          "width": 2
         },
         "marker": {
          "color": "green",
          "size": 1.5
         },
         "type": "scatter3d",
         "x": [
          -62.010658264160156,
          -3.387220196120019
         ],
         "y": [
          -165.0926971435547,
          26.02332035959094
         ],
         "z": [
          142.66424560546875,
          136.50304744115095
         ]
        },
        {
         "legendgroup": "7",
         "legendgrouptitle": {
          "text": "--7--"
         },
         "line": {
          "color": "blue",
          "width": 2
         },
         "marker": {
          "color": "blue",
          "size": 1.5
         },
         "type": "scatter3d",
         "x": [
          -62.010658264160156,
          -44.43679899564111
         ],
         "y": [
          -165.0926971435547,
          -186.57749317745134
         ],
         "z": [
          142.66424560546875,
          -356.5647229147807
         ]
        },
        {
         "legendgroup": "8",
         "legendgrouptitle": {
          "text": "--8--"
         },
         "line": {
          "color": "red",
          "width": 2
         },
         "marker": {
          "color": "red",
          "size": 1.6
         },
         "type": "scatter3d",
         "x": [
          -99.03694152832031,
          83.55090202078804
         ],
         "y": [
          -224.15426635742188,
          -304.6606874514635
         ],
         "z": [
          198.26962280273438,
          211.70076388289496
         ]
        },
        {
         "legendgroup": "8",
         "legendgrouptitle": {
          "text": "--8--"
         },
         "line": {
          "color": "green",
          "width": 2
         },
         "marker": {
          "color": "green",
          "size": 1.6
         },
         "type": "scatter3d",
         "x": [
          -99.03694152832031,
          -17.92866255590519
         ],
         "y": [
          -224.15426635742188,
          -41.506330873272844
         ],
         "z": [
          198.26962280273438,
          190.44793848853323
         ]
        },
        {
         "legendgroup": "8",
         "legendgrouptitle": {
          "text": "--8--"
         },
         "line": {
          "color": "blue",
          "width": 2
         },
         "marker": {
          "color": "blue",
          "size": 1.6
         },
         "type": "scatter3d",
         "x": [
          -99.03694152832031,
          -76.24351179802109
         ],
         "y": [
          -224.15426635742188,
          -255.62328147616444
         ],
         "z": [
          198.26962280273438,
          -300.2182513211868
         ]
        },
        {
         "legendgroup": "9",
         "legendgrouptitle": {
          "text": "--9--"
         },
         "line": {
          "color": "red",
          "width": 2
         },
         "marker": {
          "color": "red",
          "size": 1.7000000000000002
         },
         "type": "scatter3d",
         "x": [
          -148.37481689453125,
          20.928153448784315
         ],
         "y": [
          -286.8277587890625,
          -391.67686260345715
         ],
         "z": [
          262.4037170410156,
          280.9285561023595
         ]
        },
        {
         "legendgroup": "9",
         "legendgrouptitle": {
          "text": "--9--"
         },
         "line": {
          "color": "green",
          "width": 2
         },
         "marker": {
          "color": "green",
          "size": 1.7000000000000002
         },
         "type": "scatter3d",
         "x": [
          -148.37481689453125,
          -42.46474964549357
         ],
         "y": [
          -286.8277587890625,
          -117.41491924604102
         ],
         "z": [
          262.4037170410156,
          253.32916728497898
         ]
        },
        {
         "legendgroup": "9",
         "legendgrouptitle": {
          "text": "--9--"
         },
         "line": {
          "color": "blue",
          "width": 2
         },
         "marker": {
          "color": "blue",
          "size": 1.7000000000000002
         },
         "type": "scatter3d",
         "x": [
          -148.37481689453125,
          -121.03872716927913
         ],
         "y": [
          -286.8277587890625,
          -330.5566985264343
         ],
         "z": [
          262.4037170410156,
          -234.92969027039584
         ]
        },
        {
         "legendgroup": "10",
         "legendgrouptitle": {
          "text": "--10--"
         },
         "line": {
          "color": "red",
          "width": 2
         },
         "marker": {
          "color": "red",
          "size": 1.8
         },
         "type": "scatter3d",
         "x": [
          -212.47605895996094,
          -62.46815417014261
         ],
         "y": [
          -349.2165832519531,
          -479.20424035319706
         ],
         "z": [
          335.01824951171875,
          359.53023641401245
         ]
        },
        {
         "legendgroup": "10",
         "legendgrouptitle": {
          "text": "--10--"
         },
         "line": {
          "color": "green",
          "width": 2
         },
         "marker": {
          "color": "green",
          "size": 1.8
         },
         "type": "scatter3d",
         "x": [
          -212.47605895996094,
          -80.75816711846434
         ],
         "y": [
          -349.2165832519531,
          -199.02275916298674
         ],
         "z": [
          335.01824951171875,
          325.4155324813971
         ]
        },
        {
         "legendgroup": "10",
         "legendgrouptitle": {
          "text": "--10--"
         },
         "line": {
          "color": "blue",
          "width": 2
         },
         "marker": {
          "color": "blue",
          "size": 1.8
         },
         "type": "scatter3d",
         "x": [
          -212.47605895996094,
          -182.05962945625564
         ],
         "y": [
          -349.2165832519531,
          -407.58096702226
         ],
         "z": [
          335.01824951171875,
          -160.6312632726262
         ]
        },
        {
         "legendgroup": "11",
         "legendgrouptitle": {
          "text": "--11--"
         },
         "line": {
          "color": "red",
          "width": 2
         },
         "marker": {
          "color": "red",
          "size": 1.9
         },
         "type": "scatter3d",
         "x": [
          -293.35321044921875,
          -169.67754023414017
         ],
         "y": [
          -405.5284118652344,
          -559.5617101055146
         ],
         "z": [
          415.81640625,
          447.09054300982115
         ]
        },
        {
         "legendgroup": "11",
         "legendgrouptitle": {
          "text": "--11--"
         },
         "line": {
          "color": "green",
          "width": 2
         },
         "marker": {
          "color": "green",
          "size": 1.9
         },
         "type": "scatter3d",
         "x": [
          -293.35321044921875,
          -136.66980330437235
         ],
         "y": [
          -405.5284118652344,
          -281.55714645410285
         ],
         "z": [
          415.81640625,
          406.7922565479462
         ]
        },
        {
         "legendgroup": "11",
         "legendgrouptitle": {
          "text": "--11--"
         },
         "line": {
          "color": "blue",
          "width": 2
         },
         "marker": {
          "color": "blue",
          "size": 1.9
         },
         "type": "scatter3d",
         "x": [
          -293.35321044921875,
          -262.2647758700384
         ],
         "y": [
          -405.5284118652344,
          -480.73098768480145
         ],
         "z": [
          415.81640625,
          -77.51723523973084
         ]
        },
        {
         "legendgroup": "12",
         "legendgrouptitle": {
          "text": "--12--"
         },
         "line": {
          "color": "red",
          "width": 2
         },
         "marker": {
          "color": "red",
          "size": 2
         },
         "type": "scatter3d",
         "x": [
          -392.849853515625,
          -303.111347514036
         ],
         "y": [
          -448.6273193359375,
          -623.1618219032961
         ],
         "z": [
          503.98785400390625,
          542.5197622640416
         ]
        },
        {
         "legendgroup": "12",
         "legendgrouptitle": {
          "text": "--12--"
         },
         "line": {
          "color": "green",
          "width": 2
         },
         "marker": {
          "color": "green",
          "size": 2
         },
         "type": "scatter3d",
         "x": [
          -392.849853515625,
          -214.4725090479571
         ],
         "y": [
          -448.6273193359375,
          -358.4406091882423
         ],
         "z": [
          503.98785400390625,
          497.0682952464017
         ]
        },
        {
         "legendgroup": "12",
         "legendgrouptitle": {
          "text": "--12--"
         },
         "line": {
          "color": "blue",
          "width": 2
         },
         "marker": {
          "color": "blue",
          "size": 2
         },
         "type": "scatter3d",
         "x": [
          -392.849853515625,
          -364.5077998160283
         ],
         "y": [
          -448.6273193359375,
          -542.30444855848
         ],
         "z": [
          503.98785400390625,
          13.660082556365012
         ]
        },
        {
         "legendgroup": "13",
         "legendgrouptitle": {
          "text": "--13--"
         },
         "line": {
          "color": "red",
          "width": 2
         },
         "marker": {
          "color": "red",
          "size": 2.1
         },
         "type": "scatter3d",
         "x": [
          -510.4644470214844,
          -462.09712520556997
         ],
         "y": [
          -470.8990478515625,
          -659.4701028201754
         ],
         "z": [
          598.6138305664062,
          644.4565988988288
         ]
        },
        {
         "legendgroup": "13",
         "legendgrouptitle": {
          "text": "--13--"
         },
         "line": {
          "color": "green",
          "width": 2
         },
         "marker": {
          "color": "green",
          "size": 2.1
         },
         "type": "scatter3d",
         "x": [
          -510.4644470214844,
          -316.5858644571161
         ],
         "y": [
          -470.8990478515625,
          -421.8839523248098
         ],
         "z": [
          598.6138305664062,
          595.6785906554722
         ]
        },
        {
         "legendgroup": "13",
         "legendgrouptitle": {
          "text": "--13--"
         },
         "line": {
          "color": "blue",
          "width": 2
         },
         "marker": {
          "color": "blue",
          "size": 2.1
         },
         "type": "scatter3d",
         "x": [
          -510.4644470214844,
          -489.29586724106326
         ],
         "y": [
          -470.8990478515625,
          -583.7728058327606
         ],
         "z": [
          598.6138305664062,
          111.98110870187537
         ]
        },
        {
         "legendgroup": "14",
         "legendgrouptitle": {
          "text": "--14--"
         },
         "line": {
          "color": "red",
          "width": 2
         },
         "marker": {
          "color": "red",
          "size": 2.2
         },
         "type": "scatter3d",
         "x": [
          -642.729736328125,
          -641.9803462923442
         ],
         "y": [
          -464.45465087890625,
          -657.4110001981578
         ],
         "z": [
          698.658935546875,
          751.2639321913122
         ]
        },
        {
         "legendgroup": "14",
         "legendgrouptitle": {
          "text": "--14--"
         },
         "line": {
          "color": "green",
          "width": 2
         },
         "marker": {
          "color": "green",
          "size": 2.2
         },
         "type": "scatter3d",
         "x": [
          -642.729736328125,
          -442.76150706179226
         ],
         "y": [
          -464.45465087890625,
          -462.81508494245656
         ],
         "z": [
          698.658935546875,
          701.8242329463993
         ]
        },
        {
         "legendgroup": "14",
         "legendgrouptitle": {
          "text": "--14--"
         },
         "line": {
          "color": "blue",
          "width": 2
         },
         "marker": {
          "color": "blue",
          "size": 2.2
         },
         "type": "scatter3d",
         "x": [
          -642.729736328125,
          -634.0170664367851
         ],
         "y": [
          -464.45465087890625,
          -595.9166007191311
         ],
         "z": [
          698.658935546875,
          216.3293333788443
         ]
        },
        {
         "legendgroup": "15",
         "legendgrouptitle": {
          "text": "--15--"
         },
         "line": {
          "color": "red",
          "width": 2
         },
         "marker": {
          "color": "red",
          "size": 2.3
         },
         "type": "scatter3d",
         "x": [
          -783.33056640625,
          -833.9457936308501
         ],
         "y": [
          -421.66357421875,
          -606.2349968575511
         ],
         "z": [
          802.2815551757812,
          860.3460772016377
         ]
        },
        {
         "legendgroup": "15",
         "legendgrouptitle": {
          "text": "--15--"
         },
         "line": {
          "color": "green",
          "width": 2
         },
         "marker": {
          "color": "green",
          "size": 2.3
         },
         "type": "scatter3d",
         "x": [
          -783.33056640625,
          -589.8786220503434
         ],
         "y": [
          -421.66357421875,
          -471.1155323588572
         ],
         "z": [
          802.2815551757812,
          813.7204826179998
         ]
        },
        {
         "legendgroup": "15",
         "legendgrouptitle": {
          "text": "--15--"
         },
         "line": {
          "color": "blue",
          "width": 2
         },
         "marker": {
          "color": "blue",
          "size": 2.3
         },
         "type": "scatter3d",
         "x": [
          -783.33056640625,
          -792.831881420946
         ],
         "y": [
          -421.66357421875,
          -569.3095566648987
         ],
         "z": [
          802.2815551757812,
          324.67252167609644
         ]
        },
        {
         "legendgroup": "16",
         "legendgrouptitle": {
          "text": "--16--"
         },
         "line": {
          "color": "red",
          "width": 2
         },
         "marker": {
          "color": "red",
          "size": 2.4000000000000004
         },
         "type": "scatter3d",
         "x": [
          -921.5733032226562,
          -1023.2495531156104
         ],
         "y": [
          -335.1495056152344,
          -496.0786206667042
         ],
         "z": [
          906.6137084960938,
          967.9632002336488
         ]
        },
        {
         "legendgroup": "16",
         "legendgrouptitle": {
          "text": "--16--"
         },
         "line": {
          "color": "green",
          "width": 2
         },
         "marker": {
          "color": "green",
          "size": 2.4000000000000004
         },
         "type": "scatter3d",
         "x": [
          -921.5733032226562,
          -749.8617868331492
         ],
         "y": [
          -335.1495056152344,
          -435.37703668450075
         ],
         "z": [
          906.6137084960938,
          928.283898965383
         ]
        },
        {
         "legendgroup": "16",
         "legendgrouptitle": {
          "text": "--16--"
         },
         "line": {
          "color": "blue",
          "width": 2
         },
         "marker": {
          "color": "blue",
          "size": 2.4000000000000004
         },
         "type": "scatter3d",
         "x": [
          -921.5733032226562,
          -954.8425971475311
         ],
         "y": [
          -335.1495056152344,
          -494.3714800822902
         ],
         "z": [
          906.6137084960938,
          433.81193509782
         ]
        },
        {
         "legendgroup": "17",
         "legendgrouptitle": {
          "text": "--17--"
         },
         "line": {
          "color": "red",
          "width": 2
         },
         "marker": {
          "color": "red",
          "size": 2.5
         },
         "type": "scatter3d",
         "x": [
          -1041.2528076171875,
          -1188.162195677859
         ],
         "y": [
          -200.63743591308594,
          -321.57546309983957
         ],
         "z": [
          1008.657958984375,
          1070.2341335961119
         ]
        },
        {
         "legendgroup": "17",
         "legendgrouptitle": {
          "text": "--17--"
         },
         "line": {
          "color": "green",
          "width": 2
         },
         "marker": {
          "color": "green",
          "size": 2.5
         },
         "type": "scatter3d",
         "x": [
          -1041.2528076171875,
          -907.7859084096924
         ],
         "y": [
          -200.63743591308594,
          -345.82528270274435
         ],
         "z": [
          1008.657958984375,
          1041.930710005579
         ]
        },
        {
         "legendgroup": "17",
         "legendgrouptitle": {
          "text": "--17--"
         },
         "line": {
          "color": "blue",
          "width": 2
         },
         "marker": {
          "color": "blue",
          "size": 2.5
         },
         "type": "scatter3d",
         "x": [
          -1041.2528076171875,
          -1102.704949340208
         ],
         "y": [
          -200.63743591308594,
          -364.46819318943506
         ],
         "z": [
          1008.657958984375,
          540.2744438518378
         ]
        },
        {
         "legendgroup": "18",
         "legendgrouptitle": {
          "text": "--18--"
         },
         "line": {
          "color": "red",
          "width": 2
         },
         "marker": {
          "color": "red",
          "size": 2.6
         },
         "type": "scatter3d",
         "x": [
          -1122.9451904296875,
          -1302.7096015199625
         ],
         "y": [
          -22.081636428833008,
          -87.77999582573578
         ],
         "z": [
          1106.36865234375,
          1164.4072780849065
         ]
        },
        {
         "legendgroup": "18",
         "legendgrouptitle": {
          "text": "--18--"
         },
         "line": {
          "color": "green",
          "width": 2
         },
         "marker": {
          "color": "green",
          "size": 2.6
         },
         "type": "scatter3d",
         "x": [
          -1122.9451904296875,
          -1043.352903946023
         ],
         "y": [
          -22.081636428833008,
          -199.89732691011562
         ],
         "z": [
          1106.36865234375,
          1151.6085479113458
         ]
        },
        {
         "legendgroup": "18",
         "legendgrouptitle": {
          "text": "--18--"
         },
         "line": {
          "color": "blue",
          "width": 2
         },
         "marker": {
          "color": "blue",
          "size": 2.6
         },
         "type": "scatter3d",
         "x": [
          -1122.9451904296875,
          -1214.7950828380654
         ],
         "y": [
          -22.081636428833008,
          -181.48101282386682
         ],
         "z": [
          1106.36865234375,
          641.4434582862073
         ]
        },
        {
         "legendgroup": "19",
         "legendgrouptitle": {
          "text": "--19--"
         },
         "line": {
          "color": "red",
          "width": 2
         },
         "marker": {
          "color": "red",
          "size": 2.7
         },
         "type": "scatter3d",
         "x": [
          -1147.890625,
          -1341.4335006749793
         ],
         "y": [
          187.65234375,
          188.48470049653577
         ],
         "z": [
          1199.000732421875,
          1249.4037329050404
         ]
        },
        {
         "legendgroup": "19",
         "legendgrouptitle": {
          "text": "--19--"
         },
         "line": {
          "color": "green",
          "width": 2
         },
         "marker": {
          "color": "green",
          "size": 2.7
         },
         "type": "scatter3d",
         "x": [
          -1147.890625,
          -1134.0845264868574
         ],
         "y": [
          187.65234375,
          -3.7991467219791275
         ],
         "z": [
          1199.000732421875,
          1255.1765140355126
         ]
        },
        {
         "legendgroup": "19",
         "legendgrouptitle": {
          "text": "--19--"
         },
         "line": {
          "color": "blue",
          "width": 2
         },
         "marker": {
          "color": "blue",
          "size": 2.7
         },
         "type": "scatter3d",
         "x": [
          -1147.890625,
          -1269.096723219749
         ],
         "y": [
          187.65234375,
          43.04870491473011
         ],
         "z": [
          1199.000732421875,
          735.9684771847874
         ]
        },
        {
         "legendgroup": "20",
         "legendgrouptitle": {
          "text": "--20--"
         },
         "line": {
          "color": "red",
          "width": 2
         },
         "marker": {
          "color": "red",
          "size": 2.8
         },
         "type": "scatter3d",
         "x": [
          -1101.6875,
          -1284.3880889429124
         ],
         "y": [
          407.6188049316406,
          479.0770950385912
         ],
         "z": [
          1287.827880859375,
          1326.7407010463494
         ]
        },
        {
         "legendgroup": "20",
         "legendgrouptitle": {
          "text": "--20--"
         },
         "line": {
          "color": "green",
          "width": 2
         },
         "marker": {
          "color": "green",
          "size": 2.8
         },
         "type": "scatter3d",
         "x": [
          -1101.6875,
          -1158.5992152299655
         ],
         "y": [
          407.6188049316406,
          227.0319980429452
         ],
         "z": [
          1287.827880859375,
          1352.2441974827923
         ]
        },
        {
         "legendgroup": "20",
         "legendgrouptitle": {
          "text": "--20--"
         },
         "line": {
          "color": "blue",
          "width": 2
         },
         "marker": {
          "color": "blue",
          "size": 2.8
         },
         "type": "scatter3d",
         "x": [
          -1101.6875,
          -1247.0652723187122
         ],
         "y": [
          407.6188049316406,
          288.1900093896967
         ],
         "z": [
          1287.827880859375,
          824.5762579684788
         ]
        },
        {
         "legendgroup": "21",
         "legendgrouptitle": {
          "text": "--21--"
         },
         "line": {
          "color": "red",
          "width": 2
         },
         "marker": {
          "color": "red",
          "size": 2.9000000000000004
         },
         "type": "scatter3d",
         "x": [
          -977.6549682617188,
          -1122.1906003373335
         ],
         "y": [
          609.4679565429688,
          745.5019259639168
         ],
         "z": [
          1376.267822265625,
          1400.8485102967416
         ]
        },
        {
         "legendgroup": "21",
         "legendgrouptitle": {
          "text": "--21--"
         },
         "line": {
          "color": "green",
          "width": 2
         },
         "marker": {
          "color": "green",
          "size": 2.9000000000000004
         },
         "type": "scatter3d",
         "x": [
          -977.6549682617188,
          -1100.2099880673002
         ],
         "y": [
          609.4679565429688,
          466.9186858403605
         ],
         "z": [
          1376.267822265625,
          1444.5318138175996
         ]
        },
        {
         "legendgroup": "21",
         "legendgrouptitle": {
          "text": "--21--"
         },
         "line": {
          "color": "blue",
          "width": 2
         },
         "marker": {
          "color": "blue",
          "size": 2.9000000000000004
         },
         "type": "scatter3d",
         "x": [
          -977.6549682617188,
          -1137.5322294059335
         ],
         "y": [
          609.4679565429688,
          523.7918008119593
         ],
         "z": [
          1376.267822265625,
          910.3291377714306
         ]
        },
        {
         "legendgroup": "22",
         "legendgrouptitle": {
          "text": "--22--"
         },
         "line": {
          "color": "red",
          "width": 2
         },
         "marker": {
          "color": "red",
          "size": 3
         },
         "type": "scatter3d",
         "x": [
          -781.6732788085938,
          -862.5996619622495
         ],
         "y": [
          759.8521728515625,
          942.5127042733515
         ],
         "z": [
          1469.7734375,
          1479.0497929469063
         ]
        },
        {
         "legendgroup": "22",
         "legendgrouptitle": {
          "text": "--22--"
         },
         "line": {
          "color": "green",
          "width": 2
         },
         "marker": {
          "color": "green",
          "size": 3
         },
         "type": "scatter3d",
         "x": [
          -781.6732788085938,
          -952.8944617719509
         ],
         "y": [
          759.8521728515625,
          680.6229248152089
         ],
         "z": [
          1469.7734375,
          1536.1513913719184
         ]
        },
        {
         "legendgroup": "22",
         "legendgrouptitle": {
          "text": "--22--"
         },
         "line": {
          "color": "blue",
          "width": 2
         },
         "marker": {
          "color": "blue",
          "size": 3
         },
         "type": "scatter3d",
         "x": [
          -781.6732788085938,
          -942.418166252493
         ],
         "y": [
          759.8521728515625,
          712.5594331667291
         ],
         "z": [
          1469.7734375,
          998.684828070998
         ]
        }
       ],
       "layout": {
        "scene": {
         "aspectmode": "data",
         "aspectratio": {
          "x": 1,
          "y": 1,
          "z": 1
         }
        },
        "template": {
         "data": {
          "bar": [
           {
            "error_x": {
             "color": "#2a3f5f"
            },
            "error_y": {
             "color": "#2a3f5f"
            },
            "marker": {
             "line": {
              "color": "#E5ECF6",
              "width": 0.5
             },
             "pattern": {
              "fillmode": "overlay",
              "size": 10,
              "solidity": 0.2
             }
            },
            "type": "bar"
           }
          ],
          "barpolar": [
           {
            "marker": {
             "line": {
              "color": "#E5ECF6",
              "width": 0.5
             },
             "pattern": {
              "fillmode": "overlay",
              "size": 10,
              "solidity": 0.2
             }
            },
            "type": "barpolar"
           }
          ],
          "carpet": [
           {
            "aaxis": {
             "endlinecolor": "#2a3f5f",
             "gridcolor": "white",
             "linecolor": "white",
             "minorgridcolor": "white",
             "startlinecolor": "#2a3f5f"
            },
            "baxis": {
             "endlinecolor": "#2a3f5f",
             "gridcolor": "white",
             "linecolor": "white",
             "minorgridcolor": "white",
             "startlinecolor": "#2a3f5f"
            },
            "type": "carpet"
           }
          ],
          "choropleth": [
           {
            "colorbar": {
             "outlinewidth": 0,
             "ticks": ""
            },
            "type": "choropleth"
           }
          ],
          "contour": [
           {
            "colorbar": {
             "outlinewidth": 0,
             "ticks": ""
            },
            "colorscale": [
             [
              0,
              "#0d0887"
             ],
             [
              0.1111111111111111,
              "#46039f"
             ],
             [
              0.2222222222222222,
              "#7201a8"
             ],
             [
              0.3333333333333333,
              "#9c179e"
             ],
             [
              0.4444444444444444,
              "#bd3786"
             ],
             [
              0.5555555555555556,
              "#d8576b"
             ],
             [
              0.6666666666666666,
              "#ed7953"
             ],
             [
              0.7777777777777778,
              "#fb9f3a"
             ],
             [
              0.8888888888888888,
              "#fdca26"
             ],
             [
              1,
              "#f0f921"
             ]
            ],
            "type": "contour"
           }
          ],
          "contourcarpet": [
           {
            "colorbar": {
             "outlinewidth": 0,
             "ticks": ""
            },
            "type": "contourcarpet"
           }
          ],
          "heatmap": [
           {
            "colorbar": {
             "outlinewidth": 0,
             "ticks": ""
            },
            "colorscale": [
             [
              0,
              "#0d0887"
             ],
             [
              0.1111111111111111,
              "#46039f"
             ],
             [
              0.2222222222222222,
              "#7201a8"
             ],
             [
              0.3333333333333333,
              "#9c179e"
             ],
             [
              0.4444444444444444,
              "#bd3786"
             ],
             [
              0.5555555555555556,
              "#d8576b"
             ],
             [
              0.6666666666666666,
              "#ed7953"
             ],
             [
              0.7777777777777778,
              "#fb9f3a"
             ],
             [
              0.8888888888888888,
              "#fdca26"
             ],
             [
              1,
              "#f0f921"
             ]
            ],
            "type": "heatmap"
           }
          ],
          "heatmapgl": [
           {
            "colorbar": {
             "outlinewidth": 0,
             "ticks": ""
            },
            "colorscale": [
             [
              0,
              "#0d0887"
             ],
             [
              0.1111111111111111,
              "#46039f"
             ],
             [
              0.2222222222222222,
              "#7201a8"
             ],
             [
              0.3333333333333333,
              "#9c179e"
             ],
             [
              0.4444444444444444,
              "#bd3786"
             ],
             [
              0.5555555555555556,
              "#d8576b"
             ],
             [
              0.6666666666666666,
              "#ed7953"
             ],
             [
              0.7777777777777778,
              "#fb9f3a"
             ],
             [
              0.8888888888888888,
              "#fdca26"
             ],
             [
              1,
              "#f0f921"
             ]
            ],
            "type": "heatmapgl"
           }
          ],
          "histogram": [
           {
            "marker": {
             "pattern": {
              "fillmode": "overlay",
              "size": 10,
              "solidity": 0.2
             }
            },
            "type": "histogram"
           }
          ],
          "histogram2d": [
           {
            "colorbar": {
             "outlinewidth": 0,
             "ticks": ""
            },
            "colorscale": [
             [
              0,
              "#0d0887"
             ],
             [
              0.1111111111111111,
              "#46039f"
             ],
             [
              0.2222222222222222,
              "#7201a8"
             ],
             [
              0.3333333333333333,
              "#9c179e"
             ],
             [
              0.4444444444444444,
              "#bd3786"
             ],
             [
              0.5555555555555556,
              "#d8576b"
             ],
             [
              0.6666666666666666,
              "#ed7953"
             ],
             [
              0.7777777777777778,
              "#fb9f3a"
             ],
             [
              0.8888888888888888,
              "#fdca26"
             ],
             [
              1,
              "#f0f921"
             ]
            ],
            "type": "histogram2d"
           }
          ],
          "histogram2dcontour": [
           {
            "colorbar": {
             "outlinewidth": 0,
             "ticks": ""
            },
            "colorscale": [
             [
              0,
              "#0d0887"
             ],
             [
              0.1111111111111111,
              "#46039f"
             ],
             [
              0.2222222222222222,
              "#7201a8"
             ],
             [
              0.3333333333333333,
              "#9c179e"
             ],
             [
              0.4444444444444444,
              "#bd3786"
             ],
             [
              0.5555555555555556,
              "#d8576b"
             ],
             [
              0.6666666666666666,
              "#ed7953"
             ],
             [
              0.7777777777777778,
              "#fb9f3a"
             ],
             [
              0.8888888888888888,
              "#fdca26"
             ],
             [
              1,
              "#f0f921"
             ]
            ],
            "type": "histogram2dcontour"
           }
          ],
          "mesh3d": [
           {
            "colorbar": {
             "outlinewidth": 0,
             "ticks": ""
            },
            "type": "mesh3d"
           }
          ],
          "parcoords": [
           {
            "line": {
             "colorbar": {
              "outlinewidth": 0,
              "ticks": ""
             }
            },
            "type": "parcoords"
           }
          ],
          "pie": [
           {
            "automargin": true,
            "type": "pie"
           }
          ],
          "scatter": [
           {
            "marker": {
             "colorbar": {
              "outlinewidth": 0,
              "ticks": ""
             }
            },
            "type": "scatter"
           }
          ],
          "scatter3d": [
           {
            "line": {
             "colorbar": {
              "outlinewidth": 0,
              "ticks": ""
             }
            },
            "marker": {
             "colorbar": {
              "outlinewidth": 0,
              "ticks": ""
             }
            },
            "type": "scatter3d"
           }
          ],
          "scattercarpet": [
           {
            "marker": {
             "colorbar": {
              "outlinewidth": 0,
              "ticks": ""
             }
            },
            "type": "scattercarpet"
           }
          ],
          "scattergeo": [
           {
            "marker": {
             "colorbar": {
              "outlinewidth": 0,
              "ticks": ""
             }
            },
            "type": "scattergeo"
           }
          ],
          "scattergl": [
           {
            "marker": {
             "colorbar": {
              "outlinewidth": 0,
              "ticks": ""
             }
            },
            "type": "scattergl"
           }
          ],
          "scattermapbox": [
           {
            "marker": {
             "colorbar": {
              "outlinewidth": 0,
              "ticks": ""
             }
            },
            "type": "scattermapbox"
           }
          ],
          "scatterpolar": [
           {
            "marker": {
             "colorbar": {
              "outlinewidth": 0,
              "ticks": ""
             }
            },
            "type": "scatterpolar"
           }
          ],
          "scatterpolargl": [
           {
            "marker": {
             "colorbar": {
              "outlinewidth": 0,
              "ticks": ""
             }
            },
            "type": "scatterpolargl"
           }
          ],
          "scatterternary": [
           {
            "marker": {
             "colorbar": {
              "outlinewidth": 0,
              "ticks": ""
             }
            },
            "type": "scatterternary"
           }
          ],
          "surface": [
           {
            "colorbar": {
             "outlinewidth": 0,
             "ticks": ""
            },
            "colorscale": [
             [
              0,
              "#0d0887"
             ],
             [
              0.1111111111111111,
              "#46039f"
             ],
             [
              0.2222222222222222,
              "#7201a8"
             ],
             [
              0.3333333333333333,
              "#9c179e"
             ],
             [
              0.4444444444444444,
              "#bd3786"
             ],
             [
              0.5555555555555556,
              "#d8576b"
             ],
             [
              0.6666666666666666,
              "#ed7953"
             ],
             [
              0.7777777777777778,
              "#fb9f3a"
             ],
             [
              0.8888888888888888,
              "#fdca26"
             ],
             [
              1,
              "#f0f921"
             ]
            ],
            "type": "surface"
           }
          ],
          "table": [
           {
            "cells": {
             "fill": {
              "color": "#EBF0F8"
             },
             "line": {
              "color": "white"
             }
            },
            "header": {
             "fill": {
              "color": "#C8D4E3"
             },
             "line": {
              "color": "white"
             }
            },
            "type": "table"
           }
          ]
         },
         "layout": {
          "annotationdefaults": {
           "arrowcolor": "#2a3f5f",
           "arrowhead": 0,
           "arrowwidth": 1
          },
          "autotypenumbers": "strict",
          "coloraxis": {
           "colorbar": {
            "outlinewidth": 0,
            "ticks": ""
           }
          },
          "colorscale": {
           "diverging": [
            [
             0,
             "#8e0152"
            ],
            [
             0.1,
             "#c51b7d"
            ],
            [
             0.2,
             "#de77ae"
            ],
            [
             0.3,
             "#f1b6da"
            ],
            [
             0.4,
             "#fde0ef"
            ],
            [
             0.5,
             "#f7f7f7"
            ],
            [
             0.6,
             "#e6f5d0"
            ],
            [
             0.7,
             "#b8e186"
            ],
            [
             0.8,
             "#7fbc41"
            ],
            [
             0.9,
             "#4d9221"
            ],
            [
             1,
             "#276419"
            ]
           ],
           "sequential": [
            [
             0,
             "#0d0887"
            ],
            [
             0.1111111111111111,
             "#46039f"
            ],
            [
             0.2222222222222222,
             "#7201a8"
            ],
            [
             0.3333333333333333,
             "#9c179e"
            ],
            [
             0.4444444444444444,
             "#bd3786"
            ],
            [
             0.5555555555555556,
             "#d8576b"
            ],
            [
             0.6666666666666666,
             "#ed7953"
            ],
            [
             0.7777777777777778,
             "#fb9f3a"
            ],
            [
             0.8888888888888888,
             "#fdca26"
            ],
            [
             1,
             "#f0f921"
            ]
           ],
           "sequentialminus": [
            [
             0,
             "#0d0887"
            ],
            [
             0.1111111111111111,
             "#46039f"
            ],
            [
             0.2222222222222222,
             "#7201a8"
            ],
            [
             0.3333333333333333,
             "#9c179e"
            ],
            [
             0.4444444444444444,
             "#bd3786"
            ],
            [
             0.5555555555555556,
             "#d8576b"
            ],
            [
             0.6666666666666666,
             "#ed7953"
            ],
            [
             0.7777777777777778,
             "#fb9f3a"
            ],
            [
             0.8888888888888888,
             "#fdca26"
            ],
            [
             1,
             "#f0f921"
            ]
           ]
          },
          "colorway": [
           "#636efa",
           "#EF553B",
           "#00cc96",
           "#ab63fa",
           "#FFA15A",
           "#19d3f3",
           "#FF6692",
           "#B6E880",
           "#FF97FF",
           "#FECB52"
          ],
          "font": {
           "color": "#2a3f5f"
          },
          "geo": {
           "bgcolor": "white",
           "lakecolor": "white",
           "landcolor": "#E5ECF6",
           "showlakes": true,
           "showland": true,
           "subunitcolor": "white"
          },
          "hoverlabel": {
           "align": "left"
          },
          "hovermode": "closest",
          "mapbox": {
           "style": "light"
          },
          "paper_bgcolor": "white",
          "plot_bgcolor": "#E5ECF6",
          "polar": {
           "angularaxis": {
            "gridcolor": "white",
            "linecolor": "white",
            "ticks": ""
           },
           "bgcolor": "#E5ECF6",
           "radialaxis": {
            "gridcolor": "white",
            "linecolor": "white",
            "ticks": ""
           }
          },
          "scene": {
           "xaxis": {
            "backgroundcolor": "#E5ECF6",
            "gridcolor": "white",
            "gridwidth": 2,
            "linecolor": "white",
            "showbackground": true,
            "ticks": "",
            "zerolinecolor": "white"
           },
           "yaxis": {
            "backgroundcolor": "#E5ECF6",
            "gridcolor": "white",
            "gridwidth": 2,
            "linecolor": "white",
            "showbackground": true,
            "ticks": "",
            "zerolinecolor": "white"
           },
           "zaxis": {
            "backgroundcolor": "#E5ECF6",
            "gridcolor": "white",
            "gridwidth": 2,
            "linecolor": "white",
            "showbackground": true,
            "ticks": "",
            "zerolinecolor": "white"
           }
          },
          "shapedefaults": {
           "line": {
            "color": "#2a3f5f"
           }
          },
          "ternary": {
           "aaxis": {
            "gridcolor": "white",
            "linecolor": "white",
            "ticks": ""
           },
           "baxis": {
            "gridcolor": "white",
            "linecolor": "white",
            "ticks": ""
           },
           "bgcolor": "#E5ECF6",
           "caxis": {
            "gridcolor": "white",
            "linecolor": "white",
            "ticks": ""
           }
          },
          "title": {
           "x": 0.05
          },
          "xaxis": {
           "automargin": true,
           "gridcolor": "white",
           "linecolor": "white",
           "ticks": "",
           "title": {
            "standoff": 15
           },
           "zerolinecolor": "white",
           "zerolinewidth": 2
          },
          "yaxis": {
           "automargin": true,
           "gridcolor": "white",
           "linecolor": "white",
           "ticks": "",
           "title": {
            "standoff": 15
           },
           "zerolinecolor": "white",
           "zerolinewidth": 2
          }
         }
        },
        "title": {
         "text": "3-RD"
        }
       }
      },
      "text/html": [
       "<div>                            <div id=\"4daae6c9-80d6-4135-a919-f853be529b45\" class=\"plotly-graph-div\" style=\"height:525px; width:100%;\"></div>            <script type=\"text/javascript\">                require([\"plotly\"], function(Plotly) {                    window.PLOTLYENV=window.PLOTLYENV || {};                                    if (document.getElementById(\"4daae6c9-80d6-4135-a919-f853be529b45\")) {                    Plotly.newPlot(                        \"4daae6c9-80d6-4135-a919-f853be529b45\",                        [{\"legendgroup\":\"0\",\"legendgrouptitle\":{\"text\":\"origins\"},\"line\":{\"color\":\"black\",\"width\":2},\"marker\":{\"color\":\"black\",\"size\":1},\"type\":\"scatter3d\",\"x\":[0.0,-2.726853609085083,-8.218437194824219,-18.253360748291016,-35.5622673034668,-62.010658264160156,-99.03694152832031,-148.37481689453125,-212.47605895996094,-293.35321044921875,-392.849853515625,-510.4644470214844,-642.729736328125,-783.33056640625,-921.5733032226562,-1041.2528076171875,-1122.9451904296875,-1147.890625,-1101.6875,-977.6549682617188,-781.6732788085938],\"y\":[0.0,-11.21274185180664,-33.91085433959961,-67.8279800415039,-112.20352172851562,-165.0926971435547,-224.15426635742188,-286.8277587890625,-349.2165832519531,-405.5284118652344,-448.6273193359375,-470.8990478515625,-464.45465087890625,-421.66357421875,-335.1495056152344,-200.63743591308594,-22.081636428833008,187.65234375,407.6188049316406,609.4679565429688,759.8521728515625],\"z\":[0.0,9.700716972351074,29.011850357055664,57.76176452636719,95.7403793334961,142.66424560546875,198.26962280273438,262.4037170410156,335.01824951171875,415.81640625,503.98785400390625,598.6138305664062,698.658935546875,802.2815551757812,906.6137084960938,1008.657958984375,1106.36865234375,1199.000732421875,1287.827880859375,1376.267822265625,1469.7734375]},{\"legendgroup\":\"1\",\"legendgrouptitle\":{\"text\":\"finish\"},\"line\":{\"color\":\"black\",\"width\":2},\"marker\":{\"color\":\"black\",\"size\":1},\"type\":\"scatter3d\",\"x\":[0.0,-12.626553053934522,-37.886044812348516,-77.43248230770199,-133.85801366160013,-208.5692534342605,-301.8076389593581,-413.14998501712546,-541.7707885637024,-685.0617283113347,-838.7932146847947,-995.1609034324051,-1142.650309493957,-1266.9604272960164,-1350.852094196424,-1374.9200556359253,-1321.925906638849,-1182.4058712828564,-959.4082119250861,-671.2674187477651,-353.6203214002009],\"y\":[-500.0,-511.1132185779243,-533.0169241773553,-564.2649510810861,-602.3228614401269,-642.8827409014189,-680.7741050677945,-710.3598576466161,-724.701143474369,-715.4565753930633,-674.0940947051755,-593.4367866684443,-468.5535657200305,-298.033678868482,-84.58067794206846,162.3321810610601,422.4575897743735,666.2810699299478,859.0858221533792,965.8411332994893,957.9252929424467],\"z\":[0.0,10.929260785964871,32.6124210565224,64.70189107431987,106.739428772051,158.06724101626324,217.82383358823728,285.0900914311072,359.02504208752276,438.3767805051345,521.2867508976676,605.9519303437412,690.7456920480644,773.6842365702349,852.4382323228709,925.4760814313653,993.2689134247607,1058.5612783877814,1126.7870893008321,1205.6078433856885,1303.8285528202039]},{\"legendgroup\":\"2\",\"legendgrouptitle\":{\"text\":\"--2--\"},\"line\":{\"color\":\"red\",\"width\":2},\"marker\":{\"color\":\"red\",\"size\":1.0},\"type\":\"scatter3d\",\"x\":[0.0,200.0],\"y\":[0.0,0.0],\"z\":[0.0,0.0]},{\"legendgroup\":\"2\",\"legendgrouptitle\":{\"text\":\"--2--\"},\"line\":{\"color\":\"green\",\"width\":2},\"marker\":{\"color\":\"green\",\"size\":1.0},\"type\":\"scatter3d\",\"x\":[0.0,0.0],\"y\":[0.0,200.0],\"z\":[0.0,0.0]},{\"legendgroup\":\"2\",\"legendgrouptitle\":{\"text\":\"--2--\"},\"line\":{\"color\":\"blue\",\"width\":2},\"marker\":{\"color\":\"blue\",\"size\":1.0},\"type\":\"scatter3d\",\"x\":[0.0,0.0],\"y\":[0.0,0.0],\"z\":[0.0,-500.0]},{\"legendgroup\":\"3\",\"legendgrouptitle\":{\"text\":\"--3--\"},\"line\":{\"color\":\"red\",\"width\":2},\"marker\":{\"color\":\"red\",\"size\":1.1},\"type\":\"scatter3d\",\"x\":[-2.726853609085083,197.23325776124176],\"y\":[-11.21274185180664,-15.171311324895566],\"z\":[9.700716972351074,10.233247246808675]},{\"legendgroup\":\"3\",\"legendgrouptitle\":{\"text\":\"--3--\"},\"line\":{\"color\":\"green\",\"width\":2},\"marker\":{\"color\":\"green\",\"size\":1.1},\"type\":\"scatter3d\",\"x\":[-2.726853609085083,1.233026168854693],\"y\":[-11.21274185180664,188.74744883864042],\"z\":[9.700716972351074,9.209299446905556]},{\"legendgroup\":\"3\",\"legendgrouptitle\":{\"text\":\"--3--\"},\"line\":{\"color\":\"blue\",\"width\":2},\"marker\":{\"color\":\"blue\",\"size\":1.1},\"type\":\"scatter3d\",\"x\":[-2.726853609085083,-1.4201092989074768],\"y\":[-11.21274185180664,-12.467400089086413],\"z\":[9.700716972351074,-490.29600126889443]},{\"legendgroup\":\"4\",\"legendgrouptitle\":{\"text\":\"--4--\"},\"line\":{\"color\":\"red\",\"width\":2},\"marker\":{\"color\":\"red\",\"size\":1.2},\"type\":\"scatter3d\",\"x\":[-8.218437194824219,191.4231338703666],\"y\":[-33.91085433959961,-45.765995356352285],\"z\":[29.011850357055664,30.65463278186637]},{\"legendgroup\":\"4\",\"legendgrouptitle\":{\"text\":\"--4--\"},\"line\":{\"color\":\"green\",\"width\":2},\"marker\":{\"color\":\"green\",\"size\":1.2},\"type\":\"scatter3d\",\"x\":[-8.218437194824219,3.6486058521855025],\"y\":[-33.91085433959961,165.7315735955027],\"z\":[29.011850357055664,27.57162207726897]},{\"legendgroup\":\"4\",\"legendgrouptitle\":{\"text\":\"--4--\"},\"line\":{\"color\":\"blue\",\"width\":2},\"marker\":{\"color\":\"blue\",\"size\":1.2},\"type\":\"scatter3d\",\"x\":[-8.218437194824219,-4.332250163510002],\"y\":[-33.91085433959961,-37.74865941736502],\"z\":[29.011850357055664,-470.9583175555337]},{\"legendgroup\":\"5\",\"legendgrouptitle\":{\"text\":\"--5--\"},\"line\":{\"color\":\"red\",\"width\":2},\"marker\":{\"color\":\"red\",\"size\":1.3},\"type\":\"scatter3d\",\"x\":[-18.253360748291016,180.31731220478994],\"y\":[-67.8279800415039,-91.45148799027798],\"z\":[57.76176452636719,61.17024148166149]},{\"legendgroup\":\"5\",\"legendgrouptitle\":{\"text\":\"--5--\"},\"line\":{\"color\":\"green\",\"width\":2},\"marker\":{\"color\":\"green\",\"size\":1.3},\"type\":\"scatter3d\",\"x\":[-18.253360748291016,5.418287875473371],\"y\":[-67.8279800415039,130.74680837432894],\"z\":[57.76176452636719,54.98571390718611]},{\"legendgroup\":\"5\",\"legendgrouptitle\":{\"text\":\"--5--\"},\"line\":{\"color\":\"blue\",\"width\":2},\"marker\":{\"color\":\"blue\",\"size\":1.3},\"type\":\"scatter3d\",\"x\":[-18.253360748291016,-10.61264154392369],\"y\":[-67.8279800415039,-75.7270613968855],\"z\":[57.76176452636719,-442.1174448070288]},{\"legendgroup\":\"6\",\"legendgrouptitle\":{\"text\":\"--6--\"},\"line\":{\"color\":\"red\",\"width\":2},\"marker\":{\"color\":\"red\",\"size\":1.4},\"type\":\"scatter3d\",\"x\":[-35.5622673034668,160.4727346847658],\"y\":[-112.20352172851562,-151.38656226516602],\"z\":[95.7403793334961,101.65369733415008]},{\"legendgroup\":\"6\",\"legendgrouptitle\":{\"text\":\"--6--\"},\"line\":{\"color\":\"green\",\"width\":2},\"marker\":{\"color\":\"green\",\"size\":1.4},\"type\":\"scatter3d\",\"x\":[-35.5622673034668,3.7560312397865374],\"y\":[-112.20352172851562,83.84421415612888],\"z\":[95.7403793334961,91.34075955807413]},{\"legendgroup\":\"6\",\"legendgrouptitle\":{\"text\":\"--6--\"},\"line\":{\"color\":\"blue\",\"width\":2},\"marker\":{\"color\":\"blue\",\"size\":1.4},\"type\":\"scatter3d\",\"x\":[-35.5622673034668,-23.225990733617813],\"y\":[-112.20352172851562,-125.89078515293087],\"z\":[95.7403793334961,-403.9199804113439]},{\"legendgroup\":\"7\",\"legendgrouptitle\":{\"text\":\"--7--\"},\"line\":{\"color\":\"red\",\"width\":2},\"marker\":{\"color\":\"red\",\"size\":1.5},\"type\":\"scatter3d\",\"x\":[-62.010658264160156,129.07539047919607],\"y\":[-165.0926971435547,-223.40918212026114],\"z\":[142.66424560546875,151.9005628159842]},{\"legendgroup\":\"7\",\"legendgrouptitle\":{\"text\":\"--7--\"},\"line\":{\"color\":\"green\",\"width\":2},\"marker\":{\"color\":\"green\",\"size\":1.5},\"type\":\"scatter3d\",\"x\":[-62.010658264160156,-3.387220196120019],\"y\":[-165.0926971435547,26.02332035959094],\"z\":[142.66424560546875,136.50304744115095]},{\"legendgroup\":\"7\",\"legendgrouptitle\":{\"text\":\"--7--\"},\"line\":{\"color\":\"blue\",\"width\":2},\"marker\":{\"color\":\"blue\",\"size\":1.5},\"type\":\"scatter3d\",\"x\":[-62.010658264160156,-44.43679899564111],\"y\":[-165.0926971435547,-186.57749317745134],\"z\":[142.66424560546875,-356.5647229147807]},{\"legendgroup\":\"8\",\"legendgrouptitle\":{\"text\":\"--8--\"},\"line\":{\"color\":\"red\",\"width\":2},\"marker\":{\"color\":\"red\",\"size\":1.6},\"type\":\"scatter3d\",\"x\":[-99.03694152832031,83.55090202078804],\"y\":[-224.15426635742188,-304.6606874514635],\"z\":[198.26962280273438,211.70076388289496]},{\"legendgroup\":\"8\",\"legendgrouptitle\":{\"text\":\"--8--\"},\"line\":{\"color\":\"green\",\"width\":2},\"marker\":{\"color\":\"green\",\"size\":1.6},\"type\":\"scatter3d\",\"x\":[-99.03694152832031,-17.92866255590519],\"y\":[-224.15426635742188,-41.506330873272844],\"z\":[198.26962280273438,190.44793848853323]},{\"legendgroup\":\"8\",\"legendgrouptitle\":{\"text\":\"--8--\"},\"line\":{\"color\":\"blue\",\"width\":2},\"marker\":{\"color\":\"blue\",\"size\":1.6},\"type\":\"scatter3d\",\"x\":[-99.03694152832031,-76.24351179802109],\"y\":[-224.15426635742188,-255.62328147616444],\"z\":[198.26962280273438,-300.2182513211868]},{\"legendgroup\":\"9\",\"legendgrouptitle\":{\"text\":\"--9--\"},\"line\":{\"color\":\"red\",\"width\":2},\"marker\":{\"color\":\"red\",\"size\":1.7000000000000002},\"type\":\"scatter3d\",\"x\":[-148.37481689453125,20.928153448784315],\"y\":[-286.8277587890625,-391.67686260345715],\"z\":[262.4037170410156,280.9285561023595]},{\"legendgroup\":\"9\",\"legendgrouptitle\":{\"text\":\"--9--\"},\"line\":{\"color\":\"green\",\"width\":2},\"marker\":{\"color\":\"green\",\"size\":1.7000000000000002},\"type\":\"scatter3d\",\"x\":[-148.37481689453125,-42.46474964549357],\"y\":[-286.8277587890625,-117.41491924604102],\"z\":[262.4037170410156,253.32916728497898]},{\"legendgroup\":\"9\",\"legendgrouptitle\":{\"text\":\"--9--\"},\"line\":{\"color\":\"blue\",\"width\":2},\"marker\":{\"color\":\"blue\",\"size\":1.7000000000000002},\"type\":\"scatter3d\",\"x\":[-148.37481689453125,-121.03872716927913],\"y\":[-286.8277587890625,-330.5566985264343],\"z\":[262.4037170410156,-234.92969027039584]},{\"legendgroup\":\"10\",\"legendgrouptitle\":{\"text\":\"--10--\"},\"line\":{\"color\":\"red\",\"width\":2},\"marker\":{\"color\":\"red\",\"size\":1.8},\"type\":\"scatter3d\",\"x\":[-212.47605895996094,-62.46815417014261],\"y\":[-349.2165832519531,-479.20424035319706],\"z\":[335.01824951171875,359.53023641401245]},{\"legendgroup\":\"10\",\"legendgrouptitle\":{\"text\":\"--10--\"},\"line\":{\"color\":\"green\",\"width\":2},\"marker\":{\"color\":\"green\",\"size\":1.8},\"type\":\"scatter3d\",\"x\":[-212.47605895996094,-80.75816711846434],\"y\":[-349.2165832519531,-199.02275916298674],\"z\":[335.01824951171875,325.4155324813971]},{\"legendgroup\":\"10\",\"legendgrouptitle\":{\"text\":\"--10--\"},\"line\":{\"color\":\"blue\",\"width\":2},\"marker\":{\"color\":\"blue\",\"size\":1.8},\"type\":\"scatter3d\",\"x\":[-212.47605895996094,-182.05962945625564],\"y\":[-349.2165832519531,-407.58096702226],\"z\":[335.01824951171875,-160.6312632726262]},{\"legendgroup\":\"11\",\"legendgrouptitle\":{\"text\":\"--11--\"},\"line\":{\"color\":\"red\",\"width\":2},\"marker\":{\"color\":\"red\",\"size\":1.9},\"type\":\"scatter3d\",\"x\":[-293.35321044921875,-169.67754023414017],\"y\":[-405.5284118652344,-559.5617101055146],\"z\":[415.81640625,447.09054300982115]},{\"legendgroup\":\"11\",\"legendgrouptitle\":{\"text\":\"--11--\"},\"line\":{\"color\":\"green\",\"width\":2},\"marker\":{\"color\":\"green\",\"size\":1.9},\"type\":\"scatter3d\",\"x\":[-293.35321044921875,-136.66980330437235],\"y\":[-405.5284118652344,-281.55714645410285],\"z\":[415.81640625,406.7922565479462]},{\"legendgroup\":\"11\",\"legendgrouptitle\":{\"text\":\"--11--\"},\"line\":{\"color\":\"blue\",\"width\":2},\"marker\":{\"color\":\"blue\",\"size\":1.9},\"type\":\"scatter3d\",\"x\":[-293.35321044921875,-262.2647758700384],\"y\":[-405.5284118652344,-480.73098768480145],\"z\":[415.81640625,-77.51723523973084]},{\"legendgroup\":\"12\",\"legendgrouptitle\":{\"text\":\"--12--\"},\"line\":{\"color\":\"red\",\"width\":2},\"marker\":{\"color\":\"red\",\"size\":2.0},\"type\":\"scatter3d\",\"x\":[-392.849853515625,-303.111347514036],\"y\":[-448.6273193359375,-623.1618219032961],\"z\":[503.98785400390625,542.5197622640416]},{\"legendgroup\":\"12\",\"legendgrouptitle\":{\"text\":\"--12--\"},\"line\":{\"color\":\"green\",\"width\":2},\"marker\":{\"color\":\"green\",\"size\":2.0},\"type\":\"scatter3d\",\"x\":[-392.849853515625,-214.4725090479571],\"y\":[-448.6273193359375,-358.4406091882423],\"z\":[503.98785400390625,497.0682952464017]},{\"legendgroup\":\"12\",\"legendgrouptitle\":{\"text\":\"--12--\"},\"line\":{\"color\":\"blue\",\"width\":2},\"marker\":{\"color\":\"blue\",\"size\":2.0},\"type\":\"scatter3d\",\"x\":[-392.849853515625,-364.5077998160283],\"y\":[-448.6273193359375,-542.30444855848],\"z\":[503.98785400390625,13.660082556365012]},{\"legendgroup\":\"13\",\"legendgrouptitle\":{\"text\":\"--13--\"},\"line\":{\"color\":\"red\",\"width\":2},\"marker\":{\"color\":\"red\",\"size\":2.1},\"type\":\"scatter3d\",\"x\":[-510.4644470214844,-462.09712520556997],\"y\":[-470.8990478515625,-659.4701028201754],\"z\":[598.6138305664062,644.4565988988288]},{\"legendgroup\":\"13\",\"legendgrouptitle\":{\"text\":\"--13--\"},\"line\":{\"color\":\"green\",\"width\":2},\"marker\":{\"color\":\"green\",\"size\":2.1},\"type\":\"scatter3d\",\"x\":[-510.4644470214844,-316.5858644571161],\"y\":[-470.8990478515625,-421.8839523248098],\"z\":[598.6138305664062,595.6785906554722]},{\"legendgroup\":\"13\",\"legendgrouptitle\":{\"text\":\"--13--\"},\"line\":{\"color\":\"blue\",\"width\":2},\"marker\":{\"color\":\"blue\",\"size\":2.1},\"type\":\"scatter3d\",\"x\":[-510.4644470214844,-489.29586724106326],\"y\":[-470.8990478515625,-583.7728058327606],\"z\":[598.6138305664062,111.98110870187537]},{\"legendgroup\":\"14\",\"legendgrouptitle\":{\"text\":\"--14--\"},\"line\":{\"color\":\"red\",\"width\":2},\"marker\":{\"color\":\"red\",\"size\":2.2},\"type\":\"scatter3d\",\"x\":[-642.729736328125,-641.9803462923442],\"y\":[-464.45465087890625,-657.4110001981578],\"z\":[698.658935546875,751.2639321913122]},{\"legendgroup\":\"14\",\"legendgrouptitle\":{\"text\":\"--14--\"},\"line\":{\"color\":\"green\",\"width\":2},\"marker\":{\"color\":\"green\",\"size\":2.2},\"type\":\"scatter3d\",\"x\":[-642.729736328125,-442.76150706179226],\"y\":[-464.45465087890625,-462.81508494245656],\"z\":[698.658935546875,701.8242329463993]},{\"legendgroup\":\"14\",\"legendgrouptitle\":{\"text\":\"--14--\"},\"line\":{\"color\":\"blue\",\"width\":2},\"marker\":{\"color\":\"blue\",\"size\":2.2},\"type\":\"scatter3d\",\"x\":[-642.729736328125,-634.0170664367851],\"y\":[-464.45465087890625,-595.9166007191311],\"z\":[698.658935546875,216.3293333788443]},{\"legendgroup\":\"15\",\"legendgrouptitle\":{\"text\":\"--15--\"},\"line\":{\"color\":\"red\",\"width\":2},\"marker\":{\"color\":\"red\",\"size\":2.3},\"type\":\"scatter3d\",\"x\":[-783.33056640625,-833.9457936308501],\"y\":[-421.66357421875,-606.2349968575511],\"z\":[802.2815551757812,860.3460772016377]},{\"legendgroup\":\"15\",\"legendgrouptitle\":{\"text\":\"--15--\"},\"line\":{\"color\":\"green\",\"width\":2},\"marker\":{\"color\":\"green\",\"size\":2.3},\"type\":\"scatter3d\",\"x\":[-783.33056640625,-589.8786220503434],\"y\":[-421.66357421875,-471.1155323588572],\"z\":[802.2815551757812,813.7204826179998]},{\"legendgroup\":\"15\",\"legendgrouptitle\":{\"text\":\"--15--\"},\"line\":{\"color\":\"blue\",\"width\":2},\"marker\":{\"color\":\"blue\",\"size\":2.3},\"type\":\"scatter3d\",\"x\":[-783.33056640625,-792.831881420946],\"y\":[-421.66357421875,-569.3095566648987],\"z\":[802.2815551757812,324.67252167609644]},{\"legendgroup\":\"16\",\"legendgrouptitle\":{\"text\":\"--16--\"},\"line\":{\"color\":\"red\",\"width\":2},\"marker\":{\"color\":\"red\",\"size\":2.4000000000000004},\"type\":\"scatter3d\",\"x\":[-921.5733032226562,-1023.2495531156104],\"y\":[-335.1495056152344,-496.0786206667042],\"z\":[906.6137084960938,967.9632002336488]},{\"legendgroup\":\"16\",\"legendgrouptitle\":{\"text\":\"--16--\"},\"line\":{\"color\":\"green\",\"width\":2},\"marker\":{\"color\":\"green\",\"size\":2.4000000000000004},\"type\":\"scatter3d\",\"x\":[-921.5733032226562,-749.8617868331492],\"y\":[-335.1495056152344,-435.37703668450075],\"z\":[906.6137084960938,928.283898965383]},{\"legendgroup\":\"16\",\"legendgrouptitle\":{\"text\":\"--16--\"},\"line\":{\"color\":\"blue\",\"width\":2},\"marker\":{\"color\":\"blue\",\"size\":2.4000000000000004},\"type\":\"scatter3d\",\"x\":[-921.5733032226562,-954.8425971475311],\"y\":[-335.1495056152344,-494.3714800822902],\"z\":[906.6137084960938,433.81193509782]},{\"legendgroup\":\"17\",\"legendgrouptitle\":{\"text\":\"--17--\"},\"line\":{\"color\":\"red\",\"width\":2},\"marker\":{\"color\":\"red\",\"size\":2.5},\"type\":\"scatter3d\",\"x\":[-1041.2528076171875,-1188.162195677859],\"y\":[-200.63743591308594,-321.57546309983957],\"z\":[1008.657958984375,1070.2341335961119]},{\"legendgroup\":\"17\",\"legendgrouptitle\":{\"text\":\"--17--\"},\"line\":{\"color\":\"green\",\"width\":2},\"marker\":{\"color\":\"green\",\"size\":2.5},\"type\":\"scatter3d\",\"x\":[-1041.2528076171875,-907.7859084096924],\"y\":[-200.63743591308594,-345.82528270274435],\"z\":[1008.657958984375,1041.930710005579]},{\"legendgroup\":\"17\",\"legendgrouptitle\":{\"text\":\"--17--\"},\"line\":{\"color\":\"blue\",\"width\":2},\"marker\":{\"color\":\"blue\",\"size\":2.5},\"type\":\"scatter3d\",\"x\":[-1041.2528076171875,-1102.704949340208],\"y\":[-200.63743591308594,-364.46819318943506],\"z\":[1008.657958984375,540.2744438518378]},{\"legendgroup\":\"18\",\"legendgrouptitle\":{\"text\":\"--18--\"},\"line\":{\"color\":\"red\",\"width\":2},\"marker\":{\"color\":\"red\",\"size\":2.6},\"type\":\"scatter3d\",\"x\":[-1122.9451904296875,-1302.7096015199625],\"y\":[-22.081636428833008,-87.77999582573578],\"z\":[1106.36865234375,1164.4072780849065]},{\"legendgroup\":\"18\",\"legendgrouptitle\":{\"text\":\"--18--\"},\"line\":{\"color\":\"green\",\"width\":2},\"marker\":{\"color\":\"green\",\"size\":2.6},\"type\":\"scatter3d\",\"x\":[-1122.9451904296875,-1043.352903946023],\"y\":[-22.081636428833008,-199.89732691011562],\"z\":[1106.36865234375,1151.6085479113458]},{\"legendgroup\":\"18\",\"legendgrouptitle\":{\"text\":\"--18--\"},\"line\":{\"color\":\"blue\",\"width\":2},\"marker\":{\"color\":\"blue\",\"size\":2.6},\"type\":\"scatter3d\",\"x\":[-1122.9451904296875,-1214.7950828380654],\"y\":[-22.081636428833008,-181.48101282386682],\"z\":[1106.36865234375,641.4434582862073]},{\"legendgroup\":\"19\",\"legendgrouptitle\":{\"text\":\"--19--\"},\"line\":{\"color\":\"red\",\"width\":2},\"marker\":{\"color\":\"red\",\"size\":2.7},\"type\":\"scatter3d\",\"x\":[-1147.890625,-1341.4335006749793],\"y\":[187.65234375,188.48470049653577],\"z\":[1199.000732421875,1249.4037329050404]},{\"legendgroup\":\"19\",\"legendgrouptitle\":{\"text\":\"--19--\"},\"line\":{\"color\":\"green\",\"width\":2},\"marker\":{\"color\":\"green\",\"size\":2.7},\"type\":\"scatter3d\",\"x\":[-1147.890625,-1134.0845264868574],\"y\":[187.65234375,-3.7991467219791275],\"z\":[1199.000732421875,1255.1765140355126]},{\"legendgroup\":\"19\",\"legendgrouptitle\":{\"text\":\"--19--\"},\"line\":{\"color\":\"blue\",\"width\":2},\"marker\":{\"color\":\"blue\",\"size\":2.7},\"type\":\"scatter3d\",\"x\":[-1147.890625,-1269.096723219749],\"y\":[187.65234375,43.04870491473011],\"z\":[1199.000732421875,735.9684771847874]},{\"legendgroup\":\"20\",\"legendgrouptitle\":{\"text\":\"--20--\"},\"line\":{\"color\":\"red\",\"width\":2},\"marker\":{\"color\":\"red\",\"size\":2.8},\"type\":\"scatter3d\",\"x\":[-1101.6875,-1284.3880889429124],\"y\":[407.6188049316406,479.0770950385912],\"z\":[1287.827880859375,1326.7407010463494]},{\"legendgroup\":\"20\",\"legendgrouptitle\":{\"text\":\"--20--\"},\"line\":{\"color\":\"green\",\"width\":2},\"marker\":{\"color\":\"green\",\"size\":2.8},\"type\":\"scatter3d\",\"x\":[-1101.6875,-1158.5992152299655],\"y\":[407.6188049316406,227.0319980429452],\"z\":[1287.827880859375,1352.2441974827923]},{\"legendgroup\":\"20\",\"legendgrouptitle\":{\"text\":\"--20--\"},\"line\":{\"color\":\"blue\",\"width\":2},\"marker\":{\"color\":\"blue\",\"size\":2.8},\"type\":\"scatter3d\",\"x\":[-1101.6875,-1247.0652723187122],\"y\":[407.6188049316406,288.1900093896967],\"z\":[1287.827880859375,824.5762579684788]},{\"legendgroup\":\"21\",\"legendgrouptitle\":{\"text\":\"--21--\"},\"line\":{\"color\":\"red\",\"width\":2},\"marker\":{\"color\":\"red\",\"size\":2.9000000000000004},\"type\":\"scatter3d\",\"x\":[-977.6549682617188,-1122.1906003373335],\"y\":[609.4679565429688,745.5019259639168],\"z\":[1376.267822265625,1400.8485102967416]},{\"legendgroup\":\"21\",\"legendgrouptitle\":{\"text\":\"--21--\"},\"line\":{\"color\":\"green\",\"width\":2},\"marker\":{\"color\":\"green\",\"size\":2.9000000000000004},\"type\":\"scatter3d\",\"x\":[-977.6549682617188,-1100.2099880673002],\"y\":[609.4679565429688,466.9186858403605],\"z\":[1376.267822265625,1444.5318138175996]},{\"legendgroup\":\"21\",\"legendgrouptitle\":{\"text\":\"--21--\"},\"line\":{\"color\":\"blue\",\"width\":2},\"marker\":{\"color\":\"blue\",\"size\":2.9000000000000004},\"type\":\"scatter3d\",\"x\":[-977.6549682617188,-1137.5322294059335],\"y\":[609.4679565429688,523.7918008119593],\"z\":[1376.267822265625,910.3291377714306]},{\"legendgroup\":\"22\",\"legendgrouptitle\":{\"text\":\"--22--\"},\"line\":{\"color\":\"red\",\"width\":2},\"marker\":{\"color\":\"red\",\"size\":3.0},\"type\":\"scatter3d\",\"x\":[-781.6732788085938,-862.5996619622495],\"y\":[759.8521728515625,942.5127042733515],\"z\":[1469.7734375,1479.0497929469063]},{\"legendgroup\":\"22\",\"legendgrouptitle\":{\"text\":\"--22--\"},\"line\":{\"color\":\"green\",\"width\":2},\"marker\":{\"color\":\"green\",\"size\":3.0},\"type\":\"scatter3d\",\"x\":[-781.6732788085938,-952.8944617719509],\"y\":[759.8521728515625,680.6229248152089],\"z\":[1469.7734375,1536.1513913719184]},{\"legendgroup\":\"22\",\"legendgrouptitle\":{\"text\":\"--22--\"},\"line\":{\"color\":\"blue\",\"width\":2},\"marker\":{\"color\":\"blue\",\"size\":3.0},\"type\":\"scatter3d\",\"x\":[-781.6732788085938,-942.418166252493],\"y\":[759.8521728515625,712.5594331667291],\"z\":[1469.7734375,998.684828070998]}],                        {\"scene\":{\"aspectmode\":\"data\",\"aspectratio\":{\"x\":1,\"y\":1,\"z\":1}},\"template\":{\"data\":{\"bar\":[{\"error_x\":{\"color\":\"#2a3f5f\"},\"error_y\":{\"color\":\"#2a3f5f\"},\"marker\":{\"line\":{\"color\":\"#E5ECF6\",\"width\":0.5},\"pattern\":{\"fillmode\":\"overlay\",\"size\":10,\"solidity\":0.2}},\"type\":\"bar\"}],\"barpolar\":[{\"marker\":{\"line\":{\"color\":\"#E5ECF6\",\"width\":0.5},\"pattern\":{\"fillmode\":\"overlay\",\"size\":10,\"solidity\":0.2}},\"type\":\"barpolar\"}],\"carpet\":[{\"aaxis\":{\"endlinecolor\":\"#2a3f5f\",\"gridcolor\":\"white\",\"linecolor\":\"white\",\"minorgridcolor\":\"white\",\"startlinecolor\":\"#2a3f5f\"},\"baxis\":{\"endlinecolor\":\"#2a3f5f\",\"gridcolor\":\"white\",\"linecolor\":\"white\",\"minorgridcolor\":\"white\",\"startlinecolor\":\"#2a3f5f\"},\"type\":\"carpet\"}],\"choropleth\":[{\"colorbar\":{\"outlinewidth\":0,\"ticks\":\"\"},\"type\":\"choropleth\"}],\"contour\":[{\"colorbar\":{\"outlinewidth\":0,\"ticks\":\"\"},\"colorscale\":[[0.0,\"#0d0887\"],[0.1111111111111111,\"#46039f\"],[0.2222222222222222,\"#7201a8\"],[0.3333333333333333,\"#9c179e\"],[0.4444444444444444,\"#bd3786\"],[0.5555555555555556,\"#d8576b\"],[0.6666666666666666,\"#ed7953\"],[0.7777777777777778,\"#fb9f3a\"],[0.8888888888888888,\"#fdca26\"],[1.0,\"#f0f921\"]],\"type\":\"contour\"}],\"contourcarpet\":[{\"colorbar\":{\"outlinewidth\":0,\"ticks\":\"\"},\"type\":\"contourcarpet\"}],\"heatmap\":[{\"colorbar\":{\"outlinewidth\":0,\"ticks\":\"\"},\"colorscale\":[[0.0,\"#0d0887\"],[0.1111111111111111,\"#46039f\"],[0.2222222222222222,\"#7201a8\"],[0.3333333333333333,\"#9c179e\"],[0.4444444444444444,\"#bd3786\"],[0.5555555555555556,\"#d8576b\"],[0.6666666666666666,\"#ed7953\"],[0.7777777777777778,\"#fb9f3a\"],[0.8888888888888888,\"#fdca26\"],[1.0,\"#f0f921\"]],\"type\":\"heatmap\"}],\"heatmapgl\":[{\"colorbar\":{\"outlinewidth\":0,\"ticks\":\"\"},\"colorscale\":[[0.0,\"#0d0887\"],[0.1111111111111111,\"#46039f\"],[0.2222222222222222,\"#7201a8\"],[0.3333333333333333,\"#9c179e\"],[0.4444444444444444,\"#bd3786\"],[0.5555555555555556,\"#d8576b\"],[0.6666666666666666,\"#ed7953\"],[0.7777777777777778,\"#fb9f3a\"],[0.8888888888888888,\"#fdca26\"],[1.0,\"#f0f921\"]],\"type\":\"heatmapgl\"}],\"histogram\":[{\"marker\":{\"pattern\":{\"fillmode\":\"overlay\",\"size\":10,\"solidity\":0.2}},\"type\":\"histogram\"}],\"histogram2d\":[{\"colorbar\":{\"outlinewidth\":0,\"ticks\":\"\"},\"colorscale\":[[0.0,\"#0d0887\"],[0.1111111111111111,\"#46039f\"],[0.2222222222222222,\"#7201a8\"],[0.3333333333333333,\"#9c179e\"],[0.4444444444444444,\"#bd3786\"],[0.5555555555555556,\"#d8576b\"],[0.6666666666666666,\"#ed7953\"],[0.7777777777777778,\"#fb9f3a\"],[0.8888888888888888,\"#fdca26\"],[1.0,\"#f0f921\"]],\"type\":\"histogram2d\"}],\"histogram2dcontour\":[{\"colorbar\":{\"outlinewidth\":0,\"ticks\":\"\"},\"colorscale\":[[0.0,\"#0d0887\"],[0.1111111111111111,\"#46039f\"],[0.2222222222222222,\"#7201a8\"],[0.3333333333333333,\"#9c179e\"],[0.4444444444444444,\"#bd3786\"],[0.5555555555555556,\"#d8576b\"],[0.6666666666666666,\"#ed7953\"],[0.7777777777777778,\"#fb9f3a\"],[0.8888888888888888,\"#fdca26\"],[1.0,\"#f0f921\"]],\"type\":\"histogram2dcontour\"}],\"mesh3d\":[{\"colorbar\":{\"outlinewidth\":0,\"ticks\":\"\"},\"type\":\"mesh3d\"}],\"parcoords\":[{\"line\":{\"colorbar\":{\"outlinewidth\":0,\"ticks\":\"\"}},\"type\":\"parcoords\"}],\"pie\":[{\"automargin\":true,\"type\":\"pie\"}],\"scatter\":[{\"marker\":{\"colorbar\":{\"outlinewidth\":0,\"ticks\":\"\"}},\"type\":\"scatter\"}],\"scatter3d\":[{\"line\":{\"colorbar\":{\"outlinewidth\":0,\"ticks\":\"\"}},\"marker\":{\"colorbar\":{\"outlinewidth\":0,\"ticks\":\"\"}},\"type\":\"scatter3d\"}],\"scattercarpet\":[{\"marker\":{\"colorbar\":{\"outlinewidth\":0,\"ticks\":\"\"}},\"type\":\"scattercarpet\"}],\"scattergeo\":[{\"marker\":{\"colorbar\":{\"outlinewidth\":0,\"ticks\":\"\"}},\"type\":\"scattergeo\"}],\"scattergl\":[{\"marker\":{\"colorbar\":{\"outlinewidth\":0,\"ticks\":\"\"}},\"type\":\"scattergl\"}],\"scattermapbox\":[{\"marker\":{\"colorbar\":{\"outlinewidth\":0,\"ticks\":\"\"}},\"type\":\"scattermapbox\"}],\"scatterpolar\":[{\"marker\":{\"colorbar\":{\"outlinewidth\":0,\"ticks\":\"\"}},\"type\":\"scatterpolar\"}],\"scatterpolargl\":[{\"marker\":{\"colorbar\":{\"outlinewidth\":0,\"ticks\":\"\"}},\"type\":\"scatterpolargl\"}],\"scatterternary\":[{\"marker\":{\"colorbar\":{\"outlinewidth\":0,\"ticks\":\"\"}},\"type\":\"scatterternary\"}],\"surface\":[{\"colorbar\":{\"outlinewidth\":0,\"ticks\":\"\"},\"colorscale\":[[0.0,\"#0d0887\"],[0.1111111111111111,\"#46039f\"],[0.2222222222222222,\"#7201a8\"],[0.3333333333333333,\"#9c179e\"],[0.4444444444444444,\"#bd3786\"],[0.5555555555555556,\"#d8576b\"],[0.6666666666666666,\"#ed7953\"],[0.7777777777777778,\"#fb9f3a\"],[0.8888888888888888,\"#fdca26\"],[1.0,\"#f0f921\"]],\"type\":\"surface\"}],\"table\":[{\"cells\":{\"fill\":{\"color\":\"#EBF0F8\"},\"line\":{\"color\":\"white\"}},\"header\":{\"fill\":{\"color\":\"#C8D4E3\"},\"line\":{\"color\":\"white\"}},\"type\":\"table\"}]},\"layout\":{\"annotationdefaults\":{\"arrowcolor\":\"#2a3f5f\",\"arrowhead\":0,\"arrowwidth\":1},\"autotypenumbers\":\"strict\",\"coloraxis\":{\"colorbar\":{\"outlinewidth\":0,\"ticks\":\"\"}},\"colorscale\":{\"diverging\":[[0,\"#8e0152\"],[0.1,\"#c51b7d\"],[0.2,\"#de77ae\"],[0.3,\"#f1b6da\"],[0.4,\"#fde0ef\"],[0.5,\"#f7f7f7\"],[0.6,\"#e6f5d0\"],[0.7,\"#b8e186\"],[0.8,\"#7fbc41\"],[0.9,\"#4d9221\"],[1,\"#276419\"]],\"sequential\":[[0.0,\"#0d0887\"],[0.1111111111111111,\"#46039f\"],[0.2222222222222222,\"#7201a8\"],[0.3333333333333333,\"#9c179e\"],[0.4444444444444444,\"#bd3786\"],[0.5555555555555556,\"#d8576b\"],[0.6666666666666666,\"#ed7953\"],[0.7777777777777778,\"#fb9f3a\"],[0.8888888888888888,\"#fdca26\"],[1.0,\"#f0f921\"]],\"sequentialminus\":[[0.0,\"#0d0887\"],[0.1111111111111111,\"#46039f\"],[0.2222222222222222,\"#7201a8\"],[0.3333333333333333,\"#9c179e\"],[0.4444444444444444,\"#bd3786\"],[0.5555555555555556,\"#d8576b\"],[0.6666666666666666,\"#ed7953\"],[0.7777777777777778,\"#fb9f3a\"],[0.8888888888888888,\"#fdca26\"],[1.0,\"#f0f921\"]]},\"colorway\":[\"#636efa\",\"#EF553B\",\"#00cc96\",\"#ab63fa\",\"#FFA15A\",\"#19d3f3\",\"#FF6692\",\"#B6E880\",\"#FF97FF\",\"#FECB52\"],\"font\":{\"color\":\"#2a3f5f\"},\"geo\":{\"bgcolor\":\"white\",\"lakecolor\":\"white\",\"landcolor\":\"#E5ECF6\",\"showlakes\":true,\"showland\":true,\"subunitcolor\":\"white\"},\"hoverlabel\":{\"align\":\"left\"},\"hovermode\":\"closest\",\"mapbox\":{\"style\":\"light\"},\"paper_bgcolor\":\"white\",\"plot_bgcolor\":\"#E5ECF6\",\"polar\":{\"angularaxis\":{\"gridcolor\":\"white\",\"linecolor\":\"white\",\"ticks\":\"\"},\"bgcolor\":\"#E5ECF6\",\"radialaxis\":{\"gridcolor\":\"white\",\"linecolor\":\"white\",\"ticks\":\"\"}},\"scene\":{\"xaxis\":{\"backgroundcolor\":\"#E5ECF6\",\"gridcolor\":\"white\",\"gridwidth\":2,\"linecolor\":\"white\",\"showbackground\":true,\"ticks\":\"\",\"zerolinecolor\":\"white\"},\"yaxis\":{\"backgroundcolor\":\"#E5ECF6\",\"gridcolor\":\"white\",\"gridwidth\":2,\"linecolor\":\"white\",\"showbackground\":true,\"ticks\":\"\",\"zerolinecolor\":\"white\"},\"zaxis\":{\"backgroundcolor\":\"#E5ECF6\",\"gridcolor\":\"white\",\"gridwidth\":2,\"linecolor\":\"white\",\"showbackground\":true,\"ticks\":\"\",\"zerolinecolor\":\"white\"}},\"shapedefaults\":{\"line\":{\"color\":\"#2a3f5f\"}},\"ternary\":{\"aaxis\":{\"gridcolor\":\"white\",\"linecolor\":\"white\",\"ticks\":\"\"},\"baxis\":{\"gridcolor\":\"white\",\"linecolor\":\"white\",\"ticks\":\"\"},\"bgcolor\":\"#E5ECF6\",\"caxis\":{\"gridcolor\":\"white\",\"linecolor\":\"white\",\"ticks\":\"\"}},\"title\":{\"x\":0.05},\"xaxis\":{\"automargin\":true,\"gridcolor\":\"white\",\"linecolor\":\"white\",\"ticks\":\"\",\"title\":{\"standoff\":15},\"zerolinecolor\":\"white\",\"zerolinewidth\":2},\"yaxis\":{\"automargin\":true,\"gridcolor\":\"white\",\"linecolor\":\"white\",\"ticks\":\"\",\"title\":{\"standoff\":15},\"zerolinecolor\":\"white\",\"zerolinewidth\":2}}},\"title\":{\"text\":\"3-RD\"}},                        {\"responsive\": true}                    ).then(function(){\n",
       "                            \n",
       "var gd = document.getElementById('4daae6c9-80d6-4135-a919-f853be529b45');\n",
       "var x = new MutationObserver(function (mutations, observer) {{\n",
       "        var display = window.getComputedStyle(gd).display;\n",
       "        if (!display || display === 'none') {{\n",
       "            console.log([gd, 'removed!']);\n",
       "            Plotly.purge(gd);\n",
       "            observer.disconnect();\n",
       "        }}\n",
       "}});\n",
       "\n",
       "// Listen for the removal of the full notebook cells\n",
       "var notebookContainer = gd.closest('#notebook-container');\n",
       "if (notebookContainer) {{\n",
       "    x.observe(notebookContainer, {childList: true});\n",
       "}}\n",
       "\n",
       "// Listen for the clearing of the current output cell\n",
       "var outputEl = gd.closest('.output');\n",
       "if (outputEl) {{\n",
       "    x.observe(outputEl, {childList: true});\n",
       "}}\n",
       "\n",
       "                        })                };                });            </script>        </div>"
      ]
     },
     "metadata": {},
     "output_type": "display_data"
    },
    {
     "data": {
      "application/vnd.jupyter.widget-view+json": {
       "model_id": "87096cc09ae14c6791f36c841752ab07",
       "version_major": 2,
       "version_minor": 0
      },
      "text/plain": [
       "0it [00:00, ?it/s]"
      ]
     },
     "metadata": {},
     "output_type": "display_data"
    },
    {
     "data": {
      "application/vnd.plotly.v1+json": {
       "config": {
        "plotlyServerURL": "https://plot.ly"
       },
       "data": [
        {
         "legendgroup": "0",
         "legendgrouptitle": {
          "text": "origins"
         },
         "line": {
          "color": "black",
          "width": 2
         },
         "marker": {
          "color": "black",
          "size": 1
         },
         "type": "scatter3d",
         "x": [
          0,
          -13.948466300964355,
          -42.300228118896484,
          -85.67015838623047,
          -144.56112670898438,
          -218.61825561523438,
          -307.5091552734375,
          -409.660888671875,
          -522.1646118164062,
          -640.5357055664062,
          -757.1449584960938,
          -859.7671508789062,
          -932.8696899414062,
          -958.2098999023438,
          -918.0462646484375,
          -799.363525390625,
          -594.9580078125,
          -309.5458679199219,
          35.14218521118164,
          399.9690856933594,
          730.181640625
         ],
         "y": [
          0,
          -4.7598090171813965,
          -13.7987699508667,
          -25.077360153198242,
          -35.38860321044922,
          -40.295372009277344,
          -34.80863952636719,
          -12.575493812561035,
          33.43647766113281,
          110.36347198486328,
          224.3688201904297,
          379.9403991699219,
          578.1915893554688,
          813.7031860351562,
          1072.0701904296875,
          1332.034423828125,
          1565.580810546875,
          1737.3934326171875,
          1811.62109375,
          1760.8612060546875,
          1575.4453125
         ],
         "z": [
          0,
          13.82612419128418,
          41.60531997680664,
          83.07223510742188,
          138.08692932128906,
          206.5814208984375,
          288.13079833984375,
          381.9086608886719,
          486.49365234375,
          600.1904296875,
          720.9007568359375,
          846.3302612304688,
          973.70751953125,
          1099.603271484375,
          1221.333740234375,
          1337.5098876953125,
          1448.1396484375,
          1556.76806640625,
          1671.0164794921875,
          1801.5550537109375,
          1960.996826171875
         ]
        },
        {
         "legendgroup": "1",
         "legendgrouptitle": {
          "text": "finish"
         },
         "line": {
          "color": "black",
          "width": 2
         },
         "marker": {
          "color": "black",
          "size": 1
         },
         "type": "scatter3d",
         "x": [
          0,
          -24.658838790877322,
          -74.3719665129733,
          -149.71626389522885,
          -250.81531237475977,
          -376.48762226416954,
          -524.8634934724898,
          -691.804248119281,
          -870.4521770948919,
          -1050.769958922298,
          -1217.9545109444152,
          -1351.305584342159,
          -1426.298527054771,
          -1416.504638293012,
          -1298.6336005700334,
          -1058.9983224970056,
          -696.9409504858592,
          -232.5901312830426,
          287.9481761045699,
          794.4506080031761,
          1199.580613326693
         ],
         "y": [
          -500,
          -504.6407698556095,
          -512.7309216641349,
          -520.8088445042415,
          -523.5637911384259,
          -513.836815662804,
          -483.42210226298863,
          -422.4874792956981,
          -320.67745942666835,
          -168.29301103852185,
          41.840111693537835,
          312.73607980389403,
          640.6264551245347,
          1011.049854808926,
          1396.3177353646165,
          1758.214368884779,
          2049.9889410173078,
          2219.197894181505,
          2219.0748278769465,
          2022.5796382312724,
          1635.9501385688077
         ],
         "z": [
          0,
          15.90287944341294,
          47.778777934080296,
          95.25385208718154,
          157.96238956721862,
          235.49100782730676,
          326.90002218440924,
          430.56345383864,
          543.9313702002373,
          663.8961738756965,
          786.7629382971849,
          908.5680944755342,
          1024.9897800250235,
          1131.5442340140942,
          1225.4336597181662,
          1306.519138058752,
          1377.7959028887828,
          1447.487347999967,
          1529.3457855769682,
          1640.6582208795858,
          1799.7399799637883
         ]
        },
        {
         "legendgroup": "2",
         "legendgrouptitle": {
          "text": "--2--"
         },
         "line": {
          "color": "red",
          "width": 2
         },
         "marker": {
          "color": "red",
          "size": 1
         },
         "type": "scatter3d",
         "x": [
          0,
          200
         ],
         "y": [
          0,
          0
         ],
         "z": [
          0,
          0
         ]
        },
        {
         "legendgroup": "2",
         "legendgrouptitle": {
          "text": "--2--"
         },
         "line": {
          "color": "green",
          "width": 2
         },
         "marker": {
          "color": "green",
          "size": 1
         },
         "type": "scatter3d",
         "x": [
          0,
          0
         ],
         "y": [
          0,
          200
         ],
         "z": [
          0,
          0
         ]
        },
        {
         "legendgroup": "2",
         "legendgrouptitle": {
          "text": "--2--"
         },
         "line": {
          "color": "blue",
          "width": 2
         },
         "marker": {
          "color": "blue",
          "size": 1
         },
         "type": "scatter3d",
         "x": [
          0,
          0
         ],
         "y": [
          0,
          0
         ],
         "z": [
          0,
          -500
         ]
        },
        {
         "legendgroup": "3",
         "legendgrouptitle": {
          "text": "--3--"
         },
         "line": {
          "color": "red",
          "width": 2
         },
         "marker": {
          "color": "red",
          "size": 1.1
         },
         "type": "scatter3d",
         "x": [
          -13.948466300964355,
          186.00547562330118
         ],
         "y": [
          -4.7598090171813965,
          -9.042840425155386
         ],
         "z": [
          13.82612419128418,
          14.103163729533119
         ]
        },
        {
         "legendgroup": "3",
         "legendgrouptitle": {
          "text": "--3--"
         },
         "line": {
          "color": "green",
          "width": 2
         },
         "marker": {
          "color": "green",
          "size": 1.1
         },
         "type": "scatter3d",
         "x": [
          -13.948466300964355,
          -9.66431730499917
         ],
         "y": [
          -4.7598090171813965,
          195.19257531818985
         ],
         "z": [
          13.82612419128418,
          12.995422090432676
         ]
        },
        {
         "legendgroup": "3",
         "legendgrouptitle": {
          "text": "--3--"
         },
         "line": {
          "color": "blue",
          "width": 2
         },
         "marker": {
          "color": "blue",
          "size": 1.1
         },
         "type": "scatter3d",
         "x": [
          -13.948466300964355,
          -13.300506387971499
         ],
         "y": [
          -4.7598090171813965,
          -6.850921995802134
         ],
         "z": [
          13.82612419128418,
          -486.16908318020836
         ]
        },
        {
         "legendgroup": "4",
         "legendgrouptitle": {
          "text": "--4--"
         },
         "line": {
          "color": "red",
          "width": 2
         },
         "marker": {
          "color": "red",
          "size": 1.2
         },
         "type": "scatter3d",
         "x": [
          -42.300228118896484,
          157.2864634205956
         ],
         "y": [
          -13.7987699508667,
          -26.61697182690761
         ],
         "z": [
          41.60531997680664,
          42.52524442191637
         ]
        },
        {
         "legendgroup": "4",
         "legendgrouptitle": {
          "text": "--4--"
         },
         "line": {
          "color": "green",
          "width": 2
         },
         "marker": {
          "color": "green",
          "size": 1.2
         },
         "type": "scatter3d",
         "x": [
          -42.300228118896484,
          -29.471532761265756
         ],
         "y": [
          -13.7987699508667,
          185.7740907344406
         ],
         "z": [
          41.60531997680664,
          39.13593679389718
         ]
        },
        {
         "legendgroup": "4",
         "legendgrouptitle": {
          "text": "--4--"
         },
         "line": {
          "color": "blue",
          "width": 2
         },
         "marker": {
          "color": "blue",
          "size": 1.2
         },
         "type": "scatter3d",
         "x": [
          -42.300228118896484,
          -40.40099185668326
         ],
         "y": [
          -13.7987699508667,
          -20.106988076848076
         ],
         "z": [
          41.60531997680664,
          -458.3512774251032
         ]
        },
        {
         "legendgroup": "5",
         "legendgrouptitle": {
          "text": "--5--"
         },
         "line": {
          "color": "red",
          "width": 2
         },
         "marker": {
          "color": "red",
          "size": 1.3
         },
         "type": "scatter3d",
         "x": [
          -85.67015838623047,
          112.67726524526137
         ],
         "y": [
          -25.077360153198242,
          -50.6524365282351
         ],
         "z": [
          83.07223510742188,
          85.12528336807233
         ]
        },
        {
         "legendgroup": "5",
         "legendgrouptitle": {
          "text": "--5--"
         },
         "line": {
          "color": "green",
          "width": 2
         },
         "marker": {
          "color": "green",
          "size": 1.3
         },
         "type": "scatter3d",
         "x": [
          -85.67015838623047,
          -60.05171618263111
         ],
         "y": [
          -25.077360153198242,
          173.21523358721907
         ],
         "z": [
          83.07223510742188,
          78.19958831551801
         ]
        },
        {
         "legendgroup": "5",
         "legendgrouptitle": {
          "text": "--5--"
         },
         "line": {
          "color": "blue",
          "width": 2
         },
         "marker": {
          "color": "blue",
          "size": 1.3
         },
         "type": "scatter3d",
         "x": [
          -85.67015838623047,
          -82.13908400089157
         ],
         "y": [
          -25.077360153198242,
          -37.815770598786486
         ],
         "z": [
          83.07223510742188,
          -416.7529987623828
         ]
        },
        {
         "legendgroup": "6",
         "legendgrouptitle": {
          "text": "--6--"
         },
         "line": {
          "color": "red",
          "width": 2
         },
         "marker": {
          "color": "red",
          "size": 1.4
         },
         "type": "scatter3d",
         "x": [
          -144.56112670898438,
          50.85999952343863
         ],
         "y": [
          -35.38860321044922,
          -77.7675377859232
         ],
         "z": [
          138.08692932128906,
          141.90914416337952
         ]
        },
        {
         "legendgroup": "6",
         "legendgrouptitle": {
          "text": "--6--"
         },
         "line": {
          "color": "green",
          "width": 2
         },
         "marker": {
          "color": "green",
          "size": 1.4
         },
         "type": "scatter3d",
         "x": [
          -144.56112670898438,
          -102.05945244267421
         ],
         "y": [
          -35.38860321044922,
          159.88147196074146
         ],
         "z": [
          138.08692932128906,
          130.13674522291723
         ]
        },
        {
         "legendgroup": "6",
         "legendgrouptitle": {
          "text": "--6--"
         },
         "line": {
          "color": "blue",
          "width": 2
         },
         "marker": {
          "color": "blue",
          "size": 1.4
         },
         "type": "scatter3d",
         "x": [
          -144.56112670898438,
          -139.44307861188975
         ],
         "y": [
          -35.38860321044922,
          -56.83965896611556
         ],
         "z": [
          138.08692932128906,
          -361.42649171026153
         ]
        },
        {
         "legendgroup": "7",
         "legendgrouptitle": {
          "text": "--7--"
         },
         "line": {
          "color": "red",
          "width": 2
         },
         "marker": {
          "color": "red",
          "size": 1.5
         },
         "type": "scatter3d",
         "x": [
          -218.61825561523438,
          -28.864909133829144
         ],
         "y": [
          -40.295372009277344,
          -103.16279437488825
         ],
         "z": [
          206.5814208984375,
          213.01218323362517
         ]
        },
        {
         "legendgroup": "7",
         "legendgrouptitle": {
          "text": "--7--"
         },
         "line": {
          "color": "green",
          "width": 2
         },
         "marker": {
          "color": "green",
          "size": 1.5
         },
         "type": "scatter3d",
         "x": [
          -218.61825561523438,
          -155.4705089556603
         ],
         "y": [
          -40.295372009277344,
          149.12120545213332
         ],
         "z": [
          206.5814208984375,
          195.0175861268898
         ]
        },
        {
         "legendgroup": "7",
         "legendgrouptitle": {
          "text": "--7--"
         },
         "line": {
          "color": "blue",
          "width": 2
         },
         "marker": {
          "color": "blue",
          "size": 1.5
         },
         "type": "scatter3d",
         "x": [
          -218.61825561523438,
          -212.47944927460972
         ],
         "y": [
          -40.295372009277344,
          -72.79992821964703
         ],
         "z": [
          206.5814208984375,
          -292.32314801457545
         ]
        },
        {
         "legendgroup": "8",
         "legendgrouptitle": {
          "text": "--8--"
         },
         "line": {
          "color": "red",
          "width": 2
         },
         "marker": {
          "color": "red",
          "size": 1.6
         },
         "type": "scatter3d",
         "x": [
          -307.5091552734375,
          -127.41062969211464
         ],
         "y": [
          -34.80863952636719,
          -121.1926055516271
         ],
         "z": [
          288.13079833984375,
          298.2467015214855
         ]
        },
        {
         "legendgroup": "8",
         "legendgrouptitle": {
          "text": "--8--"
         },
         "line": {
          "color": "green",
          "width": 2
         },
         "marker": {
          "color": "green",
          "size": 1.6
         },
         "type": "scatter3d",
         "x": [
          -307.5091552734375,
          -220.56741999381657
         ],
         "y": [
          -34.80863952636719,
          144.63674556828138
         ],
         "z": [
          288.13079833984375,
          272.62310880201755
         ]
        },
        {
         "legendgroup": "8",
         "legendgrouptitle": {
          "text": "--8--"
         },
         "line": {
          "color": "blue",
          "width": 2
         },
         "marker": {
          "color": "blue",
          "size": 1.6
         },
         "type": "scatter3d",
         "x": [
          -307.5091552734375,
          -301.5637000753872
         ],
         "y": [
          -34.80863952636719,
          -80.71371699471685
         ],
         "z": [
          288.13079833984375,
          -209.72196646629124
         ]
        },
        {
         "legendgroup": "9",
         "legendgrouptitle": {
          "text": "--9--"
         },
         "line": {
          "color": "red",
          "width": 2
         },
         "marker": {
          "color": "red",
          "size": 1.7000000000000002
         },
         "type": "scatter3d",
         "x": [
          -409.660888671875,
          -244.55176830336248
         ],
         "y": [
          -12.575493812561035,
          -124.4299348931667
         ],
         "z": [
          381.9086608886719,
          396.99383180853107
         ]
        },
        {
         "legendgroup": "9",
         "legendgrouptitle": {
          "text": "--9--"
         },
         "line": {
          "color": "green",
          "width": 2
         },
         "marker": {
          "color": "green",
          "size": 1.7000000000000002
         },
         "type": "scatter3d",
         "x": [
          -409.660888671875,
          -296.80354489291256
         ],
         "y": [
          -12.575493812561035,
          151.38930038069378
         ],
         "z": [
          381.9086608886719,
          362.4467437086846
         ]
        },
        {
         "legendgroup": "9",
         "legendgrouptitle": {
          "text": "--9--"
         },
         "line": {
          "color": "blue",
          "width": 2
         },
         "marker": {
          "color": "blue",
          "size": 1.7000000000000002
         },
         "type": "scatter3d",
         "x": [
          -409.660888671875,
          -405.95420021287157
         ],
         "y": [
          -12.575493812561035,
          -74.02314814680471
         ],
         "z": [
          381.9086608886719,
          -114.28731474745433
         ]
        },
        {
         "legendgroup": "10",
         "legendgrouptitle": {
          "text": "--10--"
         },
         "line": {
          "color": "red",
          "width": 2
         },
         "marker": {
          "color": "red",
          "size": 1.8
         },
         "type": "scatter3d",
         "x": [
          -522.1646118164062,
          -378.66907715334673
         ],
         "y": [
          33.43647766113281,
          -104.2130777803996
         ],
         "z": [
          486.49365234375,
          507.9792619118115
         ]
        },
        {
         "legendgroup": "10",
         "legendgrouptitle": {
          "text": "--10--"
         },
         "line": {
          "color": "green",
          "width": 2
         },
         "marker": {
          "color": "green",
          "size": 1.8
         },
         "type": "scatter3d",
         "x": [
          -522.1646118164062,
          -382.84958570501203
         ],
         "y": [
          33.43647766113281,
          175.08205249625328
         ],
         "z": [
          486.49365234375,
          463.51856520115507
         ]
        },
        {
         "legendgroup": "10",
         "legendgrouptitle": {
          "text": "--10--"
         },
         "line": {
          "color": "blue",
          "width": 2
         },
         "marker": {
          "color": "blue",
          "size": 1.8
         },
         "type": "scatter3d",
         "x": [
          -522.1646118164062,
          -523.6542244846265
         ],
         "y": [
          33.43647766113281,
          -45.189655732001555
         ],
         "z": [
          486.49365234375,
          -7.283333958511548
         ]
        },
        {
         "legendgroup": "11",
         "legendgrouptitle": {
          "text": "--11--"
         },
         "line": {
          "color": "red",
          "width": 2
         },
         "marker": {
          "color": "red",
          "size": 1.9
         },
         "type": "scatter3d",
         "x": [
          -640.5357055664062,
          -526.2754438842759
         ],
         "y": [
          110.36347198486328,
          -51.1408532531662
         ],
         "z": [
          600.1904296875,
          629.5323030043129
         ]
        },
        {
         "legendgroup": "11",
         "legendgrouptitle": {
          "text": "--11--"
         },
         "line": {
          "color": "green",
          "width": 2
         },
         "marker": {
          "color": "green",
          "size": 1.9
         },
         "type": "scatter3d",
         "x": [
          -640.5357055664062,
          -476.4420042240496
         ],
         "y": [
          110.36347198486328,
          221.82606519421734
         ],
         "z": [
          600.1904296875,
          574.7081320122214
         ]
        },
        {
         "legendgroup": "11",
         "legendgrouptitle": {
          "text": "--11--"
         },
         "line": {
          "color": "blue",
          "width": 2
         },
         "marker": {
          "color": "blue",
          "size": 1.9
         },
         "type": "scatter3d",
         "x": [
          -640.5357055664062,
          -651.0979555920084
         ],
         "y": [
          110.36347198486328,
          13.783089515942848
         ],
         "z": [
          600.1904296875,
          109.72058495027898
         ]
        },
        {
         "legendgroup": "12",
         "legendgrouptitle": {
          "text": "--12--"
         },
         "line": {
          "color": "red",
          "width": 2
         },
         "marker": {
          "color": "red",
          "size": 2
         },
         "type": "scatter3d",
         "x": [
          -757.1449584960938,
          -680.136964178743
         ],
         "y": [
          224.3688201904297,
          43.850416558224595
         ],
         "z": [
          720.9007568359375,
          759.4088697642431
         ]
        },
        {
         "legendgroup": "12",
         "legendgrouptitle": {
          "text": "--12--"
         },
         "line": {
          "color": "green",
          "width": 2
         },
         "marker": {
          "color": "green",
          "size": 2
         },
         "type": "scatter3d",
         "x": [
          -757.1449584960938,
          -572.8211375167651
         ],
         "y": [
          224.3688201904297,
          297.38030358918644
         ],
         "z": [
          720.9007568359375,
          694.5558842514386
         ]
        },
        {
         "legendgroup": "12",
         "legendgrouptitle": {
          "text": "--12--"
         },
         "line": {
          "color": "blue",
          "width": 2
         },
         "marker": {
          "color": "blue",
          "size": 2
         },
         "type": "scatter3d",
         "x": [
          -757.1449584960938,
          -781.4474571844082
         ],
         "y": [
          224.3688201904297,
          110.2847162913395
         ],
         "z": [
          720.9007568359375,
          234.69688417031784
         ]
        },
        {
         "legendgroup": "13",
         "legendgrouptitle": {
          "text": "--13--"
         },
         "line": {
          "color": "red",
          "width": 2
         },
         "marker": {
          "color": "red",
          "size": 2.1
         },
         "type": "scatter3d",
         "x": [
          -859.7671508789062,
          -827.4591891983799
         ],
         "y": [
          379.9403991699219,
          188.64372438097183
         ],
         "z": [
          846.3302612304688,
          894.9283869838384
         ]
        },
        {
         "legendgroup": "13",
         "legendgrouptitle": {
          "text": "--13--"
         },
         "line": {
          "color": "green",
          "width": 2
         },
         "marker": {
          "color": "green",
          "size": 2.1
         },
         "type": "scatter3d",
         "x": [
          -859.7671508789062,
          -663.1517774936052
         ],
         "y": [
          379.9403991699219,
          406.822126916333
         ],
         "z": [
          846.3302612304688,
          821.4351279324426
         ]
        },
        {
         "legendgroup": "13",
         "legendgrouptitle": {
          "text": "--13--"
         },
         "line": {
          "color": "blue",
          "width": 2
         },
         "marker": {
          "color": "blue",
          "size": 2.1
         },
         "type": "scatter3d",
         "x": [
          -859.7671508789062,
          -902.966583789558
         ],
         "y": [
          379.9403991699219,
          250.44727850181175
         ],
         "z": [
          846.3302612304688,
          365.3257490938024
         ]
        },
        {
         "legendgroup": "14",
         "legendgrouptitle": {
          "text": "--14--"
         },
         "line": {
          "color": "red",
          "width": 2
         },
         "marker": {
          "color": "red",
          "size": 2.2
         },
         "type": "scatter3d",
         "x": [
          -932.8696899414062,
          -950.8215565142428
         ],
         "y": [
          578.1915893554688,
          387.91476252017196
         ],
         "z": [
          973.70751953125,
          1032.6350992884534
         ]
        },
        {
         "legendgroup": "14",
         "legendgrouptitle": {
          "text": "--14--"
         },
         "line": {
          "color": "green",
          "width": 2
         },
         "marker": {
          "color": "green",
          "size": 2.2
         },
         "type": "scatter3d",
         "x": [
          -932.8696899414062,
          -735.4981550960604
         ],
         "y": [
          578.1915893554688,
          553.2176430478423
         ],
         "z": [
          973.70751953125,
          953.1946153337406
         ]
        },
        {
         "legendgroup": "14",
         "legendgrouptitle": {
          "text": "--14--"
         },
         "line": {
          "color": "blue",
          "width": 2
         },
         "marker": {
          "color": "blue",
          "size": 2.2
         },
         "type": "scatter3d",
         "x": [
          -932.8696899414062,
          -1000.0544966010724
         ],
         "y": [
          578.1915893554688,
          437.4118150776477
         ],
         "z": [
          973.70751953125,
          498.66304065754593
         ]
        },
        {
         "legendgroup": "15",
         "legendgrouptitle": {
          "text": "--15--"
         },
         "line": {
          "color": "red",
          "width": 2
         },
         "marker": {
          "color": "red",
          "size": 2.3
         },
         "type": "scatter3d",
         "x": [
          -958.2098999023438,
          -1028.4814752185123
         ],
         "y": [
          813.7031860351562,
          639.4283146946241
         ],
         "z": [
          1099.603271484375,
          1168.0881232533975
         ]
        },
        {
         "legendgroup": "15",
         "legendgrouptitle": {
          "text": "--15--"
         },
         "line": {
          "color": "green",
          "width": 2
         },
         "marker": {
          "color": "green",
          "size": 2.3
         },
         "type": "scatter3d",
         "x": [
          -958.2098999023438,
          -774.8920045460765
         ],
         "y": [
          813.7031860351562,
          734.7645185256483
         ],
         "z": [
          1099.603271484375,
          1086.8268864724873
         ]
        },
        {
         "legendgroup": "15",
         "legendgrouptitle": {
          "text": "--15--"
         },
         "line": {
          "color": "blue",
          "width": 2
         },
         "marker": {
          "color": "blue",
          "size": 2.3
         },
         "type": "scatter3d",
         "x": [
          -958.2098999023438,
          -1053.6187223695517
         ],
         "y": [
          813.7031860351562,
          667.9946586795073
         ],
         "z": [
          1099.603271484375,
          630.9176821483373
         ]
        },
        {
         "legendgroup": "16",
         "legendgrouptitle": {
          "text": "--16--"
         },
         "line": {
          "color": "red",
          "width": 2
         },
         "marker": {
          "color": "red",
          "size": 2.4000000000000004
         },
         "type": "scatter3d",
         "x": [
          -918.0462646484375,
          -1037.5469963621808
         ],
         "y": [
          1072.0701904296875,
          930.8446645977501
         ],
         "z": [
          1221.333740234375,
          1297.3266739412188
         ]
        },
        {
         "legendgroup": "16",
         "legendgrouptitle": {
          "text": "--16--"
         },
         "line": {
          "color": "green",
          "width": 2
         },
         "marker": {
          "color": "green",
          "size": 2.4000000000000004
         },
         "type": "scatter3d",
         "x": [
          -918.0462646484375,
          -765.8113302797991
         ],
         "y": [
          1072.0701904296875,
          942.371172455716
         ],
         "z": [
          1221.333740234375,
          1219.6937724408585
         ]
        },
        {
         "legendgroup": "16",
         "legendgrouptitle": {
          "text": "--16--"
         },
         "line": {
          "color": "blue",
          "width": 2
         },
         "marker": {
          "color": "blue",
          "size": 2.4000000000000004
         },
         "type": "scatter3d",
         "x": [
          -918.0462646484375,
          -1044.1439420075071
         ],
         "y": [
          1072.0701904296875,
          929.9101663793192
         ],
         "z": [
          1221.333740234375,
          758.851412651313
         ]
        },
        {
         "legendgroup": "17",
         "legendgrouptitle": {
          "text": "--17--"
         },
         "line": {
          "color": "red",
          "width": 2
         },
         "marker": {
          "color": "red",
          "size": 2.5
         },
         "type": "scatter3d",
         "x": [
          -799.363525390625,
          -958.4236623264404
         ],
         "y": [
          1332.034423828125,
          1240.9519090882268
         ],
         "z": [
          1337.5098876953125,
          1417.5339362470816
         ]
        },
        {
         "legendgroup": "17",
         "legendgrouptitle": {
          "text": "--17--"
         },
         "line": {
          "color": "green",
          "width": 2
         },
         "marker": {
          "color": "green",
          "size": 2.5
         },
         "type": "scatter3d",
         "x": [
          -799.363525390625,
          -695.5096065480728
         ],
         "y": [
          1332.034423828125,
          1161.5624458054633
         ],
         "z": [
          1337.5098876953125,
          1349.9061875499367
         ]
        },
        {
         "legendgroup": "17",
         "legendgrouptitle": {
          "text": "--17--"
         },
         "line": {
          "color": "blue",
          "width": 2
         },
         "marker": {
          "color": "blue",
          "size": 2.5
         },
         "type": "scatter3d",
         "x": [
          -799.363525390625,
          -955.7731714127822
         ],
         "y": [
          1332.034423828125,
          1203.5023213766024
         ],
         "z": [
          1337.5098876953125,
          880.3277344231021
         ]
        },
        {
         "legendgroup": "18",
         "legendgrouptitle": {
          "text": "--18--"
         },
         "line": {
          "color": "red",
          "width": 2
         },
         "marker": {
          "color": "red",
          "size": 2.6
         },
         "type": "scatter3d",
         "x": [
          -594.9580078125,
          -776.6235969364484
         ],
         "y": [
          1565.580810546875,
          1538.84498246284
         ],
         "z": [
          1448.1396484375,
          1527.403822090606
         ]
        },
        {
         "legendgroup": "18",
         "legendgrouptitle": {
          "text": "--18--"
         },
         "line": {
          "color": "green",
          "width": 2
         },
         "marker": {
          "color": "green",
          "size": 2.6
         },
         "type": "scatter3d",
         "x": [
          -594.9580078125,
          -554.1648307431564
         ],
         "y": [
          1565.580810546875,
          1371.817558358702
         ],
         "z": [
          1448.1396484375,
          1476.2771466569868
         ]
        },
        {
         "legendgroup": "18",
         "legendgrouptitle": {
          "text": "--18--"
         },
         "line": {
          "color": "blue",
          "width": 2
         },
         "marker": {
          "color": "blue",
          "size": 2.6
         },
         "type": "scatter3d",
         "x": [
          -594.9580078125,
          -777.5355672365356
         ],
         "y": [
          1565.580810546875,
          1461.2676522768315
         ],
         "z": [
          1448.1396484375,
          994.5052143316975
         ]
        },
        {
         "legendgroup": "19",
         "legendgrouptitle": {
          "text": "--19--"
         },
         "line": {
          "color": "red",
          "width": 2
         },
         "marker": {
          "color": "red",
          "size": 2.7
         },
         "type": "scatter3d",
         "x": [
          -309.5458679199219,
          -490.20347809043153
         ],
         "y": [
          1737.3934326171875,
          1782.7674741534602
         ],
         "z": [
          1556.76806640625,
          1629.596798663133
         ]
        },
        {
         "legendgroup": "19",
         "legendgrouptitle": {
          "text": "--19--"
         },
         "line": {
          "color": "green",
          "width": 2
         },
         "marker": {
          "color": "green",
          "size": 2.7
         },
         "type": "scatter3d",
         "x": [
          -309.5458679199219,
          -340.32816257467357
         ],
         "y": [
          1737.3934326171875,
          1544.6716479914605
         ],
         "z": [
          1556.76806640625,
          1600.4803537687633
         ]
        },
        {
         "legendgroup": "19",
         "legendgrouptitle": {
          "text": "--19--"
         },
         "line": {
          "color": "blue",
          "width": 2
         },
         "marker": {
          "color": "blue",
          "size": 2.7
         },
         "type": "scatter3d",
         "x": [
          -309.5458679199219,
          -509.78444785752083
         ],
         "y": [
          1737.3934326171875,
          1666.7044091880025
         ],
         "z": [
          1556.76806640625,
          1104.100889474675
         ]
        },
        {
         "legendgroup": "20",
         "legendgrouptitle": {
          "text": "--20--"
         },
         "line": {
          "color": "red",
          "width": 2
         },
         "marker": {
          "color": "red",
          "size": 2.8
         },
         "type": "scatter3d",
         "x": [
          35.14218521118164,
          -116.64458001970581
         ],
         "y": [
          1811.62109375,
          1926.8794376306346
         ],
         "z": [
          1671.0164794921875,
          1731.648913606586
         ]
        },
        {
         "legendgroup": "20",
         "legendgrouptitle": {
          "text": "--20--"
         },
         "line": {
          "color": "green",
          "width": 2
         },
         "marker": {
          "color": "green",
          "size": 2.8
         },
         "type": "scatter3d",
         "x": [
          35.14218521118164,
          -65.98021114617366
         ],
         "y": [
          1811.62109375,
          1648.6396000992213
         ],
         "z": [
          1671.0164794921875,
          1727.6847570582752
         ]
        },
        {
         "legendgroup": "20",
         "legendgrouptitle": {
          "text": "--20--"
         },
         "line": {
          "color": "blue",
          "width": 2
         },
         "marker": {
          "color": "blue",
          "size": 2.8
         },
         "type": "scatter3d",
         "x": [
          35.14218521118164,
          -170.02602101984877
         ],
         "y": [
          1811.62109375,
          1780.743624895811
         ],
         "z": [
          1671.0164794921875,
          1216.0960589029378
         ]
        },
        {
         "legendgroup": "21",
         "legendgrouptitle": {
          "text": "--21--"
         },
         "line": {
          "color": "red",
          "width": 2
         },
         "marker": {
          "color": "red",
          "size": 2.9000000000000004
         },
         "type": "scatter3d",
         "x": [
          399.9690856933594,
          304.77055668629794
         ],
         "y": [
          1760.8612060546875,
          1931.2303644439344
         ],
         "z": [
          1801.5550537109375,
          1845.276786803662
         ]
        },
        {
         "legendgroup": "21",
         "legendgrouptitle": {
          "text": "--21--"
         },
         "line": {
          "color": "green",
          "width": 2
         },
         "marker": {
          "color": "green",
          "size": 2.9000000000000004
         },
         "type": "scatter3d",
         "x": [
          399.9690856933594,
          242.1764767694327
         ],
         "y": [
          1760.8612060546875,
          1656.1738331840536
         ],
         "z": [
          1801.5550537109375,
          1865.9137868434782
         ]
        },
        {
         "legendgroup": "21",
         "legendgrouptitle": {
          "text": "--21--"
         },
         "line": {
          "color": "blue",
          "width": 2
         },
         "marker": {
          "color": "blue",
          "size": 2.9000000000000004
         },
         "type": "scatter3d",
         "x": [
          399.9690856933594,
          205.69587852314112
         ],
         "y": [
          1760.8612060546875,
          1770.5125761596958
         ],
         "z": [
          1801.5550537109375,
          1340.9415801445493
         ]
        },
        {
         "legendgroup": "22",
         "legendgrouptitle": {
          "text": "--22--"
         },
         "line": {
          "color": "red",
          "width": 2
         },
         "marker": {
          "color": "red",
          "size": 3
         },
         "type": "scatter3d",
         "x": [
          730.181640625,
          713.0923722906331
         ],
         "y": [
          1575.4453125,
          1773.2073121575545
         ],
         "z": [
          1960.996826171875,
          1985.453898753062
         ]
        },
        {
         "legendgroup": "22",
         "legendgrouptitle": {
          "text": "--22--"
         },
         "line": {
          "color": "green",
          "width": 2
         },
         "marker": {
          "color": "green",
          "size": 3
         },
         "type": "scatter3d",
         "x": [
          730.181640625,
          542.4220515443228
         ],
         "y": [
          1575.4453125,
          1551.2433820724768
         ],
         "z": [
          1960.996826171875,
          2025.4995646551097
         ]
        },
        {
         "legendgroup": "22",
         "legendgrouptitle": {
          "text": "--22--"
         },
         "line": {
          "color": "blue",
          "width": 2
         },
         "marker": {
          "color": "blue",
          "size": 3
         },
         "type": "scatter3d",
         "x": [
          730.181640625,
          563.3304041887056
         ],
         "y": [
          1575.4453125,
          1619.0671286464813
         ],
         "z": [
          1960.996826171875,
          1491.6805127373616
         ]
        }
       ],
       "layout": {
        "scene": {
         "aspectmode": "data",
         "aspectratio": {
          "x": 1,
          "y": 1,
          "z": 1
         }
        },
        "template": {
         "data": {
          "bar": [
           {
            "error_x": {
             "color": "#2a3f5f"
            },
            "error_y": {
             "color": "#2a3f5f"
            },
            "marker": {
             "line": {
              "color": "#E5ECF6",
              "width": 0.5
             },
             "pattern": {
              "fillmode": "overlay",
              "size": 10,
              "solidity": 0.2
             }
            },
            "type": "bar"
           }
          ],
          "barpolar": [
           {
            "marker": {
             "line": {
              "color": "#E5ECF6",
              "width": 0.5
             },
             "pattern": {
              "fillmode": "overlay",
              "size": 10,
              "solidity": 0.2
             }
            },
            "type": "barpolar"
           }
          ],
          "carpet": [
           {
            "aaxis": {
             "endlinecolor": "#2a3f5f",
             "gridcolor": "white",
             "linecolor": "white",
             "minorgridcolor": "white",
             "startlinecolor": "#2a3f5f"
            },
            "baxis": {
             "endlinecolor": "#2a3f5f",
             "gridcolor": "white",
             "linecolor": "white",
             "minorgridcolor": "white",
             "startlinecolor": "#2a3f5f"
            },
            "type": "carpet"
           }
          ],
          "choropleth": [
           {
            "colorbar": {
             "outlinewidth": 0,
             "ticks": ""
            },
            "type": "choropleth"
           }
          ],
          "contour": [
           {
            "colorbar": {
             "outlinewidth": 0,
             "ticks": ""
            },
            "colorscale": [
             [
              0,
              "#0d0887"
             ],
             [
              0.1111111111111111,
              "#46039f"
             ],
             [
              0.2222222222222222,
              "#7201a8"
             ],
             [
              0.3333333333333333,
              "#9c179e"
             ],
             [
              0.4444444444444444,
              "#bd3786"
             ],
             [
              0.5555555555555556,
              "#d8576b"
             ],
             [
              0.6666666666666666,
              "#ed7953"
             ],
             [
              0.7777777777777778,
              "#fb9f3a"
             ],
             [
              0.8888888888888888,
              "#fdca26"
             ],
             [
              1,
              "#f0f921"
             ]
            ],
            "type": "contour"
           }
          ],
          "contourcarpet": [
           {
            "colorbar": {
             "outlinewidth": 0,
             "ticks": ""
            },
            "type": "contourcarpet"
           }
          ],
          "heatmap": [
           {
            "colorbar": {
             "outlinewidth": 0,
             "ticks": ""
            },
            "colorscale": [
             [
              0,
              "#0d0887"
             ],
             [
              0.1111111111111111,
              "#46039f"
             ],
             [
              0.2222222222222222,
              "#7201a8"
             ],
             [
              0.3333333333333333,
              "#9c179e"
             ],
             [
              0.4444444444444444,
              "#bd3786"
             ],
             [
              0.5555555555555556,
              "#d8576b"
             ],
             [
              0.6666666666666666,
              "#ed7953"
             ],
             [
              0.7777777777777778,
              "#fb9f3a"
             ],
             [
              0.8888888888888888,
              "#fdca26"
             ],
             [
              1,
              "#f0f921"
             ]
            ],
            "type": "heatmap"
           }
          ],
          "heatmapgl": [
           {
            "colorbar": {
             "outlinewidth": 0,
             "ticks": ""
            },
            "colorscale": [
             [
              0,
              "#0d0887"
             ],
             [
              0.1111111111111111,
              "#46039f"
             ],
             [
              0.2222222222222222,
              "#7201a8"
             ],
             [
              0.3333333333333333,
              "#9c179e"
             ],
             [
              0.4444444444444444,
              "#bd3786"
             ],
             [
              0.5555555555555556,
              "#d8576b"
             ],
             [
              0.6666666666666666,
              "#ed7953"
             ],
             [
              0.7777777777777778,
              "#fb9f3a"
             ],
             [
              0.8888888888888888,
              "#fdca26"
             ],
             [
              1,
              "#f0f921"
             ]
            ],
            "type": "heatmapgl"
           }
          ],
          "histogram": [
           {
            "marker": {
             "pattern": {
              "fillmode": "overlay",
              "size": 10,
              "solidity": 0.2
             }
            },
            "type": "histogram"
           }
          ],
          "histogram2d": [
           {
            "colorbar": {
             "outlinewidth": 0,
             "ticks": ""
            },
            "colorscale": [
             [
              0,
              "#0d0887"
             ],
             [
              0.1111111111111111,
              "#46039f"
             ],
             [
              0.2222222222222222,
              "#7201a8"
             ],
             [
              0.3333333333333333,
              "#9c179e"
             ],
             [
              0.4444444444444444,
              "#bd3786"
             ],
             [
              0.5555555555555556,
              "#d8576b"
             ],
             [
              0.6666666666666666,
              "#ed7953"
             ],
             [
              0.7777777777777778,
              "#fb9f3a"
             ],
             [
              0.8888888888888888,
              "#fdca26"
             ],
             [
              1,
              "#f0f921"
             ]
            ],
            "type": "histogram2d"
           }
          ],
          "histogram2dcontour": [
           {
            "colorbar": {
             "outlinewidth": 0,
             "ticks": ""
            },
            "colorscale": [
             [
              0,
              "#0d0887"
             ],
             [
              0.1111111111111111,
              "#46039f"
             ],
             [
              0.2222222222222222,
              "#7201a8"
             ],
             [
              0.3333333333333333,
              "#9c179e"
             ],
             [
              0.4444444444444444,
              "#bd3786"
             ],
             [
              0.5555555555555556,
              "#d8576b"
             ],
             [
              0.6666666666666666,
              "#ed7953"
             ],
             [
              0.7777777777777778,
              "#fb9f3a"
             ],
             [
              0.8888888888888888,
              "#fdca26"
             ],
             [
              1,
              "#f0f921"
             ]
            ],
            "type": "histogram2dcontour"
           }
          ],
          "mesh3d": [
           {
            "colorbar": {
             "outlinewidth": 0,
             "ticks": ""
            },
            "type": "mesh3d"
           }
          ],
          "parcoords": [
           {
            "line": {
             "colorbar": {
              "outlinewidth": 0,
              "ticks": ""
             }
            },
            "type": "parcoords"
           }
          ],
          "pie": [
           {
            "automargin": true,
            "type": "pie"
           }
          ],
          "scatter": [
           {
            "marker": {
             "colorbar": {
              "outlinewidth": 0,
              "ticks": ""
             }
            },
            "type": "scatter"
           }
          ],
          "scatter3d": [
           {
            "line": {
             "colorbar": {
              "outlinewidth": 0,
              "ticks": ""
             }
            },
            "marker": {
             "colorbar": {
              "outlinewidth": 0,
              "ticks": ""
             }
            },
            "type": "scatter3d"
           }
          ],
          "scattercarpet": [
           {
            "marker": {
             "colorbar": {
              "outlinewidth": 0,
              "ticks": ""
             }
            },
            "type": "scattercarpet"
           }
          ],
          "scattergeo": [
           {
            "marker": {
             "colorbar": {
              "outlinewidth": 0,
              "ticks": ""
             }
            },
            "type": "scattergeo"
           }
          ],
          "scattergl": [
           {
            "marker": {
             "colorbar": {
              "outlinewidth": 0,
              "ticks": ""
             }
            },
            "type": "scattergl"
           }
          ],
          "scattermapbox": [
           {
            "marker": {
             "colorbar": {
              "outlinewidth": 0,
              "ticks": ""
             }
            },
            "type": "scattermapbox"
           }
          ],
          "scatterpolar": [
           {
            "marker": {
             "colorbar": {
              "outlinewidth": 0,
              "ticks": ""
             }
            },
            "type": "scatterpolar"
           }
          ],
          "scatterpolargl": [
           {
            "marker": {
             "colorbar": {
              "outlinewidth": 0,
              "ticks": ""
             }
            },
            "type": "scatterpolargl"
           }
          ],
          "scatterternary": [
           {
            "marker": {
             "colorbar": {
              "outlinewidth": 0,
              "ticks": ""
             }
            },
            "type": "scatterternary"
           }
          ],
          "surface": [
           {
            "colorbar": {
             "outlinewidth": 0,
             "ticks": ""
            },
            "colorscale": [
             [
              0,
              "#0d0887"
             ],
             [
              0.1111111111111111,
              "#46039f"
             ],
             [
              0.2222222222222222,
              "#7201a8"
             ],
             [
              0.3333333333333333,
              "#9c179e"
             ],
             [
              0.4444444444444444,
              "#bd3786"
             ],
             [
              0.5555555555555556,
              "#d8576b"
             ],
             [
              0.6666666666666666,
              "#ed7953"
             ],
             [
              0.7777777777777778,
              "#fb9f3a"
             ],
             [
              0.8888888888888888,
              "#fdca26"
             ],
             [
              1,
              "#f0f921"
             ]
            ],
            "type": "surface"
           }
          ],
          "table": [
           {
            "cells": {
             "fill": {
              "color": "#EBF0F8"
             },
             "line": {
              "color": "white"
             }
            },
            "header": {
             "fill": {
              "color": "#C8D4E3"
             },
             "line": {
              "color": "white"
             }
            },
            "type": "table"
           }
          ]
         },
         "layout": {
          "annotationdefaults": {
           "arrowcolor": "#2a3f5f",
           "arrowhead": 0,
           "arrowwidth": 1
          },
          "autotypenumbers": "strict",
          "coloraxis": {
           "colorbar": {
            "outlinewidth": 0,
            "ticks": ""
           }
          },
          "colorscale": {
           "diverging": [
            [
             0,
             "#8e0152"
            ],
            [
             0.1,
             "#c51b7d"
            ],
            [
             0.2,
             "#de77ae"
            ],
            [
             0.3,
             "#f1b6da"
            ],
            [
             0.4,
             "#fde0ef"
            ],
            [
             0.5,
             "#f7f7f7"
            ],
            [
             0.6,
             "#e6f5d0"
            ],
            [
             0.7,
             "#b8e186"
            ],
            [
             0.8,
             "#7fbc41"
            ],
            [
             0.9,
             "#4d9221"
            ],
            [
             1,
             "#276419"
            ]
           ],
           "sequential": [
            [
             0,
             "#0d0887"
            ],
            [
             0.1111111111111111,
             "#46039f"
            ],
            [
             0.2222222222222222,
             "#7201a8"
            ],
            [
             0.3333333333333333,
             "#9c179e"
            ],
            [
             0.4444444444444444,
             "#bd3786"
            ],
            [
             0.5555555555555556,
             "#d8576b"
            ],
            [
             0.6666666666666666,
             "#ed7953"
            ],
            [
             0.7777777777777778,
             "#fb9f3a"
            ],
            [
             0.8888888888888888,
             "#fdca26"
            ],
            [
             1,
             "#f0f921"
            ]
           ],
           "sequentialminus": [
            [
             0,
             "#0d0887"
            ],
            [
             0.1111111111111111,
             "#46039f"
            ],
            [
             0.2222222222222222,
             "#7201a8"
            ],
            [
             0.3333333333333333,
             "#9c179e"
            ],
            [
             0.4444444444444444,
             "#bd3786"
            ],
            [
             0.5555555555555556,
             "#d8576b"
            ],
            [
             0.6666666666666666,
             "#ed7953"
            ],
            [
             0.7777777777777778,
             "#fb9f3a"
            ],
            [
             0.8888888888888888,
             "#fdca26"
            ],
            [
             1,
             "#f0f921"
            ]
           ]
          },
          "colorway": [
           "#636efa",
           "#EF553B",
           "#00cc96",
           "#ab63fa",
           "#FFA15A",
           "#19d3f3",
           "#FF6692",
           "#B6E880",
           "#FF97FF",
           "#FECB52"
          ],
          "font": {
           "color": "#2a3f5f"
          },
          "geo": {
           "bgcolor": "white",
           "lakecolor": "white",
           "landcolor": "#E5ECF6",
           "showlakes": true,
           "showland": true,
           "subunitcolor": "white"
          },
          "hoverlabel": {
           "align": "left"
          },
          "hovermode": "closest",
          "mapbox": {
           "style": "light"
          },
          "paper_bgcolor": "white",
          "plot_bgcolor": "#E5ECF6",
          "polar": {
           "angularaxis": {
            "gridcolor": "white",
            "linecolor": "white",
            "ticks": ""
           },
           "bgcolor": "#E5ECF6",
           "radialaxis": {
            "gridcolor": "white",
            "linecolor": "white",
            "ticks": ""
           }
          },
          "scene": {
           "xaxis": {
            "backgroundcolor": "#E5ECF6",
            "gridcolor": "white",
            "gridwidth": 2,
            "linecolor": "white",
            "showbackground": true,
            "ticks": "",
            "zerolinecolor": "white"
           },
           "yaxis": {
            "backgroundcolor": "#E5ECF6",
            "gridcolor": "white",
            "gridwidth": 2,
            "linecolor": "white",
            "showbackground": true,
            "ticks": "",
            "zerolinecolor": "white"
           },
           "zaxis": {
            "backgroundcolor": "#E5ECF6",
            "gridcolor": "white",
            "gridwidth": 2,
            "linecolor": "white",
            "showbackground": true,
            "ticks": "",
            "zerolinecolor": "white"
           }
          },
          "shapedefaults": {
           "line": {
            "color": "#2a3f5f"
           }
          },
          "ternary": {
           "aaxis": {
            "gridcolor": "white",
            "linecolor": "white",
            "ticks": ""
           },
           "baxis": {
            "gridcolor": "white",
            "linecolor": "white",
            "ticks": ""
           },
           "bgcolor": "#E5ECF6",
           "caxis": {
            "gridcolor": "white",
            "linecolor": "white",
            "ticks": ""
           }
          },
          "title": {
           "x": 0.05
          },
          "xaxis": {
           "automargin": true,
           "gridcolor": "white",
           "linecolor": "white",
           "ticks": "",
           "title": {
            "standoff": 15
           },
           "zerolinecolor": "white",
           "zerolinewidth": 2
          },
          "yaxis": {
           "automargin": true,
           "gridcolor": "white",
           "linecolor": "white",
           "ticks": "",
           "title": {
            "standoff": 15
           },
           "zerolinecolor": "white",
           "zerolinewidth": 2
          }
         }
        },
        "title": {
         "text": "4-SD"
        }
       }
      },
      "text/html": [
       "<div>                            <div id=\"6b4cf490-fe14-4b6a-816d-88f3d62e7906\" class=\"plotly-graph-div\" style=\"height:525px; width:100%;\"></div>            <script type=\"text/javascript\">                require([\"plotly\"], function(Plotly) {                    window.PLOTLYENV=window.PLOTLYENV || {};                                    if (document.getElementById(\"6b4cf490-fe14-4b6a-816d-88f3d62e7906\")) {                    Plotly.newPlot(                        \"6b4cf490-fe14-4b6a-816d-88f3d62e7906\",                        [{\"legendgroup\":\"0\",\"legendgrouptitle\":{\"text\":\"origins\"},\"line\":{\"color\":\"black\",\"width\":2},\"marker\":{\"color\":\"black\",\"size\":1},\"type\":\"scatter3d\",\"x\":[0.0,-13.948466300964355,-42.300228118896484,-85.67015838623047,-144.56112670898438,-218.61825561523438,-307.5091552734375,-409.660888671875,-522.1646118164062,-640.5357055664062,-757.1449584960938,-859.7671508789062,-932.8696899414062,-958.2098999023438,-918.0462646484375,-799.363525390625,-594.9580078125,-309.5458679199219,35.14218521118164,399.9690856933594,730.181640625],\"y\":[0.0,-4.7598090171813965,-13.7987699508667,-25.077360153198242,-35.38860321044922,-40.295372009277344,-34.80863952636719,-12.575493812561035,33.43647766113281,110.36347198486328,224.3688201904297,379.9403991699219,578.1915893554688,813.7031860351562,1072.0701904296875,1332.034423828125,1565.580810546875,1737.3934326171875,1811.62109375,1760.8612060546875,1575.4453125],\"z\":[0.0,13.82612419128418,41.60531997680664,83.07223510742188,138.08692932128906,206.5814208984375,288.13079833984375,381.9086608886719,486.49365234375,600.1904296875,720.9007568359375,846.3302612304688,973.70751953125,1099.603271484375,1221.333740234375,1337.5098876953125,1448.1396484375,1556.76806640625,1671.0164794921875,1801.5550537109375,1960.996826171875]},{\"legendgroup\":\"1\",\"legendgrouptitle\":{\"text\":\"finish\"},\"line\":{\"color\":\"black\",\"width\":2},\"marker\":{\"color\":\"black\",\"size\":1},\"type\":\"scatter3d\",\"x\":[0.0,-24.658838790877322,-74.3719665129733,-149.71626389522885,-250.81531237475977,-376.48762226416954,-524.8634934724898,-691.804248119281,-870.4521770948919,-1050.769958922298,-1217.9545109444152,-1351.305584342159,-1426.298527054771,-1416.504638293012,-1298.6336005700334,-1058.9983224970056,-696.9409504858592,-232.5901312830426,287.9481761045699,794.4506080031761,1199.580613326693],\"y\":[-500.0,-504.6407698556095,-512.7309216641349,-520.8088445042415,-523.5637911384259,-513.836815662804,-483.42210226298863,-422.4874792956981,-320.67745942666835,-168.29301103852185,41.840111693537835,312.73607980389403,640.6264551245347,1011.049854808926,1396.3177353646165,1758.214368884779,2049.9889410173078,2219.197894181505,2219.0748278769465,2022.5796382312724,1635.9501385688077],\"z\":[0.0,15.90287944341294,47.778777934080296,95.25385208718154,157.96238956721862,235.49100782730676,326.90002218440924,430.56345383864,543.9313702002373,663.8961738756965,786.7629382971849,908.5680944755342,1024.9897800250235,1131.5442340140942,1225.4336597181662,1306.519138058752,1377.7959028887828,1447.487347999967,1529.3457855769682,1640.6582208795858,1799.7399799637883]},{\"legendgroup\":\"2\",\"legendgrouptitle\":{\"text\":\"--2--\"},\"line\":{\"color\":\"red\",\"width\":2},\"marker\":{\"color\":\"red\",\"size\":1.0},\"type\":\"scatter3d\",\"x\":[0.0,200.0],\"y\":[0.0,0.0],\"z\":[0.0,0.0]},{\"legendgroup\":\"2\",\"legendgrouptitle\":{\"text\":\"--2--\"},\"line\":{\"color\":\"green\",\"width\":2},\"marker\":{\"color\":\"green\",\"size\":1.0},\"type\":\"scatter3d\",\"x\":[0.0,0.0],\"y\":[0.0,200.0],\"z\":[0.0,0.0]},{\"legendgroup\":\"2\",\"legendgrouptitle\":{\"text\":\"--2--\"},\"line\":{\"color\":\"blue\",\"width\":2},\"marker\":{\"color\":\"blue\",\"size\":1.0},\"type\":\"scatter3d\",\"x\":[0.0,0.0],\"y\":[0.0,0.0],\"z\":[0.0,-500.0]},{\"legendgroup\":\"3\",\"legendgrouptitle\":{\"text\":\"--3--\"},\"line\":{\"color\":\"red\",\"width\":2},\"marker\":{\"color\":\"red\",\"size\":1.1},\"type\":\"scatter3d\",\"x\":[-13.948466300964355,186.00547562330118],\"y\":[-4.7598090171813965,-9.042840425155386],\"z\":[13.82612419128418,14.103163729533119]},{\"legendgroup\":\"3\",\"legendgrouptitle\":{\"text\":\"--3--\"},\"line\":{\"color\":\"green\",\"width\":2},\"marker\":{\"color\":\"green\",\"size\":1.1},\"type\":\"scatter3d\",\"x\":[-13.948466300964355,-9.66431730499917],\"y\":[-4.7598090171813965,195.19257531818985],\"z\":[13.82612419128418,12.995422090432676]},{\"legendgroup\":\"3\",\"legendgrouptitle\":{\"text\":\"--3--\"},\"line\":{\"color\":\"blue\",\"width\":2},\"marker\":{\"color\":\"blue\",\"size\":1.1},\"type\":\"scatter3d\",\"x\":[-13.948466300964355,-13.300506387971499],\"y\":[-4.7598090171813965,-6.850921995802134],\"z\":[13.82612419128418,-486.16908318020836]},{\"legendgroup\":\"4\",\"legendgrouptitle\":{\"text\":\"--4--\"},\"line\":{\"color\":\"red\",\"width\":2},\"marker\":{\"color\":\"red\",\"size\":1.2},\"type\":\"scatter3d\",\"x\":[-42.300228118896484,157.2864634205956],\"y\":[-13.7987699508667,-26.61697182690761],\"z\":[41.60531997680664,42.52524442191637]},{\"legendgroup\":\"4\",\"legendgrouptitle\":{\"text\":\"--4--\"},\"line\":{\"color\":\"green\",\"width\":2},\"marker\":{\"color\":\"green\",\"size\":1.2},\"type\":\"scatter3d\",\"x\":[-42.300228118896484,-29.471532761265756],\"y\":[-13.7987699508667,185.7740907344406],\"z\":[41.60531997680664,39.13593679389718]},{\"legendgroup\":\"4\",\"legendgrouptitle\":{\"text\":\"--4--\"},\"line\":{\"color\":\"blue\",\"width\":2},\"marker\":{\"color\":\"blue\",\"size\":1.2},\"type\":\"scatter3d\",\"x\":[-42.300228118896484,-40.40099185668326],\"y\":[-13.7987699508667,-20.106988076848076],\"z\":[41.60531997680664,-458.3512774251032]},{\"legendgroup\":\"5\",\"legendgrouptitle\":{\"text\":\"--5--\"},\"line\":{\"color\":\"red\",\"width\":2},\"marker\":{\"color\":\"red\",\"size\":1.3},\"type\":\"scatter3d\",\"x\":[-85.67015838623047,112.67726524526137],\"y\":[-25.077360153198242,-50.6524365282351],\"z\":[83.07223510742188,85.12528336807233]},{\"legendgroup\":\"5\",\"legendgrouptitle\":{\"text\":\"--5--\"},\"line\":{\"color\":\"green\",\"width\":2},\"marker\":{\"color\":\"green\",\"size\":1.3},\"type\":\"scatter3d\",\"x\":[-85.67015838623047,-60.05171618263111],\"y\":[-25.077360153198242,173.21523358721907],\"z\":[83.07223510742188,78.19958831551801]},{\"legendgroup\":\"5\",\"legendgrouptitle\":{\"text\":\"--5--\"},\"line\":{\"color\":\"blue\",\"width\":2},\"marker\":{\"color\":\"blue\",\"size\":1.3},\"type\":\"scatter3d\",\"x\":[-85.67015838623047,-82.13908400089157],\"y\":[-25.077360153198242,-37.815770598786486],\"z\":[83.07223510742188,-416.7529987623828]},{\"legendgroup\":\"6\",\"legendgrouptitle\":{\"text\":\"--6--\"},\"line\":{\"color\":\"red\",\"width\":2},\"marker\":{\"color\":\"red\",\"size\":1.4},\"type\":\"scatter3d\",\"x\":[-144.56112670898438,50.85999952343863],\"y\":[-35.38860321044922,-77.7675377859232],\"z\":[138.08692932128906,141.90914416337952]},{\"legendgroup\":\"6\",\"legendgrouptitle\":{\"text\":\"--6--\"},\"line\":{\"color\":\"green\",\"width\":2},\"marker\":{\"color\":\"green\",\"size\":1.4},\"type\":\"scatter3d\",\"x\":[-144.56112670898438,-102.05945244267421],\"y\":[-35.38860321044922,159.88147196074146],\"z\":[138.08692932128906,130.13674522291723]},{\"legendgroup\":\"6\",\"legendgrouptitle\":{\"text\":\"--6--\"},\"line\":{\"color\":\"blue\",\"width\":2},\"marker\":{\"color\":\"blue\",\"size\":1.4},\"type\":\"scatter3d\",\"x\":[-144.56112670898438,-139.44307861188975],\"y\":[-35.38860321044922,-56.83965896611556],\"z\":[138.08692932128906,-361.42649171026153]},{\"legendgroup\":\"7\",\"legendgrouptitle\":{\"text\":\"--7--\"},\"line\":{\"color\":\"red\",\"width\":2},\"marker\":{\"color\":\"red\",\"size\":1.5},\"type\":\"scatter3d\",\"x\":[-218.61825561523438,-28.864909133829144],\"y\":[-40.295372009277344,-103.16279437488825],\"z\":[206.5814208984375,213.01218323362517]},{\"legendgroup\":\"7\",\"legendgrouptitle\":{\"text\":\"--7--\"},\"line\":{\"color\":\"green\",\"width\":2},\"marker\":{\"color\":\"green\",\"size\":1.5},\"type\":\"scatter3d\",\"x\":[-218.61825561523438,-155.4705089556603],\"y\":[-40.295372009277344,149.12120545213332],\"z\":[206.5814208984375,195.0175861268898]},{\"legendgroup\":\"7\",\"legendgrouptitle\":{\"text\":\"--7--\"},\"line\":{\"color\":\"blue\",\"width\":2},\"marker\":{\"color\":\"blue\",\"size\":1.5},\"type\":\"scatter3d\",\"x\":[-218.61825561523438,-212.47944927460972],\"y\":[-40.295372009277344,-72.79992821964703],\"z\":[206.5814208984375,-292.32314801457545]},{\"legendgroup\":\"8\",\"legendgrouptitle\":{\"text\":\"--8--\"},\"line\":{\"color\":\"red\",\"width\":2},\"marker\":{\"color\":\"red\",\"size\":1.6},\"type\":\"scatter3d\",\"x\":[-307.5091552734375,-127.41062969211464],\"y\":[-34.80863952636719,-121.1926055516271],\"z\":[288.13079833984375,298.2467015214855]},{\"legendgroup\":\"8\",\"legendgrouptitle\":{\"text\":\"--8--\"},\"line\":{\"color\":\"green\",\"width\":2},\"marker\":{\"color\":\"green\",\"size\":1.6},\"type\":\"scatter3d\",\"x\":[-307.5091552734375,-220.56741999381657],\"y\":[-34.80863952636719,144.63674556828138],\"z\":[288.13079833984375,272.62310880201755]},{\"legendgroup\":\"8\",\"legendgrouptitle\":{\"text\":\"--8--\"},\"line\":{\"color\":\"blue\",\"width\":2},\"marker\":{\"color\":\"blue\",\"size\":1.6},\"type\":\"scatter3d\",\"x\":[-307.5091552734375,-301.5637000753872],\"y\":[-34.80863952636719,-80.71371699471685],\"z\":[288.13079833984375,-209.72196646629124]},{\"legendgroup\":\"9\",\"legendgrouptitle\":{\"text\":\"--9--\"},\"line\":{\"color\":\"red\",\"width\":2},\"marker\":{\"color\":\"red\",\"size\":1.7000000000000002},\"type\":\"scatter3d\",\"x\":[-409.660888671875,-244.55176830336248],\"y\":[-12.575493812561035,-124.4299348931667],\"z\":[381.9086608886719,396.99383180853107]},{\"legendgroup\":\"9\",\"legendgrouptitle\":{\"text\":\"--9--\"},\"line\":{\"color\":\"green\",\"width\":2},\"marker\":{\"color\":\"green\",\"size\":1.7000000000000002},\"type\":\"scatter3d\",\"x\":[-409.660888671875,-296.80354489291256],\"y\":[-12.575493812561035,151.38930038069378],\"z\":[381.9086608886719,362.4467437086846]},{\"legendgroup\":\"9\",\"legendgrouptitle\":{\"text\":\"--9--\"},\"line\":{\"color\":\"blue\",\"width\":2},\"marker\":{\"color\":\"blue\",\"size\":1.7000000000000002},\"type\":\"scatter3d\",\"x\":[-409.660888671875,-405.95420021287157],\"y\":[-12.575493812561035,-74.02314814680471],\"z\":[381.9086608886719,-114.28731474745433]},{\"legendgroup\":\"10\",\"legendgrouptitle\":{\"text\":\"--10--\"},\"line\":{\"color\":\"red\",\"width\":2},\"marker\":{\"color\":\"red\",\"size\":1.8},\"type\":\"scatter3d\",\"x\":[-522.1646118164062,-378.66907715334673],\"y\":[33.43647766113281,-104.2130777803996],\"z\":[486.49365234375,507.9792619118115]},{\"legendgroup\":\"10\",\"legendgrouptitle\":{\"text\":\"--10--\"},\"line\":{\"color\":\"green\",\"width\":2},\"marker\":{\"color\":\"green\",\"size\":1.8},\"type\":\"scatter3d\",\"x\":[-522.1646118164062,-382.84958570501203],\"y\":[33.43647766113281,175.08205249625328],\"z\":[486.49365234375,463.51856520115507]},{\"legendgroup\":\"10\",\"legendgrouptitle\":{\"text\":\"--10--\"},\"line\":{\"color\":\"blue\",\"width\":2},\"marker\":{\"color\":\"blue\",\"size\":1.8},\"type\":\"scatter3d\",\"x\":[-522.1646118164062,-523.6542244846265],\"y\":[33.43647766113281,-45.189655732001555],\"z\":[486.49365234375,-7.283333958511548]},{\"legendgroup\":\"11\",\"legendgrouptitle\":{\"text\":\"--11--\"},\"line\":{\"color\":\"red\",\"width\":2},\"marker\":{\"color\":\"red\",\"size\":1.9},\"type\":\"scatter3d\",\"x\":[-640.5357055664062,-526.2754438842759],\"y\":[110.36347198486328,-51.1408532531662],\"z\":[600.1904296875,629.5323030043129]},{\"legendgroup\":\"11\",\"legendgrouptitle\":{\"text\":\"--11--\"},\"line\":{\"color\":\"green\",\"width\":2},\"marker\":{\"color\":\"green\",\"size\":1.9},\"type\":\"scatter3d\",\"x\":[-640.5357055664062,-476.4420042240496],\"y\":[110.36347198486328,221.82606519421734],\"z\":[600.1904296875,574.7081320122214]},{\"legendgroup\":\"11\",\"legendgrouptitle\":{\"text\":\"--11--\"},\"line\":{\"color\":\"blue\",\"width\":2},\"marker\":{\"color\":\"blue\",\"size\":1.9},\"type\":\"scatter3d\",\"x\":[-640.5357055664062,-651.0979555920084],\"y\":[110.36347198486328,13.783089515942848],\"z\":[600.1904296875,109.72058495027898]},{\"legendgroup\":\"12\",\"legendgrouptitle\":{\"text\":\"--12--\"},\"line\":{\"color\":\"red\",\"width\":2},\"marker\":{\"color\":\"red\",\"size\":2.0},\"type\":\"scatter3d\",\"x\":[-757.1449584960938,-680.136964178743],\"y\":[224.3688201904297,43.850416558224595],\"z\":[720.9007568359375,759.4088697642431]},{\"legendgroup\":\"12\",\"legendgrouptitle\":{\"text\":\"--12--\"},\"line\":{\"color\":\"green\",\"width\":2},\"marker\":{\"color\":\"green\",\"size\":2.0},\"type\":\"scatter3d\",\"x\":[-757.1449584960938,-572.8211375167651],\"y\":[224.3688201904297,297.38030358918644],\"z\":[720.9007568359375,694.5558842514386]},{\"legendgroup\":\"12\",\"legendgrouptitle\":{\"text\":\"--12--\"},\"line\":{\"color\":\"blue\",\"width\":2},\"marker\":{\"color\":\"blue\",\"size\":2.0},\"type\":\"scatter3d\",\"x\":[-757.1449584960938,-781.4474571844082],\"y\":[224.3688201904297,110.2847162913395],\"z\":[720.9007568359375,234.69688417031784]},{\"legendgroup\":\"13\",\"legendgrouptitle\":{\"text\":\"--13--\"},\"line\":{\"color\":\"red\",\"width\":2},\"marker\":{\"color\":\"red\",\"size\":2.1},\"type\":\"scatter3d\",\"x\":[-859.7671508789062,-827.4591891983799],\"y\":[379.9403991699219,188.64372438097183],\"z\":[846.3302612304688,894.9283869838384]},{\"legendgroup\":\"13\",\"legendgrouptitle\":{\"text\":\"--13--\"},\"line\":{\"color\":\"green\",\"width\":2},\"marker\":{\"color\":\"green\",\"size\":2.1},\"type\":\"scatter3d\",\"x\":[-859.7671508789062,-663.1517774936052],\"y\":[379.9403991699219,406.822126916333],\"z\":[846.3302612304688,821.4351279324426]},{\"legendgroup\":\"13\",\"legendgrouptitle\":{\"text\":\"--13--\"},\"line\":{\"color\":\"blue\",\"width\":2},\"marker\":{\"color\":\"blue\",\"size\":2.1},\"type\":\"scatter3d\",\"x\":[-859.7671508789062,-902.966583789558],\"y\":[379.9403991699219,250.44727850181175],\"z\":[846.3302612304688,365.3257490938024]},{\"legendgroup\":\"14\",\"legendgrouptitle\":{\"text\":\"--14--\"},\"line\":{\"color\":\"red\",\"width\":2},\"marker\":{\"color\":\"red\",\"size\":2.2},\"type\":\"scatter3d\",\"x\":[-932.8696899414062,-950.8215565142428],\"y\":[578.1915893554688,387.91476252017196],\"z\":[973.70751953125,1032.6350992884534]},{\"legendgroup\":\"14\",\"legendgrouptitle\":{\"text\":\"--14--\"},\"line\":{\"color\":\"green\",\"width\":2},\"marker\":{\"color\":\"green\",\"size\":2.2},\"type\":\"scatter3d\",\"x\":[-932.8696899414062,-735.4981550960604],\"y\":[578.1915893554688,553.2176430478423],\"z\":[973.70751953125,953.1946153337406]},{\"legendgroup\":\"14\",\"legendgrouptitle\":{\"text\":\"--14--\"},\"line\":{\"color\":\"blue\",\"width\":2},\"marker\":{\"color\":\"blue\",\"size\":2.2},\"type\":\"scatter3d\",\"x\":[-932.8696899414062,-1000.0544966010724],\"y\":[578.1915893554688,437.4118150776477],\"z\":[973.70751953125,498.66304065754593]},{\"legendgroup\":\"15\",\"legendgrouptitle\":{\"text\":\"--15--\"},\"line\":{\"color\":\"red\",\"width\":2},\"marker\":{\"color\":\"red\",\"size\":2.3},\"type\":\"scatter3d\",\"x\":[-958.2098999023438,-1028.4814752185123],\"y\":[813.7031860351562,639.4283146946241],\"z\":[1099.603271484375,1168.0881232533975]},{\"legendgroup\":\"15\",\"legendgrouptitle\":{\"text\":\"--15--\"},\"line\":{\"color\":\"green\",\"width\":2},\"marker\":{\"color\":\"green\",\"size\":2.3},\"type\":\"scatter3d\",\"x\":[-958.2098999023438,-774.8920045460765],\"y\":[813.7031860351562,734.7645185256483],\"z\":[1099.603271484375,1086.8268864724873]},{\"legendgroup\":\"15\",\"legendgrouptitle\":{\"text\":\"--15--\"},\"line\":{\"color\":\"blue\",\"width\":2},\"marker\":{\"color\":\"blue\",\"size\":2.3},\"type\":\"scatter3d\",\"x\":[-958.2098999023438,-1053.6187223695517],\"y\":[813.7031860351562,667.9946586795073],\"z\":[1099.603271484375,630.9176821483373]},{\"legendgroup\":\"16\",\"legendgrouptitle\":{\"text\":\"--16--\"},\"line\":{\"color\":\"red\",\"width\":2},\"marker\":{\"color\":\"red\",\"size\":2.4000000000000004},\"type\":\"scatter3d\",\"x\":[-918.0462646484375,-1037.5469963621808],\"y\":[1072.0701904296875,930.8446645977501],\"z\":[1221.333740234375,1297.3266739412188]},{\"legendgroup\":\"16\",\"legendgrouptitle\":{\"text\":\"--16--\"},\"line\":{\"color\":\"green\",\"width\":2},\"marker\":{\"color\":\"green\",\"size\":2.4000000000000004},\"type\":\"scatter3d\",\"x\":[-918.0462646484375,-765.8113302797991],\"y\":[1072.0701904296875,942.371172455716],\"z\":[1221.333740234375,1219.6937724408585]},{\"legendgroup\":\"16\",\"legendgrouptitle\":{\"text\":\"--16--\"},\"line\":{\"color\":\"blue\",\"width\":2},\"marker\":{\"color\":\"blue\",\"size\":2.4000000000000004},\"type\":\"scatter3d\",\"x\":[-918.0462646484375,-1044.1439420075071],\"y\":[1072.0701904296875,929.9101663793192],\"z\":[1221.333740234375,758.851412651313]},{\"legendgroup\":\"17\",\"legendgrouptitle\":{\"text\":\"--17--\"},\"line\":{\"color\":\"red\",\"width\":2},\"marker\":{\"color\":\"red\",\"size\":2.5},\"type\":\"scatter3d\",\"x\":[-799.363525390625,-958.4236623264404],\"y\":[1332.034423828125,1240.9519090882268],\"z\":[1337.5098876953125,1417.5339362470816]},{\"legendgroup\":\"17\",\"legendgrouptitle\":{\"text\":\"--17--\"},\"line\":{\"color\":\"green\",\"width\":2},\"marker\":{\"color\":\"green\",\"size\":2.5},\"type\":\"scatter3d\",\"x\":[-799.363525390625,-695.5096065480728],\"y\":[1332.034423828125,1161.5624458054633],\"z\":[1337.5098876953125,1349.9061875499367]},{\"legendgroup\":\"17\",\"legendgrouptitle\":{\"text\":\"--17--\"},\"line\":{\"color\":\"blue\",\"width\":2},\"marker\":{\"color\":\"blue\",\"size\":2.5},\"type\":\"scatter3d\",\"x\":[-799.363525390625,-955.7731714127822],\"y\":[1332.034423828125,1203.5023213766024],\"z\":[1337.5098876953125,880.3277344231021]},{\"legendgroup\":\"18\",\"legendgrouptitle\":{\"text\":\"--18--\"},\"line\":{\"color\":\"red\",\"width\":2},\"marker\":{\"color\":\"red\",\"size\":2.6},\"type\":\"scatter3d\",\"x\":[-594.9580078125,-776.6235969364484],\"y\":[1565.580810546875,1538.84498246284],\"z\":[1448.1396484375,1527.403822090606]},{\"legendgroup\":\"18\",\"legendgrouptitle\":{\"text\":\"--18--\"},\"line\":{\"color\":\"green\",\"width\":2},\"marker\":{\"color\":\"green\",\"size\":2.6},\"type\":\"scatter3d\",\"x\":[-594.9580078125,-554.1648307431564],\"y\":[1565.580810546875,1371.817558358702],\"z\":[1448.1396484375,1476.2771466569868]},{\"legendgroup\":\"18\",\"legendgrouptitle\":{\"text\":\"--18--\"},\"line\":{\"color\":\"blue\",\"width\":2},\"marker\":{\"color\":\"blue\",\"size\":2.6},\"type\":\"scatter3d\",\"x\":[-594.9580078125,-777.5355672365356],\"y\":[1565.580810546875,1461.2676522768315],\"z\":[1448.1396484375,994.5052143316975]},{\"legendgroup\":\"19\",\"legendgrouptitle\":{\"text\":\"--19--\"},\"line\":{\"color\":\"red\",\"width\":2},\"marker\":{\"color\":\"red\",\"size\":2.7},\"type\":\"scatter3d\",\"x\":[-309.5458679199219,-490.20347809043153],\"y\":[1737.3934326171875,1782.7674741534602],\"z\":[1556.76806640625,1629.596798663133]},{\"legendgroup\":\"19\",\"legendgrouptitle\":{\"text\":\"--19--\"},\"line\":{\"color\":\"green\",\"width\":2},\"marker\":{\"color\":\"green\",\"size\":2.7},\"type\":\"scatter3d\",\"x\":[-309.5458679199219,-340.32816257467357],\"y\":[1737.3934326171875,1544.6716479914605],\"z\":[1556.76806640625,1600.4803537687633]},{\"legendgroup\":\"19\",\"legendgrouptitle\":{\"text\":\"--19--\"},\"line\":{\"color\":\"blue\",\"width\":2},\"marker\":{\"color\":\"blue\",\"size\":2.7},\"type\":\"scatter3d\",\"x\":[-309.5458679199219,-509.78444785752083],\"y\":[1737.3934326171875,1666.7044091880025],\"z\":[1556.76806640625,1104.100889474675]},{\"legendgroup\":\"20\",\"legendgrouptitle\":{\"text\":\"--20--\"},\"line\":{\"color\":\"red\",\"width\":2},\"marker\":{\"color\":\"red\",\"size\":2.8},\"type\":\"scatter3d\",\"x\":[35.14218521118164,-116.64458001970581],\"y\":[1811.62109375,1926.8794376306346],\"z\":[1671.0164794921875,1731.648913606586]},{\"legendgroup\":\"20\",\"legendgrouptitle\":{\"text\":\"--20--\"},\"line\":{\"color\":\"green\",\"width\":2},\"marker\":{\"color\":\"green\",\"size\":2.8},\"type\":\"scatter3d\",\"x\":[35.14218521118164,-65.98021114617366],\"y\":[1811.62109375,1648.6396000992213],\"z\":[1671.0164794921875,1727.6847570582752]},{\"legendgroup\":\"20\",\"legendgrouptitle\":{\"text\":\"--20--\"},\"line\":{\"color\":\"blue\",\"width\":2},\"marker\":{\"color\":\"blue\",\"size\":2.8},\"type\":\"scatter3d\",\"x\":[35.14218521118164,-170.02602101984877],\"y\":[1811.62109375,1780.743624895811],\"z\":[1671.0164794921875,1216.0960589029378]},{\"legendgroup\":\"21\",\"legendgrouptitle\":{\"text\":\"--21--\"},\"line\":{\"color\":\"red\",\"width\":2},\"marker\":{\"color\":\"red\",\"size\":2.9000000000000004},\"type\":\"scatter3d\",\"x\":[399.9690856933594,304.77055668629794],\"y\":[1760.8612060546875,1931.2303644439344],\"z\":[1801.5550537109375,1845.276786803662]},{\"legendgroup\":\"21\",\"legendgrouptitle\":{\"text\":\"--21--\"},\"line\":{\"color\":\"green\",\"width\":2},\"marker\":{\"color\":\"green\",\"size\":2.9000000000000004},\"type\":\"scatter3d\",\"x\":[399.9690856933594,242.1764767694327],\"y\":[1760.8612060546875,1656.1738331840536],\"z\":[1801.5550537109375,1865.9137868434782]},{\"legendgroup\":\"21\",\"legendgrouptitle\":{\"text\":\"--21--\"},\"line\":{\"color\":\"blue\",\"width\":2},\"marker\":{\"color\":\"blue\",\"size\":2.9000000000000004},\"type\":\"scatter3d\",\"x\":[399.9690856933594,205.69587852314112],\"y\":[1760.8612060546875,1770.5125761596958],\"z\":[1801.5550537109375,1340.9415801445493]},{\"legendgroup\":\"22\",\"legendgrouptitle\":{\"text\":\"--22--\"},\"line\":{\"color\":\"red\",\"width\":2},\"marker\":{\"color\":\"red\",\"size\":3.0},\"type\":\"scatter3d\",\"x\":[730.181640625,713.0923722906331],\"y\":[1575.4453125,1773.2073121575545],\"z\":[1960.996826171875,1985.453898753062]},{\"legendgroup\":\"22\",\"legendgrouptitle\":{\"text\":\"--22--\"},\"line\":{\"color\":\"green\",\"width\":2},\"marker\":{\"color\":\"green\",\"size\":3.0},\"type\":\"scatter3d\",\"x\":[730.181640625,542.4220515443228],\"y\":[1575.4453125,1551.2433820724768],\"z\":[1960.996826171875,2025.4995646551097]},{\"legendgroup\":\"22\",\"legendgrouptitle\":{\"text\":\"--22--\"},\"line\":{\"color\":\"blue\",\"width\":2},\"marker\":{\"color\":\"blue\",\"size\":3.0},\"type\":\"scatter3d\",\"x\":[730.181640625,563.3304041887056],\"y\":[1575.4453125,1619.0671286464813],\"z\":[1960.996826171875,1491.6805127373616]}],                        {\"scene\":{\"aspectmode\":\"data\",\"aspectratio\":{\"x\":1,\"y\":1,\"z\":1}},\"template\":{\"data\":{\"bar\":[{\"error_x\":{\"color\":\"#2a3f5f\"},\"error_y\":{\"color\":\"#2a3f5f\"},\"marker\":{\"line\":{\"color\":\"#E5ECF6\",\"width\":0.5},\"pattern\":{\"fillmode\":\"overlay\",\"size\":10,\"solidity\":0.2}},\"type\":\"bar\"}],\"barpolar\":[{\"marker\":{\"line\":{\"color\":\"#E5ECF6\",\"width\":0.5},\"pattern\":{\"fillmode\":\"overlay\",\"size\":10,\"solidity\":0.2}},\"type\":\"barpolar\"}],\"carpet\":[{\"aaxis\":{\"endlinecolor\":\"#2a3f5f\",\"gridcolor\":\"white\",\"linecolor\":\"white\",\"minorgridcolor\":\"white\",\"startlinecolor\":\"#2a3f5f\"},\"baxis\":{\"endlinecolor\":\"#2a3f5f\",\"gridcolor\":\"white\",\"linecolor\":\"white\",\"minorgridcolor\":\"white\",\"startlinecolor\":\"#2a3f5f\"},\"type\":\"carpet\"}],\"choropleth\":[{\"colorbar\":{\"outlinewidth\":0,\"ticks\":\"\"},\"type\":\"choropleth\"}],\"contour\":[{\"colorbar\":{\"outlinewidth\":0,\"ticks\":\"\"},\"colorscale\":[[0.0,\"#0d0887\"],[0.1111111111111111,\"#46039f\"],[0.2222222222222222,\"#7201a8\"],[0.3333333333333333,\"#9c179e\"],[0.4444444444444444,\"#bd3786\"],[0.5555555555555556,\"#d8576b\"],[0.6666666666666666,\"#ed7953\"],[0.7777777777777778,\"#fb9f3a\"],[0.8888888888888888,\"#fdca26\"],[1.0,\"#f0f921\"]],\"type\":\"contour\"}],\"contourcarpet\":[{\"colorbar\":{\"outlinewidth\":0,\"ticks\":\"\"},\"type\":\"contourcarpet\"}],\"heatmap\":[{\"colorbar\":{\"outlinewidth\":0,\"ticks\":\"\"},\"colorscale\":[[0.0,\"#0d0887\"],[0.1111111111111111,\"#46039f\"],[0.2222222222222222,\"#7201a8\"],[0.3333333333333333,\"#9c179e\"],[0.4444444444444444,\"#bd3786\"],[0.5555555555555556,\"#d8576b\"],[0.6666666666666666,\"#ed7953\"],[0.7777777777777778,\"#fb9f3a\"],[0.8888888888888888,\"#fdca26\"],[1.0,\"#f0f921\"]],\"type\":\"heatmap\"}],\"heatmapgl\":[{\"colorbar\":{\"outlinewidth\":0,\"ticks\":\"\"},\"colorscale\":[[0.0,\"#0d0887\"],[0.1111111111111111,\"#46039f\"],[0.2222222222222222,\"#7201a8\"],[0.3333333333333333,\"#9c179e\"],[0.4444444444444444,\"#bd3786\"],[0.5555555555555556,\"#d8576b\"],[0.6666666666666666,\"#ed7953\"],[0.7777777777777778,\"#fb9f3a\"],[0.8888888888888888,\"#fdca26\"],[1.0,\"#f0f921\"]],\"type\":\"heatmapgl\"}],\"histogram\":[{\"marker\":{\"pattern\":{\"fillmode\":\"overlay\",\"size\":10,\"solidity\":0.2}},\"type\":\"histogram\"}],\"histogram2d\":[{\"colorbar\":{\"outlinewidth\":0,\"ticks\":\"\"},\"colorscale\":[[0.0,\"#0d0887\"],[0.1111111111111111,\"#46039f\"],[0.2222222222222222,\"#7201a8\"],[0.3333333333333333,\"#9c179e\"],[0.4444444444444444,\"#bd3786\"],[0.5555555555555556,\"#d8576b\"],[0.6666666666666666,\"#ed7953\"],[0.7777777777777778,\"#fb9f3a\"],[0.8888888888888888,\"#fdca26\"],[1.0,\"#f0f921\"]],\"type\":\"histogram2d\"}],\"histogram2dcontour\":[{\"colorbar\":{\"outlinewidth\":0,\"ticks\":\"\"},\"colorscale\":[[0.0,\"#0d0887\"],[0.1111111111111111,\"#46039f\"],[0.2222222222222222,\"#7201a8\"],[0.3333333333333333,\"#9c179e\"],[0.4444444444444444,\"#bd3786\"],[0.5555555555555556,\"#d8576b\"],[0.6666666666666666,\"#ed7953\"],[0.7777777777777778,\"#fb9f3a\"],[0.8888888888888888,\"#fdca26\"],[1.0,\"#f0f921\"]],\"type\":\"histogram2dcontour\"}],\"mesh3d\":[{\"colorbar\":{\"outlinewidth\":0,\"ticks\":\"\"},\"type\":\"mesh3d\"}],\"parcoords\":[{\"line\":{\"colorbar\":{\"outlinewidth\":0,\"ticks\":\"\"}},\"type\":\"parcoords\"}],\"pie\":[{\"automargin\":true,\"type\":\"pie\"}],\"scatter\":[{\"marker\":{\"colorbar\":{\"outlinewidth\":0,\"ticks\":\"\"}},\"type\":\"scatter\"}],\"scatter3d\":[{\"line\":{\"colorbar\":{\"outlinewidth\":0,\"ticks\":\"\"}},\"marker\":{\"colorbar\":{\"outlinewidth\":0,\"ticks\":\"\"}},\"type\":\"scatter3d\"}],\"scattercarpet\":[{\"marker\":{\"colorbar\":{\"outlinewidth\":0,\"ticks\":\"\"}},\"type\":\"scattercarpet\"}],\"scattergeo\":[{\"marker\":{\"colorbar\":{\"outlinewidth\":0,\"ticks\":\"\"}},\"type\":\"scattergeo\"}],\"scattergl\":[{\"marker\":{\"colorbar\":{\"outlinewidth\":0,\"ticks\":\"\"}},\"type\":\"scattergl\"}],\"scattermapbox\":[{\"marker\":{\"colorbar\":{\"outlinewidth\":0,\"ticks\":\"\"}},\"type\":\"scattermapbox\"}],\"scatterpolar\":[{\"marker\":{\"colorbar\":{\"outlinewidth\":0,\"ticks\":\"\"}},\"type\":\"scatterpolar\"}],\"scatterpolargl\":[{\"marker\":{\"colorbar\":{\"outlinewidth\":0,\"ticks\":\"\"}},\"type\":\"scatterpolargl\"}],\"scatterternary\":[{\"marker\":{\"colorbar\":{\"outlinewidth\":0,\"ticks\":\"\"}},\"type\":\"scatterternary\"}],\"surface\":[{\"colorbar\":{\"outlinewidth\":0,\"ticks\":\"\"},\"colorscale\":[[0.0,\"#0d0887\"],[0.1111111111111111,\"#46039f\"],[0.2222222222222222,\"#7201a8\"],[0.3333333333333333,\"#9c179e\"],[0.4444444444444444,\"#bd3786\"],[0.5555555555555556,\"#d8576b\"],[0.6666666666666666,\"#ed7953\"],[0.7777777777777778,\"#fb9f3a\"],[0.8888888888888888,\"#fdca26\"],[1.0,\"#f0f921\"]],\"type\":\"surface\"}],\"table\":[{\"cells\":{\"fill\":{\"color\":\"#EBF0F8\"},\"line\":{\"color\":\"white\"}},\"header\":{\"fill\":{\"color\":\"#C8D4E3\"},\"line\":{\"color\":\"white\"}},\"type\":\"table\"}]},\"layout\":{\"annotationdefaults\":{\"arrowcolor\":\"#2a3f5f\",\"arrowhead\":0,\"arrowwidth\":1},\"autotypenumbers\":\"strict\",\"coloraxis\":{\"colorbar\":{\"outlinewidth\":0,\"ticks\":\"\"}},\"colorscale\":{\"diverging\":[[0,\"#8e0152\"],[0.1,\"#c51b7d\"],[0.2,\"#de77ae\"],[0.3,\"#f1b6da\"],[0.4,\"#fde0ef\"],[0.5,\"#f7f7f7\"],[0.6,\"#e6f5d0\"],[0.7,\"#b8e186\"],[0.8,\"#7fbc41\"],[0.9,\"#4d9221\"],[1,\"#276419\"]],\"sequential\":[[0.0,\"#0d0887\"],[0.1111111111111111,\"#46039f\"],[0.2222222222222222,\"#7201a8\"],[0.3333333333333333,\"#9c179e\"],[0.4444444444444444,\"#bd3786\"],[0.5555555555555556,\"#d8576b\"],[0.6666666666666666,\"#ed7953\"],[0.7777777777777778,\"#fb9f3a\"],[0.8888888888888888,\"#fdca26\"],[1.0,\"#f0f921\"]],\"sequentialminus\":[[0.0,\"#0d0887\"],[0.1111111111111111,\"#46039f\"],[0.2222222222222222,\"#7201a8\"],[0.3333333333333333,\"#9c179e\"],[0.4444444444444444,\"#bd3786\"],[0.5555555555555556,\"#d8576b\"],[0.6666666666666666,\"#ed7953\"],[0.7777777777777778,\"#fb9f3a\"],[0.8888888888888888,\"#fdca26\"],[1.0,\"#f0f921\"]]},\"colorway\":[\"#636efa\",\"#EF553B\",\"#00cc96\",\"#ab63fa\",\"#FFA15A\",\"#19d3f3\",\"#FF6692\",\"#B6E880\",\"#FF97FF\",\"#FECB52\"],\"font\":{\"color\":\"#2a3f5f\"},\"geo\":{\"bgcolor\":\"white\",\"lakecolor\":\"white\",\"landcolor\":\"#E5ECF6\",\"showlakes\":true,\"showland\":true,\"subunitcolor\":\"white\"},\"hoverlabel\":{\"align\":\"left\"},\"hovermode\":\"closest\",\"mapbox\":{\"style\":\"light\"},\"paper_bgcolor\":\"white\",\"plot_bgcolor\":\"#E5ECF6\",\"polar\":{\"angularaxis\":{\"gridcolor\":\"white\",\"linecolor\":\"white\",\"ticks\":\"\"},\"bgcolor\":\"#E5ECF6\",\"radialaxis\":{\"gridcolor\":\"white\",\"linecolor\":\"white\",\"ticks\":\"\"}},\"scene\":{\"xaxis\":{\"backgroundcolor\":\"#E5ECF6\",\"gridcolor\":\"white\",\"gridwidth\":2,\"linecolor\":\"white\",\"showbackground\":true,\"ticks\":\"\",\"zerolinecolor\":\"white\"},\"yaxis\":{\"backgroundcolor\":\"#E5ECF6\",\"gridcolor\":\"white\",\"gridwidth\":2,\"linecolor\":\"white\",\"showbackground\":true,\"ticks\":\"\",\"zerolinecolor\":\"white\"},\"zaxis\":{\"backgroundcolor\":\"#E5ECF6\",\"gridcolor\":\"white\",\"gridwidth\":2,\"linecolor\":\"white\",\"showbackground\":true,\"ticks\":\"\",\"zerolinecolor\":\"white\"}},\"shapedefaults\":{\"line\":{\"color\":\"#2a3f5f\"}},\"ternary\":{\"aaxis\":{\"gridcolor\":\"white\",\"linecolor\":\"white\",\"ticks\":\"\"},\"baxis\":{\"gridcolor\":\"white\",\"linecolor\":\"white\",\"ticks\":\"\"},\"bgcolor\":\"#E5ECF6\",\"caxis\":{\"gridcolor\":\"white\",\"linecolor\":\"white\",\"ticks\":\"\"}},\"title\":{\"x\":0.05},\"xaxis\":{\"automargin\":true,\"gridcolor\":\"white\",\"linecolor\":\"white\",\"ticks\":\"\",\"title\":{\"standoff\":15},\"zerolinecolor\":\"white\",\"zerolinewidth\":2},\"yaxis\":{\"automargin\":true,\"gridcolor\":\"white\",\"linecolor\":\"white\",\"ticks\":\"\",\"title\":{\"standoff\":15},\"zerolinecolor\":\"white\",\"zerolinewidth\":2}}},\"title\":{\"text\":\"4-SD\"}},                        {\"responsive\": true}                    ).then(function(){\n",
       "                            \n",
       "var gd = document.getElementById('6b4cf490-fe14-4b6a-816d-88f3d62e7906');\n",
       "var x = new MutationObserver(function (mutations, observer) {{\n",
       "        var display = window.getComputedStyle(gd).display;\n",
       "        if (!display || display === 'none') {{\n",
       "            console.log([gd, 'removed!']);\n",
       "            Plotly.purge(gd);\n",
       "            observer.disconnect();\n",
       "        }}\n",
       "}});\n",
       "\n",
       "// Listen for the removal of the full notebook cells\n",
       "var notebookContainer = gd.closest('#notebook-container');\n",
       "if (notebookContainer) {{\n",
       "    x.observe(notebookContainer, {childList: true});\n",
       "}}\n",
       "\n",
       "// Listen for the clearing of the current output cell\n",
       "var outputEl = gd.closest('.output');\n",
       "if (outputEl) {{\n",
       "    x.observe(outputEl, {childList: true});\n",
       "}}\n",
       "\n",
       "                        })                };                });            </script>        </div>"
      ]
     },
     "metadata": {},
     "output_type": "display_data"
    },
    {
     "data": {
      "application/vnd.jupyter.widget-view+json": {
       "model_id": "6d68308c931b49f5a415d528e309a8cf",
       "version_major": 2,
       "version_minor": 0
      },
      "text/plain": [
       "0it [00:00, ?it/s]"
      ]
     },
     "metadata": {},
     "output_type": "display_data"
    },
    {
     "data": {
      "application/vnd.plotly.v1+json": {
       "config": {
        "plotlyServerURL": "https://plot.ly"
       },
       "data": [
        {
         "legendgroup": "0",
         "legendgrouptitle": {
          "text": "origins"
         },
         "line": {
          "color": "black",
          "width": 2
         },
         "marker": {
          "color": "black",
          "size": 1
         },
         "type": "scatter3d",
         "x": [
          0,
          0.25190892815589905,
          0.6851547956466675,
          1.1463571786880493,
          1.4007501602172852,
          1.115753173828125,
          -0.137000173330307,
          -2.866492748260498,
          -7.64780855178833,
          -15.08651065826416,
          -25.793807983398438,
          -40.3155517578125,
          -59.01689147949219,
          -81.9605941772461,
          -108.79360961914062,
          -138.6239013671875,
          -169.94322204589844,
          -200.57968139648438,
          -227.77943420410156,
          -248.4325408935547,
          -259.37506103515625
         ],
         "y": [
          0,
          -1.9647092819213867,
          -5.886289119720459,
          -11.774782180786133,
          -19.646896362304688,
          -29.502920150756836,
          -41.286460876464844,
          -54.8629264831543,
          -69.96342468261719,
          -86.14763641357422,
          -102.7966079711914,
          -119.07251739501953,
          -133.89990234375,
          -145.9490509033203,
          -153.7128143310547,
          -155.6298828125,
          -150.26356506347656,
          -136.57192993164062,
          -114.21733856201172,
          -83.8164291381836,
          -47.19589614868164
         ],
         "z": [
          0,
          -0.23067471385002136,
          -0.6715208888053894,
          -1.2966217994689941,
          -2.078329563140869,
          -2.985982656478882,
          -3.9840428829193115,
          -5.042399883270264,
          -6.158560276031494,
          -7.35571813583374,
          -8.6923828125,
          -10.261177062988281,
          -12.206778526306152,
          -14.72220516204834,
          -18.052013397216797,
          -22.48200798034668,
          -28.32663345336914,
          -35.90103530883789,
          -45.47366714477539,
          -57.21573257446289,
          -71.14311981201172
         ]
        },
        {
         "legendgroup": "1",
         "legendgrouptitle": {
          "text": "finish"
         },
         "line": {
          "color": "black",
          "width": 2
         },
         "marker": {
          "color": "black",
          "size": 1
         },
         "type": "scatter3d",
         "x": [
          0,
          -7.630595717782262,
          -22.9574999528646,
          -46.09479290609618,
          -77.1420105800971,
          -116.1139678740502,
          -162.8223820815233,
          -216.72764632994264,
          -276.7725037204792,
          -341.205101636811,
          -407.4451474704512,
          -471.96865021788614,
          -530.250867506928,
          -576.857442948673,
          -605.739469055349,
          -610.7453231799425,
          -586.4033790870023,
          -528.9128433225596,
          -437.3311942227077,
          -314.7713394807362,
          -169.28071919389063
         ],
         "y": [
          -500,
          -501.9021692831997,
          -505.3236142673367,
          -509.52575983045045,
          -513.4094381620314,
          -515.509099123778,
          -513.9908328765994,
          -506.70088374374114,
          -491.228725100493,
          -465.0501439228766,
          -425.77115645751576,
          -371.412219233226,
          -300.7829873201305,
          -213.89669413014948,
          -112.46656468263015,
          -0.35071582386203204,
          116.14156362088346,
          228.18427942007952,
          324.77576823948334,
          393.69287784076596,
          422.99257941346525
         ],
         "z": [
          0,
          0.4035239749886871,
          1.1678066614152736,
          2.2016617039571043,
          3.361068451603349,
          4.442779224237441,
          5.183465248730926,
          5.2467870278648014,
          4.207013234199806,
          1.5636103888007096,
          -3.2429702025627645,
          -10.787927500144617,
          -21.618249513361743,
          -36.175103708186995,
          -54.70661309695632,
          -77.16055372561496,
          -103.0878868401921,
          -131.55793531605002,
          -161.1158396160484,
          -189.82050454927784,
          -215.38530163388256
         ]
        },
        {
         "legendgroup": "2",
         "legendgrouptitle": {
          "text": "--2--"
         },
         "line": {
          "color": "red",
          "width": 2
         },
         "marker": {
          "color": "red",
          "size": 1
         },
         "type": "scatter3d",
         "x": [
          0,
          200
         ],
         "y": [
          0,
          0
         ],
         "z": [
          0,
          0
         ]
        },
        {
         "legendgroup": "2",
         "legendgrouptitle": {
          "text": "--2--"
         },
         "line": {
          "color": "green",
          "width": 2
         },
         "marker": {
          "color": "green",
          "size": 1
         },
         "type": "scatter3d",
         "x": [
          0,
          0
         ],
         "y": [
          0,
          200
         ],
         "z": [
          0,
          0
         ]
        },
        {
         "legendgroup": "2",
         "legendgrouptitle": {
          "text": "--2--"
         },
         "line": {
          "color": "blue",
          "width": 2
         },
         "marker": {
          "color": "blue",
          "size": 1
         },
         "type": "scatter3d",
         "x": [
          0,
          0
         ],
         "y": [
          0,
          0
         ],
         "z": [
          0,
          -500
         ]
        },
        {
         "legendgroup": "3",
         "legendgrouptitle": {
          "text": "--3--"
         },
         "line": {
          "color": "red",
          "width": 2
         },
         "marker": {
          "color": "red",
          "size": 1.1
         },
         "type": "scatter3d",
         "x": [
          0.25190892815589905,
          200.22665125209355
         ],
         "y": [
          -1.9647092819213867,
          -5.117193168796774
         ],
         "z": [
          -0.23067471385002136,
          0.1746372866483426
         ]
        },
        {
         "legendgroup": "3",
         "legendgrouptitle": {
          "text": "--3--"
         },
         "line": {
          "color": "green",
          "width": 2
         },
         "marker": {
          "color": "green",
          "size": 1.1
         },
         "type": "scatter3d",
         "x": [
          0.25190892815589905,
          3.4049107865311634
         ],
         "y": [
          -1.9647092819213867,
          198.01027471858995
         ],
         "z": [
          -0.23067471385002136,
          -0.48435418938550473
         ]
        },
        {
         "legendgroup": "3",
         "legendgrouptitle": {
          "text": "--3--"
         },
         "line": {
          "color": "blue",
          "width": 2
         },
         "marker": {
          "color": "blue",
          "size": 1.1
         },
         "type": "scatter3d",
         "x": [
          0.25190892815589905,
          1.255065682603636
         ],
         "y": [
          -1.9647092819213867,
          -2.6148022474698
         ],
         "z": [
          -0.23067471385002136,
          -500.2292457674703
         ]
        },
        {
         "legendgroup": "4",
         "legendgrouptitle": {
          "text": "--4--"
         },
         "line": {
          "color": "red",
          "width": 2
         },
         "marker": {
          "color": "red",
          "size": 1.2
         },
         "type": "scatter3d",
         "x": [
          0.6851547956466675,
          200.45786326546846
         ],
         "y": [
          -5.886289119720459,
          -15.338710348091817
         ],
         "z": [
          -0.6715208888053894,
          0.5600161804792969
         ]
        },
        {
         "legendgroup": "4",
         "legendgrouptitle": {
          "text": "--4--"
         },
         "line": {
          "color": "green",
          "width": 2
         },
         "marker": {
          "color": "green",
          "size": 1.2
         },
         "type": "scatter3d",
         "x": [
          0.6851547956466675,
          10.142216695051175
         ],
         "y": [
          -5.886289119720459,
          193.88864093932602
         ],
         "z": [
          -0.6715208888053894,
          -1.4072519088936546
         ]
        },
        {
         "legendgroup": "4",
         "legendgrouptitle": {
          "text": "--4--"
         },
         "line": {
          "color": "blue",
          "width": 2
         },
         "marker": {
          "color": "blue",
          "size": 1.2
         },
         "type": "scatter3d",
         "x": [
          0.6851547956466675,
          3.6736022002568878
         ],
         "y": [
          -5.886289119720459,
          -7.869110380769635
         ],
         "z": [
          -0.6715208888053894,
          -500.6586583253165
         ]
        },
        {
         "legendgroup": "5",
         "legendgrouptitle": {
          "text": "--5--"
         },
         "line": {
          "color": "red",
          "width": 2
         },
         "marker": {
          "color": "red",
          "size": 1.3
         },
         "type": "scatter3d",
         "x": [
          1.1463571786880493,
          200.23766666709236
         ],
         "y": [
          -11.774782180786133,
          -30.652779351240596
         ],
         "z": [
          -1.2966217994689941,
          1.2077162417586509
         ]
        },
        {
         "legendgroup": "5",
         "legendgrouptitle": {
          "text": "--5--"
         },
         "line": {
          "color": "green",
          "width": 2
         },
         "marker": {
          "color": "green",
          "size": 1.3
         },
         "type": "scatter3d",
         "x": [
          1.1463571786880493,
          20.04281721260174
         ],
         "y": [
          -11.774782180786133,
          187.3256088790796
         ],
         "z": [
          -1.2966217994689941,
          -2.6959352008394335
         ]
        },
        {
         "legendgroup": "5",
         "legendgrouptitle": {
          "text": "--5--"
         },
         "line": {
          "color": "blue",
          "width": 2
         },
         "marker": {
          "color": "blue",
          "size": 1.3
         },
         "type": "scatter3d",
         "x": [
          1.1463571786880493,
          7.048837790223949
         ],
         "y": [
          -11.774782180786133,
          -15.848710445423404
         ],
         "z": [
          -1.2966217994689941,
          -501.2451829846424
         ]
        },
        {
         "legendgroup": "6",
         "legendgrouptitle": {
          "text": "--6--"
         },
         "line": {
          "color": "red",
          "width": 2
         },
         "marker": {
          "color": "red",
          "size": 1.4
         },
         "type": "scatter3d",
         "x": [
          1.4007501602172852,
          198.880014624784
         ],
         "y": [
          -19.646896362304688,
          -51.013029197027386
         ],
         "z": [
          -2.078329563140869,
          2.176763564894011
         ]
        },
        {
         "legendgroup": "6",
         "legendgrouptitle": {
          "text": "--6--"
         },
         "line": {
          "color": "green",
          "width": 2
         },
         "marker": {
          "color": "green",
          "size": 1.4
         },
         "type": "scatter3d",
         "x": [
          1.4007501602172852,
          32.81785445634304
         ],
         "y": [
          -19.646896362304688,
          177.85812035758602
         ],
         "z": [
          -2.078329563140869,
          -4.254088769038557
         ]
        },
        {
         "legendgroup": "6",
         "legendgrouptitle": {
          "text": "--6--"
         },
         "line": {
          "color": "blue",
          "width": 2
         },
         "marker": {
          "color": "blue",
          "size": 1.4
         },
         "type": "scatter3d",
         "x": [
          1.4007501602172852,
          11.052713749325578
         ],
         "y": [
          -19.646896362304688,
          -26.688771765128248
         ],
         "z": [
          -2.078329563140869,
          -501.9355607698982
         ]
        },
        {
         "legendgroup": "7",
         "legendgrouptitle": {
          "text": "--7--"
         },
         "line": {
          "color": "red",
          "width": 2
         },
         "marker": {
          "color": "red",
          "size": 1.5
         },
         "type": "scatter3d",
         "x": [
          1.115753173828125,
          195.4591591686332
         ],
         "y": [
          -29.502920150756836,
          -76.28096601939168
         ],
         "z": [
          -2.985982656478882,
          3.5297652706792624
         ]
        },
        {
         "legendgroup": "7",
         "legendgrouptitle": {
          "text": "--7--"
         },
         "line": {
          "color": "green",
          "width": 2
         },
         "marker": {
          "color": "green",
          "size": 1.5
         },
         "type": "scatter3d",
         "x": [
          1.115753173828125,
          48.00764159297946
         ],
         "y": [
          -29.502920150756836,
          164.89955143845162
         ],
         "z": [
          -2.985982656478882,
          -5.957487408765411
         ]
        },
        {
         "legendgroup": "7",
         "legendgrouptitle": {
          "text": "--7--"
         },
         "line": {
          "color": "blue",
          "width": 2
         },
         "marker": {
          "color": "blue",
          "size": 1.5
         },
         "type": "scatter3d",
         "x": [
          1.115753173828125,
          15.211707119959113
         ],
         "y": [
          -29.502920150756836,
          -40.54077114146596
         ],
         "z": [
          -2.985982656478882,
          -502.66534977889216
         ]
        },
        {
         "legendgroup": "8",
         "legendgrouptitle": {
          "text": "--8--"
         },
         "line": {
          "color": "red",
          "width": 2
         },
         "marker": {
          "color": "red",
          "size": 1.6
         },
         "type": "scatter3d",
         "x": [
          -0.137000173330307,
          188.82699156886358
         ],
         "y": [
          -41.286460876464844,
          -106.13951502202706
         ],
         "z": [
          -3.9840428829193115,
          5.326767653702657
         ]
        },
        {
         "legendgroup": "8",
         "legendgrouptitle": {
          "text": "--8--"
         },
         "line": {
          "color": "green",
          "width": 2
         },
         "marker": {
          "color": "green",
          "size": 1.6
         },
         "type": "scatter3d",
         "x": [
          -0.137000173330307,
          64.93715258994689
         ],
         "y": [
          -41.286460876464844,
          147.79528792358894
         ],
         "z": [
          -3.9840428829193115,
          -7.651046135579406
         ]
        },
        {
         "legendgroup": "8",
         "legendgrouptitle": {
          "text": "--8--"
         },
         "line": {
          "color": "blue",
          "width": 2
         },
         "marker": {
          "color": "blue",
          "size": 1.6
         },
         "type": "scatter3d",
         "x": [
          -0.137000173330307,
          18.896599558091335
         ],
         "y": [
          -41.286460876464844,
          -57.52176937101896
         ],
         "z": [
          -3.9840428829193115,
          -503.3577875264986
         ]
        },
        {
         "legendgroup": "9",
         "legendgrouptitle": {
          "text": "--9--"
         },
         "line": {
          "color": "red",
          "width": 2
         },
         "marker": {
          "color": "red",
          "size": 1.7000000000000002
         },
         "type": "scatter3d",
         "x": [
          -2.866492748260498,
          177.65636843660164
         ],
         "y": [
          -54.8629264831543,
          -140.0188862525522
         ],
         "z": [
          -5.042399883270264,
          7.6050941524542495
         ]
        },
        {
         "legendgroup": "9",
         "legendgrouptitle": {
          "text": "--9--"
         },
         "line": {
          "color": "green",
          "width": 2
         },
         "marker": {
          "color": "green",
          "size": 1.7000000000000002
         },
         "type": "scatter3d",
         "x": [
          -2.866492748260498,
          82.67796868441236
         ],
         "y": [
          -54.8629264831543,
          125.87225642108044
         ],
         "z": [
          -5.042399883270264,
          -9.158074647724291
         ]
        },
        {
         "legendgroup": "9",
         "legendgrouptitle": {
          "text": "--9--"
         },
         "line": {
          "color": "blue",
          "width": 2
         },
         "marker": {
          "color": "blue",
          "size": 1.7000000000000002
         },
         "type": "scatter3d",
         "x": [
          -2.866492748260498,
          21.325668666253435
         ],
         "y": [
          -54.8629264831543,
          -77.67413210746142
         ],
         "z": [
          -5.042399883270264,
          -503.935563019487
         ]
        },
        {
         "legendgroup": "10",
         "legendgrouptitle": {
          "text": "--10--"
         },
         "line": {
          "color": "red",
          "width": 2
         },
         "marker": {
          "color": "red",
          "size": 1.8
         },
         "type": "scatter3d",
         "x": [
          -7.64780855178833,
          160.50370450557705
         ],
         "y": [
          -69.96342468261719,
          -176.9806716232983
         ],
         "z": [
          -6.158560276031494,
          10.345303324833939
         ]
        },
        {
         "legendgroup": "10",
         "legendgrouptitle": {
          "text": "--10--"
         },
         "line": {
          "color": "green",
          "width": 2
         },
         "marker": {
          "color": "green",
          "size": 1.8
         },
         "type": "scatter3d",
         "x": [
          -7.64780855178833,
          100.00206951568804
         ],
         "y": [
          -69.96342468261719,
          98.54269548453314
         ],
         "z": [
          -6.158560276031494,
          -10.304789680124014
         ]
        },
        {
         "legendgroup": "10",
         "legendgrouptitle": {
          "text": "--10--"
         },
         "line": {
          "color": "blue",
          "width": 2
         },
         "marker": {
          "color": "blue",
          "size": 1.8
         },
         "type": "scatter3d",
         "x": [
          -7.64780855178833,
          21.56824103745176
         ],
         "y": [
          -69.96342468261719,
          -100.8863453333237
         ],
         "z": [
          -6.158560276031494,
          -504.34546839870507
         ]
        },
        {
         "legendgroup": "11",
         "legendgrouptitle": {
          "text": "--11--"
         },
         "line": {
          "color": "red",
          "width": 2
         },
         "marker": {
          "color": "red",
          "size": 1.9
         },
         "type": "scatter3d",
         "x": [
          -15.08651065826416,
          135.9174032831421
         ],
         "y": [
          -86.14763641357422,
          -215.62560142875697
         ],
         "z": [
          -7.35571813583374,
          13.459529878626235
         ]
        },
        {
         "legendgroup": "11",
         "legendgrouptitle": {
          "text": "--11--"
         },
         "line": {
          "color": "green",
          "width": 2
         },
         "marker": {
          "color": "green",
          "size": 1.9
         },
         "type": "scatter3d",
         "x": [
          -15.08651065826416,
          115.36092573315457
         ],
         "y": [
          -86.14763641357422,
          65.41336659014672
         ],
         "z": [
          -7.35571813583374,
          -10.92344954568752
         ]
        },
        {
         "legendgroup": "11",
         "legendgrouptitle": {
          "text": "--11--"
         },
         "line": {
          "color": "blue",
          "width": 2
         },
         "marker": {
          "color": "blue",
          "size": 1.9
         },
         "type": "scatter3d",
         "x": [
          -15.08651065826416,
          18.573955143912706
         ],
         "y": [
          -86.14763641357422,
          -126.82310076504278
         ],
         "z": [
          -7.35571813583374,
          -504.5603838840274
         ]
        },
        {
         "legendgroup": "12",
         "legendgrouptitle": {
          "text": "--12--"
         },
         "line": {
          "color": "red",
          "width": 2
         },
         "marker": {
          "color": "red",
          "size": 2
         },
         "type": "scatter3d",
         "x": [
          -25.793807983398438,
          102.56424429385123
         ],
         "y": [
          -102.7966079711914,
          -254.04468233393234
         ],
         "z": [
          -8.6923828125,
          16.767986728290985
         ]
        },
        {
         "legendgroup": "12",
         "legendgrouptitle": {
          "text": "--12--"
         },
         "line": {
          "color": "green",
          "width": 2
         },
         "marker": {
          "color": "green",
          "size": 2
         },
         "type": "scatter3d",
         "x": [
          -25.793807983398438,
          126.86672781142266
         ],
         "y": [
          -102.7966079711914,
          26.39321142333833
         ],
         "z": [
          -8.6923828125,
          -10.872147856474895
         ]
        },
        {
         "legendgroup": "12",
         "legendgrouptitle": {
          "text": "--12--"
         },
         "line": {
          "color": "blue",
          "width": 2
         },
         "marker": {
          "color": "blue",
          "size": 2
         },
         "type": "scatter3d",
         "x": [
          -25.793807983398438,
          11.200382981956011
         ],
         "y": [
          -102.7966079711914,
          -154.87890860991573
         ],
         "z": [
          -8.6923828125,
          -504.5944535835308
         ]
        },
        {
         "legendgroup": "13",
         "legendgrouptitle": {
          "text": "--13--"
         },
         "line": {
          "color": "red",
          "width": 2
         },
         "marker": {
          "color": "red",
          "size": 2.1
         },
         "type": "scatter3d",
         "x": [
          -40.3155517578125,
          59.431682583621566
         ],
         "y": [
          -119.07251739501953,
          -289.7635996519738
         ],
         "z": [
          -10.261177062988281,
          19.98851184755626
         ]
        },
        {
         "legendgroup": "13",
         "legendgrouptitle": {
          "text": "--13--"
         },
         "line": {
          "color": "green",
          "width": 2
         },
         "marker": {
          "color": "green",
          "size": 2.1
         },
         "type": "scatter3d",
         "x": [
          -40.3155517578125,
          132.34568762621697
         ],
         "y": [
          -119.07251739501953,
          -18.136636659736965
         ],
         "z": [
          -10.261177062988281,
          -10.050476888125747
         ]
        },
        {
         "legendgroup": "13",
         "legendgrouptitle": {
          "text": "--13--"
         },
         "line": {
          "color": "blue",
          "width": 2
         },
         "marker": {
          "color": "blue",
          "size": 2.1
         },
         "type": "scatter3d",
         "x": [
          -40.3155517578125,
          -1.7000063448982559
         ],
         "y": [
          -119.07251739501953,
          -184.09666762699652
         ],
         "z": [
          -10.261177062988281,
          -504.50878660609214
         ]
        },
        {
         "legendgroup": "14",
         "legendgrouptitle": {
          "text": "--14--"
         },
         "line": {
          "color": "red",
          "width": 2
         },
         "marker": {
          "color": "red",
          "size": 2.2
         },
         "type": "scatter3d",
         "x": [
          -59.01689147949219,
          6.102869438672144
         ],
         "y": [
          -133.89990234375,
          -319.7500981599785
         ],
         "z": [
          -12.206778526306152,
          22.70914123861852
         ]
        },
        {
         "legendgroup": "14",
         "legendgrouptitle": {
          "text": "--14--"
         },
         "line": {
          "color": "green",
          "width": 2
         },
         "marker": {
          "color": "green",
          "size": 2.2
         },
         "type": "scatter3d",
         "x": [
          -59.01689147949219,
          129.47669893148213
         ],
         "y": [
          -133.89990234375,
          -67.14666835319782
         ],
         "z": [
          -12.206778526306152,
          -8.442190131483915
         ]
        },
        {
         "legendgroup": "14",
         "legendgrouptitle": {
          "text": "--14--"
         },
         "line": {
          "color": "blue",
          "width": 2
         },
         "marker": {
          "color": "blue",
          "size": 2.2
         },
         "type": "scatter3d",
         "x": [
          -59.01689147949219,
          -21.13689082438499
         ],
         "y": [
          -133.89990234375,
          -213.10337712832543
         ],
         "z": [
          -12.206778526306152,
          -504.4383451008385
         ]
        },
        {
         "legendgroup": "15",
         "legendgrouptitle": {
          "text": "--15--"
         },
         "line": {
          "color": "red",
          "width": 2
         },
         "marker": {
          "color": "red",
          "size": 2.3
         },
         "type": "scatter3d",
         "x": [
          -81.9605941772461,
          -56.94680115508959
         ],
         "y": [
          -145.9490509033203,
          -340.485820413066
         ],
         "z": [
          -14.72220516204834,
          24.38988334466292
         ]
        },
        {
         "legendgroup": "15",
         "legendgrouptitle": {
          "text": "--15--"
         },
         "line": {
          "color": "green",
          "width": 2
         },
         "marker": {
          "color": "green",
          "size": 2.3
         },
         "type": "scatter3d",
         "x": [
          -81.9605941772461,
          115.99814533132468
         ],
         "y": [
          -145.9490509033203,
          -118.76999361258865
         ],
         "z": [
          -14.72220516204834,
          -6.141045743592876
         ]
        },
        {
         "legendgroup": "15",
         "legendgrouptitle": {
          "text": "--15--"
         },
         "line": {
          "color": "blue",
          "width": 2
         },
         "marker": {
          "color": "blue",
          "size": 2.3
         },
         "type": "scatter3d",
         "x": [
          -81.9605941772461,
          -47.80583509976452
         ],
         "y": [
          -145.9490509033203,
          -240.04820583773088
         ],
         "z": [
          -14.72220516204834,
          -504.5985175848772
         ]
        },
        {
         "legendgroup": "16",
         "legendgrouptitle": {
          "text": "--16--"
         },
         "line": {
          "color": "red",
          "width": 2
         },
         "marker": {
          "color": "red",
          "size": 2.4000000000000004
         },
         "type": "scatter3d",
         "x": [
          -108.79360961914062,
          -128.06577785586055
         ],
         "y": [
          -153.7128143310547,
          -348.2094578333531
         ],
         "z": [
          -18.052013397216797,
          24.3701411661172
         ]
        },
        {
         "legendgroup": "16",
         "legendgrouptitle": {
          "text": "--16--"
         },
         "line": {
          "color": "green",
          "width": 2
         },
         "marker": {
          "color": "green",
          "size": 2.4000000000000004
         },
         "type": "scatter3d",
         "x": [
          -108.79360961914062,
          89.98473415534272
         ],
         "y": [
          -153.7128143310547,
          -170.2113141904245
         ],
         "z": [
          -18.052013397216797,
          -3.3901735173209886
         ]
        },
        {
         "legendgroup": "16",
         "legendgrouptitle": {
          "text": "--16--"
         },
         "line": {
          "color": "blue",
          "width": 2
         },
         "marker": {
          "color": "blue",
          "size": 2.4000000000000004
         },
         "type": "scatter3d",
         "x": [
          -108.79360961914062,
          -81.8964004552588
         ],
         "y": [
          -153.7128143310547,
          -262.6524526844281
         ],
         "z": [
          -18.052013397216797,
          -505.2980450225453
         ]
        },
        {
         "legendgroup": "17",
         "legendgrouptitle": {
          "text": "--17--"
         },
         "line": {
          "color": "red",
          "width": 2
         },
         "marker": {
          "color": "red",
          "size": 2.5
         },
         "type": "scatter3d",
         "x": [
          -138.6239013671875,
          -204.17170421029914
         ],
         "y": [
          -155.6298828125,
          -339.2965538562987
         ],
         "z": [
          -22.48200798034668,
          21.903118921911904
         ]
        },
        {
         "legendgroup": "17",
         "legendgrouptitle": {
          "text": "--17--"
         },
         "line": {
          "color": "green",
          "width": 2
         },
         "marker": {
          "color": "green",
          "size": 2.5
         },
         "type": "scatter3d",
         "x": [
          -138.6239013671875,
          50.224667357914484
         ],
         "y": [
          -155.6298828125,
          -217.7415496079552
         ],
         "z": [
          -22.48200798034668,
          -0.6105896822393646
         ]
        },
        {
         "legendgroup": "17",
         "legendgrouptitle": {
          "text": "--17--"
         },
         "line": {
          "color": "blue",
          "width": 2
         },
         "marker": {
          "color": "blue",
          "size": 2.5
         },
         "type": "scatter3d",
         "x": [
          -138.6239013671875,
          -122.87119665477854
         ],
         "y": [
          -155.6298828125,
          -278.3260215959639
         ],
         "z": [
          -22.48200798034668,
          -506.93789846148496
         ]
        },
        {
         "legendgroup": "18",
         "legendgrouptitle": {
          "text": "--18--"
         },
         "line": {
          "color": "red",
          "width": 2
         },
         "marker": {
          "color": "red",
          "size": 2.6
         },
         "type": "scatter3d",
         "x": [
          -169.94322204589844,
          -280.6214806874164
         ],
         "y": [
          -150.26356506347656,
          -310.78327416513696
         ],
         "z": [
          -28.32663345336914,
          16.212630730040928
         ]
        },
        {
         "legendgroup": "18",
         "legendgrouptitle": {
          "text": "--18--"
         },
         "line": {
          "color": "green",
          "width": 2
         },
         "marker": {
          "color": "green",
          "size": 2.6
         },
         "type": "scatter3d",
         "x": [
          -169.94322204589844,
          -3.359159229456907
         ],
         "y": [
          -150.26356506347656,
          -256.8256165372206
         ],
         "z": [
          -28.32663345336914,
          1.5778679013600438
         ]
        },
        {
         "legendgroup": "18",
         "legendgrouptitle": {
          "text": "--18--"
         },
         "line": {
          "color": "blue",
          "width": 2
         },
         "marker": {
          "color": "blue",
          "size": 2.6
         },
         "type": "scatter3d",
         "x": [
          -169.94322204589844,
          -169.26739084869706
         ],
         "y": [
          -150.26356506347656,
          -284.3799365386217
         ],
         "z": [
          -28.32663345336914,
          -510.00322843649036
         ]
        },
        {
         "legendgroup": "19",
         "legendgrouptitle": {
          "text": "--19--"
         },
         "line": {
          "color": "red",
          "width": 2
         },
         "marker": {
          "color": "red",
          "size": 2.7
         },
         "type": "scatter3d",
         "x": [
          -200.57968139648438,
          -351.24493985271465
         ],
         "y": [
          -136.57192993164062,
          -261.0503145059018
         ],
         "z": [
          -35.90103530883789,
          6.585570440500106
         ]
        },
        {
         "legendgroup": "19",
         "legendgrouptitle": {
          "text": "--19--"
         },
         "line": {
          "color": "green",
          "width": 2
         },
         "marker": {
          "color": "green",
          "size": 2.7
         },
         "type": "scatter3d",
         "x": [
          -200.57968139648438,
          -69.24641662605424
         ],
         "y": [
          -136.57192993164062,
          -282.4744136723287
         ],
         "z": [
          -35.90103530883789,
          2.3617246940469627
         ]
        },
        {
         "legendgroup": "19",
         "legendgrouptitle": {
          "text": "--19--"
         },
         "line": {
          "color": "blue",
          "width": 2
         },
         "marker": {
          "color": "blue",
          "size": 2.7
         },
         "type": "scatter3d",
         "x": [
          -200.57968139648438,
          -218.52986577183503
         ],
         "y": [
          -136.57192993164062,
          -278.3815957711161
         ],
         "z": [
          -35.90103530883789,
          -515.0333860798823
         ]
        },
        {
         "legendgroup": "20",
         "legendgrouptitle": {
          "text": "--20--"
         },
         "line": {
          "color": "red",
          "width": 2
         },
         "marker": {
          "color": "red",
          "size": 2.8
         },
         "type": "scatter3d",
         "x": [
          -227.77943420410156,
          -408.6887688517014
         ],
         "y": [
          -114.21733856201172,
          -190.57044386814434
         ],
         "z": [
          -45.47366714477539,
          -7.49978207261875
         ]
        },
        {
         "legendgroup": "20",
         "legendgrouptitle": {
          "text": "--20--"
         },
         "line": {
          "color": "green",
          "width": 2
         },
         "marker": {
          "color": "green",
          "size": 2.8
         },
         "type": "scatter3d",
         "x": [
          -227.77943420410156,
          -143.9587301966591
         ],
         "y": [
          -114.21733856201172,
          -289.81458128260977
         ],
         "z": [
          -45.47366714477539,
          0.7832018437338135
         ]
        },
        {
         "legendgroup": "20",
         "legendgrouptitle": {
          "text": "--20--"
         },
         "line": {
          "color": "blue",
          "width": 2
         },
         "marker": {
          "color": "blue",
          "size": 2.8
         },
         "type": "scatter3d",
         "x": [
          -227.77943420410156,
          -266.98260826720104
         ],
         "y": [
          -114.21733856201172,
          -258.60855321499014
         ],
         "z": [
          -45.47366714477539,
          -522.5630594754118
         ]
        },
        {
         "legendgroup": "21",
         "legendgrouptitle": {
          "text": "--21--"
         },
         "line": {
          "color": "red",
          "width": 2
         },
         "marker": {
          "color": "red",
          "size": 2.9000000000000004
         },
         "type": "scatter3d",
         "x": [
          -248.4325408935547,
          -445.12877238160286
         ],
         "y": [
          -83.8164291381836,
          -102.5381379867029
         ],
         "z": [
          -57.21573257446289,
          -26.230411272410038
         ]
        },
        {
         "legendgroup": "21",
         "legendgrouptitle": {
          "text": "--21--"
         },
         "line": {
          "color": "green",
          "width": 2
         },
         "marker": {
          "color": "green",
          "size": 2.9000000000000004
         },
         "type": "scatter3d",
         "x": [
          -248.4325408935547,
          -221.8970214586821
         ],
         "y": [
          -83.8164291381836,
          -274.8201519297634
         ],
         "z": [
          -57.21573257446289,
          -4.173823784536907
         ]
        },
        {
         "legendgroup": "21",
         "legendgrouptitle": {
          "text": "--21--"
         },
         "line": {
          "color": "blue",
          "width": 2
         },
         "marker": {
          "color": "blue",
          "size": 2.9000000000000004
         },
         "type": "scatter3d",
         "x": [
          -248.4325408935547,
          -309.99849773668745
         ],
         "y": [
          -83.8164291381836,
          -224.50836870715372
         ],
         "z": [
          -57.21573257446289,
          -533.0470168531563
         ]
        },
        {
         "legendgroup": "22",
         "legendgrouptitle": {
          "text": "--22--"
         },
         "line": {
          "color": "red",
          "width": 2
         },
         "marker": {
          "color": "red",
          "size": 3
         },
         "type": "scatter3d",
         "x": [
          -259.37506103515625,
          -453.28353700170373
         ],
         "y": [
          -47.19589614868164,
          -3.3438784811777964
         ],
         "z": [
          -71.14311981201172,
          -49.3141598088461
         ]
        },
        {
         "legendgroup": "22",
         "legendgrouptitle": {
          "text": "--22--"
         },
         "line": {
          "color": "green",
          "width": 2
         },
         "marker": {
          "color": "green",
          "size": 3
         },
         "type": "scatter3d",
         "x": [
          -259.37506103515625,
          -295.4127977716625
         ],
         "y": [
          -47.19589614868164,
          -235.2712863735404
         ],
         "z": [
          -71.14311981201172,
          -13.44624708326338
         ]
        },
        {
         "legendgroup": "22",
         "legendgrouptitle": {
          "text": "--22--"
         },
         "line": {
          "color": "blue",
          "width": 2
         },
         "marker": {
          "color": "blue",
          "size": 3
         },
         "type": "scatter3d",
         "x": [
          -259.37506103515625,
          -342.3202416983937
         ],
         "y": [
          -47.19589614868164,
          -177.2114754617021
         ],
         "z": [
          -71.14311981201172,
          -546.764866729289
         ]
        }
       ],
       "layout": {
        "scene": {
         "aspectmode": "data",
         "aspectratio": {
          "x": 1,
          "y": 1,
          "z": 1
         }
        },
        "template": {
         "data": {
          "bar": [
           {
            "error_x": {
             "color": "#2a3f5f"
            },
            "error_y": {
             "color": "#2a3f5f"
            },
            "marker": {
             "line": {
              "color": "#E5ECF6",
              "width": 0.5
             },
             "pattern": {
              "fillmode": "overlay",
              "size": 10,
              "solidity": 0.2
             }
            },
            "type": "bar"
           }
          ],
          "barpolar": [
           {
            "marker": {
             "line": {
              "color": "#E5ECF6",
              "width": 0.5
             },
             "pattern": {
              "fillmode": "overlay",
              "size": 10,
              "solidity": 0.2
             }
            },
            "type": "barpolar"
           }
          ],
          "carpet": [
           {
            "aaxis": {
             "endlinecolor": "#2a3f5f",
             "gridcolor": "white",
             "linecolor": "white",
             "minorgridcolor": "white",
             "startlinecolor": "#2a3f5f"
            },
            "baxis": {
             "endlinecolor": "#2a3f5f",
             "gridcolor": "white",
             "linecolor": "white",
             "minorgridcolor": "white",
             "startlinecolor": "#2a3f5f"
            },
            "type": "carpet"
           }
          ],
          "choropleth": [
           {
            "colorbar": {
             "outlinewidth": 0,
             "ticks": ""
            },
            "type": "choropleth"
           }
          ],
          "contour": [
           {
            "colorbar": {
             "outlinewidth": 0,
             "ticks": ""
            },
            "colorscale": [
             [
              0,
              "#0d0887"
             ],
             [
              0.1111111111111111,
              "#46039f"
             ],
             [
              0.2222222222222222,
              "#7201a8"
             ],
             [
              0.3333333333333333,
              "#9c179e"
             ],
             [
              0.4444444444444444,
              "#bd3786"
             ],
             [
              0.5555555555555556,
              "#d8576b"
             ],
             [
              0.6666666666666666,
              "#ed7953"
             ],
             [
              0.7777777777777778,
              "#fb9f3a"
             ],
             [
              0.8888888888888888,
              "#fdca26"
             ],
             [
              1,
              "#f0f921"
             ]
            ],
            "type": "contour"
           }
          ],
          "contourcarpet": [
           {
            "colorbar": {
             "outlinewidth": 0,
             "ticks": ""
            },
            "type": "contourcarpet"
           }
          ],
          "heatmap": [
           {
            "colorbar": {
             "outlinewidth": 0,
             "ticks": ""
            },
            "colorscale": [
             [
              0,
              "#0d0887"
             ],
             [
              0.1111111111111111,
              "#46039f"
             ],
             [
              0.2222222222222222,
              "#7201a8"
             ],
             [
              0.3333333333333333,
              "#9c179e"
             ],
             [
              0.4444444444444444,
              "#bd3786"
             ],
             [
              0.5555555555555556,
              "#d8576b"
             ],
             [
              0.6666666666666666,
              "#ed7953"
             ],
             [
              0.7777777777777778,
              "#fb9f3a"
             ],
             [
              0.8888888888888888,
              "#fdca26"
             ],
             [
              1,
              "#f0f921"
             ]
            ],
            "type": "heatmap"
           }
          ],
          "heatmapgl": [
           {
            "colorbar": {
             "outlinewidth": 0,
             "ticks": ""
            },
            "colorscale": [
             [
              0,
              "#0d0887"
             ],
             [
              0.1111111111111111,
              "#46039f"
             ],
             [
              0.2222222222222222,
              "#7201a8"
             ],
             [
              0.3333333333333333,
              "#9c179e"
             ],
             [
              0.4444444444444444,
              "#bd3786"
             ],
             [
              0.5555555555555556,
              "#d8576b"
             ],
             [
              0.6666666666666666,
              "#ed7953"
             ],
             [
              0.7777777777777778,
              "#fb9f3a"
             ],
             [
              0.8888888888888888,
              "#fdca26"
             ],
             [
              1,
              "#f0f921"
             ]
            ],
            "type": "heatmapgl"
           }
          ],
          "histogram": [
           {
            "marker": {
             "pattern": {
              "fillmode": "overlay",
              "size": 10,
              "solidity": 0.2
             }
            },
            "type": "histogram"
           }
          ],
          "histogram2d": [
           {
            "colorbar": {
             "outlinewidth": 0,
             "ticks": ""
            },
            "colorscale": [
             [
              0,
              "#0d0887"
             ],
             [
              0.1111111111111111,
              "#46039f"
             ],
             [
              0.2222222222222222,
              "#7201a8"
             ],
             [
              0.3333333333333333,
              "#9c179e"
             ],
             [
              0.4444444444444444,
              "#bd3786"
             ],
             [
              0.5555555555555556,
              "#d8576b"
             ],
             [
              0.6666666666666666,
              "#ed7953"
             ],
             [
              0.7777777777777778,
              "#fb9f3a"
             ],
             [
              0.8888888888888888,
              "#fdca26"
             ],
             [
              1,
              "#f0f921"
             ]
            ],
            "type": "histogram2d"
           }
          ],
          "histogram2dcontour": [
           {
            "colorbar": {
             "outlinewidth": 0,
             "ticks": ""
            },
            "colorscale": [
             [
              0,
              "#0d0887"
             ],
             [
              0.1111111111111111,
              "#46039f"
             ],
             [
              0.2222222222222222,
              "#7201a8"
             ],
             [
              0.3333333333333333,
              "#9c179e"
             ],
             [
              0.4444444444444444,
              "#bd3786"
             ],
             [
              0.5555555555555556,
              "#d8576b"
             ],
             [
              0.6666666666666666,
              "#ed7953"
             ],
             [
              0.7777777777777778,
              "#fb9f3a"
             ],
             [
              0.8888888888888888,
              "#fdca26"
             ],
             [
              1,
              "#f0f921"
             ]
            ],
            "type": "histogram2dcontour"
           }
          ],
          "mesh3d": [
           {
            "colorbar": {
             "outlinewidth": 0,
             "ticks": ""
            },
            "type": "mesh3d"
           }
          ],
          "parcoords": [
           {
            "line": {
             "colorbar": {
              "outlinewidth": 0,
              "ticks": ""
             }
            },
            "type": "parcoords"
           }
          ],
          "pie": [
           {
            "automargin": true,
            "type": "pie"
           }
          ],
          "scatter": [
           {
            "marker": {
             "colorbar": {
              "outlinewidth": 0,
              "ticks": ""
             }
            },
            "type": "scatter"
           }
          ],
          "scatter3d": [
           {
            "line": {
             "colorbar": {
              "outlinewidth": 0,
              "ticks": ""
             }
            },
            "marker": {
             "colorbar": {
              "outlinewidth": 0,
              "ticks": ""
             }
            },
            "type": "scatter3d"
           }
          ],
          "scattercarpet": [
           {
            "marker": {
             "colorbar": {
              "outlinewidth": 0,
              "ticks": ""
             }
            },
            "type": "scattercarpet"
           }
          ],
          "scattergeo": [
           {
            "marker": {
             "colorbar": {
              "outlinewidth": 0,
              "ticks": ""
             }
            },
            "type": "scattergeo"
           }
          ],
          "scattergl": [
           {
            "marker": {
             "colorbar": {
              "outlinewidth": 0,
              "ticks": ""
             }
            },
            "type": "scattergl"
           }
          ],
          "scattermapbox": [
           {
            "marker": {
             "colorbar": {
              "outlinewidth": 0,
              "ticks": ""
             }
            },
            "type": "scattermapbox"
           }
          ],
          "scatterpolar": [
           {
            "marker": {
             "colorbar": {
              "outlinewidth": 0,
              "ticks": ""
             }
            },
            "type": "scatterpolar"
           }
          ],
          "scatterpolargl": [
           {
            "marker": {
             "colorbar": {
              "outlinewidth": 0,
              "ticks": ""
             }
            },
            "type": "scatterpolargl"
           }
          ],
          "scatterternary": [
           {
            "marker": {
             "colorbar": {
              "outlinewidth": 0,
              "ticks": ""
             }
            },
            "type": "scatterternary"
           }
          ],
          "surface": [
           {
            "colorbar": {
             "outlinewidth": 0,
             "ticks": ""
            },
            "colorscale": [
             [
              0,
              "#0d0887"
             ],
             [
              0.1111111111111111,
              "#46039f"
             ],
             [
              0.2222222222222222,
              "#7201a8"
             ],
             [
              0.3333333333333333,
              "#9c179e"
             ],
             [
              0.4444444444444444,
              "#bd3786"
             ],
             [
              0.5555555555555556,
              "#d8576b"
             ],
             [
              0.6666666666666666,
              "#ed7953"
             ],
             [
              0.7777777777777778,
              "#fb9f3a"
             ],
             [
              0.8888888888888888,
              "#fdca26"
             ],
             [
              1,
              "#f0f921"
             ]
            ],
            "type": "surface"
           }
          ],
          "table": [
           {
            "cells": {
             "fill": {
              "color": "#EBF0F8"
             },
             "line": {
              "color": "white"
             }
            },
            "header": {
             "fill": {
              "color": "#C8D4E3"
             },
             "line": {
              "color": "white"
             }
            },
            "type": "table"
           }
          ]
         },
         "layout": {
          "annotationdefaults": {
           "arrowcolor": "#2a3f5f",
           "arrowhead": 0,
           "arrowwidth": 1
          },
          "autotypenumbers": "strict",
          "coloraxis": {
           "colorbar": {
            "outlinewidth": 0,
            "ticks": ""
           }
          },
          "colorscale": {
           "diverging": [
            [
             0,
             "#8e0152"
            ],
            [
             0.1,
             "#c51b7d"
            ],
            [
             0.2,
             "#de77ae"
            ],
            [
             0.3,
             "#f1b6da"
            ],
            [
             0.4,
             "#fde0ef"
            ],
            [
             0.5,
             "#f7f7f7"
            ],
            [
             0.6,
             "#e6f5d0"
            ],
            [
             0.7,
             "#b8e186"
            ],
            [
             0.8,
             "#7fbc41"
            ],
            [
             0.9,
             "#4d9221"
            ],
            [
             1,
             "#276419"
            ]
           ],
           "sequential": [
            [
             0,
             "#0d0887"
            ],
            [
             0.1111111111111111,
             "#46039f"
            ],
            [
             0.2222222222222222,
             "#7201a8"
            ],
            [
             0.3333333333333333,
             "#9c179e"
            ],
            [
             0.4444444444444444,
             "#bd3786"
            ],
            [
             0.5555555555555556,
             "#d8576b"
            ],
            [
             0.6666666666666666,
             "#ed7953"
            ],
            [
             0.7777777777777778,
             "#fb9f3a"
            ],
            [
             0.8888888888888888,
             "#fdca26"
            ],
            [
             1,
             "#f0f921"
            ]
           ],
           "sequentialminus": [
            [
             0,
             "#0d0887"
            ],
            [
             0.1111111111111111,
             "#46039f"
            ],
            [
             0.2222222222222222,
             "#7201a8"
            ],
            [
             0.3333333333333333,
             "#9c179e"
            ],
            [
             0.4444444444444444,
             "#bd3786"
            ],
            [
             0.5555555555555556,
             "#d8576b"
            ],
            [
             0.6666666666666666,
             "#ed7953"
            ],
            [
             0.7777777777777778,
             "#fb9f3a"
            ],
            [
             0.8888888888888888,
             "#fdca26"
            ],
            [
             1,
             "#f0f921"
            ]
           ]
          },
          "colorway": [
           "#636efa",
           "#EF553B",
           "#00cc96",
           "#ab63fa",
           "#FFA15A",
           "#19d3f3",
           "#FF6692",
           "#B6E880",
           "#FF97FF",
           "#FECB52"
          ],
          "font": {
           "color": "#2a3f5f"
          },
          "geo": {
           "bgcolor": "white",
           "lakecolor": "white",
           "landcolor": "#E5ECF6",
           "showlakes": true,
           "showland": true,
           "subunitcolor": "white"
          },
          "hoverlabel": {
           "align": "left"
          },
          "hovermode": "closest",
          "mapbox": {
           "style": "light"
          },
          "paper_bgcolor": "white",
          "plot_bgcolor": "#E5ECF6",
          "polar": {
           "angularaxis": {
            "gridcolor": "white",
            "linecolor": "white",
            "ticks": ""
           },
           "bgcolor": "#E5ECF6",
           "radialaxis": {
            "gridcolor": "white",
            "linecolor": "white",
            "ticks": ""
           }
          },
          "scene": {
           "xaxis": {
            "backgroundcolor": "#E5ECF6",
            "gridcolor": "white",
            "gridwidth": 2,
            "linecolor": "white",
            "showbackground": true,
            "ticks": "",
            "zerolinecolor": "white"
           },
           "yaxis": {
            "backgroundcolor": "#E5ECF6",
            "gridcolor": "white",
            "gridwidth": 2,
            "linecolor": "white",
            "showbackground": true,
            "ticks": "",
            "zerolinecolor": "white"
           },
           "zaxis": {
            "backgroundcolor": "#E5ECF6",
            "gridcolor": "white",
            "gridwidth": 2,
            "linecolor": "white",
            "showbackground": true,
            "ticks": "",
            "zerolinecolor": "white"
           }
          },
          "shapedefaults": {
           "line": {
            "color": "#2a3f5f"
           }
          },
          "ternary": {
           "aaxis": {
            "gridcolor": "white",
            "linecolor": "white",
            "ticks": ""
           },
           "baxis": {
            "gridcolor": "white",
            "linecolor": "white",
            "ticks": ""
           },
           "bgcolor": "#E5ECF6",
           "caxis": {
            "gridcolor": "white",
            "linecolor": "white",
            "ticks": ""
           }
          },
          "title": {
           "x": 0.05
          },
          "xaxis": {
           "automargin": true,
           "gridcolor": "white",
           "linecolor": "white",
           "ticks": "",
           "title": {
            "standoff": 15
           },
           "zerolinecolor": "white",
           "zerolinewidth": 2
          },
          "yaxis": {
           "automargin": true,
           "gridcolor": "white",
           "linecolor": "white",
           "ticks": "",
           "title": {
            "standoff": 15
           },
           "zerolinecolor": "white",
           "zerolinewidth": 2
          }
         }
        },
        "title": {
         "text": "5-sit"
        }
       }
      },
      "text/html": [
       "<div>                            <div id=\"b9f98dc6-e5d4-4c6d-ba11-72b0579c1534\" class=\"plotly-graph-div\" style=\"height:525px; width:100%;\"></div>            <script type=\"text/javascript\">                require([\"plotly\"], function(Plotly) {                    window.PLOTLYENV=window.PLOTLYENV || {};                                    if (document.getElementById(\"b9f98dc6-e5d4-4c6d-ba11-72b0579c1534\")) {                    Plotly.newPlot(                        \"b9f98dc6-e5d4-4c6d-ba11-72b0579c1534\",                        [{\"legendgroup\":\"0\",\"legendgrouptitle\":{\"text\":\"origins\"},\"line\":{\"color\":\"black\",\"width\":2},\"marker\":{\"color\":\"black\",\"size\":1},\"type\":\"scatter3d\",\"x\":[0.0,0.25190892815589905,0.6851547956466675,1.1463571786880493,1.4007501602172852,1.115753173828125,-0.137000173330307,-2.866492748260498,-7.64780855178833,-15.08651065826416,-25.793807983398438,-40.3155517578125,-59.01689147949219,-81.9605941772461,-108.79360961914062,-138.6239013671875,-169.94322204589844,-200.57968139648438,-227.77943420410156,-248.4325408935547,-259.37506103515625],\"y\":[0.0,-1.9647092819213867,-5.886289119720459,-11.774782180786133,-19.646896362304688,-29.502920150756836,-41.286460876464844,-54.8629264831543,-69.96342468261719,-86.14763641357422,-102.7966079711914,-119.07251739501953,-133.89990234375,-145.9490509033203,-153.7128143310547,-155.6298828125,-150.26356506347656,-136.57192993164062,-114.21733856201172,-83.8164291381836,-47.19589614868164],\"z\":[0.0,-0.23067471385002136,-0.6715208888053894,-1.2966217994689941,-2.078329563140869,-2.985982656478882,-3.9840428829193115,-5.042399883270264,-6.158560276031494,-7.35571813583374,-8.6923828125,-10.261177062988281,-12.206778526306152,-14.72220516204834,-18.052013397216797,-22.48200798034668,-28.32663345336914,-35.90103530883789,-45.47366714477539,-57.21573257446289,-71.14311981201172]},{\"legendgroup\":\"1\",\"legendgrouptitle\":{\"text\":\"finish\"},\"line\":{\"color\":\"black\",\"width\":2},\"marker\":{\"color\":\"black\",\"size\":1},\"type\":\"scatter3d\",\"x\":[0.0,-7.630595717782262,-22.9574999528646,-46.09479290609618,-77.1420105800971,-116.1139678740502,-162.8223820815233,-216.72764632994264,-276.7725037204792,-341.205101636811,-407.4451474704512,-471.96865021788614,-530.250867506928,-576.857442948673,-605.739469055349,-610.7453231799425,-586.4033790870023,-528.9128433225596,-437.3311942227077,-314.7713394807362,-169.28071919389063],\"y\":[-500.0,-501.9021692831997,-505.3236142673367,-509.52575983045045,-513.4094381620314,-515.509099123778,-513.9908328765994,-506.70088374374114,-491.228725100493,-465.0501439228766,-425.77115645751576,-371.412219233226,-300.7829873201305,-213.89669413014948,-112.46656468263015,-0.35071582386203204,116.14156362088346,228.18427942007952,324.77576823948334,393.69287784076596,422.99257941346525],\"z\":[0.0,0.4035239749886871,1.1678066614152736,2.2016617039571043,3.361068451603349,4.442779224237441,5.183465248730926,5.2467870278648014,4.207013234199806,1.5636103888007096,-3.2429702025627645,-10.787927500144617,-21.618249513361743,-36.175103708186995,-54.70661309695632,-77.16055372561496,-103.0878868401921,-131.55793531605002,-161.1158396160484,-189.82050454927784,-215.38530163388256]},{\"legendgroup\":\"2\",\"legendgrouptitle\":{\"text\":\"--2--\"},\"line\":{\"color\":\"red\",\"width\":2},\"marker\":{\"color\":\"red\",\"size\":1.0},\"type\":\"scatter3d\",\"x\":[0.0,200.0],\"y\":[0.0,0.0],\"z\":[0.0,0.0]},{\"legendgroup\":\"2\",\"legendgrouptitle\":{\"text\":\"--2--\"},\"line\":{\"color\":\"green\",\"width\":2},\"marker\":{\"color\":\"green\",\"size\":1.0},\"type\":\"scatter3d\",\"x\":[0.0,0.0],\"y\":[0.0,200.0],\"z\":[0.0,0.0]},{\"legendgroup\":\"2\",\"legendgrouptitle\":{\"text\":\"--2--\"},\"line\":{\"color\":\"blue\",\"width\":2},\"marker\":{\"color\":\"blue\",\"size\":1.0},\"type\":\"scatter3d\",\"x\":[0.0,0.0],\"y\":[0.0,0.0],\"z\":[0.0,-500.0]},{\"legendgroup\":\"3\",\"legendgrouptitle\":{\"text\":\"--3--\"},\"line\":{\"color\":\"red\",\"width\":2},\"marker\":{\"color\":\"red\",\"size\":1.1},\"type\":\"scatter3d\",\"x\":[0.25190892815589905,200.22665125209355],\"y\":[-1.9647092819213867,-5.117193168796774],\"z\":[-0.23067471385002136,0.1746372866483426]},{\"legendgroup\":\"3\",\"legendgrouptitle\":{\"text\":\"--3--\"},\"line\":{\"color\":\"green\",\"width\":2},\"marker\":{\"color\":\"green\",\"size\":1.1},\"type\":\"scatter3d\",\"x\":[0.25190892815589905,3.4049107865311634],\"y\":[-1.9647092819213867,198.01027471858995],\"z\":[-0.23067471385002136,-0.48435418938550473]},{\"legendgroup\":\"3\",\"legendgrouptitle\":{\"text\":\"--3--\"},\"line\":{\"color\":\"blue\",\"width\":2},\"marker\":{\"color\":\"blue\",\"size\":1.1},\"type\":\"scatter3d\",\"x\":[0.25190892815589905,1.255065682603636],\"y\":[-1.9647092819213867,-2.6148022474698],\"z\":[-0.23067471385002136,-500.2292457674703]},{\"legendgroup\":\"4\",\"legendgrouptitle\":{\"text\":\"--4--\"},\"line\":{\"color\":\"red\",\"width\":2},\"marker\":{\"color\":\"red\",\"size\":1.2},\"type\":\"scatter3d\",\"x\":[0.6851547956466675,200.45786326546846],\"y\":[-5.886289119720459,-15.338710348091817],\"z\":[-0.6715208888053894,0.5600161804792969]},{\"legendgroup\":\"4\",\"legendgrouptitle\":{\"text\":\"--4--\"},\"line\":{\"color\":\"green\",\"width\":2},\"marker\":{\"color\":\"green\",\"size\":1.2},\"type\":\"scatter3d\",\"x\":[0.6851547956466675,10.142216695051175],\"y\":[-5.886289119720459,193.88864093932602],\"z\":[-0.6715208888053894,-1.4072519088936546]},{\"legendgroup\":\"4\",\"legendgrouptitle\":{\"text\":\"--4--\"},\"line\":{\"color\":\"blue\",\"width\":2},\"marker\":{\"color\":\"blue\",\"size\":1.2},\"type\":\"scatter3d\",\"x\":[0.6851547956466675,3.6736022002568878],\"y\":[-5.886289119720459,-7.869110380769635],\"z\":[-0.6715208888053894,-500.6586583253165]},{\"legendgroup\":\"5\",\"legendgrouptitle\":{\"text\":\"--5--\"},\"line\":{\"color\":\"red\",\"width\":2},\"marker\":{\"color\":\"red\",\"size\":1.3},\"type\":\"scatter3d\",\"x\":[1.1463571786880493,200.23766666709236],\"y\":[-11.774782180786133,-30.652779351240596],\"z\":[-1.2966217994689941,1.2077162417586509]},{\"legendgroup\":\"5\",\"legendgrouptitle\":{\"text\":\"--5--\"},\"line\":{\"color\":\"green\",\"width\":2},\"marker\":{\"color\":\"green\",\"size\":1.3},\"type\":\"scatter3d\",\"x\":[1.1463571786880493,20.04281721260174],\"y\":[-11.774782180786133,187.3256088790796],\"z\":[-1.2966217994689941,-2.6959352008394335]},{\"legendgroup\":\"5\",\"legendgrouptitle\":{\"text\":\"--5--\"},\"line\":{\"color\":\"blue\",\"width\":2},\"marker\":{\"color\":\"blue\",\"size\":1.3},\"type\":\"scatter3d\",\"x\":[1.1463571786880493,7.048837790223949],\"y\":[-11.774782180786133,-15.848710445423404],\"z\":[-1.2966217994689941,-501.2451829846424]},{\"legendgroup\":\"6\",\"legendgrouptitle\":{\"text\":\"--6--\"},\"line\":{\"color\":\"red\",\"width\":2},\"marker\":{\"color\":\"red\",\"size\":1.4},\"type\":\"scatter3d\",\"x\":[1.4007501602172852,198.880014624784],\"y\":[-19.646896362304688,-51.013029197027386],\"z\":[-2.078329563140869,2.176763564894011]},{\"legendgroup\":\"6\",\"legendgrouptitle\":{\"text\":\"--6--\"},\"line\":{\"color\":\"green\",\"width\":2},\"marker\":{\"color\":\"green\",\"size\":1.4},\"type\":\"scatter3d\",\"x\":[1.4007501602172852,32.81785445634304],\"y\":[-19.646896362304688,177.85812035758602],\"z\":[-2.078329563140869,-4.254088769038557]},{\"legendgroup\":\"6\",\"legendgrouptitle\":{\"text\":\"--6--\"},\"line\":{\"color\":\"blue\",\"width\":2},\"marker\":{\"color\":\"blue\",\"size\":1.4},\"type\":\"scatter3d\",\"x\":[1.4007501602172852,11.052713749325578],\"y\":[-19.646896362304688,-26.688771765128248],\"z\":[-2.078329563140869,-501.9355607698982]},{\"legendgroup\":\"7\",\"legendgrouptitle\":{\"text\":\"--7--\"},\"line\":{\"color\":\"red\",\"width\":2},\"marker\":{\"color\":\"red\",\"size\":1.5},\"type\":\"scatter3d\",\"x\":[1.115753173828125,195.4591591686332],\"y\":[-29.502920150756836,-76.28096601939168],\"z\":[-2.985982656478882,3.5297652706792624]},{\"legendgroup\":\"7\",\"legendgrouptitle\":{\"text\":\"--7--\"},\"line\":{\"color\":\"green\",\"width\":2},\"marker\":{\"color\":\"green\",\"size\":1.5},\"type\":\"scatter3d\",\"x\":[1.115753173828125,48.00764159297946],\"y\":[-29.502920150756836,164.89955143845162],\"z\":[-2.985982656478882,-5.957487408765411]},{\"legendgroup\":\"7\",\"legendgrouptitle\":{\"text\":\"--7--\"},\"line\":{\"color\":\"blue\",\"width\":2},\"marker\":{\"color\":\"blue\",\"size\":1.5},\"type\":\"scatter3d\",\"x\":[1.115753173828125,15.211707119959113],\"y\":[-29.502920150756836,-40.54077114146596],\"z\":[-2.985982656478882,-502.66534977889216]},{\"legendgroup\":\"8\",\"legendgrouptitle\":{\"text\":\"--8--\"},\"line\":{\"color\":\"red\",\"width\":2},\"marker\":{\"color\":\"red\",\"size\":1.6},\"type\":\"scatter3d\",\"x\":[-0.137000173330307,188.82699156886358],\"y\":[-41.286460876464844,-106.13951502202706],\"z\":[-3.9840428829193115,5.326767653702657]},{\"legendgroup\":\"8\",\"legendgrouptitle\":{\"text\":\"--8--\"},\"line\":{\"color\":\"green\",\"width\":2},\"marker\":{\"color\":\"green\",\"size\":1.6},\"type\":\"scatter3d\",\"x\":[-0.137000173330307,64.93715258994689],\"y\":[-41.286460876464844,147.79528792358894],\"z\":[-3.9840428829193115,-7.651046135579406]},{\"legendgroup\":\"8\",\"legendgrouptitle\":{\"text\":\"--8--\"},\"line\":{\"color\":\"blue\",\"width\":2},\"marker\":{\"color\":\"blue\",\"size\":1.6},\"type\":\"scatter3d\",\"x\":[-0.137000173330307,18.896599558091335],\"y\":[-41.286460876464844,-57.52176937101896],\"z\":[-3.9840428829193115,-503.3577875264986]},{\"legendgroup\":\"9\",\"legendgrouptitle\":{\"text\":\"--9--\"},\"line\":{\"color\":\"red\",\"width\":2},\"marker\":{\"color\":\"red\",\"size\":1.7000000000000002},\"type\":\"scatter3d\",\"x\":[-2.866492748260498,177.65636843660164],\"y\":[-54.8629264831543,-140.0188862525522],\"z\":[-5.042399883270264,7.6050941524542495]},{\"legendgroup\":\"9\",\"legendgrouptitle\":{\"text\":\"--9--\"},\"line\":{\"color\":\"green\",\"width\":2},\"marker\":{\"color\":\"green\",\"size\":1.7000000000000002},\"type\":\"scatter3d\",\"x\":[-2.866492748260498,82.67796868441236],\"y\":[-54.8629264831543,125.87225642108044],\"z\":[-5.042399883270264,-9.158074647724291]},{\"legendgroup\":\"9\",\"legendgrouptitle\":{\"text\":\"--9--\"},\"line\":{\"color\":\"blue\",\"width\":2},\"marker\":{\"color\":\"blue\",\"size\":1.7000000000000002},\"type\":\"scatter3d\",\"x\":[-2.866492748260498,21.325668666253435],\"y\":[-54.8629264831543,-77.67413210746142],\"z\":[-5.042399883270264,-503.935563019487]},{\"legendgroup\":\"10\",\"legendgrouptitle\":{\"text\":\"--10--\"},\"line\":{\"color\":\"red\",\"width\":2},\"marker\":{\"color\":\"red\",\"size\":1.8},\"type\":\"scatter3d\",\"x\":[-7.64780855178833,160.50370450557705],\"y\":[-69.96342468261719,-176.9806716232983],\"z\":[-6.158560276031494,10.345303324833939]},{\"legendgroup\":\"10\",\"legendgrouptitle\":{\"text\":\"--10--\"},\"line\":{\"color\":\"green\",\"width\":2},\"marker\":{\"color\":\"green\",\"size\":1.8},\"type\":\"scatter3d\",\"x\":[-7.64780855178833,100.00206951568804],\"y\":[-69.96342468261719,98.54269548453314],\"z\":[-6.158560276031494,-10.304789680124014]},{\"legendgroup\":\"10\",\"legendgrouptitle\":{\"text\":\"--10--\"},\"line\":{\"color\":\"blue\",\"width\":2},\"marker\":{\"color\":\"blue\",\"size\":1.8},\"type\":\"scatter3d\",\"x\":[-7.64780855178833,21.56824103745176],\"y\":[-69.96342468261719,-100.8863453333237],\"z\":[-6.158560276031494,-504.34546839870507]},{\"legendgroup\":\"11\",\"legendgrouptitle\":{\"text\":\"--11--\"},\"line\":{\"color\":\"red\",\"width\":2},\"marker\":{\"color\":\"red\",\"size\":1.9},\"type\":\"scatter3d\",\"x\":[-15.08651065826416,135.9174032831421],\"y\":[-86.14763641357422,-215.62560142875697],\"z\":[-7.35571813583374,13.459529878626235]},{\"legendgroup\":\"11\",\"legendgrouptitle\":{\"text\":\"--11--\"},\"line\":{\"color\":\"green\",\"width\":2},\"marker\":{\"color\":\"green\",\"size\":1.9},\"type\":\"scatter3d\",\"x\":[-15.08651065826416,115.36092573315457],\"y\":[-86.14763641357422,65.41336659014672],\"z\":[-7.35571813583374,-10.92344954568752]},{\"legendgroup\":\"11\",\"legendgrouptitle\":{\"text\":\"--11--\"},\"line\":{\"color\":\"blue\",\"width\":2},\"marker\":{\"color\":\"blue\",\"size\":1.9},\"type\":\"scatter3d\",\"x\":[-15.08651065826416,18.573955143912706],\"y\":[-86.14763641357422,-126.82310076504278],\"z\":[-7.35571813583374,-504.5603838840274]},{\"legendgroup\":\"12\",\"legendgrouptitle\":{\"text\":\"--12--\"},\"line\":{\"color\":\"red\",\"width\":2},\"marker\":{\"color\":\"red\",\"size\":2.0},\"type\":\"scatter3d\",\"x\":[-25.793807983398438,102.56424429385123],\"y\":[-102.7966079711914,-254.04468233393234],\"z\":[-8.6923828125,16.767986728290985]},{\"legendgroup\":\"12\",\"legendgrouptitle\":{\"text\":\"--12--\"},\"line\":{\"color\":\"green\",\"width\":2},\"marker\":{\"color\":\"green\",\"size\":2.0},\"type\":\"scatter3d\",\"x\":[-25.793807983398438,126.86672781142266],\"y\":[-102.7966079711914,26.39321142333833],\"z\":[-8.6923828125,-10.872147856474895]},{\"legendgroup\":\"12\",\"legendgrouptitle\":{\"text\":\"--12--\"},\"line\":{\"color\":\"blue\",\"width\":2},\"marker\":{\"color\":\"blue\",\"size\":2.0},\"type\":\"scatter3d\",\"x\":[-25.793807983398438,11.200382981956011],\"y\":[-102.7966079711914,-154.87890860991573],\"z\":[-8.6923828125,-504.5944535835308]},{\"legendgroup\":\"13\",\"legendgrouptitle\":{\"text\":\"--13--\"},\"line\":{\"color\":\"red\",\"width\":2},\"marker\":{\"color\":\"red\",\"size\":2.1},\"type\":\"scatter3d\",\"x\":[-40.3155517578125,59.431682583621566],\"y\":[-119.07251739501953,-289.7635996519738],\"z\":[-10.261177062988281,19.98851184755626]},{\"legendgroup\":\"13\",\"legendgrouptitle\":{\"text\":\"--13--\"},\"line\":{\"color\":\"green\",\"width\":2},\"marker\":{\"color\":\"green\",\"size\":2.1},\"type\":\"scatter3d\",\"x\":[-40.3155517578125,132.34568762621697],\"y\":[-119.07251739501953,-18.136636659736965],\"z\":[-10.261177062988281,-10.050476888125747]},{\"legendgroup\":\"13\",\"legendgrouptitle\":{\"text\":\"--13--\"},\"line\":{\"color\":\"blue\",\"width\":2},\"marker\":{\"color\":\"blue\",\"size\":2.1},\"type\":\"scatter3d\",\"x\":[-40.3155517578125,-1.7000063448982559],\"y\":[-119.07251739501953,-184.09666762699652],\"z\":[-10.261177062988281,-504.50878660609214]},{\"legendgroup\":\"14\",\"legendgrouptitle\":{\"text\":\"--14--\"},\"line\":{\"color\":\"red\",\"width\":2},\"marker\":{\"color\":\"red\",\"size\":2.2},\"type\":\"scatter3d\",\"x\":[-59.01689147949219,6.102869438672144],\"y\":[-133.89990234375,-319.7500981599785],\"z\":[-12.206778526306152,22.70914123861852]},{\"legendgroup\":\"14\",\"legendgrouptitle\":{\"text\":\"--14--\"},\"line\":{\"color\":\"green\",\"width\":2},\"marker\":{\"color\":\"green\",\"size\":2.2},\"type\":\"scatter3d\",\"x\":[-59.01689147949219,129.47669893148213],\"y\":[-133.89990234375,-67.14666835319782],\"z\":[-12.206778526306152,-8.442190131483915]},{\"legendgroup\":\"14\",\"legendgrouptitle\":{\"text\":\"--14--\"},\"line\":{\"color\":\"blue\",\"width\":2},\"marker\":{\"color\":\"blue\",\"size\":2.2},\"type\":\"scatter3d\",\"x\":[-59.01689147949219,-21.13689082438499],\"y\":[-133.89990234375,-213.10337712832543],\"z\":[-12.206778526306152,-504.4383451008385]},{\"legendgroup\":\"15\",\"legendgrouptitle\":{\"text\":\"--15--\"},\"line\":{\"color\":\"red\",\"width\":2},\"marker\":{\"color\":\"red\",\"size\":2.3},\"type\":\"scatter3d\",\"x\":[-81.9605941772461,-56.94680115508959],\"y\":[-145.9490509033203,-340.485820413066],\"z\":[-14.72220516204834,24.38988334466292]},{\"legendgroup\":\"15\",\"legendgrouptitle\":{\"text\":\"--15--\"},\"line\":{\"color\":\"green\",\"width\":2},\"marker\":{\"color\":\"green\",\"size\":2.3},\"type\":\"scatter3d\",\"x\":[-81.9605941772461,115.99814533132468],\"y\":[-145.9490509033203,-118.76999361258865],\"z\":[-14.72220516204834,-6.141045743592876]},{\"legendgroup\":\"15\",\"legendgrouptitle\":{\"text\":\"--15--\"},\"line\":{\"color\":\"blue\",\"width\":2},\"marker\":{\"color\":\"blue\",\"size\":2.3},\"type\":\"scatter3d\",\"x\":[-81.9605941772461,-47.80583509976452],\"y\":[-145.9490509033203,-240.04820583773088],\"z\":[-14.72220516204834,-504.5985175848772]},{\"legendgroup\":\"16\",\"legendgrouptitle\":{\"text\":\"--16--\"},\"line\":{\"color\":\"red\",\"width\":2},\"marker\":{\"color\":\"red\",\"size\":2.4000000000000004},\"type\":\"scatter3d\",\"x\":[-108.79360961914062,-128.06577785586055],\"y\":[-153.7128143310547,-348.2094578333531],\"z\":[-18.052013397216797,24.3701411661172]},{\"legendgroup\":\"16\",\"legendgrouptitle\":{\"text\":\"--16--\"},\"line\":{\"color\":\"green\",\"width\":2},\"marker\":{\"color\":\"green\",\"size\":2.4000000000000004},\"type\":\"scatter3d\",\"x\":[-108.79360961914062,89.98473415534272],\"y\":[-153.7128143310547,-170.2113141904245],\"z\":[-18.052013397216797,-3.3901735173209886]},{\"legendgroup\":\"16\",\"legendgrouptitle\":{\"text\":\"--16--\"},\"line\":{\"color\":\"blue\",\"width\":2},\"marker\":{\"color\":\"blue\",\"size\":2.4000000000000004},\"type\":\"scatter3d\",\"x\":[-108.79360961914062,-81.8964004552588],\"y\":[-153.7128143310547,-262.6524526844281],\"z\":[-18.052013397216797,-505.2980450225453]},{\"legendgroup\":\"17\",\"legendgrouptitle\":{\"text\":\"--17--\"},\"line\":{\"color\":\"red\",\"width\":2},\"marker\":{\"color\":\"red\",\"size\":2.5},\"type\":\"scatter3d\",\"x\":[-138.6239013671875,-204.17170421029914],\"y\":[-155.6298828125,-339.2965538562987],\"z\":[-22.48200798034668,21.903118921911904]},{\"legendgroup\":\"17\",\"legendgrouptitle\":{\"text\":\"--17--\"},\"line\":{\"color\":\"green\",\"width\":2},\"marker\":{\"color\":\"green\",\"size\":2.5},\"type\":\"scatter3d\",\"x\":[-138.6239013671875,50.224667357914484],\"y\":[-155.6298828125,-217.7415496079552],\"z\":[-22.48200798034668,-0.6105896822393646]},{\"legendgroup\":\"17\",\"legendgrouptitle\":{\"text\":\"--17--\"},\"line\":{\"color\":\"blue\",\"width\":2},\"marker\":{\"color\":\"blue\",\"size\":2.5},\"type\":\"scatter3d\",\"x\":[-138.6239013671875,-122.87119665477854],\"y\":[-155.6298828125,-278.3260215959639],\"z\":[-22.48200798034668,-506.93789846148496]},{\"legendgroup\":\"18\",\"legendgrouptitle\":{\"text\":\"--18--\"},\"line\":{\"color\":\"red\",\"width\":2},\"marker\":{\"color\":\"red\",\"size\":2.6},\"type\":\"scatter3d\",\"x\":[-169.94322204589844,-280.6214806874164],\"y\":[-150.26356506347656,-310.78327416513696],\"z\":[-28.32663345336914,16.212630730040928]},{\"legendgroup\":\"18\",\"legendgrouptitle\":{\"text\":\"--18--\"},\"line\":{\"color\":\"green\",\"width\":2},\"marker\":{\"color\":\"green\",\"size\":2.6},\"type\":\"scatter3d\",\"x\":[-169.94322204589844,-3.359159229456907],\"y\":[-150.26356506347656,-256.8256165372206],\"z\":[-28.32663345336914,1.5778679013600438]},{\"legendgroup\":\"18\",\"legendgrouptitle\":{\"text\":\"--18--\"},\"line\":{\"color\":\"blue\",\"width\":2},\"marker\":{\"color\":\"blue\",\"size\":2.6},\"type\":\"scatter3d\",\"x\":[-169.94322204589844,-169.26739084869706],\"y\":[-150.26356506347656,-284.3799365386217],\"z\":[-28.32663345336914,-510.00322843649036]},{\"legendgroup\":\"19\",\"legendgrouptitle\":{\"text\":\"--19--\"},\"line\":{\"color\":\"red\",\"width\":2},\"marker\":{\"color\":\"red\",\"size\":2.7},\"type\":\"scatter3d\",\"x\":[-200.57968139648438,-351.24493985271465],\"y\":[-136.57192993164062,-261.0503145059018],\"z\":[-35.90103530883789,6.585570440500106]},{\"legendgroup\":\"19\",\"legendgrouptitle\":{\"text\":\"--19--\"},\"line\":{\"color\":\"green\",\"width\":2},\"marker\":{\"color\":\"green\",\"size\":2.7},\"type\":\"scatter3d\",\"x\":[-200.57968139648438,-69.24641662605424],\"y\":[-136.57192993164062,-282.4744136723287],\"z\":[-35.90103530883789,2.3617246940469627]},{\"legendgroup\":\"19\",\"legendgrouptitle\":{\"text\":\"--19--\"},\"line\":{\"color\":\"blue\",\"width\":2},\"marker\":{\"color\":\"blue\",\"size\":2.7},\"type\":\"scatter3d\",\"x\":[-200.57968139648438,-218.52986577183503],\"y\":[-136.57192993164062,-278.3815957711161],\"z\":[-35.90103530883789,-515.0333860798823]},{\"legendgroup\":\"20\",\"legendgrouptitle\":{\"text\":\"--20--\"},\"line\":{\"color\":\"red\",\"width\":2},\"marker\":{\"color\":\"red\",\"size\":2.8},\"type\":\"scatter3d\",\"x\":[-227.77943420410156,-408.6887688517014],\"y\":[-114.21733856201172,-190.57044386814434],\"z\":[-45.47366714477539,-7.49978207261875]},{\"legendgroup\":\"20\",\"legendgrouptitle\":{\"text\":\"--20--\"},\"line\":{\"color\":\"green\",\"width\":2},\"marker\":{\"color\":\"green\",\"size\":2.8},\"type\":\"scatter3d\",\"x\":[-227.77943420410156,-143.9587301966591],\"y\":[-114.21733856201172,-289.81458128260977],\"z\":[-45.47366714477539,0.7832018437338135]},{\"legendgroup\":\"20\",\"legendgrouptitle\":{\"text\":\"--20--\"},\"line\":{\"color\":\"blue\",\"width\":2},\"marker\":{\"color\":\"blue\",\"size\":2.8},\"type\":\"scatter3d\",\"x\":[-227.77943420410156,-266.98260826720104],\"y\":[-114.21733856201172,-258.60855321499014],\"z\":[-45.47366714477539,-522.5630594754118]},{\"legendgroup\":\"21\",\"legendgrouptitle\":{\"text\":\"--21--\"},\"line\":{\"color\":\"red\",\"width\":2},\"marker\":{\"color\":\"red\",\"size\":2.9000000000000004},\"type\":\"scatter3d\",\"x\":[-248.4325408935547,-445.12877238160286],\"y\":[-83.8164291381836,-102.5381379867029],\"z\":[-57.21573257446289,-26.230411272410038]},{\"legendgroup\":\"21\",\"legendgrouptitle\":{\"text\":\"--21--\"},\"line\":{\"color\":\"green\",\"width\":2},\"marker\":{\"color\":\"green\",\"size\":2.9000000000000004},\"type\":\"scatter3d\",\"x\":[-248.4325408935547,-221.8970214586821],\"y\":[-83.8164291381836,-274.8201519297634],\"z\":[-57.21573257446289,-4.173823784536907]},{\"legendgroup\":\"21\",\"legendgrouptitle\":{\"text\":\"--21--\"},\"line\":{\"color\":\"blue\",\"width\":2},\"marker\":{\"color\":\"blue\",\"size\":2.9000000000000004},\"type\":\"scatter3d\",\"x\":[-248.4325408935547,-309.99849773668745],\"y\":[-83.8164291381836,-224.50836870715372],\"z\":[-57.21573257446289,-533.0470168531563]},{\"legendgroup\":\"22\",\"legendgrouptitle\":{\"text\":\"--22--\"},\"line\":{\"color\":\"red\",\"width\":2},\"marker\":{\"color\":\"red\",\"size\":3.0},\"type\":\"scatter3d\",\"x\":[-259.37506103515625,-453.28353700170373],\"y\":[-47.19589614868164,-3.3438784811777964],\"z\":[-71.14311981201172,-49.3141598088461]},{\"legendgroup\":\"22\",\"legendgrouptitle\":{\"text\":\"--22--\"},\"line\":{\"color\":\"green\",\"width\":2},\"marker\":{\"color\":\"green\",\"size\":3.0},\"type\":\"scatter3d\",\"x\":[-259.37506103515625,-295.4127977716625],\"y\":[-47.19589614868164,-235.2712863735404],\"z\":[-71.14311981201172,-13.44624708326338]},{\"legendgroup\":\"22\",\"legendgrouptitle\":{\"text\":\"--22--\"},\"line\":{\"color\":\"blue\",\"width\":2},\"marker\":{\"color\":\"blue\",\"size\":3.0},\"type\":\"scatter3d\",\"x\":[-259.37506103515625,-342.3202416983937],\"y\":[-47.19589614868164,-177.2114754617021],\"z\":[-71.14311981201172,-546.764866729289]}],                        {\"scene\":{\"aspectmode\":\"data\",\"aspectratio\":{\"x\":1,\"y\":1,\"z\":1}},\"template\":{\"data\":{\"bar\":[{\"error_x\":{\"color\":\"#2a3f5f\"},\"error_y\":{\"color\":\"#2a3f5f\"},\"marker\":{\"line\":{\"color\":\"#E5ECF6\",\"width\":0.5},\"pattern\":{\"fillmode\":\"overlay\",\"size\":10,\"solidity\":0.2}},\"type\":\"bar\"}],\"barpolar\":[{\"marker\":{\"line\":{\"color\":\"#E5ECF6\",\"width\":0.5},\"pattern\":{\"fillmode\":\"overlay\",\"size\":10,\"solidity\":0.2}},\"type\":\"barpolar\"}],\"carpet\":[{\"aaxis\":{\"endlinecolor\":\"#2a3f5f\",\"gridcolor\":\"white\",\"linecolor\":\"white\",\"minorgridcolor\":\"white\",\"startlinecolor\":\"#2a3f5f\"},\"baxis\":{\"endlinecolor\":\"#2a3f5f\",\"gridcolor\":\"white\",\"linecolor\":\"white\",\"minorgridcolor\":\"white\",\"startlinecolor\":\"#2a3f5f\"},\"type\":\"carpet\"}],\"choropleth\":[{\"colorbar\":{\"outlinewidth\":0,\"ticks\":\"\"},\"type\":\"choropleth\"}],\"contour\":[{\"colorbar\":{\"outlinewidth\":0,\"ticks\":\"\"},\"colorscale\":[[0.0,\"#0d0887\"],[0.1111111111111111,\"#46039f\"],[0.2222222222222222,\"#7201a8\"],[0.3333333333333333,\"#9c179e\"],[0.4444444444444444,\"#bd3786\"],[0.5555555555555556,\"#d8576b\"],[0.6666666666666666,\"#ed7953\"],[0.7777777777777778,\"#fb9f3a\"],[0.8888888888888888,\"#fdca26\"],[1.0,\"#f0f921\"]],\"type\":\"contour\"}],\"contourcarpet\":[{\"colorbar\":{\"outlinewidth\":0,\"ticks\":\"\"},\"type\":\"contourcarpet\"}],\"heatmap\":[{\"colorbar\":{\"outlinewidth\":0,\"ticks\":\"\"},\"colorscale\":[[0.0,\"#0d0887\"],[0.1111111111111111,\"#46039f\"],[0.2222222222222222,\"#7201a8\"],[0.3333333333333333,\"#9c179e\"],[0.4444444444444444,\"#bd3786\"],[0.5555555555555556,\"#d8576b\"],[0.6666666666666666,\"#ed7953\"],[0.7777777777777778,\"#fb9f3a\"],[0.8888888888888888,\"#fdca26\"],[1.0,\"#f0f921\"]],\"type\":\"heatmap\"}],\"heatmapgl\":[{\"colorbar\":{\"outlinewidth\":0,\"ticks\":\"\"},\"colorscale\":[[0.0,\"#0d0887\"],[0.1111111111111111,\"#46039f\"],[0.2222222222222222,\"#7201a8\"],[0.3333333333333333,\"#9c179e\"],[0.4444444444444444,\"#bd3786\"],[0.5555555555555556,\"#d8576b\"],[0.6666666666666666,\"#ed7953\"],[0.7777777777777778,\"#fb9f3a\"],[0.8888888888888888,\"#fdca26\"],[1.0,\"#f0f921\"]],\"type\":\"heatmapgl\"}],\"histogram\":[{\"marker\":{\"pattern\":{\"fillmode\":\"overlay\",\"size\":10,\"solidity\":0.2}},\"type\":\"histogram\"}],\"histogram2d\":[{\"colorbar\":{\"outlinewidth\":0,\"ticks\":\"\"},\"colorscale\":[[0.0,\"#0d0887\"],[0.1111111111111111,\"#46039f\"],[0.2222222222222222,\"#7201a8\"],[0.3333333333333333,\"#9c179e\"],[0.4444444444444444,\"#bd3786\"],[0.5555555555555556,\"#d8576b\"],[0.6666666666666666,\"#ed7953\"],[0.7777777777777778,\"#fb9f3a\"],[0.8888888888888888,\"#fdca26\"],[1.0,\"#f0f921\"]],\"type\":\"histogram2d\"}],\"histogram2dcontour\":[{\"colorbar\":{\"outlinewidth\":0,\"ticks\":\"\"},\"colorscale\":[[0.0,\"#0d0887\"],[0.1111111111111111,\"#46039f\"],[0.2222222222222222,\"#7201a8\"],[0.3333333333333333,\"#9c179e\"],[0.4444444444444444,\"#bd3786\"],[0.5555555555555556,\"#d8576b\"],[0.6666666666666666,\"#ed7953\"],[0.7777777777777778,\"#fb9f3a\"],[0.8888888888888888,\"#fdca26\"],[1.0,\"#f0f921\"]],\"type\":\"histogram2dcontour\"}],\"mesh3d\":[{\"colorbar\":{\"outlinewidth\":0,\"ticks\":\"\"},\"type\":\"mesh3d\"}],\"parcoords\":[{\"line\":{\"colorbar\":{\"outlinewidth\":0,\"ticks\":\"\"}},\"type\":\"parcoords\"}],\"pie\":[{\"automargin\":true,\"type\":\"pie\"}],\"scatter\":[{\"marker\":{\"colorbar\":{\"outlinewidth\":0,\"ticks\":\"\"}},\"type\":\"scatter\"}],\"scatter3d\":[{\"line\":{\"colorbar\":{\"outlinewidth\":0,\"ticks\":\"\"}},\"marker\":{\"colorbar\":{\"outlinewidth\":0,\"ticks\":\"\"}},\"type\":\"scatter3d\"}],\"scattercarpet\":[{\"marker\":{\"colorbar\":{\"outlinewidth\":0,\"ticks\":\"\"}},\"type\":\"scattercarpet\"}],\"scattergeo\":[{\"marker\":{\"colorbar\":{\"outlinewidth\":0,\"ticks\":\"\"}},\"type\":\"scattergeo\"}],\"scattergl\":[{\"marker\":{\"colorbar\":{\"outlinewidth\":0,\"ticks\":\"\"}},\"type\":\"scattergl\"}],\"scattermapbox\":[{\"marker\":{\"colorbar\":{\"outlinewidth\":0,\"ticks\":\"\"}},\"type\":\"scattermapbox\"}],\"scatterpolar\":[{\"marker\":{\"colorbar\":{\"outlinewidth\":0,\"ticks\":\"\"}},\"type\":\"scatterpolar\"}],\"scatterpolargl\":[{\"marker\":{\"colorbar\":{\"outlinewidth\":0,\"ticks\":\"\"}},\"type\":\"scatterpolargl\"}],\"scatterternary\":[{\"marker\":{\"colorbar\":{\"outlinewidth\":0,\"ticks\":\"\"}},\"type\":\"scatterternary\"}],\"surface\":[{\"colorbar\":{\"outlinewidth\":0,\"ticks\":\"\"},\"colorscale\":[[0.0,\"#0d0887\"],[0.1111111111111111,\"#46039f\"],[0.2222222222222222,\"#7201a8\"],[0.3333333333333333,\"#9c179e\"],[0.4444444444444444,\"#bd3786\"],[0.5555555555555556,\"#d8576b\"],[0.6666666666666666,\"#ed7953\"],[0.7777777777777778,\"#fb9f3a\"],[0.8888888888888888,\"#fdca26\"],[1.0,\"#f0f921\"]],\"type\":\"surface\"}],\"table\":[{\"cells\":{\"fill\":{\"color\":\"#EBF0F8\"},\"line\":{\"color\":\"white\"}},\"header\":{\"fill\":{\"color\":\"#C8D4E3\"},\"line\":{\"color\":\"white\"}},\"type\":\"table\"}]},\"layout\":{\"annotationdefaults\":{\"arrowcolor\":\"#2a3f5f\",\"arrowhead\":0,\"arrowwidth\":1},\"autotypenumbers\":\"strict\",\"coloraxis\":{\"colorbar\":{\"outlinewidth\":0,\"ticks\":\"\"}},\"colorscale\":{\"diverging\":[[0,\"#8e0152\"],[0.1,\"#c51b7d\"],[0.2,\"#de77ae\"],[0.3,\"#f1b6da\"],[0.4,\"#fde0ef\"],[0.5,\"#f7f7f7\"],[0.6,\"#e6f5d0\"],[0.7,\"#b8e186\"],[0.8,\"#7fbc41\"],[0.9,\"#4d9221\"],[1,\"#276419\"]],\"sequential\":[[0.0,\"#0d0887\"],[0.1111111111111111,\"#46039f\"],[0.2222222222222222,\"#7201a8\"],[0.3333333333333333,\"#9c179e\"],[0.4444444444444444,\"#bd3786\"],[0.5555555555555556,\"#d8576b\"],[0.6666666666666666,\"#ed7953\"],[0.7777777777777778,\"#fb9f3a\"],[0.8888888888888888,\"#fdca26\"],[1.0,\"#f0f921\"]],\"sequentialminus\":[[0.0,\"#0d0887\"],[0.1111111111111111,\"#46039f\"],[0.2222222222222222,\"#7201a8\"],[0.3333333333333333,\"#9c179e\"],[0.4444444444444444,\"#bd3786\"],[0.5555555555555556,\"#d8576b\"],[0.6666666666666666,\"#ed7953\"],[0.7777777777777778,\"#fb9f3a\"],[0.8888888888888888,\"#fdca26\"],[1.0,\"#f0f921\"]]},\"colorway\":[\"#636efa\",\"#EF553B\",\"#00cc96\",\"#ab63fa\",\"#FFA15A\",\"#19d3f3\",\"#FF6692\",\"#B6E880\",\"#FF97FF\",\"#FECB52\"],\"font\":{\"color\":\"#2a3f5f\"},\"geo\":{\"bgcolor\":\"white\",\"lakecolor\":\"white\",\"landcolor\":\"#E5ECF6\",\"showlakes\":true,\"showland\":true,\"subunitcolor\":\"white\"},\"hoverlabel\":{\"align\":\"left\"},\"hovermode\":\"closest\",\"mapbox\":{\"style\":\"light\"},\"paper_bgcolor\":\"white\",\"plot_bgcolor\":\"#E5ECF6\",\"polar\":{\"angularaxis\":{\"gridcolor\":\"white\",\"linecolor\":\"white\",\"ticks\":\"\"},\"bgcolor\":\"#E5ECF6\",\"radialaxis\":{\"gridcolor\":\"white\",\"linecolor\":\"white\",\"ticks\":\"\"}},\"scene\":{\"xaxis\":{\"backgroundcolor\":\"#E5ECF6\",\"gridcolor\":\"white\",\"gridwidth\":2,\"linecolor\":\"white\",\"showbackground\":true,\"ticks\":\"\",\"zerolinecolor\":\"white\"},\"yaxis\":{\"backgroundcolor\":\"#E5ECF6\",\"gridcolor\":\"white\",\"gridwidth\":2,\"linecolor\":\"white\",\"showbackground\":true,\"ticks\":\"\",\"zerolinecolor\":\"white\"},\"zaxis\":{\"backgroundcolor\":\"#E5ECF6\",\"gridcolor\":\"white\",\"gridwidth\":2,\"linecolor\":\"white\",\"showbackground\":true,\"ticks\":\"\",\"zerolinecolor\":\"white\"}},\"shapedefaults\":{\"line\":{\"color\":\"#2a3f5f\"}},\"ternary\":{\"aaxis\":{\"gridcolor\":\"white\",\"linecolor\":\"white\",\"ticks\":\"\"},\"baxis\":{\"gridcolor\":\"white\",\"linecolor\":\"white\",\"ticks\":\"\"},\"bgcolor\":\"#E5ECF6\",\"caxis\":{\"gridcolor\":\"white\",\"linecolor\":\"white\",\"ticks\":\"\"}},\"title\":{\"x\":0.05},\"xaxis\":{\"automargin\":true,\"gridcolor\":\"white\",\"linecolor\":\"white\",\"ticks\":\"\",\"title\":{\"standoff\":15},\"zerolinecolor\":\"white\",\"zerolinewidth\":2},\"yaxis\":{\"automargin\":true,\"gridcolor\":\"white\",\"linecolor\":\"white\",\"ticks\":\"\",\"title\":{\"standoff\":15},\"zerolinecolor\":\"white\",\"zerolinewidth\":2}}},\"title\":{\"text\":\"5-sit\"}},                        {\"responsive\": true}                    ).then(function(){\n",
       "                            \n",
       "var gd = document.getElementById('b9f98dc6-e5d4-4c6d-ba11-72b0579c1534');\n",
       "var x = new MutationObserver(function (mutations, observer) {{\n",
       "        var display = window.getComputedStyle(gd).display;\n",
       "        if (!display || display === 'none') {{\n",
       "            console.log([gd, 'removed!']);\n",
       "            Plotly.purge(gd);\n",
       "            observer.disconnect();\n",
       "        }}\n",
       "}});\n",
       "\n",
       "// Listen for the removal of the full notebook cells\n",
       "var notebookContainer = gd.closest('#notebook-container');\n",
       "if (notebookContainer) {{\n",
       "    x.observe(notebookContainer, {childList: true});\n",
       "}}\n",
       "\n",
       "// Listen for the clearing of the current output cell\n",
       "var outputEl = gd.closest('.output');\n",
       "if (outputEl) {{\n",
       "    x.observe(outputEl, {childList: true});\n",
       "}}\n",
       "\n",
       "                        })                };                });            </script>        </div>"
      ]
     },
     "metadata": {},
     "output_type": "display_data"
    },
    {
     "data": {
      "application/vnd.jupyter.widget-view+json": {
       "model_id": "6e4f2c2b764f4006b5425454ce333885",
       "version_major": 2,
       "version_minor": 0
      },
      "text/plain": [
       "0it [00:00, ?it/s]"
      ]
     },
     "metadata": {},
     "output_type": "display_data"
    },
    {
     "data": {
      "application/vnd.plotly.v1+json": {
       "config": {
        "plotlyServerURL": "https://plot.ly"
       },
       "data": [
        {
         "legendgroup": "0",
         "legendgrouptitle": {
          "text": "origins"
         },
         "line": {
          "color": "black",
          "width": 2
         },
         "marker": {
          "color": "black",
          "size": 1
         },
         "type": "scatter3d",
         "x": [
          0,
          -0.27731427550315857,
          -0.8406690955162048,
          -1.726668357849121,
          -2.92818546295166,
          -4.415318012237549,
          -6.152786731719971,
          -8.089886665344238,
          -10.149720191955566,
          -12.254384994506836,
          -14.285402297973633,
          -16.0700626373291,
          -17.37946319580078,
          -17.95767593383789,
          -17.5548095703125,
          -15.966197967529297,
          -13.095943450927734,
          -9.001957893371582,
          -3.924863815307617,
          1.675511360168457,
          7.108701229095459
         ],
         "y": [
          0,
          -0.012615584768354893,
          -0.03958514705300331,
          -0.052983358502388,
          0.0028895465657114983,
          0.1883143037557602,
          0.578054666519165,
          1.2615082263946533,
          2.3246545791625977,
          3.861525535583496,
          5.955892086029053,
          8.66202449798584,
          11.973492622375488,
          15.802721977233887,
          19.958433151245117,
          24.142335891723633,
          27.956254959106445,
          30.919384002685547,
          32.543968200683594,
          32.388736724853516,
          30.185739517211914
         ],
         "z": [
          0,
          0.0874311700463295,
          0.2569074034690857,
          0.4997576177120209,
          0.8095954060554504,
          1.1807420253753662,
          1.6085354089736938,
          2.0979905128479004,
          2.647716999053955,
          3.24957013130188,
          3.8919782638549805,
          4.56102991104126,
          5.251126289367676,
          5.953582763671875,
          6.66546630859375,
          7.396580696105957,
          8.170742988586426,
          9.015907287597656,
          9.965140342712402,
          11.059718132019043,
          12.346354484558105
         ]
        },
        {
         "legendgroup": "1",
         "legendgrouptitle": {
          "text": "finish"
         },
         "line": {
          "color": "black",
          "width": 2
         },
         "marker": {
          "color": "black",
          "size": 1
         },
         "type": "scatter3d",
         "x": [
          0,
          -9.742368474955201,
          -29.22185247027355,
          -58.3983664091649,
          -97.02453656840946,
          -144.51252268184146,
          -199.764923999912,
          -260.94029059036234,
          -325.21562797403766,
          -388.6204832379809,
          -445.8994714233931,
          -490.5622344341296,
          -515.1932617709822,
          -512.1267063390816,
          -474.50311067057277,
          -397.7103023477607,
          -281.1119966687199,
          -129.76551581663148,
          44.27921394080843,
          221.62752835621978,
          376.75112460387294
         ],
         "y": [
          -500,
          -499.92281026080616,
          -499.2316415318244,
          -496.8241817598515,
          -491.04606059693936,
          -479.74898962278075,
          -460.35644206876304,
          -430.00648373609437,
          -385.80615168677446,
          -325.1723514883995,
          -246.32860114379827,
          -148.9221606685462,
          -34.73176733194274,
          91.66405090939378,
          222.37399273488867,
          346.0751164646705,
          448.51586554161906,
          513.8642013109026,
          527.0746959023526,
          477.124279602741,
          360.82901268775726
         ],
         "z": [
          0,
          0.5456974326682317,
          1.5982770734795737,
          3.0872426646063045,
          4.909018731338502,
          6.921608117740354,
          8.938611932104553,
          10.734676428041926,
          12.025935422945423,
          12.483630102413196,
          11.755171557099995,
          9.501018671730463,
          5.452721795781284,
          -0.5293302380541034,
          -8.374193262899414,
          -17.717629693749284,
          -27.84327045400174,
          -37.67955836859108,
          -45.853550492347686,
          -50.8386430779473,
          -51.21074384985221
         ]
        },
        {
         "legendgroup": "2",
         "legendgrouptitle": {
          "text": "--2--"
         },
         "line": {
          "color": "red",
          "width": 2
         },
         "marker": {
          "color": "red",
          "size": 1
         },
         "type": "scatter3d",
         "x": [
          0,
          200
         ],
         "y": [
          0,
          0
         ],
         "z": [
          0,
          0
         ]
        },
        {
         "legendgroup": "2",
         "legendgrouptitle": {
          "text": "--2--"
         },
         "line": {
          "color": "green",
          "width": 2
         },
         "marker": {
          "color": "green",
          "size": 1
         },
         "type": "scatter3d",
         "x": [
          0,
          0
         ],
         "y": [
          0,
          200
         ],
         "z": [
          0,
          0
         ]
        },
        {
         "legendgroup": "2",
         "legendgrouptitle": {
          "text": "--2--"
         },
         "line": {
          "color": "blue",
          "width": 2
         },
         "marker": {
          "color": "blue",
          "size": 1
         },
         "type": "scatter3d",
         "x": [
          0,
          0
         ],
         "y": [
          0,
          0
         ],
         "z": [
          0,
          -500
         ]
        },
        {
         "legendgroup": "3",
         "legendgrouptitle": {
          "text": "--3--"
         },
         "line": {
          "color": "red",
          "width": 2
         },
         "marker": {
          "color": "red",
          "size": 1.1
         },
         "type": "scatter3d",
         "x": [
          -0.27731427550315857,
          199.68677135018086
         ],
         "y": [
          -0.012615584768354893,
          -3.798474107684077
         ],
         "z": [
          0.0874311700463295,
          0.26557473175025137
         ]
        },
        {
         "legendgroup": "3",
         "legendgrouptitle": {
          "text": "--3--"
         },
         "line": {
          "color": "green",
          "width": 2
         },
         "marker": {
          "color": "green",
          "size": 1.1
         },
         "type": "scatter3d",
         "x": [
          -0.27731427550315857,
          3.5087074042776583
         ],
         "y": [
          -0.012615584768354893,
          199.95146228564676
         ],
         "z": [
          0.0874311700463295,
          -0.09587533500243137
         ]
        },
        {
         "legendgroup": "3",
         "legendgrouptitle": {
          "text": "--3--"
         },
         "line": {
          "color": "blue",
          "width": 2
         },
         "marker": {
          "color": "blue",
          "size": 1.1
         },
         "type": "scatter3d",
         "x": [
          -0.27731427550315857,
          0.15928998137473377
         ],
         "y": [
          -0.012615584768354893,
          -0.4792302479938513
         ],
         "z": [
          0.0874311700463295,
          -499.9121604772659
         ]
        },
        {
         "legendgroup": "4",
         "legendgrouptitle": {
          "text": "--4--"
         },
         "line": {
          "color": "red",
          "width": 2
         },
         "marker": {
          "color": "red",
          "size": 1.2
         },
         "type": "scatter3d",
         "x": [
          -0.8406690955162048,
          198.83620775220666
         ],
         "y": [
          -0.03958514705300331,
          -11.390590989804139
         ],
         "z": [
          0.2569074034690857,
          0.8041904172276287
         ]
        },
        {
         "legendgroup": "4",
         "legendgrouptitle": {
          "text": "--4--"
         },
         "line": {
          "color": "green",
          "width": 2
         },
         "marker": {
          "color": "green",
          "size": 1.2
         },
         "type": "scatter3d",
         "x": [
          -0.8406690955162048,
          10.511804254386734
         ],
         "y": [
          -0.03958514705300331,
          199.63723740685555
         ],
         "z": [
          0.2569074034690857,
          -0.2796404645351095
         ]
        },
        {
         "legendgroup": "4",
         "legendgrouptitle": {
          "text": "--4--"
         },
         "line": {
          "color": "blue",
          "width": 2
         },
         "marker": {
          "color": "blue",
          "size": 1.2
         },
         "type": "scatter3d",
         "x": [
          -0.8406690955162048,
          0.44919809498881547
         ],
         "y": [
          -0.03958514705300331,
          -1.4564503769396333
         ],
         "z": [
          0.2569074034690857,
          -499.7394213186039
         ]
        },
        {
         "legendgroup": "5",
         "legendgrouptitle": {
          "text": "--5--"
         },
         "line": {
          "color": "red",
          "width": 2
         },
         "marker": {
          "color": "red",
          "size": 1.3
         },
         "type": "scatter3d",
         "x": [
          -1.726668357849121,
          196.98196477327198
         ],
         "y": [
          -0.052983358502388,
          -22.715796417969766
         ],
         "z": [
          0.4997576177120209,
          1.6293696719847353
         ]
        },
        {
         "legendgroup": "5",
         "legendgrouptitle": {
          "text": "--5--"
         },
         "line": {
          "color": "green",
          "width": 2
         },
         "marker": {
          "color": "green",
          "size": 1.3
         },
         "type": "scatter3d",
         "x": [
          -1.726668357849121,
          20.94201086267719
         ],
         "y": [
          -0.052983358502388,
          198.65549600203727
         ],
         "z": [
          0.4997576177120209,
          -0.5352364010456925
         ]
        },
        {
         "legendgroup": "5",
         "legendgrouptitle": {
          "text": "--5--"
         },
         "line": {
          "color": "blue",
          "width": 2
         },
         "marker": {
          "color": "blue",
          "size": 1.3
         },
         "type": "scatter3d",
         "x": [
          -1.726668357849121,
          0.7859268622395481
         ],
         "y": [
          -0.052983358502388,
          -2.943846609354627
         ],
         "z": [
          0.4997576177120209,
          -499.48557194199105
         ]
        },
        {
         "legendgroup": "6",
         "legendgrouptitle": {
          "text": "--6--"
         },
         "line": {
          "color": "red",
          "width": 2
         },
         "marker": {
          "color": "red",
          "size": 1.4
         },
         "type": "scatter3d",
         "x": [
          -2.92818546295166,
          193.49163764994256
         ],
         "y": [
          0.0028895465657114983,
          -37.61938632515238
         ],
         "z": [
          0.8095954060554504,
          2.7634240914035972
         ]
        },
        {
         "legendgroup": "6",
         "legendgrouptitle": {
          "text": "--6--"
         },
         "line": {
          "color": "green",
          "width": 2
         },
         "marker": {
          "color": "green",
          "size": 1.4
         },
         "type": "scatter3d",
         "x": [
          -2.92818546295166,
          34.71035497923146
         ],
         "y": [
          0.0028895465657114983,
          196.42246960396776
         ],
         "z": [
          0.8095954060554504,
          -0.8301739240577704
         ]
        },
        {
         "legendgroup": "6",
         "legendgrouptitle": {
          "text": "--6--"
         },
         "line": {
          "color": "blue",
          "width": 2
         },
         "marker": {
          "color": "blue",
          "size": 1.4
         },
         "type": "scatter3d",
         "x": [
          -2.92818546295166,
          1.0977939842569269
         ],
         "y": [
          0.0028895465657114983,
          -4.942391225401308
         ],
         "z": [
          0.8095954060554504,
          -499.1497386278009
         ]
        },
        {
         "legendgroup": "7",
         "legendgrouptitle": {
          "text": "--7--"
         },
         "line": {
          "color": "red",
          "width": 2
         },
         "marker": {
          "color": "red",
          "size": 1.5
         },
         "type": "scatter3d",
         "x": [
          -4.415318012237549,
          187.55971496637244
         ],
         "y": [
          0.1883143037557602,
          -55.81408698194913
         ],
         "z": [
          1.1807420253753662,
          4.233243146831617
         ]
        },
        {
         "legendgroup": "7",
         "legendgrouptitle": {
          "text": "--7--"
         },
         "line": {
          "color": "green",
          "width": 2
         },
         "marker": {
          "color": "green",
          "size": 1.5
         },
         "type": "scatter3d",
         "x": [
          -4.415318012237549,
          51.62356385560401
         ],
         "y": [
          0.1883143037557602,
          192.16323587437037
         ],
         "z": [
          1.1807420253753662,
          -1.115604411570629
         ]
        },
        {
         "legendgroup": "7",
         "legendgrouptitle": {
          "text": "--7--"
         },
         "line": {
          "color": "blue",
          "width": 2
         },
         "marker": {
          "color": "blue",
          "size": 1.5
         },
         "type": "scatter3d",
         "x": [
          -4.415318012237549,
          1.302216346924058
         ],
         "y": [
          0.1883143037557602,
          -7.460434855116261
         ],
         "z": [
          1.1807420253753662,
          -498.72805609399813
         ]
        },
        {
         "legendgroup": "8",
         "legendgrouptitle": {
          "text": "--8--"
         },
         "line": {
          "color": "red",
          "width": 2
         },
         "marker": {
          "color": "red",
          "size": 1.6
         },
         "type": "scatter3d",
         "x": [
          -6.152786731719971,
          178.22035650087898
         ],
         "y": [
          0.578054666519165,
          -76.7956726728214
         ],
         "z": [
          1.6085354089736938,
          6.063911055194429
         ]
        },
        {
         "legendgroup": "8",
         "legendgrouptitle": {
          "text": "--8--"
         },
         "line": {
          "color": "green",
          "width": 2
         },
         "marker": {
          "color": "green",
          "size": 1.6
         },
         "type": "scatter3d",
         "x": [
          -6.152786731719971,
          71.29206817555685
         ],
         "y": [
          0.578054666519165,
          184.95185336063204
         ],
         "z": [
          1.6085354089736938,
          -1.3234952002786495
         ]
        },
        {
         "legendgroup": "8",
         "legendgrouptitle": {
          "text": "--8--"
         },
         "line": {
          "color": "blue",
          "width": 2
         },
         "marker": {
          "color": "blue",
          "size": 1.6
         },
         "type": "scatter3d",
         "x": [
          -6.152786731719971,
          1.2796182131808207
         ],
         "y": [
          0.578054666519165,
          -10.492365582993662
         ],
         "z": [
          1.6085354089736938,
          -498.2136381210071
         ]
        },
        {
         "legendgroup": "9",
         "legendgrouptitle": {
          "text": "--9--"
         },
         "line": {
          "color": "red",
          "width": 2
         },
         "marker": {
          "color": "red",
          "size": 1.7000000000000002
         },
         "type": "scatter3d",
         "x": [
          -8.089886665344238,
          164.41460498464946
         ],
         "y": [
          1.2615082263946533,
          -99.75326779874206
         ],
         "z": [
          2.0979905128479004,
          8.279849874619469
         ]
        },
        {
         "legendgroup": "9",
         "legendgrouptitle": {
          "text": "--9--"
         },
         "line": {
          "color": "green",
          "width": 2
         },
         "marker": {
          "color": "green",
          "size": 1.7000000000000002
         },
         "type": "scatter3d",
         "x": [
          -8.089886665344238,
          93.05027490466301
         ],
         "y": [
          1.2615082263946533,
          173.76870501139024
         ],
         "z": [
          2.0979905128479004,
          -1.3566838532297094
         ]
        },
        {
         "legendgroup": "9",
         "legendgrouptitle": {
          "text": "--9--"
         },
         "line": {
          "color": "blue",
          "width": 2
         },
         "marker": {
          "color": "blue",
          "size": 1.7000000000000002
         },
         "type": "scatter3d",
         "x": [
          -8.089886665344238,
          0.8781392357705684
         ],
         "y": [
          1.2615082263946533,
          -14.003255523469354
         ],
         "z": [
          2.0979905128479004,
          -497.58847268092103
         ]
        },
        {
         "legendgroup": "10",
         "legendgrouptitle": {
          "text": "--10--"
         },
         "line": {
          "color": "red",
          "width": 2
         },
         "marker": {
          "color": "red",
          "size": 1.8
         },
         "type": "scatter3d",
         "x": [
          -10.149720191955566,
          145.0956146358006
         ],
         "y": [
          2.3246545791625977,
          -123.49713363378633
         ],
         "z": [
          2.647716999053955,
          10.879583440736779
         ]
        },
        {
         "legendgroup": "10",
         "legendgrouptitle": {
          "text": "--10--"
         },
         "line": {
          "color": "green",
          "width": 2
         },
         "marker": {
          "color": "green",
          "size": 1.8
         },
         "type": "scatter3d",
         "x": [
          -10.149720191955566,
          115.87664292087727
         ],
         "y": [
          2.3246545791625977,
          157.5769770855374
         ],
         "z": [
          2.647716999053955,
          -1.103570370502632
         ]
        },
        {
         "legendgroup": "10",
         "legendgrouptitle": {
          "text": "--10--"
         },
         "line": {
          "color": "blue",
          "width": 2
         },
         "marker": {
          "color": "blue",
          "size": 1.8
         },
         "type": "scatter3d",
         "x": [
          -10.149720191955566,
          -0.07443645826448098
         ],
         "y": [
          2.3246545791625977,
          -17.92287108331
         ],
         "z": [
          2.647716999053955,
          -496.84054748994595
         ]
        },
        {
         "legendgroup": "11",
         "legendgrouptitle": {
          "text": "--11--"
         },
         "line": {
          "color": "red",
          "width": 2
         },
         "marker": {
          "color": "red",
          "size": 1.9
         },
         "type": "scatter3d",
         "x": [
          -12.254384994506836,
          119.34447322526574
         ],
         "y": [
          3.861525535583496,
          -146.37133069335746
         ],
         "z": [
          3.24957013130188,
          13.824513372121695
         ]
        },
        {
         "legendgroup": "11",
         "legendgrouptitle": {
          "text": "--11--"
         },
         "line": {
          "color": "green",
          "width": 2
         },
         "marker": {
          "color": "green",
          "size": 1.9
         },
         "type": "scatter3d",
         "x": [
          -12.254384994506836,
          138.29205430288278
         ],
         "y": [
          3.861525535583496,
          135.4750763451767
         ],
         "z": [
          3.24957013130188,
          -0.44405385714264645
         ]
        },
        {
         "legendgroup": "11",
         "legendgrouptitle": {
          "text": "--11--"
         },
         "line": {
          "color": "blue",
          "width": 2
         },
         "marker": {
          "color": "blue",
          "size": 1.9
         },
         "type": "scatter3d",
         "x": [
          -12.254384994506836,
          -1.793108145576218
         ],
         "y": [
          3.861525535583496,
          -22.11468384254004
         ],
         "z": [
          3.24957013130188,
          -495.96561216290075
         ]
        },
        {
         "legendgroup": "12",
         "legendgrouptitle": {
          "text": "--12--"
         },
         "line": {
          "color": "red",
          "width": 2
         },
         "marker": {
          "color": "red",
          "size": 2
         },
         "type": "scatter3d",
         "x": [
          -14.285402297973633,
          86.60123029816019
         ],
         "y": [
          5.955892086029053,
          -166.23378049613382
         ],
         "z": [
          3.8919782638549805,
          17.029863156799863
         ]
        },
        {
         "legendgroup": "12",
         "legendgrouptitle": {
          "text": "--12--"
         },
         "line": {
          "color": "green",
          "width": 2
         },
         "marker": {
          "color": "green",
          "size": 2
         },
         "type": "scatter3d",
         "x": [
          -14.285402297973633,
          158.36022535219413
         ],
         "y": [
          5.955892086029053,
          106.86968937795999
         ],
         "z": [
          3.8919782638549805,
          0.7467009465569738
         ]
        },
        {
         "legendgroup": "12",
         "legendgrouptitle": {
          "text": "--12--"
         },
         "line": {
          "color": "blue",
          "width": 2
         },
         "marker": {
          "color": "blue",
          "size": 2
         },
         "type": "scatter3d",
         "x": [
          -14.285402297973633,
          -4.482782529402195
         ],
         "y": [
          5.955892086029053,
          -26.363043169737495
         ],
         "z": [
          3.8919782638549805,
          -494.9661128498468
         ]
        },
        {
         "legendgroup": "13",
         "legendgrouptitle": {
          "text": "--13--"
         },
         "line": {
          "color": "red",
          "width": 2
         },
         "marker": {
          "color": "red",
          "size": 2.1
         },
         "type": "scatter3d",
         "x": [
          -16.0700626373291,
          46.917887186994896
         ],
         "y": [
          8.66202449798584,
          -180.50202107522688
         ],
         "z": [
          4.56102991104126,
          20.35603036384132
         ]
        },
        {
         "legendgroup": "13",
         "legendgrouptitle": {
          "text": "--13--"
         },
         "line": {
          "color": "green",
          "width": 2
         },
         "marker": {
          "color": "green",
          "size": 2.1
         },
         "type": "scatter3d",
         "x": [
          -16.0700626373291,
          173.72680608139112
         ],
         "y": [
          8.66202449798584,
          71.69569856459866
         ],
         "z": [
          4.56102991104126,
          2.585034406765578
         ]
        },
        {
         "legendgroup": "13",
         "legendgrouptitle": {
          "text": "--13--"
         },
         "line": {
          "color": "blue",
          "width": 2
         },
         "marker": {
          "color": "blue",
          "size": 2.1
         },
         "type": "scatter3d",
         "x": [
          -16.0700626373291,
          -8.29719255232244
         ],
         "y": [
          8.66202449798584,
          -30.366794664871975
         ],
         "z": [
          4.56102991104126,
          -493.8527878803544
         ]
        },
        {
         "legendgroup": "14",
         "legendgrouptitle": {
          "text": "--14--"
         },
         "line": {
          "color": "red",
          "width": 2
         },
         "marker": {
          "color": "red",
          "size": 2.2
         },
         "type": "scatter3d",
         "x": [
          -17.37946319580078,
          1.2311060824728486
         ],
         "y": [
          11.973492622375488,
          -186.31030659281032
         ],
         "z": [
          5.251126289367676,
          23.613633741523124
         ]
        },
        {
         "legendgroup": "14",
         "legendgrouptitle": {
          "text": "--14--"
         },
         "line": {
          "color": "green",
          "width": 2
         },
         "marker": {
          "color": "green",
          "size": 2.2
         },
         "type": "scatter3d",
         "x": [
          -17.37946319580078,
          181.7460562342718
         ],
         "y": [
          11.973492622375488,
          30.65559660410278
         ],
         "z": [
          5.251126289367676,
          5.170488086802233
         ]
        },
        {
         "legendgroup": "14",
         "legendgrouptitle": {
          "text": "--14--"
         },
         "line": {
          "color": "blue",
          "width": 2
         },
         "marker": {
          "color": "blue",
          "size": 2.2
         },
         "type": "scatter3d",
         "x": [
          -17.37946319580078,
          -13.29120039055264
         ],
         "y": [
          11.973492622375488,
          -33.7508143439289
         ],
         "z": [
          5.251126289367676,
          -492.63698750698154
         ]
        },
        {
         "legendgroup": "15",
         "legendgrouptitle": {
          "text": "--15--"
         },
         "line": {
          "color": "red",
          "width": 2
         },
         "marker": {
          "color": "red",
          "size": 2.3
         },
         "type": "scatter3d",
         "x": [
          -17.95767593383789,
          -48.407355725268346
         ],
         "y": [
          15.802721977233887,
          -180.78953962133292
         ],
         "z": [
          5.953582763671875,
          26.552118637855482
         ]
        },
        {
         "legendgroup": "15",
         "legendgrouptitle": {
          "text": "--15--"
         },
         "line": {
          "color": "green",
          "width": 2
         },
         "marker": {
          "color": "green",
          "size": 2.3
         },
         "type": "scatter3d",
         "x": [
          -17.95767593383789,
          179.70993622825958
         ],
         "y": [
          15.802721977233887,
          -14.54180959563007
         ],
         "z": [
          5.953582763671875,
          8.546747964362266
         ]
        },
        {
         "legendgroup": "15",
         "legendgrouptitle": {
          "text": "--15--"
         },
         "line": {
          "color": "blue",
          "width": 2
         },
         "marker": {
          "color": "blue",
          "size": 2.3
         },
         "type": "scatter3d",
         "x": [
          -17.95767593383789,
          -19.398384817419256
         ],
         "y": [
          15.802721977233887,
          -36.08008365142212
         ],
         "z": [
          5.953582763671875,
          -491.3452196057003
         ]
        },
        {
         "legendgroup": "16",
         "legendgrouptitle": {
          "text": "--16--"
         },
         "line": {
          "color": "red",
          "width": 2
         },
         "marker": {
          "color": "red",
          "size": 2.4000000000000004
         },
         "type": "scatter3d",
         "x": [
          -17.5548095703125,
          -98.66721965108425
         ],
         "y": [
          19.958433151245117,
          -161.50031656300234
         ],
         "z": [
          6.66546630859375,
          28.880305561463228
         ]
        },
        {
         "legendgroup": "16",
         "legendgrouptitle": {
          "text": "--16--"
         },
         "line": {
          "color": "green",
          "width": 2
         },
         "marker": {
          "color": "green",
          "size": 2.4000000000000004
         },
         "type": "scatter3d",
         "x": [
          -17.5548095703125,
          165.2245108697916
         ],
         "y": [
          19.958433151245117,
          -61.0077906822123
         ],
         "z": [
          6.66546630859375,
          12.681330137191015
         ]
        },
        {
         "legendgroup": "16",
         "legendgrouptitle": {
          "text": "--16--"
         },
         "line": {
          "color": "blue",
          "width": 2
         },
         "marker": {
          "color": "blue",
          "size": 2.4000000000000004
         },
         "type": "scatter3d",
         "x": [
          -17.5548095703125,
          -26.392566052608508
         ],
         "y": [
          19.958433151245117,
          -36.896247301016096
         ],
         "z": [
          6.66546630859375,
          -490.0129400783066
         ]
        },
        {
         "legendgroup": "17",
         "legendgrouptitle": {
          "text": "--17--"
         },
         "line": {
          "color": "red",
          "width": 2
         },
         "marker": {
          "color": "red",
          "size": 2.5
         },
         "type": "scatter3d",
         "x": [
          -15.966197967529297,
          -144.93222032538094
         ],
         "y": [
          24.142335891723633,
          -126.99735940562181
         ],
         "z": [
          7.396580696105957,
          30.29980279736709
         ]
        },
        {
         "legendgroup": "17",
         "legendgrouptitle": {
          "text": "--17--"
         },
         "line": {
          "color": "green",
          "width": 2
         },
         "marker": {
          "color": "green",
          "size": 2.5
         },
         "type": "scatter3d",
         "x": [
          -15.966197967529297,
          136.73144378456328
         ],
         "y": [
          24.142335891723633,
          -104.6307763374551
         ],
         "z": [
          7.396580696105957,
          17.442264852048055
         ]
        },
        {
         "legendgroup": "17",
         "legendgrouptitle": {
          "text": "--17--"
         },
         "line": {
          "color": "blue",
          "width": 2
         },
         "marker": {
          "color": "blue",
          "size": 2.5
         },
         "type": "scatter3d",
         "x": [
          -15.966197967529297,
          -33.853917313442395
         ],
         "y": [
          24.142335891723633,
          -35.767913243802944
         ],
         "z": [
          7.396580696105957,
          -488.678808277305
         ]
        },
        {
         "legendgroup": "18",
         "legendgrouptitle": {
          "text": "--18--"
         },
         "line": {
          "color": "red",
          "width": 2
         },
         "marker": {
          "color": "red",
          "size": 2.6
         },
         "type": "scatter3d",
         "x": [
          -13.095943450927734,
          -181.56160120002215
         ],
         "y": [
          27.956254959106445,
          -77.48775660116495
         ],
         "z": [
          8.170742988586426,
          30.55114926823927
         ]
        },
        {
         "legendgroup": "18",
         "legendgrouptitle": {
          "text": "--18--"
         },
         "line": {
          "color": "green",
          "width": 2
         },
         "marker": {
          "color": "green",
          "size": 2.6
         },
         "type": "scatter3d",
         "x": [
          -13.095943450927734,
          94.11047783618912
         ],
         "y": [
          27.956254959106445,
          -140.2675892738986
         ],
         "z": [
          8.170742988586426,
          22.57634836562169
         ]
        },
        {
         "legendgroup": "18",
         "legendgrouptitle": {
          "text": "--18--"
         },
         "line": {
          "color": "blue",
          "width": 2
         },
         "marker": {
          "color": "blue",
          "size": 2.6
         },
         "type": "scatter3d",
         "x": [
          -13.095943450927734,
          -41.17010795031369
         ],
         "y": [
          27.956254959106445,
          -32.370908157261546
         ],
         "z": [
          8.170742988586426,
          -487.38195317801967
         ]
        },
        {
         "legendgroup": "19",
         "legendgrouptitle": {
          "text": "--19--"
         },
         "line": {
          "color": "red",
          "width": 2
         },
         "marker": {
          "color": "red",
          "size": 2.7
         },
         "type": "scatter3d",
         "x": [
          -9.001957893371582,
          -202.46739391872705
         ],
         "y": [
          30.919384002685547,
          -15.480762781149537
         ],
         "z": [
          9.015907287597656,
          29.464658886598986
         ]
        },
        {
         "legendgroup": "19",
         "legendgrouptitle": {
          "text": "--19--"
         },
         "line": {
          "color": "green",
          "width": 2
         },
         "marker": {
          "color": "green",
          "size": 2.7
         },
         "type": "scatter3d",
         "x": [
          -9.001957893371582,
          39.30346527593238
         ],
         "y": [
          30.919384002685547,
          -162.25854292060126
         ],
         "z": [
          9.015907287597656,
          27.694093550073152
         ]
        },
        {
         "legendgroup": "19",
         "legendgrouptitle": {
          "text": "--19--"
         },
         "line": {
          "color": "blue",
          "width": 2
         },
         "marker": {
          "color": "blue",
          "size": 2.7
         },
         "type": "scatter3d",
         "x": [
          -9.001957893371582,
          -47.54666861624222
         ],
         "y": [
          30.919384002685547,
          -26.597729106144058
         ],
         "z": [
          9.015907287597656,
          -486.16697506488873
         ]
        },
        {
         "legendgroup": "20",
         "legendgrouptitle": {
          "text": "--20--"
         },
         "line": {
          "color": "red",
          "width": 2
         },
         "marker": {
          "color": "red",
          "size": 2.8
         },
         "type": "scatter3d",
         "x": [
          -3.924863815307617,
          -202.06022636328962
         ],
         "y": [
          32.543968200683594,
          53.78341626708095
         ],
         "z": [
          9.965140342712402,
          27.03159732166804
         ]
        },
        {
         "legendgroup": "20",
         "legendgrouptitle": {
          "text": "--20--"
         },
         "line": {
          "color": "green",
          "width": 2
         },
         "marker": {
          "color": "green",
          "size": 2.8
         },
         "type": "scatter3d",
         "x": [
          -3.924863815307617,
          -23.206494917754036
         ],
         "y": [
          32.543968200683594,
          -165.268322879984
         ],
         "z": [
          9.965140342712402,
          32.292616676736436
         ]
        },
        {
         "legendgroup": "20",
         "legendgrouptitle": {
          "text": "--20--"
         },
         "line": {
          "color": "blue",
          "width": 2
         },
         "marker": {
          "color": "blue",
          "size": 2.8
         },
         "type": "scatter3d",
         "x": [
          -3.924863815307617,
          -52.052091686396196
         ],
         "y": [
          32.543968200683594,
          -18.64095043093323
         ],
         "z": [
          9.965140342712402,
          -485.07412480917344
         ]
        },
        {
         "legendgroup": "21",
         "legendgrouptitle": {
          "text": "--21--"
         },
         "line": {
          "color": "red",
          "width": 2
         },
         "marker": {
          "color": "red",
          "size": 2.9000000000000004
         },
         "type": "scatter3d",
         "x": [
          1.675511360168457,
          -176.55971720978064
         ],
         "y": [
          32.388736724853516,
          122.26647396174944
         ],
         "z": [
          11.059718132019043,
          23.47727206963091
         ]
        },
        {
         "legendgroup": "21",
         "legendgrouptitle": {
          "text": "--21--"
         },
         "line": {
          "color": "green",
          "width": 2
         },
         "marker": {
          "color": "green",
          "size": 2.9000000000000004
         },
         "type": "scatter3d",
         "x": [
          1.675511360168457,
          -86.30529543825207
         ],
         "y": [
          32.388736724853516,
          -145.50548042630146
         ],
         "z": [
          11.059718132019043,
          35.81906261600558
         ]
        },
        {
         "legendgroup": "21",
         "legendgrouptitle": {
          "text": "--21--"
         },
         "line": {
          "color": "blue",
          "width": 2
         },
         "marker": {
          "color": "blue",
          "size": 2.9000000000000004
         },
         "type": "scatter3d",
         "x": [
          1.675511360168457,
          -53.75354981924701
         ],
         "y": [
          32.388736724853516,
          -9.117275893289644
         ],
         "z": [
          11.059718132019043,
          -484.1219354995662
         ]
        },
        {
         "legendgroup": "22",
         "legendgrouptitle": {
          "text": "--22--"
         },
         "line": {
          "color": "red",
          "width": 2
         },
         "marker": {
          "color": "red",
          "size": 3
         },
         "type": "scatter3d",
         "x": [
          7.108701229095459,
          -125.48335549947456
         ],
         "y": [
          30.185739517211914,
          179.75480447616482
         ],
         "z": [
          12.346354484558105,
          19.306332917873014
         ]
        },
        {
         "legendgroup": "22",
         "legendgrouptitle": {
          "text": "--22--"
         },
         "line": {
          "color": "green",
          "width": 2
         },
         "marker": {
          "color": "green",
          "size": 3
         },
         "type": "scatter3d",
         "x": [
          7.108701229095459,
          -140.74826812081554
         ],
         "y": [
          30.185739517211914,
          -102.07156975100622
         ],
         "z": [
          12.346354484558105,
          37.76919381832223
         ]
        },
        {
         "legendgroup": "22",
         "legendgrouptitle": {
          "text": "--22--"
         },
         "line": {
          "color": "blue",
          "width": 2
         },
         "marker": {
          "color": "blue",
          "size": 3
         },
         "type": "scatter3d",
         "x": [
          7.108701229095459,
          -51.92852786975264
         ],
         "y": [
          30.185739517211914,
          0.9134240515483114
         ],
         "z": [
          12.346354484558105,
          -483.29236184782127
         ]
        }
       ],
       "layout": {
        "scene": {
         "aspectmode": "data",
         "aspectratio": {
          "x": 1,
          "y": 1,
          "z": 1
         }
        },
        "template": {
         "data": {
          "bar": [
           {
            "error_x": {
             "color": "#2a3f5f"
            },
            "error_y": {
             "color": "#2a3f5f"
            },
            "marker": {
             "line": {
              "color": "#E5ECF6",
              "width": 0.5
             },
             "pattern": {
              "fillmode": "overlay",
              "size": 10,
              "solidity": 0.2
             }
            },
            "type": "bar"
           }
          ],
          "barpolar": [
           {
            "marker": {
             "line": {
              "color": "#E5ECF6",
              "width": 0.5
             },
             "pattern": {
              "fillmode": "overlay",
              "size": 10,
              "solidity": 0.2
             }
            },
            "type": "barpolar"
           }
          ],
          "carpet": [
           {
            "aaxis": {
             "endlinecolor": "#2a3f5f",
             "gridcolor": "white",
             "linecolor": "white",
             "minorgridcolor": "white",
             "startlinecolor": "#2a3f5f"
            },
            "baxis": {
             "endlinecolor": "#2a3f5f",
             "gridcolor": "white",
             "linecolor": "white",
             "minorgridcolor": "white",
             "startlinecolor": "#2a3f5f"
            },
            "type": "carpet"
           }
          ],
          "choropleth": [
           {
            "colorbar": {
             "outlinewidth": 0,
             "ticks": ""
            },
            "type": "choropleth"
           }
          ],
          "contour": [
           {
            "colorbar": {
             "outlinewidth": 0,
             "ticks": ""
            },
            "colorscale": [
             [
              0,
              "#0d0887"
             ],
             [
              0.1111111111111111,
              "#46039f"
             ],
             [
              0.2222222222222222,
              "#7201a8"
             ],
             [
              0.3333333333333333,
              "#9c179e"
             ],
             [
              0.4444444444444444,
              "#bd3786"
             ],
             [
              0.5555555555555556,
              "#d8576b"
             ],
             [
              0.6666666666666666,
              "#ed7953"
             ],
             [
              0.7777777777777778,
              "#fb9f3a"
             ],
             [
              0.8888888888888888,
              "#fdca26"
             ],
             [
              1,
              "#f0f921"
             ]
            ],
            "type": "contour"
           }
          ],
          "contourcarpet": [
           {
            "colorbar": {
             "outlinewidth": 0,
             "ticks": ""
            },
            "type": "contourcarpet"
           }
          ],
          "heatmap": [
           {
            "colorbar": {
             "outlinewidth": 0,
             "ticks": ""
            },
            "colorscale": [
             [
              0,
              "#0d0887"
             ],
             [
              0.1111111111111111,
              "#46039f"
             ],
             [
              0.2222222222222222,
              "#7201a8"
             ],
             [
              0.3333333333333333,
              "#9c179e"
             ],
             [
              0.4444444444444444,
              "#bd3786"
             ],
             [
              0.5555555555555556,
              "#d8576b"
             ],
             [
              0.6666666666666666,
              "#ed7953"
             ],
             [
              0.7777777777777778,
              "#fb9f3a"
             ],
             [
              0.8888888888888888,
              "#fdca26"
             ],
             [
              1,
              "#f0f921"
             ]
            ],
            "type": "heatmap"
           }
          ],
          "heatmapgl": [
           {
            "colorbar": {
             "outlinewidth": 0,
             "ticks": ""
            },
            "colorscale": [
             [
              0,
              "#0d0887"
             ],
             [
              0.1111111111111111,
              "#46039f"
             ],
             [
              0.2222222222222222,
              "#7201a8"
             ],
             [
              0.3333333333333333,
              "#9c179e"
             ],
             [
              0.4444444444444444,
              "#bd3786"
             ],
             [
              0.5555555555555556,
              "#d8576b"
             ],
             [
              0.6666666666666666,
              "#ed7953"
             ],
             [
              0.7777777777777778,
              "#fb9f3a"
             ],
             [
              0.8888888888888888,
              "#fdca26"
             ],
             [
              1,
              "#f0f921"
             ]
            ],
            "type": "heatmapgl"
           }
          ],
          "histogram": [
           {
            "marker": {
             "pattern": {
              "fillmode": "overlay",
              "size": 10,
              "solidity": 0.2
             }
            },
            "type": "histogram"
           }
          ],
          "histogram2d": [
           {
            "colorbar": {
             "outlinewidth": 0,
             "ticks": ""
            },
            "colorscale": [
             [
              0,
              "#0d0887"
             ],
             [
              0.1111111111111111,
              "#46039f"
             ],
             [
              0.2222222222222222,
              "#7201a8"
             ],
             [
              0.3333333333333333,
              "#9c179e"
             ],
             [
              0.4444444444444444,
              "#bd3786"
             ],
             [
              0.5555555555555556,
              "#d8576b"
             ],
             [
              0.6666666666666666,
              "#ed7953"
             ],
             [
              0.7777777777777778,
              "#fb9f3a"
             ],
             [
              0.8888888888888888,
              "#fdca26"
             ],
             [
              1,
              "#f0f921"
             ]
            ],
            "type": "histogram2d"
           }
          ],
          "histogram2dcontour": [
           {
            "colorbar": {
             "outlinewidth": 0,
             "ticks": ""
            },
            "colorscale": [
             [
              0,
              "#0d0887"
             ],
             [
              0.1111111111111111,
              "#46039f"
             ],
             [
              0.2222222222222222,
              "#7201a8"
             ],
             [
              0.3333333333333333,
              "#9c179e"
             ],
             [
              0.4444444444444444,
              "#bd3786"
             ],
             [
              0.5555555555555556,
              "#d8576b"
             ],
             [
              0.6666666666666666,
              "#ed7953"
             ],
             [
              0.7777777777777778,
              "#fb9f3a"
             ],
             [
              0.8888888888888888,
              "#fdca26"
             ],
             [
              1,
              "#f0f921"
             ]
            ],
            "type": "histogram2dcontour"
           }
          ],
          "mesh3d": [
           {
            "colorbar": {
             "outlinewidth": 0,
             "ticks": ""
            },
            "type": "mesh3d"
           }
          ],
          "parcoords": [
           {
            "line": {
             "colorbar": {
              "outlinewidth": 0,
              "ticks": ""
             }
            },
            "type": "parcoords"
           }
          ],
          "pie": [
           {
            "automargin": true,
            "type": "pie"
           }
          ],
          "scatter": [
           {
            "marker": {
             "colorbar": {
              "outlinewidth": 0,
              "ticks": ""
             }
            },
            "type": "scatter"
           }
          ],
          "scatter3d": [
           {
            "line": {
             "colorbar": {
              "outlinewidth": 0,
              "ticks": ""
             }
            },
            "marker": {
             "colorbar": {
              "outlinewidth": 0,
              "ticks": ""
             }
            },
            "type": "scatter3d"
           }
          ],
          "scattercarpet": [
           {
            "marker": {
             "colorbar": {
              "outlinewidth": 0,
              "ticks": ""
             }
            },
            "type": "scattercarpet"
           }
          ],
          "scattergeo": [
           {
            "marker": {
             "colorbar": {
              "outlinewidth": 0,
              "ticks": ""
             }
            },
            "type": "scattergeo"
           }
          ],
          "scattergl": [
           {
            "marker": {
             "colorbar": {
              "outlinewidth": 0,
              "ticks": ""
             }
            },
            "type": "scattergl"
           }
          ],
          "scattermapbox": [
           {
            "marker": {
             "colorbar": {
              "outlinewidth": 0,
              "ticks": ""
             }
            },
            "type": "scattermapbox"
           }
          ],
          "scatterpolar": [
           {
            "marker": {
             "colorbar": {
              "outlinewidth": 0,
              "ticks": ""
             }
            },
            "type": "scatterpolar"
           }
          ],
          "scatterpolargl": [
           {
            "marker": {
             "colorbar": {
              "outlinewidth": 0,
              "ticks": ""
             }
            },
            "type": "scatterpolargl"
           }
          ],
          "scatterternary": [
           {
            "marker": {
             "colorbar": {
              "outlinewidth": 0,
              "ticks": ""
             }
            },
            "type": "scatterternary"
           }
          ],
          "surface": [
           {
            "colorbar": {
             "outlinewidth": 0,
             "ticks": ""
            },
            "colorscale": [
             [
              0,
              "#0d0887"
             ],
             [
              0.1111111111111111,
              "#46039f"
             ],
             [
              0.2222222222222222,
              "#7201a8"
             ],
             [
              0.3333333333333333,
              "#9c179e"
             ],
             [
              0.4444444444444444,
              "#bd3786"
             ],
             [
              0.5555555555555556,
              "#d8576b"
             ],
             [
              0.6666666666666666,
              "#ed7953"
             ],
             [
              0.7777777777777778,
              "#fb9f3a"
             ],
             [
              0.8888888888888888,
              "#fdca26"
             ],
             [
              1,
              "#f0f921"
             ]
            ],
            "type": "surface"
           }
          ],
          "table": [
           {
            "cells": {
             "fill": {
              "color": "#EBF0F8"
             },
             "line": {
              "color": "white"
             }
            },
            "header": {
             "fill": {
              "color": "#C8D4E3"
             },
             "line": {
              "color": "white"
             }
            },
            "type": "table"
           }
          ]
         },
         "layout": {
          "annotationdefaults": {
           "arrowcolor": "#2a3f5f",
           "arrowhead": 0,
           "arrowwidth": 1
          },
          "autotypenumbers": "strict",
          "coloraxis": {
           "colorbar": {
            "outlinewidth": 0,
            "ticks": ""
           }
          },
          "colorscale": {
           "diverging": [
            [
             0,
             "#8e0152"
            ],
            [
             0.1,
             "#c51b7d"
            ],
            [
             0.2,
             "#de77ae"
            ],
            [
             0.3,
             "#f1b6da"
            ],
            [
             0.4,
             "#fde0ef"
            ],
            [
             0.5,
             "#f7f7f7"
            ],
            [
             0.6,
             "#e6f5d0"
            ],
            [
             0.7,
             "#b8e186"
            ],
            [
             0.8,
             "#7fbc41"
            ],
            [
             0.9,
             "#4d9221"
            ],
            [
             1,
             "#276419"
            ]
           ],
           "sequential": [
            [
             0,
             "#0d0887"
            ],
            [
             0.1111111111111111,
             "#46039f"
            ],
            [
             0.2222222222222222,
             "#7201a8"
            ],
            [
             0.3333333333333333,
             "#9c179e"
            ],
            [
             0.4444444444444444,
             "#bd3786"
            ],
            [
             0.5555555555555556,
             "#d8576b"
            ],
            [
             0.6666666666666666,
             "#ed7953"
            ],
            [
             0.7777777777777778,
             "#fb9f3a"
            ],
            [
             0.8888888888888888,
             "#fdca26"
            ],
            [
             1,
             "#f0f921"
            ]
           ],
           "sequentialminus": [
            [
             0,
             "#0d0887"
            ],
            [
             0.1111111111111111,
             "#46039f"
            ],
            [
             0.2222222222222222,
             "#7201a8"
            ],
            [
             0.3333333333333333,
             "#9c179e"
            ],
            [
             0.4444444444444444,
             "#bd3786"
            ],
            [
             0.5555555555555556,
             "#d8576b"
            ],
            [
             0.6666666666666666,
             "#ed7953"
            ],
            [
             0.7777777777777778,
             "#fb9f3a"
            ],
            [
             0.8888888888888888,
             "#fdca26"
            ],
            [
             1,
             "#f0f921"
            ]
           ]
          },
          "colorway": [
           "#636efa",
           "#EF553B",
           "#00cc96",
           "#ab63fa",
           "#FFA15A",
           "#19d3f3",
           "#FF6692",
           "#B6E880",
           "#FF97FF",
           "#FECB52"
          ],
          "font": {
           "color": "#2a3f5f"
          },
          "geo": {
           "bgcolor": "white",
           "lakecolor": "white",
           "landcolor": "#E5ECF6",
           "showlakes": true,
           "showland": true,
           "subunitcolor": "white"
          },
          "hoverlabel": {
           "align": "left"
          },
          "hovermode": "closest",
          "mapbox": {
           "style": "light"
          },
          "paper_bgcolor": "white",
          "plot_bgcolor": "#E5ECF6",
          "polar": {
           "angularaxis": {
            "gridcolor": "white",
            "linecolor": "white",
            "ticks": ""
           },
           "bgcolor": "#E5ECF6",
           "radialaxis": {
            "gridcolor": "white",
            "linecolor": "white",
            "ticks": ""
           }
          },
          "scene": {
           "xaxis": {
            "backgroundcolor": "#E5ECF6",
            "gridcolor": "white",
            "gridwidth": 2,
            "linecolor": "white",
            "showbackground": true,
            "ticks": "",
            "zerolinecolor": "white"
           },
           "yaxis": {
            "backgroundcolor": "#E5ECF6",
            "gridcolor": "white",
            "gridwidth": 2,
            "linecolor": "white",
            "showbackground": true,
            "ticks": "",
            "zerolinecolor": "white"
           },
           "zaxis": {
            "backgroundcolor": "#E5ECF6",
            "gridcolor": "white",
            "gridwidth": 2,
            "linecolor": "white",
            "showbackground": true,
            "ticks": "",
            "zerolinecolor": "white"
           }
          },
          "shapedefaults": {
           "line": {
            "color": "#2a3f5f"
           }
          },
          "ternary": {
           "aaxis": {
            "gridcolor": "white",
            "linecolor": "white",
            "ticks": ""
           },
           "baxis": {
            "gridcolor": "white",
            "linecolor": "white",
            "ticks": ""
           },
           "bgcolor": "#E5ECF6",
           "caxis": {
            "gridcolor": "white",
            "linecolor": "white",
            "ticks": ""
           }
          },
          "title": {
           "x": 0.05
          },
          "xaxis": {
           "automargin": true,
           "gridcolor": "white",
           "linecolor": "white",
           "ticks": "",
           "title": {
            "standoff": 15
           },
           "zerolinecolor": "white",
           "zerolinewidth": 2
          },
          "yaxis": {
           "automargin": true,
           "gridcolor": "white",
           "linecolor": "white",
           "ticks": "",
           "title": {
            "standoff": 15
           },
           "zerolinecolor": "white",
           "zerolinewidth": 2
          }
         }
        },
        "title": {
         "text": "6-stand"
        }
       }
      },
      "text/html": [
       "<div>                            <div id=\"80c1c620-d00a-4dae-b13e-ab004e904270\" class=\"plotly-graph-div\" style=\"height:525px; width:100%;\"></div>            <script type=\"text/javascript\">                require([\"plotly\"], function(Plotly) {                    window.PLOTLYENV=window.PLOTLYENV || {};                                    if (document.getElementById(\"80c1c620-d00a-4dae-b13e-ab004e904270\")) {                    Plotly.newPlot(                        \"80c1c620-d00a-4dae-b13e-ab004e904270\",                        [{\"legendgroup\":\"0\",\"legendgrouptitle\":{\"text\":\"origins\"},\"line\":{\"color\":\"black\",\"width\":2},\"marker\":{\"color\":\"black\",\"size\":1},\"type\":\"scatter3d\",\"x\":[0.0,-0.27731427550315857,-0.8406690955162048,-1.726668357849121,-2.92818546295166,-4.415318012237549,-6.152786731719971,-8.089886665344238,-10.149720191955566,-12.254384994506836,-14.285402297973633,-16.0700626373291,-17.37946319580078,-17.95767593383789,-17.5548095703125,-15.966197967529297,-13.095943450927734,-9.001957893371582,-3.924863815307617,1.675511360168457,7.108701229095459],\"y\":[0.0,-0.012615584768354893,-0.03958514705300331,-0.052983358502388,0.0028895465657114983,0.1883143037557602,0.578054666519165,1.2615082263946533,2.3246545791625977,3.861525535583496,5.955892086029053,8.66202449798584,11.973492622375488,15.802721977233887,19.958433151245117,24.142335891723633,27.956254959106445,30.919384002685547,32.543968200683594,32.388736724853516,30.185739517211914],\"z\":[0.0,0.0874311700463295,0.2569074034690857,0.4997576177120209,0.8095954060554504,1.1807420253753662,1.6085354089736938,2.0979905128479004,2.647716999053955,3.24957013130188,3.8919782638549805,4.56102991104126,5.251126289367676,5.953582763671875,6.66546630859375,7.396580696105957,8.170742988586426,9.015907287597656,9.965140342712402,11.059718132019043,12.346354484558105]},{\"legendgroup\":\"1\",\"legendgrouptitle\":{\"text\":\"finish\"},\"line\":{\"color\":\"black\",\"width\":2},\"marker\":{\"color\":\"black\",\"size\":1},\"type\":\"scatter3d\",\"x\":[0.0,-9.742368474955201,-29.22185247027355,-58.3983664091649,-97.02453656840946,-144.51252268184146,-199.764923999912,-260.94029059036234,-325.21562797403766,-388.6204832379809,-445.8994714233931,-490.5622344341296,-515.1932617709822,-512.1267063390816,-474.50311067057277,-397.7103023477607,-281.1119966687199,-129.76551581663148,44.27921394080843,221.62752835621978,376.75112460387294],\"y\":[-500.0,-499.92281026080616,-499.2316415318244,-496.8241817598515,-491.04606059693936,-479.74898962278075,-460.35644206876304,-430.00648373609437,-385.80615168677446,-325.1723514883995,-246.32860114379827,-148.9221606685462,-34.73176733194274,91.66405090939378,222.37399273488867,346.0751164646705,448.51586554161906,513.8642013109026,527.0746959023526,477.124279602741,360.82901268775726],\"z\":[0.0,0.5456974326682317,1.5982770734795737,3.0872426646063045,4.909018731338502,6.921608117740354,8.938611932104553,10.734676428041926,12.025935422945423,12.483630102413196,11.755171557099995,9.501018671730463,5.452721795781284,-0.5293302380541034,-8.374193262899414,-17.717629693749284,-27.84327045400174,-37.67955836859108,-45.853550492347686,-50.8386430779473,-51.21074384985221]},{\"legendgroup\":\"2\",\"legendgrouptitle\":{\"text\":\"--2--\"},\"line\":{\"color\":\"red\",\"width\":2},\"marker\":{\"color\":\"red\",\"size\":1.0},\"type\":\"scatter3d\",\"x\":[0.0,200.0],\"y\":[0.0,0.0],\"z\":[0.0,0.0]},{\"legendgroup\":\"2\",\"legendgrouptitle\":{\"text\":\"--2--\"},\"line\":{\"color\":\"green\",\"width\":2},\"marker\":{\"color\":\"green\",\"size\":1.0},\"type\":\"scatter3d\",\"x\":[0.0,0.0],\"y\":[0.0,200.0],\"z\":[0.0,0.0]},{\"legendgroup\":\"2\",\"legendgrouptitle\":{\"text\":\"--2--\"},\"line\":{\"color\":\"blue\",\"width\":2},\"marker\":{\"color\":\"blue\",\"size\":1.0},\"type\":\"scatter3d\",\"x\":[0.0,0.0],\"y\":[0.0,0.0],\"z\":[0.0,-500.0]},{\"legendgroup\":\"3\",\"legendgrouptitle\":{\"text\":\"--3--\"},\"line\":{\"color\":\"red\",\"width\":2},\"marker\":{\"color\":\"red\",\"size\":1.1},\"type\":\"scatter3d\",\"x\":[-0.27731427550315857,199.68677135018086],\"y\":[-0.012615584768354893,-3.798474107684077],\"z\":[0.0874311700463295,0.26557473175025137]},{\"legendgroup\":\"3\",\"legendgrouptitle\":{\"text\":\"--3--\"},\"line\":{\"color\":\"green\",\"width\":2},\"marker\":{\"color\":\"green\",\"size\":1.1},\"type\":\"scatter3d\",\"x\":[-0.27731427550315857,3.5087074042776583],\"y\":[-0.012615584768354893,199.95146228564676],\"z\":[0.0874311700463295,-0.09587533500243137]},{\"legendgroup\":\"3\",\"legendgrouptitle\":{\"text\":\"--3--\"},\"line\":{\"color\":\"blue\",\"width\":2},\"marker\":{\"color\":\"blue\",\"size\":1.1},\"type\":\"scatter3d\",\"x\":[-0.27731427550315857,0.15928998137473377],\"y\":[-0.012615584768354893,-0.4792302479938513],\"z\":[0.0874311700463295,-499.9121604772659]},{\"legendgroup\":\"4\",\"legendgrouptitle\":{\"text\":\"--4--\"},\"line\":{\"color\":\"red\",\"width\":2},\"marker\":{\"color\":\"red\",\"size\":1.2},\"type\":\"scatter3d\",\"x\":[-0.8406690955162048,198.83620775220666],\"y\":[-0.03958514705300331,-11.390590989804139],\"z\":[0.2569074034690857,0.8041904172276287]},{\"legendgroup\":\"4\",\"legendgrouptitle\":{\"text\":\"--4--\"},\"line\":{\"color\":\"green\",\"width\":2},\"marker\":{\"color\":\"green\",\"size\":1.2},\"type\":\"scatter3d\",\"x\":[-0.8406690955162048,10.511804254386734],\"y\":[-0.03958514705300331,199.63723740685555],\"z\":[0.2569074034690857,-0.2796404645351095]},{\"legendgroup\":\"4\",\"legendgrouptitle\":{\"text\":\"--4--\"},\"line\":{\"color\":\"blue\",\"width\":2},\"marker\":{\"color\":\"blue\",\"size\":1.2},\"type\":\"scatter3d\",\"x\":[-0.8406690955162048,0.44919809498881547],\"y\":[-0.03958514705300331,-1.4564503769396333],\"z\":[0.2569074034690857,-499.7394213186039]},{\"legendgroup\":\"5\",\"legendgrouptitle\":{\"text\":\"--5--\"},\"line\":{\"color\":\"red\",\"width\":2},\"marker\":{\"color\":\"red\",\"size\":1.3},\"type\":\"scatter3d\",\"x\":[-1.726668357849121,196.98196477327198],\"y\":[-0.052983358502388,-22.715796417969766],\"z\":[0.4997576177120209,1.6293696719847353]},{\"legendgroup\":\"5\",\"legendgrouptitle\":{\"text\":\"--5--\"},\"line\":{\"color\":\"green\",\"width\":2},\"marker\":{\"color\":\"green\",\"size\":1.3},\"type\":\"scatter3d\",\"x\":[-1.726668357849121,20.94201086267719],\"y\":[-0.052983358502388,198.65549600203727],\"z\":[0.4997576177120209,-0.5352364010456925]},{\"legendgroup\":\"5\",\"legendgrouptitle\":{\"text\":\"--5--\"},\"line\":{\"color\":\"blue\",\"width\":2},\"marker\":{\"color\":\"blue\",\"size\":1.3},\"type\":\"scatter3d\",\"x\":[-1.726668357849121,0.7859268622395481],\"y\":[-0.052983358502388,-2.943846609354627],\"z\":[0.4997576177120209,-499.48557194199105]},{\"legendgroup\":\"6\",\"legendgrouptitle\":{\"text\":\"--6--\"},\"line\":{\"color\":\"red\",\"width\":2},\"marker\":{\"color\":\"red\",\"size\":1.4},\"type\":\"scatter3d\",\"x\":[-2.92818546295166,193.49163764994256],\"y\":[0.0028895465657114983,-37.61938632515238],\"z\":[0.8095954060554504,2.7634240914035972]},{\"legendgroup\":\"6\",\"legendgrouptitle\":{\"text\":\"--6--\"},\"line\":{\"color\":\"green\",\"width\":2},\"marker\":{\"color\":\"green\",\"size\":1.4},\"type\":\"scatter3d\",\"x\":[-2.92818546295166,34.71035497923146],\"y\":[0.0028895465657114983,196.42246960396776],\"z\":[0.8095954060554504,-0.8301739240577704]},{\"legendgroup\":\"6\",\"legendgrouptitle\":{\"text\":\"--6--\"},\"line\":{\"color\":\"blue\",\"width\":2},\"marker\":{\"color\":\"blue\",\"size\":1.4},\"type\":\"scatter3d\",\"x\":[-2.92818546295166,1.0977939842569269],\"y\":[0.0028895465657114983,-4.942391225401308],\"z\":[0.8095954060554504,-499.1497386278009]},{\"legendgroup\":\"7\",\"legendgrouptitle\":{\"text\":\"--7--\"},\"line\":{\"color\":\"red\",\"width\":2},\"marker\":{\"color\":\"red\",\"size\":1.5},\"type\":\"scatter3d\",\"x\":[-4.415318012237549,187.55971496637244],\"y\":[0.1883143037557602,-55.81408698194913],\"z\":[1.1807420253753662,4.233243146831617]},{\"legendgroup\":\"7\",\"legendgrouptitle\":{\"text\":\"--7--\"},\"line\":{\"color\":\"green\",\"width\":2},\"marker\":{\"color\":\"green\",\"size\":1.5},\"type\":\"scatter3d\",\"x\":[-4.415318012237549,51.62356385560401],\"y\":[0.1883143037557602,192.16323587437037],\"z\":[1.1807420253753662,-1.115604411570629]},{\"legendgroup\":\"7\",\"legendgrouptitle\":{\"text\":\"--7--\"},\"line\":{\"color\":\"blue\",\"width\":2},\"marker\":{\"color\":\"blue\",\"size\":1.5},\"type\":\"scatter3d\",\"x\":[-4.415318012237549,1.302216346924058],\"y\":[0.1883143037557602,-7.460434855116261],\"z\":[1.1807420253753662,-498.72805609399813]},{\"legendgroup\":\"8\",\"legendgrouptitle\":{\"text\":\"--8--\"},\"line\":{\"color\":\"red\",\"width\":2},\"marker\":{\"color\":\"red\",\"size\":1.6},\"type\":\"scatter3d\",\"x\":[-6.152786731719971,178.22035650087898],\"y\":[0.578054666519165,-76.7956726728214],\"z\":[1.6085354089736938,6.063911055194429]},{\"legendgroup\":\"8\",\"legendgrouptitle\":{\"text\":\"--8--\"},\"line\":{\"color\":\"green\",\"width\":2},\"marker\":{\"color\":\"green\",\"size\":1.6},\"type\":\"scatter3d\",\"x\":[-6.152786731719971,71.29206817555685],\"y\":[0.578054666519165,184.95185336063204],\"z\":[1.6085354089736938,-1.3234952002786495]},{\"legendgroup\":\"8\",\"legendgrouptitle\":{\"text\":\"--8--\"},\"line\":{\"color\":\"blue\",\"width\":2},\"marker\":{\"color\":\"blue\",\"size\":1.6},\"type\":\"scatter3d\",\"x\":[-6.152786731719971,1.2796182131808207],\"y\":[0.578054666519165,-10.492365582993662],\"z\":[1.6085354089736938,-498.2136381210071]},{\"legendgroup\":\"9\",\"legendgrouptitle\":{\"text\":\"--9--\"},\"line\":{\"color\":\"red\",\"width\":2},\"marker\":{\"color\":\"red\",\"size\":1.7000000000000002},\"type\":\"scatter3d\",\"x\":[-8.089886665344238,164.41460498464946],\"y\":[1.2615082263946533,-99.75326779874206],\"z\":[2.0979905128479004,8.279849874619469]},{\"legendgroup\":\"9\",\"legendgrouptitle\":{\"text\":\"--9--\"},\"line\":{\"color\":\"green\",\"width\":2},\"marker\":{\"color\":\"green\",\"size\":1.7000000000000002},\"type\":\"scatter3d\",\"x\":[-8.089886665344238,93.05027490466301],\"y\":[1.2615082263946533,173.76870501139024],\"z\":[2.0979905128479004,-1.3566838532297094]},{\"legendgroup\":\"9\",\"legendgrouptitle\":{\"text\":\"--9--\"},\"line\":{\"color\":\"blue\",\"width\":2},\"marker\":{\"color\":\"blue\",\"size\":1.7000000000000002},\"type\":\"scatter3d\",\"x\":[-8.089886665344238,0.8781392357705684],\"y\":[1.2615082263946533,-14.003255523469354],\"z\":[2.0979905128479004,-497.58847268092103]},{\"legendgroup\":\"10\",\"legendgrouptitle\":{\"text\":\"--10--\"},\"line\":{\"color\":\"red\",\"width\":2},\"marker\":{\"color\":\"red\",\"size\":1.8},\"type\":\"scatter3d\",\"x\":[-10.149720191955566,145.0956146358006],\"y\":[2.3246545791625977,-123.49713363378633],\"z\":[2.647716999053955,10.879583440736779]},{\"legendgroup\":\"10\",\"legendgrouptitle\":{\"text\":\"--10--\"},\"line\":{\"color\":\"green\",\"width\":2},\"marker\":{\"color\":\"green\",\"size\":1.8},\"type\":\"scatter3d\",\"x\":[-10.149720191955566,115.87664292087727],\"y\":[2.3246545791625977,157.5769770855374],\"z\":[2.647716999053955,-1.103570370502632]},{\"legendgroup\":\"10\",\"legendgrouptitle\":{\"text\":\"--10--\"},\"line\":{\"color\":\"blue\",\"width\":2},\"marker\":{\"color\":\"blue\",\"size\":1.8},\"type\":\"scatter3d\",\"x\":[-10.149720191955566,-0.07443645826448098],\"y\":[2.3246545791625977,-17.92287108331],\"z\":[2.647716999053955,-496.84054748994595]},{\"legendgroup\":\"11\",\"legendgrouptitle\":{\"text\":\"--11--\"},\"line\":{\"color\":\"red\",\"width\":2},\"marker\":{\"color\":\"red\",\"size\":1.9},\"type\":\"scatter3d\",\"x\":[-12.254384994506836,119.34447322526574],\"y\":[3.861525535583496,-146.37133069335746],\"z\":[3.24957013130188,13.824513372121695]},{\"legendgroup\":\"11\",\"legendgrouptitle\":{\"text\":\"--11--\"},\"line\":{\"color\":\"green\",\"width\":2},\"marker\":{\"color\":\"green\",\"size\":1.9},\"type\":\"scatter3d\",\"x\":[-12.254384994506836,138.29205430288278],\"y\":[3.861525535583496,135.4750763451767],\"z\":[3.24957013130188,-0.44405385714264645]},{\"legendgroup\":\"11\",\"legendgrouptitle\":{\"text\":\"--11--\"},\"line\":{\"color\":\"blue\",\"width\":2},\"marker\":{\"color\":\"blue\",\"size\":1.9},\"type\":\"scatter3d\",\"x\":[-12.254384994506836,-1.793108145576218],\"y\":[3.861525535583496,-22.11468384254004],\"z\":[3.24957013130188,-495.96561216290075]},{\"legendgroup\":\"12\",\"legendgrouptitle\":{\"text\":\"--12--\"},\"line\":{\"color\":\"red\",\"width\":2},\"marker\":{\"color\":\"red\",\"size\":2.0},\"type\":\"scatter3d\",\"x\":[-14.285402297973633,86.60123029816019],\"y\":[5.955892086029053,-166.23378049613382],\"z\":[3.8919782638549805,17.029863156799863]},{\"legendgroup\":\"12\",\"legendgrouptitle\":{\"text\":\"--12--\"},\"line\":{\"color\":\"green\",\"width\":2},\"marker\":{\"color\":\"green\",\"size\":2.0},\"type\":\"scatter3d\",\"x\":[-14.285402297973633,158.36022535219413],\"y\":[5.955892086029053,106.86968937795999],\"z\":[3.8919782638549805,0.7467009465569738]},{\"legendgroup\":\"12\",\"legendgrouptitle\":{\"text\":\"--12--\"},\"line\":{\"color\":\"blue\",\"width\":2},\"marker\":{\"color\":\"blue\",\"size\":2.0},\"type\":\"scatter3d\",\"x\":[-14.285402297973633,-4.482782529402195],\"y\":[5.955892086029053,-26.363043169737495],\"z\":[3.8919782638549805,-494.9661128498468]},{\"legendgroup\":\"13\",\"legendgrouptitle\":{\"text\":\"--13--\"},\"line\":{\"color\":\"red\",\"width\":2},\"marker\":{\"color\":\"red\",\"size\":2.1},\"type\":\"scatter3d\",\"x\":[-16.0700626373291,46.917887186994896],\"y\":[8.66202449798584,-180.50202107522688],\"z\":[4.56102991104126,20.35603036384132]},{\"legendgroup\":\"13\",\"legendgrouptitle\":{\"text\":\"--13--\"},\"line\":{\"color\":\"green\",\"width\":2},\"marker\":{\"color\":\"green\",\"size\":2.1},\"type\":\"scatter3d\",\"x\":[-16.0700626373291,173.72680608139112],\"y\":[8.66202449798584,71.69569856459866],\"z\":[4.56102991104126,2.585034406765578]},{\"legendgroup\":\"13\",\"legendgrouptitle\":{\"text\":\"--13--\"},\"line\":{\"color\":\"blue\",\"width\":2},\"marker\":{\"color\":\"blue\",\"size\":2.1},\"type\":\"scatter3d\",\"x\":[-16.0700626373291,-8.29719255232244],\"y\":[8.66202449798584,-30.366794664871975],\"z\":[4.56102991104126,-493.8527878803544]},{\"legendgroup\":\"14\",\"legendgrouptitle\":{\"text\":\"--14--\"},\"line\":{\"color\":\"red\",\"width\":2},\"marker\":{\"color\":\"red\",\"size\":2.2},\"type\":\"scatter3d\",\"x\":[-17.37946319580078,1.2311060824728486],\"y\":[11.973492622375488,-186.31030659281032],\"z\":[5.251126289367676,23.613633741523124]},{\"legendgroup\":\"14\",\"legendgrouptitle\":{\"text\":\"--14--\"},\"line\":{\"color\":\"green\",\"width\":2},\"marker\":{\"color\":\"green\",\"size\":2.2},\"type\":\"scatter3d\",\"x\":[-17.37946319580078,181.7460562342718],\"y\":[11.973492622375488,30.65559660410278],\"z\":[5.251126289367676,5.170488086802233]},{\"legendgroup\":\"14\",\"legendgrouptitle\":{\"text\":\"--14--\"},\"line\":{\"color\":\"blue\",\"width\":2},\"marker\":{\"color\":\"blue\",\"size\":2.2},\"type\":\"scatter3d\",\"x\":[-17.37946319580078,-13.29120039055264],\"y\":[11.973492622375488,-33.7508143439289],\"z\":[5.251126289367676,-492.63698750698154]},{\"legendgroup\":\"15\",\"legendgrouptitle\":{\"text\":\"--15--\"},\"line\":{\"color\":\"red\",\"width\":2},\"marker\":{\"color\":\"red\",\"size\":2.3},\"type\":\"scatter3d\",\"x\":[-17.95767593383789,-48.407355725268346],\"y\":[15.802721977233887,-180.78953962133292],\"z\":[5.953582763671875,26.552118637855482]},{\"legendgroup\":\"15\",\"legendgrouptitle\":{\"text\":\"--15--\"},\"line\":{\"color\":\"green\",\"width\":2},\"marker\":{\"color\":\"green\",\"size\":2.3},\"type\":\"scatter3d\",\"x\":[-17.95767593383789,179.70993622825958],\"y\":[15.802721977233887,-14.54180959563007],\"z\":[5.953582763671875,8.546747964362266]},{\"legendgroup\":\"15\",\"legendgrouptitle\":{\"text\":\"--15--\"},\"line\":{\"color\":\"blue\",\"width\":2},\"marker\":{\"color\":\"blue\",\"size\":2.3},\"type\":\"scatter3d\",\"x\":[-17.95767593383789,-19.398384817419256],\"y\":[15.802721977233887,-36.08008365142212],\"z\":[5.953582763671875,-491.3452196057003]},{\"legendgroup\":\"16\",\"legendgrouptitle\":{\"text\":\"--16--\"},\"line\":{\"color\":\"red\",\"width\":2},\"marker\":{\"color\":\"red\",\"size\":2.4000000000000004},\"type\":\"scatter3d\",\"x\":[-17.5548095703125,-98.66721965108425],\"y\":[19.958433151245117,-161.50031656300234],\"z\":[6.66546630859375,28.880305561463228]},{\"legendgroup\":\"16\",\"legendgrouptitle\":{\"text\":\"--16--\"},\"line\":{\"color\":\"green\",\"width\":2},\"marker\":{\"color\":\"green\",\"size\":2.4000000000000004},\"type\":\"scatter3d\",\"x\":[-17.5548095703125,165.2245108697916],\"y\":[19.958433151245117,-61.0077906822123],\"z\":[6.66546630859375,12.681330137191015]},{\"legendgroup\":\"16\",\"legendgrouptitle\":{\"text\":\"--16--\"},\"line\":{\"color\":\"blue\",\"width\":2},\"marker\":{\"color\":\"blue\",\"size\":2.4000000000000004},\"type\":\"scatter3d\",\"x\":[-17.5548095703125,-26.392566052608508],\"y\":[19.958433151245117,-36.896247301016096],\"z\":[6.66546630859375,-490.0129400783066]},{\"legendgroup\":\"17\",\"legendgrouptitle\":{\"text\":\"--17--\"},\"line\":{\"color\":\"red\",\"width\":2},\"marker\":{\"color\":\"red\",\"size\":2.5},\"type\":\"scatter3d\",\"x\":[-15.966197967529297,-144.93222032538094],\"y\":[24.142335891723633,-126.99735940562181],\"z\":[7.396580696105957,30.29980279736709]},{\"legendgroup\":\"17\",\"legendgrouptitle\":{\"text\":\"--17--\"},\"line\":{\"color\":\"green\",\"width\":2},\"marker\":{\"color\":\"green\",\"size\":2.5},\"type\":\"scatter3d\",\"x\":[-15.966197967529297,136.73144378456328],\"y\":[24.142335891723633,-104.6307763374551],\"z\":[7.396580696105957,17.442264852048055]},{\"legendgroup\":\"17\",\"legendgrouptitle\":{\"text\":\"--17--\"},\"line\":{\"color\":\"blue\",\"width\":2},\"marker\":{\"color\":\"blue\",\"size\":2.5},\"type\":\"scatter3d\",\"x\":[-15.966197967529297,-33.853917313442395],\"y\":[24.142335891723633,-35.767913243802944],\"z\":[7.396580696105957,-488.678808277305]},{\"legendgroup\":\"18\",\"legendgrouptitle\":{\"text\":\"--18--\"},\"line\":{\"color\":\"red\",\"width\":2},\"marker\":{\"color\":\"red\",\"size\":2.6},\"type\":\"scatter3d\",\"x\":[-13.095943450927734,-181.56160120002215],\"y\":[27.956254959106445,-77.48775660116495],\"z\":[8.170742988586426,30.55114926823927]},{\"legendgroup\":\"18\",\"legendgrouptitle\":{\"text\":\"--18--\"},\"line\":{\"color\":\"green\",\"width\":2},\"marker\":{\"color\":\"green\",\"size\":2.6},\"type\":\"scatter3d\",\"x\":[-13.095943450927734,94.11047783618912],\"y\":[27.956254959106445,-140.2675892738986],\"z\":[8.170742988586426,22.57634836562169]},{\"legendgroup\":\"18\",\"legendgrouptitle\":{\"text\":\"--18--\"},\"line\":{\"color\":\"blue\",\"width\":2},\"marker\":{\"color\":\"blue\",\"size\":2.6},\"type\":\"scatter3d\",\"x\":[-13.095943450927734,-41.17010795031369],\"y\":[27.956254959106445,-32.370908157261546],\"z\":[8.170742988586426,-487.38195317801967]},{\"legendgroup\":\"19\",\"legendgrouptitle\":{\"text\":\"--19--\"},\"line\":{\"color\":\"red\",\"width\":2},\"marker\":{\"color\":\"red\",\"size\":2.7},\"type\":\"scatter3d\",\"x\":[-9.001957893371582,-202.46739391872705],\"y\":[30.919384002685547,-15.480762781149537],\"z\":[9.015907287597656,29.464658886598986]},{\"legendgroup\":\"19\",\"legendgrouptitle\":{\"text\":\"--19--\"},\"line\":{\"color\":\"green\",\"width\":2},\"marker\":{\"color\":\"green\",\"size\":2.7},\"type\":\"scatter3d\",\"x\":[-9.001957893371582,39.30346527593238],\"y\":[30.919384002685547,-162.25854292060126],\"z\":[9.015907287597656,27.694093550073152]},{\"legendgroup\":\"19\",\"legendgrouptitle\":{\"text\":\"--19--\"},\"line\":{\"color\":\"blue\",\"width\":2},\"marker\":{\"color\":\"blue\",\"size\":2.7},\"type\":\"scatter3d\",\"x\":[-9.001957893371582,-47.54666861624222],\"y\":[30.919384002685547,-26.597729106144058],\"z\":[9.015907287597656,-486.16697506488873]},{\"legendgroup\":\"20\",\"legendgrouptitle\":{\"text\":\"--20--\"},\"line\":{\"color\":\"red\",\"width\":2},\"marker\":{\"color\":\"red\",\"size\":2.8},\"type\":\"scatter3d\",\"x\":[-3.924863815307617,-202.06022636328962],\"y\":[32.543968200683594,53.78341626708095],\"z\":[9.965140342712402,27.03159732166804]},{\"legendgroup\":\"20\",\"legendgrouptitle\":{\"text\":\"--20--\"},\"line\":{\"color\":\"green\",\"width\":2},\"marker\":{\"color\":\"green\",\"size\":2.8},\"type\":\"scatter3d\",\"x\":[-3.924863815307617,-23.206494917754036],\"y\":[32.543968200683594,-165.268322879984],\"z\":[9.965140342712402,32.292616676736436]},{\"legendgroup\":\"20\",\"legendgrouptitle\":{\"text\":\"--20--\"},\"line\":{\"color\":\"blue\",\"width\":2},\"marker\":{\"color\":\"blue\",\"size\":2.8},\"type\":\"scatter3d\",\"x\":[-3.924863815307617,-52.052091686396196],\"y\":[32.543968200683594,-18.64095043093323],\"z\":[9.965140342712402,-485.07412480917344]},{\"legendgroup\":\"21\",\"legendgrouptitle\":{\"text\":\"--21--\"},\"line\":{\"color\":\"red\",\"width\":2},\"marker\":{\"color\":\"red\",\"size\":2.9000000000000004},\"type\":\"scatter3d\",\"x\":[1.675511360168457,-176.55971720978064],\"y\":[32.388736724853516,122.26647396174944],\"z\":[11.059718132019043,23.47727206963091]},{\"legendgroup\":\"21\",\"legendgrouptitle\":{\"text\":\"--21--\"},\"line\":{\"color\":\"green\",\"width\":2},\"marker\":{\"color\":\"green\",\"size\":2.9000000000000004},\"type\":\"scatter3d\",\"x\":[1.675511360168457,-86.30529543825207],\"y\":[32.388736724853516,-145.50548042630146],\"z\":[11.059718132019043,35.81906261600558]},{\"legendgroup\":\"21\",\"legendgrouptitle\":{\"text\":\"--21--\"},\"line\":{\"color\":\"blue\",\"width\":2},\"marker\":{\"color\":\"blue\",\"size\":2.9000000000000004},\"type\":\"scatter3d\",\"x\":[1.675511360168457,-53.75354981924701],\"y\":[32.388736724853516,-9.117275893289644],\"z\":[11.059718132019043,-484.1219354995662]},{\"legendgroup\":\"22\",\"legendgrouptitle\":{\"text\":\"--22--\"},\"line\":{\"color\":\"red\",\"width\":2},\"marker\":{\"color\":\"red\",\"size\":3.0},\"type\":\"scatter3d\",\"x\":[7.108701229095459,-125.48335549947456],\"y\":[30.185739517211914,179.75480447616482],\"z\":[12.346354484558105,19.306332917873014]},{\"legendgroup\":\"22\",\"legendgrouptitle\":{\"text\":\"--22--\"},\"line\":{\"color\":\"green\",\"width\":2},\"marker\":{\"color\":\"green\",\"size\":3.0},\"type\":\"scatter3d\",\"x\":[7.108701229095459,-140.74826812081554],\"y\":[30.185739517211914,-102.07156975100622],\"z\":[12.346354484558105,37.76919381832223]},{\"legendgroup\":\"22\",\"legendgrouptitle\":{\"text\":\"--22--\"},\"line\":{\"color\":\"blue\",\"width\":2},\"marker\":{\"color\":\"blue\",\"size\":3.0},\"type\":\"scatter3d\",\"x\":[7.108701229095459,-51.92852786975264],\"y\":[30.185739517211914,0.9134240515483114],\"z\":[12.346354484558105,-483.29236184782127]}],                        {\"scene\":{\"aspectmode\":\"data\",\"aspectratio\":{\"x\":1,\"y\":1,\"z\":1}},\"template\":{\"data\":{\"bar\":[{\"error_x\":{\"color\":\"#2a3f5f\"},\"error_y\":{\"color\":\"#2a3f5f\"},\"marker\":{\"line\":{\"color\":\"#E5ECF6\",\"width\":0.5},\"pattern\":{\"fillmode\":\"overlay\",\"size\":10,\"solidity\":0.2}},\"type\":\"bar\"}],\"barpolar\":[{\"marker\":{\"line\":{\"color\":\"#E5ECF6\",\"width\":0.5},\"pattern\":{\"fillmode\":\"overlay\",\"size\":10,\"solidity\":0.2}},\"type\":\"barpolar\"}],\"carpet\":[{\"aaxis\":{\"endlinecolor\":\"#2a3f5f\",\"gridcolor\":\"white\",\"linecolor\":\"white\",\"minorgridcolor\":\"white\",\"startlinecolor\":\"#2a3f5f\"},\"baxis\":{\"endlinecolor\":\"#2a3f5f\",\"gridcolor\":\"white\",\"linecolor\":\"white\",\"minorgridcolor\":\"white\",\"startlinecolor\":\"#2a3f5f\"},\"type\":\"carpet\"}],\"choropleth\":[{\"colorbar\":{\"outlinewidth\":0,\"ticks\":\"\"},\"type\":\"choropleth\"}],\"contour\":[{\"colorbar\":{\"outlinewidth\":0,\"ticks\":\"\"},\"colorscale\":[[0.0,\"#0d0887\"],[0.1111111111111111,\"#46039f\"],[0.2222222222222222,\"#7201a8\"],[0.3333333333333333,\"#9c179e\"],[0.4444444444444444,\"#bd3786\"],[0.5555555555555556,\"#d8576b\"],[0.6666666666666666,\"#ed7953\"],[0.7777777777777778,\"#fb9f3a\"],[0.8888888888888888,\"#fdca26\"],[1.0,\"#f0f921\"]],\"type\":\"contour\"}],\"contourcarpet\":[{\"colorbar\":{\"outlinewidth\":0,\"ticks\":\"\"},\"type\":\"contourcarpet\"}],\"heatmap\":[{\"colorbar\":{\"outlinewidth\":0,\"ticks\":\"\"},\"colorscale\":[[0.0,\"#0d0887\"],[0.1111111111111111,\"#46039f\"],[0.2222222222222222,\"#7201a8\"],[0.3333333333333333,\"#9c179e\"],[0.4444444444444444,\"#bd3786\"],[0.5555555555555556,\"#d8576b\"],[0.6666666666666666,\"#ed7953\"],[0.7777777777777778,\"#fb9f3a\"],[0.8888888888888888,\"#fdca26\"],[1.0,\"#f0f921\"]],\"type\":\"heatmap\"}],\"heatmapgl\":[{\"colorbar\":{\"outlinewidth\":0,\"ticks\":\"\"},\"colorscale\":[[0.0,\"#0d0887\"],[0.1111111111111111,\"#46039f\"],[0.2222222222222222,\"#7201a8\"],[0.3333333333333333,\"#9c179e\"],[0.4444444444444444,\"#bd3786\"],[0.5555555555555556,\"#d8576b\"],[0.6666666666666666,\"#ed7953\"],[0.7777777777777778,\"#fb9f3a\"],[0.8888888888888888,\"#fdca26\"],[1.0,\"#f0f921\"]],\"type\":\"heatmapgl\"}],\"histogram\":[{\"marker\":{\"pattern\":{\"fillmode\":\"overlay\",\"size\":10,\"solidity\":0.2}},\"type\":\"histogram\"}],\"histogram2d\":[{\"colorbar\":{\"outlinewidth\":0,\"ticks\":\"\"},\"colorscale\":[[0.0,\"#0d0887\"],[0.1111111111111111,\"#46039f\"],[0.2222222222222222,\"#7201a8\"],[0.3333333333333333,\"#9c179e\"],[0.4444444444444444,\"#bd3786\"],[0.5555555555555556,\"#d8576b\"],[0.6666666666666666,\"#ed7953\"],[0.7777777777777778,\"#fb9f3a\"],[0.8888888888888888,\"#fdca26\"],[1.0,\"#f0f921\"]],\"type\":\"histogram2d\"}],\"histogram2dcontour\":[{\"colorbar\":{\"outlinewidth\":0,\"ticks\":\"\"},\"colorscale\":[[0.0,\"#0d0887\"],[0.1111111111111111,\"#46039f\"],[0.2222222222222222,\"#7201a8\"],[0.3333333333333333,\"#9c179e\"],[0.4444444444444444,\"#bd3786\"],[0.5555555555555556,\"#d8576b\"],[0.6666666666666666,\"#ed7953\"],[0.7777777777777778,\"#fb9f3a\"],[0.8888888888888888,\"#fdca26\"],[1.0,\"#f0f921\"]],\"type\":\"histogram2dcontour\"}],\"mesh3d\":[{\"colorbar\":{\"outlinewidth\":0,\"ticks\":\"\"},\"type\":\"mesh3d\"}],\"parcoords\":[{\"line\":{\"colorbar\":{\"outlinewidth\":0,\"ticks\":\"\"}},\"type\":\"parcoords\"}],\"pie\":[{\"automargin\":true,\"type\":\"pie\"}],\"scatter\":[{\"marker\":{\"colorbar\":{\"outlinewidth\":0,\"ticks\":\"\"}},\"type\":\"scatter\"}],\"scatter3d\":[{\"line\":{\"colorbar\":{\"outlinewidth\":0,\"ticks\":\"\"}},\"marker\":{\"colorbar\":{\"outlinewidth\":0,\"ticks\":\"\"}},\"type\":\"scatter3d\"}],\"scattercarpet\":[{\"marker\":{\"colorbar\":{\"outlinewidth\":0,\"ticks\":\"\"}},\"type\":\"scattercarpet\"}],\"scattergeo\":[{\"marker\":{\"colorbar\":{\"outlinewidth\":0,\"ticks\":\"\"}},\"type\":\"scattergeo\"}],\"scattergl\":[{\"marker\":{\"colorbar\":{\"outlinewidth\":0,\"ticks\":\"\"}},\"type\":\"scattergl\"}],\"scattermapbox\":[{\"marker\":{\"colorbar\":{\"outlinewidth\":0,\"ticks\":\"\"}},\"type\":\"scattermapbox\"}],\"scatterpolar\":[{\"marker\":{\"colorbar\":{\"outlinewidth\":0,\"ticks\":\"\"}},\"type\":\"scatterpolar\"}],\"scatterpolargl\":[{\"marker\":{\"colorbar\":{\"outlinewidth\":0,\"ticks\":\"\"}},\"type\":\"scatterpolargl\"}],\"scatterternary\":[{\"marker\":{\"colorbar\":{\"outlinewidth\":0,\"ticks\":\"\"}},\"type\":\"scatterternary\"}],\"surface\":[{\"colorbar\":{\"outlinewidth\":0,\"ticks\":\"\"},\"colorscale\":[[0.0,\"#0d0887\"],[0.1111111111111111,\"#46039f\"],[0.2222222222222222,\"#7201a8\"],[0.3333333333333333,\"#9c179e\"],[0.4444444444444444,\"#bd3786\"],[0.5555555555555556,\"#d8576b\"],[0.6666666666666666,\"#ed7953\"],[0.7777777777777778,\"#fb9f3a\"],[0.8888888888888888,\"#fdca26\"],[1.0,\"#f0f921\"]],\"type\":\"surface\"}],\"table\":[{\"cells\":{\"fill\":{\"color\":\"#EBF0F8\"},\"line\":{\"color\":\"white\"}},\"header\":{\"fill\":{\"color\":\"#C8D4E3\"},\"line\":{\"color\":\"white\"}},\"type\":\"table\"}]},\"layout\":{\"annotationdefaults\":{\"arrowcolor\":\"#2a3f5f\",\"arrowhead\":0,\"arrowwidth\":1},\"autotypenumbers\":\"strict\",\"coloraxis\":{\"colorbar\":{\"outlinewidth\":0,\"ticks\":\"\"}},\"colorscale\":{\"diverging\":[[0,\"#8e0152\"],[0.1,\"#c51b7d\"],[0.2,\"#de77ae\"],[0.3,\"#f1b6da\"],[0.4,\"#fde0ef\"],[0.5,\"#f7f7f7\"],[0.6,\"#e6f5d0\"],[0.7,\"#b8e186\"],[0.8,\"#7fbc41\"],[0.9,\"#4d9221\"],[1,\"#276419\"]],\"sequential\":[[0.0,\"#0d0887\"],[0.1111111111111111,\"#46039f\"],[0.2222222222222222,\"#7201a8\"],[0.3333333333333333,\"#9c179e\"],[0.4444444444444444,\"#bd3786\"],[0.5555555555555556,\"#d8576b\"],[0.6666666666666666,\"#ed7953\"],[0.7777777777777778,\"#fb9f3a\"],[0.8888888888888888,\"#fdca26\"],[1.0,\"#f0f921\"]],\"sequentialminus\":[[0.0,\"#0d0887\"],[0.1111111111111111,\"#46039f\"],[0.2222222222222222,\"#7201a8\"],[0.3333333333333333,\"#9c179e\"],[0.4444444444444444,\"#bd3786\"],[0.5555555555555556,\"#d8576b\"],[0.6666666666666666,\"#ed7953\"],[0.7777777777777778,\"#fb9f3a\"],[0.8888888888888888,\"#fdca26\"],[1.0,\"#f0f921\"]]},\"colorway\":[\"#636efa\",\"#EF553B\",\"#00cc96\",\"#ab63fa\",\"#FFA15A\",\"#19d3f3\",\"#FF6692\",\"#B6E880\",\"#FF97FF\",\"#FECB52\"],\"font\":{\"color\":\"#2a3f5f\"},\"geo\":{\"bgcolor\":\"white\",\"lakecolor\":\"white\",\"landcolor\":\"#E5ECF6\",\"showlakes\":true,\"showland\":true,\"subunitcolor\":\"white\"},\"hoverlabel\":{\"align\":\"left\"},\"hovermode\":\"closest\",\"mapbox\":{\"style\":\"light\"},\"paper_bgcolor\":\"white\",\"plot_bgcolor\":\"#E5ECF6\",\"polar\":{\"angularaxis\":{\"gridcolor\":\"white\",\"linecolor\":\"white\",\"ticks\":\"\"},\"bgcolor\":\"#E5ECF6\",\"radialaxis\":{\"gridcolor\":\"white\",\"linecolor\":\"white\",\"ticks\":\"\"}},\"scene\":{\"xaxis\":{\"backgroundcolor\":\"#E5ECF6\",\"gridcolor\":\"white\",\"gridwidth\":2,\"linecolor\":\"white\",\"showbackground\":true,\"ticks\":\"\",\"zerolinecolor\":\"white\"},\"yaxis\":{\"backgroundcolor\":\"#E5ECF6\",\"gridcolor\":\"white\",\"gridwidth\":2,\"linecolor\":\"white\",\"showbackground\":true,\"ticks\":\"\",\"zerolinecolor\":\"white\"},\"zaxis\":{\"backgroundcolor\":\"#E5ECF6\",\"gridcolor\":\"white\",\"gridwidth\":2,\"linecolor\":\"white\",\"showbackground\":true,\"ticks\":\"\",\"zerolinecolor\":\"white\"}},\"shapedefaults\":{\"line\":{\"color\":\"#2a3f5f\"}},\"ternary\":{\"aaxis\":{\"gridcolor\":\"white\",\"linecolor\":\"white\",\"ticks\":\"\"},\"baxis\":{\"gridcolor\":\"white\",\"linecolor\":\"white\",\"ticks\":\"\"},\"bgcolor\":\"#E5ECF6\",\"caxis\":{\"gridcolor\":\"white\",\"linecolor\":\"white\",\"ticks\":\"\"}},\"title\":{\"x\":0.05},\"xaxis\":{\"automargin\":true,\"gridcolor\":\"white\",\"linecolor\":\"white\",\"ticks\":\"\",\"title\":{\"standoff\":15},\"zerolinecolor\":\"white\",\"zerolinewidth\":2},\"yaxis\":{\"automargin\":true,\"gridcolor\":\"white\",\"linecolor\":\"white\",\"ticks\":\"\",\"title\":{\"standoff\":15},\"zerolinecolor\":\"white\",\"zerolinewidth\":2}}},\"title\":{\"text\":\"6-stand\"}},                        {\"responsive\": true}                    ).then(function(){\n",
       "                            \n",
       "var gd = document.getElementById('80c1c620-d00a-4dae-b13e-ab004e904270');\n",
       "var x = new MutationObserver(function (mutations, observer) {{\n",
       "        var display = window.getComputedStyle(gd).display;\n",
       "        if (!display || display === 'none') {{\n",
       "            console.log([gd, 'removed!']);\n",
       "            Plotly.purge(gd);\n",
       "            observer.disconnect();\n",
       "        }}\n",
       "}});\n",
       "\n",
       "// Listen for the removal of the full notebook cells\n",
       "var notebookContainer = gd.closest('#notebook-container');\n",
       "if (notebookContainer) {{\n",
       "    x.observe(notebookContainer, {childList: true});\n",
       "}}\n",
       "\n",
       "// Listen for the clearing of the current output cell\n",
       "var outputEl = gd.closest('.output');\n",
       "if (outputEl) {{\n",
       "    x.observe(outputEl, {childList: true});\n",
       "}}\n",
       "\n",
       "                        })                };                });            </script>        </div>"
      ]
     },
     "metadata": {},
     "output_type": "display_data"
    },
    {
     "data": {
      "application/vnd.jupyter.widget-view+json": {
       "model_id": "39d689774aae4585ae8087056cd36063",
       "version_major": 2,
       "version_minor": 0
      },
      "text/plain": [
       "0it [00:00, ?it/s]"
      ]
     },
     "metadata": {},
     "output_type": "display_data"
    },
    {
     "data": {
      "application/vnd.plotly.v1+json": {
       "config": {
        "plotlyServerURL": "https://plot.ly"
       },
       "data": [
        {
         "legendgroup": "0",
         "legendgrouptitle": {
          "text": "origins"
         },
         "line": {
          "color": "black",
          "width": 2
         },
         "marker": {
          "color": "black",
          "size": 1
         },
         "type": "scatter3d",
         "x": [
          0,
          0.9224077463150024,
          1.8302708864212036,
          2.4104480743408203,
          3.225452423095703,
          4.398681640625,
          5.547919750213623,
          5.733951568603516,
          3.751283884048462,
          -1.6688992977142334,
          -11.67333984375,
          -27.24457359313965,
          -49.126155853271484,
          -77.49267578125,
          -110.7415542602539,
          -145.4014129638672,
          -175.43043518066406,
          -193.7733917236328,
          -192.47628784179688,
          -164.19961547851562,
          -103.75983428955078
         ],
         "y": [
          0,
          0.2103380411863327,
          0.6004800200462341,
          0.8086808919906616,
          -0.06685328483581543,
          -3.1122958660125732,
          -9.322001457214355,
          -18.27916717529297,
          -28.908811569213867,
          -40.47377395629883,
          -51.94160079956055,
          -61.63491439819336,
          -66.98147583007812,
          -64.52400207519531,
          -50.477752685546875,
          -21.456392288208008,
          24.336061477661133,
          86.6325912475586,
          162.59263610839844,
          244.6199951171875,
          320.84844970703125
         ],
         "z": [
          0,
          8.111251831054688,
          23.660964965820312,
          45.954490661621094,
          74.68510437011719,
          109.7218017578125,
          150.92349243164062,
          198.61083984375,
          253.3502197265625,
          315.4309997558594,
          384.704833984375,
          460.7877197265625,
          543.3880004882812,
          632.2681884765625,
          726.9265747070312,
          826.8789672851562,
          931.7271118164062,
          1040.953369140625,
          1153.9268798828125,
          1270.471435546875,
          1391.1846923828125
         ]
        },
        {
         "legendgroup": "1",
         "legendgrouptitle": {
          "text": "finish"
         },
         "line": {
          "color": "black",
          "width": 2
         },
         "marker": {
          "color": "black",
          "size": 1
         },
         "type": "scatter3d",
         "x": [
          0,
          -9.32912870279275,
          -28.903750553050152,
          -58.932181164714315,
          -98.56548160149227,
          -146.92529516272864,
          -203.04485012137448,
          -265.6360583104838,
          -332.44108068305775,
          -399.88906024862166,
          -462.9161071332869,
          -515.0204622467505,
          -548.6917659409169,
          -556.0664803267643,
          -529.1831041977096,
          -461.8312801275415,
          -350.9318287774905,
          -199.83856702600914,
          -19.257500704207615,
          172.06789910650627,
          348.8971512473181
         ],
         "y": [
          -500,
          -499.6835490026576,
          -498.44542146809164,
          -495.381963554563,
          -489.5132606633858,
          -479.49307480490404,
          -463.42684273721085,
          -437.7336031365402,
          -398.2693455119957,
          -341.79369844955414,
          -265.8817208008427,
          -169.36148678126776,
          -52.92555198260587,
          80.17333299923203,
          223.09484115454438,
          364.90072681156573,
          490.5709547840146,
          582.8892547531692,
          625.4163159150937,
          604.5571070282915,
          514.345551743456
         ],
         "z": [
          0,
          9.115092769264633,
          26.594927141779532,
          51.60481824093541,
          83.67510184689841,
          122.46572195503306,
          167.59231012720338,
          219.01412121356987,
          276.7487233599374,
          340.4710979108652,
          409.3947109123357,
          482.4595459249815,
          558.7708553128182,
          637.726652105708,
          718.882621354092,
          802.3776267564685,
          889.0154610734876,
          980.1871155550152,
          1077.8381606612863,
          1184.6260273766911,
          1303.6602675164909
         ]
        },
        {
         "legendgroup": "2",
         "legendgrouptitle": {
          "text": "--2--"
         },
         "line": {
          "color": "red",
          "width": 2
         },
         "marker": {
          "color": "red",
          "size": 1
         },
         "type": "scatter3d",
         "x": [
          0,
          200
         ],
         "y": [
          0,
          0
         ],
         "z": [
          0,
          0
         ]
        },
        {
         "legendgroup": "2",
         "legendgrouptitle": {
          "text": "--2--"
         },
         "line": {
          "color": "green",
          "width": 2
         },
         "marker": {
          "color": "green",
          "size": 1
         },
         "type": "scatter3d",
         "x": [
          0,
          0
         ],
         "y": [
          0,
          200
         ],
         "z": [
          0,
          0
         ]
        },
        {
         "legendgroup": "2",
         "legendgrouptitle": {
          "text": "--2--"
         },
         "line": {
          "color": "blue",
          "width": 2
         },
         "marker": {
          "color": "blue",
          "size": 1
         },
         "type": "scatter3d",
         "x": [
          0,
          0
         ],
         "y": [
          0,
          0
         ],
         "z": [
          0,
          -500
         ]
        },
        {
         "legendgroup": "3",
         "legendgrouptitle": {
          "text": "--3--"
         },
         "line": {
          "color": "red",
          "width": 2
         },
         "marker": {
          "color": "red",
          "size": 1.1
         },
         "type": "scatter3d",
         "x": [
          0.9224077463150024,
          200.88028273734085
         ],
         "y": [
          0.2103380411863327,
          -3.8899006576651507
         ],
         "z": [
          8.111251831054688,
          8.301703099671345
         ]
        },
        {
         "legendgroup": "3",
         "legendgrouptitle": {
          "text": "--3--"
         },
         "line": {
          "color": "green",
          "width": 2
         },
         "marker": {
          "color": "green",
          "size": 1.1
         },
         "type": "scatter3d",
         "x": [
          0.9224077463150024,
          5.023022325958103
         ],
         "y": [
          0.2103380411863327,
          200.16789285872392
         ],
         "z": [
          8.111251831054688,
          7.709715455770709
         ]
        },
        {
         "legendgroup": "3",
         "legendgrouptitle": {
          "text": "--3--"
         },
         "line": {
          "color": "blue",
          "width": 2
         },
         "marker": {
          "color": "blue",
          "size": 1.1
         },
         "type": "scatter3d",
         "x": [
          0.9224077463150024,
          1.3778549338093617
         ],
         "y": [
          0.2103380411863327,
          -0.803053553590972
         ],
         "z": [
          8.111251831054688,
          -491.8875137727567
         ]
        },
        {
         "legendgroup": "4",
         "legendgrouptitle": {
          "text": "--4--"
         },
         "line": {
          "color": "red",
          "width": 2
         },
         "marker": {
          "color": "red",
          "size": 1.2
         },
         "type": "scatter3d",
         "x": [
          1.8302708864212036,
          201.45142066098305
         ],
         "y": [
          0.6004800200462341,
          -11.68985041681827
         ],
         "z": [
          23.660964965820312,
          24.247770244112118
         ]
        },
        {
         "legendgroup": "4",
         "legendgrouptitle": {
          "text": "--4--"
         },
         "line": {
          "color": "green",
          "width": 2
         },
         "marker": {
          "color": "green",
          "size": 1.2
         },
         "type": "scatter3d",
         "x": [
          1.8302708864212036,
          14.123879462209747
         ],
         "y": [
          0.6004800200462341,
          200.2188406153014
         ],
         "z": [
          23.660964965820312,
          22.487380095436624
         ]
        },
        {
         "legendgroup": "4",
         "legendgrouptitle": {
          "text": "--4--"
         },
         "line": {
          "color": "blue",
          "width": 2
         },
         "marker": {
          "color": "blue",
          "size": 1.2
         },
         "type": "scatter3d",
         "x": [
          1.8302708864212036,
          3.1141879087778612
         ],
         "y": [
          0.6004800200462341,
          -2.418098924773117
         ],
         "z": [
          23.660964965820312,
          -476.3282746566276
         ]
        },
        {
         "legendgroup": "5",
         "legendgrouptitle": {
          "text": "--5--"
         },
         "line": {
          "color": "red",
          "width": 2
         },
         "marker": {
          "color": "red",
          "size": 1.3
         },
         "type": "scatter3d",
         "x": [
          2.4104480743408203,
          200.89732456815565
         ],
         "y": [
          0.8086808919906616,
          -23.71566012823101
         ],
         "z": [
          45.954490661621094,
          47.18597645243448
         ]
        },
        {
         "legendgroup": "5",
         "legendgrouptitle": {
          "text": "--5--"
         },
         "line": {
          "color": "green",
          "width": 2
         },
         "marker": {
          "color": "green",
          "size": 1.3
         },
         "type": "scatter3d",
         "x": [
          2.4104480743408203,
          26.947499769962874
         ],
         "y": [
          0.8086808919906616,
          199.28493867061215
         ],
         "z": [
          45.954490661621094,
          43.69435962989537
         ]
        },
        {
         "legendgroup": "5",
         "legendgrouptitle": {
          "text": "--5--"
         },
         "line": {
          "color": "blue",
          "width": 2
         },
         "marker": {
          "color": "blue",
          "size": 1.3
         },
         "type": "scatter3d",
         "x": [
          2.4104480743408203,
          4.772853913037816
         ],
         "y": [
          0.8086808919906616,
          -5.176611351329269
         ],
         "z": [
          45.954490661621094,
          -454.0041029393044
         ]
        },
        {
         "legendgroup": "6",
         "legendgrouptitle": {
          "text": "--6--"
         },
         "line": {
          "color": "red",
          "width": 2
         },
         "marker": {
          "color": "red",
          "size": 1.4
         },
         "type": "scatter3d",
         "x": [
          3.225452423095703,
          199.03185710967048
         ],
         "y": [
          -0.06685328483581543,
          -40.748565990139014
         ],
         "z": [
          74.68510437011719,
          76.88740659290217
         ]
        },
        {
         "legendgroup": "6",
         "legendgrouptitle": {
          "text": "--6--"
         },
         "line": {
          "color": "green",
          "width": 2
         },
         "marker": {
          "color": "green",
          "size": 1.4
         },
         "type": "scatter3d",
         "x": [
          3.225452423095703,
          43.94182603293089
         ],
         "y": [
          -0.06685328483581543,
          195.71170966658417
         ],
         "z": [
          74.68510437011719,
          71.0891053794047
         ]
        },
        {
         "legendgroup": "6",
         "legendgrouptitle": {
          "text": "--6--"
         },
         "line": {
          "color": "blue",
          "width": 2
         },
         "marker": {
          "color": "blue",
          "size": 1.4
         },
         "type": "scatter3d",
         "x": [
          3.225452423095703,
          6.786354504756155
         ],
         "y": [
          -0.06685328483581543,
          -9.989220706493919
         ],
         "z": [
          74.68510437011719,
          -425.20374987761903
         ]
        },
        {
         "legendgroup": "7",
         "legendgrouptitle": {
          "text": "--7--"
         },
         "line": {
          "color": "red",
          "width": 2
         },
         "marker": {
          "color": "red",
          "size": 1.5
         },
         "type": "scatter3d",
         "x": [
          4.398681640625,
          195.00976489323543
         ],
         "y": [
          -3.1122958660125732,
          -63.564141057557855
         ],
         "z": [
          109.7218017578125,
          113.32587642461091
         ]
        },
        {
         "legendgroup": "7",
         "legendgrouptitle": {
          "text": "--7--"
         },
         "line": {
          "color": "green",
          "width": 2
         },
         "marker": {
          "color": "green",
          "size": 1.5
         },
         "type": "scatter3d",
         "x": [
          4.398681640625,
          64.92827236196645
         ],
         "y": [
          -3.1122958660125732,
          187.440015709544
         ],
         "z": [
          109.7218017578125,
          104.62423367892427
         ]
        },
        {
         "legendgroup": "7",
         "legendgrouptitle": {
          "text": "--7--"
         },
         "line": {
          "color": "blue",
          "width": 2
         },
         "marker": {
          "color": "blue",
          "size": 1.5
         },
         "type": "scatter3d",
         "x": [
          4.398681640625,
          9.13127367176284
         ],
         "y": [
          -3.1122958660125732,
          -17.984872590778526
         ],
         "z": [
          109.7218017578125,
          -390.0345479109364
         ]
        },
        {
         "legendgroup": "8",
         "legendgrouptitle": {
          "text": "--8--"
         },
         "line": {
          "color": "red",
          "width": 2
         },
         "marker": {
          "color": "red",
          "size": 1.6
         },
         "type": "scatter3d",
         "x": [
          5.547919750213623,
          187.29824132171882
         ],
         "y": [
          -9.322001457214355,
          -92.60567747929727
         ],
         "z": [
          150.92349243164062,
          156.45972914110257
         ]
        },
        {
         "legendgroup": "8",
         "legendgrouptitle": {
          "text": "--8--"
         },
         "line": {
          "color": "green",
          "width": 2
         },
         "marker": {
          "color": "green",
          "size": 1.6
         },
         "type": "scatter3d",
         "x": [
          5.547919750213623,
          88.98502769884885
         ],
         "y": [
          -9.322001457214355,
          172.31993505478425
         ],
         "z": [
          150.92349243164062,
          144.25596535341552
         ]
        },
        {
         "legendgroup": "8",
         "legendgrouptitle": {
          "text": "--8--"
         },
         "line": {
          "color": "blue",
          "width": 2
         },
         "marker": {
          "color": "blue",
          "size": 1.6
         },
         "type": "scatter3d",
         "x": [
          5.547919750213623,
          11.176877148265092
         ],
         "y": [
          -9.322001457214355,
          -30.243911088598132
         ],
         "z": [
          150.92349243164062,
          -348.6068755501139
         ]
        },
        {
         "legendgroup": "9",
         "legendgrouptitle": {
          "text": "--9--"
         },
         "line": {
          "color": "red",
          "width": 2
         },
         "marker": {
          "color": "red",
          "size": 1.7000000000000002
         },
         "type": "scatter3d",
         "x": [
          5.733951568603516,
          173.69752605185565
         ],
         "y": [
          -18.27916717529297,
          -126.5517800421953
         ],
         "z": [
          198.61083984375,
          206.69037880231156
         ]
        },
        {
         "legendgroup": "9",
         "legendgrouptitle": {
          "text": "--9--"
         },
         "line": {
          "color": "green",
          "width": 2
         },
         "marker": {
          "color": "green",
          "size": 1.7000000000000002
         },
         "type": "scatter3d",
         "x": [
          5.733951568603516,
          114.28195552023844
         ],
         "y": [
          -18.27916717529297,
          149.5026072092059
         ],
         "z": [
          198.61083984375,
          190.44952729582204
         ]
        },
        {
         "legendgroup": "9",
         "legendgrouptitle": {
          "text": "--9--"
         },
         "line": {
          "color": "blue",
          "width": 2
         },
         "marker": {
          "color": "blue",
          "size": 1.7000000000000002
         },
         "type": "scatter3d",
         "x": [
          5.733951568603516,
          11.63336092721038
         ],
         "y": [
          -18.27916717529297,
          -46.376930360622026
         ],
         "z": [
          198.61083984375,
          -300.56419225741666
         ]
        },
        {
         "legendgroup": "10",
         "legendgrouptitle": {
          "text": "--10--"
         },
         "line": {
          "color": "red",
          "width": 2
         },
         "marker": {
          "color": "red",
          "size": 1.8
         },
         "type": "scatter3d",
         "x": [
          3.751283884048462,
          151.77738615569007
         ],
         "y": [
          -28.908811569213867,
          -162.92825755163122
         ],
         "z": [
          253.3502197265625,
          264.6223599329042
         ]
        },
        {
         "legendgroup": "10",
         "legendgrouptitle": {
          "text": "--10--"
         },
         "line": {
          "color": "green",
          "width": 2
         },
         "marker": {
          "color": "green",
          "size": 1.8
         },
         "type": "scatter3d",
         "x": [
          3.751283884048462,
          138.22822971089096
         ],
         "y": [
          -28.908811569213867,
          118.83540200789886
         ],
         "z": [
          253.3502197265625,
          243.99081827321254
         ]
        },
        {
         "legendgroup": "10",
         "legendgrouptitle": {
          "text": "--10--"
         },
         "line": {
          "color": "blue",
          "width": 2
         },
         "marker": {
          "color": "blue",
          "size": 1.8
         },
         "type": "scatter3d",
         "x": [
          3.751283884048462,
          8.88943004169739
         ],
         "y": [
          -28.908811569213867,
          -65.17479537691034
         ],
         "z": [
          253.3502197265625,
          -245.30635335006167
         ]
        },
        {
         "legendgroup": "11",
         "legendgrouptitle": {
          "text": "--11--"
         },
         "line": {
          "color": "red",
          "width": 2
         },
         "marker": {
          "color": "red",
          "size": 1.9
         },
         "type": "scatter3d",
         "x": [
          -1.6688992977142334,
          119.26906758621585
         ],
         "y": [
          -40.47377395629883,
          -199.05010962539708
         ],
         "z": [
          315.4309997558594,
          330.5158905987826
         ]
        },
        {
         "legendgroup": "11",
         "legendgrouptitle": {
          "text": "--11--"
         },
         "line": {
          "color": "green",
          "width": 2
         },
         "marker": {
          "color": "green",
          "size": 1.9
         },
         "type": "scatter3d",
         "x": [
          -1.6688992977142334,
          157.61916508264875
         ],
         "y": [
          -40.47377395629883,
          80.0541958410033
         ],
         "z": [
          315.4309997558594,
          305.41496049385705
         ]
        },
        {
         "legendgroup": "11",
         "legendgrouptitle": {
          "text": "--11--"
         },
         "line": {
          "color": "blue",
          "width": 2
         },
         "marker": {
          "color": "blue",
          "size": 1.9
         },
         "type": "scatter3d",
         "x": [
          -1.6688992977142334,
          1.2041565001020906
         ],
         "y": [
          -40.47377395629883,
          -85.65080506047991
         ],
         "z": [
          315.4309997558594,
          -182.51556505907587
         ]
        },
        {
         "legendgroup": "12",
         "legendgrouptitle": {
          "text": "--12--"
         },
         "line": {
          "color": "red",
          "width": 2
         },
         "marker": {
          "color": "red",
          "size": 2
         },
         "type": "scatter3d",
         "x": [
          -11.67333984375,
          74.46892108775535
         ],
         "y": [
          -51.94160079956055,
          -231.3919876964189
         ],
         "z": [
          384.704833984375,
          404.1231120794146
         ]
        },
        {
         "legendgroup": "12",
         "legendgrouptitle": {
          "text": "--12--"
         },
         "line": {
          "color": "green",
          "width": 2
         },
         "marker": {
          "color": "green",
          "size": 2
         },
         "type": "scatter3d",
         "x": [
          -11.67333984375,
          168.82376707206478
         ],
         "y": [
          -51.94160079956055,
          33.63444720095231
         ],
         "z": [
          384.704833984375,
          374.8288832131907
         ]
        },
        {
         "legendgroup": "12",
         "legendgrouptitle": {
          "text": "--12--"
         },
         "line": {
          "color": "blue",
          "width": 2
         },
         "marker": {
          "color": "blue",
          "size": 2
         },
         "type": "scatter3d",
         "x": [
          -11.67333984375,
          -13.05463595018657
         ],
         "y": [
          -51.94160079956055,
          -106.3875976210537
         ],
         "z": [
          384.704833984375,
          -112.32004009254712
         ]
        },
        {
         "legendgroup": "13",
         "legendgrouptitle": {
          "text": "--13--"
         },
         "line": {
          "color": "red",
          "width": 2
         },
         "marker": {
          "color": "red",
          "size": 2.1
         },
         "type": "scatter3d",
         "x": [
          -27.24457359313965,
          16.59226734695369
         ],
         "y": [
          -61.63491439819336,
          -255.28081825299247
         ],
         "z": [
          460.7877197265625,
          484.8625052219903
         ]
        },
        {
         "legendgroup": "13",
         "legendgrouptitle": {
          "text": "--13--"
         },
         "line": {
          "color": "green",
          "width": 2
         },
         "marker": {
          "color": "green",
          "size": 2.1
         },
         "type": "scatter3d",
         "x": [
          -27.24457359313965,
          167.8657818683047
         ],
         "y": [
          -61.63491439819336,
          -18.5442854449636
         ],
         "z": [
          460.7877197265625,
          452.1189892471949
         ]
        },
        {
         "legendgroup": "13",
         "legendgrouptitle": {
          "text": "--13--"
         },
         "line": {
          "color": "blue",
          "width": 2
         },
         "marker": {
          "color": "blue",
          "size": 2.1
         },
         "type": "scatter3d",
         "x": [
          -27.24457359313965,
          -35.260404843623476
         ],
         "y": [
          -61.63491439819336,
          -125.10053583378739
         ],
         "z": [
          460.7877197265625,
          -35.10325755086046
         ]
        },
        {
         "legendgroup": "14",
         "legendgrouptitle": {
          "text": "--14--"
         },
         "line": {
          "color": "red",
          "width": 2
         },
         "marker": {
          "color": "red",
          "size": 2.2
         },
         "type": "scatter3d",
         "x": [
          -49.126155853271484,
          -53.80861063868723
         ],
         "y": [
          -66.98147583007812,
          -264.8508971194773
         ],
         "z": [
          543.3880004882812,
          572.1241577780235
         ]
        },
        {
         "legendgroup": "14",
         "legendgrouptitle": {
          "text": "--14--"
         },
         "line": {
          "color": "green",
          "width": 2
         },
         "marker": {
          "color": "green",
          "size": 2.2
         },
         "type": "scatter3d",
         "x": [
          -49.126155853271484,
          150.70008818178667
         ],
         "y": [
          -66.98147583007812,
          -72.60384536906703
         ],
         "z": [
          543.3880004882812,
          537.2348585584665
         ]
        },
        {
         "legendgroup": "14",
         "legendgrouptitle": {
          "text": "--14--"
         },
         "line": {
          "color": "blue",
          "width": 2
         },
         "marker": {
          "color": "blue",
          "size": 2.2
         },
         "type": "scatter3d",
         "x": [
          -49.126155853271484,
          -66.36470495548927
         ],
         "y": [
          -66.98147583007812,
          -138.39930795926847
         ],
         "z": [
          543.3880004882812,
          48.815128528225955
         ]
        },
        {
         "legendgroup": "15",
         "legendgrouptitle": {
          "text": "--15--"
         },
         "line": {
          "color": "red",
          "width": 2
         },
         "marker": {
          "color": "red",
          "size": 2.3
         },
         "type": "scatter3d",
         "x": [
          -77.49267578125,
          -134.23921740324948
         ],
         "y": [
          -64.52400207519531,
          -253.4515167940621
         ],
         "z": [
          632.2681884765625,
          665.2261040067513
         ]
        },
        {
         "legendgroup": "15",
         "legendgrouptitle": {
          "text": "--15--"
         },
         "line": {
          "color": "green",
          "width": 2
         },
         "marker": {
          "color": "green",
          "size": 2.3
         },
         "type": "scatter3d",
         "x": [
          -77.49267578125,
          113.93684603695576
         ],
         "y": [
          -64.52400207519531,
          -122.40293610496624
         ],
         "z": [
          632.2681884765625,
          630.0848030249043
         ]
        },
        {
         "legendgroup": "15",
         "legendgrouptitle": {
          "text": "--15--"
         },
         "line": {
          "color": "blue",
          "width": 2
         },
         "marker": {
          "color": "blue",
          "size": 2.3
         },
         "type": "scatter3d",
         "x": [
          -77.49267578125,
          -106.49355835357093
         ],
         "y": [
          -64.52400207519531,
          -141.83923253343858
         ],
         "z": [
          632.2681884765625,
          139.13402422791182
         ]
        },
        {
         "legendgroup": "16",
         "legendgrouptitle": {
          "text": "--16--"
         },
         "line": {
          "color": "red",
          "width": 2
         },
         "marker": {
          "color": "red",
          "size": 2.4000000000000004
         },
         "type": "scatter3d",
         "x": [
          -110.7415542602539,
          -218.86514805045124
         ],
         "y": [
          -50.477752685546875,
          -214.79357834475925
         ],
         "z": [
          726.9265747070312,
          763.1149416752121
         ]
        },
        {
         "legendgroup": "16",
         "legendgrouptitle": {
          "text": "--16--"
         },
         "line": {
          "color": "green",
          "width": 2
         },
         "marker": {
          "color": "green",
          "size": 2.4000000000000004
         },
         "type": "scatter3d",
         "x": [
          -110.7415542602539,
          56.63506571472837
         ],
         "y": [
          -50.477752685546875,
          -159.90679022158338
         ],
         "z": [
          726.9265747070312,
          730.1441560482069
         ]
        },
        {
         "legendgroup": "16",
         "legendgrouptitle": {
          "text": "--16--"
         },
         "line": {
          "color": "blue",
          "width": 2
         },
         "marker": {
          "color": "blue",
          "size": 2.4000000000000004
         },
         "type": "scatter3d",
         "x": [
          -110.7415542602539,
          -153.6335371681035
         ],
         "y": [
          -50.477752685546875,
          -130.54004022890456
         ],
         "z": [
          726.9265747070312,
          235.24547082408003
         ]
        },
        {
         "legendgroup": "17",
         "legendgrouptitle": {
          "text": "--17--"
         },
         "line": {
          "color": "red",
          "width": 2
         },
         "marker": {
          "color": "red",
          "size": 2.5
         },
         "type": "scatter3d",
         "x": [
          -145.4014129638672,
          -298.5049186238738
         ],
         "y": [
          -21.456392288208008,
          -144.44976430780355
         ],
         "z": [
          826.8789672851562,
          864.7200427702122
         ]
        },
        {
         "legendgroup": "17",
         "legendgrouptitle": {
          "text": "--17--"
         },
         "line": {
          "color": "green",
          "width": 2
         },
         "marker": {
          "color": "green",
          "size": 2.5
         },
         "type": "scatter3d",
         "x": [
          -145.4014129638672,
          -18.82946609839746
         ],
         "y": [
          -21.456392288208008,
          -175.9992399281175
         ],
         "z": [
          826.8789672851562,
          836.6795034966314
         ]
        },
        {
         "legendgroup": "17",
         "legendgrouptitle": {
          "text": "--17--"
         },
         "line": {
          "color": "blue",
          "width": 2
         },
         "marker": {
          "color": "blue",
          "size": 2.5
         },
         "type": "scatter3d",
         "x": [
          -145.4014129638672,
          -203.4347450509652
         ],
         "y": [
          -21.456392288208008,
          -100.08283037510061
         ],
         "z": [
          826.8789672851562,
          336.5219385799111
         ]
        },
        {
         "legendgroup": "18",
         "legendgrouptitle": {
          "text": "--18--"
         },
         "line": {
          "color": "red",
          "width": 2
         },
         "marker": {
          "color": "red",
          "size": 2.6
         },
         "type": "scatter3d",
         "x": [
          -175.43043518066406,
          -360.41528414204834
         ],
         "y": [
          24.336061477661133,
          -41.87231678751078
         ],
         "z": [
          931.7271118164062,
          969.1043281684804
         ]
        },
        {
         "legendgroup": "18",
         "legendgrouptitle": {
          "text": "--18--"
         },
         "line": {
          "color": "green",
          "width": 2
         },
         "marker": {
          "color": "green",
          "size": 2.6
         },
         "type": "scatter3d",
         "x": [
          -175.43043518066406,
          -105.22987774193349
         ],
         "y": [
          24.336061477661133,
          -162.15789584488027
         ],
         "z": [
          931.7271118164062,
          948.8117721135737
         ]
        },
        {
         "legendgroup": "18",
         "legendgrouptitle": {
          "text": "--18--"
         },
         "line": {
          "color": "blue",
          "width": 2
         },
         "marker": {
          "color": "blue",
          "size": 2.6
         },
         "type": "scatter3d",
         "x": [
          -175.43043518066406,
          -248.42390192706756
         ],
         "y": [
          24.336061477661133,
          -47.96774762298534
         ],
         "z": [
          931.7271118164062,
          442.3968419557742
         ]
        },
        {
         "legendgroup": "19",
         "legendgrouptitle": {
          "text": "--19--"
         },
         "line": {
          "color": "red",
          "width": 2
         },
         "marker": {
          "color": "red",
          "size": 2.7
         },
         "type": "scatter3d",
         "x": [
          -193.7733917236328,
          -390.7835670735467
         ],
         "y": [
          86.6325912475586,
          88.43767899252347
         ],
         "z": [
          1040.953369140625,
          1075.3587824767433
         ]
        },
        {
         "legendgroup": "19",
         "legendgrouptitle": {
          "text": "--19--"
         },
         "line": {
          "color": "green",
          "width": 2
         },
         "marker": {
          "color": "green",
          "size": 2.7
         },
         "type": "scatter3d",
         "x": [
          -193.7733917236328,
          -191.34732160268229
         ],
         "y": [
          86.6325912475586,
          -111.87007415468565
         ],
         "z": [
          1040.953369140625,
          1065.259870574869
         ]
        },
        {
         "legendgroup": "19",
         "legendgrouptitle": {
          "text": "--19--"
         },
         "line": {
          "color": "blue",
          "width": 2
         },
         "marker": {
          "color": "blue",
          "size": 2.7
         },
         "type": "scatter3d",
         "x": [
          -193.7733917236328,
          -279.69141196547434
         ],
         "y": [
          86.6325912475586,
          25.73136556009569
         ],
         "z": [
          1040.953369140625,
          552.1700485296541
         ]
        },
        {
         "legendgroup": "20",
         "legendgrouptitle": {
          "text": "--20--"
         },
         "line": {
          "color": "red",
          "width": 2
         },
         "marker": {
          "color": "red",
          "size": 2.8
         },
         "type": "scatter3d",
         "x": [
          -192.47628784179688,
          -376.22376295667027
         ],
         "y": [
          162.59263610839844,
          236.10658097941632
         ],
         "z": [
          1153.9268798828125,
          1182.7810875206928
         ]
        },
        {
         "legendgroup": "20",
         "legendgrouptitle": {
          "text": "--20--"
         },
         "line": {
          "color": "green",
          "width": 2
         },
         "marker": {
          "color": "green",
          "size": 2.8
         },
         "type": "scatter3d",
         "x": [
          -192.47628784179688,
          -261.7638026968326
         ],
         "y": [
          162.59263610839844,
          -22.53683581427964
         ],
         "z": [
          1153.9268798828125,
          1184.362367571423
         ]
        },
        {
         "legendgroup": "20",
         "legendgrouptitle": {
          "text": "--20--"
         },
         "line": {
          "color": "blue",
          "width": 2
         },
         "marker": {
          "color": "blue",
          "size": 2.8
         },
         "type": "scatter3d",
         "x": [
          -192.47628784179688,
          -287.2162501769361
         ],
         "y": [
          162.59263610839844,
          117.67754015424754
         ],
         "z": [
          1153.9268798828125,
          665.0434851022516
         ]
        },
        {
         "legendgroup": "21",
         "legendgrouptitle": {
          "text": "--21--"
         },
         "line": {
          "color": "red",
          "width": 2
         },
         "marker": {
          "color": "red",
          "size": 2.9000000000000004
         },
         "type": "scatter3d",
         "x": [
          -164.19961547851562,
          -306.99010651531523
         ],
         "y": [
          244.6199951171875,
          383.05730051805347
         ],
         "z": [
          1270.471435546875,
          1291.5898669000085
         ]
        },
        {
         "legendgroup": "21",
         "legendgrouptitle": {
          "text": "--21--"
         },
         "line": {
          "color": "green",
          "width": 2
         },
         "marker": {
          "color": "green",
          "size": 2.9000000000000004
         },
         "type": "scatter3d",
         "x": [
          -164.19961547851562,
          -298.70662131252436
         ],
         "y": [
          244.6199951171875,
          100.64515035274587
         ],
         "z": [
          1270.471435546875,
          1304.8095988149485
         ]
        },
        {
         "legendgroup": "21",
         "legendgrouptitle": {
          "text": "--21--"
         },
         "line": {
          "color": "blue",
          "width": 2
         },
         "marker": {
          "color": "blue",
          "size": 2.9000000000000004
         },
         "type": "scatter3d",
         "x": [
          -164.19961547851562,
          -261.62718636580325
         ],
         "y": [
          244.6199951171875,
          218.83766730307528
         ],
         "z": [
          1270.471435546875,
          780.7336077211205
         ]
        },
        {
         "legendgroup": "22",
         "legendgrouptitle": {
          "text": "--22--"
         },
         "line": {
          "color": "red",
          "width": 2
         },
         "marker": {
          "color": "red",
          "size": 3
         },
         "type": "scatter3d",
         "x": [
          -103.75983428955078,
          -180.2387777238984
         ],
         "y": [
          320.84844970703125,
          505.24926639623345
         ],
         "z": [
          1391.1846923828125,
          1403.3218261268685
         ]
        },
        {
         "legendgroup": "22",
         "legendgrouptitle": {
          "text": "--22--"
         },
         "line": {
          "color": "green",
          "width": 2
         },
         "marker": {
          "color": "green",
          "size": 3
         },
         "type": "scatter3d",
         "x": [
          -103.75983428955078,
          -284.82262850429834
         ],
         "y": [
          320.84844970703125,
          243.44960889246136
         ],
         "z": [
          1391.1846923828125,
          1426.1944623293411
         ]
        },
        {
         "legendgroup": "22",
         "legendgrouptitle": {
          "text": "--22--"
         },
         "line": {
          "color": "blue",
          "width": 2
         },
         "marker": {
          "color": "blue",
          "size": 3
         },
         "type": "scatter3d",
         "x": [
          -103.75983428955078,
          -196.2002124500795
         ],
         "y": [
          320.84844970703125,
          314.8493638828662
         ],
         "z": [
          1391.1846923828125,
          899.8408337106879
         ]
        }
       ],
       "layout": {
        "scene": {
         "aspectmode": "data",
         "aspectratio": {
          "x": 1,
          "y": 1,
          "z": 1
         }
        },
        "template": {
         "data": {
          "bar": [
           {
            "error_x": {
             "color": "#2a3f5f"
            },
            "error_y": {
             "color": "#2a3f5f"
            },
            "marker": {
             "line": {
              "color": "#E5ECF6",
              "width": 0.5
             },
             "pattern": {
              "fillmode": "overlay",
              "size": 10,
              "solidity": 0.2
             }
            },
            "type": "bar"
           }
          ],
          "barpolar": [
           {
            "marker": {
             "line": {
              "color": "#E5ECF6",
              "width": 0.5
             },
             "pattern": {
              "fillmode": "overlay",
              "size": 10,
              "solidity": 0.2
             }
            },
            "type": "barpolar"
           }
          ],
          "carpet": [
           {
            "aaxis": {
             "endlinecolor": "#2a3f5f",
             "gridcolor": "white",
             "linecolor": "white",
             "minorgridcolor": "white",
             "startlinecolor": "#2a3f5f"
            },
            "baxis": {
             "endlinecolor": "#2a3f5f",
             "gridcolor": "white",
             "linecolor": "white",
             "minorgridcolor": "white",
             "startlinecolor": "#2a3f5f"
            },
            "type": "carpet"
           }
          ],
          "choropleth": [
           {
            "colorbar": {
             "outlinewidth": 0,
             "ticks": ""
            },
            "type": "choropleth"
           }
          ],
          "contour": [
           {
            "colorbar": {
             "outlinewidth": 0,
             "ticks": ""
            },
            "colorscale": [
             [
              0,
              "#0d0887"
             ],
             [
              0.1111111111111111,
              "#46039f"
             ],
             [
              0.2222222222222222,
              "#7201a8"
             ],
             [
              0.3333333333333333,
              "#9c179e"
             ],
             [
              0.4444444444444444,
              "#bd3786"
             ],
             [
              0.5555555555555556,
              "#d8576b"
             ],
             [
              0.6666666666666666,
              "#ed7953"
             ],
             [
              0.7777777777777778,
              "#fb9f3a"
             ],
             [
              0.8888888888888888,
              "#fdca26"
             ],
             [
              1,
              "#f0f921"
             ]
            ],
            "type": "contour"
           }
          ],
          "contourcarpet": [
           {
            "colorbar": {
             "outlinewidth": 0,
             "ticks": ""
            },
            "type": "contourcarpet"
           }
          ],
          "heatmap": [
           {
            "colorbar": {
             "outlinewidth": 0,
             "ticks": ""
            },
            "colorscale": [
             [
              0,
              "#0d0887"
             ],
             [
              0.1111111111111111,
              "#46039f"
             ],
             [
              0.2222222222222222,
              "#7201a8"
             ],
             [
              0.3333333333333333,
              "#9c179e"
             ],
             [
              0.4444444444444444,
              "#bd3786"
             ],
             [
              0.5555555555555556,
              "#d8576b"
             ],
             [
              0.6666666666666666,
              "#ed7953"
             ],
             [
              0.7777777777777778,
              "#fb9f3a"
             ],
             [
              0.8888888888888888,
              "#fdca26"
             ],
             [
              1,
              "#f0f921"
             ]
            ],
            "type": "heatmap"
           }
          ],
          "heatmapgl": [
           {
            "colorbar": {
             "outlinewidth": 0,
             "ticks": ""
            },
            "colorscale": [
             [
              0,
              "#0d0887"
             ],
             [
              0.1111111111111111,
              "#46039f"
             ],
             [
              0.2222222222222222,
              "#7201a8"
             ],
             [
              0.3333333333333333,
              "#9c179e"
             ],
             [
              0.4444444444444444,
              "#bd3786"
             ],
             [
              0.5555555555555556,
              "#d8576b"
             ],
             [
              0.6666666666666666,
              "#ed7953"
             ],
             [
              0.7777777777777778,
              "#fb9f3a"
             ],
             [
              0.8888888888888888,
              "#fdca26"
             ],
             [
              1,
              "#f0f921"
             ]
            ],
            "type": "heatmapgl"
           }
          ],
          "histogram": [
           {
            "marker": {
             "pattern": {
              "fillmode": "overlay",
              "size": 10,
              "solidity": 0.2
             }
            },
            "type": "histogram"
           }
          ],
          "histogram2d": [
           {
            "colorbar": {
             "outlinewidth": 0,
             "ticks": ""
            },
            "colorscale": [
             [
              0,
              "#0d0887"
             ],
             [
              0.1111111111111111,
              "#46039f"
             ],
             [
              0.2222222222222222,
              "#7201a8"
             ],
             [
              0.3333333333333333,
              "#9c179e"
             ],
             [
              0.4444444444444444,
              "#bd3786"
             ],
             [
              0.5555555555555556,
              "#d8576b"
             ],
             [
              0.6666666666666666,
              "#ed7953"
             ],
             [
              0.7777777777777778,
              "#fb9f3a"
             ],
             [
              0.8888888888888888,
              "#fdca26"
             ],
             [
              1,
              "#f0f921"
             ]
            ],
            "type": "histogram2d"
           }
          ],
          "histogram2dcontour": [
           {
            "colorbar": {
             "outlinewidth": 0,
             "ticks": ""
            },
            "colorscale": [
             [
              0,
              "#0d0887"
             ],
             [
              0.1111111111111111,
              "#46039f"
             ],
             [
              0.2222222222222222,
              "#7201a8"
             ],
             [
              0.3333333333333333,
              "#9c179e"
             ],
             [
              0.4444444444444444,
              "#bd3786"
             ],
             [
              0.5555555555555556,
              "#d8576b"
             ],
             [
              0.6666666666666666,
              "#ed7953"
             ],
             [
              0.7777777777777778,
              "#fb9f3a"
             ],
             [
              0.8888888888888888,
              "#fdca26"
             ],
             [
              1,
              "#f0f921"
             ]
            ],
            "type": "histogram2dcontour"
           }
          ],
          "mesh3d": [
           {
            "colorbar": {
             "outlinewidth": 0,
             "ticks": ""
            },
            "type": "mesh3d"
           }
          ],
          "parcoords": [
           {
            "line": {
             "colorbar": {
              "outlinewidth": 0,
              "ticks": ""
             }
            },
            "type": "parcoords"
           }
          ],
          "pie": [
           {
            "automargin": true,
            "type": "pie"
           }
          ],
          "scatter": [
           {
            "marker": {
             "colorbar": {
              "outlinewidth": 0,
              "ticks": ""
             }
            },
            "type": "scatter"
           }
          ],
          "scatter3d": [
           {
            "line": {
             "colorbar": {
              "outlinewidth": 0,
              "ticks": ""
             }
            },
            "marker": {
             "colorbar": {
              "outlinewidth": 0,
              "ticks": ""
             }
            },
            "type": "scatter3d"
           }
          ],
          "scattercarpet": [
           {
            "marker": {
             "colorbar": {
              "outlinewidth": 0,
              "ticks": ""
             }
            },
            "type": "scattercarpet"
           }
          ],
          "scattergeo": [
           {
            "marker": {
             "colorbar": {
              "outlinewidth": 0,
              "ticks": ""
             }
            },
            "type": "scattergeo"
           }
          ],
          "scattergl": [
           {
            "marker": {
             "colorbar": {
              "outlinewidth": 0,
              "ticks": ""
             }
            },
            "type": "scattergl"
           }
          ],
          "scattermapbox": [
           {
            "marker": {
             "colorbar": {
              "outlinewidth": 0,
              "ticks": ""
             }
            },
            "type": "scattermapbox"
           }
          ],
          "scatterpolar": [
           {
            "marker": {
             "colorbar": {
              "outlinewidth": 0,
              "ticks": ""
             }
            },
            "type": "scatterpolar"
           }
          ],
          "scatterpolargl": [
           {
            "marker": {
             "colorbar": {
              "outlinewidth": 0,
              "ticks": ""
             }
            },
            "type": "scatterpolargl"
           }
          ],
          "scatterternary": [
           {
            "marker": {
             "colorbar": {
              "outlinewidth": 0,
              "ticks": ""
             }
            },
            "type": "scatterternary"
           }
          ],
          "surface": [
           {
            "colorbar": {
             "outlinewidth": 0,
             "ticks": ""
            },
            "colorscale": [
             [
              0,
              "#0d0887"
             ],
             [
              0.1111111111111111,
              "#46039f"
             ],
             [
              0.2222222222222222,
              "#7201a8"
             ],
             [
              0.3333333333333333,
              "#9c179e"
             ],
             [
              0.4444444444444444,
              "#bd3786"
             ],
             [
              0.5555555555555556,
              "#d8576b"
             ],
             [
              0.6666666666666666,
              "#ed7953"
             ],
             [
              0.7777777777777778,
              "#fb9f3a"
             ],
             [
              0.8888888888888888,
              "#fdca26"
             ],
             [
              1,
              "#f0f921"
             ]
            ],
            "type": "surface"
           }
          ],
          "table": [
           {
            "cells": {
             "fill": {
              "color": "#EBF0F8"
             },
             "line": {
              "color": "white"
             }
            },
            "header": {
             "fill": {
              "color": "#C8D4E3"
             },
             "line": {
              "color": "white"
             }
            },
            "type": "table"
           }
          ]
         },
         "layout": {
          "annotationdefaults": {
           "arrowcolor": "#2a3f5f",
           "arrowhead": 0,
           "arrowwidth": 1
          },
          "autotypenumbers": "strict",
          "coloraxis": {
           "colorbar": {
            "outlinewidth": 0,
            "ticks": ""
           }
          },
          "colorscale": {
           "diverging": [
            [
             0,
             "#8e0152"
            ],
            [
             0.1,
             "#c51b7d"
            ],
            [
             0.2,
             "#de77ae"
            ],
            [
             0.3,
             "#f1b6da"
            ],
            [
             0.4,
             "#fde0ef"
            ],
            [
             0.5,
             "#f7f7f7"
            ],
            [
             0.6,
             "#e6f5d0"
            ],
            [
             0.7,
             "#b8e186"
            ],
            [
             0.8,
             "#7fbc41"
            ],
            [
             0.9,
             "#4d9221"
            ],
            [
             1,
             "#276419"
            ]
           ],
           "sequential": [
            [
             0,
             "#0d0887"
            ],
            [
             0.1111111111111111,
             "#46039f"
            ],
            [
             0.2222222222222222,
             "#7201a8"
            ],
            [
             0.3333333333333333,
             "#9c179e"
            ],
            [
             0.4444444444444444,
             "#bd3786"
            ],
            [
             0.5555555555555556,
             "#d8576b"
            ],
            [
             0.6666666666666666,
             "#ed7953"
            ],
            [
             0.7777777777777778,
             "#fb9f3a"
            ],
            [
             0.8888888888888888,
             "#fdca26"
            ],
            [
             1,
             "#f0f921"
            ]
           ],
           "sequentialminus": [
            [
             0,
             "#0d0887"
            ],
            [
             0.1111111111111111,
             "#46039f"
            ],
            [
             0.2222222222222222,
             "#7201a8"
            ],
            [
             0.3333333333333333,
             "#9c179e"
            ],
            [
             0.4444444444444444,
             "#bd3786"
            ],
            [
             0.5555555555555556,
             "#d8576b"
            ],
            [
             0.6666666666666666,
             "#ed7953"
            ],
            [
             0.7777777777777778,
             "#fb9f3a"
            ],
            [
             0.8888888888888888,
             "#fdca26"
            ],
            [
             1,
             "#f0f921"
            ]
           ]
          },
          "colorway": [
           "#636efa",
           "#EF553B",
           "#00cc96",
           "#ab63fa",
           "#FFA15A",
           "#19d3f3",
           "#FF6692",
           "#B6E880",
           "#FF97FF",
           "#FECB52"
          ],
          "font": {
           "color": "#2a3f5f"
          },
          "geo": {
           "bgcolor": "white",
           "lakecolor": "white",
           "landcolor": "#E5ECF6",
           "showlakes": true,
           "showland": true,
           "subunitcolor": "white"
          },
          "hoverlabel": {
           "align": "left"
          },
          "hovermode": "closest",
          "mapbox": {
           "style": "light"
          },
          "paper_bgcolor": "white",
          "plot_bgcolor": "#E5ECF6",
          "polar": {
           "angularaxis": {
            "gridcolor": "white",
            "linecolor": "white",
            "ticks": ""
           },
           "bgcolor": "#E5ECF6",
           "radialaxis": {
            "gridcolor": "white",
            "linecolor": "white",
            "ticks": ""
           }
          },
          "scene": {
           "xaxis": {
            "backgroundcolor": "#E5ECF6",
            "gridcolor": "white",
            "gridwidth": 2,
            "linecolor": "white",
            "showbackground": true,
            "ticks": "",
            "zerolinecolor": "white"
           },
           "yaxis": {
            "backgroundcolor": "#E5ECF6",
            "gridcolor": "white",
            "gridwidth": 2,
            "linecolor": "white",
            "showbackground": true,
            "ticks": "",
            "zerolinecolor": "white"
           },
           "zaxis": {
            "backgroundcolor": "#E5ECF6",
            "gridcolor": "white",
            "gridwidth": 2,
            "linecolor": "white",
            "showbackground": true,
            "ticks": "",
            "zerolinecolor": "white"
           }
          },
          "shapedefaults": {
           "line": {
            "color": "#2a3f5f"
           }
          },
          "ternary": {
           "aaxis": {
            "gridcolor": "white",
            "linecolor": "white",
            "ticks": ""
           },
           "baxis": {
            "gridcolor": "white",
            "linecolor": "white",
            "ticks": ""
           },
           "bgcolor": "#E5ECF6",
           "caxis": {
            "gridcolor": "white",
            "linecolor": "white",
            "ticks": ""
           }
          },
          "title": {
           "x": 0.05
          },
          "xaxis": {
           "automargin": true,
           "gridcolor": "white",
           "linecolor": "white",
           "ticks": "",
           "title": {
            "standoff": 15
           },
           "zerolinecolor": "white",
           "zerolinewidth": 2
          },
          "yaxis": {
           "automargin": true,
           "gridcolor": "white",
           "linecolor": "white",
           "ticks": "",
           "title": {
            "standoff": 15
           },
           "zerolinecolor": "white",
           "zerolinewidth": 2
          }
         }
        },
        "title": {
         "text": "7-RA"
        }
       }
      },
      "text/html": [
       "<div>                            <div id=\"e958a7eb-d871-47f0-b21c-817c71d11fad\" class=\"plotly-graph-div\" style=\"height:525px; width:100%;\"></div>            <script type=\"text/javascript\">                require([\"plotly\"], function(Plotly) {                    window.PLOTLYENV=window.PLOTLYENV || {};                                    if (document.getElementById(\"e958a7eb-d871-47f0-b21c-817c71d11fad\")) {                    Plotly.newPlot(                        \"e958a7eb-d871-47f0-b21c-817c71d11fad\",                        [{\"legendgroup\":\"0\",\"legendgrouptitle\":{\"text\":\"origins\"},\"line\":{\"color\":\"black\",\"width\":2},\"marker\":{\"color\":\"black\",\"size\":1},\"type\":\"scatter3d\",\"x\":[0.0,0.9224077463150024,1.8302708864212036,2.4104480743408203,3.225452423095703,4.398681640625,5.547919750213623,5.733951568603516,3.751283884048462,-1.6688992977142334,-11.67333984375,-27.24457359313965,-49.126155853271484,-77.49267578125,-110.7415542602539,-145.4014129638672,-175.43043518066406,-193.7733917236328,-192.47628784179688,-164.19961547851562,-103.75983428955078],\"y\":[0.0,0.2103380411863327,0.6004800200462341,0.8086808919906616,-0.06685328483581543,-3.1122958660125732,-9.322001457214355,-18.27916717529297,-28.908811569213867,-40.47377395629883,-51.94160079956055,-61.63491439819336,-66.98147583007812,-64.52400207519531,-50.477752685546875,-21.456392288208008,24.336061477661133,86.6325912475586,162.59263610839844,244.6199951171875,320.84844970703125],\"z\":[0.0,8.111251831054688,23.660964965820312,45.954490661621094,74.68510437011719,109.7218017578125,150.92349243164062,198.61083984375,253.3502197265625,315.4309997558594,384.704833984375,460.7877197265625,543.3880004882812,632.2681884765625,726.9265747070312,826.8789672851562,931.7271118164062,1040.953369140625,1153.9268798828125,1270.471435546875,1391.1846923828125]},{\"legendgroup\":\"1\",\"legendgrouptitle\":{\"text\":\"finish\"},\"line\":{\"color\":\"black\",\"width\":2},\"marker\":{\"color\":\"black\",\"size\":1},\"type\":\"scatter3d\",\"x\":[0.0,-9.32912870279275,-28.903750553050152,-58.932181164714315,-98.56548160149227,-146.92529516272864,-203.04485012137448,-265.6360583104838,-332.44108068305775,-399.88906024862166,-462.9161071332869,-515.0204622467505,-548.6917659409169,-556.0664803267643,-529.1831041977096,-461.8312801275415,-350.9318287774905,-199.83856702600914,-19.257500704207615,172.06789910650627,348.8971512473181],\"y\":[-500.0,-499.6835490026576,-498.44542146809164,-495.381963554563,-489.5132606633858,-479.49307480490404,-463.42684273721085,-437.7336031365402,-398.2693455119957,-341.79369844955414,-265.8817208008427,-169.36148678126776,-52.92555198260587,80.17333299923203,223.09484115454438,364.90072681156573,490.5709547840146,582.8892547531692,625.4163159150937,604.5571070282915,514.345551743456],\"z\":[0.0,9.115092769264633,26.594927141779532,51.60481824093541,83.67510184689841,122.46572195503306,167.59231012720338,219.01412121356987,276.7487233599374,340.4710979108652,409.3947109123357,482.4595459249815,558.7708553128182,637.726652105708,718.882621354092,802.3776267564685,889.0154610734876,980.1871155550152,1077.8381606612863,1184.6260273766911,1303.6602675164909]},{\"legendgroup\":\"2\",\"legendgrouptitle\":{\"text\":\"--2--\"},\"line\":{\"color\":\"red\",\"width\":2},\"marker\":{\"color\":\"red\",\"size\":1.0},\"type\":\"scatter3d\",\"x\":[0.0,200.0],\"y\":[0.0,0.0],\"z\":[0.0,0.0]},{\"legendgroup\":\"2\",\"legendgrouptitle\":{\"text\":\"--2--\"},\"line\":{\"color\":\"green\",\"width\":2},\"marker\":{\"color\":\"green\",\"size\":1.0},\"type\":\"scatter3d\",\"x\":[0.0,0.0],\"y\":[0.0,200.0],\"z\":[0.0,0.0]},{\"legendgroup\":\"2\",\"legendgrouptitle\":{\"text\":\"--2--\"},\"line\":{\"color\":\"blue\",\"width\":2},\"marker\":{\"color\":\"blue\",\"size\":1.0},\"type\":\"scatter3d\",\"x\":[0.0,0.0],\"y\":[0.0,0.0],\"z\":[0.0,-500.0]},{\"legendgroup\":\"3\",\"legendgrouptitle\":{\"text\":\"--3--\"},\"line\":{\"color\":\"red\",\"width\":2},\"marker\":{\"color\":\"red\",\"size\":1.1},\"type\":\"scatter3d\",\"x\":[0.9224077463150024,200.88028273734085],\"y\":[0.2103380411863327,-3.8899006576651507],\"z\":[8.111251831054688,8.301703099671345]},{\"legendgroup\":\"3\",\"legendgrouptitle\":{\"text\":\"--3--\"},\"line\":{\"color\":\"green\",\"width\":2},\"marker\":{\"color\":\"green\",\"size\":1.1},\"type\":\"scatter3d\",\"x\":[0.9224077463150024,5.023022325958103],\"y\":[0.2103380411863327,200.16789285872392],\"z\":[8.111251831054688,7.709715455770709]},{\"legendgroup\":\"3\",\"legendgrouptitle\":{\"text\":\"--3--\"},\"line\":{\"color\":\"blue\",\"width\":2},\"marker\":{\"color\":\"blue\",\"size\":1.1},\"type\":\"scatter3d\",\"x\":[0.9224077463150024,1.3778549338093617],\"y\":[0.2103380411863327,-0.803053553590972],\"z\":[8.111251831054688,-491.8875137727567]},{\"legendgroup\":\"4\",\"legendgrouptitle\":{\"text\":\"--4--\"},\"line\":{\"color\":\"red\",\"width\":2},\"marker\":{\"color\":\"red\",\"size\":1.2},\"type\":\"scatter3d\",\"x\":[1.8302708864212036,201.45142066098305],\"y\":[0.6004800200462341,-11.68985041681827],\"z\":[23.660964965820312,24.247770244112118]},{\"legendgroup\":\"4\",\"legendgrouptitle\":{\"text\":\"--4--\"},\"line\":{\"color\":\"green\",\"width\":2},\"marker\":{\"color\":\"green\",\"size\":1.2},\"type\":\"scatter3d\",\"x\":[1.8302708864212036,14.123879462209747],\"y\":[0.6004800200462341,200.2188406153014],\"z\":[23.660964965820312,22.487380095436624]},{\"legendgroup\":\"4\",\"legendgrouptitle\":{\"text\":\"--4--\"},\"line\":{\"color\":\"blue\",\"width\":2},\"marker\":{\"color\":\"blue\",\"size\":1.2},\"type\":\"scatter3d\",\"x\":[1.8302708864212036,3.1141879087778612],\"y\":[0.6004800200462341,-2.418098924773117],\"z\":[23.660964965820312,-476.3282746566276]},{\"legendgroup\":\"5\",\"legendgrouptitle\":{\"text\":\"--5--\"},\"line\":{\"color\":\"red\",\"width\":2},\"marker\":{\"color\":\"red\",\"size\":1.3},\"type\":\"scatter3d\",\"x\":[2.4104480743408203,200.89732456815565],\"y\":[0.8086808919906616,-23.71566012823101],\"z\":[45.954490661621094,47.18597645243448]},{\"legendgroup\":\"5\",\"legendgrouptitle\":{\"text\":\"--5--\"},\"line\":{\"color\":\"green\",\"width\":2},\"marker\":{\"color\":\"green\",\"size\":1.3},\"type\":\"scatter3d\",\"x\":[2.4104480743408203,26.947499769962874],\"y\":[0.8086808919906616,199.28493867061215],\"z\":[45.954490661621094,43.69435962989537]},{\"legendgroup\":\"5\",\"legendgrouptitle\":{\"text\":\"--5--\"},\"line\":{\"color\":\"blue\",\"width\":2},\"marker\":{\"color\":\"blue\",\"size\":1.3},\"type\":\"scatter3d\",\"x\":[2.4104480743408203,4.772853913037816],\"y\":[0.8086808919906616,-5.176611351329269],\"z\":[45.954490661621094,-454.0041029393044]},{\"legendgroup\":\"6\",\"legendgrouptitle\":{\"text\":\"--6--\"},\"line\":{\"color\":\"red\",\"width\":2},\"marker\":{\"color\":\"red\",\"size\":1.4},\"type\":\"scatter3d\",\"x\":[3.225452423095703,199.03185710967048],\"y\":[-0.06685328483581543,-40.748565990139014],\"z\":[74.68510437011719,76.88740659290217]},{\"legendgroup\":\"6\",\"legendgrouptitle\":{\"text\":\"--6--\"},\"line\":{\"color\":\"green\",\"width\":2},\"marker\":{\"color\":\"green\",\"size\":1.4},\"type\":\"scatter3d\",\"x\":[3.225452423095703,43.94182603293089],\"y\":[-0.06685328483581543,195.71170966658417],\"z\":[74.68510437011719,71.0891053794047]},{\"legendgroup\":\"6\",\"legendgrouptitle\":{\"text\":\"--6--\"},\"line\":{\"color\":\"blue\",\"width\":2},\"marker\":{\"color\":\"blue\",\"size\":1.4},\"type\":\"scatter3d\",\"x\":[3.225452423095703,6.786354504756155],\"y\":[-0.06685328483581543,-9.989220706493919],\"z\":[74.68510437011719,-425.20374987761903]},{\"legendgroup\":\"7\",\"legendgrouptitle\":{\"text\":\"--7--\"},\"line\":{\"color\":\"red\",\"width\":2},\"marker\":{\"color\":\"red\",\"size\":1.5},\"type\":\"scatter3d\",\"x\":[4.398681640625,195.00976489323543],\"y\":[-3.1122958660125732,-63.564141057557855],\"z\":[109.7218017578125,113.32587642461091]},{\"legendgroup\":\"7\",\"legendgrouptitle\":{\"text\":\"--7--\"},\"line\":{\"color\":\"green\",\"width\":2},\"marker\":{\"color\":\"green\",\"size\":1.5},\"type\":\"scatter3d\",\"x\":[4.398681640625,64.92827236196645],\"y\":[-3.1122958660125732,187.440015709544],\"z\":[109.7218017578125,104.62423367892427]},{\"legendgroup\":\"7\",\"legendgrouptitle\":{\"text\":\"--7--\"},\"line\":{\"color\":\"blue\",\"width\":2},\"marker\":{\"color\":\"blue\",\"size\":1.5},\"type\":\"scatter3d\",\"x\":[4.398681640625,9.13127367176284],\"y\":[-3.1122958660125732,-17.984872590778526],\"z\":[109.7218017578125,-390.0345479109364]},{\"legendgroup\":\"8\",\"legendgrouptitle\":{\"text\":\"--8--\"},\"line\":{\"color\":\"red\",\"width\":2},\"marker\":{\"color\":\"red\",\"size\":1.6},\"type\":\"scatter3d\",\"x\":[5.547919750213623,187.29824132171882],\"y\":[-9.322001457214355,-92.60567747929727],\"z\":[150.92349243164062,156.45972914110257]},{\"legendgroup\":\"8\",\"legendgrouptitle\":{\"text\":\"--8--\"},\"line\":{\"color\":\"green\",\"width\":2},\"marker\":{\"color\":\"green\",\"size\":1.6},\"type\":\"scatter3d\",\"x\":[5.547919750213623,88.98502769884885],\"y\":[-9.322001457214355,172.31993505478425],\"z\":[150.92349243164062,144.25596535341552]},{\"legendgroup\":\"8\",\"legendgrouptitle\":{\"text\":\"--8--\"},\"line\":{\"color\":\"blue\",\"width\":2},\"marker\":{\"color\":\"blue\",\"size\":1.6},\"type\":\"scatter3d\",\"x\":[5.547919750213623,11.176877148265092],\"y\":[-9.322001457214355,-30.243911088598132],\"z\":[150.92349243164062,-348.6068755501139]},{\"legendgroup\":\"9\",\"legendgrouptitle\":{\"text\":\"--9--\"},\"line\":{\"color\":\"red\",\"width\":2},\"marker\":{\"color\":\"red\",\"size\":1.7000000000000002},\"type\":\"scatter3d\",\"x\":[5.733951568603516,173.69752605185565],\"y\":[-18.27916717529297,-126.5517800421953],\"z\":[198.61083984375,206.69037880231156]},{\"legendgroup\":\"9\",\"legendgrouptitle\":{\"text\":\"--9--\"},\"line\":{\"color\":\"green\",\"width\":2},\"marker\":{\"color\":\"green\",\"size\":1.7000000000000002},\"type\":\"scatter3d\",\"x\":[5.733951568603516,114.28195552023844],\"y\":[-18.27916717529297,149.5026072092059],\"z\":[198.61083984375,190.44952729582204]},{\"legendgroup\":\"9\",\"legendgrouptitle\":{\"text\":\"--9--\"},\"line\":{\"color\":\"blue\",\"width\":2},\"marker\":{\"color\":\"blue\",\"size\":1.7000000000000002},\"type\":\"scatter3d\",\"x\":[5.733951568603516,11.63336092721038],\"y\":[-18.27916717529297,-46.376930360622026],\"z\":[198.61083984375,-300.56419225741666]},{\"legendgroup\":\"10\",\"legendgrouptitle\":{\"text\":\"--10--\"},\"line\":{\"color\":\"red\",\"width\":2},\"marker\":{\"color\":\"red\",\"size\":1.8},\"type\":\"scatter3d\",\"x\":[3.751283884048462,151.77738615569007],\"y\":[-28.908811569213867,-162.92825755163122],\"z\":[253.3502197265625,264.6223599329042]},{\"legendgroup\":\"10\",\"legendgrouptitle\":{\"text\":\"--10--\"},\"line\":{\"color\":\"green\",\"width\":2},\"marker\":{\"color\":\"green\",\"size\":1.8},\"type\":\"scatter3d\",\"x\":[3.751283884048462,138.22822971089096],\"y\":[-28.908811569213867,118.83540200789886],\"z\":[253.3502197265625,243.99081827321254]},{\"legendgroup\":\"10\",\"legendgrouptitle\":{\"text\":\"--10--\"},\"line\":{\"color\":\"blue\",\"width\":2},\"marker\":{\"color\":\"blue\",\"size\":1.8},\"type\":\"scatter3d\",\"x\":[3.751283884048462,8.88943004169739],\"y\":[-28.908811569213867,-65.17479537691034],\"z\":[253.3502197265625,-245.30635335006167]},{\"legendgroup\":\"11\",\"legendgrouptitle\":{\"text\":\"--11--\"},\"line\":{\"color\":\"red\",\"width\":2},\"marker\":{\"color\":\"red\",\"size\":1.9},\"type\":\"scatter3d\",\"x\":[-1.6688992977142334,119.26906758621585],\"y\":[-40.47377395629883,-199.05010962539708],\"z\":[315.4309997558594,330.5158905987826]},{\"legendgroup\":\"11\",\"legendgrouptitle\":{\"text\":\"--11--\"},\"line\":{\"color\":\"green\",\"width\":2},\"marker\":{\"color\":\"green\",\"size\":1.9},\"type\":\"scatter3d\",\"x\":[-1.6688992977142334,157.61916508264875],\"y\":[-40.47377395629883,80.0541958410033],\"z\":[315.4309997558594,305.41496049385705]},{\"legendgroup\":\"11\",\"legendgrouptitle\":{\"text\":\"--11--\"},\"line\":{\"color\":\"blue\",\"width\":2},\"marker\":{\"color\":\"blue\",\"size\":1.9},\"type\":\"scatter3d\",\"x\":[-1.6688992977142334,1.2041565001020906],\"y\":[-40.47377395629883,-85.65080506047991],\"z\":[315.4309997558594,-182.51556505907587]},{\"legendgroup\":\"12\",\"legendgrouptitle\":{\"text\":\"--12--\"},\"line\":{\"color\":\"red\",\"width\":2},\"marker\":{\"color\":\"red\",\"size\":2.0},\"type\":\"scatter3d\",\"x\":[-11.67333984375,74.46892108775535],\"y\":[-51.94160079956055,-231.3919876964189],\"z\":[384.704833984375,404.1231120794146]},{\"legendgroup\":\"12\",\"legendgrouptitle\":{\"text\":\"--12--\"},\"line\":{\"color\":\"green\",\"width\":2},\"marker\":{\"color\":\"green\",\"size\":2.0},\"type\":\"scatter3d\",\"x\":[-11.67333984375,168.82376707206478],\"y\":[-51.94160079956055,33.63444720095231],\"z\":[384.704833984375,374.8288832131907]},{\"legendgroup\":\"12\",\"legendgrouptitle\":{\"text\":\"--12--\"},\"line\":{\"color\":\"blue\",\"width\":2},\"marker\":{\"color\":\"blue\",\"size\":2.0},\"type\":\"scatter3d\",\"x\":[-11.67333984375,-13.05463595018657],\"y\":[-51.94160079956055,-106.3875976210537],\"z\":[384.704833984375,-112.32004009254712]},{\"legendgroup\":\"13\",\"legendgrouptitle\":{\"text\":\"--13--\"},\"line\":{\"color\":\"red\",\"width\":2},\"marker\":{\"color\":\"red\",\"size\":2.1},\"type\":\"scatter3d\",\"x\":[-27.24457359313965,16.59226734695369],\"y\":[-61.63491439819336,-255.28081825299247],\"z\":[460.7877197265625,484.8625052219903]},{\"legendgroup\":\"13\",\"legendgrouptitle\":{\"text\":\"--13--\"},\"line\":{\"color\":\"green\",\"width\":2},\"marker\":{\"color\":\"green\",\"size\":2.1},\"type\":\"scatter3d\",\"x\":[-27.24457359313965,167.8657818683047],\"y\":[-61.63491439819336,-18.5442854449636],\"z\":[460.7877197265625,452.1189892471949]},{\"legendgroup\":\"13\",\"legendgrouptitle\":{\"text\":\"--13--\"},\"line\":{\"color\":\"blue\",\"width\":2},\"marker\":{\"color\":\"blue\",\"size\":2.1},\"type\":\"scatter3d\",\"x\":[-27.24457359313965,-35.260404843623476],\"y\":[-61.63491439819336,-125.10053583378739],\"z\":[460.7877197265625,-35.10325755086046]},{\"legendgroup\":\"14\",\"legendgrouptitle\":{\"text\":\"--14--\"},\"line\":{\"color\":\"red\",\"width\":2},\"marker\":{\"color\":\"red\",\"size\":2.2},\"type\":\"scatter3d\",\"x\":[-49.126155853271484,-53.80861063868723],\"y\":[-66.98147583007812,-264.8508971194773],\"z\":[543.3880004882812,572.1241577780235]},{\"legendgroup\":\"14\",\"legendgrouptitle\":{\"text\":\"--14--\"},\"line\":{\"color\":\"green\",\"width\":2},\"marker\":{\"color\":\"green\",\"size\":2.2},\"type\":\"scatter3d\",\"x\":[-49.126155853271484,150.70008818178667],\"y\":[-66.98147583007812,-72.60384536906703],\"z\":[543.3880004882812,537.2348585584665]},{\"legendgroup\":\"14\",\"legendgrouptitle\":{\"text\":\"--14--\"},\"line\":{\"color\":\"blue\",\"width\":2},\"marker\":{\"color\":\"blue\",\"size\":2.2},\"type\":\"scatter3d\",\"x\":[-49.126155853271484,-66.36470495548927],\"y\":[-66.98147583007812,-138.39930795926847],\"z\":[543.3880004882812,48.815128528225955]},{\"legendgroup\":\"15\",\"legendgrouptitle\":{\"text\":\"--15--\"},\"line\":{\"color\":\"red\",\"width\":2},\"marker\":{\"color\":\"red\",\"size\":2.3},\"type\":\"scatter3d\",\"x\":[-77.49267578125,-134.23921740324948],\"y\":[-64.52400207519531,-253.4515167940621],\"z\":[632.2681884765625,665.2261040067513]},{\"legendgroup\":\"15\",\"legendgrouptitle\":{\"text\":\"--15--\"},\"line\":{\"color\":\"green\",\"width\":2},\"marker\":{\"color\":\"green\",\"size\":2.3},\"type\":\"scatter3d\",\"x\":[-77.49267578125,113.93684603695576],\"y\":[-64.52400207519531,-122.40293610496624],\"z\":[632.2681884765625,630.0848030249043]},{\"legendgroup\":\"15\",\"legendgrouptitle\":{\"text\":\"--15--\"},\"line\":{\"color\":\"blue\",\"width\":2},\"marker\":{\"color\":\"blue\",\"size\":2.3},\"type\":\"scatter3d\",\"x\":[-77.49267578125,-106.49355835357093],\"y\":[-64.52400207519531,-141.83923253343858],\"z\":[632.2681884765625,139.13402422791182]},{\"legendgroup\":\"16\",\"legendgrouptitle\":{\"text\":\"--16--\"},\"line\":{\"color\":\"red\",\"width\":2},\"marker\":{\"color\":\"red\",\"size\":2.4000000000000004},\"type\":\"scatter3d\",\"x\":[-110.7415542602539,-218.86514805045124],\"y\":[-50.477752685546875,-214.79357834475925],\"z\":[726.9265747070312,763.1149416752121]},{\"legendgroup\":\"16\",\"legendgrouptitle\":{\"text\":\"--16--\"},\"line\":{\"color\":\"green\",\"width\":2},\"marker\":{\"color\":\"green\",\"size\":2.4000000000000004},\"type\":\"scatter3d\",\"x\":[-110.7415542602539,56.63506571472837],\"y\":[-50.477752685546875,-159.90679022158338],\"z\":[726.9265747070312,730.1441560482069]},{\"legendgroup\":\"16\",\"legendgrouptitle\":{\"text\":\"--16--\"},\"line\":{\"color\":\"blue\",\"width\":2},\"marker\":{\"color\":\"blue\",\"size\":2.4000000000000004},\"type\":\"scatter3d\",\"x\":[-110.7415542602539,-153.6335371681035],\"y\":[-50.477752685546875,-130.54004022890456],\"z\":[726.9265747070312,235.24547082408003]},{\"legendgroup\":\"17\",\"legendgrouptitle\":{\"text\":\"--17--\"},\"line\":{\"color\":\"red\",\"width\":2},\"marker\":{\"color\":\"red\",\"size\":2.5},\"type\":\"scatter3d\",\"x\":[-145.4014129638672,-298.5049186238738],\"y\":[-21.456392288208008,-144.44976430780355],\"z\":[826.8789672851562,864.7200427702122]},{\"legendgroup\":\"17\",\"legendgrouptitle\":{\"text\":\"--17--\"},\"line\":{\"color\":\"green\",\"width\":2},\"marker\":{\"color\":\"green\",\"size\":2.5},\"type\":\"scatter3d\",\"x\":[-145.4014129638672,-18.82946609839746],\"y\":[-21.456392288208008,-175.9992399281175],\"z\":[826.8789672851562,836.6795034966314]},{\"legendgroup\":\"17\",\"legendgrouptitle\":{\"text\":\"--17--\"},\"line\":{\"color\":\"blue\",\"width\":2},\"marker\":{\"color\":\"blue\",\"size\":2.5},\"type\":\"scatter3d\",\"x\":[-145.4014129638672,-203.4347450509652],\"y\":[-21.456392288208008,-100.08283037510061],\"z\":[826.8789672851562,336.5219385799111]},{\"legendgroup\":\"18\",\"legendgrouptitle\":{\"text\":\"--18--\"},\"line\":{\"color\":\"red\",\"width\":2},\"marker\":{\"color\":\"red\",\"size\":2.6},\"type\":\"scatter3d\",\"x\":[-175.43043518066406,-360.41528414204834],\"y\":[24.336061477661133,-41.87231678751078],\"z\":[931.7271118164062,969.1043281684804]},{\"legendgroup\":\"18\",\"legendgrouptitle\":{\"text\":\"--18--\"},\"line\":{\"color\":\"green\",\"width\":2},\"marker\":{\"color\":\"green\",\"size\":2.6},\"type\":\"scatter3d\",\"x\":[-175.43043518066406,-105.22987774193349],\"y\":[24.336061477661133,-162.15789584488027],\"z\":[931.7271118164062,948.8117721135737]},{\"legendgroup\":\"18\",\"legendgrouptitle\":{\"text\":\"--18--\"},\"line\":{\"color\":\"blue\",\"width\":2},\"marker\":{\"color\":\"blue\",\"size\":2.6},\"type\":\"scatter3d\",\"x\":[-175.43043518066406,-248.42390192706756],\"y\":[24.336061477661133,-47.96774762298534],\"z\":[931.7271118164062,442.3968419557742]},{\"legendgroup\":\"19\",\"legendgrouptitle\":{\"text\":\"--19--\"},\"line\":{\"color\":\"red\",\"width\":2},\"marker\":{\"color\":\"red\",\"size\":2.7},\"type\":\"scatter3d\",\"x\":[-193.7733917236328,-390.7835670735467],\"y\":[86.6325912475586,88.43767899252347],\"z\":[1040.953369140625,1075.3587824767433]},{\"legendgroup\":\"19\",\"legendgrouptitle\":{\"text\":\"--19--\"},\"line\":{\"color\":\"green\",\"width\":2},\"marker\":{\"color\":\"green\",\"size\":2.7},\"type\":\"scatter3d\",\"x\":[-193.7733917236328,-191.34732160268229],\"y\":[86.6325912475586,-111.87007415468565],\"z\":[1040.953369140625,1065.259870574869]},{\"legendgroup\":\"19\",\"legendgrouptitle\":{\"text\":\"--19--\"},\"line\":{\"color\":\"blue\",\"width\":2},\"marker\":{\"color\":\"blue\",\"size\":2.7},\"type\":\"scatter3d\",\"x\":[-193.7733917236328,-279.69141196547434],\"y\":[86.6325912475586,25.73136556009569],\"z\":[1040.953369140625,552.1700485296541]},{\"legendgroup\":\"20\",\"legendgrouptitle\":{\"text\":\"--20--\"},\"line\":{\"color\":\"red\",\"width\":2},\"marker\":{\"color\":\"red\",\"size\":2.8},\"type\":\"scatter3d\",\"x\":[-192.47628784179688,-376.22376295667027],\"y\":[162.59263610839844,236.10658097941632],\"z\":[1153.9268798828125,1182.7810875206928]},{\"legendgroup\":\"20\",\"legendgrouptitle\":{\"text\":\"--20--\"},\"line\":{\"color\":\"green\",\"width\":2},\"marker\":{\"color\":\"green\",\"size\":2.8},\"type\":\"scatter3d\",\"x\":[-192.47628784179688,-261.7638026968326],\"y\":[162.59263610839844,-22.53683581427964],\"z\":[1153.9268798828125,1184.362367571423]},{\"legendgroup\":\"20\",\"legendgrouptitle\":{\"text\":\"--20--\"},\"line\":{\"color\":\"blue\",\"width\":2},\"marker\":{\"color\":\"blue\",\"size\":2.8},\"type\":\"scatter3d\",\"x\":[-192.47628784179688,-287.2162501769361],\"y\":[162.59263610839844,117.67754015424754],\"z\":[1153.9268798828125,665.0434851022516]},{\"legendgroup\":\"21\",\"legendgrouptitle\":{\"text\":\"--21--\"},\"line\":{\"color\":\"red\",\"width\":2},\"marker\":{\"color\":\"red\",\"size\":2.9000000000000004},\"type\":\"scatter3d\",\"x\":[-164.19961547851562,-306.99010651531523],\"y\":[244.6199951171875,383.05730051805347],\"z\":[1270.471435546875,1291.5898669000085]},{\"legendgroup\":\"21\",\"legendgrouptitle\":{\"text\":\"--21--\"},\"line\":{\"color\":\"green\",\"width\":2},\"marker\":{\"color\":\"green\",\"size\":2.9000000000000004},\"type\":\"scatter3d\",\"x\":[-164.19961547851562,-298.70662131252436],\"y\":[244.6199951171875,100.64515035274587],\"z\":[1270.471435546875,1304.8095988149485]},{\"legendgroup\":\"21\",\"legendgrouptitle\":{\"text\":\"--21--\"},\"line\":{\"color\":\"blue\",\"width\":2},\"marker\":{\"color\":\"blue\",\"size\":2.9000000000000004},\"type\":\"scatter3d\",\"x\":[-164.19961547851562,-261.62718636580325],\"y\":[244.6199951171875,218.83766730307528],\"z\":[1270.471435546875,780.7336077211205]},{\"legendgroup\":\"22\",\"legendgrouptitle\":{\"text\":\"--22--\"},\"line\":{\"color\":\"red\",\"width\":2},\"marker\":{\"color\":\"red\",\"size\":3.0},\"type\":\"scatter3d\",\"x\":[-103.75983428955078,-180.2387777238984],\"y\":[320.84844970703125,505.24926639623345],\"z\":[1391.1846923828125,1403.3218261268685]},{\"legendgroup\":\"22\",\"legendgrouptitle\":{\"text\":\"--22--\"},\"line\":{\"color\":\"green\",\"width\":2},\"marker\":{\"color\":\"green\",\"size\":3.0},\"type\":\"scatter3d\",\"x\":[-103.75983428955078,-284.82262850429834],\"y\":[320.84844970703125,243.44960889246136],\"z\":[1391.1846923828125,1426.1944623293411]},{\"legendgroup\":\"22\",\"legendgrouptitle\":{\"text\":\"--22--\"},\"line\":{\"color\":\"blue\",\"width\":2},\"marker\":{\"color\":\"blue\",\"size\":3.0},\"type\":\"scatter3d\",\"x\":[-103.75983428955078,-196.2002124500795],\"y\":[320.84844970703125,314.8493638828662],\"z\":[1391.1846923828125,899.8408337106879]}],                        {\"scene\":{\"aspectmode\":\"data\",\"aspectratio\":{\"x\":1,\"y\":1,\"z\":1}},\"template\":{\"data\":{\"bar\":[{\"error_x\":{\"color\":\"#2a3f5f\"},\"error_y\":{\"color\":\"#2a3f5f\"},\"marker\":{\"line\":{\"color\":\"#E5ECF6\",\"width\":0.5},\"pattern\":{\"fillmode\":\"overlay\",\"size\":10,\"solidity\":0.2}},\"type\":\"bar\"}],\"barpolar\":[{\"marker\":{\"line\":{\"color\":\"#E5ECF6\",\"width\":0.5},\"pattern\":{\"fillmode\":\"overlay\",\"size\":10,\"solidity\":0.2}},\"type\":\"barpolar\"}],\"carpet\":[{\"aaxis\":{\"endlinecolor\":\"#2a3f5f\",\"gridcolor\":\"white\",\"linecolor\":\"white\",\"minorgridcolor\":\"white\",\"startlinecolor\":\"#2a3f5f\"},\"baxis\":{\"endlinecolor\":\"#2a3f5f\",\"gridcolor\":\"white\",\"linecolor\":\"white\",\"minorgridcolor\":\"white\",\"startlinecolor\":\"#2a3f5f\"},\"type\":\"carpet\"}],\"choropleth\":[{\"colorbar\":{\"outlinewidth\":0,\"ticks\":\"\"},\"type\":\"choropleth\"}],\"contour\":[{\"colorbar\":{\"outlinewidth\":0,\"ticks\":\"\"},\"colorscale\":[[0.0,\"#0d0887\"],[0.1111111111111111,\"#46039f\"],[0.2222222222222222,\"#7201a8\"],[0.3333333333333333,\"#9c179e\"],[0.4444444444444444,\"#bd3786\"],[0.5555555555555556,\"#d8576b\"],[0.6666666666666666,\"#ed7953\"],[0.7777777777777778,\"#fb9f3a\"],[0.8888888888888888,\"#fdca26\"],[1.0,\"#f0f921\"]],\"type\":\"contour\"}],\"contourcarpet\":[{\"colorbar\":{\"outlinewidth\":0,\"ticks\":\"\"},\"type\":\"contourcarpet\"}],\"heatmap\":[{\"colorbar\":{\"outlinewidth\":0,\"ticks\":\"\"},\"colorscale\":[[0.0,\"#0d0887\"],[0.1111111111111111,\"#46039f\"],[0.2222222222222222,\"#7201a8\"],[0.3333333333333333,\"#9c179e\"],[0.4444444444444444,\"#bd3786\"],[0.5555555555555556,\"#d8576b\"],[0.6666666666666666,\"#ed7953\"],[0.7777777777777778,\"#fb9f3a\"],[0.8888888888888888,\"#fdca26\"],[1.0,\"#f0f921\"]],\"type\":\"heatmap\"}],\"heatmapgl\":[{\"colorbar\":{\"outlinewidth\":0,\"ticks\":\"\"},\"colorscale\":[[0.0,\"#0d0887\"],[0.1111111111111111,\"#46039f\"],[0.2222222222222222,\"#7201a8\"],[0.3333333333333333,\"#9c179e\"],[0.4444444444444444,\"#bd3786\"],[0.5555555555555556,\"#d8576b\"],[0.6666666666666666,\"#ed7953\"],[0.7777777777777778,\"#fb9f3a\"],[0.8888888888888888,\"#fdca26\"],[1.0,\"#f0f921\"]],\"type\":\"heatmapgl\"}],\"histogram\":[{\"marker\":{\"pattern\":{\"fillmode\":\"overlay\",\"size\":10,\"solidity\":0.2}},\"type\":\"histogram\"}],\"histogram2d\":[{\"colorbar\":{\"outlinewidth\":0,\"ticks\":\"\"},\"colorscale\":[[0.0,\"#0d0887\"],[0.1111111111111111,\"#46039f\"],[0.2222222222222222,\"#7201a8\"],[0.3333333333333333,\"#9c179e\"],[0.4444444444444444,\"#bd3786\"],[0.5555555555555556,\"#d8576b\"],[0.6666666666666666,\"#ed7953\"],[0.7777777777777778,\"#fb9f3a\"],[0.8888888888888888,\"#fdca26\"],[1.0,\"#f0f921\"]],\"type\":\"histogram2d\"}],\"histogram2dcontour\":[{\"colorbar\":{\"outlinewidth\":0,\"ticks\":\"\"},\"colorscale\":[[0.0,\"#0d0887\"],[0.1111111111111111,\"#46039f\"],[0.2222222222222222,\"#7201a8\"],[0.3333333333333333,\"#9c179e\"],[0.4444444444444444,\"#bd3786\"],[0.5555555555555556,\"#d8576b\"],[0.6666666666666666,\"#ed7953\"],[0.7777777777777778,\"#fb9f3a\"],[0.8888888888888888,\"#fdca26\"],[1.0,\"#f0f921\"]],\"type\":\"histogram2dcontour\"}],\"mesh3d\":[{\"colorbar\":{\"outlinewidth\":0,\"ticks\":\"\"},\"type\":\"mesh3d\"}],\"parcoords\":[{\"line\":{\"colorbar\":{\"outlinewidth\":0,\"ticks\":\"\"}},\"type\":\"parcoords\"}],\"pie\":[{\"automargin\":true,\"type\":\"pie\"}],\"scatter\":[{\"marker\":{\"colorbar\":{\"outlinewidth\":0,\"ticks\":\"\"}},\"type\":\"scatter\"}],\"scatter3d\":[{\"line\":{\"colorbar\":{\"outlinewidth\":0,\"ticks\":\"\"}},\"marker\":{\"colorbar\":{\"outlinewidth\":0,\"ticks\":\"\"}},\"type\":\"scatter3d\"}],\"scattercarpet\":[{\"marker\":{\"colorbar\":{\"outlinewidth\":0,\"ticks\":\"\"}},\"type\":\"scattercarpet\"}],\"scattergeo\":[{\"marker\":{\"colorbar\":{\"outlinewidth\":0,\"ticks\":\"\"}},\"type\":\"scattergeo\"}],\"scattergl\":[{\"marker\":{\"colorbar\":{\"outlinewidth\":0,\"ticks\":\"\"}},\"type\":\"scattergl\"}],\"scattermapbox\":[{\"marker\":{\"colorbar\":{\"outlinewidth\":0,\"ticks\":\"\"}},\"type\":\"scattermapbox\"}],\"scatterpolar\":[{\"marker\":{\"colorbar\":{\"outlinewidth\":0,\"ticks\":\"\"}},\"type\":\"scatterpolar\"}],\"scatterpolargl\":[{\"marker\":{\"colorbar\":{\"outlinewidth\":0,\"ticks\":\"\"}},\"type\":\"scatterpolargl\"}],\"scatterternary\":[{\"marker\":{\"colorbar\":{\"outlinewidth\":0,\"ticks\":\"\"}},\"type\":\"scatterternary\"}],\"surface\":[{\"colorbar\":{\"outlinewidth\":0,\"ticks\":\"\"},\"colorscale\":[[0.0,\"#0d0887\"],[0.1111111111111111,\"#46039f\"],[0.2222222222222222,\"#7201a8\"],[0.3333333333333333,\"#9c179e\"],[0.4444444444444444,\"#bd3786\"],[0.5555555555555556,\"#d8576b\"],[0.6666666666666666,\"#ed7953\"],[0.7777777777777778,\"#fb9f3a\"],[0.8888888888888888,\"#fdca26\"],[1.0,\"#f0f921\"]],\"type\":\"surface\"}],\"table\":[{\"cells\":{\"fill\":{\"color\":\"#EBF0F8\"},\"line\":{\"color\":\"white\"}},\"header\":{\"fill\":{\"color\":\"#C8D4E3\"},\"line\":{\"color\":\"white\"}},\"type\":\"table\"}]},\"layout\":{\"annotationdefaults\":{\"arrowcolor\":\"#2a3f5f\",\"arrowhead\":0,\"arrowwidth\":1},\"autotypenumbers\":\"strict\",\"coloraxis\":{\"colorbar\":{\"outlinewidth\":0,\"ticks\":\"\"}},\"colorscale\":{\"diverging\":[[0,\"#8e0152\"],[0.1,\"#c51b7d\"],[0.2,\"#de77ae\"],[0.3,\"#f1b6da\"],[0.4,\"#fde0ef\"],[0.5,\"#f7f7f7\"],[0.6,\"#e6f5d0\"],[0.7,\"#b8e186\"],[0.8,\"#7fbc41\"],[0.9,\"#4d9221\"],[1,\"#276419\"]],\"sequential\":[[0.0,\"#0d0887\"],[0.1111111111111111,\"#46039f\"],[0.2222222222222222,\"#7201a8\"],[0.3333333333333333,\"#9c179e\"],[0.4444444444444444,\"#bd3786\"],[0.5555555555555556,\"#d8576b\"],[0.6666666666666666,\"#ed7953\"],[0.7777777777777778,\"#fb9f3a\"],[0.8888888888888888,\"#fdca26\"],[1.0,\"#f0f921\"]],\"sequentialminus\":[[0.0,\"#0d0887\"],[0.1111111111111111,\"#46039f\"],[0.2222222222222222,\"#7201a8\"],[0.3333333333333333,\"#9c179e\"],[0.4444444444444444,\"#bd3786\"],[0.5555555555555556,\"#d8576b\"],[0.6666666666666666,\"#ed7953\"],[0.7777777777777778,\"#fb9f3a\"],[0.8888888888888888,\"#fdca26\"],[1.0,\"#f0f921\"]]},\"colorway\":[\"#636efa\",\"#EF553B\",\"#00cc96\",\"#ab63fa\",\"#FFA15A\",\"#19d3f3\",\"#FF6692\",\"#B6E880\",\"#FF97FF\",\"#FECB52\"],\"font\":{\"color\":\"#2a3f5f\"},\"geo\":{\"bgcolor\":\"white\",\"lakecolor\":\"white\",\"landcolor\":\"#E5ECF6\",\"showlakes\":true,\"showland\":true,\"subunitcolor\":\"white\"},\"hoverlabel\":{\"align\":\"left\"},\"hovermode\":\"closest\",\"mapbox\":{\"style\":\"light\"},\"paper_bgcolor\":\"white\",\"plot_bgcolor\":\"#E5ECF6\",\"polar\":{\"angularaxis\":{\"gridcolor\":\"white\",\"linecolor\":\"white\",\"ticks\":\"\"},\"bgcolor\":\"#E5ECF6\",\"radialaxis\":{\"gridcolor\":\"white\",\"linecolor\":\"white\",\"ticks\":\"\"}},\"scene\":{\"xaxis\":{\"backgroundcolor\":\"#E5ECF6\",\"gridcolor\":\"white\",\"gridwidth\":2,\"linecolor\":\"white\",\"showbackground\":true,\"ticks\":\"\",\"zerolinecolor\":\"white\"},\"yaxis\":{\"backgroundcolor\":\"#E5ECF6\",\"gridcolor\":\"white\",\"gridwidth\":2,\"linecolor\":\"white\",\"showbackground\":true,\"ticks\":\"\",\"zerolinecolor\":\"white\"},\"zaxis\":{\"backgroundcolor\":\"#E5ECF6\",\"gridcolor\":\"white\",\"gridwidth\":2,\"linecolor\":\"white\",\"showbackground\":true,\"ticks\":\"\",\"zerolinecolor\":\"white\"}},\"shapedefaults\":{\"line\":{\"color\":\"#2a3f5f\"}},\"ternary\":{\"aaxis\":{\"gridcolor\":\"white\",\"linecolor\":\"white\",\"ticks\":\"\"},\"baxis\":{\"gridcolor\":\"white\",\"linecolor\":\"white\",\"ticks\":\"\"},\"bgcolor\":\"#E5ECF6\",\"caxis\":{\"gridcolor\":\"white\",\"linecolor\":\"white\",\"ticks\":\"\"}},\"title\":{\"x\":0.05},\"xaxis\":{\"automargin\":true,\"gridcolor\":\"white\",\"linecolor\":\"white\",\"ticks\":\"\",\"title\":{\"standoff\":15},\"zerolinecolor\":\"white\",\"zerolinewidth\":2},\"yaxis\":{\"automargin\":true,\"gridcolor\":\"white\",\"linecolor\":\"white\",\"ticks\":\"\",\"title\":{\"standoff\":15},\"zerolinecolor\":\"white\",\"zerolinewidth\":2}}},\"title\":{\"text\":\"7-RA\"}},                        {\"responsive\": true}                    ).then(function(){\n",
       "                            \n",
       "var gd = document.getElementById('e958a7eb-d871-47f0-b21c-817c71d11fad');\n",
       "var x = new MutationObserver(function (mutations, observer) {{\n",
       "        var display = window.getComputedStyle(gd).display;\n",
       "        if (!display || display === 'none') {{\n",
       "            console.log([gd, 'removed!']);\n",
       "            Plotly.purge(gd);\n",
       "            observer.disconnect();\n",
       "        }}\n",
       "}});\n",
       "\n",
       "// Listen for the removal of the full notebook cells\n",
       "var notebookContainer = gd.closest('#notebook-container');\n",
       "if (notebookContainer) {{\n",
       "    x.observe(notebookContainer, {childList: true});\n",
       "}}\n",
       "\n",
       "// Listen for the clearing of the current output cell\n",
       "var outputEl = gd.closest('.output');\n",
       "if (outputEl) {{\n",
       "    x.observe(outputEl, {childList: true});\n",
       "}}\n",
       "\n",
       "                        })                };                });            </script>        </div>"
      ]
     },
     "metadata": {},
     "output_type": "display_data"
    },
    {
     "data": {
      "application/vnd.jupyter.widget-view+json": {
       "model_id": "52aef5397b98468b8cca0984e4ee5ba7",
       "version_major": 2,
       "version_minor": 0
      },
      "text/plain": [
       "0it [00:00, ?it/s]"
      ]
     },
     "metadata": {},
     "output_type": "display_data"
    },
    {
     "data": {
      "application/vnd.plotly.v1+json": {
       "config": {
        "plotlyServerURL": "https://plot.ly"
       },
       "data": [
        {
         "legendgroup": "0",
         "legendgrouptitle": {
          "text": "origins"
         },
         "line": {
          "color": "black",
          "width": 2
         },
         "marker": {
          "color": "black",
          "size": 1
         },
         "type": "scatter3d",
         "x": [
          0,
          9.376324653625488,
          28.280969619750977,
          56.56397247314453,
          94.37006378173828,
          141.63282775878906,
          198.32630920410156,
          263.6632995605469,
          336.54364013671875,
          413.8230895996094,
          490.74700927734375,
          559.6056518554688,
          609.9482421875,
          628.9194946289062,
          603.7391967773438,
          524.7312622070312,
          387.2597351074219,
          197.52716064453125,
          -28.204225540161133,
          -264.17193603515625,
          -474.38037109375
         ],
         "y": [
          0,
          2.7785873413085938,
          7.450259208679199,
          11.630290985107422,
          13.846963882446289,
          12.394479751586914,
          3.522395133972168,
          -15.910359382629395,
          -49.79405212402344,
          -102.29430389404297,
          -177.89385986328125,
          -280.7816467285156,
          -412.6420593261719,
          -570.6920166015625,
          -745.4664306640625,
          -921.5731811523438,
          -1077.718017578125,
          -1190.3660888671875,
          -1238.1949462890625,
          -1204.08349609375,
          -1082.0565185546875
         ],
         "z": [
          0,
          -8.71945571899414,
          -26.26586151123047,
          -52.56747055053711,
          -87.38703155517578,
          -130.8430633544922,
          -182.78610229492188,
          -242.7041778564453,
          -309.83905029296875,
          -383.200927734375,
          -461.3296203613281,
          -542.0836181640625,
          -623.2545166015625,
          -702.5941162109375,
          -778.8873291015625,
          -852.9414672851562,
          -927.5977783203125,
          -1006.3551025390625,
          -1093.6656494140625,
          -1195.724609375,
          -1319.510498046875
         ]
        },
        {
         "legendgroup": "1",
         "legendgrouptitle": {
          "text": "finish"
         },
         "line": {
          "color": "black",
          "width": 2
         },
         "marker": {
          "color": "black",
          "size": 1
         },
         "type": "scatter3d",
         "x": [
          0,
          -1.4303661837634998,
          -4.0989309443223405,
          -8.026387677413126,
          -12.740773609054457,
          -17.55156586954584,
          -20.959366362458553,
          -21.08518060838486,
          -14.947549665440022,
          -0.02402412984821467,
          26.246500627873047,
          64.78061256529031,
          114.26319524722084,
          170.1431382620334,
          225.18334356709437,
          270.0566361921014,
          293.05571982449186,
          284.2450763554776,
          234.50798441156002,
          137.62061961410052,
          -3.4706713494147152
         ],
         "y": [
          -500,
          -497.1014238182281,
          -491.4721582920007,
          -484.07302214276905,
          -474.2648168393625,
          -461.0019950757216,
          -444.7742027056637,
          -425.2304703932115,
          -402.95955763717836,
          -379.59483618453123,
          -358.69194638169574,
          -346.0514943357019,
          -348.40491660982707,
          -372.20325645793343,
          -421.5771174863547,
          -498.4211384009109,
          -600.2414388155968,
          -720.4494797704518,
          -848.0981076859329,
          -964.6211050626925,
          -1046.5080394376514
         ],
         "z": [
          0,
          -6.933433242497188,
          -20.977822674571176,
          -42.256761085725984,
          -70.82931329365178,
          -107.261154053997,
          -152.06228650447764,
          -205.61846950715946,
          -268.2689984876051,
          -340.3642466163279,
          -421.94270152190956,
          -512.2838281512455,
          -610.2190367311005,
          -713.8398680924679,
          -821.2096495664531,
          -930.9362336444777,
          -1042.2351205688342,
          -1153.5229780750467,
          -1263.3911668064882,
          -1372.417861952816,
          -1483.7674927812413
         ]
        },
        {
         "legendgroup": "2",
         "legendgrouptitle": {
          "text": "--2--"
         },
         "line": {
          "color": "red",
          "width": 2
         },
         "marker": {
          "color": "red",
          "size": 1
         },
         "type": "scatter3d",
         "x": [
          0,
          200
         ],
         "y": [
          0,
          0
         ],
         "z": [
          0,
          0
         ]
        },
        {
         "legendgroup": "2",
         "legendgrouptitle": {
          "text": "--2--"
         },
         "line": {
          "color": "green",
          "width": 2
         },
         "marker": {
          "color": "green",
          "size": 1
         },
         "type": "scatter3d",
         "x": [
          0,
          0
         ],
         "y": [
          0,
          200
         ],
         "z": [
          0,
          0
         ]
        },
        {
         "legendgroup": "2",
         "legendgrouptitle": {
          "text": "--2--"
         },
         "line": {
          "color": "blue",
          "width": 2
         },
         "marker": {
          "color": "blue",
          "size": 1
         },
         "type": "scatter3d",
         "x": [
          0,
          0
         ],
         "y": [
          0,
          0
         ],
         "z": [
          0,
          -500
         ]
        },
        {
         "legendgroup": "3",
         "legendgrouptitle": {
          "text": "--3--"
         },
         "line": {
          "color": "red",
          "width": 2
         },
         "marker": {
          "color": "red",
          "size": 1.1
         },
         "type": "scatter3d",
         "x": [
          9.376324653625488,
          209.3290814734262
         ],
         "y": [
          2.7785873413085938,
          -1.5424143094830844
         ],
         "z": [
          -8.71945571899414,
          -8.24618529367086
         ]
        },
        {
         "legendgroup": "3",
         "legendgrouptitle": {
          "text": "--3--"
         },
         "line": {
          "color": "green",
          "width": 2
         },
         "marker": {
          "color": "green",
          "size": 1.1
         },
         "type": "scatter3d",
         "x": [
          9.376324653625488,
          13.699000988581084
         ],
         "y": [
          2.7785873413085938,
          202.73059180512328
         ],
         "z": [
          -8.71945571899414,
          -9.433864709592921
         ]
        },
        {
         "legendgroup": "3",
         "legendgrouptitle": {
          "text": "--3--"
         },
         "line": {
          "color": "blue",
          "width": 2
         },
         "marker": {
          "color": "blue",
          "size": 1.1
         },
         "type": "scatter3d",
         "x": [
          9.376324653625488,
          10.520629750739417
         ],
         "y": [
          2.7785873413085938,
          0.9674143158753852
         ],
         "z": [
          -8.71945571899414,
          -508.7148659160446
         ]
        },
        {
         "legendgroup": "4",
         "legendgrouptitle": {
          "text": "--4--"
         },
         "line": {
          "color": "red",
          "width": 2
         },
         "marker": {
          "color": "red",
          "size": 1.2
         },
         "type": "scatter3d",
         "x": [
          28.280969619750977,
          227.85668677420946
         ],
         "y": [
          7.450259208679199,
          -5.486515158076994
         ],
         "z": [
          -26.26586151123047,
          -24.79175457235551
         ]
        },
        {
         "legendgroup": "4",
         "legendgrouptitle": {
          "text": "--4--"
         },
         "line": {
          "color": "green",
          "width": 2
         },
         "marker": {
          "color": "green",
          "size": 1.2
         },
         "type": "scatter3d",
         "x": [
          28.280969619750977,
          41.232929845380305
         ],
         "y": [
          7.450259208679199,
          207.01922620895115
         ],
         "z": [
          -26.26586151123047,
          -28.381077045894187
         ]
        },
        {
         "legendgroup": "4",
         "legendgrouptitle": {
          "text": "--4--"
         },
         "line": {
          "color": "blue",
          "width": 2
         },
         "marker": {
          "color": "blue",
          "size": 1.2
         },
         "type": "scatter3d",
         "x": [
          28.280969619750977,
          31.616243781378554
         ],
         "y": [
          7.450259208679199,
          1.9347813123367574
         ],
         "z": [
          -26.26586151123047,
          -526.2243152349791
         ]
        },
        {
         "legendgroup": "5",
         "legendgrouptitle": {
          "text": "--5--"
         },
         "line": {
          "color": "red",
          "width": 2
         },
         "marker": {
          "color": "red",
          "size": 1.3
         },
         "type": "scatter3d",
         "x": [
          56.56397247314453,
          254.87167317604892
         ],
         "y": [
          11.630290985107422,
          -14.144445281232908
         ],
         "z": [
          -52.56747055053711,
          -49.44996957573452
         ]
        },
        {
         "legendgroup": "5",
         "legendgrouptitle": {
          "text": "--5--"
         },
         "line": {
          "color": "green",
          "width": 2
         },
         "marker": {
          "color": "green",
          "size": 1.3
         },
         "type": "scatter3d",
         "x": [
          56.56397247314453,
          82.4001165333676
         ],
         "y": [
          11.630290985107422,
          209.911616236258
         ],
         "z": [
          -52.56747055053711,
          -56.69175433646156
         ]
        },
        {
         "legendgroup": "5",
         "legendgrouptitle": {
          "text": "--5--"
         },
         "line": {
          "color": "blue",
          "width": 2
         },
         "marker": {
          "color": "blue",
          "size": 1.3
         },
         "type": "scatter3d",
         "x": [
          56.56397247314453,
          62.96197119671784
         ],
         "y": [
          11.630290985107422,
          0.4000229985345154
         ],
         "z": [
          -52.56747055053711,
          -552.400389327685
         ]
        },
        {
         "legendgroup": "6",
         "legendgrouptitle": {
          "text": "--6--"
         },
         "line": {
          "color": "red",
          "width": 2
         },
         "marker": {
          "color": "red",
          "size": 1.4
         },
         "type": "scatter3d",
         "x": [
          94.37006378173828,
          289.68630121814033
         ],
         "y": [
          13.846963882446289,
          -28.82527367439978
         ],
         "z": [
          -87.38703155517578,
          -81.85100991693173
         ]
        },
        {
         "legendgroup": "6",
         "legendgrouptitle": {
          "text": "--6--"
         },
         "line": {
          "color": "green",
          "width": 2
         },
         "marker": {
          "color": "green",
          "size": 1.4
         },
         "type": "scatter3d",
         "x": [
          94.37006378173828,
          137.21439873805537
         ],
         "y": [
          13.846963882446289,
          209.0916761711698
         ],
         "z": [
          -87.38703155517578,
          -94.01011885978538
         ]
        },
        {
         "legendgroup": "6",
         "legendgrouptitle": {
          "text": "--6--"
         },
         "line": {
          "color": "blue",
          "width": 2
         },
         "marker": {
          "color": "blue",
          "size": 1.4
         },
         "type": "scatter3d",
         "x": [
          94.37006378173828,
          104.34827624625171
         ],
         "y": [
          13.846963882446289,
          -5.287831841847417
         ],
         "z": [
          -87.38703155517578,
          -586.921109340268
         ]
        },
        {
         "legendgroup": "7",
         "legendgrouptitle": {
          "text": "--7--"
         },
         "line": {
          "color": "red",
          "width": 2
         },
         "marker": {
          "color": "red",
          "size": 1.5
         },
         "type": "scatter3d",
         "x": [
          141.63282775878906,
          331.1486849998902
         ],
         "y": [
          12.394479751586914,
          -50.88987833332013
         ],
         "z": [
          -130.8430633544922,
          -121.96444432043926
         ]
        },
        {
         "legendgroup": "7",
         "legendgrouptitle": {
          "text": "--7--"
         },
         "line": {
          "color": "green",
          "width": 2
         },
         "marker": {
          "color": "green",
          "size": 1.5
         },
         "type": "scatter3d",
         "x": [
          141.63282775878906,
          205.30658521012302
         ],
         "y": [
          12.394479751586914,
          201.75306968251033
         ],
         "z": [
          -130.8430633544922,
          -140.27582707469026
         ]
        },
        {
         "legendgroup": "7",
         "legendgrouptitle": {
          "text": "--7--"
         },
         "line": {
          "color": "blue",
          "width": 2
         },
         "marker": {
          "color": "blue",
          "size": 1.5
         },
         "type": "scatter3d",
         "x": [
          141.63282775878906,
          155.18653255657387
         ],
         "y": [
          12.394479751586914,
          -17.01793696670282
         ],
         "z": [
          -130.8430633544922,
          -629.7931679030775
         ]
        },
        {
         "legendgroup": "8",
         "legendgrouptitle": {
          "text": "--8--"
         },
         "line": {
          "color": "red",
          "width": 2
         },
         "marker": {
          "color": "red",
          "size": 1.6
         },
         "type": "scatter3d",
         "x": [
          198.32630920410156,
          377.94458746538595
         ],
         "y": [
          3.522395133972168,
          -83.42601054440179
         ],
         "z": [
          -182.78610229492188,
          -169.47261798611953
         ]
        },
        {
         "legendgroup": "8",
         "legendgrouptitle": {
          "text": "--8--"
         },
         "line": {
          "color": "green",
          "width": 2
         },
         "marker": {
          "color": "green",
          "size": 1.6
         },
         "type": "scatter3d",
         "x": [
          198.32630920410156,
          286.04057943072564
         ],
         "y": [
          3.522395133972168,
          182.8410342698265
         ],
         "z": [
          -182.78610229492188,
          -195.07562861109957
         ]
        },
        {
         "legendgroup": "8",
         "legendgrouptitle": {
          "text": "--8--"
         },
         "line": {
          "color": "blue",
          "width": 2
         },
         "marker": {
          "color": "blue",
          "size": 1.6
         },
         "type": "scatter3d",
         "x": [
          198.32630920410156,
          214.811323812563
         ],
         "y": [
          3.522395133972168,
          -38.66768133951271
         ],
         "z": [
          -182.78610229492188,
          -680.7301169597438
         ]
        },
        {
         "legendgroup": "9",
         "legendgrouptitle": {
          "text": "--9--"
         },
         "line": {
          "color": "red",
          "width": 2
         },
         "marker": {
          "color": "red",
          "size": 1.7000000000000002
         },
         "type": "scatter3d",
         "x": [
          263.6632995605469,
          427.9052240990603
         ],
         "y": [
          -15.910359382629395,
          -128.44902696948077
         ],
         "z": [
          -242.7041778564453,
          -223.74004007848563
         ]
        },
        {
         "legendgroup": "9",
         "legendgrouptitle": {
          "text": "--9--"
         },
         "line": {
          "color": "green",
          "width": 2
         },
         "marker": {
          "color": "green",
          "size": 1.7000000000000002
         },
         "type": "scatter3d",
         "x": [
          263.6632995605469,
          377.5626916281196
         ],
         "y": [
          -15.910359382629395,
          147.81768502160344
         ],
         "z": [
          -242.7041778564453,
          -257.53846119615963
         ]
        },
        {
         "legendgroup": "9",
         "legendgrouptitle": {
          "text": "--9--"
         },
         "line": {
          "color": "blue",
          "width": 2
         },
         "marker": {
          "color": "blue",
          "size": 1.7000000000000002
         },
         "type": "scatter3d",
         "x": [
          263.6632995605469,
          281.60743344230303
         ],
         "y": [
          -15.910359382629395,
          -73.36554699337421
         ],
         "z": [
          -242.7041778564453,
          -739.0678645578878
         ]
        },
        {
         "legendgroup": "10",
         "legendgrouptitle": {
          "text": "--10--"
         },
         "line": {
          "color": "red",
          "width": 2
         },
         "marker": {
          "color": "red",
          "size": 1.8
         },
         "type": "scatter3d",
         "x": [
          336.54364013671875,
          478.6242075293087
         ],
         "y": [
          -49.79405212402344,
          -188.1569351388804
         ],
         "z": [
          -309.83905029296875,
          -283.9773996647372
         ]
        },
        {
         "legendgroup": "10",
         "legendgrouptitle": {
          "text": "--10--"
         },
         "line": {
          "color": "green",
          "width": 2
         },
         "marker": {
          "color": "green",
          "size": 1.8
         },
         "type": "scatter3d",
         "x": [
          336.54364013671875,
          477.14011605758225
         ],
         "y": [
          -49.79405212402344,
          91.47215008123851
         ],
         "z": [
          -309.83905029296875,
          -326.4670710151142
         ]
        },
        {
         "legendgroup": "10",
         "legendgrouptitle": {
          "text": "--10--"
         },
         "line": {
          "color": "blue",
          "width": 2
         },
         "marker": {
          "color": "blue",
          "size": 1.8
         },
         "type": "scatter3d",
         "x": [
          336.54364013671875,
          353.4520936500033
         ],
         "y": [
          -49.79405212402344,
          -124.77624660707477
         ],
         "z": [
          -309.83905029296875,
          -803.8954992037131
         ]
        },
        {
         "legendgroup": "11",
         "legendgrouptitle": {
          "text": "--11--"
         },
         "line": {
          "color": "red",
          "width": 2
         },
         "marker": {
          "color": "red",
          "size": 1.9
         },
         "type": "scatter3d",
         "x": [
          413.8230895996094,
          525.9515862193304
         ],
         "y": [
          -102.29430389404297,
          -264.40088023491114
         ],
         "z": [
          -383.200927734375,
          -349.3090680503223
         ]
        },
        {
         "legendgroup": "11",
         "legendgrouptitle": {
          "text": "--11--"
         },
         "line": {
          "color": "green",
          "width": 2
         },
         "marker": {
          "color": "green",
          "size": 1.9
         },
         "type": "scatter3d",
         "x": [
          413.8230895996094,
          579.3619350913924
         ],
         "y": [
          -102.29430389404297,
          8.625909022152342
         ],
         "z": [
          -383.200927734375,
          -400.33560018159386
         ]
        },
        {
         "legendgroup": "11",
         "legendgrouptitle": {
          "text": "--11--"
         },
         "line": {
          "color": "blue",
          "width": 2
         },
         "marker": {
          "color": "blue",
          "size": 1.9
         },
         "type": "scatter3d",
         "x": [
          413.8230895996094,
          426.0937046638604
         ],
         "y": [
          -102.29430389404297,
          -196.4406087096129
         ],
         "z": [
          -383.200927734375,
          -874.1040803984406
         ]
        },
        {
         "legendgroup": "12",
         "legendgrouptitle": {
          "text": "--12--"
         },
         "line": {
          "color": "red",
          "width": 2
         },
         "marker": {
          "color": "red",
          "size": 2
         },
         "type": "scatter3d",
         "x": [
          490.74700927734375,
          564.7524256357842
         ],
         "y": [
          -177.89385986328125,
          -358.71116780589125
         ],
         "z": [
          -461.3296203613281,
          -418.5710013705186
         ]
        },
        {
         "legendgroup": "12",
         "legendgrouptitle": {
          "text": "--12--"
         },
         "line": {
          "color": "green",
          "width": 2
         },
         "marker": {
          "color": "green",
          "size": 2
         },
         "type": "scatter3d",
         "x": [
          490.74700927734375,
          676.547212737132
         ],
         "y": [
          -177.89385986328125,
          -105.57462525591544
         ],
         "z": [
          -461.3296203613281,
          -477.08438789709555
         ]
        },
        {
         "legendgroup": "12",
         "legendgrouptitle": {
          "text": "--12--"
         },
         "line": {
          "color": "blue",
          "width": 2
         },
         "marker": {
          "color": "blue",
          "size": 2
         },
         "type": "scatter3d",
         "x": [
          490.74700927734375,
          493.7912085923965
         ],
         "y": [
          -177.89385986328125,
          -291.77508785411726
         ],
         "z": [
          -461.3296203613281,
          -948.1784662692028
         ]
        },
        {
         "legendgroup": "13",
         "legendgrouptitle": {
          "text": "--13--"
         },
         "line": {
          "color": "red",
          "width": 2
         },
         "marker": {
          "color": "red",
          "size": 2.1
         },
         "type": "scatter3d",
         "x": [
          559.6056518554688,
          587.9338306337831
         ],
         "y": [
          -280.7816467285156,
          -471.8319257481339
         ],
         "z": [
          -542.0836181640625,
          -490.148031389387
         ]
        },
        {
         "legendgroup": "13",
         "legendgrouptitle": {
          "text": "--13--"
         },
         "line": {
          "color": "green",
          "width": 2
         },
         "marker": {
          "color": "green",
          "size": 2.1
         },
         "type": "scatter3d",
         "x": [
          559.6056518554688,
          757.5356675715401
         ],
         "y": [
          -280.7816467285156,
          -254.67370768564112
         ],
         "z": [
          -542.0836181640625,
          -554.0035341691893
         ]
        },
        {
         "legendgroup": "13",
         "legendgrouptitle": {
          "text": "--13--"
         },
         "line": {
          "color": "blue",
          "width": 2
         },
         "marker": {
          "color": "blue",
          "size": 2.1
         },
         "type": "scatter3d",
         "x": [
          559.6056518554688,
          548.0885000429595
         ],
         "y": [
          -280.7816467285156,
          -413.4976594553987
         ],
         "z": [
          -542.0836181640625,
          -1024.010806834722
         ]
        },
        {
         "legendgroup": "14",
         "legendgrouptitle": {
          "text": "--14--"
         },
         "line": {
          "color": "red",
          "width": 2
         },
         "marker": {
          "color": "red",
          "size": 2.2
         },
         "type": "scatter3d",
         "x": [
          609.9482421875,
          587.0223594093517
         ],
         "y": [
          -412.6420593261719,
          -601.8504561459902
         ],
         "z": [
          -623.2545166015625,
          -562.6361491563995
         ]
        },
        {
         "legendgroup": "14",
         "legendgrouptitle": {
          "text": "--14--"
         },
         "line": {
          "color": "green",
          "width": 2
         },
         "marker": {
          "color": "green",
          "size": 2.2
         },
         "type": "scatter3d",
         "x": [
          609.9482421875,
          808.2222609636117
         ],
         "y": [
          -412.6420593261719,
          -438.3369164127098
         ],
         "z": [
          -623.2545166015625,
          -628.4687085497474
         ]
        },
        {
         "legendgroup": "14",
         "legendgrouptitle": {
          "text": "--14--"
         },
         "line": {
          "color": "blue",
          "width": 2
         },
         "marker": {
          "color": "blue",
          "size": 2.2
         },
         "type": "scatter3d",
         "x": [
          609.9482421875,
          578.1463773431304
         ],
         "y": [
          -412.6420593261719,
          -561.3859014713298
         ],
         "z": [
          -623.2545166015625,
          -1099.556847916786
         ]
        },
        {
         "legendgroup": "15",
         "legendgrouptitle": {
          "text": "--15--"
         },
         "line": {
          "color": "red",
          "width": 2
         },
         "marker": {
          "color": "red",
          "size": 2.3
         },
         "type": "scatter3d",
         "x": [
          628.9194946289062,
          552.7999276479512
         ],
         "y": [
          -570.6920166015625,
          -742.7935653693638
         ],
         "z": [
          -702.5941162109375,
          -634.8676927533534
         ]
        },
        {
         "legendgroup": "15",
         "legendgrouptitle": {
          "text": "--15--"
         },
         "line": {
          "color": "green",
          "width": 2
         },
         "marker": {
          "color": "green",
          "size": 2.3
         },
         "type": "scatter3d",
         "x": [
          628.9194946289062,
          812.4300371756553
         ],
         "y": [
          -570.6920166015625,
          -650.0875206590141
         ],
         "z": [
          -702.5941162109375,
          -698.0958154583253
         ]
        },
        {
         "legendgroup": "15",
         "legendgrouptitle": {
          "text": "--15--"
         },
         "line": {
          "color": "blue",
          "width": 2
         },
         "marker": {
          "color": "blue",
          "size": 2.3
         },
         "type": "scatter3d",
         "x": [
          628.9194946289062,
          571.3818821029638
         ],
         "y": [
          -570.6920166015625,
          -730.3285343377012
         ],
         "z": [
          -702.5941162109375,
          -1172.9191159184738
         ]
        },
        {
         "legendgroup": "16",
         "legendgrouptitle": {
          "text": "--16--"
         },
         "line": {
          "color": "red",
          "width": 2
         },
         "marker": {
          "color": "red",
          "size": 2.4000000000000004
         },
         "type": "scatter3d",
         "x": [
          603.7391967773438,
          477.861181847706
         ],
         "y": [
          -745.4664306640625,
          -883.175985914686
         ],
         "z": [
          -778.8873291015625,
          -706.8400963299327
         ]
        },
        {
         "legendgroup": "16",
         "legendgrouptitle": {
          "text": "--16--"
         },
         "line": {
          "color": "green",
          "width": 2
         },
         "marker": {
          "color": "green",
          "size": 2.4000000000000004
         },
         "type": "scatter3d",
         "x": [
          603.7391967773438,
          755.1615380614435
         ],
         "y": [
          -745.4664306640625,
          -875.0221559351456
         ],
         "z": [
          -778.8873291015625,
          -761.9584009156063
         ]
        },
        {
         "legendgroup": "16",
         "legendgrouptitle": {
          "text": "--16--"
         },
         "line": {
          "color": "blue",
          "width": 2
         },
         "marker": {
          "color": "blue",
          "size": 2.4000000000000004
         },
         "type": "scatter3d",
         "x": [
          603.7391967773438,
          516.203492725528
         ],
         "y": [
          -745.4664306640625,
          -908.4731874672532
         ],
         "z": [
          -778.8873291015625,
          -1243.393839015749
         ]
        },
        {
         "legendgroup": "17",
         "legendgrouptitle": {
          "text": "--17--"
         },
         "line": {
          "color": "red",
          "width": 2
         },
         "marker": {
          "color": "red",
          "size": 2.5
         },
         "type": "scatter3d",
         "x": [
          524.7312622070312,
          359.3887172706824
         ],
         "y": [
          -921.5731811523438,
          -1007.7477600873062
         ],
         "z": [
          -852.9414672851562,
          -780.5827443876825
         ]
        },
        {
         "legendgroup": "17",
         "legendgrouptitle": {
          "text": "--17--"
         },
         "line": {
          "color": "green",
          "width": 2
         },
         "marker": {
          "color": "green",
          "size": 2.5
         },
         "type": "scatter3d",
         "x": [
          524.7312622070312,
          626.6011126130032
         ],
         "y": [
          -921.5731811523438,
          -1090.833998252917
         ],
         "z": [
          -852.9414672851562,
          -821.7435607414277
         ]
        },
        {
         "legendgroup": "17",
         "legendgrouptitle": {
          "text": "--17--"
         },
         "line": {
          "color": "blue",
          "width": 2
         },
         "marker": {
          "color": "blue",
          "size": 2.5
         },
         "type": "scatter3d",
         "x": [
          524.7312622070312,
          405.24338593300325
         ],
         "y": [
          -921.5731811523438,
          -1078.1921004243347
         ],
         "z": [
          -852.9414672851562,
          -1312.4990388141173
         ]
        },
        {
         "legendgroup": "18",
         "legendgrouptitle": {
          "text": "--18--"
         },
         "line": {
          "color": "red",
          "width": 2
         },
         "marker": {
          "color": "red",
          "size": 2.6
         },
         "type": "scatter3d",
         "x": [
          387.2597351074219,
          200.2003470966062
         ],
         "y": [
          -1077.718017578125,
          -1098.3718391084392
         ],
         "z": [
          -927.5977783203125,
          -859.9057919909615
         ]
        },
        {
         "legendgroup": "18",
         "legendgrouptitle": {
          "text": "--18--"
         },
         "line": {
          "color": "green",
          "width": 2
         },
         "marker": {
          "color": "green",
          "size": 2.6
         },
         "type": "scatter3d",
         "x": [
          387.2597351074219,
          424.94134122059387
         ],
         "y": [
          -1077.718017578125,
          -1268.7086490831362
         ],
         "z": [
          -927.5977783203125,
          -881.7428414209038
         ]
        },
        {
         "legendgroup": "18",
         "legendgrouptitle": {
          "text": "--18--"
         },
         "line": {
          "color": "blue",
          "width": 2
         },
         "marker": {
          "color": "blue",
          "size": 2.6
         },
         "type": "scatter3d",
         "x": [
          387.2597351074219,
          237.49154093408262
         ],
         "y": [
          -1077.718017578125,
          -1216.8222575726097
         ],
         "z": [
          -927.5977783203125,
          -1383.9085259798585
         ]
        },
        {
         "legendgroup": "19",
         "legendgrouptitle": {
          "text": "--19--"
         },
         "line": {
          "color": "red",
          "width": 2
         },
         "marker": {
          "color": "red",
          "size": 2.7
         },
         "type": "scatter3d",
         "x": [
          197.52716064453125,
          13.24805083113938
         ],
         "y": [
          -1190.3660888671875,
          -1138.2892227688535
         ],
         "z": [
          -1006.3551025390625,
          -948.6557983512297
         ]
        },
        {
         "legendgroup": "19",
         "legendgrouptitle": {
          "text": "--19--"
         },
         "line": {
          "color": "green",
          "width": 2
         },
         "marker": {
          "color": "green",
          "size": 2.7
         },
         "type": "scatter3d",
         "x": [
          197.52716064453125,
          162.83999436015273
         ],
         "y": [
          -1190.3660888671875,
          -1378.3327325058817
         ],
         "z": [
          -1006.3551025390625,
          -947.4879523246688
         ]
        },
        {
         "legendgroup": "19",
         "legendgrouptitle": {
          "text": "--19--"
         },
         "line": {
          "color": "blue",
          "width": 2
         },
         "marker": {
          "color": "blue",
          "size": 2.7
         },
         "type": "scatter3d",
         "x": [
          197.52716064453125,
          23.637645047275072
         ],
         "y": [
          -1190.3660888671875,
          -1300.94809736598
         ],
         "z": [
          -1006.3551025390625,
          -1461.9141610174606
         ]
        },
        {
         "legendgroup": "20",
         "legendgrouptitle": {
          "text": "--20--"
         },
         "line": {
          "color": "red",
          "width": 2
         },
         "marker": {
          "color": "red",
          "size": 2.8
         },
         "type": "scatter3d",
         "x": [
          -28.204225540161133,
          -181.05975888345418
         ],
         "y": [
          -1238.1949462890625,
          -1116.5734661642784
         ],
         "z": [
          -1093.6656494140625,
          -1050.730797619813
         ]
        },
        {
         "legendgroup": "20",
         "legendgrouptitle": {
          "text": "--20--"
         },
         "line": {
          "color": "green",
          "width": 2
         },
         "marker": {
          "color": "green",
          "size": 2.8
         },
         "type": "scatter3d",
         "x": [
          -28.204225540161133,
          -133.2891095208496
         ],
         "y": [
          -1238.1949462890625,
          -1394.2336817303144
         ],
         "z": [
          -1093.6656494140625,
          -1025.7754424570921
         ]
        },
        {
         "legendgroup": "20",
         "legendgrouptitle": {
          "text": "--20--"
         },
         "line": {
          "color": "blue",
          "width": 2
         },
         "marker": {
          "color": "blue",
          "size": 2.8
         },
         "type": "scatter3d",
         "x": [
          -28.204225540161133,
          -215.1593184953724
         ],
         "y": [
          -1238.1949462890625,
          -1311.514819709906
         ],
         "z": [
          -1093.6656494140625,
          -1551.5651901210388
         ]
        },
        {
         "legendgroup": "21",
         "legendgrouptitle": {
          "text": "--21--"
         },
         "line": {
          "color": "red",
          "width": 2
         },
         "marker": {
          "color": "red",
          "size": 2.9000000000000004
         },
         "type": "scatter3d",
         "x": [
          -264.17193603515625,
          -357.49638653528683
         ],
         "y": [
          -1204.08349609375,
          -1028.9807382098506
         ],
         "z": [
          -1195.724609375,
          -1170.633353521592
         ]
        },
        {
         "legendgroup": "21",
         "legendgrouptitle": {
          "text": "--21--"
         },
         "line": {
          "color": "green",
          "width": 2
         },
         "marker": {
          "color": "green",
          "size": 2.9000000000000004
         },
         "type": "scatter3d",
         "x": [
          -264.17193603515625,
          -424.888958294859
         ],
         "y": [
          -1204.08349609375,
          -1299.868452506173
         ],
         "z": [
          -1195.724609375,
          -1125.0473083438735
         ]
        },
        {
         "legendgroup": "21",
         "legendgrouptitle": {
          "text": "--21--"
         },
         "line": {
          "color": "blue",
          "width": 2
         },
         "marker": {
          "color": "blue",
          "size": 2.9000000000000004
         },
         "type": "scatter3d",
         "x": [
          -264.17193603515625,
          -448.91137576756194
         ],
         "y": [
          -1204.08349609375,
          -1236.1251005443262
         ],
         "z": [
          -1195.724609375,
          -1659.2380126241292
         ]
        },
        {
         "legendgroup": "22",
         "legendgrouptitle": {
          "text": "--22--"
         },
         "line": {
          "color": "red",
          "width": 2
         },
         "marker": {
          "color": "red",
          "size": 3
         },
         "type": "scatter3d",
         "x": [
          -474.38037109375,
          -486.9711030093659
         ],
         "y": [
          -1082.0565185546875,
          -882.5786380734803
         ],
         "z": [
          -1319.510498046875,
          -1312.4359896855603
         ]
        },
        {
         "legendgroup": "22",
         "legendgrouptitle": {
          "text": "--22--"
         },
         "line": {
          "color": "green",
          "width": 2
         },
         "marker": {
          "color": "green",
          "size": 3
         },
         "type": "scatter3d",
         "x": [
          -474.38037109375,
          -662.7442509914841
         ],
         "y": [
          -1082.0565185546875,
          -1096.275910201502
         ],
         "z": [
          -1319.510498046875,
          -1253.8077001531285
         ]
        },
        {
         "legendgroup": "22",
         "legendgrouptitle": {
          "text": "--22--"
         },
         "line": {
          "color": "blue",
          "width": 2
         },
         "marker": {
          "color": "blue",
          "size": 3
         },
         "type": "scatter3d",
         "x": [
          -474.38037109375,
          -639.4659969765985
         ],
         "y": [
          -1082.0565185546875,
          -1075.7398244431859
         ],
         "z": [
          -1319.510498046875,
          -1791.4287489149358
         ]
        }
       ],
       "layout": {
        "scene": {
         "aspectmode": "data",
         "aspectratio": {
          "x": 1,
          "y": 1,
          "z": 1
         }
        },
        "template": {
         "data": {
          "bar": [
           {
            "error_x": {
             "color": "#2a3f5f"
            },
            "error_y": {
             "color": "#2a3f5f"
            },
            "marker": {
             "line": {
              "color": "#E5ECF6",
              "width": 0.5
             },
             "pattern": {
              "fillmode": "overlay",
              "size": 10,
              "solidity": 0.2
             }
            },
            "type": "bar"
           }
          ],
          "barpolar": [
           {
            "marker": {
             "line": {
              "color": "#E5ECF6",
              "width": 0.5
             },
             "pattern": {
              "fillmode": "overlay",
              "size": 10,
              "solidity": 0.2
             }
            },
            "type": "barpolar"
           }
          ],
          "carpet": [
           {
            "aaxis": {
             "endlinecolor": "#2a3f5f",
             "gridcolor": "white",
             "linecolor": "white",
             "minorgridcolor": "white",
             "startlinecolor": "#2a3f5f"
            },
            "baxis": {
             "endlinecolor": "#2a3f5f",
             "gridcolor": "white",
             "linecolor": "white",
             "minorgridcolor": "white",
             "startlinecolor": "#2a3f5f"
            },
            "type": "carpet"
           }
          ],
          "choropleth": [
           {
            "colorbar": {
             "outlinewidth": 0,
             "ticks": ""
            },
            "type": "choropleth"
           }
          ],
          "contour": [
           {
            "colorbar": {
             "outlinewidth": 0,
             "ticks": ""
            },
            "colorscale": [
             [
              0,
              "#0d0887"
             ],
             [
              0.1111111111111111,
              "#46039f"
             ],
             [
              0.2222222222222222,
              "#7201a8"
             ],
             [
              0.3333333333333333,
              "#9c179e"
             ],
             [
              0.4444444444444444,
              "#bd3786"
             ],
             [
              0.5555555555555556,
              "#d8576b"
             ],
             [
              0.6666666666666666,
              "#ed7953"
             ],
             [
              0.7777777777777778,
              "#fb9f3a"
             ],
             [
              0.8888888888888888,
              "#fdca26"
             ],
             [
              1,
              "#f0f921"
             ]
            ],
            "type": "contour"
           }
          ],
          "contourcarpet": [
           {
            "colorbar": {
             "outlinewidth": 0,
             "ticks": ""
            },
            "type": "contourcarpet"
           }
          ],
          "heatmap": [
           {
            "colorbar": {
             "outlinewidth": 0,
             "ticks": ""
            },
            "colorscale": [
             [
              0,
              "#0d0887"
             ],
             [
              0.1111111111111111,
              "#46039f"
             ],
             [
              0.2222222222222222,
              "#7201a8"
             ],
             [
              0.3333333333333333,
              "#9c179e"
             ],
             [
              0.4444444444444444,
              "#bd3786"
             ],
             [
              0.5555555555555556,
              "#d8576b"
             ],
             [
              0.6666666666666666,
              "#ed7953"
             ],
             [
              0.7777777777777778,
              "#fb9f3a"
             ],
             [
              0.8888888888888888,
              "#fdca26"
             ],
             [
              1,
              "#f0f921"
             ]
            ],
            "type": "heatmap"
           }
          ],
          "heatmapgl": [
           {
            "colorbar": {
             "outlinewidth": 0,
             "ticks": ""
            },
            "colorscale": [
             [
              0,
              "#0d0887"
             ],
             [
              0.1111111111111111,
              "#46039f"
             ],
             [
              0.2222222222222222,
              "#7201a8"
             ],
             [
              0.3333333333333333,
              "#9c179e"
             ],
             [
              0.4444444444444444,
              "#bd3786"
             ],
             [
              0.5555555555555556,
              "#d8576b"
             ],
             [
              0.6666666666666666,
              "#ed7953"
             ],
             [
              0.7777777777777778,
              "#fb9f3a"
             ],
             [
              0.8888888888888888,
              "#fdca26"
             ],
             [
              1,
              "#f0f921"
             ]
            ],
            "type": "heatmapgl"
           }
          ],
          "histogram": [
           {
            "marker": {
             "pattern": {
              "fillmode": "overlay",
              "size": 10,
              "solidity": 0.2
             }
            },
            "type": "histogram"
           }
          ],
          "histogram2d": [
           {
            "colorbar": {
             "outlinewidth": 0,
             "ticks": ""
            },
            "colorscale": [
             [
              0,
              "#0d0887"
             ],
             [
              0.1111111111111111,
              "#46039f"
             ],
             [
              0.2222222222222222,
              "#7201a8"
             ],
             [
              0.3333333333333333,
              "#9c179e"
             ],
             [
              0.4444444444444444,
              "#bd3786"
             ],
             [
              0.5555555555555556,
              "#d8576b"
             ],
             [
              0.6666666666666666,
              "#ed7953"
             ],
             [
              0.7777777777777778,
              "#fb9f3a"
             ],
             [
              0.8888888888888888,
              "#fdca26"
             ],
             [
              1,
              "#f0f921"
             ]
            ],
            "type": "histogram2d"
           }
          ],
          "histogram2dcontour": [
           {
            "colorbar": {
             "outlinewidth": 0,
             "ticks": ""
            },
            "colorscale": [
             [
              0,
              "#0d0887"
             ],
             [
              0.1111111111111111,
              "#46039f"
             ],
             [
              0.2222222222222222,
              "#7201a8"
             ],
             [
              0.3333333333333333,
              "#9c179e"
             ],
             [
              0.4444444444444444,
              "#bd3786"
             ],
             [
              0.5555555555555556,
              "#d8576b"
             ],
             [
              0.6666666666666666,
              "#ed7953"
             ],
             [
              0.7777777777777778,
              "#fb9f3a"
             ],
             [
              0.8888888888888888,
              "#fdca26"
             ],
             [
              1,
              "#f0f921"
             ]
            ],
            "type": "histogram2dcontour"
           }
          ],
          "mesh3d": [
           {
            "colorbar": {
             "outlinewidth": 0,
             "ticks": ""
            },
            "type": "mesh3d"
           }
          ],
          "parcoords": [
           {
            "line": {
             "colorbar": {
              "outlinewidth": 0,
              "ticks": ""
             }
            },
            "type": "parcoords"
           }
          ],
          "pie": [
           {
            "automargin": true,
            "type": "pie"
           }
          ],
          "scatter": [
           {
            "marker": {
             "colorbar": {
              "outlinewidth": 0,
              "ticks": ""
             }
            },
            "type": "scatter"
           }
          ],
          "scatter3d": [
           {
            "line": {
             "colorbar": {
              "outlinewidth": 0,
              "ticks": ""
             }
            },
            "marker": {
             "colorbar": {
              "outlinewidth": 0,
              "ticks": ""
             }
            },
            "type": "scatter3d"
           }
          ],
          "scattercarpet": [
           {
            "marker": {
             "colorbar": {
              "outlinewidth": 0,
              "ticks": ""
             }
            },
            "type": "scattercarpet"
           }
          ],
          "scattergeo": [
           {
            "marker": {
             "colorbar": {
              "outlinewidth": 0,
              "ticks": ""
             }
            },
            "type": "scattergeo"
           }
          ],
          "scattergl": [
           {
            "marker": {
             "colorbar": {
              "outlinewidth": 0,
              "ticks": ""
             }
            },
            "type": "scattergl"
           }
          ],
          "scattermapbox": [
           {
            "marker": {
             "colorbar": {
              "outlinewidth": 0,
              "ticks": ""
             }
            },
            "type": "scattermapbox"
           }
          ],
          "scatterpolar": [
           {
            "marker": {
             "colorbar": {
              "outlinewidth": 0,
              "ticks": ""
             }
            },
            "type": "scatterpolar"
           }
          ],
          "scatterpolargl": [
           {
            "marker": {
             "colorbar": {
              "outlinewidth": 0,
              "ticks": ""
             }
            },
            "type": "scatterpolargl"
           }
          ],
          "scatterternary": [
           {
            "marker": {
             "colorbar": {
              "outlinewidth": 0,
              "ticks": ""
             }
            },
            "type": "scatterternary"
           }
          ],
          "surface": [
           {
            "colorbar": {
             "outlinewidth": 0,
             "ticks": ""
            },
            "colorscale": [
             [
              0,
              "#0d0887"
             ],
             [
              0.1111111111111111,
              "#46039f"
             ],
             [
              0.2222222222222222,
              "#7201a8"
             ],
             [
              0.3333333333333333,
              "#9c179e"
             ],
             [
              0.4444444444444444,
              "#bd3786"
             ],
             [
              0.5555555555555556,
              "#d8576b"
             ],
             [
              0.6666666666666666,
              "#ed7953"
             ],
             [
              0.7777777777777778,
              "#fb9f3a"
             ],
             [
              0.8888888888888888,
              "#fdca26"
             ],
             [
              1,
              "#f0f921"
             ]
            ],
            "type": "surface"
           }
          ],
          "table": [
           {
            "cells": {
             "fill": {
              "color": "#EBF0F8"
             },
             "line": {
              "color": "white"
             }
            },
            "header": {
             "fill": {
              "color": "#C8D4E3"
             },
             "line": {
              "color": "white"
             }
            },
            "type": "table"
           }
          ]
         },
         "layout": {
          "annotationdefaults": {
           "arrowcolor": "#2a3f5f",
           "arrowhead": 0,
           "arrowwidth": 1
          },
          "autotypenumbers": "strict",
          "coloraxis": {
           "colorbar": {
            "outlinewidth": 0,
            "ticks": ""
           }
          },
          "colorscale": {
           "diverging": [
            [
             0,
             "#8e0152"
            ],
            [
             0.1,
             "#c51b7d"
            ],
            [
             0.2,
             "#de77ae"
            ],
            [
             0.3,
             "#f1b6da"
            ],
            [
             0.4,
             "#fde0ef"
            ],
            [
             0.5,
             "#f7f7f7"
            ],
            [
             0.6,
             "#e6f5d0"
            ],
            [
             0.7,
             "#b8e186"
            ],
            [
             0.8,
             "#7fbc41"
            ],
            [
             0.9,
             "#4d9221"
            ],
            [
             1,
             "#276419"
            ]
           ],
           "sequential": [
            [
             0,
             "#0d0887"
            ],
            [
             0.1111111111111111,
             "#46039f"
            ],
            [
             0.2222222222222222,
             "#7201a8"
            ],
            [
             0.3333333333333333,
             "#9c179e"
            ],
            [
             0.4444444444444444,
             "#bd3786"
            ],
            [
             0.5555555555555556,
             "#d8576b"
            ],
            [
             0.6666666666666666,
             "#ed7953"
            ],
            [
             0.7777777777777778,
             "#fb9f3a"
            ],
            [
             0.8888888888888888,
             "#fdca26"
            ],
            [
             1,
             "#f0f921"
            ]
           ],
           "sequentialminus": [
            [
             0,
             "#0d0887"
            ],
            [
             0.1111111111111111,
             "#46039f"
            ],
            [
             0.2222222222222222,
             "#7201a8"
            ],
            [
             0.3333333333333333,
             "#9c179e"
            ],
            [
             0.4444444444444444,
             "#bd3786"
            ],
            [
             0.5555555555555556,
             "#d8576b"
            ],
            [
             0.6666666666666666,
             "#ed7953"
            ],
            [
             0.7777777777777778,
             "#fb9f3a"
            ],
            [
             0.8888888888888888,
             "#fdca26"
            ],
            [
             1,
             "#f0f921"
            ]
           ]
          },
          "colorway": [
           "#636efa",
           "#EF553B",
           "#00cc96",
           "#ab63fa",
           "#FFA15A",
           "#19d3f3",
           "#FF6692",
           "#B6E880",
           "#FF97FF",
           "#FECB52"
          ],
          "font": {
           "color": "#2a3f5f"
          },
          "geo": {
           "bgcolor": "white",
           "lakecolor": "white",
           "landcolor": "#E5ECF6",
           "showlakes": true,
           "showland": true,
           "subunitcolor": "white"
          },
          "hoverlabel": {
           "align": "left"
          },
          "hovermode": "closest",
          "mapbox": {
           "style": "light"
          },
          "paper_bgcolor": "white",
          "plot_bgcolor": "#E5ECF6",
          "polar": {
           "angularaxis": {
            "gridcolor": "white",
            "linecolor": "white",
            "ticks": ""
           },
           "bgcolor": "#E5ECF6",
           "radialaxis": {
            "gridcolor": "white",
            "linecolor": "white",
            "ticks": ""
           }
          },
          "scene": {
           "xaxis": {
            "backgroundcolor": "#E5ECF6",
            "gridcolor": "white",
            "gridwidth": 2,
            "linecolor": "white",
            "showbackground": true,
            "ticks": "",
            "zerolinecolor": "white"
           },
           "yaxis": {
            "backgroundcolor": "#E5ECF6",
            "gridcolor": "white",
            "gridwidth": 2,
            "linecolor": "white",
            "showbackground": true,
            "ticks": "",
            "zerolinecolor": "white"
           },
           "zaxis": {
            "backgroundcolor": "#E5ECF6",
            "gridcolor": "white",
            "gridwidth": 2,
            "linecolor": "white",
            "showbackground": true,
            "ticks": "",
            "zerolinecolor": "white"
           }
          },
          "shapedefaults": {
           "line": {
            "color": "#2a3f5f"
           }
          },
          "ternary": {
           "aaxis": {
            "gridcolor": "white",
            "linecolor": "white",
            "ticks": ""
           },
           "baxis": {
            "gridcolor": "white",
            "linecolor": "white",
            "ticks": ""
           },
           "bgcolor": "#E5ECF6",
           "caxis": {
            "gridcolor": "white",
            "linecolor": "white",
            "ticks": ""
           }
          },
          "title": {
           "x": 0.05
          },
          "xaxis": {
           "automargin": true,
           "gridcolor": "white",
           "linecolor": "white",
           "ticks": "",
           "title": {
            "standoff": 15
           },
           "zerolinecolor": "white",
           "zerolinewidth": 2
          },
          "yaxis": {
           "automargin": true,
           "gridcolor": "white",
           "linecolor": "white",
           "ticks": "",
           "title": {
            "standoff": 15
           },
           "zerolinecolor": "white",
           "zerolinewidth": 2
          }
         }
        },
        "title": {
         "text": "8-SA"
        }
       }
      },
      "text/html": [
       "<div>                            <div id=\"4defe067-14e0-4182-9455-46171764ebc0\" class=\"plotly-graph-div\" style=\"height:525px; width:100%;\"></div>            <script type=\"text/javascript\">                require([\"plotly\"], function(Plotly) {                    window.PLOTLYENV=window.PLOTLYENV || {};                                    if (document.getElementById(\"4defe067-14e0-4182-9455-46171764ebc0\")) {                    Plotly.newPlot(                        \"4defe067-14e0-4182-9455-46171764ebc0\",                        [{\"legendgroup\":\"0\",\"legendgrouptitle\":{\"text\":\"origins\"},\"line\":{\"color\":\"black\",\"width\":2},\"marker\":{\"color\":\"black\",\"size\":1},\"type\":\"scatter3d\",\"x\":[0.0,9.376324653625488,28.280969619750977,56.56397247314453,94.37006378173828,141.63282775878906,198.32630920410156,263.6632995605469,336.54364013671875,413.8230895996094,490.74700927734375,559.6056518554688,609.9482421875,628.9194946289062,603.7391967773438,524.7312622070312,387.2597351074219,197.52716064453125,-28.204225540161133,-264.17193603515625,-474.38037109375],\"y\":[0.0,2.7785873413085938,7.450259208679199,11.630290985107422,13.846963882446289,12.394479751586914,3.522395133972168,-15.910359382629395,-49.79405212402344,-102.29430389404297,-177.89385986328125,-280.7816467285156,-412.6420593261719,-570.6920166015625,-745.4664306640625,-921.5731811523438,-1077.718017578125,-1190.3660888671875,-1238.1949462890625,-1204.08349609375,-1082.0565185546875],\"z\":[0.0,-8.71945571899414,-26.26586151123047,-52.56747055053711,-87.38703155517578,-130.8430633544922,-182.78610229492188,-242.7041778564453,-309.83905029296875,-383.200927734375,-461.3296203613281,-542.0836181640625,-623.2545166015625,-702.5941162109375,-778.8873291015625,-852.9414672851562,-927.5977783203125,-1006.3551025390625,-1093.6656494140625,-1195.724609375,-1319.510498046875]},{\"legendgroup\":\"1\",\"legendgrouptitle\":{\"text\":\"finish\"},\"line\":{\"color\":\"black\",\"width\":2},\"marker\":{\"color\":\"black\",\"size\":1},\"type\":\"scatter3d\",\"x\":[0.0,-1.4303661837634998,-4.0989309443223405,-8.026387677413126,-12.740773609054457,-17.55156586954584,-20.959366362458553,-21.08518060838486,-14.947549665440022,-0.02402412984821467,26.246500627873047,64.78061256529031,114.26319524722084,170.1431382620334,225.18334356709437,270.0566361921014,293.05571982449186,284.2450763554776,234.50798441156002,137.62061961410052,-3.4706713494147152],\"y\":[-500.0,-497.1014238182281,-491.4721582920007,-484.07302214276905,-474.2648168393625,-461.0019950757216,-444.7742027056637,-425.2304703932115,-402.95955763717836,-379.59483618453123,-358.69194638169574,-346.0514943357019,-348.40491660982707,-372.20325645793343,-421.5771174863547,-498.4211384009109,-600.2414388155968,-720.4494797704518,-848.0981076859329,-964.6211050626925,-1046.5080394376514],\"z\":[0.0,-6.933433242497188,-20.977822674571176,-42.256761085725984,-70.82931329365178,-107.261154053997,-152.06228650447764,-205.61846950715946,-268.2689984876051,-340.3642466163279,-421.94270152190956,-512.2838281512455,-610.2190367311005,-713.8398680924679,-821.2096495664531,-930.9362336444777,-1042.2351205688342,-1153.5229780750467,-1263.3911668064882,-1372.417861952816,-1483.7674927812413]},{\"legendgroup\":\"2\",\"legendgrouptitle\":{\"text\":\"--2--\"},\"line\":{\"color\":\"red\",\"width\":2},\"marker\":{\"color\":\"red\",\"size\":1.0},\"type\":\"scatter3d\",\"x\":[0.0,200.0],\"y\":[0.0,0.0],\"z\":[0.0,0.0]},{\"legendgroup\":\"2\",\"legendgrouptitle\":{\"text\":\"--2--\"},\"line\":{\"color\":\"green\",\"width\":2},\"marker\":{\"color\":\"green\",\"size\":1.0},\"type\":\"scatter3d\",\"x\":[0.0,0.0],\"y\":[0.0,200.0],\"z\":[0.0,0.0]},{\"legendgroup\":\"2\",\"legendgrouptitle\":{\"text\":\"--2--\"},\"line\":{\"color\":\"blue\",\"width\":2},\"marker\":{\"color\":\"blue\",\"size\":1.0},\"type\":\"scatter3d\",\"x\":[0.0,0.0],\"y\":[0.0,0.0],\"z\":[0.0,-500.0]},{\"legendgroup\":\"3\",\"legendgrouptitle\":{\"text\":\"--3--\"},\"line\":{\"color\":\"red\",\"width\":2},\"marker\":{\"color\":\"red\",\"size\":1.1},\"type\":\"scatter3d\",\"x\":[9.376324653625488,209.3290814734262],\"y\":[2.7785873413085938,-1.5424143094830844],\"z\":[-8.71945571899414,-8.24618529367086]},{\"legendgroup\":\"3\",\"legendgrouptitle\":{\"text\":\"--3--\"},\"line\":{\"color\":\"green\",\"width\":2},\"marker\":{\"color\":\"green\",\"size\":1.1},\"type\":\"scatter3d\",\"x\":[9.376324653625488,13.699000988581084],\"y\":[2.7785873413085938,202.73059180512328],\"z\":[-8.71945571899414,-9.433864709592921]},{\"legendgroup\":\"3\",\"legendgrouptitle\":{\"text\":\"--3--\"},\"line\":{\"color\":\"blue\",\"width\":2},\"marker\":{\"color\":\"blue\",\"size\":1.1},\"type\":\"scatter3d\",\"x\":[9.376324653625488,10.520629750739417],\"y\":[2.7785873413085938,0.9674143158753852],\"z\":[-8.71945571899414,-508.7148659160446]},{\"legendgroup\":\"4\",\"legendgrouptitle\":{\"text\":\"--4--\"},\"line\":{\"color\":\"red\",\"width\":2},\"marker\":{\"color\":\"red\",\"size\":1.2},\"type\":\"scatter3d\",\"x\":[28.280969619750977,227.85668677420946],\"y\":[7.450259208679199,-5.486515158076994],\"z\":[-26.26586151123047,-24.79175457235551]},{\"legendgroup\":\"4\",\"legendgrouptitle\":{\"text\":\"--4--\"},\"line\":{\"color\":\"green\",\"width\":2},\"marker\":{\"color\":\"green\",\"size\":1.2},\"type\":\"scatter3d\",\"x\":[28.280969619750977,41.232929845380305],\"y\":[7.450259208679199,207.01922620895115],\"z\":[-26.26586151123047,-28.381077045894187]},{\"legendgroup\":\"4\",\"legendgrouptitle\":{\"text\":\"--4--\"},\"line\":{\"color\":\"blue\",\"width\":2},\"marker\":{\"color\":\"blue\",\"size\":1.2},\"type\":\"scatter3d\",\"x\":[28.280969619750977,31.616243781378554],\"y\":[7.450259208679199,1.9347813123367574],\"z\":[-26.26586151123047,-526.2243152349791]},{\"legendgroup\":\"5\",\"legendgrouptitle\":{\"text\":\"--5--\"},\"line\":{\"color\":\"red\",\"width\":2},\"marker\":{\"color\":\"red\",\"size\":1.3},\"type\":\"scatter3d\",\"x\":[56.56397247314453,254.87167317604892],\"y\":[11.630290985107422,-14.144445281232908],\"z\":[-52.56747055053711,-49.44996957573452]},{\"legendgroup\":\"5\",\"legendgrouptitle\":{\"text\":\"--5--\"},\"line\":{\"color\":\"green\",\"width\":2},\"marker\":{\"color\":\"green\",\"size\":1.3},\"type\":\"scatter3d\",\"x\":[56.56397247314453,82.4001165333676],\"y\":[11.630290985107422,209.911616236258],\"z\":[-52.56747055053711,-56.69175433646156]},{\"legendgroup\":\"5\",\"legendgrouptitle\":{\"text\":\"--5--\"},\"line\":{\"color\":\"blue\",\"width\":2},\"marker\":{\"color\":\"blue\",\"size\":1.3},\"type\":\"scatter3d\",\"x\":[56.56397247314453,62.96197119671784],\"y\":[11.630290985107422,0.4000229985345154],\"z\":[-52.56747055053711,-552.400389327685]},{\"legendgroup\":\"6\",\"legendgrouptitle\":{\"text\":\"--6--\"},\"line\":{\"color\":\"red\",\"width\":2},\"marker\":{\"color\":\"red\",\"size\":1.4},\"type\":\"scatter3d\",\"x\":[94.37006378173828,289.68630121814033],\"y\":[13.846963882446289,-28.82527367439978],\"z\":[-87.38703155517578,-81.85100991693173]},{\"legendgroup\":\"6\",\"legendgrouptitle\":{\"text\":\"--6--\"},\"line\":{\"color\":\"green\",\"width\":2},\"marker\":{\"color\":\"green\",\"size\":1.4},\"type\":\"scatter3d\",\"x\":[94.37006378173828,137.21439873805537],\"y\":[13.846963882446289,209.0916761711698],\"z\":[-87.38703155517578,-94.01011885978538]},{\"legendgroup\":\"6\",\"legendgrouptitle\":{\"text\":\"--6--\"},\"line\":{\"color\":\"blue\",\"width\":2},\"marker\":{\"color\":\"blue\",\"size\":1.4},\"type\":\"scatter3d\",\"x\":[94.37006378173828,104.34827624625171],\"y\":[13.846963882446289,-5.287831841847417],\"z\":[-87.38703155517578,-586.921109340268]},{\"legendgroup\":\"7\",\"legendgrouptitle\":{\"text\":\"--7--\"},\"line\":{\"color\":\"red\",\"width\":2},\"marker\":{\"color\":\"red\",\"size\":1.5},\"type\":\"scatter3d\",\"x\":[141.63282775878906,331.1486849998902],\"y\":[12.394479751586914,-50.88987833332013],\"z\":[-130.8430633544922,-121.96444432043926]},{\"legendgroup\":\"7\",\"legendgrouptitle\":{\"text\":\"--7--\"},\"line\":{\"color\":\"green\",\"width\":2},\"marker\":{\"color\":\"green\",\"size\":1.5},\"type\":\"scatter3d\",\"x\":[141.63282775878906,205.30658521012302],\"y\":[12.394479751586914,201.75306968251033],\"z\":[-130.8430633544922,-140.27582707469026]},{\"legendgroup\":\"7\",\"legendgrouptitle\":{\"text\":\"--7--\"},\"line\":{\"color\":\"blue\",\"width\":2},\"marker\":{\"color\":\"blue\",\"size\":1.5},\"type\":\"scatter3d\",\"x\":[141.63282775878906,155.18653255657387],\"y\":[12.394479751586914,-17.01793696670282],\"z\":[-130.8430633544922,-629.7931679030775]},{\"legendgroup\":\"8\",\"legendgrouptitle\":{\"text\":\"--8--\"},\"line\":{\"color\":\"red\",\"width\":2},\"marker\":{\"color\":\"red\",\"size\":1.6},\"type\":\"scatter3d\",\"x\":[198.32630920410156,377.94458746538595],\"y\":[3.522395133972168,-83.42601054440179],\"z\":[-182.78610229492188,-169.47261798611953]},{\"legendgroup\":\"8\",\"legendgrouptitle\":{\"text\":\"--8--\"},\"line\":{\"color\":\"green\",\"width\":2},\"marker\":{\"color\":\"green\",\"size\":1.6},\"type\":\"scatter3d\",\"x\":[198.32630920410156,286.04057943072564],\"y\":[3.522395133972168,182.8410342698265],\"z\":[-182.78610229492188,-195.07562861109957]},{\"legendgroup\":\"8\",\"legendgrouptitle\":{\"text\":\"--8--\"},\"line\":{\"color\":\"blue\",\"width\":2},\"marker\":{\"color\":\"blue\",\"size\":1.6},\"type\":\"scatter3d\",\"x\":[198.32630920410156,214.811323812563],\"y\":[3.522395133972168,-38.66768133951271],\"z\":[-182.78610229492188,-680.7301169597438]},{\"legendgroup\":\"9\",\"legendgrouptitle\":{\"text\":\"--9--\"},\"line\":{\"color\":\"red\",\"width\":2},\"marker\":{\"color\":\"red\",\"size\":1.7000000000000002},\"type\":\"scatter3d\",\"x\":[263.6632995605469,427.9052240990603],\"y\":[-15.910359382629395,-128.44902696948077],\"z\":[-242.7041778564453,-223.74004007848563]},{\"legendgroup\":\"9\",\"legendgrouptitle\":{\"text\":\"--9--\"},\"line\":{\"color\":\"green\",\"width\":2},\"marker\":{\"color\":\"green\",\"size\":1.7000000000000002},\"type\":\"scatter3d\",\"x\":[263.6632995605469,377.5626916281196],\"y\":[-15.910359382629395,147.81768502160344],\"z\":[-242.7041778564453,-257.53846119615963]},{\"legendgroup\":\"9\",\"legendgrouptitle\":{\"text\":\"--9--\"},\"line\":{\"color\":\"blue\",\"width\":2},\"marker\":{\"color\":\"blue\",\"size\":1.7000000000000002},\"type\":\"scatter3d\",\"x\":[263.6632995605469,281.60743344230303],\"y\":[-15.910359382629395,-73.36554699337421],\"z\":[-242.7041778564453,-739.0678645578878]},{\"legendgroup\":\"10\",\"legendgrouptitle\":{\"text\":\"--10--\"},\"line\":{\"color\":\"red\",\"width\":2},\"marker\":{\"color\":\"red\",\"size\":1.8},\"type\":\"scatter3d\",\"x\":[336.54364013671875,478.6242075293087],\"y\":[-49.79405212402344,-188.1569351388804],\"z\":[-309.83905029296875,-283.9773996647372]},{\"legendgroup\":\"10\",\"legendgrouptitle\":{\"text\":\"--10--\"},\"line\":{\"color\":\"green\",\"width\":2},\"marker\":{\"color\":\"green\",\"size\":1.8},\"type\":\"scatter3d\",\"x\":[336.54364013671875,477.14011605758225],\"y\":[-49.79405212402344,91.47215008123851],\"z\":[-309.83905029296875,-326.4670710151142]},{\"legendgroup\":\"10\",\"legendgrouptitle\":{\"text\":\"--10--\"},\"line\":{\"color\":\"blue\",\"width\":2},\"marker\":{\"color\":\"blue\",\"size\":1.8},\"type\":\"scatter3d\",\"x\":[336.54364013671875,353.4520936500033],\"y\":[-49.79405212402344,-124.77624660707477],\"z\":[-309.83905029296875,-803.8954992037131]},{\"legendgroup\":\"11\",\"legendgrouptitle\":{\"text\":\"--11--\"},\"line\":{\"color\":\"red\",\"width\":2},\"marker\":{\"color\":\"red\",\"size\":1.9},\"type\":\"scatter3d\",\"x\":[413.8230895996094,525.9515862193304],\"y\":[-102.29430389404297,-264.40088023491114],\"z\":[-383.200927734375,-349.3090680503223]},{\"legendgroup\":\"11\",\"legendgrouptitle\":{\"text\":\"--11--\"},\"line\":{\"color\":\"green\",\"width\":2},\"marker\":{\"color\":\"green\",\"size\":1.9},\"type\":\"scatter3d\",\"x\":[413.8230895996094,579.3619350913924],\"y\":[-102.29430389404297,8.625909022152342],\"z\":[-383.200927734375,-400.33560018159386]},{\"legendgroup\":\"11\",\"legendgrouptitle\":{\"text\":\"--11--\"},\"line\":{\"color\":\"blue\",\"width\":2},\"marker\":{\"color\":\"blue\",\"size\":1.9},\"type\":\"scatter3d\",\"x\":[413.8230895996094,426.0937046638604],\"y\":[-102.29430389404297,-196.4406087096129],\"z\":[-383.200927734375,-874.1040803984406]},{\"legendgroup\":\"12\",\"legendgrouptitle\":{\"text\":\"--12--\"},\"line\":{\"color\":\"red\",\"width\":2},\"marker\":{\"color\":\"red\",\"size\":2.0},\"type\":\"scatter3d\",\"x\":[490.74700927734375,564.7524256357842],\"y\":[-177.89385986328125,-358.71116780589125],\"z\":[-461.3296203613281,-418.5710013705186]},{\"legendgroup\":\"12\",\"legendgrouptitle\":{\"text\":\"--12--\"},\"line\":{\"color\":\"green\",\"width\":2},\"marker\":{\"color\":\"green\",\"size\":2.0},\"type\":\"scatter3d\",\"x\":[490.74700927734375,676.547212737132],\"y\":[-177.89385986328125,-105.57462525591544],\"z\":[-461.3296203613281,-477.08438789709555]},{\"legendgroup\":\"12\",\"legendgrouptitle\":{\"text\":\"--12--\"},\"line\":{\"color\":\"blue\",\"width\":2},\"marker\":{\"color\":\"blue\",\"size\":2.0},\"type\":\"scatter3d\",\"x\":[490.74700927734375,493.7912085923965],\"y\":[-177.89385986328125,-291.77508785411726],\"z\":[-461.3296203613281,-948.1784662692028]},{\"legendgroup\":\"13\",\"legendgrouptitle\":{\"text\":\"--13--\"},\"line\":{\"color\":\"red\",\"width\":2},\"marker\":{\"color\":\"red\",\"size\":2.1},\"type\":\"scatter3d\",\"x\":[559.6056518554688,587.9338306337831],\"y\":[-280.7816467285156,-471.8319257481339],\"z\":[-542.0836181640625,-490.148031389387]},{\"legendgroup\":\"13\",\"legendgrouptitle\":{\"text\":\"--13--\"},\"line\":{\"color\":\"green\",\"width\":2},\"marker\":{\"color\":\"green\",\"size\":2.1},\"type\":\"scatter3d\",\"x\":[559.6056518554688,757.5356675715401],\"y\":[-280.7816467285156,-254.67370768564112],\"z\":[-542.0836181640625,-554.0035341691893]},{\"legendgroup\":\"13\",\"legendgrouptitle\":{\"text\":\"--13--\"},\"line\":{\"color\":\"blue\",\"width\":2},\"marker\":{\"color\":\"blue\",\"size\":2.1},\"type\":\"scatter3d\",\"x\":[559.6056518554688,548.0885000429595],\"y\":[-280.7816467285156,-413.4976594553987],\"z\":[-542.0836181640625,-1024.010806834722]},{\"legendgroup\":\"14\",\"legendgrouptitle\":{\"text\":\"--14--\"},\"line\":{\"color\":\"red\",\"width\":2},\"marker\":{\"color\":\"red\",\"size\":2.2},\"type\":\"scatter3d\",\"x\":[609.9482421875,587.0223594093517],\"y\":[-412.6420593261719,-601.8504561459902],\"z\":[-623.2545166015625,-562.6361491563995]},{\"legendgroup\":\"14\",\"legendgrouptitle\":{\"text\":\"--14--\"},\"line\":{\"color\":\"green\",\"width\":2},\"marker\":{\"color\":\"green\",\"size\":2.2},\"type\":\"scatter3d\",\"x\":[609.9482421875,808.2222609636117],\"y\":[-412.6420593261719,-438.3369164127098],\"z\":[-623.2545166015625,-628.4687085497474]},{\"legendgroup\":\"14\",\"legendgrouptitle\":{\"text\":\"--14--\"},\"line\":{\"color\":\"blue\",\"width\":2},\"marker\":{\"color\":\"blue\",\"size\":2.2},\"type\":\"scatter3d\",\"x\":[609.9482421875,578.1463773431304],\"y\":[-412.6420593261719,-561.3859014713298],\"z\":[-623.2545166015625,-1099.556847916786]},{\"legendgroup\":\"15\",\"legendgrouptitle\":{\"text\":\"--15--\"},\"line\":{\"color\":\"red\",\"width\":2},\"marker\":{\"color\":\"red\",\"size\":2.3},\"type\":\"scatter3d\",\"x\":[628.9194946289062,552.7999276479512],\"y\":[-570.6920166015625,-742.7935653693638],\"z\":[-702.5941162109375,-634.8676927533534]},{\"legendgroup\":\"15\",\"legendgrouptitle\":{\"text\":\"--15--\"},\"line\":{\"color\":\"green\",\"width\":2},\"marker\":{\"color\":\"green\",\"size\":2.3},\"type\":\"scatter3d\",\"x\":[628.9194946289062,812.4300371756553],\"y\":[-570.6920166015625,-650.0875206590141],\"z\":[-702.5941162109375,-698.0958154583253]},{\"legendgroup\":\"15\",\"legendgrouptitle\":{\"text\":\"--15--\"},\"line\":{\"color\":\"blue\",\"width\":2},\"marker\":{\"color\":\"blue\",\"size\":2.3},\"type\":\"scatter3d\",\"x\":[628.9194946289062,571.3818821029638],\"y\":[-570.6920166015625,-730.3285343377012],\"z\":[-702.5941162109375,-1172.9191159184738]},{\"legendgroup\":\"16\",\"legendgrouptitle\":{\"text\":\"--16--\"},\"line\":{\"color\":\"red\",\"width\":2},\"marker\":{\"color\":\"red\",\"size\":2.4000000000000004},\"type\":\"scatter3d\",\"x\":[603.7391967773438,477.861181847706],\"y\":[-745.4664306640625,-883.175985914686],\"z\":[-778.8873291015625,-706.8400963299327]},{\"legendgroup\":\"16\",\"legendgrouptitle\":{\"text\":\"--16--\"},\"line\":{\"color\":\"green\",\"width\":2},\"marker\":{\"color\":\"green\",\"size\":2.4000000000000004},\"type\":\"scatter3d\",\"x\":[603.7391967773438,755.1615380614435],\"y\":[-745.4664306640625,-875.0221559351456],\"z\":[-778.8873291015625,-761.9584009156063]},{\"legendgroup\":\"16\",\"legendgrouptitle\":{\"text\":\"--16--\"},\"line\":{\"color\":\"blue\",\"width\":2},\"marker\":{\"color\":\"blue\",\"size\":2.4000000000000004},\"type\":\"scatter3d\",\"x\":[603.7391967773438,516.203492725528],\"y\":[-745.4664306640625,-908.4731874672532],\"z\":[-778.8873291015625,-1243.393839015749]},{\"legendgroup\":\"17\",\"legendgrouptitle\":{\"text\":\"--17--\"},\"line\":{\"color\":\"red\",\"width\":2},\"marker\":{\"color\":\"red\",\"size\":2.5},\"type\":\"scatter3d\",\"x\":[524.7312622070312,359.3887172706824],\"y\":[-921.5731811523438,-1007.7477600873062],\"z\":[-852.9414672851562,-780.5827443876825]},{\"legendgroup\":\"17\",\"legendgrouptitle\":{\"text\":\"--17--\"},\"line\":{\"color\":\"green\",\"width\":2},\"marker\":{\"color\":\"green\",\"size\":2.5},\"type\":\"scatter3d\",\"x\":[524.7312622070312,626.6011126130032],\"y\":[-921.5731811523438,-1090.833998252917],\"z\":[-852.9414672851562,-821.7435607414277]},{\"legendgroup\":\"17\",\"legendgrouptitle\":{\"text\":\"--17--\"},\"line\":{\"color\":\"blue\",\"width\":2},\"marker\":{\"color\":\"blue\",\"size\":2.5},\"type\":\"scatter3d\",\"x\":[524.7312622070312,405.24338593300325],\"y\":[-921.5731811523438,-1078.1921004243347],\"z\":[-852.9414672851562,-1312.4990388141173]},{\"legendgroup\":\"18\",\"legendgrouptitle\":{\"text\":\"--18--\"},\"line\":{\"color\":\"red\",\"width\":2},\"marker\":{\"color\":\"red\",\"size\":2.6},\"type\":\"scatter3d\",\"x\":[387.2597351074219,200.2003470966062],\"y\":[-1077.718017578125,-1098.3718391084392],\"z\":[-927.5977783203125,-859.9057919909615]},{\"legendgroup\":\"18\",\"legendgrouptitle\":{\"text\":\"--18--\"},\"line\":{\"color\":\"green\",\"width\":2},\"marker\":{\"color\":\"green\",\"size\":2.6},\"type\":\"scatter3d\",\"x\":[387.2597351074219,424.94134122059387],\"y\":[-1077.718017578125,-1268.7086490831362],\"z\":[-927.5977783203125,-881.7428414209038]},{\"legendgroup\":\"18\",\"legendgrouptitle\":{\"text\":\"--18--\"},\"line\":{\"color\":\"blue\",\"width\":2},\"marker\":{\"color\":\"blue\",\"size\":2.6},\"type\":\"scatter3d\",\"x\":[387.2597351074219,237.49154093408262],\"y\":[-1077.718017578125,-1216.8222575726097],\"z\":[-927.5977783203125,-1383.9085259798585]},{\"legendgroup\":\"19\",\"legendgrouptitle\":{\"text\":\"--19--\"},\"line\":{\"color\":\"red\",\"width\":2},\"marker\":{\"color\":\"red\",\"size\":2.7},\"type\":\"scatter3d\",\"x\":[197.52716064453125,13.24805083113938],\"y\":[-1190.3660888671875,-1138.2892227688535],\"z\":[-1006.3551025390625,-948.6557983512297]},{\"legendgroup\":\"19\",\"legendgrouptitle\":{\"text\":\"--19--\"},\"line\":{\"color\":\"green\",\"width\":2},\"marker\":{\"color\":\"green\",\"size\":2.7},\"type\":\"scatter3d\",\"x\":[197.52716064453125,162.83999436015273],\"y\":[-1190.3660888671875,-1378.3327325058817],\"z\":[-1006.3551025390625,-947.4879523246688]},{\"legendgroup\":\"19\",\"legendgrouptitle\":{\"text\":\"--19--\"},\"line\":{\"color\":\"blue\",\"width\":2},\"marker\":{\"color\":\"blue\",\"size\":2.7},\"type\":\"scatter3d\",\"x\":[197.52716064453125,23.637645047275072],\"y\":[-1190.3660888671875,-1300.94809736598],\"z\":[-1006.3551025390625,-1461.9141610174606]},{\"legendgroup\":\"20\",\"legendgrouptitle\":{\"text\":\"--20--\"},\"line\":{\"color\":\"red\",\"width\":2},\"marker\":{\"color\":\"red\",\"size\":2.8},\"type\":\"scatter3d\",\"x\":[-28.204225540161133,-181.05975888345418],\"y\":[-1238.1949462890625,-1116.5734661642784],\"z\":[-1093.6656494140625,-1050.730797619813]},{\"legendgroup\":\"20\",\"legendgrouptitle\":{\"text\":\"--20--\"},\"line\":{\"color\":\"green\",\"width\":2},\"marker\":{\"color\":\"green\",\"size\":2.8},\"type\":\"scatter3d\",\"x\":[-28.204225540161133,-133.2891095208496],\"y\":[-1238.1949462890625,-1394.2336817303144],\"z\":[-1093.6656494140625,-1025.7754424570921]},{\"legendgroup\":\"20\",\"legendgrouptitle\":{\"text\":\"--20--\"},\"line\":{\"color\":\"blue\",\"width\":2},\"marker\":{\"color\":\"blue\",\"size\":2.8},\"type\":\"scatter3d\",\"x\":[-28.204225540161133,-215.1593184953724],\"y\":[-1238.1949462890625,-1311.514819709906],\"z\":[-1093.6656494140625,-1551.5651901210388]},{\"legendgroup\":\"21\",\"legendgrouptitle\":{\"text\":\"--21--\"},\"line\":{\"color\":\"red\",\"width\":2},\"marker\":{\"color\":\"red\",\"size\":2.9000000000000004},\"type\":\"scatter3d\",\"x\":[-264.17193603515625,-357.49638653528683],\"y\":[-1204.08349609375,-1028.9807382098506],\"z\":[-1195.724609375,-1170.633353521592]},{\"legendgroup\":\"21\",\"legendgrouptitle\":{\"text\":\"--21--\"},\"line\":{\"color\":\"green\",\"width\":2},\"marker\":{\"color\":\"green\",\"size\":2.9000000000000004},\"type\":\"scatter3d\",\"x\":[-264.17193603515625,-424.888958294859],\"y\":[-1204.08349609375,-1299.868452506173],\"z\":[-1195.724609375,-1125.0473083438735]},{\"legendgroup\":\"21\",\"legendgrouptitle\":{\"text\":\"--21--\"},\"line\":{\"color\":\"blue\",\"width\":2},\"marker\":{\"color\":\"blue\",\"size\":2.9000000000000004},\"type\":\"scatter3d\",\"x\":[-264.17193603515625,-448.91137576756194],\"y\":[-1204.08349609375,-1236.1251005443262],\"z\":[-1195.724609375,-1659.2380126241292]},{\"legendgroup\":\"22\",\"legendgrouptitle\":{\"text\":\"--22--\"},\"line\":{\"color\":\"red\",\"width\":2},\"marker\":{\"color\":\"red\",\"size\":3.0},\"type\":\"scatter3d\",\"x\":[-474.38037109375,-486.9711030093659],\"y\":[-1082.0565185546875,-882.5786380734803],\"z\":[-1319.510498046875,-1312.4359896855603]},{\"legendgroup\":\"22\",\"legendgrouptitle\":{\"text\":\"--22--\"},\"line\":{\"color\":\"green\",\"width\":2},\"marker\":{\"color\":\"green\",\"size\":3.0},\"type\":\"scatter3d\",\"x\":[-474.38037109375,-662.7442509914841],\"y\":[-1082.0565185546875,-1096.275910201502],\"z\":[-1319.510498046875,-1253.8077001531285]},{\"legendgroup\":\"22\",\"legendgrouptitle\":{\"text\":\"--22--\"},\"line\":{\"color\":\"blue\",\"width\":2},\"marker\":{\"color\":\"blue\",\"size\":3.0},\"type\":\"scatter3d\",\"x\":[-474.38037109375,-639.4659969765985],\"y\":[-1082.0565185546875,-1075.7398244431859],\"z\":[-1319.510498046875,-1791.4287489149358]}],                        {\"scene\":{\"aspectmode\":\"data\",\"aspectratio\":{\"x\":1,\"y\":1,\"z\":1}},\"template\":{\"data\":{\"bar\":[{\"error_x\":{\"color\":\"#2a3f5f\"},\"error_y\":{\"color\":\"#2a3f5f\"},\"marker\":{\"line\":{\"color\":\"#E5ECF6\",\"width\":0.5},\"pattern\":{\"fillmode\":\"overlay\",\"size\":10,\"solidity\":0.2}},\"type\":\"bar\"}],\"barpolar\":[{\"marker\":{\"line\":{\"color\":\"#E5ECF6\",\"width\":0.5},\"pattern\":{\"fillmode\":\"overlay\",\"size\":10,\"solidity\":0.2}},\"type\":\"barpolar\"}],\"carpet\":[{\"aaxis\":{\"endlinecolor\":\"#2a3f5f\",\"gridcolor\":\"white\",\"linecolor\":\"white\",\"minorgridcolor\":\"white\",\"startlinecolor\":\"#2a3f5f\"},\"baxis\":{\"endlinecolor\":\"#2a3f5f\",\"gridcolor\":\"white\",\"linecolor\":\"white\",\"minorgridcolor\":\"white\",\"startlinecolor\":\"#2a3f5f\"},\"type\":\"carpet\"}],\"choropleth\":[{\"colorbar\":{\"outlinewidth\":0,\"ticks\":\"\"},\"type\":\"choropleth\"}],\"contour\":[{\"colorbar\":{\"outlinewidth\":0,\"ticks\":\"\"},\"colorscale\":[[0.0,\"#0d0887\"],[0.1111111111111111,\"#46039f\"],[0.2222222222222222,\"#7201a8\"],[0.3333333333333333,\"#9c179e\"],[0.4444444444444444,\"#bd3786\"],[0.5555555555555556,\"#d8576b\"],[0.6666666666666666,\"#ed7953\"],[0.7777777777777778,\"#fb9f3a\"],[0.8888888888888888,\"#fdca26\"],[1.0,\"#f0f921\"]],\"type\":\"contour\"}],\"contourcarpet\":[{\"colorbar\":{\"outlinewidth\":0,\"ticks\":\"\"},\"type\":\"contourcarpet\"}],\"heatmap\":[{\"colorbar\":{\"outlinewidth\":0,\"ticks\":\"\"},\"colorscale\":[[0.0,\"#0d0887\"],[0.1111111111111111,\"#46039f\"],[0.2222222222222222,\"#7201a8\"],[0.3333333333333333,\"#9c179e\"],[0.4444444444444444,\"#bd3786\"],[0.5555555555555556,\"#d8576b\"],[0.6666666666666666,\"#ed7953\"],[0.7777777777777778,\"#fb9f3a\"],[0.8888888888888888,\"#fdca26\"],[1.0,\"#f0f921\"]],\"type\":\"heatmap\"}],\"heatmapgl\":[{\"colorbar\":{\"outlinewidth\":0,\"ticks\":\"\"},\"colorscale\":[[0.0,\"#0d0887\"],[0.1111111111111111,\"#46039f\"],[0.2222222222222222,\"#7201a8\"],[0.3333333333333333,\"#9c179e\"],[0.4444444444444444,\"#bd3786\"],[0.5555555555555556,\"#d8576b\"],[0.6666666666666666,\"#ed7953\"],[0.7777777777777778,\"#fb9f3a\"],[0.8888888888888888,\"#fdca26\"],[1.0,\"#f0f921\"]],\"type\":\"heatmapgl\"}],\"histogram\":[{\"marker\":{\"pattern\":{\"fillmode\":\"overlay\",\"size\":10,\"solidity\":0.2}},\"type\":\"histogram\"}],\"histogram2d\":[{\"colorbar\":{\"outlinewidth\":0,\"ticks\":\"\"},\"colorscale\":[[0.0,\"#0d0887\"],[0.1111111111111111,\"#46039f\"],[0.2222222222222222,\"#7201a8\"],[0.3333333333333333,\"#9c179e\"],[0.4444444444444444,\"#bd3786\"],[0.5555555555555556,\"#d8576b\"],[0.6666666666666666,\"#ed7953\"],[0.7777777777777778,\"#fb9f3a\"],[0.8888888888888888,\"#fdca26\"],[1.0,\"#f0f921\"]],\"type\":\"histogram2d\"}],\"histogram2dcontour\":[{\"colorbar\":{\"outlinewidth\":0,\"ticks\":\"\"},\"colorscale\":[[0.0,\"#0d0887\"],[0.1111111111111111,\"#46039f\"],[0.2222222222222222,\"#7201a8\"],[0.3333333333333333,\"#9c179e\"],[0.4444444444444444,\"#bd3786\"],[0.5555555555555556,\"#d8576b\"],[0.6666666666666666,\"#ed7953\"],[0.7777777777777778,\"#fb9f3a\"],[0.8888888888888888,\"#fdca26\"],[1.0,\"#f0f921\"]],\"type\":\"histogram2dcontour\"}],\"mesh3d\":[{\"colorbar\":{\"outlinewidth\":0,\"ticks\":\"\"},\"type\":\"mesh3d\"}],\"parcoords\":[{\"line\":{\"colorbar\":{\"outlinewidth\":0,\"ticks\":\"\"}},\"type\":\"parcoords\"}],\"pie\":[{\"automargin\":true,\"type\":\"pie\"}],\"scatter\":[{\"marker\":{\"colorbar\":{\"outlinewidth\":0,\"ticks\":\"\"}},\"type\":\"scatter\"}],\"scatter3d\":[{\"line\":{\"colorbar\":{\"outlinewidth\":0,\"ticks\":\"\"}},\"marker\":{\"colorbar\":{\"outlinewidth\":0,\"ticks\":\"\"}},\"type\":\"scatter3d\"}],\"scattercarpet\":[{\"marker\":{\"colorbar\":{\"outlinewidth\":0,\"ticks\":\"\"}},\"type\":\"scattercarpet\"}],\"scattergeo\":[{\"marker\":{\"colorbar\":{\"outlinewidth\":0,\"ticks\":\"\"}},\"type\":\"scattergeo\"}],\"scattergl\":[{\"marker\":{\"colorbar\":{\"outlinewidth\":0,\"ticks\":\"\"}},\"type\":\"scattergl\"}],\"scattermapbox\":[{\"marker\":{\"colorbar\":{\"outlinewidth\":0,\"ticks\":\"\"}},\"type\":\"scattermapbox\"}],\"scatterpolar\":[{\"marker\":{\"colorbar\":{\"outlinewidth\":0,\"ticks\":\"\"}},\"type\":\"scatterpolar\"}],\"scatterpolargl\":[{\"marker\":{\"colorbar\":{\"outlinewidth\":0,\"ticks\":\"\"}},\"type\":\"scatterpolargl\"}],\"scatterternary\":[{\"marker\":{\"colorbar\":{\"outlinewidth\":0,\"ticks\":\"\"}},\"type\":\"scatterternary\"}],\"surface\":[{\"colorbar\":{\"outlinewidth\":0,\"ticks\":\"\"},\"colorscale\":[[0.0,\"#0d0887\"],[0.1111111111111111,\"#46039f\"],[0.2222222222222222,\"#7201a8\"],[0.3333333333333333,\"#9c179e\"],[0.4444444444444444,\"#bd3786\"],[0.5555555555555556,\"#d8576b\"],[0.6666666666666666,\"#ed7953\"],[0.7777777777777778,\"#fb9f3a\"],[0.8888888888888888,\"#fdca26\"],[1.0,\"#f0f921\"]],\"type\":\"surface\"}],\"table\":[{\"cells\":{\"fill\":{\"color\":\"#EBF0F8\"},\"line\":{\"color\":\"white\"}},\"header\":{\"fill\":{\"color\":\"#C8D4E3\"},\"line\":{\"color\":\"white\"}},\"type\":\"table\"}]},\"layout\":{\"annotationdefaults\":{\"arrowcolor\":\"#2a3f5f\",\"arrowhead\":0,\"arrowwidth\":1},\"autotypenumbers\":\"strict\",\"coloraxis\":{\"colorbar\":{\"outlinewidth\":0,\"ticks\":\"\"}},\"colorscale\":{\"diverging\":[[0,\"#8e0152\"],[0.1,\"#c51b7d\"],[0.2,\"#de77ae\"],[0.3,\"#f1b6da\"],[0.4,\"#fde0ef\"],[0.5,\"#f7f7f7\"],[0.6,\"#e6f5d0\"],[0.7,\"#b8e186\"],[0.8,\"#7fbc41\"],[0.9,\"#4d9221\"],[1,\"#276419\"]],\"sequential\":[[0.0,\"#0d0887\"],[0.1111111111111111,\"#46039f\"],[0.2222222222222222,\"#7201a8\"],[0.3333333333333333,\"#9c179e\"],[0.4444444444444444,\"#bd3786\"],[0.5555555555555556,\"#d8576b\"],[0.6666666666666666,\"#ed7953\"],[0.7777777777777778,\"#fb9f3a\"],[0.8888888888888888,\"#fdca26\"],[1.0,\"#f0f921\"]],\"sequentialminus\":[[0.0,\"#0d0887\"],[0.1111111111111111,\"#46039f\"],[0.2222222222222222,\"#7201a8\"],[0.3333333333333333,\"#9c179e\"],[0.4444444444444444,\"#bd3786\"],[0.5555555555555556,\"#d8576b\"],[0.6666666666666666,\"#ed7953\"],[0.7777777777777778,\"#fb9f3a\"],[0.8888888888888888,\"#fdca26\"],[1.0,\"#f0f921\"]]},\"colorway\":[\"#636efa\",\"#EF553B\",\"#00cc96\",\"#ab63fa\",\"#FFA15A\",\"#19d3f3\",\"#FF6692\",\"#B6E880\",\"#FF97FF\",\"#FECB52\"],\"font\":{\"color\":\"#2a3f5f\"},\"geo\":{\"bgcolor\":\"white\",\"lakecolor\":\"white\",\"landcolor\":\"#E5ECF6\",\"showlakes\":true,\"showland\":true,\"subunitcolor\":\"white\"},\"hoverlabel\":{\"align\":\"left\"},\"hovermode\":\"closest\",\"mapbox\":{\"style\":\"light\"},\"paper_bgcolor\":\"white\",\"plot_bgcolor\":\"#E5ECF6\",\"polar\":{\"angularaxis\":{\"gridcolor\":\"white\",\"linecolor\":\"white\",\"ticks\":\"\"},\"bgcolor\":\"#E5ECF6\",\"radialaxis\":{\"gridcolor\":\"white\",\"linecolor\":\"white\",\"ticks\":\"\"}},\"scene\":{\"xaxis\":{\"backgroundcolor\":\"#E5ECF6\",\"gridcolor\":\"white\",\"gridwidth\":2,\"linecolor\":\"white\",\"showbackground\":true,\"ticks\":\"\",\"zerolinecolor\":\"white\"},\"yaxis\":{\"backgroundcolor\":\"#E5ECF6\",\"gridcolor\":\"white\",\"gridwidth\":2,\"linecolor\":\"white\",\"showbackground\":true,\"ticks\":\"\",\"zerolinecolor\":\"white\"},\"zaxis\":{\"backgroundcolor\":\"#E5ECF6\",\"gridcolor\":\"white\",\"gridwidth\":2,\"linecolor\":\"white\",\"showbackground\":true,\"ticks\":\"\",\"zerolinecolor\":\"white\"}},\"shapedefaults\":{\"line\":{\"color\":\"#2a3f5f\"}},\"ternary\":{\"aaxis\":{\"gridcolor\":\"white\",\"linecolor\":\"white\",\"ticks\":\"\"},\"baxis\":{\"gridcolor\":\"white\",\"linecolor\":\"white\",\"ticks\":\"\"},\"bgcolor\":\"#E5ECF6\",\"caxis\":{\"gridcolor\":\"white\",\"linecolor\":\"white\",\"ticks\":\"\"}},\"title\":{\"x\":0.05},\"xaxis\":{\"automargin\":true,\"gridcolor\":\"white\",\"linecolor\":\"white\",\"ticks\":\"\",\"title\":{\"standoff\":15},\"zerolinecolor\":\"white\",\"zerolinewidth\":2},\"yaxis\":{\"automargin\":true,\"gridcolor\":\"white\",\"linecolor\":\"white\",\"ticks\":\"\",\"title\":{\"standoff\":15},\"zerolinecolor\":\"white\",\"zerolinewidth\":2}}},\"title\":{\"text\":\"8-SA\"}},                        {\"responsive\": true}                    ).then(function(){\n",
       "                            \n",
       "var gd = document.getElementById('4defe067-14e0-4182-9455-46171764ebc0');\n",
       "var x = new MutationObserver(function (mutations, observer) {{\n",
       "        var display = window.getComputedStyle(gd).display;\n",
       "        if (!display || display === 'none') {{\n",
       "            console.log([gd, 'removed!']);\n",
       "            Plotly.purge(gd);\n",
       "            observer.disconnect();\n",
       "        }}\n",
       "}});\n",
       "\n",
       "// Listen for the removal of the full notebook cells\n",
       "var notebookContainer = gd.closest('#notebook-container');\n",
       "if (notebookContainer) {{\n",
       "    x.observe(notebookContainer, {childList: true});\n",
       "}}\n",
       "\n",
       "// Listen for the clearing of the current output cell\n",
       "var outputEl = gd.closest('.output');\n",
       "if (outputEl) {{\n",
       "    x.observe(outputEl, {childList: true});\n",
       "}}\n",
       "\n",
       "                        })                };                });            </script>        </div>"
      ]
     },
     "metadata": {},
     "output_type": "display_data"
    }
   ],
   "source": [
    "for j in range(9):\n",
    "    title = event_table[j][0]\n",
    "    \n",
    "    ## -------------------------------------------------------------\n",
    "    # Compute the Trace\n",
    "    mt = MotionTrace()\n",
    "\n",
    "    for d in np.mean(X3[y==event_table[j][1]], axis=0):\n",
    "        mt.forward(ap=d[3:], aax=d[0], aay=d[1], aaz=d[2])\n",
    "\n",
    "    mt.trace\n",
    "\n",
    "    # -------------------------------------------------------------\n",
    "    # Draw\n",
    "    data = []\n",
    "\n",
    "    group_idx = 0\n",
    "\n",
    "    # Draw origin and finish\n",
    "    trace_origin = mt.trace_origin()\n",
    "    trace_finish = mt.trace_finish()\n",
    "    color = \"black\"\n",
    "\n",
    "    data.append(\n",
    "        go.Scatter3d(\n",
    "            x=trace_origin[:, 0],\n",
    "            y=trace_origin[:, 1],\n",
    "            z=trace_origin[:, 2],\n",
    "            marker={\"size\": 1, \"color\": color},\n",
    "            line={\"color\": color, \"width\": 2},\n",
    "            legendgroup=group_idx,\n",
    "            legendgrouptitle={\"text\": 'origins'},\n",
    "        )\n",
    "    )\n",
    "    group_idx += 1\n",
    "\n",
    "    data.append(\n",
    "        go.Scatter3d(\n",
    "            x=trace_finish[:, 0],\n",
    "            y=trace_finish[:, 1],\n",
    "            z=trace_finish[:, 2],\n",
    "            marker={\"size\": 1, \"color\": color},\n",
    "            line={\"color\": color, \"width\": 2},\n",
    "            legendgroup=group_idx,\n",
    "            legendgrouptitle={\"text\": 'finish'},\n",
    "        )\n",
    "    )\n",
    "    group_idx += 1\n",
    "\n",
    "    # Draw legs\n",
    "    for s, p in tqdm(zip(np.linspace(1, 3, len(mt.trace)), mt.trace)):\n",
    "        origin = p[0]\n",
    "        for axis, color, length in zip(p[1:], [\"red\", \"green\", \"blue\"], [200, 200, -500]):\n",
    "            data.append(\n",
    "                go.Scatter3d(\n",
    "                    x=[origin[0], origin[0] + axis[0] * length],\n",
    "                    y=[origin[1], origin[1] + axis[1] * length],\n",
    "                    z=[origin[2], origin[2] + axis[2] * length],\n",
    "                    marker={\"size\": s, \"color\": color},\n",
    "                    line={\"color\": color, \"width\": 2},\n",
    "                    legendgroup=group_idx,\n",
    "                    legendgrouptitle={\"text\": f\"--{group_idx}--\"},\n",
    "                )\n",
    "            )\n",
    "        group_idx += 1\n",
    "\n",
    "    fig = go.Figure(data=data)\n",
    "    fig.update_layout(\n",
    "        title=title,\n",
    "#         width=1000,\n",
    "#         height=600,\n",
    "        scene=dict(aspectratio=dict(x=1, y=1, z=1), aspectmode=\"data\"),\n",
    "    )\n",
    "    fig.show()"
   ]
  },
  {
   "cell_type": "markdown",
   "id": "36befb64-28cd-42d2-9268-0b2a1b5615bf",
   "metadata": {},
   "source": [
    "## Display the Trace (9 motions)"
   ]
  },
  {
   "cell_type": "code",
   "execution_count": 12,
   "id": "364eb20d-f5b6-4f5a-a06c-9c8dde75fb92",
   "metadata": {
    "ExecuteTime": {
     "end_time": "2021-11-15T04:40:43.898228Z",
     "start_time": "2021-11-15T04:40:43.764197Z"
    }
   },
   "outputs": [
    {
     "data": {
      "application/vnd.plotly.v1+json": {
       "config": {
        "plotlyServerURL": "https://plot.ly"
       },
       "data": [
        {
         "legendgroup": "1",
         "legendgrouptitle": {
          "text": "0-SLW"
         },
         "line": {
          "color": "rgb(204, 102, 119)",
          "width": 5
         },
         "marker": {
          "color": "rgb(204, 102, 119)",
          "size": 1
         },
         "type": "scatter3d",
         "x": [
          0,
          8.779568672180176,
          26.383560180664062,
          52.653038024902344,
          88.33209228515625,
          133.93460083007812,
          189.37173461914062,
          255.03411865234375,
          330.7092590332031,
          414.9641418457031,
          505.8310241699219,
          599.9314575195312,
          691.6362915039062,
          773.6050415039062,
          837.2778930664062,
          873.821044921875,
          875.6935424804688,
          838.2767944335938,
          761.9019775390625,
          653.2899780273438,
          525.5995483398438
         ],
         "y": [
          0,
          6.814178943634033,
          20.248981475830078,
          39.74723434448242,
          63.46486282348633,
          89.110107421875,
          113.9020004272461,
          134.8002471923828,
          148.29417419433594,
          151.22496032714844,
          139.9419708251953,
          110.34314727783203,
          59.34464645385742,
          -14.122413635253906,
          -108.24862670898438,
          -217.66494750976562,
          -333.2439270019531,
          -442.7580261230469,
          -531.0537719726562,
          -582.731689453125,
          -584.3184204101562
         ],
         "z": [
          0,
          5.970254421234131,
          18.000732421875,
          36.13860321044922,
          60.29911804199219,
          90.2947998046875,
          126.05938720703125,
          167.5974578857422,
          214.99911499023438,
          268.5169982910156,
          328.4549255371094,
          395.3056640625,
          469.82244873046875,
          552.7658081054688,
          644.8541259765625,
          746.796875,
          858.7215576171875,
          980.1502685546875,
          1110.083251953125,
          1247.0638427734375,
          1389.11767578125
         ]
        },
        {
         "legendgroup": "1",
         "legendgrouptitle": {
          "text": "0-SLW"
         },
         "line": {
          "color": "rgb(204, 102, 119)",
          "width": 3
         },
         "marker": {
          "color": "rgb(204, 102, 119)",
          "size": 1
         },
         "type": "scatter3d",
         "x": [
          0,
          -0.7604383502718921,
          -2.2434219551273102,
          -4.5400210158562615,
          -6.693981896698347,
          -7.603526778544364,
          -6.231133134121421,
          -0.3247428386943909,
          12.741322396915848,
          35.5504146751245,
          71.40253628143489,
          123.45194389302577,
          193.49673069364775,
          281.7940710998039,
          386.4209320134575,
          502.72322355789566,
          623.1418161532289,
          737.1539860715588,
          832.027226048128,
          894.117381252341,
          910.5140942365769
         ],
         "y": [
          -500,
          -493.09359553193264,
          -478.9204562099402,
          -456.93156985421336,
          -427.31908094798115,
          -390.22189917358133,
          -345.855285553588,
          -294.4264425232421,
          -236.59097895375055,
          -173.00181383832853,
          -105.60707106529787,
          -38.30899660057756,
          23.788752901713032,
          74.69539256872189,
          107.90827228727323,
          117.08800524622029,
          96.85512988698491,
          43.6538069486769,
          -41.92269983602074,
          -154.34255836357084,
          -281.447213533552
         ],
         "z": [
          0,
          7.068109100859295,
          21.220728426379964,
          42.3931581357747,
          70.35723723544322,
          104.7095799354666,
          145.10554467349795,
          191.18348539712127,
          242.5637691225837,
          298.8851155981288,
          359.72083248994807,
          424.79825999099427,
          494.16903759772873,
          568.0421522783436,
          646.9024634540032,
          731.7347503139946,
          823.615620905898,
          923.7791209986835,
          1033.707576558355,
          1154.9502486613771,
          1288.5700532224796
         ]
        },
        {
         "legendgroup": "2",
         "legendgrouptitle": {
          "text": "1-MLW"
         },
         "line": {
          "color": "rgb(221, 204, 119)",
          "width": 5
         },
         "marker": {
          "color": "rgb(221, 204, 119)",
          "size": 1
         },
         "type": "scatter3d",
         "x": [
          0,
          2.8296711444854736,
          9.155072212219238,
          18.804582595825195,
          30.374011993408203,
          41.32200622558594,
          49.492618560791016,
          52.98207473754883,
          49.0088005065918,
          34.56435775756836,
          5.885876178741455,
          -40.23313522338867,
          -105.548583984375,
          -188.5861053466797,
          -284.725341796875,
          -387.28253173828125,
          -486.9713134765625,
          -569.9470825195312,
          -620.1394653320312,
          -622.74658203125,
          -567.4476928710938
         ],
         "y": [
          0,
          -7.350893020629883,
          -21.76079559326172,
          -43.60680389404297,
          -73.41669464111328,
          -110.80050659179688,
          -154.63095092773438,
          -204.1191864013672,
          -258.4047546386719,
          -316.6642150878906,
          -376.2452087402344,
          -433.04998779296875,
          -481.15545654296875,
          -512.8899536132812,
          -520.288818359375,
          -496.5360107421875,
          -435.3984375,
          -334.2513122558594,
          -196.95762634277344,
          -35.16497039794922,
          132.19683837890625
         ],
         "z": [
          0,
          8.676528930664062,
          25.939533233642578,
          51.95524597167969,
          86.69013214111328,
          130.20510864257812,
          182.78892517089844,
          244.7082061767578,
          316.1593017578125,
          397.1977844238281,
          487.88153076171875,
          588.1642456054688,
          697.50048828125,
          814.935546875,
          939.5344848632812,
          1070.179443359375,
          1205.1517333984375,
          1342.23779296875,
          1479.62841796875,
          1616.790771484375,
          1754.298583984375
         ]
        },
        {
         "legendgroup": "2",
         "legendgrouptitle": {
          "text": "1-MLW"
         },
         "line": {
          "color": "rgb(221, 204, 119)",
          "width": 3
         },
         "marker": {
          "color": "rgb(221, 204, 119)",
          "size": 1
         },
         "type": "scatter3d",
         "x": [
          0,
          -6.657827396275117,
          -19.2836389434956,
          -38.059905608304526,
          -64.22482243727741,
          -99.72451222155269,
          -145.56314752765968,
          -201.79353971227712,
          -268.43192626052974,
          -344.5098932451107,
          -428.43019943087444,
          -516.8338664351554,
          -604.0443564998404,
          -681.0386456763811,
          -736.6794494304131,
          -760.2170736875116,
          -742.3915261498288,
          -675.1253841595792,
          -555.192888815081,
          -387.8592707145518,
          -188.60597888651466
         ],
         "y": [
          -500,
          -507.25962630469127,
          -520.9410065749961,
          -540.3240700945661,
          -564.2856096319921,
          -590.2848289477259,
          -614.644977196008,
          -633.7599299360375,
          -643.8910202420518,
          -641.6541136808444,
          -622.7498948742419,
          -582.9282126836193,
          -518.3509259947319,
          -426.3731029388956,
          -307.35731457534246,
          -166.07675411988487,
          -10.561959945440606,
          146.2821970241949,
          286.2190114551093,
          387.82744950772394,
          430.798330749049
         ],
         "z": [
          0,
          9.792664121535125,
          29.15771160548962,
          58.15100577666721,
          96.62838249181377,
          144.3707095411106,
          201.2373330181829,
          267.02899865125,
          341.29342240529303,
          423.3564930941651,
          512.4779976022404,
          607.8685779219155,
          708.3845057597499,
          812.6268519601265,
          919.5930884868293,
          1028.7486922950638,
          1139.7722083391516,
          1252.6550305470037,
          1368.6226573747088,
          1490.6743027550485,
          1622.7079137240942
         ]
        },
        {
         "legendgroup": "3",
         "legendgrouptitle": {
          "text": "2-FLW"
         },
         "line": {
          "color": "rgb(17, 119, 51)",
          "width": 5
         },
         "marker": {
          "color": "rgb(17, 119, 51)",
          "size": 1
         },
         "type": "scatter3d",
         "x": [
          0,
          3.9547579288482666,
          9.541864395141602,
          14.497509002685547,
          15.158663749694824,
          6.761141777038574,
          -15.366029739379883,
          -55.48552322387695,
          -117.5774917602539,
          -205.29525756835938,
          -322.72808837890625,
          -473.4711608886719,
          -657.3391723632812,
          -870.2645263671875,
          -1103.184814453125,
          -1341.1405029296875,
          -1562.2841796875,
          -1737.47900390625,
          -1834.5010986328125,
          -1824.977783203125,
          -1691.7554931640625
         ],
         "y": [
          0,
          -16.99209976196289,
          -50.92808151245117,
          -102.00221252441406,
          -170.37294006347656,
          -254.93939208984375,
          -353.0709533691406,
          -462.6669921875,
          -580.0301513671875,
          -699.630126953125,
          -814.619384765625,
          -915.1022338867188,
          -988.4275512695312,
          -1021.0510864257812,
          -998.6970825195312,
          -908.4929809570312,
          -741.5609130859375,
          -496.51739501953125,
          -185.64341735839844,
          163.2410888671875,
          508.6513977050781
         ],
         "z": [
          0,
          11.84561538696289,
          35.80522537231445,
          72.28529357910156,
          121.73267364501953,
          184.5962677001953,
          261.6468505859375,
          353.2771301269531,
          459.3203430175781,
          579.7947387695312,
          714.5807495117188,
          862.69482421875,
          1022.7303466796875,
          1193.082763671875,
          1372.0897216796875,
          1558.0123291015625,
          1748.8438720703125,
          1942.639892578125,
          2138.37353515625,
          2336.2607421875,
          2537.905517578125
         ]
        },
        {
         "legendgroup": "3",
         "legendgrouptitle": {
          "text": "2-FLW"
         },
         "line": {
          "color": "rgb(17, 119, 51)",
          "width": 3
         },
         "marker": {
          "color": "rgb(17, 119, 51)",
          "size": 1
         },
         "type": "scatter3d",
         "x": [
          0,
          -5.5949382828789265,
          -19.021611506848203,
          -42.43616813553747,
          -79.28673657257829,
          -133.82284651278945,
          -209.58728877619143,
          -309.0136613943017,
          -433.3230307964497,
          -582.1843772994255,
          -754.5699043228194,
          -947.9364890795775,
          -1155.0767270656177,
          -1364.593813091164,
          -1560.7999487451807,
          -1724.2724356767376,
          -1832.5766857596484,
          -1861.3973916598313,
          -1790.0489639711586,
          -1608.8813125150348,
          -1325.4640422147254
         ],
         "y": [
          -500,
          -516.9005438085287,
          -550.1087641551487,
          -598.7406228416983,
          -661.3485455006282,
          -734.7224218353108,
          -813.7314416115416,
          -893.5142772770735,
          -967.5839222368929,
          -1028.0477381069281,
          -1066.516813143382,
          -1072.7955179083087,
          -1035.9008871313192,
          -946.6136503473117,
          -798.2164972515998,
          -588.7821872079593,
          -323.2249063763058,
          -15.373568881409199,
          307.9549640963199,
          608.211320528809,
          840.754803463002
         ],
         "z": [
          0,
          12.437960898697018,
          37.47073453378859,
          75.36881802007511,
          126.53071737012945,
          191.25859498020174,
          270.01447333248564,
          362.97765005022393,
          469.65616729114436,
          589.6163533196682,
          722.3480900434673,
          866.6293533115872,
          1020.8306043043566,
          1183.2022577623366,
          1352.19188768974,
          1526.4698106566404,
          1704.8331159818674,
          1886.5609148260148,
          2072.156879024242,
          2263.433492540446,
          2463.488443963146
         ]
        },
        {
         "legendgroup": "4",
         "legendgrouptitle": {
          "text": "3-RD"
         },
         "line": {
          "color": "rgb(51, 34, 136)",
          "width": 5
         },
         "marker": {
          "color": "rgb(51, 34, 136)",
          "size": 1
         },
         "type": "scatter3d",
         "x": [
          0,
          -2.726853609085083,
          -8.218437194824219,
          -18.253360748291016,
          -35.5622673034668,
          -62.010658264160156,
          -99.03694152832031,
          -148.37481689453125,
          -212.47605895996094,
          -293.35321044921875,
          -392.849853515625,
          -510.4644470214844,
          -642.729736328125,
          -783.33056640625,
          -921.5733032226562,
          -1041.2528076171875,
          -1122.9451904296875,
          -1147.890625,
          -1101.6875,
          -977.6549682617188,
          -781.6732788085938
         ],
         "y": [
          0,
          -11.21274185180664,
          -33.91085433959961,
          -67.8279800415039,
          -112.20352172851562,
          -165.0926971435547,
          -224.15426635742188,
          -286.8277587890625,
          -349.2165832519531,
          -405.5284118652344,
          -448.6273193359375,
          -470.8990478515625,
          -464.45465087890625,
          -421.66357421875,
          -335.1495056152344,
          -200.63743591308594,
          -22.081636428833008,
          187.65234375,
          407.6188049316406,
          609.4679565429688,
          759.8521728515625
         ],
         "z": [
          0,
          9.700716972351074,
          29.011850357055664,
          57.76176452636719,
          95.7403793334961,
          142.66424560546875,
          198.26962280273438,
          262.4037170410156,
          335.01824951171875,
          415.81640625,
          503.98785400390625,
          598.6138305664062,
          698.658935546875,
          802.2815551757812,
          906.6137084960938,
          1008.657958984375,
          1106.36865234375,
          1199.000732421875,
          1287.827880859375,
          1376.267822265625,
          1469.7734375
         ]
        },
        {
         "legendgroup": "4",
         "legendgrouptitle": {
          "text": "3-RD"
         },
         "line": {
          "color": "rgb(51, 34, 136)",
          "width": 3
         },
         "marker": {
          "color": "rgb(51, 34, 136)",
          "size": 1
         },
         "type": "scatter3d",
         "x": [
          0,
          -12.626553053934522,
          -37.886044812348516,
          -77.43248230770199,
          -133.85801366160013,
          -208.5692534342605,
          -301.8076389593581,
          -413.14998501712546,
          -541.7707885637024,
          -685.0617283113347,
          -838.7932146847947,
          -995.1609034324051,
          -1142.650309493957,
          -1266.9604272960164,
          -1350.852094196424,
          -1374.9200556359253,
          -1321.925906638849,
          -1182.4058712828564,
          -959.4082119250861,
          -671.2674187477651,
          -353.6203214002009
         ],
         "y": [
          -500,
          -511.1132185779243,
          -533.0169241773553,
          -564.2649510810861,
          -602.3228614401269,
          -642.8827409014189,
          -680.7741050677945,
          -710.3598576466161,
          -724.701143474369,
          -715.4565753930633,
          -674.0940947051755,
          -593.4367866684443,
          -468.5535657200305,
          -298.033678868482,
          -84.58067794206846,
          162.3321810610601,
          422.4575897743735,
          666.2810699299478,
          859.0858221533792,
          965.8411332994893,
          957.9252929424467
         ],
         "z": [
          0,
          10.929260785964871,
          32.6124210565224,
          64.70189107431987,
          106.739428772051,
          158.06724101626324,
          217.82383358823728,
          285.0900914311072,
          359.02504208752276,
          438.3767805051345,
          521.2867508976676,
          605.9519303437412,
          690.7456920480644,
          773.6842365702349,
          852.4382323228709,
          925.4760814313653,
          993.2689134247607,
          1058.5612783877814,
          1126.7870893008321,
          1205.6078433856885,
          1303.8285528202039
         ]
        },
        {
         "legendgroup": "5",
         "legendgrouptitle": {
          "text": "4-SD"
         },
         "line": {
          "color": "rgb(170, 68, 153)",
          "width": 5
         },
         "marker": {
          "color": "rgb(170, 68, 153)",
          "size": 1
         },
         "type": "scatter3d",
         "x": [
          0,
          -13.948466300964355,
          -42.300228118896484,
          -85.67015838623047,
          -144.56112670898438,
          -218.61825561523438,
          -307.5091552734375,
          -409.660888671875,
          -522.1646118164062,
          -640.5357055664062,
          -757.1449584960938,
          -859.7671508789062,
          -932.8696899414062,
          -958.2098999023438,
          -918.0462646484375,
          -799.363525390625,
          -594.9580078125,
          -309.5458679199219,
          35.14218521118164,
          399.9690856933594,
          730.181640625
         ],
         "y": [
          0,
          -4.7598090171813965,
          -13.7987699508667,
          -25.077360153198242,
          -35.38860321044922,
          -40.295372009277344,
          -34.80863952636719,
          -12.575493812561035,
          33.43647766113281,
          110.36347198486328,
          224.3688201904297,
          379.9403991699219,
          578.1915893554688,
          813.7031860351562,
          1072.0701904296875,
          1332.034423828125,
          1565.580810546875,
          1737.3934326171875,
          1811.62109375,
          1760.8612060546875,
          1575.4453125
         ],
         "z": [
          0,
          13.82612419128418,
          41.60531997680664,
          83.07223510742188,
          138.08692932128906,
          206.5814208984375,
          288.13079833984375,
          381.9086608886719,
          486.49365234375,
          600.1904296875,
          720.9007568359375,
          846.3302612304688,
          973.70751953125,
          1099.603271484375,
          1221.333740234375,
          1337.5098876953125,
          1448.1396484375,
          1556.76806640625,
          1671.0164794921875,
          1801.5550537109375,
          1960.996826171875
         ]
        },
        {
         "legendgroup": "5",
         "legendgrouptitle": {
          "text": "4-SD"
         },
         "line": {
          "color": "rgb(170, 68, 153)",
          "width": 3
         },
         "marker": {
          "color": "rgb(170, 68, 153)",
          "size": 1
         },
         "type": "scatter3d",
         "x": [
          0,
          -24.658838790877322,
          -74.3719665129733,
          -149.71626389522885,
          -250.81531237475977,
          -376.48762226416954,
          -524.8634934724898,
          -691.804248119281,
          -870.4521770948919,
          -1050.769958922298,
          -1217.9545109444152,
          -1351.305584342159,
          -1426.298527054771,
          -1416.504638293012,
          -1298.6336005700334,
          -1058.9983224970056,
          -696.9409504858592,
          -232.5901312830426,
          287.9481761045699,
          794.4506080031761,
          1199.580613326693
         ],
         "y": [
          -500,
          -504.6407698556095,
          -512.7309216641349,
          -520.8088445042415,
          -523.5637911384259,
          -513.836815662804,
          -483.42210226298863,
          -422.4874792956981,
          -320.67745942666835,
          -168.29301103852185,
          41.840111693537835,
          312.73607980389403,
          640.6264551245347,
          1011.049854808926,
          1396.3177353646165,
          1758.214368884779,
          2049.9889410173078,
          2219.197894181505,
          2219.0748278769465,
          2022.5796382312724,
          1635.9501385688077
         ],
         "z": [
          0,
          15.90287944341294,
          47.778777934080296,
          95.25385208718154,
          157.96238956721862,
          235.49100782730676,
          326.90002218440924,
          430.56345383864,
          543.9313702002373,
          663.8961738756965,
          786.7629382971849,
          908.5680944755342,
          1024.9897800250235,
          1131.5442340140942,
          1225.4336597181662,
          1306.519138058752,
          1377.7959028887828,
          1447.487347999967,
          1529.3457855769682,
          1640.6582208795858,
          1799.7399799637883
         ]
        },
        {
         "legendgroup": "6",
         "legendgrouptitle": {
          "text": "5-sit"
         },
         "line": {
          "color": "rgb(68, 170, 153)",
          "width": 5
         },
         "marker": {
          "color": "rgb(68, 170, 153)",
          "size": 1
         },
         "type": "scatter3d",
         "x": [
          0,
          0.25190892815589905,
          0.6851547956466675,
          1.1463571786880493,
          1.4007501602172852,
          1.115753173828125,
          -0.137000173330307,
          -2.866492748260498,
          -7.64780855178833,
          -15.08651065826416,
          -25.793807983398438,
          -40.3155517578125,
          -59.01689147949219,
          -81.9605941772461,
          -108.79360961914062,
          -138.6239013671875,
          -169.94322204589844,
          -200.57968139648438,
          -227.77943420410156,
          -248.4325408935547,
          -259.37506103515625
         ],
         "y": [
          0,
          -1.9647092819213867,
          -5.886289119720459,
          -11.774782180786133,
          -19.646896362304688,
          -29.502920150756836,
          -41.286460876464844,
          -54.8629264831543,
          -69.96342468261719,
          -86.14763641357422,
          -102.7966079711914,
          -119.07251739501953,
          -133.89990234375,
          -145.9490509033203,
          -153.7128143310547,
          -155.6298828125,
          -150.26356506347656,
          -136.57192993164062,
          -114.21733856201172,
          -83.8164291381836,
          -47.19589614868164
         ],
         "z": [
          0,
          -0.23067471385002136,
          -0.6715208888053894,
          -1.2966217994689941,
          -2.078329563140869,
          -2.985982656478882,
          -3.9840428829193115,
          -5.042399883270264,
          -6.158560276031494,
          -7.35571813583374,
          -8.6923828125,
          -10.261177062988281,
          -12.206778526306152,
          -14.72220516204834,
          -18.052013397216797,
          -22.48200798034668,
          -28.32663345336914,
          -35.90103530883789,
          -45.47366714477539,
          -57.21573257446289,
          -71.14311981201172
         ]
        },
        {
         "legendgroup": "6",
         "legendgrouptitle": {
          "text": "5-sit"
         },
         "line": {
          "color": "rgb(68, 170, 153)",
          "width": 3
         },
         "marker": {
          "color": "rgb(68, 170, 153)",
          "size": 1
         },
         "type": "scatter3d",
         "x": [
          0,
          -7.630595717782262,
          -22.9574999528646,
          -46.09479290609618,
          -77.1420105800971,
          -116.1139678740502,
          -162.8223820815233,
          -216.72764632994264,
          -276.7725037204792,
          -341.205101636811,
          -407.4451474704512,
          -471.96865021788614,
          -530.250867506928,
          -576.857442948673,
          -605.739469055349,
          -610.7453231799425,
          -586.4033790870023,
          -528.9128433225596,
          -437.3311942227077,
          -314.7713394807362,
          -169.28071919389063
         ],
         "y": [
          -500,
          -501.9021692831997,
          -505.3236142673367,
          -509.52575983045045,
          -513.4094381620314,
          -515.509099123778,
          -513.9908328765994,
          -506.70088374374114,
          -491.228725100493,
          -465.0501439228766,
          -425.77115645751576,
          -371.412219233226,
          -300.7829873201305,
          -213.89669413014948,
          -112.46656468263015,
          -0.35071582386203204,
          116.14156362088346,
          228.18427942007952,
          324.77576823948334,
          393.69287784076596,
          422.99257941346525
         ],
         "z": [
          0,
          0.4035239749886871,
          1.1678066614152736,
          2.2016617039571043,
          3.361068451603349,
          4.442779224237441,
          5.183465248730926,
          5.2467870278648014,
          4.207013234199806,
          1.5636103888007096,
          -3.2429702025627645,
          -10.787927500144617,
          -21.618249513361743,
          -36.175103708186995,
          -54.70661309695632,
          -77.16055372561496,
          -103.0878868401921,
          -131.55793531605002,
          -161.1158396160484,
          -189.82050454927784,
          -215.38530163388256
         ]
        },
        {
         "legendgroup": "7",
         "legendgrouptitle": {
          "text": "6-stand"
         },
         "line": {
          "color": "rgb(153, 153, 51)",
          "width": 5
         },
         "marker": {
          "color": "rgb(153, 153, 51)",
          "size": 1
         },
         "type": "scatter3d",
         "x": [
          0,
          -0.27731427550315857,
          -0.8406690955162048,
          -1.726668357849121,
          -2.92818546295166,
          -4.415318012237549,
          -6.152786731719971,
          -8.089886665344238,
          -10.149720191955566,
          -12.254384994506836,
          -14.285402297973633,
          -16.0700626373291,
          -17.37946319580078,
          -17.95767593383789,
          -17.5548095703125,
          -15.966197967529297,
          -13.095943450927734,
          -9.001957893371582,
          -3.924863815307617,
          1.675511360168457,
          7.108701229095459
         ],
         "y": [
          0,
          -0.012615584768354893,
          -0.03958514705300331,
          -0.052983358502388,
          0.0028895465657114983,
          0.1883143037557602,
          0.578054666519165,
          1.2615082263946533,
          2.3246545791625977,
          3.861525535583496,
          5.955892086029053,
          8.66202449798584,
          11.973492622375488,
          15.802721977233887,
          19.958433151245117,
          24.142335891723633,
          27.956254959106445,
          30.919384002685547,
          32.543968200683594,
          32.388736724853516,
          30.185739517211914
         ],
         "z": [
          0,
          0.0874311700463295,
          0.2569074034690857,
          0.4997576177120209,
          0.8095954060554504,
          1.1807420253753662,
          1.6085354089736938,
          2.0979905128479004,
          2.647716999053955,
          3.24957013130188,
          3.8919782638549805,
          4.56102991104126,
          5.251126289367676,
          5.953582763671875,
          6.66546630859375,
          7.396580696105957,
          8.170742988586426,
          9.015907287597656,
          9.965140342712402,
          11.059718132019043,
          12.346354484558105
         ]
        },
        {
         "legendgroup": "7",
         "legendgrouptitle": {
          "text": "6-stand"
         },
         "line": {
          "color": "rgb(153, 153, 51)",
          "width": 3
         },
         "marker": {
          "color": "rgb(153, 153, 51)",
          "size": 1
         },
         "type": "scatter3d",
         "x": [
          0,
          -9.742368474955201,
          -29.22185247027355,
          -58.3983664091649,
          -97.02453656840946,
          -144.51252268184146,
          -199.764923999912,
          -260.94029059036234,
          -325.21562797403766,
          -388.6204832379809,
          -445.8994714233931,
          -490.5622344341296,
          -515.1932617709822,
          -512.1267063390816,
          -474.50311067057277,
          -397.7103023477607,
          -281.1119966687199,
          -129.76551581663148,
          44.27921394080843,
          221.62752835621978,
          376.75112460387294
         ],
         "y": [
          -500,
          -499.92281026080616,
          -499.2316415318244,
          -496.8241817598515,
          -491.04606059693936,
          -479.74898962278075,
          -460.35644206876304,
          -430.00648373609437,
          -385.80615168677446,
          -325.1723514883995,
          -246.32860114379827,
          -148.9221606685462,
          -34.73176733194274,
          91.66405090939378,
          222.37399273488867,
          346.0751164646705,
          448.51586554161906,
          513.8642013109026,
          527.0746959023526,
          477.124279602741,
          360.82901268775726
         ],
         "z": [
          0,
          0.5456974326682317,
          1.5982770734795737,
          3.0872426646063045,
          4.909018731338502,
          6.921608117740354,
          8.938611932104553,
          10.734676428041926,
          12.025935422945423,
          12.483630102413196,
          11.755171557099995,
          9.501018671730463,
          5.452721795781284,
          -0.5293302380541034,
          -8.374193262899414,
          -17.717629693749284,
          -27.84327045400174,
          -37.67955836859108,
          -45.853550492347686,
          -50.8386430779473,
          -51.21074384985221
         ]
        },
        {
         "legendgroup": "8",
         "legendgrouptitle": {
          "text": "7-RA"
         },
         "line": {
          "color": "rgb(136, 34, 85)",
          "width": 5
         },
         "marker": {
          "color": "rgb(136, 34, 85)",
          "size": 1
         },
         "type": "scatter3d",
         "x": [
          0,
          0.9224077463150024,
          1.8302708864212036,
          2.4104480743408203,
          3.225452423095703,
          4.398681640625,
          5.547919750213623,
          5.733951568603516,
          3.751283884048462,
          -1.6688992977142334,
          -11.67333984375,
          -27.24457359313965,
          -49.126155853271484,
          -77.49267578125,
          -110.7415542602539,
          -145.4014129638672,
          -175.43043518066406,
          -193.7733917236328,
          -192.47628784179688,
          -164.19961547851562,
          -103.75983428955078
         ],
         "y": [
          0,
          0.2103380411863327,
          0.6004800200462341,
          0.8086808919906616,
          -0.06685328483581543,
          -3.1122958660125732,
          -9.322001457214355,
          -18.27916717529297,
          -28.908811569213867,
          -40.47377395629883,
          -51.94160079956055,
          -61.63491439819336,
          -66.98147583007812,
          -64.52400207519531,
          -50.477752685546875,
          -21.456392288208008,
          24.336061477661133,
          86.6325912475586,
          162.59263610839844,
          244.6199951171875,
          320.84844970703125
         ],
         "z": [
          0,
          8.111251831054688,
          23.660964965820312,
          45.954490661621094,
          74.68510437011719,
          109.7218017578125,
          150.92349243164062,
          198.61083984375,
          253.3502197265625,
          315.4309997558594,
          384.704833984375,
          460.7877197265625,
          543.3880004882812,
          632.2681884765625,
          726.9265747070312,
          826.8789672851562,
          931.7271118164062,
          1040.953369140625,
          1153.9268798828125,
          1270.471435546875,
          1391.1846923828125
         ]
        },
        {
         "legendgroup": "8",
         "legendgrouptitle": {
          "text": "7-RA"
         },
         "line": {
          "color": "rgb(136, 34, 85)",
          "width": 3
         },
         "marker": {
          "color": "rgb(136, 34, 85)",
          "size": 1
         },
         "type": "scatter3d",
         "x": [
          0,
          -9.32912870279275,
          -28.903750553050152,
          -58.932181164714315,
          -98.56548160149227,
          -146.92529516272864,
          -203.04485012137448,
          -265.6360583104838,
          -332.44108068305775,
          -399.88906024862166,
          -462.9161071332869,
          -515.0204622467505,
          -548.6917659409169,
          -556.0664803267643,
          -529.1831041977096,
          -461.8312801275415,
          -350.9318287774905,
          -199.83856702600914,
          -19.257500704207615,
          172.06789910650627,
          348.8971512473181
         ],
         "y": [
          -500,
          -499.6835490026576,
          -498.44542146809164,
          -495.381963554563,
          -489.5132606633858,
          -479.49307480490404,
          -463.42684273721085,
          -437.7336031365402,
          -398.2693455119957,
          -341.79369844955414,
          -265.8817208008427,
          -169.36148678126776,
          -52.92555198260587,
          80.17333299923203,
          223.09484115454438,
          364.90072681156573,
          490.5709547840146,
          582.8892547531692,
          625.4163159150937,
          604.5571070282915,
          514.345551743456
         ],
         "z": [
          0,
          9.115092769264633,
          26.594927141779532,
          51.60481824093541,
          83.67510184689841,
          122.46572195503306,
          167.59231012720338,
          219.01412121356987,
          276.7487233599374,
          340.4710979108652,
          409.3947109123357,
          482.4595459249815,
          558.7708553128182,
          637.726652105708,
          718.882621354092,
          802.3776267564685,
          889.0154610734876,
          980.1871155550152,
          1077.8381606612863,
          1184.6260273766911,
          1303.6602675164909
         ]
        },
        {
         "legendgroup": "9",
         "legendgrouptitle": {
          "text": "8-SA"
         },
         "line": {
          "color": "rgb(102, 17, 0)",
          "width": 5
         },
         "marker": {
          "color": "rgb(102, 17, 0)",
          "size": 1
         },
         "type": "scatter3d",
         "x": [
          0,
          9.376324653625488,
          28.280969619750977,
          56.56397247314453,
          94.37006378173828,
          141.63282775878906,
          198.32630920410156,
          263.6632995605469,
          336.54364013671875,
          413.8230895996094,
          490.74700927734375,
          559.6056518554688,
          609.9482421875,
          628.9194946289062,
          603.7391967773438,
          524.7312622070312,
          387.2597351074219,
          197.52716064453125,
          -28.204225540161133,
          -264.17193603515625,
          -474.38037109375
         ],
         "y": [
          0,
          2.7785873413085938,
          7.450259208679199,
          11.630290985107422,
          13.846963882446289,
          12.394479751586914,
          3.522395133972168,
          -15.910359382629395,
          -49.79405212402344,
          -102.29430389404297,
          -177.89385986328125,
          -280.7816467285156,
          -412.6420593261719,
          -570.6920166015625,
          -745.4664306640625,
          -921.5731811523438,
          -1077.718017578125,
          -1190.3660888671875,
          -1238.1949462890625,
          -1204.08349609375,
          -1082.0565185546875
         ],
         "z": [
          0,
          -8.71945571899414,
          -26.26586151123047,
          -52.56747055053711,
          -87.38703155517578,
          -130.8430633544922,
          -182.78610229492188,
          -242.7041778564453,
          -309.83905029296875,
          -383.200927734375,
          -461.3296203613281,
          -542.0836181640625,
          -623.2545166015625,
          -702.5941162109375,
          -778.8873291015625,
          -852.9414672851562,
          -927.5977783203125,
          -1006.3551025390625,
          -1093.6656494140625,
          -1195.724609375,
          -1319.510498046875
         ]
        },
        {
         "legendgroup": "9",
         "legendgrouptitle": {
          "text": "8-SA"
         },
         "line": {
          "color": "rgb(102, 17, 0)",
          "width": 3
         },
         "marker": {
          "color": "rgb(102, 17, 0)",
          "size": 1
         },
         "type": "scatter3d",
         "x": [
          0,
          -1.4303661837634998,
          -4.0989309443223405,
          -8.026387677413126,
          -12.740773609054457,
          -17.55156586954584,
          -20.959366362458553,
          -21.08518060838486,
          -14.947549665440022,
          -0.02402412984821467,
          26.246500627873047,
          64.78061256529031,
          114.26319524722084,
          170.1431382620334,
          225.18334356709437,
          270.0566361921014,
          293.05571982449186,
          284.2450763554776,
          234.50798441156002,
          137.62061961410052,
          -3.4706713494147152
         ],
         "y": [
          -500,
          -497.1014238182281,
          -491.4721582920007,
          -484.07302214276905,
          -474.2648168393625,
          -461.0019950757216,
          -444.7742027056637,
          -425.2304703932115,
          -402.95955763717836,
          -379.59483618453123,
          -358.69194638169574,
          -346.0514943357019,
          -348.40491660982707,
          -372.20325645793343,
          -421.5771174863547,
          -498.4211384009109,
          -600.2414388155968,
          -720.4494797704518,
          -848.0981076859329,
          -964.6211050626925,
          -1046.5080394376514
         ],
         "z": [
          0,
          -6.933433242497188,
          -20.977822674571176,
          -42.256761085725984,
          -70.82931329365178,
          -107.261154053997,
          -152.06228650447764,
          -205.61846950715946,
          -268.2689984876051,
          -340.3642466163279,
          -421.94270152190956,
          -512.2838281512455,
          -610.2190367311005,
          -713.8398680924679,
          -821.2096495664531,
          -930.9362336444777,
          -1042.2351205688342,
          -1153.5229780750467,
          -1263.3911668064882,
          -1372.417861952816,
          -1483.7674927812413
         ]
        }
       ],
       "layout": {
        "height": 800,
        "scene": {
         "aspectmode": "data",
         "aspectratio": {
          "x": 1,
          "y": 1,
          "z": 1
         }
        },
        "template": {
         "data": {
          "bar": [
           {
            "error_x": {
             "color": "#2a3f5f"
            },
            "error_y": {
             "color": "#2a3f5f"
            },
            "marker": {
             "line": {
              "color": "#E5ECF6",
              "width": 0.5
             },
             "pattern": {
              "fillmode": "overlay",
              "size": 10,
              "solidity": 0.2
             }
            },
            "type": "bar"
           }
          ],
          "barpolar": [
           {
            "marker": {
             "line": {
              "color": "#E5ECF6",
              "width": 0.5
             },
             "pattern": {
              "fillmode": "overlay",
              "size": 10,
              "solidity": 0.2
             }
            },
            "type": "barpolar"
           }
          ],
          "carpet": [
           {
            "aaxis": {
             "endlinecolor": "#2a3f5f",
             "gridcolor": "white",
             "linecolor": "white",
             "minorgridcolor": "white",
             "startlinecolor": "#2a3f5f"
            },
            "baxis": {
             "endlinecolor": "#2a3f5f",
             "gridcolor": "white",
             "linecolor": "white",
             "minorgridcolor": "white",
             "startlinecolor": "#2a3f5f"
            },
            "type": "carpet"
           }
          ],
          "choropleth": [
           {
            "colorbar": {
             "outlinewidth": 0,
             "ticks": ""
            },
            "type": "choropleth"
           }
          ],
          "contour": [
           {
            "colorbar": {
             "outlinewidth": 0,
             "ticks": ""
            },
            "colorscale": [
             [
              0,
              "#0d0887"
             ],
             [
              0.1111111111111111,
              "#46039f"
             ],
             [
              0.2222222222222222,
              "#7201a8"
             ],
             [
              0.3333333333333333,
              "#9c179e"
             ],
             [
              0.4444444444444444,
              "#bd3786"
             ],
             [
              0.5555555555555556,
              "#d8576b"
             ],
             [
              0.6666666666666666,
              "#ed7953"
             ],
             [
              0.7777777777777778,
              "#fb9f3a"
             ],
             [
              0.8888888888888888,
              "#fdca26"
             ],
             [
              1,
              "#f0f921"
             ]
            ],
            "type": "contour"
           }
          ],
          "contourcarpet": [
           {
            "colorbar": {
             "outlinewidth": 0,
             "ticks": ""
            },
            "type": "contourcarpet"
           }
          ],
          "heatmap": [
           {
            "colorbar": {
             "outlinewidth": 0,
             "ticks": ""
            },
            "colorscale": [
             [
              0,
              "#0d0887"
             ],
             [
              0.1111111111111111,
              "#46039f"
             ],
             [
              0.2222222222222222,
              "#7201a8"
             ],
             [
              0.3333333333333333,
              "#9c179e"
             ],
             [
              0.4444444444444444,
              "#bd3786"
             ],
             [
              0.5555555555555556,
              "#d8576b"
             ],
             [
              0.6666666666666666,
              "#ed7953"
             ],
             [
              0.7777777777777778,
              "#fb9f3a"
             ],
             [
              0.8888888888888888,
              "#fdca26"
             ],
             [
              1,
              "#f0f921"
             ]
            ],
            "type": "heatmap"
           }
          ],
          "heatmapgl": [
           {
            "colorbar": {
             "outlinewidth": 0,
             "ticks": ""
            },
            "colorscale": [
             [
              0,
              "#0d0887"
             ],
             [
              0.1111111111111111,
              "#46039f"
             ],
             [
              0.2222222222222222,
              "#7201a8"
             ],
             [
              0.3333333333333333,
              "#9c179e"
             ],
             [
              0.4444444444444444,
              "#bd3786"
             ],
             [
              0.5555555555555556,
              "#d8576b"
             ],
             [
              0.6666666666666666,
              "#ed7953"
             ],
             [
              0.7777777777777778,
              "#fb9f3a"
             ],
             [
              0.8888888888888888,
              "#fdca26"
             ],
             [
              1,
              "#f0f921"
             ]
            ],
            "type": "heatmapgl"
           }
          ],
          "histogram": [
           {
            "marker": {
             "pattern": {
              "fillmode": "overlay",
              "size": 10,
              "solidity": 0.2
             }
            },
            "type": "histogram"
           }
          ],
          "histogram2d": [
           {
            "colorbar": {
             "outlinewidth": 0,
             "ticks": ""
            },
            "colorscale": [
             [
              0,
              "#0d0887"
             ],
             [
              0.1111111111111111,
              "#46039f"
             ],
             [
              0.2222222222222222,
              "#7201a8"
             ],
             [
              0.3333333333333333,
              "#9c179e"
             ],
             [
              0.4444444444444444,
              "#bd3786"
             ],
             [
              0.5555555555555556,
              "#d8576b"
             ],
             [
              0.6666666666666666,
              "#ed7953"
             ],
             [
              0.7777777777777778,
              "#fb9f3a"
             ],
             [
              0.8888888888888888,
              "#fdca26"
             ],
             [
              1,
              "#f0f921"
             ]
            ],
            "type": "histogram2d"
           }
          ],
          "histogram2dcontour": [
           {
            "colorbar": {
             "outlinewidth": 0,
             "ticks": ""
            },
            "colorscale": [
             [
              0,
              "#0d0887"
             ],
             [
              0.1111111111111111,
              "#46039f"
             ],
             [
              0.2222222222222222,
              "#7201a8"
             ],
             [
              0.3333333333333333,
              "#9c179e"
             ],
             [
              0.4444444444444444,
              "#bd3786"
             ],
             [
              0.5555555555555556,
              "#d8576b"
             ],
             [
              0.6666666666666666,
              "#ed7953"
             ],
             [
              0.7777777777777778,
              "#fb9f3a"
             ],
             [
              0.8888888888888888,
              "#fdca26"
             ],
             [
              1,
              "#f0f921"
             ]
            ],
            "type": "histogram2dcontour"
           }
          ],
          "mesh3d": [
           {
            "colorbar": {
             "outlinewidth": 0,
             "ticks": ""
            },
            "type": "mesh3d"
           }
          ],
          "parcoords": [
           {
            "line": {
             "colorbar": {
              "outlinewidth": 0,
              "ticks": ""
             }
            },
            "type": "parcoords"
           }
          ],
          "pie": [
           {
            "automargin": true,
            "type": "pie"
           }
          ],
          "scatter": [
           {
            "marker": {
             "colorbar": {
              "outlinewidth": 0,
              "ticks": ""
             }
            },
            "type": "scatter"
           }
          ],
          "scatter3d": [
           {
            "line": {
             "colorbar": {
              "outlinewidth": 0,
              "ticks": ""
             }
            },
            "marker": {
             "colorbar": {
              "outlinewidth": 0,
              "ticks": ""
             }
            },
            "type": "scatter3d"
           }
          ],
          "scattercarpet": [
           {
            "marker": {
             "colorbar": {
              "outlinewidth": 0,
              "ticks": ""
             }
            },
            "type": "scattercarpet"
           }
          ],
          "scattergeo": [
           {
            "marker": {
             "colorbar": {
              "outlinewidth": 0,
              "ticks": ""
             }
            },
            "type": "scattergeo"
           }
          ],
          "scattergl": [
           {
            "marker": {
             "colorbar": {
              "outlinewidth": 0,
              "ticks": ""
             }
            },
            "type": "scattergl"
           }
          ],
          "scattermapbox": [
           {
            "marker": {
             "colorbar": {
              "outlinewidth": 0,
              "ticks": ""
             }
            },
            "type": "scattermapbox"
           }
          ],
          "scatterpolar": [
           {
            "marker": {
             "colorbar": {
              "outlinewidth": 0,
              "ticks": ""
             }
            },
            "type": "scatterpolar"
           }
          ],
          "scatterpolargl": [
           {
            "marker": {
             "colorbar": {
              "outlinewidth": 0,
              "ticks": ""
             }
            },
            "type": "scatterpolargl"
           }
          ],
          "scatterternary": [
           {
            "marker": {
             "colorbar": {
              "outlinewidth": 0,
              "ticks": ""
             }
            },
            "type": "scatterternary"
           }
          ],
          "surface": [
           {
            "colorbar": {
             "outlinewidth": 0,
             "ticks": ""
            },
            "colorscale": [
             [
              0,
              "#0d0887"
             ],
             [
              0.1111111111111111,
              "#46039f"
             ],
             [
              0.2222222222222222,
              "#7201a8"
             ],
             [
              0.3333333333333333,
              "#9c179e"
             ],
             [
              0.4444444444444444,
              "#bd3786"
             ],
             [
              0.5555555555555556,
              "#d8576b"
             ],
             [
              0.6666666666666666,
              "#ed7953"
             ],
             [
              0.7777777777777778,
              "#fb9f3a"
             ],
             [
              0.8888888888888888,
              "#fdca26"
             ],
             [
              1,
              "#f0f921"
             ]
            ],
            "type": "surface"
           }
          ],
          "table": [
           {
            "cells": {
             "fill": {
              "color": "#EBF0F8"
             },
             "line": {
              "color": "white"
             }
            },
            "header": {
             "fill": {
              "color": "#C8D4E3"
             },
             "line": {
              "color": "white"
             }
            },
            "type": "table"
           }
          ]
         },
         "layout": {
          "annotationdefaults": {
           "arrowcolor": "#2a3f5f",
           "arrowhead": 0,
           "arrowwidth": 1
          },
          "autotypenumbers": "strict",
          "coloraxis": {
           "colorbar": {
            "outlinewidth": 0,
            "ticks": ""
           }
          },
          "colorscale": {
           "diverging": [
            [
             0,
             "#8e0152"
            ],
            [
             0.1,
             "#c51b7d"
            ],
            [
             0.2,
             "#de77ae"
            ],
            [
             0.3,
             "#f1b6da"
            ],
            [
             0.4,
             "#fde0ef"
            ],
            [
             0.5,
             "#f7f7f7"
            ],
            [
             0.6,
             "#e6f5d0"
            ],
            [
             0.7,
             "#b8e186"
            ],
            [
             0.8,
             "#7fbc41"
            ],
            [
             0.9,
             "#4d9221"
            ],
            [
             1,
             "#276419"
            ]
           ],
           "sequential": [
            [
             0,
             "#0d0887"
            ],
            [
             0.1111111111111111,
             "#46039f"
            ],
            [
             0.2222222222222222,
             "#7201a8"
            ],
            [
             0.3333333333333333,
             "#9c179e"
            ],
            [
             0.4444444444444444,
             "#bd3786"
            ],
            [
             0.5555555555555556,
             "#d8576b"
            ],
            [
             0.6666666666666666,
             "#ed7953"
            ],
            [
             0.7777777777777778,
             "#fb9f3a"
            ],
            [
             0.8888888888888888,
             "#fdca26"
            ],
            [
             1,
             "#f0f921"
            ]
           ],
           "sequentialminus": [
            [
             0,
             "#0d0887"
            ],
            [
             0.1111111111111111,
             "#46039f"
            ],
            [
             0.2222222222222222,
             "#7201a8"
            ],
            [
             0.3333333333333333,
             "#9c179e"
            ],
            [
             0.4444444444444444,
             "#bd3786"
            ],
            [
             0.5555555555555556,
             "#d8576b"
            ],
            [
             0.6666666666666666,
             "#ed7953"
            ],
            [
             0.7777777777777778,
             "#fb9f3a"
            ],
            [
             0.8888888888888888,
             "#fdca26"
            ],
            [
             1,
             "#f0f921"
            ]
           ]
          },
          "colorway": [
           "#636efa",
           "#EF553B",
           "#00cc96",
           "#ab63fa",
           "#FFA15A",
           "#19d3f3",
           "#FF6692",
           "#B6E880",
           "#FF97FF",
           "#FECB52"
          ],
          "font": {
           "color": "#2a3f5f"
          },
          "geo": {
           "bgcolor": "white",
           "lakecolor": "white",
           "landcolor": "#E5ECF6",
           "showlakes": true,
           "showland": true,
           "subunitcolor": "white"
          },
          "hoverlabel": {
           "align": "left"
          },
          "hovermode": "closest",
          "mapbox": {
           "style": "light"
          },
          "paper_bgcolor": "white",
          "plot_bgcolor": "#E5ECF6",
          "polar": {
           "angularaxis": {
            "gridcolor": "white",
            "linecolor": "white",
            "ticks": ""
           },
           "bgcolor": "#E5ECF6",
           "radialaxis": {
            "gridcolor": "white",
            "linecolor": "white",
            "ticks": ""
           }
          },
          "scene": {
           "xaxis": {
            "backgroundcolor": "#E5ECF6",
            "gridcolor": "white",
            "gridwidth": 2,
            "linecolor": "white",
            "showbackground": true,
            "ticks": "",
            "zerolinecolor": "white"
           },
           "yaxis": {
            "backgroundcolor": "#E5ECF6",
            "gridcolor": "white",
            "gridwidth": 2,
            "linecolor": "white",
            "showbackground": true,
            "ticks": "",
            "zerolinecolor": "white"
           },
           "zaxis": {
            "backgroundcolor": "#E5ECF6",
            "gridcolor": "white",
            "gridwidth": 2,
            "linecolor": "white",
            "showbackground": true,
            "ticks": "",
            "zerolinecolor": "white"
           }
          },
          "shapedefaults": {
           "line": {
            "color": "#2a3f5f"
           }
          },
          "ternary": {
           "aaxis": {
            "gridcolor": "white",
            "linecolor": "white",
            "ticks": ""
           },
           "baxis": {
            "gridcolor": "white",
            "linecolor": "white",
            "ticks": ""
           },
           "bgcolor": "#E5ECF6",
           "caxis": {
            "gridcolor": "white",
            "linecolor": "white",
            "ticks": ""
           }
          },
          "title": {
           "x": 0.05
          },
          "xaxis": {
           "automargin": true,
           "gridcolor": "white",
           "linecolor": "white",
           "ticks": "",
           "title": {
            "standoff": 15
           },
           "zerolinecolor": "white",
           "zerolinewidth": 2
          },
          "yaxis": {
           "automargin": true,
           "gridcolor": "white",
           "linecolor": "white",
           "ticks": "",
           "title": {
            "standoff": 15
           },
           "zerolinecolor": "white",
           "zerolinewidth": 2
          }
         }
        },
        "title": {
         "text": "Mean traces"
        },
        "width": 800
       }
      },
      "text/html": [
       "<div>                            <div id=\"e30aa2f6-30db-41c5-9036-991fa1f68bd9\" class=\"plotly-graph-div\" style=\"height:800px; width:800px;\"></div>            <script type=\"text/javascript\">                require([\"plotly\"], function(Plotly) {                    window.PLOTLYENV=window.PLOTLYENV || {};                                    if (document.getElementById(\"e30aa2f6-30db-41c5-9036-991fa1f68bd9\")) {                    Plotly.newPlot(                        \"e30aa2f6-30db-41c5-9036-991fa1f68bd9\",                        [{\"legendgroup\":\"1\",\"legendgrouptitle\":{\"text\":\"0-SLW\"},\"line\":{\"color\":\"rgb(204, 102, 119)\",\"width\":5},\"marker\":{\"color\":\"rgb(204, 102, 119)\",\"size\":1},\"type\":\"scatter3d\",\"x\":[0.0,8.779568672180176,26.383560180664062,52.653038024902344,88.33209228515625,133.93460083007812,189.37173461914062,255.03411865234375,330.7092590332031,414.9641418457031,505.8310241699219,599.9314575195312,691.6362915039062,773.6050415039062,837.2778930664062,873.821044921875,875.6935424804688,838.2767944335938,761.9019775390625,653.2899780273438,525.5995483398438],\"y\":[0.0,6.814178943634033,20.248981475830078,39.74723434448242,63.46486282348633,89.110107421875,113.9020004272461,134.8002471923828,148.29417419433594,151.22496032714844,139.9419708251953,110.34314727783203,59.34464645385742,-14.122413635253906,-108.24862670898438,-217.66494750976562,-333.2439270019531,-442.7580261230469,-531.0537719726562,-582.731689453125,-584.3184204101562],\"z\":[0.0,5.970254421234131,18.000732421875,36.13860321044922,60.29911804199219,90.2947998046875,126.05938720703125,167.5974578857422,214.99911499023438,268.5169982910156,328.4549255371094,395.3056640625,469.82244873046875,552.7658081054688,644.8541259765625,746.796875,858.7215576171875,980.1502685546875,1110.083251953125,1247.0638427734375,1389.11767578125]},{\"legendgroup\":\"1\",\"legendgrouptitle\":{\"text\":\"0-SLW\"},\"line\":{\"color\":\"rgb(204, 102, 119)\",\"width\":3},\"marker\":{\"color\":\"rgb(204, 102, 119)\",\"size\":1},\"type\":\"scatter3d\",\"x\":[0.0,-0.7604383502718921,-2.2434219551273102,-4.5400210158562615,-6.693981896698347,-7.603526778544364,-6.231133134121421,-0.3247428386943909,12.741322396915848,35.5504146751245,71.40253628143489,123.45194389302577,193.49673069364775,281.7940710998039,386.4209320134575,502.72322355789566,623.1418161532289,737.1539860715588,832.027226048128,894.117381252341,910.5140942365769],\"y\":[-500.0,-493.09359553193264,-478.9204562099402,-456.93156985421336,-427.31908094798115,-390.22189917358133,-345.855285553588,-294.4264425232421,-236.59097895375055,-173.00181383832853,-105.60707106529787,-38.30899660057756,23.788752901713032,74.69539256872189,107.90827228727323,117.08800524622029,96.85512988698491,43.6538069486769,-41.92269983602074,-154.34255836357084,-281.447213533552],\"z\":[0.0,7.068109100859295,21.220728426379964,42.3931581357747,70.35723723544322,104.7095799354666,145.10554467349795,191.18348539712127,242.5637691225837,298.8851155981288,359.72083248994807,424.79825999099427,494.16903759772873,568.0421522783436,646.9024634540032,731.7347503139946,823.615620905898,923.7791209986835,1033.707576558355,1154.9502486613771,1288.5700532224796]},{\"legendgroup\":\"2\",\"legendgrouptitle\":{\"text\":\"1-MLW\"},\"line\":{\"color\":\"rgb(221, 204, 119)\",\"width\":5},\"marker\":{\"color\":\"rgb(221, 204, 119)\",\"size\":1},\"type\":\"scatter3d\",\"x\":[0.0,2.8296711444854736,9.155072212219238,18.804582595825195,30.374011993408203,41.32200622558594,49.492618560791016,52.98207473754883,49.0088005065918,34.56435775756836,5.885876178741455,-40.23313522338867,-105.548583984375,-188.5861053466797,-284.725341796875,-387.28253173828125,-486.9713134765625,-569.9470825195312,-620.1394653320312,-622.74658203125,-567.4476928710938],\"y\":[0.0,-7.350893020629883,-21.76079559326172,-43.60680389404297,-73.41669464111328,-110.80050659179688,-154.63095092773438,-204.1191864013672,-258.4047546386719,-316.6642150878906,-376.2452087402344,-433.04998779296875,-481.15545654296875,-512.8899536132812,-520.288818359375,-496.5360107421875,-435.3984375,-334.2513122558594,-196.95762634277344,-35.16497039794922,132.19683837890625],\"z\":[0.0,8.676528930664062,25.939533233642578,51.95524597167969,86.69013214111328,130.20510864257812,182.78892517089844,244.7082061767578,316.1593017578125,397.1977844238281,487.88153076171875,588.1642456054688,697.50048828125,814.935546875,939.5344848632812,1070.179443359375,1205.1517333984375,1342.23779296875,1479.62841796875,1616.790771484375,1754.298583984375]},{\"legendgroup\":\"2\",\"legendgrouptitle\":{\"text\":\"1-MLW\"},\"line\":{\"color\":\"rgb(221, 204, 119)\",\"width\":3},\"marker\":{\"color\":\"rgb(221, 204, 119)\",\"size\":1},\"type\":\"scatter3d\",\"x\":[0.0,-6.657827396275117,-19.2836389434956,-38.059905608304526,-64.22482243727741,-99.72451222155269,-145.56314752765968,-201.79353971227712,-268.43192626052974,-344.5098932451107,-428.43019943087444,-516.8338664351554,-604.0443564998404,-681.0386456763811,-736.6794494304131,-760.2170736875116,-742.3915261498288,-675.1253841595792,-555.192888815081,-387.8592707145518,-188.60597888651466],\"y\":[-500.0,-507.25962630469127,-520.9410065749961,-540.3240700945661,-564.2856096319921,-590.2848289477259,-614.644977196008,-633.7599299360375,-643.8910202420518,-641.6541136808444,-622.7498948742419,-582.9282126836193,-518.3509259947319,-426.3731029388956,-307.35731457534246,-166.07675411988487,-10.561959945440606,146.2821970241949,286.2190114551093,387.82744950772394,430.798330749049],\"z\":[0.0,9.792664121535125,29.15771160548962,58.15100577666721,96.62838249181377,144.3707095411106,201.2373330181829,267.02899865125,341.29342240529303,423.3564930941651,512.4779976022404,607.8685779219155,708.3845057597499,812.6268519601265,919.5930884868293,1028.7486922950638,1139.7722083391516,1252.6550305470037,1368.6226573747088,1490.6743027550485,1622.7079137240942]},{\"legendgroup\":\"3\",\"legendgrouptitle\":{\"text\":\"2-FLW\"},\"line\":{\"color\":\"rgb(17, 119, 51)\",\"width\":5},\"marker\":{\"color\":\"rgb(17, 119, 51)\",\"size\":1},\"type\":\"scatter3d\",\"x\":[0.0,3.9547579288482666,9.541864395141602,14.497509002685547,15.158663749694824,6.761141777038574,-15.366029739379883,-55.48552322387695,-117.5774917602539,-205.29525756835938,-322.72808837890625,-473.4711608886719,-657.3391723632812,-870.2645263671875,-1103.184814453125,-1341.1405029296875,-1562.2841796875,-1737.47900390625,-1834.5010986328125,-1824.977783203125,-1691.7554931640625],\"y\":[0.0,-16.99209976196289,-50.92808151245117,-102.00221252441406,-170.37294006347656,-254.93939208984375,-353.0709533691406,-462.6669921875,-580.0301513671875,-699.630126953125,-814.619384765625,-915.1022338867188,-988.4275512695312,-1021.0510864257812,-998.6970825195312,-908.4929809570312,-741.5609130859375,-496.51739501953125,-185.64341735839844,163.2410888671875,508.6513977050781],\"z\":[0.0,11.84561538696289,35.80522537231445,72.28529357910156,121.73267364501953,184.5962677001953,261.6468505859375,353.2771301269531,459.3203430175781,579.7947387695312,714.5807495117188,862.69482421875,1022.7303466796875,1193.082763671875,1372.0897216796875,1558.0123291015625,1748.8438720703125,1942.639892578125,2138.37353515625,2336.2607421875,2537.905517578125]},{\"legendgroup\":\"3\",\"legendgrouptitle\":{\"text\":\"2-FLW\"},\"line\":{\"color\":\"rgb(17, 119, 51)\",\"width\":3},\"marker\":{\"color\":\"rgb(17, 119, 51)\",\"size\":1},\"type\":\"scatter3d\",\"x\":[0.0,-5.5949382828789265,-19.021611506848203,-42.43616813553747,-79.28673657257829,-133.82284651278945,-209.58728877619143,-309.0136613943017,-433.3230307964497,-582.1843772994255,-754.5699043228194,-947.9364890795775,-1155.0767270656177,-1364.593813091164,-1560.7999487451807,-1724.2724356767376,-1832.5766857596484,-1861.3973916598313,-1790.0489639711586,-1608.8813125150348,-1325.4640422147254],\"y\":[-500.0,-516.9005438085287,-550.1087641551487,-598.7406228416983,-661.3485455006282,-734.7224218353108,-813.7314416115416,-893.5142772770735,-967.5839222368929,-1028.0477381069281,-1066.516813143382,-1072.7955179083087,-1035.9008871313192,-946.6136503473117,-798.2164972515998,-588.7821872079593,-323.2249063763058,-15.373568881409199,307.9549640963199,608.211320528809,840.754803463002],\"z\":[0.0,12.437960898697018,37.47073453378859,75.36881802007511,126.53071737012945,191.25859498020174,270.01447333248564,362.97765005022393,469.65616729114436,589.6163533196682,722.3480900434673,866.6293533115872,1020.8306043043566,1183.2022577623366,1352.19188768974,1526.4698106566404,1704.8331159818674,1886.5609148260148,2072.156879024242,2263.433492540446,2463.488443963146]},{\"legendgroup\":\"4\",\"legendgrouptitle\":{\"text\":\"3-RD\"},\"line\":{\"color\":\"rgb(51, 34, 136)\",\"width\":5},\"marker\":{\"color\":\"rgb(51, 34, 136)\",\"size\":1},\"type\":\"scatter3d\",\"x\":[0.0,-2.726853609085083,-8.218437194824219,-18.253360748291016,-35.5622673034668,-62.010658264160156,-99.03694152832031,-148.37481689453125,-212.47605895996094,-293.35321044921875,-392.849853515625,-510.4644470214844,-642.729736328125,-783.33056640625,-921.5733032226562,-1041.2528076171875,-1122.9451904296875,-1147.890625,-1101.6875,-977.6549682617188,-781.6732788085938],\"y\":[0.0,-11.21274185180664,-33.91085433959961,-67.8279800415039,-112.20352172851562,-165.0926971435547,-224.15426635742188,-286.8277587890625,-349.2165832519531,-405.5284118652344,-448.6273193359375,-470.8990478515625,-464.45465087890625,-421.66357421875,-335.1495056152344,-200.63743591308594,-22.081636428833008,187.65234375,407.6188049316406,609.4679565429688,759.8521728515625],\"z\":[0.0,9.700716972351074,29.011850357055664,57.76176452636719,95.7403793334961,142.66424560546875,198.26962280273438,262.4037170410156,335.01824951171875,415.81640625,503.98785400390625,598.6138305664062,698.658935546875,802.2815551757812,906.6137084960938,1008.657958984375,1106.36865234375,1199.000732421875,1287.827880859375,1376.267822265625,1469.7734375]},{\"legendgroup\":\"4\",\"legendgrouptitle\":{\"text\":\"3-RD\"},\"line\":{\"color\":\"rgb(51, 34, 136)\",\"width\":3},\"marker\":{\"color\":\"rgb(51, 34, 136)\",\"size\":1},\"type\":\"scatter3d\",\"x\":[0.0,-12.626553053934522,-37.886044812348516,-77.43248230770199,-133.85801366160013,-208.5692534342605,-301.8076389593581,-413.14998501712546,-541.7707885637024,-685.0617283113347,-838.7932146847947,-995.1609034324051,-1142.650309493957,-1266.9604272960164,-1350.852094196424,-1374.9200556359253,-1321.925906638849,-1182.4058712828564,-959.4082119250861,-671.2674187477651,-353.6203214002009],\"y\":[-500.0,-511.1132185779243,-533.0169241773553,-564.2649510810861,-602.3228614401269,-642.8827409014189,-680.7741050677945,-710.3598576466161,-724.701143474369,-715.4565753930633,-674.0940947051755,-593.4367866684443,-468.5535657200305,-298.033678868482,-84.58067794206846,162.3321810610601,422.4575897743735,666.2810699299478,859.0858221533792,965.8411332994893,957.9252929424467],\"z\":[0.0,10.929260785964871,32.6124210565224,64.70189107431987,106.739428772051,158.06724101626324,217.82383358823728,285.0900914311072,359.02504208752276,438.3767805051345,521.2867508976676,605.9519303437412,690.7456920480644,773.6842365702349,852.4382323228709,925.4760814313653,993.2689134247607,1058.5612783877814,1126.7870893008321,1205.6078433856885,1303.8285528202039]},{\"legendgroup\":\"5\",\"legendgrouptitle\":{\"text\":\"4-SD\"},\"line\":{\"color\":\"rgb(170, 68, 153)\",\"width\":5},\"marker\":{\"color\":\"rgb(170, 68, 153)\",\"size\":1},\"type\":\"scatter3d\",\"x\":[0.0,-13.948466300964355,-42.300228118896484,-85.67015838623047,-144.56112670898438,-218.61825561523438,-307.5091552734375,-409.660888671875,-522.1646118164062,-640.5357055664062,-757.1449584960938,-859.7671508789062,-932.8696899414062,-958.2098999023438,-918.0462646484375,-799.363525390625,-594.9580078125,-309.5458679199219,35.14218521118164,399.9690856933594,730.181640625],\"y\":[0.0,-4.7598090171813965,-13.7987699508667,-25.077360153198242,-35.38860321044922,-40.295372009277344,-34.80863952636719,-12.575493812561035,33.43647766113281,110.36347198486328,224.3688201904297,379.9403991699219,578.1915893554688,813.7031860351562,1072.0701904296875,1332.034423828125,1565.580810546875,1737.3934326171875,1811.62109375,1760.8612060546875,1575.4453125],\"z\":[0.0,13.82612419128418,41.60531997680664,83.07223510742188,138.08692932128906,206.5814208984375,288.13079833984375,381.9086608886719,486.49365234375,600.1904296875,720.9007568359375,846.3302612304688,973.70751953125,1099.603271484375,1221.333740234375,1337.5098876953125,1448.1396484375,1556.76806640625,1671.0164794921875,1801.5550537109375,1960.996826171875]},{\"legendgroup\":\"5\",\"legendgrouptitle\":{\"text\":\"4-SD\"},\"line\":{\"color\":\"rgb(170, 68, 153)\",\"width\":3},\"marker\":{\"color\":\"rgb(170, 68, 153)\",\"size\":1},\"type\":\"scatter3d\",\"x\":[0.0,-24.658838790877322,-74.3719665129733,-149.71626389522885,-250.81531237475977,-376.48762226416954,-524.8634934724898,-691.804248119281,-870.4521770948919,-1050.769958922298,-1217.9545109444152,-1351.305584342159,-1426.298527054771,-1416.504638293012,-1298.6336005700334,-1058.9983224970056,-696.9409504858592,-232.5901312830426,287.9481761045699,794.4506080031761,1199.580613326693],\"y\":[-500.0,-504.6407698556095,-512.7309216641349,-520.8088445042415,-523.5637911384259,-513.836815662804,-483.42210226298863,-422.4874792956981,-320.67745942666835,-168.29301103852185,41.840111693537835,312.73607980389403,640.6264551245347,1011.049854808926,1396.3177353646165,1758.214368884779,2049.9889410173078,2219.197894181505,2219.0748278769465,2022.5796382312724,1635.9501385688077],\"z\":[0.0,15.90287944341294,47.778777934080296,95.25385208718154,157.96238956721862,235.49100782730676,326.90002218440924,430.56345383864,543.9313702002373,663.8961738756965,786.7629382971849,908.5680944755342,1024.9897800250235,1131.5442340140942,1225.4336597181662,1306.519138058752,1377.7959028887828,1447.487347999967,1529.3457855769682,1640.6582208795858,1799.7399799637883]},{\"legendgroup\":\"6\",\"legendgrouptitle\":{\"text\":\"5-sit\"},\"line\":{\"color\":\"rgb(68, 170, 153)\",\"width\":5},\"marker\":{\"color\":\"rgb(68, 170, 153)\",\"size\":1},\"type\":\"scatter3d\",\"x\":[0.0,0.25190892815589905,0.6851547956466675,1.1463571786880493,1.4007501602172852,1.115753173828125,-0.137000173330307,-2.866492748260498,-7.64780855178833,-15.08651065826416,-25.793807983398438,-40.3155517578125,-59.01689147949219,-81.9605941772461,-108.79360961914062,-138.6239013671875,-169.94322204589844,-200.57968139648438,-227.77943420410156,-248.4325408935547,-259.37506103515625],\"y\":[0.0,-1.9647092819213867,-5.886289119720459,-11.774782180786133,-19.646896362304688,-29.502920150756836,-41.286460876464844,-54.8629264831543,-69.96342468261719,-86.14763641357422,-102.7966079711914,-119.07251739501953,-133.89990234375,-145.9490509033203,-153.7128143310547,-155.6298828125,-150.26356506347656,-136.57192993164062,-114.21733856201172,-83.8164291381836,-47.19589614868164],\"z\":[0.0,-0.23067471385002136,-0.6715208888053894,-1.2966217994689941,-2.078329563140869,-2.985982656478882,-3.9840428829193115,-5.042399883270264,-6.158560276031494,-7.35571813583374,-8.6923828125,-10.261177062988281,-12.206778526306152,-14.72220516204834,-18.052013397216797,-22.48200798034668,-28.32663345336914,-35.90103530883789,-45.47366714477539,-57.21573257446289,-71.14311981201172]},{\"legendgroup\":\"6\",\"legendgrouptitle\":{\"text\":\"5-sit\"},\"line\":{\"color\":\"rgb(68, 170, 153)\",\"width\":3},\"marker\":{\"color\":\"rgb(68, 170, 153)\",\"size\":1},\"type\":\"scatter3d\",\"x\":[0.0,-7.630595717782262,-22.9574999528646,-46.09479290609618,-77.1420105800971,-116.1139678740502,-162.8223820815233,-216.72764632994264,-276.7725037204792,-341.205101636811,-407.4451474704512,-471.96865021788614,-530.250867506928,-576.857442948673,-605.739469055349,-610.7453231799425,-586.4033790870023,-528.9128433225596,-437.3311942227077,-314.7713394807362,-169.28071919389063],\"y\":[-500.0,-501.9021692831997,-505.3236142673367,-509.52575983045045,-513.4094381620314,-515.509099123778,-513.9908328765994,-506.70088374374114,-491.228725100493,-465.0501439228766,-425.77115645751576,-371.412219233226,-300.7829873201305,-213.89669413014948,-112.46656468263015,-0.35071582386203204,116.14156362088346,228.18427942007952,324.77576823948334,393.69287784076596,422.99257941346525],\"z\":[0.0,0.4035239749886871,1.1678066614152736,2.2016617039571043,3.361068451603349,4.442779224237441,5.183465248730926,5.2467870278648014,4.207013234199806,1.5636103888007096,-3.2429702025627645,-10.787927500144617,-21.618249513361743,-36.175103708186995,-54.70661309695632,-77.16055372561496,-103.0878868401921,-131.55793531605002,-161.1158396160484,-189.82050454927784,-215.38530163388256]},{\"legendgroup\":\"7\",\"legendgrouptitle\":{\"text\":\"6-stand\"},\"line\":{\"color\":\"rgb(153, 153, 51)\",\"width\":5},\"marker\":{\"color\":\"rgb(153, 153, 51)\",\"size\":1},\"type\":\"scatter3d\",\"x\":[0.0,-0.27731427550315857,-0.8406690955162048,-1.726668357849121,-2.92818546295166,-4.415318012237549,-6.152786731719971,-8.089886665344238,-10.149720191955566,-12.254384994506836,-14.285402297973633,-16.0700626373291,-17.37946319580078,-17.95767593383789,-17.5548095703125,-15.966197967529297,-13.095943450927734,-9.001957893371582,-3.924863815307617,1.675511360168457,7.108701229095459],\"y\":[0.0,-0.012615584768354893,-0.03958514705300331,-0.052983358502388,0.0028895465657114983,0.1883143037557602,0.578054666519165,1.2615082263946533,2.3246545791625977,3.861525535583496,5.955892086029053,8.66202449798584,11.973492622375488,15.802721977233887,19.958433151245117,24.142335891723633,27.956254959106445,30.919384002685547,32.543968200683594,32.388736724853516,30.185739517211914],\"z\":[0.0,0.0874311700463295,0.2569074034690857,0.4997576177120209,0.8095954060554504,1.1807420253753662,1.6085354089736938,2.0979905128479004,2.647716999053955,3.24957013130188,3.8919782638549805,4.56102991104126,5.251126289367676,5.953582763671875,6.66546630859375,7.396580696105957,8.170742988586426,9.015907287597656,9.965140342712402,11.059718132019043,12.346354484558105]},{\"legendgroup\":\"7\",\"legendgrouptitle\":{\"text\":\"6-stand\"},\"line\":{\"color\":\"rgb(153, 153, 51)\",\"width\":3},\"marker\":{\"color\":\"rgb(153, 153, 51)\",\"size\":1},\"type\":\"scatter3d\",\"x\":[0.0,-9.742368474955201,-29.22185247027355,-58.3983664091649,-97.02453656840946,-144.51252268184146,-199.764923999912,-260.94029059036234,-325.21562797403766,-388.6204832379809,-445.8994714233931,-490.5622344341296,-515.1932617709822,-512.1267063390816,-474.50311067057277,-397.7103023477607,-281.1119966687199,-129.76551581663148,44.27921394080843,221.62752835621978,376.75112460387294],\"y\":[-500.0,-499.92281026080616,-499.2316415318244,-496.8241817598515,-491.04606059693936,-479.74898962278075,-460.35644206876304,-430.00648373609437,-385.80615168677446,-325.1723514883995,-246.32860114379827,-148.9221606685462,-34.73176733194274,91.66405090939378,222.37399273488867,346.0751164646705,448.51586554161906,513.8642013109026,527.0746959023526,477.124279602741,360.82901268775726],\"z\":[0.0,0.5456974326682317,1.5982770734795737,3.0872426646063045,4.909018731338502,6.921608117740354,8.938611932104553,10.734676428041926,12.025935422945423,12.483630102413196,11.755171557099995,9.501018671730463,5.452721795781284,-0.5293302380541034,-8.374193262899414,-17.717629693749284,-27.84327045400174,-37.67955836859108,-45.853550492347686,-50.8386430779473,-51.21074384985221]},{\"legendgroup\":\"8\",\"legendgrouptitle\":{\"text\":\"7-RA\"},\"line\":{\"color\":\"rgb(136, 34, 85)\",\"width\":5},\"marker\":{\"color\":\"rgb(136, 34, 85)\",\"size\":1},\"type\":\"scatter3d\",\"x\":[0.0,0.9224077463150024,1.8302708864212036,2.4104480743408203,3.225452423095703,4.398681640625,5.547919750213623,5.733951568603516,3.751283884048462,-1.6688992977142334,-11.67333984375,-27.24457359313965,-49.126155853271484,-77.49267578125,-110.7415542602539,-145.4014129638672,-175.43043518066406,-193.7733917236328,-192.47628784179688,-164.19961547851562,-103.75983428955078],\"y\":[0.0,0.2103380411863327,0.6004800200462341,0.8086808919906616,-0.06685328483581543,-3.1122958660125732,-9.322001457214355,-18.27916717529297,-28.908811569213867,-40.47377395629883,-51.94160079956055,-61.63491439819336,-66.98147583007812,-64.52400207519531,-50.477752685546875,-21.456392288208008,24.336061477661133,86.6325912475586,162.59263610839844,244.6199951171875,320.84844970703125],\"z\":[0.0,8.111251831054688,23.660964965820312,45.954490661621094,74.68510437011719,109.7218017578125,150.92349243164062,198.61083984375,253.3502197265625,315.4309997558594,384.704833984375,460.7877197265625,543.3880004882812,632.2681884765625,726.9265747070312,826.8789672851562,931.7271118164062,1040.953369140625,1153.9268798828125,1270.471435546875,1391.1846923828125]},{\"legendgroup\":\"8\",\"legendgrouptitle\":{\"text\":\"7-RA\"},\"line\":{\"color\":\"rgb(136, 34, 85)\",\"width\":3},\"marker\":{\"color\":\"rgb(136, 34, 85)\",\"size\":1},\"type\":\"scatter3d\",\"x\":[0.0,-9.32912870279275,-28.903750553050152,-58.932181164714315,-98.56548160149227,-146.92529516272864,-203.04485012137448,-265.6360583104838,-332.44108068305775,-399.88906024862166,-462.9161071332869,-515.0204622467505,-548.6917659409169,-556.0664803267643,-529.1831041977096,-461.8312801275415,-350.9318287774905,-199.83856702600914,-19.257500704207615,172.06789910650627,348.8971512473181],\"y\":[-500.0,-499.6835490026576,-498.44542146809164,-495.381963554563,-489.5132606633858,-479.49307480490404,-463.42684273721085,-437.7336031365402,-398.2693455119957,-341.79369844955414,-265.8817208008427,-169.36148678126776,-52.92555198260587,80.17333299923203,223.09484115454438,364.90072681156573,490.5709547840146,582.8892547531692,625.4163159150937,604.5571070282915,514.345551743456],\"z\":[0.0,9.115092769264633,26.594927141779532,51.60481824093541,83.67510184689841,122.46572195503306,167.59231012720338,219.01412121356987,276.7487233599374,340.4710979108652,409.3947109123357,482.4595459249815,558.7708553128182,637.726652105708,718.882621354092,802.3776267564685,889.0154610734876,980.1871155550152,1077.8381606612863,1184.6260273766911,1303.6602675164909]},{\"legendgroup\":\"9\",\"legendgrouptitle\":{\"text\":\"8-SA\"},\"line\":{\"color\":\"rgb(102, 17, 0)\",\"width\":5},\"marker\":{\"color\":\"rgb(102, 17, 0)\",\"size\":1},\"type\":\"scatter3d\",\"x\":[0.0,9.376324653625488,28.280969619750977,56.56397247314453,94.37006378173828,141.63282775878906,198.32630920410156,263.6632995605469,336.54364013671875,413.8230895996094,490.74700927734375,559.6056518554688,609.9482421875,628.9194946289062,603.7391967773438,524.7312622070312,387.2597351074219,197.52716064453125,-28.204225540161133,-264.17193603515625,-474.38037109375],\"y\":[0.0,2.7785873413085938,7.450259208679199,11.630290985107422,13.846963882446289,12.394479751586914,3.522395133972168,-15.910359382629395,-49.79405212402344,-102.29430389404297,-177.89385986328125,-280.7816467285156,-412.6420593261719,-570.6920166015625,-745.4664306640625,-921.5731811523438,-1077.718017578125,-1190.3660888671875,-1238.1949462890625,-1204.08349609375,-1082.0565185546875],\"z\":[0.0,-8.71945571899414,-26.26586151123047,-52.56747055053711,-87.38703155517578,-130.8430633544922,-182.78610229492188,-242.7041778564453,-309.83905029296875,-383.200927734375,-461.3296203613281,-542.0836181640625,-623.2545166015625,-702.5941162109375,-778.8873291015625,-852.9414672851562,-927.5977783203125,-1006.3551025390625,-1093.6656494140625,-1195.724609375,-1319.510498046875]},{\"legendgroup\":\"9\",\"legendgrouptitle\":{\"text\":\"8-SA\"},\"line\":{\"color\":\"rgb(102, 17, 0)\",\"width\":3},\"marker\":{\"color\":\"rgb(102, 17, 0)\",\"size\":1},\"type\":\"scatter3d\",\"x\":[0.0,-1.4303661837634998,-4.0989309443223405,-8.026387677413126,-12.740773609054457,-17.55156586954584,-20.959366362458553,-21.08518060838486,-14.947549665440022,-0.02402412984821467,26.246500627873047,64.78061256529031,114.26319524722084,170.1431382620334,225.18334356709437,270.0566361921014,293.05571982449186,284.2450763554776,234.50798441156002,137.62061961410052,-3.4706713494147152],\"y\":[-500.0,-497.1014238182281,-491.4721582920007,-484.07302214276905,-474.2648168393625,-461.0019950757216,-444.7742027056637,-425.2304703932115,-402.95955763717836,-379.59483618453123,-358.69194638169574,-346.0514943357019,-348.40491660982707,-372.20325645793343,-421.5771174863547,-498.4211384009109,-600.2414388155968,-720.4494797704518,-848.0981076859329,-964.6211050626925,-1046.5080394376514],\"z\":[0.0,-6.933433242497188,-20.977822674571176,-42.256761085725984,-70.82931329365178,-107.261154053997,-152.06228650447764,-205.61846950715946,-268.2689984876051,-340.3642466163279,-421.94270152190956,-512.2838281512455,-610.2190367311005,-713.8398680924679,-821.2096495664531,-930.9362336444777,-1042.2351205688342,-1153.5229780750467,-1263.3911668064882,-1372.417861952816,-1483.7674927812413]}],                        {\"height\":800,\"scene\":{\"aspectmode\":\"data\",\"aspectratio\":{\"x\":1,\"y\":1,\"z\":1}},\"template\":{\"data\":{\"bar\":[{\"error_x\":{\"color\":\"#2a3f5f\"},\"error_y\":{\"color\":\"#2a3f5f\"},\"marker\":{\"line\":{\"color\":\"#E5ECF6\",\"width\":0.5},\"pattern\":{\"fillmode\":\"overlay\",\"size\":10,\"solidity\":0.2}},\"type\":\"bar\"}],\"barpolar\":[{\"marker\":{\"line\":{\"color\":\"#E5ECF6\",\"width\":0.5},\"pattern\":{\"fillmode\":\"overlay\",\"size\":10,\"solidity\":0.2}},\"type\":\"barpolar\"}],\"carpet\":[{\"aaxis\":{\"endlinecolor\":\"#2a3f5f\",\"gridcolor\":\"white\",\"linecolor\":\"white\",\"minorgridcolor\":\"white\",\"startlinecolor\":\"#2a3f5f\"},\"baxis\":{\"endlinecolor\":\"#2a3f5f\",\"gridcolor\":\"white\",\"linecolor\":\"white\",\"minorgridcolor\":\"white\",\"startlinecolor\":\"#2a3f5f\"},\"type\":\"carpet\"}],\"choropleth\":[{\"colorbar\":{\"outlinewidth\":0,\"ticks\":\"\"},\"type\":\"choropleth\"}],\"contour\":[{\"colorbar\":{\"outlinewidth\":0,\"ticks\":\"\"},\"colorscale\":[[0.0,\"#0d0887\"],[0.1111111111111111,\"#46039f\"],[0.2222222222222222,\"#7201a8\"],[0.3333333333333333,\"#9c179e\"],[0.4444444444444444,\"#bd3786\"],[0.5555555555555556,\"#d8576b\"],[0.6666666666666666,\"#ed7953\"],[0.7777777777777778,\"#fb9f3a\"],[0.8888888888888888,\"#fdca26\"],[1.0,\"#f0f921\"]],\"type\":\"contour\"}],\"contourcarpet\":[{\"colorbar\":{\"outlinewidth\":0,\"ticks\":\"\"},\"type\":\"contourcarpet\"}],\"heatmap\":[{\"colorbar\":{\"outlinewidth\":0,\"ticks\":\"\"},\"colorscale\":[[0.0,\"#0d0887\"],[0.1111111111111111,\"#46039f\"],[0.2222222222222222,\"#7201a8\"],[0.3333333333333333,\"#9c179e\"],[0.4444444444444444,\"#bd3786\"],[0.5555555555555556,\"#d8576b\"],[0.6666666666666666,\"#ed7953\"],[0.7777777777777778,\"#fb9f3a\"],[0.8888888888888888,\"#fdca26\"],[1.0,\"#f0f921\"]],\"type\":\"heatmap\"}],\"heatmapgl\":[{\"colorbar\":{\"outlinewidth\":0,\"ticks\":\"\"},\"colorscale\":[[0.0,\"#0d0887\"],[0.1111111111111111,\"#46039f\"],[0.2222222222222222,\"#7201a8\"],[0.3333333333333333,\"#9c179e\"],[0.4444444444444444,\"#bd3786\"],[0.5555555555555556,\"#d8576b\"],[0.6666666666666666,\"#ed7953\"],[0.7777777777777778,\"#fb9f3a\"],[0.8888888888888888,\"#fdca26\"],[1.0,\"#f0f921\"]],\"type\":\"heatmapgl\"}],\"histogram\":[{\"marker\":{\"pattern\":{\"fillmode\":\"overlay\",\"size\":10,\"solidity\":0.2}},\"type\":\"histogram\"}],\"histogram2d\":[{\"colorbar\":{\"outlinewidth\":0,\"ticks\":\"\"},\"colorscale\":[[0.0,\"#0d0887\"],[0.1111111111111111,\"#46039f\"],[0.2222222222222222,\"#7201a8\"],[0.3333333333333333,\"#9c179e\"],[0.4444444444444444,\"#bd3786\"],[0.5555555555555556,\"#d8576b\"],[0.6666666666666666,\"#ed7953\"],[0.7777777777777778,\"#fb9f3a\"],[0.8888888888888888,\"#fdca26\"],[1.0,\"#f0f921\"]],\"type\":\"histogram2d\"}],\"histogram2dcontour\":[{\"colorbar\":{\"outlinewidth\":0,\"ticks\":\"\"},\"colorscale\":[[0.0,\"#0d0887\"],[0.1111111111111111,\"#46039f\"],[0.2222222222222222,\"#7201a8\"],[0.3333333333333333,\"#9c179e\"],[0.4444444444444444,\"#bd3786\"],[0.5555555555555556,\"#d8576b\"],[0.6666666666666666,\"#ed7953\"],[0.7777777777777778,\"#fb9f3a\"],[0.8888888888888888,\"#fdca26\"],[1.0,\"#f0f921\"]],\"type\":\"histogram2dcontour\"}],\"mesh3d\":[{\"colorbar\":{\"outlinewidth\":0,\"ticks\":\"\"},\"type\":\"mesh3d\"}],\"parcoords\":[{\"line\":{\"colorbar\":{\"outlinewidth\":0,\"ticks\":\"\"}},\"type\":\"parcoords\"}],\"pie\":[{\"automargin\":true,\"type\":\"pie\"}],\"scatter\":[{\"marker\":{\"colorbar\":{\"outlinewidth\":0,\"ticks\":\"\"}},\"type\":\"scatter\"}],\"scatter3d\":[{\"line\":{\"colorbar\":{\"outlinewidth\":0,\"ticks\":\"\"}},\"marker\":{\"colorbar\":{\"outlinewidth\":0,\"ticks\":\"\"}},\"type\":\"scatter3d\"}],\"scattercarpet\":[{\"marker\":{\"colorbar\":{\"outlinewidth\":0,\"ticks\":\"\"}},\"type\":\"scattercarpet\"}],\"scattergeo\":[{\"marker\":{\"colorbar\":{\"outlinewidth\":0,\"ticks\":\"\"}},\"type\":\"scattergeo\"}],\"scattergl\":[{\"marker\":{\"colorbar\":{\"outlinewidth\":0,\"ticks\":\"\"}},\"type\":\"scattergl\"}],\"scattermapbox\":[{\"marker\":{\"colorbar\":{\"outlinewidth\":0,\"ticks\":\"\"}},\"type\":\"scattermapbox\"}],\"scatterpolar\":[{\"marker\":{\"colorbar\":{\"outlinewidth\":0,\"ticks\":\"\"}},\"type\":\"scatterpolar\"}],\"scatterpolargl\":[{\"marker\":{\"colorbar\":{\"outlinewidth\":0,\"ticks\":\"\"}},\"type\":\"scatterpolargl\"}],\"scatterternary\":[{\"marker\":{\"colorbar\":{\"outlinewidth\":0,\"ticks\":\"\"}},\"type\":\"scatterternary\"}],\"surface\":[{\"colorbar\":{\"outlinewidth\":0,\"ticks\":\"\"},\"colorscale\":[[0.0,\"#0d0887\"],[0.1111111111111111,\"#46039f\"],[0.2222222222222222,\"#7201a8\"],[0.3333333333333333,\"#9c179e\"],[0.4444444444444444,\"#bd3786\"],[0.5555555555555556,\"#d8576b\"],[0.6666666666666666,\"#ed7953\"],[0.7777777777777778,\"#fb9f3a\"],[0.8888888888888888,\"#fdca26\"],[1.0,\"#f0f921\"]],\"type\":\"surface\"}],\"table\":[{\"cells\":{\"fill\":{\"color\":\"#EBF0F8\"},\"line\":{\"color\":\"white\"}},\"header\":{\"fill\":{\"color\":\"#C8D4E3\"},\"line\":{\"color\":\"white\"}},\"type\":\"table\"}]},\"layout\":{\"annotationdefaults\":{\"arrowcolor\":\"#2a3f5f\",\"arrowhead\":0,\"arrowwidth\":1},\"autotypenumbers\":\"strict\",\"coloraxis\":{\"colorbar\":{\"outlinewidth\":0,\"ticks\":\"\"}},\"colorscale\":{\"diverging\":[[0,\"#8e0152\"],[0.1,\"#c51b7d\"],[0.2,\"#de77ae\"],[0.3,\"#f1b6da\"],[0.4,\"#fde0ef\"],[0.5,\"#f7f7f7\"],[0.6,\"#e6f5d0\"],[0.7,\"#b8e186\"],[0.8,\"#7fbc41\"],[0.9,\"#4d9221\"],[1,\"#276419\"]],\"sequential\":[[0.0,\"#0d0887\"],[0.1111111111111111,\"#46039f\"],[0.2222222222222222,\"#7201a8\"],[0.3333333333333333,\"#9c179e\"],[0.4444444444444444,\"#bd3786\"],[0.5555555555555556,\"#d8576b\"],[0.6666666666666666,\"#ed7953\"],[0.7777777777777778,\"#fb9f3a\"],[0.8888888888888888,\"#fdca26\"],[1.0,\"#f0f921\"]],\"sequentialminus\":[[0.0,\"#0d0887\"],[0.1111111111111111,\"#46039f\"],[0.2222222222222222,\"#7201a8\"],[0.3333333333333333,\"#9c179e\"],[0.4444444444444444,\"#bd3786\"],[0.5555555555555556,\"#d8576b\"],[0.6666666666666666,\"#ed7953\"],[0.7777777777777778,\"#fb9f3a\"],[0.8888888888888888,\"#fdca26\"],[1.0,\"#f0f921\"]]},\"colorway\":[\"#636efa\",\"#EF553B\",\"#00cc96\",\"#ab63fa\",\"#FFA15A\",\"#19d3f3\",\"#FF6692\",\"#B6E880\",\"#FF97FF\",\"#FECB52\"],\"font\":{\"color\":\"#2a3f5f\"},\"geo\":{\"bgcolor\":\"white\",\"lakecolor\":\"white\",\"landcolor\":\"#E5ECF6\",\"showlakes\":true,\"showland\":true,\"subunitcolor\":\"white\"},\"hoverlabel\":{\"align\":\"left\"},\"hovermode\":\"closest\",\"mapbox\":{\"style\":\"light\"},\"paper_bgcolor\":\"white\",\"plot_bgcolor\":\"#E5ECF6\",\"polar\":{\"angularaxis\":{\"gridcolor\":\"white\",\"linecolor\":\"white\",\"ticks\":\"\"},\"bgcolor\":\"#E5ECF6\",\"radialaxis\":{\"gridcolor\":\"white\",\"linecolor\":\"white\",\"ticks\":\"\"}},\"scene\":{\"xaxis\":{\"backgroundcolor\":\"#E5ECF6\",\"gridcolor\":\"white\",\"gridwidth\":2,\"linecolor\":\"white\",\"showbackground\":true,\"ticks\":\"\",\"zerolinecolor\":\"white\"},\"yaxis\":{\"backgroundcolor\":\"#E5ECF6\",\"gridcolor\":\"white\",\"gridwidth\":2,\"linecolor\":\"white\",\"showbackground\":true,\"ticks\":\"\",\"zerolinecolor\":\"white\"},\"zaxis\":{\"backgroundcolor\":\"#E5ECF6\",\"gridcolor\":\"white\",\"gridwidth\":2,\"linecolor\":\"white\",\"showbackground\":true,\"ticks\":\"\",\"zerolinecolor\":\"white\"}},\"shapedefaults\":{\"line\":{\"color\":\"#2a3f5f\"}},\"ternary\":{\"aaxis\":{\"gridcolor\":\"white\",\"linecolor\":\"white\",\"ticks\":\"\"},\"baxis\":{\"gridcolor\":\"white\",\"linecolor\":\"white\",\"ticks\":\"\"},\"bgcolor\":\"#E5ECF6\",\"caxis\":{\"gridcolor\":\"white\",\"linecolor\":\"white\",\"ticks\":\"\"}},\"title\":{\"x\":0.05},\"xaxis\":{\"automargin\":true,\"gridcolor\":\"white\",\"linecolor\":\"white\",\"ticks\":\"\",\"title\":{\"standoff\":15},\"zerolinecolor\":\"white\",\"zerolinewidth\":2},\"yaxis\":{\"automargin\":true,\"gridcolor\":\"white\",\"linecolor\":\"white\",\"ticks\":\"\",\"title\":{\"standoff\":15},\"zerolinecolor\":\"white\",\"zerolinewidth\":2}}},\"title\":{\"text\":\"Mean traces\"},\"width\":800},                        {\"responsive\": true}                    ).then(function(){\n",
       "                            \n",
       "var gd = document.getElementById('e30aa2f6-30db-41c5-9036-991fa1f68bd9');\n",
       "var x = new MutationObserver(function (mutations, observer) {{\n",
       "        var display = window.getComputedStyle(gd).display;\n",
       "        if (!display || display === 'none') {{\n",
       "            console.log([gd, 'removed!']);\n",
       "            Plotly.purge(gd);\n",
       "            observer.disconnect();\n",
       "        }}\n",
       "}});\n",
       "\n",
       "// Listen for the removal of the full notebook cells\n",
       "var notebookContainer = gd.closest('#notebook-container');\n",
       "if (notebookContainer) {{\n",
       "    x.observe(notebookContainer, {childList: true});\n",
       "}}\n",
       "\n",
       "// Listen for the clearing of the current output cell\n",
       "var outputEl = gd.closest('.output');\n",
       "if (outputEl) {{\n",
       "    x.observe(outputEl, {childList: true});\n",
       "}}\n",
       "\n",
       "                        })                };                });            </script>        </div>"
      ]
     },
     "metadata": {},
     "output_type": "display_data"
    }
   ],
   "source": [
    "# -------------------------------------------------------------\n",
    "# Get Data\n",
    "motion_idx = 1\n",
    "\n",
    "colors = px.colors.sequential.Plotly3\n",
    "colors = px.colors.qualitative.Safe\n",
    "data = []\n",
    "\n",
    "for name, motion_idx in event_name.items():\n",
    "    legendgroup = motion_idx\n",
    "    legendgrouptitle = {'text': event_table[motion_idx-1][0]}\n",
    "\n",
    "    X = X3[y==motion_idx]\n",
    "    X = np.mean(X, axis=0)\n",
    "\n",
    "    # -------------------------------------------------------------\n",
    "    # Compute the Trace\n",
    "    mt = MotionTrace()\n",
    "\n",
    "    for d in X:\n",
    "        mt.forward(ap=d[3:], aax=d[0], aay=d[1], aaz=d[2])\n",
    "\n",
    "    mt.trace\n",
    "\n",
    "    # -------------------------------------------------------------\n",
    "    # Draw\n",
    "\n",
    "    # Draw origin and finish\n",
    "    trace_origin = mt.trace_origin()\n",
    "    trace_finish = mt.trace_finish()\n",
    "    color = colors[motion_idx]\n",
    "\n",
    "    data.append(\n",
    "        go.Scatter3d(\n",
    "            x=trace_origin[:, 0],\n",
    "            y=trace_origin[:, 1],\n",
    "            z=trace_origin[:, 2],\n",
    "            marker={\"size\": 1, \"color\": color},\n",
    "            line={\"color\": color, \"width\": 5},\n",
    "            legendgroup=legendgroup,\n",
    "            legendgrouptitle=legendgrouptitle\n",
    "        )\n",
    "    )\n",
    "\n",
    "    data.append(\n",
    "        go.Scatter3d(\n",
    "            x=trace_finish[:, 0],\n",
    "            y=trace_finish[:, 1],\n",
    "            z=trace_finish[:, 2],\n",
    "            marker={\"size\": 1, \"color\": color},\n",
    "            line={\"color\": color, \"width\": 3},\n",
    "            legendgroup=legendgroup,\n",
    "            legendgrouptitle=legendgrouptitle,\n",
    "        )\n",
    "    )\n",
    "\n",
    "    # # Draw legs\n",
    "    # for p in tqdm(mt.trace):\n",
    "    #     origin = p[0]\n",
    "    #     for axis, color, length in zip(p[1:], [\"red\", \"green\", \"blue\"], [50, 50, -500]):\n",
    "    #         data.append(\n",
    "    #             go.Scatter3d(\n",
    "    #                 x=[origin[0], origin[0] + axis[0] * length],\n",
    "    #                 y=[origin[1], origin[1] + axis[1] * length],\n",
    "    #                 z=[origin[2], origin[2] + axis[2] * length],\n",
    "    #                 marker={\"size\": 1, \"color\": color},\n",
    "    #                 line={\"color\": color, \"width\": 2},\n",
    "    #                 legendgroup=legendgroup,\n",
    "    #                 legendgrouptitle=legendgrouptitle,\n",
    "    #             )\n",
    "    #         )\n",
    "\n",
    "fig = go.Figure(data=data)\n",
    "fig.update_layout(\n",
    "    title=\"Mean traces\",\n",
    "    width=800,\n",
    "    height=800,\n",
    "    scene=dict(aspectratio=dict(x=1, y=1, z=1), aspectmode=\"data\"),\n",
    ")\n",
    "fig.show()"
   ]
  },
  {
   "cell_type": "code",
   "execution_count": null,
   "id": "f127c19c-f390-4cad-b687-03ce6ce1faba",
   "metadata": {},
   "outputs": [],
   "source": []
  },
  {
   "cell_type": "code",
   "execution_count": null,
   "id": "8a743590",
   "metadata": {},
   "outputs": [],
   "source": []
  },
  {
   "cell_type": "code",
   "execution_count": null,
   "id": "8feb056b",
   "metadata": {},
   "outputs": [],
   "source": []
  },
  {
   "cell_type": "code",
   "execution_count": null,
   "id": "0fe56c20",
   "metadata": {},
   "outputs": [],
   "source": []
  },
  {
   "cell_type": "code",
   "execution_count": null,
   "id": "a243b409",
   "metadata": {},
   "outputs": [],
   "source": []
  },
  {
   "cell_type": "code",
   "execution_count": null,
   "id": "ae231315",
   "metadata": {},
   "outputs": [],
   "source": []
  }
 ],
 "metadata": {
  "kernelspec": {
   "display_name": "Python 3 (ipykernel)",
   "language": "python",
   "name": "python3"
  },
  "language_info": {
   "codemirror_mode": {
    "name": "ipython",
    "version": 3
   },
   "file_extension": ".py",
   "mimetype": "text/x-python",
   "name": "python",
   "nbconvert_exporter": "python",
   "pygments_lexer": "ipython3",
   "version": "3.8.12"
  },
  "toc": {
   "base_numbering": 1,
   "nav_menu": {},
   "number_sections": true,
   "sideBar": true,
   "skip_h1_title": false,
   "title_cell": "Table of Contents",
   "title_sidebar": "Contents",
   "toc_cell": false,
   "toc_position": {},
   "toc_section_display": true,
   "toc_window_display": false
  },
  "toc-autonumbering": true,
  "toc-showcode": true,
  "toc-showmarkdowntxt": true
 },
 "nbformat": 4,
 "nbformat_minor": 5
}
