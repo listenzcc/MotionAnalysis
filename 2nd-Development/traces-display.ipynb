{
 "cells": [
  {
   "cell_type": "markdown",
   "id": "c413f856-e4f4-4424-986f-8ad0316afe98",
   "metadata": {},
   "source": [
    "# Display Trace"
   ]
  },
  {
   "cell_type": "markdown",
   "id": "56c5bfbb-5c9e-445a-8c0e-7d38006473cd",
   "metadata": {},
   "source": [
    "## Packages"
   ]
  },
  {
   "cell_type": "code",
   "execution_count": 1,
   "id": "28353a88-d089-4f5a-b7b4-2dff9fd5624c",
   "metadata": {},
   "outputs": [],
   "source": [
    "import os\n",
    "\n",
    "import numpy as np\n",
    "import pandas as pd\n",
    "import plotly.express as px\n",
    "import plotly.graph_objects as go\n",
    "from tqdm.auto import tqdm"
   ]
  },
  {
   "cell_type": "code",
   "execution_count": 51,
   "id": "6110ed36-2b69-4431-bf1a-50d76028f957",
   "metadata": {},
   "outputs": [],
   "source": [
    "def scale(v, s=1):\n",
    "    \"\"\"Scale the vector of y \\in R3,\n",
    "    s is the  scaler,\n",
    "    It computes the normalized vector of y is s = 1 as default.\n",
    "    \"\"\"\n",
    "    return s * np.array(v) / np.linalg.norm(v)\n",
    "\n",
    "\n",
    "def rotate(r, n, a):\n",
    "    \"\"\"Compute the rotated vector of r \\in R3,\n",
    "    n \\in R3 is the rotate axis,\n",
    "    a \\in R is the radius.\n",
    "    \"\"\"\n",
    "    d = np.cross(n, r)\n",
    "\n",
    "    if all(d == 0):\n",
    "        return r\n",
    "\n",
    "    o = scale(scale(r, np.cos(a)) + scale(d, np.sin(a)))\n",
    "    return o\n",
    "\n",
    "\n",
    "class Point(object):\n",
    "    \"\"\"A point has its position and x-, y- and z- normalized coordinates\"\"\"\n",
    "\n",
    "    def __init__(self, p=[0, 0, 0], nx=[1, 0, 0], ny=[0, 1, 0], nz=[0, 0, 1]):\n",
    "        \"\"\"\n",
    "        Initialize the point,\n",
    "        - p: The origin of the point;\n",
    "        - nx: The normed x axis;\n",
    "        - ny: The normed y axis;\n",
    "        - nz: The normed z axis.\n",
    "        \"\"\"\n",
    "        self.p = np.array(p).astype(np.float32)\n",
    "        self.nx = scale(nx)\n",
    "        self.ny = scale(ny)\n",
    "        self.nz = scale(nz)\n",
    "        pass\n",
    "\n",
    "    def translate(self, dp):\n",
    "        \"\"\"Translate the point by p \\in R3\"\"\"\n",
    "        self.p += dp\n",
    "        pass\n",
    "\n",
    "    def rotate(self, ax, ay, az):\n",
    "        \"\"\"The point rotates around its origin, by 3 axis at ax, ay and az radius\"\"\"\n",
    "        # self.nx = rotate(self.nx, self.nx, ax)\n",
    "        self.ny = rotate(self.ny, self.nx, ax)\n",
    "        self.nz = rotate(self.nz, self.nx, ax)\n",
    "\n",
    "        self.nx = rotate(self.nx, self.ny, ay)\n",
    "        # self.ny = rotate(self.ny, self.ny, ay)\n",
    "        self.nz = rotate(self.nz, self.ny, ay)\n",
    "\n",
    "        self.nx = rotate(self.nx, self.nz, az)\n",
    "        self.ny = rotate(self.ny, self.nz, az)\n",
    "        # self.nz = rotate(self.nz, self.nz, az)\n",
    "        pass\n",
    "\n",
    "    def snip(self):\n",
    "        \"\"\"Get a quick snip of the point on the current state\"\"\"\n",
    "        # The p changes in-place, so use hard copy here.\n",
    "        return [self.p.copy(), self.nx, self.ny, self.nz]\n",
    "\n",
    "\n",
    "class MotionTrace(object):\n",
    "    \"\"\"Trace the motion and record every step\"\"\"\n",
    "\n",
    "    def __init__(self):\n",
    "        \"\"\"Initialize\"\"\"\n",
    "        # Dynamic point\n",
    "        self.point = Point()\n",
    "\n",
    "        # The point walks step-by-step,\n",
    "        # the trace records its path.\n",
    "        self.trace = []\n",
    "        self.num_steps = 0\n",
    "\n",
    "        # Reset the speed and angle\n",
    "        self.dax = 0\n",
    "        self.day = 0\n",
    "        self.daz = 0\n",
    "        self.dp = np.array((0.0, 0, 0))\n",
    "\n",
    "        # Place the first point\n",
    "        self.forward()\n",
    "        pass\n",
    "\n",
    "    def forward(self, ap=(0, 0, 0), aax=0, aay=0, aaz=0):\n",
    "        \"\"\"\n",
    "        Forward a step,\n",
    "        - ap: The accelerate of translating the position;\n",
    "        - aax, aay, aaz: The angular accelerate of rotation along the x-, y- and z- axis.\n",
    "        \"\"\"\n",
    "\n",
    "        def rad(x):\n",
    "            return x / 180 * np.pi\n",
    "\n",
    "        self.dax += aax\n",
    "        self.day += aay\n",
    "        self.daz += aaz\n",
    "        self.dp += ap\n",
    "\n",
    "        self.point.translate(self.dp)\n",
    "        self.point.rotate(rad(self.dax), rad(self.day), rad(self.daz))\n",
    "        self.trace.append(self.point.snip())\n",
    "\n",
    "        self.num_steps += 1\n",
    "        pass\n",
    "\n",
    "    def trace_origin(self):\n",
    "        \"\"\"\n",
    "        Trace the origins along the motion,\n",
    "        it will return a matrix \\in R^{n x 3},\n",
    "        - n refers the steps, it equals to the self.num_samples;\n",
    "        - 3 refers the x-, y- and z- coordinates.\n",
    "        \"\"\"\n",
    "        return np.array([e[0] for e in self.trace])\n",
    "    \n",
    "    def trace_finish(self, length=500):\n",
    "        \"\"\"\n",
    "        Trace the finish along the motion,\n",
    "        the input\n",
    "        - length refers the length of the arm/leg.\n",
    "        the length grows at the negative direction of the z-axis.\n",
    "        \n",
    "        It will return a matrix \\in R^{n x 3},\n",
    "        - n refers the steps, it equals to the self.num_samples;\n",
    "        - 3 refers the x-, y- and z- coordinates;\n",
    "        \"\"\"\n",
    "        return np.array([e[0] - e[3] * length for e in self.trace])\n",
    "    "
   ]
  },
  {
   "cell_type": "markdown",
   "id": "853a9662-8f7e-44c6-92b7-e031b9cb43b2",
   "metadata": {},
   "source": [
    "## Read Parameters"
   ]
  },
  {
   "cell_type": "code",
   "execution_count": 27,
   "id": "99f815e7-eba4-40cd-8424-7d87090b04d2",
   "metadata": {},
   "outputs": [
    {
     "name": "stdout",
     "output_type": "stream",
     "text": [
      "[('0-SLW', 1), ('1-MLW', 2), ('2-FLW', 3), ('3-RD', 4), ('4-SD', 5), ('5-sit', 6), ('6-stand', 7), ('7-RA', 8), ('8-SA', 9)]\n"
     ]
    },
    {
     "data": {
      "text/plain": [
       "((31625, 20, 6), (31625,))"
      ]
     },
     "execution_count": 27,
     "metadata": {},
     "output_type": "execute_result"
    }
   ],
   "source": [
    "folder = os.path.join(\n",
    "    os.environ[\"SYNC\"], r\"MotionData\\data\\2nd-Development\", \"parsedData\"\n",
    ")\n",
    "\n",
    "event_name = {\n",
    "    \"0-SLW\": 1,\n",
    "    \"1-MLW\": 2,\n",
    "    \"2-FLW\": 3,\n",
    "    \"3-RD\": 4,\n",
    "    \"4-SD\": 5,\n",
    "    \"5-sit\": 6,\n",
    "    \"6-stand\": 7,\n",
    "    \"7-RA\": 8,\n",
    "    \"8-SA\": 9,\n",
    "}\n",
    "\n",
    "event_table = [(a, b) for a, b in event_name.items()]\n",
    "print(event_table)\n",
    "\n",
    "# Read and mark the Signal\n",
    "X3s = []\n",
    "ys = []\n",
    "\n",
    "for name, label in event_name.items():\n",
    "    with open(os.path.join(folder, f\"{name}.npy\"), \"rb\") as f:\n",
    "        mat = np.load(f)\n",
    "    X3s.append(mat)\n",
    "    ys.append(np.zeros(mat.shape[0]) + label)\n",
    "\n",
    "X3 = np.concatenate(X3s)\n",
    "y = np.concatenate(ys)\n",
    "\n",
    "# Simple Report\n",
    "X3.shape, y.shape"
   ]
  },
  {
   "cell_type": "markdown",
   "id": "38606c03-8275-43ba-8147-58cd6fb8ba9a",
   "metadata": {},
   "source": [
    "## Take an Example"
   ]
  },
  {
   "cell_type": "code",
   "execution_count": 3,
   "id": "0fd1ce85-e6c5-4a12-8020-35943ee5f1ab",
   "metadata": {
    "scrolled": true,
    "tags": []
   },
   "outputs": [
    {
     "data": {
      "text/html": [
       "<div>\n",
       "<style scoped>\n",
       "    .dataframe tbody tr th:only-of-type {\n",
       "        vertical-align: middle;\n",
       "    }\n",
       "\n",
       "    .dataframe tbody tr th {\n",
       "        vertical-align: top;\n",
       "    }\n",
       "\n",
       "    .dataframe thead th {\n",
       "        text-align: right;\n",
       "    }\n",
       "</style>\n",
       "<table border=\"1\" class=\"dataframe\">\n",
       "  <thead>\n",
       "    <tr style=\"text-align: right;\">\n",
       "      <th></th>\n",
       "      <th>0</th>\n",
       "      <th>1</th>\n",
       "      <th>2</th>\n",
       "      <th>3</th>\n",
       "      <th>4</th>\n",
       "      <th>5</th>\n",
       "    </tr>\n",
       "  </thead>\n",
       "  <tbody>\n",
       "    <tr>\n",
       "      <th>0</th>\n",
       "      <td>-0.46</td>\n",
       "      <td>-0.35</td>\n",
       "      <td>-1.46</td>\n",
       "      <td>-48.23</td>\n",
       "      <td>196.47</td>\n",
       "      <td>44.74</td>\n",
       "    </tr>\n",
       "    <tr>\n",
       "      <th>1</th>\n",
       "      <td>-0.47</td>\n",
       "      <td>-0.21</td>\n",
       "      <td>-1.49</td>\n",
       "      <td>-60.67</td>\n",
       "      <td>180.91</td>\n",
       "      <td>52.67</td>\n",
       "    </tr>\n",
       "    <tr>\n",
       "      <th>2</th>\n",
       "      <td>-0.46</td>\n",
       "      <td>-0.04</td>\n",
       "      <td>-1.51</td>\n",
       "      <td>-26.38</td>\n",
       "      <td>179.34</td>\n",
       "      <td>56.34</td>\n",
       "    </tr>\n",
       "    <tr>\n",
       "      <th>3</th>\n",
       "      <td>-0.36</td>\n",
       "      <td>0.06</td>\n",
       "      <td>-1.45</td>\n",
       "      <td>24.03</td>\n",
       "      <td>177.45</td>\n",
       "      <td>47.34</td>\n",
       "    </tr>\n",
       "    <tr>\n",
       "      <th>4</th>\n",
       "      <td>-0.12</td>\n",
       "      <td>-0.01</td>\n",
       "      <td>-1.32</td>\n",
       "      <td>49.87</td>\n",
       "      <td>171.94</td>\n",
       "      <td>39.17</td>\n",
       "    </tr>\n",
       "    <tr>\n",
       "      <th>5</th>\n",
       "      <td>0.13</td>\n",
       "      <td>-0.13</td>\n",
       "      <td>-1.26</td>\n",
       "      <td>63.96</td>\n",
       "      <td>161.90</td>\n",
       "      <td>28.58</td>\n",
       "    </tr>\n",
       "    <tr>\n",
       "      <th>6</th>\n",
       "      <td>0.28</td>\n",
       "      <td>-0.25</td>\n",
       "      <td>-1.28</td>\n",
       "      <td>67.75</td>\n",
       "      <td>144.61</td>\n",
       "      <td>23.74</td>\n",
       "    </tr>\n",
       "    <tr>\n",
       "      <th>7</th>\n",
       "      <td>0.29</td>\n",
       "      <td>-0.28</td>\n",
       "      <td>-1.28</td>\n",
       "      <td>61.36</td>\n",
       "      <td>112.47</td>\n",
       "      <td>21.50</td>\n",
       "    </tr>\n",
       "    <tr>\n",
       "      <th>8</th>\n",
       "      <td>0.31</td>\n",
       "      <td>-0.27</td>\n",
       "      <td>-1.23</td>\n",
       "      <td>49.75</td>\n",
       "      <td>78.09</td>\n",
       "      <td>19.36</td>\n",
       "    </tr>\n",
       "    <tr>\n",
       "      <th>9</th>\n",
       "      <td>0.29</td>\n",
       "      <td>-0.18</td>\n",
       "      <td>-1.19</td>\n",
       "      <td>36.56</td>\n",
       "      <td>49.82</td>\n",
       "      <td>18.97</td>\n",
       "    </tr>\n",
       "    <tr>\n",
       "      <th>10</th>\n",
       "      <td>0.16</td>\n",
       "      <td>-0.08</td>\n",
       "      <td>-1.21</td>\n",
       "      <td>28.61</td>\n",
       "      <td>28.43</td>\n",
       "      <td>16.21</td>\n",
       "    </tr>\n",
       "    <tr>\n",
       "      <th>11</th>\n",
       "      <td>0.01</td>\n",
       "      <td>-0.02</td>\n",
       "      <td>-1.26</td>\n",
       "      <td>23.11</td>\n",
       "      <td>16.76</td>\n",
       "      <td>15.04</td>\n",
       "    </tr>\n",
       "    <tr>\n",
       "      <th>12</th>\n",
       "      <td>-0.07</td>\n",
       "      <td>0.01</td>\n",
       "      <td>-1.30</td>\n",
       "      <td>25.74</td>\n",
       "      <td>2.70</td>\n",
       "      <td>12.83</td>\n",
       "    </tr>\n",
       "    <tr>\n",
       "      <th>13</th>\n",
       "      <td>0.08</td>\n",
       "      <td>0.12</td>\n",
       "      <td>-1.21</td>\n",
       "      <td>27.46</td>\n",
       "      <td>-17.07</td>\n",
       "      <td>12.06</td>\n",
       "    </tr>\n",
       "    <tr>\n",
       "      <th>14</th>\n",
       "      <td>0.74</td>\n",
       "      <td>0.25</td>\n",
       "      <td>-0.85</td>\n",
       "      <td>49.67</td>\n",
       "      <td>-30.33</td>\n",
       "      <td>9.99</td>\n",
       "    </tr>\n",
       "    <tr>\n",
       "      <th>15</th>\n",
       "      <td>1.27</td>\n",
       "      <td>0.45</td>\n",
       "      <td>-0.60</td>\n",
       "      <td>93.09</td>\n",
       "      <td>-43.24</td>\n",
       "      <td>-7.32</td>\n",
       "    </tr>\n",
       "    <tr>\n",
       "      <th>16</th>\n",
       "      <td>1.07</td>\n",
       "      <td>0.57</td>\n",
       "      <td>-0.47</td>\n",
       "      <td>113.75</td>\n",
       "      <td>-62.82</td>\n",
       "      <td>-42.66</td>\n",
       "    </tr>\n",
       "    <tr>\n",
       "      <th>17</th>\n",
       "      <td>0.42</td>\n",
       "      <td>0.34</td>\n",
       "      <td>-0.54</td>\n",
       "      <td>109.28</td>\n",
       "      <td>-70.97</td>\n",
       "      <td>-55.65</td>\n",
       "    </tr>\n",
       "    <tr>\n",
       "      <th>18</th>\n",
       "      <td>-0.27</td>\n",
       "      <td>0.02</td>\n",
       "      <td>-0.80</td>\n",
       "      <td>58.10</td>\n",
       "      <td>-40.34</td>\n",
       "      <td>-36.83</td>\n",
       "    </tr>\n",
       "    <tr>\n",
       "      <th>19</th>\n",
       "      <td>-0.92</td>\n",
       "      <td>-0.29</td>\n",
       "      <td>-1.23</td>\n",
       "      <td>11.08</td>\n",
       "      <td>14.67</td>\n",
       "      <td>-14.56</td>\n",
       "    </tr>\n",
       "  </tbody>\n",
       "</table>\n",
       "</div>"
      ],
      "text/plain": [
       "       0     1     2       3       4      5\n",
       "0  -0.46 -0.35 -1.46  -48.23  196.47  44.74\n",
       "1  -0.47 -0.21 -1.49  -60.67  180.91  52.67\n",
       "2  -0.46 -0.04 -1.51  -26.38  179.34  56.34\n",
       "3  -0.36  0.06 -1.45   24.03  177.45  47.34\n",
       "4  -0.12 -0.01 -1.32   49.87  171.94  39.17\n",
       "5   0.13 -0.13 -1.26   63.96  161.90  28.58\n",
       "6   0.28 -0.25 -1.28   67.75  144.61  23.74\n",
       "7   0.29 -0.28 -1.28   61.36  112.47  21.50\n",
       "8   0.31 -0.27 -1.23   49.75   78.09  19.36\n",
       "9   0.29 -0.18 -1.19   36.56   49.82  18.97\n",
       "10  0.16 -0.08 -1.21   28.61   28.43  16.21\n",
       "11  0.01 -0.02 -1.26   23.11   16.76  15.04\n",
       "12 -0.07  0.01 -1.30   25.74    2.70  12.83\n",
       "13  0.08  0.12 -1.21   27.46  -17.07  12.06\n",
       "14  0.74  0.25 -0.85   49.67  -30.33   9.99\n",
       "15  1.27  0.45 -0.60   93.09  -43.24  -7.32\n",
       "16  1.07  0.57 -0.47  113.75  -62.82 -42.66\n",
       "17  0.42  0.34 -0.54  109.28  -70.97 -55.65\n",
       "18 -0.27  0.02 -0.80   58.10  -40.34 -36.83\n",
       "19 -0.92 -0.29 -1.23   11.08   14.67 -14.56"
      ]
     },
     "execution_count": 3,
     "metadata": {},
     "output_type": "execute_result"
    }
   ],
   "source": [
    "pd.DataFrame(X3[0])"
   ]
  },
  {
   "cell_type": "markdown",
   "id": "5f39ff41-9754-47cc-aee2-c30610a4fb25",
   "metadata": {},
   "source": [
    "## Compute the Trace"
   ]
  },
  {
   "cell_type": "code",
   "execution_count": 52,
   "id": "c0575113-24c3-4577-9bc1-0dad8f017a8c",
   "metadata": {},
   "outputs": [
    {
     "data": {
      "application/vnd.jupyter.widget-view+json": {
       "model_id": "b007f99ebccb42d4b8318297e8083166",
       "version_major": 2,
       "version_minor": 0
      },
      "text/plain": [
       "  0%|          | 0/21 [00:00<?, ?it/s]"
      ]
     },
     "metadata": {},
     "output_type": "display_data"
    },
    {
     "data": {
      "application/vnd.plotly.v1+json": {
       "config": {
        "plotlyServerURL": "https://plot.ly"
       },
       "data": [
        {
         "legendgroup": "0",
         "legendgrouptitle": {
          "text": "origins"
         },
         "line": {
          "color": "black",
          "width": 2
         },
         "marker": {
          "color": "black",
          "size": 1
         },
         "type": "scatter3d",
         "x": [
          0,
          -48.22999954223633,
          -157.1300048828125,
          -292.4100036621094,
          -403.6600036621094,
          -465.0400085449219,
          -462.46002197265625,
          -392.1300354003906,
          -260.4400329589844,
          -79.00003051757812,
          138.99996948242188,
          385.6099548339844,
          655.3299560546875,
          950.7899780273438,
          1273.7099609375,
          1646.2999267578125,
          2111.97998046875,
          2691.409912109375,
          3380.119873046875,
          4126.9296875,
          4884.81982421875
         ],
         "y": [
          0,
          196.47000122070312,
          573.8499755859375,
          1130.5699462890625,
          1864.739990234375,
          2770.85009765625,
          3838.860107421875,
          5051.47998046875,
          6376.56982421875,
          7779.75,
          9232.75,
          10714.1796875,
          12212.3701171875,
          13713.259765625,
          15197.080078125,
          16650.5703125,
          18060.8203125,
          19408.25,
          20684.7109375,
          21920.830078125,
          23171.619140625
         ],
         "z": [
          0,
          44.7400016784668,
          142.15000915527344,
          295.9000244140625,
          496.9900207519531,
          737.25,
          1006.0900268554688,
          1298.6700439453125,
          1612.75,
          1946.18994140625,
          2298.599853515625,
          2667.219970703125,
          3050.8798828125,
          3447.369873046875,
          3855.919921875,
          4274.4599609375,
          4685.68017578125,
          5054.240234375,
          5367.150390625,
          5643.23046875,
          5904.75048828125
         ]
        },
        {
         "legendgroup": "1",
         "legendgrouptitle": {
          "text": "finish"
         },
         "line": {
          "color": "black",
          "width": 2
         },
         "marker": {
          "color": "black",
          "size": 1
         },
         "type": "scatter3d",
         "x": [
          0,
          -45.17569234689715,
          -149.397838997717,
          -280.3944616448946,
          -389.35696225149144,
          -450.2864122135783,
          -447.9343832908306,
          -377.1253653074092,
          -244.0344930209932,
          -60.44994088186465,
          159.4509397832536,
          405.8686127155749,
          671.5160170352697,
          958.3181978211267,
          1270.2195398929885,
          1634.8841222369317,
          2096.896787429177,
          2671.9680311503257,
          3349.817669173233,
          4079.460829668122,
          4821.147951704579
         ],
         "y": [
          0,
          192.45586196174494,
          561.6001370345299,
          1105.834457951066,
          1824.2255859204224,
          2713.415841503608,
          3765.265593249355,
          4962.99009477815,
          6273.73857861033,
          7662.5164835051655,
          9100.818125992206,
          10567.267252064908,
          12050.940893378192,
          13539.299061437989,
          15014.120063883172,
          16458.785299766776,
          17854.506490422733,
          19181.030434731372,
          20435.894287001738,
          21657.413959586305,
          22905.265803054983
         ],
         "z": [
          -500,
          -455.2345555677657,
          -357.6401018575295,
          -203.34318522099449,
          -1.1605649643458946,
          240.77881491924978,
          511.7491997891665,
          806.7916036718387,
          1123.7136075035278,
          1460.4820077827992,
          1816.75367636513,
          2189.71989416348,
          2577.9331446587653,
          2978.668476307442,
          3390.609863795914,
          3812.845199152244,
          4230.480105364295,
          4609.275873528077,
          4934.5165374937105,
          5220.90517228986,
          5486.418332912037
         ]
        },
        {
         "legendgroup": "2",
         "legendgrouptitle": {
          "text": "--2--"
         },
         "line": {
          "color": "red",
          "width": 2
         },
         "marker": {
          "color": "red",
          "size": 1
         },
         "type": "scatter3d",
         "x": [
          0,
          50
         ],
         "y": [
          0,
          0
         ],
         "z": [
          0,
          0
         ]
        },
        {
         "legendgroup": "2",
         "legendgrouptitle": {
          "text": "--2--"
         },
         "line": {
          "color": "green",
          "width": 2
         },
         "marker": {
          "color": "green",
          "size": 1
         },
         "type": "scatter3d",
         "x": [
          0,
          0
         ],
         "y": [
          0,
          50
         ],
         "z": [
          0,
          0
         ]
        },
        {
         "legendgroup": "2",
         "legendgrouptitle": {
          "text": "--2--"
         },
         "line": {
          "color": "blue",
          "width": 2
         },
         "marker": {
          "color": "blue",
          "size": 1
         },
         "type": "scatter3d",
         "x": [
          0,
          0
         ],
         "y": [
          0,
          0
         ],
         "z": [
          0,
          -500
         ]
        },
        {
         "legendgroup": "3",
         "legendgrouptitle": {
          "text": "--3--"
         },
         "line": {
          "color": "red",
          "width": 2
         },
         "marker": {
          "color": "red",
          "size": 1
         },
         "type": "scatter3d",
         "x": [
          -48.22999954223633,
          1.7528356887276288
         ],
         "y": [
          196.47000122070312,
          195.19854113481176
         ],
         "z": [
          44.7400016784668,
          45.05555123763899
         ]
        },
        {
         "legendgroup": "3",
         "legendgrouptitle": {
          "text": "--3--"
         },
         "line": {
          "color": "green",
          "width": 2
         },
         "marker": {
          "color": "green",
          "size": 1
         },
         "type": "scatter3d",
         "x": [
          -48.22999954223633,
          -46.956070835489506
         ],
         "y": [
          196.47000122070312,
          246.45222062030643
         ],
         "z": [
          44.7400016784668,
          44.34649241549535
         ]
        },
        {
         "legendgroup": "3",
         "legendgrouptitle": {
          "text": "--3--"
         },
         "line": {
          "color": "blue",
          "width": 2
         },
         "marker": {
          "color": "blue",
          "size": 1
         },
         "type": "scatter3d",
         "x": [
          -48.22999954223633,
          -45.17569234689715
         ],
         "y": [
          196.47000122070312,
          192.45586196174494
         ],
         "z": [
          44.7400016784668,
          -455.2345555677657
         ]
        },
        {
         "legendgroup": "4",
         "legendgrouptitle": {
          "text": "--4--"
         },
         "line": {
          "color": "red",
          "width": 2
         },
         "marker": {
          "color": "red",
          "size": 1
         },
         "type": "scatter3d",
         "x": [
          -157.1300048828125,
          -107.28437736195207
         ],
         "y": [
          573.8499755859375,
          570.0204629037929
         ],
         "z": [
          142.15000915527344,
          143.0150234146567
         ]
        },
        {
         "legendgroup": "4",
         "legendgrouptitle": {
          "text": "--4--"
         },
         "line": {
          "color": "green",
          "width": 2
         },
         "marker": {
          "color": "green",
          "size": 1
         },
         "type": "scatter3d",
         "x": [
          -157.1300048828125,
          -153.28090717570035
         ],
         "y": [
          573.8499755859375,
          623.6880558777378
         ],
         "z": [
          142.15000915527344,
          140.98802823066
         ]
        },
        {
         "legendgroup": "4",
         "legendgrouptitle": {
          "text": "--4--"
         },
         "line": {
          "color": "blue",
          "width": 2
         },
         "marker": {
          "color": "blue",
          "size": 1
         },
         "type": "scatter3d",
         "x": [
          -157.1300048828125,
          -149.397838997717
         ],
         "y": [
          573.8499755859375,
          561.6001370345299
         ],
         "z": [
          142.15000915527344,
          -357.6401018575295
         ]
        },
        {
         "legendgroup": "5",
         "legendgrouptitle": {
          "text": "--5--"
         },
         "line": {
          "color": "red",
          "width": 2
         },
         "marker": {
          "color": "red",
          "size": 1
         },
         "type": "scatter3d",
         "x": [
          -292.4100036621094,
          -243.02582370529285
         ],
         "y": [
          1130.5699462890625,
          1122.9055336903975
         ],
         "z": [
          295.9000244140625,
          297.468319510717
         ]
        },
        {
         "legendgroup": "5",
         "legendgrouptitle": {
          "text": "--5--"
         },
         "line": {
          "color": "green",
          "width": 2
         },
         "marker": {
          "color": "green",
          "size": 1
         },
         "type": "scatter3d",
         "x": [
          -292.4100036621094,
          -284.6796066805121
         ],
         "y": [
          1130.5699462890625,
          1179.9170671339937
         ],
         "z": [
          295.9000244140625,
          293.64112494248883
         ]
        },
        {
         "legendgroup": "5",
         "legendgrouptitle": {
          "text": "--5--"
         },
         "line": {
          "color": "blue",
          "width": 2
         },
         "marker": {
          "color": "blue",
          "size": 1
         },
         "type": "scatter3d",
         "x": [
          -292.4100036621094,
          -280.3944616448946
         ],
         "y": [
          1130.5699462890625,
          1105.834457951066
         ],
         "z": [
          295.9000244140625,
          -203.34318522099449
         ]
        },
        {
         "legendgroup": "6",
         "legendgrouptitle": {
          "text": "--6--"
         },
         "line": {
          "color": "red",
          "width": 2
         },
         "marker": {
          "color": "red",
          "size": 1
         },
         "type": "scatter3d",
         "x": [
          -403.6600036621094,
          -355.3489109100583
         ],
         "y": [
          1864.739990234375,
          1852.0830235857368
         ],
         "z": [
          496.9900207519531,
          499.4065290507138
         ]
        },
        {
         "legendgroup": "6",
         "legendgrouptitle": {
          "text": "--6--"
         },
         "line": {
          "color": "green",
          "width": 2
         },
         "marker": {
          "color": "green",
          "size": 1
         },
         "type": "scatter3d",
         "x": [
          -403.6600036621094,
          -390.85404617479986
         ],
         "y": [
          1864.739990234375,
          1912.941515372965
         ],
         "z": [
          496.9900207519531,
          493.43749669895874
         ]
        },
        {
         "legendgroup": "6",
         "legendgrouptitle": {
          "text": "--6--"
         },
         "line": {
          "color": "blue",
          "width": 2
         },
         "marker": {
          "color": "blue",
          "size": 1
         },
         "type": "scatter3d",
         "x": [
          -403.6600036621094,
          -389.35696225149144
         ],
         "y": [
          1864.739990234375,
          1824.2255859204224
         ],
         "z": [
          496.9900207519531,
          -1.1605649643458946
         ]
        },
        {
         "legendgroup": "7",
         "legendgrouptitle": {
          "text": "--7--"
         },
         "line": {
          "color": "red",
          "width": 2
         },
         "marker": {
          "color": "red",
          "size": 1
         },
         "type": "scatter3d",
         "x": [
          -465.0400085449219,
          -418.7415619867157
         ],
         "y": [
          2770.85009765625,
          2752.301462733879
         ],
         "z": [
          737.25,
          740.7716457535536
         ]
        },
        {
         "legendgroup": "7",
         "legendgrouptitle": {
          "text": "--7--"
         },
         "line": {
          "color": "green",
          "width": 2
         },
         "marker": {
          "color": "green",
          "size": 1
         },
         "type": "scatter3d",
         "x": [
          -465.0400085449219,
          -446.21775681326545
         ],
         "y": [
          2770.85009765625,
          2816.9257007962906
         ],
         "z": [
          737.25,
          732.4790844660974
         ]
        },
        {
         "legendgroup": "7",
         "legendgrouptitle": {
          "text": "--7--"
         },
         "line": {
          "color": "blue",
          "width": 2
         },
         "marker": {
          "color": "blue",
          "size": 1
         },
         "type": "scatter3d",
         "x": [
          -465.0400085449219,
          -450.2864122135783
         ],
         "y": [
          2770.85009765625,
          2713.415841503608
         ],
         "z": [
          737.25,
          240.77881491924978
         ]
        },
        {
         "legendgroup": "8",
         "legendgrouptitle": {
          "text": "--8--"
         },
         "line": {
          "color": "red",
          "width": 2
         },
         "marker": {
          "color": "red",
          "size": 1
         },
         "type": "scatter3d",
         "x": [
          -462.46002197265625,
          -419.4669456906738
         ],
         "y": [
          3838.860107421875,
          3813.8262627728377
         ],
         "z": [
          1006.0900268554688,
          1011.0802186252811
         ]
        },
        {
         "legendgroup": "8",
         "legendgrouptitle": {
          "text": "--8--"
         },
         "line": {
          "color": "green",
          "width": 2
         },
         "marker": {
          "color": "green",
          "size": 1
         },
         "type": "scatter3d",
         "x": [
          -462.46002197265625,
          -436.97501755789324
         ],
         "y": [
          3838.860107421875,
          3881.511544641797
         ],
         "z": [
          1006.0900268554688,
          1000.4891828963373
         ]
        },
        {
         "legendgroup": "8",
         "legendgrouptitle": {
          "text": "--8--"
         },
         "line": {
          "color": "blue",
          "width": 2
         },
         "marker": {
          "color": "blue",
          "size": 1
         },
         "type": "scatter3d",
         "x": [
          -462.46002197265625,
          -447.9343832908306
         ],
         "y": [
          3838.860107421875,
          3765.265593249355
         ],
         "z": [
          1006.0900268554688,
          511.7491997891665
         ]
        },
        {
         "legendgroup": "9",
         "legendgrouptitle": {
          "text": "--9--"
         },
         "line": {
          "color": "red",
          "width": 2
         },
         "marker": {
          "color": "red",
          "size": 1
         },
         "type": "scatter3d",
         "x": [
          -392.1300354003906,
          -354.10843085625885
         ],
         "y": [
          5051.47998046875,
          5019.744013280866
         ],
         "z": [
          1298.6700439453125,
          1305.539248742027
         ]
        },
        {
         "legendgroup": "9",
         "legendgrouptitle": {
          "text": "--9--"
         },
         "line": {
          "color": "green",
          "width": 2
         },
         "marker": {
          "color": "green",
          "size": 1
         },
         "type": "scatter3d",
         "x": [
          -392.1300354003906,
          -359.69384902400435
         ],
         "y": [
          5051.47998046875,
          5089.090135852027
         ],
         "z": [
          1298.6700439453125,
          1292.8933645010175
         ]
        },
        {
         "legendgroup": "9",
         "legendgrouptitle": {
          "text": "--9--"
         },
         "line": {
          "color": "blue",
          "width": 2
         },
         "marker": {
          "color": "blue",
          "size": 1
         },
         "type": "scatter3d",
         "x": [
          -392.1300354003906,
          -377.1253653074092
         ],
         "y": [
          5051.47998046875,
          4962.99009477815
         ],
         "z": [
          1298.6700439453125,
          806.7916036718387
         ]
        },
        {
         "legendgroup": "10",
         "legendgrouptitle": {
          "text": "--10--"
         },
         "line": {
          "color": "red",
          "width": 2
         },
         "marker": {
          "color": "red",
          "size": 1
         },
         "type": "scatter3d",
         "x": [
          -260.4400329589844,
          -229.3704991230024
         ],
         "y": [
          6376.56982421875,
          6338.456017998328
         ],
         "z": [
          1612.75,
          1621.8065911140384
         ]
        },
        {
         "legendgroup": "10",
         "legendgrouptitle": {
          "text": "--10--"
         },
         "line": {
          "color": "green",
          "width": 2
         },
         "marker": {
          "color": "green",
          "size": 1
         },
         "type": "scatter3d",
         "x": [
          -260.4400329589844,
          -221.2993552718492
         ],
         "y": [
          6376.56982421875,
          6407.255246240588
         ],
         "z": [
          1612.75,
          1607.6107174106219
         ]
        },
        {
         "legendgroup": "10",
         "legendgrouptitle": {
          "text": "--10--"
         },
         "line": {
          "color": "blue",
          "width": 2
         },
         "marker": {
          "color": "blue",
          "size": 1
         },
         "type": "scatter3d",
         "x": [
          -260.4400329589844,
          -244.0344930209932
         ],
         "y": [
          6376.56982421875,
          6273.73857861033
         ],
         "z": [
          1612.75,
          1123.7136075035278
         ]
        },
        {
         "legendgroup": "11",
         "legendgrouptitle": {
          "text": "--11--"
         },
         "line": {
          "color": "red",
          "width": 2
         },
         "marker": {
          "color": "red",
          "size": 1
         },
         "type": "scatter3d",
         "x": [
          -79.00003051757812,
          -57.00717458333101
         ],
         "y": [
          7779.75,
          7736.298876569952
         ],
         "z": [
          1946.18994140625,
          1957.5175254612113
         ]
        },
        {
         "legendgroup": "11",
         "legendgrouptitle": {
          "text": "--11--"
         },
         "line": {
          "color": "green",
          "width": 2
         },
         "marker": {
          "color": "green",
          "size": 1
         },
         "type": "scatter3d",
         "x": [
          -79.00003051757812,
          -34.13497474361835
         ],
         "y": [
          7779.75,
          7801.534464619754
         ],
         "z": [
          1946.18994140625,
          1942.6453861971775
         ]
        },
        {
         "legendgroup": "11",
         "legendgrouptitle": {
          "text": "--11--"
         },
         "line": {
          "color": "blue",
          "width": 2
         },
         "marker": {
          "color": "blue",
          "size": 1
         },
         "type": "scatter3d",
         "x": [
          -79.00003051757812,
          -60.44994088186465
         ],
         "y": [
          7779.75,
          7662.5164835051655
         ],
         "z": [
          1946.18994140625,
          1460.4820077827992
         ]
        },
        {
         "legendgroup": "12",
         "legendgrouptitle": {
          "text": "--12--"
         },
         "line": {
          "color": "red",
          "width": 2
         },
         "marker": {
          "color": "red",
          "size": 1
         },
         "type": "scatter3d",
         "x": [
          138.99996948242188,
          149.88471120646142
         ],
         "y": [
          9232.75,
          9185.801243969137
         ],
         "z": [
          2298.599853515625,
          2311.916636338648
         ]
        },
        {
         "legendgroup": "12",
         "legendgrouptitle": {
          "text": "--12--"
         },
         "line": {
          "color": "green",
          "width": 2
         },
         "marker": {
          "color": "green",
          "size": 1
         },
         "type": "scatter3d",
         "x": [
          138.99996948242188,
          187.75794294049842
         ],
         "y": [
          9232.75,
          9243.78422463803
         ],
         "z": [
          2298.599853515625,
          2297.6480599986344
         ]
        },
        {
         "legendgroup": "12",
         "legendgrouptitle": {
          "text": "--12--"
         },
         "line": {
          "color": "blue",
          "width": 2
         },
         "marker": {
          "color": "blue",
          "size": 1
         },
         "type": "scatter3d",
         "x": [
          138.99996948242188,
          159.4509397832536
         ],
         "y": [
          9232.75,
          9100.818125992206
         ],
         "z": [
          2298.599853515625,
          1816.75367636513
         ]
        },
        {
         "legendgroup": "13",
         "legendgrouptitle": {
          "text": "--13--"
         },
         "line": {
          "color": "red",
          "width": 2
         },
         "marker": {
          "color": "red",
          "size": 1
         },
         "type": "scatter3d",
         "x": [
          385.6099548339844,
          383.72505038442733
         ],
         "y": [
          10714.1796875,
          10666.401986076899
         ],
         "z": [
          2667.219970703125,
          2681.8397648857044
         ]
        },
        {
         "legendgroup": "13",
         "legendgrouptitle": {
          "text": "--13--"
         },
         "line": {
          "color": "green",
          "width": 2
         },
         "marker": {
          "color": "green",
          "size": 1
         },
         "type": "scatter3d",
         "x": [
          385.6099548339844,
          435.5333261446682
         ],
         "y": [
          10714.1796875,
          10712.971958279422
         ],
         "z": [
          2667.219970703125,
          2669.7096267246175
         ]
        },
        {
         "legendgroup": "13",
         "legendgrouptitle": {
          "text": "--13--"
         },
         "line": {
          "color": "blue",
          "width": 2
         },
         "marker": {
          "color": "blue",
          "size": 1
         },
         "type": "scatter3d",
         "x": [
          385.6099548339844,
          405.8686127155749
         ],
         "y": [
          10714.1796875,
          10567.267252064908
         ],
         "z": [
          2667.219970703125,
          2189.71989416348
         ]
        },
        {
         "legendgroup": "14",
         "legendgrouptitle": {
          "text": "--14--"
         },
         "line": {
          "color": "red",
          "width": 2
         },
         "marker": {
          "color": "red",
          "size": 1
         },
         "type": "scatter3d",
         "x": [
          655.3299560546875,
          639.7548136650449
         ],
         "y": [
          12212.3701171875,
          12167.244591118797
         ],
         "z": [
          3050.8798828125,
          3065.7493762996746
         ]
        },
        {
         "legendgroup": "14",
         "legendgrouptitle": {
          "text": "--14--"
         },
         "line": {
          "color": "green",
          "width": 2
         },
         "marker": {
          "color": "green",
          "size": 1
         },
         "type": "scatter3d",
         "x": [
          655.3299560546875,
          702.814638362161
         ],
         "y": [
          12212.3701171875,
          12198.119048665245
         ],
         "z": [
          3050.8798828125,
          3057.3692581393166
         ]
        },
        {
         "legendgroup": "14",
         "legendgrouptitle": {
          "text": "--14--"
         },
         "line": {
          "color": "blue",
          "width": 2
         },
         "marker": {
          "color": "blue",
          "size": 1
         },
         "type": "scatter3d",
         "x": [
          655.3299560546875,
          671.5160170352697
         ],
         "y": [
          12212.3701171875,
          12050.940893378192
         ],
         "z": [
          3050.8798828125,
          2577.9331446587653
         ]
        },
        {
         "legendgroup": "15",
         "legendgrouptitle": {
          "text": "--15--"
         },
         "line": {
          "color": "red",
          "width": 2
         },
         "marker": {
          "color": "red",
          "size": 1
         },
         "type": "scatter3d",
         "x": [
          950.7899780273438,
          921.8089628838239
         ],
         "y": [
          13713.259765625,
          13674.911923929876
         ],
         "z": [
          3447.369873046875,
          3461.137363688845
         ]
        },
        {
         "legendgroup": "15",
         "legendgrouptitle": {
          "text": "--15--"
         },
         "line": {
          "color": "green",
          "width": 2
         },
         "marker": {
          "color": "green",
          "size": 1
         },
         "type": "scatter3d",
         "x": [
          950.7899780273438,
          991.5273566901694
         ],
         "y": [
          13713.259765625,
          13686.300170462735
         ],
         "z": [
          3447.369873046875,
          3458.0303706135132
         ]
        },
        {
         "legendgroup": "15",
         "legendgrouptitle": {
          "text": "--15--"
         },
         "line": {
          "color": "blue",
          "width": 2
         },
         "marker": {
          "color": "blue",
          "size": 1
         },
         "type": "scatter3d",
         "x": [
          950.7899780273438,
          958.3181978211267
         ],
         "y": [
          13713.259765625,
          13539.299061437989
         ],
         "z": [
          3447.369873046875,
          2978.668476307442
         ]
        },
        {
         "legendgroup": "16",
         "legendgrouptitle": {
          "text": "--16--"
         },
         "line": {
          "color": "red",
          "width": 2
         },
         "marker": {
          "color": "red",
          "size": 1
         },
         "type": "scatter3d",
         "x": [
          1273.7099609375,
          1233.3230925723342
         ],
         "y": [
          15197.080078125,
          15169.751830057507
         ],
         "z": [
          3855.919921875,
          3866.968348062303
         ]
        },
        {
         "legendgroup": "16",
         "legendgrouptitle": {
          "text": "--16--"
         },
         "line": {
          "color": "green",
          "width": 2
         },
         "marker": {
          "color": "green",
          "size": 1
         },
         "type": "scatter3d",
         "x": [
          1273.7099609375,
          1303.185018753628
         ],
         "y": [
          15197.080078125,
          15159.418118677198
         ],
         "z": [
          3855.919921875,
          3870.5075117132183
         ]
        },
        {
         "legendgroup": "16",
         "legendgrouptitle": {
          "text": "--16--"
         },
         "line": {
          "color": "blue",
          "width": 2
         },
         "marker": {
          "color": "blue",
          "size": 1
         },
         "type": "scatter3d",
         "x": [
          1273.7099609375,
          1270.2195398929885
         ],
         "y": [
          15197.080078125,
          15014.120063883172
         ],
         "z": [
          3855.919921875,
          3390.609863795914
         ]
        },
        {
         "legendgroup": "17",
         "legendgrouptitle": {
          "text": "--17--"
         },
         "line": {
          "color": "red",
          "width": 2
         },
         "marker": {
          "color": "red",
          "size": 1
         },
         "type": "scatter3d",
         "x": [
          1646.2999267578125,
          1598.455204747787
         ],
         "y": [
          16650.5703125,
          16637.61710017664
         ],
         "z": [
          4274.4599609375,
          4281.024781292192
         ]
        },
        {
         "legendgroup": "17",
         "legendgrouptitle": {
          "text": "--17--"
         },
         "line": {
          "color": "green",
          "width": 2
         },
         "marker": {
          "color": "green",
          "size": 1
         },
         "type": "scatter3d",
         "x": [
          1646.2999267578125,
          1660.7767831104468
         ],
         "y": [
          16650.5703125,
          16606.248767181554
         ],
         "z": [
          4274.4599609375,
          4292.516019497719
         ]
        },
        {
         "legendgroup": "17",
         "legendgrouptitle": {
          "text": "--17--"
         },
         "line": {
          "color": "blue",
          "width": 2
         },
         "marker": {
          "color": "blue",
          "size": 1
         },
         "type": "scatter3d",
         "x": [
          1646.2999267578125,
          1634.8841222369317
         ],
         "y": [
          16650.5703125,
          16458.785299766776
         ],
         "z": [
          4274.4599609375,
          3812.845199152244
         ]
        },
        {
         "legendgroup": "18",
         "legendgrouptitle": {
          "text": "--18--"
         },
         "line": {
          "color": "red",
          "width": 2
         },
         "marker": {
          "color": "red",
          "size": 1
         },
         "type": "scatter3d",
         "x": [
          2111.97998046875,
          2062.0726105246827
         ],
         "y": [
          18060.8203125,
          18063.849435480737
         ],
         "z": [
          4685.68017578125,
          4685.960959031457
         ]
        },
        {
         "legendgroup": "18",
         "legendgrouptitle": {
          "text": "--18--"
         },
         "line": {
          "color": "green",
          "width": 2
         },
         "marker": {
          "color": "green",
          "size": 1
         },
         "type": "scatter3d",
         "x": [
          2111.97998046875,
          2109.338125411535
         ],
         "y": [
          18060.8203125,
          18015.37616565834
         ],
         "z": [
          4685.68017578125,
          4706.364713960537
         ]
        },
        {
         "legendgroup": "18",
         "legendgrouptitle": {
          "text": "--18--"
         },
         "line": {
          "color": "blue",
          "width": 2
         },
         "marker": {
          "color": "blue",
          "size": 1
         },
         "type": "scatter3d",
         "x": [
          2111.97998046875,
          2096.896787429177
         ],
         "y": [
          18060.8203125,
          17854.506490422733
         ],
         "z": [
          4685.68017578125,
          4230.480105364295
         ]
        },
        {
         "legendgroup": "19",
         "legendgrouptitle": {
          "text": "--19--"
         },
         "line": {
          "color": "red",
          "width": 2
         },
         "marker": {
          "color": "red",
          "size": 1
         },
         "type": "scatter3d",
         "x": [
          2691.409912109375,
          2645.527985923636
         ],
         "y": [
          19408.25,
          19426.68737739946
         ],
         "z": [
          5054.240234375,
          5046.829973642999
         ]
        },
        {
         "legendgroup": "19",
         "legendgrouptitle": {
          "text": "--19--"
         },
         "line": {
          "color": "green",
          "width": 2
         },
         "marker": {
          "color": "green",
          "size": 1
         },
         "type": "scatter3d",
         "x": [
          2691.409912109375,
          2671.6344479647805
         ],
         "y": [
          19408.25,
          19367.706494894726
         ],
         "z": [
          5054.240234375,
          5075.807691611416
         ]
        },
        {
         "legendgroup": "19",
         "legendgrouptitle": {
          "text": "--19--"
         },
         "line": {
          "color": "blue",
          "width": 2
         },
         "marker": {
          "color": "blue",
          "size": 1
         },
         "type": "scatter3d",
         "x": [
          2691.409912109375,
          2671.9680311503257
         ],
         "y": [
          19408.25,
          19181.030434731372
         ],
         "z": [
          5054.240234375,
          4609.275873528077
         ]
        },
        {
         "legendgroup": "20",
         "legendgrouptitle": {
          "text": "--20--"
         },
         "line": {
          "color": "red",
          "width": 2
         },
         "marker": {
          "color": "red",
          "size": 1
         },
         "type": "scatter3d",
         "x": [
          3380.119873046875,
          3344.27045893326
         ],
         "y": [
          20684.7109375,
          20715.950927313035
         ],
         "z": [
          5367.150390625,
          5351.694565050415
         ]
        },
        {
         "legendgroup": "20",
         "legendgrouptitle": {
          "text": "--20--"
         },
         "line": {
          "color": "green",
          "width": 2
         },
         "marker": {
          "color": "green",
          "size": 1
         },
         "type": "scatter3d",
         "x": [
          3380.119873046875,
          3345.397585217376
         ],
         "y": [
          20684.7109375,
          20654.628288334246
         ],
         "z": [
          5367.150390625,
          5386.8835339898
         ]
        },
        {
         "legendgroup": "20",
         "legendgrouptitle": {
          "text": "--20--"
         },
         "line": {
          "color": "blue",
          "width": 2
         },
         "marker": {
          "color": "blue",
          "size": 1
         },
         "type": "scatter3d",
         "x": [
          3380.119873046875,
          3349.817669173233
         ],
         "y": [
          20684.7109375,
          20435.894287001738
         ],
         "z": [
          5367.150390625,
          4934.5165374937105
         ]
        },
        {
         "legendgroup": "21",
         "legendgrouptitle": {
          "text": "--21--"
         },
         "line": {
          "color": "red",
          "width": 2
         },
         "marker": {
          "color": "red",
          "size": 1
         },
         "type": "scatter3d",
         "x": [
          4126.9296875,
          4106.395914203969
         ],
         "y": [
          21920.830078125,
          21960.512297947804
         ],
         "z": [
          5643.23046875,
          5620.787528119104
         ]
        },
        {
         "legendgroup": "21",
         "legendgrouptitle": {
          "text": "--21--"
         },
         "line": {
          "color": "green",
          "width": 2
         },
         "marker": {
          "color": "green",
          "size": 1
         },
         "type": "scatter3d",
         "x": [
          4126.9296875,
          4081.588412379106
         ],
         "y": [
          21920.830078125,
          21905.616895851894
         ],
         "z": [
          5643.23046875,
          5657.815661773631
         ]
        },
        {
         "legendgroup": "21",
         "legendgrouptitle": {
          "text": "--21--"
         },
         "line": {
          "color": "blue",
          "width": 2
         },
         "marker": {
          "color": "blue",
          "size": 1
         },
         "type": "scatter3d",
         "x": [
          4126.9296875,
          4079.460829668122
         ],
         "y": [
          21920.830078125,
          21657.413959586305
         ],
         "z": [
          5643.23046875,
          5220.90517228986
         ]
        },
        {
         "legendgroup": "22",
         "legendgrouptitle": {
          "text": "--22--"
         },
         "line": {
          "color": "red",
          "width": 2
         },
         "marker": {
          "color": "red",
          "size": 1
         },
         "type": "scatter3d",
         "x": [
          4884.81982421875,
          4883.540052236991
         ],
         "y": [
          23171.619140625,
          23213.86993197021
         ],
         "z": [
          5904.75048828125,
          5878.044069307933
         ]
        },
        {
         "legendgroup": "22",
         "legendgrouptitle": {
          "text": "--22--"
         },
         "line": {
          "color": "green",
          "width": 2
         },
         "marker": {
          "color": "green",
          "size": 1
         },
         "type": "scatter3d",
         "x": [
          4884.81982421875,
          4835.243407343585
         ],
         "y": [
          23171.619140625,
          23173.949296490337
         ],
         "z": [
          5904.75048828125,
          5910.8126053589
         ]
        },
        {
         "legendgroup": "22",
         "legendgrouptitle": {
          "text": "--22--"
         },
         "line": {
          "color": "blue",
          "width": 2
         },
         "marker": {
          "color": "blue",
          "size": 1
         },
         "type": "scatter3d",
         "x": [
          4884.81982421875,
          4821.147951704579
         ],
         "y": [
          23171.619140625,
          22905.265803054983
         ],
         "z": [
          5904.75048828125,
          5486.418332912037
         ]
        }
       ],
       "layout": {
        "height": 600,
        "scene": {
         "aspectmode": "data",
         "aspectratio": {
          "x": 0.5772200295865481,
          "y": 2.5046470576460136,
          "z": 0.6916909147930841
         },
         "camera": {
          "center": {
           "x": 0,
           "y": 0,
           "z": 0
          },
          "eye": {
           "x": 1.732986229545374,
           "y": 1.083368048768968,
           "z": 0.7145434900078714
          },
          "projection": {
           "type": "perspective"
          },
          "up": {
           "x": 0,
           "y": 0,
           "z": 1
          }
         }
        },
        "template": {
         "data": {
          "bar": [
           {
            "error_x": {
             "color": "#2a3f5f"
            },
            "error_y": {
             "color": "#2a3f5f"
            },
            "marker": {
             "line": {
              "color": "#E5ECF6",
              "width": 0.5
             },
             "pattern": {
              "fillmode": "overlay",
              "size": 10,
              "solidity": 0.2
             }
            },
            "type": "bar"
           }
          ],
          "barpolar": [
           {
            "marker": {
             "line": {
              "color": "#E5ECF6",
              "width": 0.5
             },
             "pattern": {
              "fillmode": "overlay",
              "size": 10,
              "solidity": 0.2
             }
            },
            "type": "barpolar"
           }
          ],
          "carpet": [
           {
            "aaxis": {
             "endlinecolor": "#2a3f5f",
             "gridcolor": "white",
             "linecolor": "white",
             "minorgridcolor": "white",
             "startlinecolor": "#2a3f5f"
            },
            "baxis": {
             "endlinecolor": "#2a3f5f",
             "gridcolor": "white",
             "linecolor": "white",
             "minorgridcolor": "white",
             "startlinecolor": "#2a3f5f"
            },
            "type": "carpet"
           }
          ],
          "choropleth": [
           {
            "colorbar": {
             "outlinewidth": 0,
             "ticks": ""
            },
            "type": "choropleth"
           }
          ],
          "contour": [
           {
            "colorbar": {
             "outlinewidth": 0,
             "ticks": ""
            },
            "colorscale": [
             [
              0,
              "#0d0887"
             ],
             [
              0.1111111111111111,
              "#46039f"
             ],
             [
              0.2222222222222222,
              "#7201a8"
             ],
             [
              0.3333333333333333,
              "#9c179e"
             ],
             [
              0.4444444444444444,
              "#bd3786"
             ],
             [
              0.5555555555555556,
              "#d8576b"
             ],
             [
              0.6666666666666666,
              "#ed7953"
             ],
             [
              0.7777777777777778,
              "#fb9f3a"
             ],
             [
              0.8888888888888888,
              "#fdca26"
             ],
             [
              1,
              "#f0f921"
             ]
            ],
            "type": "contour"
           }
          ],
          "contourcarpet": [
           {
            "colorbar": {
             "outlinewidth": 0,
             "ticks": ""
            },
            "type": "contourcarpet"
           }
          ],
          "heatmap": [
           {
            "colorbar": {
             "outlinewidth": 0,
             "ticks": ""
            },
            "colorscale": [
             [
              0,
              "#0d0887"
             ],
             [
              0.1111111111111111,
              "#46039f"
             ],
             [
              0.2222222222222222,
              "#7201a8"
             ],
             [
              0.3333333333333333,
              "#9c179e"
             ],
             [
              0.4444444444444444,
              "#bd3786"
             ],
             [
              0.5555555555555556,
              "#d8576b"
             ],
             [
              0.6666666666666666,
              "#ed7953"
             ],
             [
              0.7777777777777778,
              "#fb9f3a"
             ],
             [
              0.8888888888888888,
              "#fdca26"
             ],
             [
              1,
              "#f0f921"
             ]
            ],
            "type": "heatmap"
           }
          ],
          "heatmapgl": [
           {
            "colorbar": {
             "outlinewidth": 0,
             "ticks": ""
            },
            "colorscale": [
             [
              0,
              "#0d0887"
             ],
             [
              0.1111111111111111,
              "#46039f"
             ],
             [
              0.2222222222222222,
              "#7201a8"
             ],
             [
              0.3333333333333333,
              "#9c179e"
             ],
             [
              0.4444444444444444,
              "#bd3786"
             ],
             [
              0.5555555555555556,
              "#d8576b"
             ],
             [
              0.6666666666666666,
              "#ed7953"
             ],
             [
              0.7777777777777778,
              "#fb9f3a"
             ],
             [
              0.8888888888888888,
              "#fdca26"
             ],
             [
              1,
              "#f0f921"
             ]
            ],
            "type": "heatmapgl"
           }
          ],
          "histogram": [
           {
            "marker": {
             "pattern": {
              "fillmode": "overlay",
              "size": 10,
              "solidity": 0.2
             }
            },
            "type": "histogram"
           }
          ],
          "histogram2d": [
           {
            "colorbar": {
             "outlinewidth": 0,
             "ticks": ""
            },
            "colorscale": [
             [
              0,
              "#0d0887"
             ],
             [
              0.1111111111111111,
              "#46039f"
             ],
             [
              0.2222222222222222,
              "#7201a8"
             ],
             [
              0.3333333333333333,
              "#9c179e"
             ],
             [
              0.4444444444444444,
              "#bd3786"
             ],
             [
              0.5555555555555556,
              "#d8576b"
             ],
             [
              0.6666666666666666,
              "#ed7953"
             ],
             [
              0.7777777777777778,
              "#fb9f3a"
             ],
             [
              0.8888888888888888,
              "#fdca26"
             ],
             [
              1,
              "#f0f921"
             ]
            ],
            "type": "histogram2d"
           }
          ],
          "histogram2dcontour": [
           {
            "colorbar": {
             "outlinewidth": 0,
             "ticks": ""
            },
            "colorscale": [
             [
              0,
              "#0d0887"
             ],
             [
              0.1111111111111111,
              "#46039f"
             ],
             [
              0.2222222222222222,
              "#7201a8"
             ],
             [
              0.3333333333333333,
              "#9c179e"
             ],
             [
              0.4444444444444444,
              "#bd3786"
             ],
             [
              0.5555555555555556,
              "#d8576b"
             ],
             [
              0.6666666666666666,
              "#ed7953"
             ],
             [
              0.7777777777777778,
              "#fb9f3a"
             ],
             [
              0.8888888888888888,
              "#fdca26"
             ],
             [
              1,
              "#f0f921"
             ]
            ],
            "type": "histogram2dcontour"
           }
          ],
          "mesh3d": [
           {
            "colorbar": {
             "outlinewidth": 0,
             "ticks": ""
            },
            "type": "mesh3d"
           }
          ],
          "parcoords": [
           {
            "line": {
             "colorbar": {
              "outlinewidth": 0,
              "ticks": ""
             }
            },
            "type": "parcoords"
           }
          ],
          "pie": [
           {
            "automargin": true,
            "type": "pie"
           }
          ],
          "scatter": [
           {
            "marker": {
             "colorbar": {
              "outlinewidth": 0,
              "ticks": ""
             }
            },
            "type": "scatter"
           }
          ],
          "scatter3d": [
           {
            "line": {
             "colorbar": {
              "outlinewidth": 0,
              "ticks": ""
             }
            },
            "marker": {
             "colorbar": {
              "outlinewidth": 0,
              "ticks": ""
             }
            },
            "type": "scatter3d"
           }
          ],
          "scattercarpet": [
           {
            "marker": {
             "colorbar": {
              "outlinewidth": 0,
              "ticks": ""
             }
            },
            "type": "scattercarpet"
           }
          ],
          "scattergeo": [
           {
            "marker": {
             "colorbar": {
              "outlinewidth": 0,
              "ticks": ""
             }
            },
            "type": "scattergeo"
           }
          ],
          "scattergl": [
           {
            "marker": {
             "colorbar": {
              "outlinewidth": 0,
              "ticks": ""
             }
            },
            "type": "scattergl"
           }
          ],
          "scattermapbox": [
           {
            "marker": {
             "colorbar": {
              "outlinewidth": 0,
              "ticks": ""
             }
            },
            "type": "scattermapbox"
           }
          ],
          "scatterpolar": [
           {
            "marker": {
             "colorbar": {
              "outlinewidth": 0,
              "ticks": ""
             }
            },
            "type": "scatterpolar"
           }
          ],
          "scatterpolargl": [
           {
            "marker": {
             "colorbar": {
              "outlinewidth": 0,
              "ticks": ""
             }
            },
            "type": "scatterpolargl"
           }
          ],
          "scatterternary": [
           {
            "marker": {
             "colorbar": {
              "outlinewidth": 0,
              "ticks": ""
             }
            },
            "type": "scatterternary"
           }
          ],
          "surface": [
           {
            "colorbar": {
             "outlinewidth": 0,
             "ticks": ""
            },
            "colorscale": [
             [
              0,
              "#0d0887"
             ],
             [
              0.1111111111111111,
              "#46039f"
             ],
             [
              0.2222222222222222,
              "#7201a8"
             ],
             [
              0.3333333333333333,
              "#9c179e"
             ],
             [
              0.4444444444444444,
              "#bd3786"
             ],
             [
              0.5555555555555556,
              "#d8576b"
             ],
             [
              0.6666666666666666,
              "#ed7953"
             ],
             [
              0.7777777777777778,
              "#fb9f3a"
             ],
             [
              0.8888888888888888,
              "#fdca26"
             ],
             [
              1,
              "#f0f921"
             ]
            ],
            "type": "surface"
           }
          ],
          "table": [
           {
            "cells": {
             "fill": {
              "color": "#EBF0F8"
             },
             "line": {
              "color": "white"
             }
            },
            "header": {
             "fill": {
              "color": "#C8D4E3"
             },
             "line": {
              "color": "white"
             }
            },
            "type": "table"
           }
          ]
         },
         "layout": {
          "annotationdefaults": {
           "arrowcolor": "#2a3f5f",
           "arrowhead": 0,
           "arrowwidth": 1
          },
          "autotypenumbers": "strict",
          "coloraxis": {
           "colorbar": {
            "outlinewidth": 0,
            "ticks": ""
           }
          },
          "colorscale": {
           "diverging": [
            [
             0,
             "#8e0152"
            ],
            [
             0.1,
             "#c51b7d"
            ],
            [
             0.2,
             "#de77ae"
            ],
            [
             0.3,
             "#f1b6da"
            ],
            [
             0.4,
             "#fde0ef"
            ],
            [
             0.5,
             "#f7f7f7"
            ],
            [
             0.6,
             "#e6f5d0"
            ],
            [
             0.7,
             "#b8e186"
            ],
            [
             0.8,
             "#7fbc41"
            ],
            [
             0.9,
             "#4d9221"
            ],
            [
             1,
             "#276419"
            ]
           ],
           "sequential": [
            [
             0,
             "#0d0887"
            ],
            [
             0.1111111111111111,
             "#46039f"
            ],
            [
             0.2222222222222222,
             "#7201a8"
            ],
            [
             0.3333333333333333,
             "#9c179e"
            ],
            [
             0.4444444444444444,
             "#bd3786"
            ],
            [
             0.5555555555555556,
             "#d8576b"
            ],
            [
             0.6666666666666666,
             "#ed7953"
            ],
            [
             0.7777777777777778,
             "#fb9f3a"
            ],
            [
             0.8888888888888888,
             "#fdca26"
            ],
            [
             1,
             "#f0f921"
            ]
           ],
           "sequentialminus": [
            [
             0,
             "#0d0887"
            ],
            [
             0.1111111111111111,
             "#46039f"
            ],
            [
             0.2222222222222222,
             "#7201a8"
            ],
            [
             0.3333333333333333,
             "#9c179e"
            ],
            [
             0.4444444444444444,
             "#bd3786"
            ],
            [
             0.5555555555555556,
             "#d8576b"
            ],
            [
             0.6666666666666666,
             "#ed7953"
            ],
            [
             0.7777777777777778,
             "#fb9f3a"
            ],
            [
             0.8888888888888888,
             "#fdca26"
            ],
            [
             1,
             "#f0f921"
            ]
           ]
          },
          "colorway": [
           "#636efa",
           "#EF553B",
           "#00cc96",
           "#ab63fa",
           "#FFA15A",
           "#19d3f3",
           "#FF6692",
           "#B6E880",
           "#FF97FF",
           "#FECB52"
          ],
          "font": {
           "color": "#2a3f5f"
          },
          "geo": {
           "bgcolor": "white",
           "lakecolor": "white",
           "landcolor": "#E5ECF6",
           "showlakes": true,
           "showland": true,
           "subunitcolor": "white"
          },
          "hoverlabel": {
           "align": "left"
          },
          "hovermode": "closest",
          "mapbox": {
           "style": "light"
          },
          "paper_bgcolor": "white",
          "plot_bgcolor": "#E5ECF6",
          "polar": {
           "angularaxis": {
            "gridcolor": "white",
            "linecolor": "white",
            "ticks": ""
           },
           "bgcolor": "#E5ECF6",
           "radialaxis": {
            "gridcolor": "white",
            "linecolor": "white",
            "ticks": ""
           }
          },
          "scene": {
           "xaxis": {
            "backgroundcolor": "#E5ECF6",
            "gridcolor": "white",
            "gridwidth": 2,
            "linecolor": "white",
            "showbackground": true,
            "ticks": "",
            "zerolinecolor": "white"
           },
           "yaxis": {
            "backgroundcolor": "#E5ECF6",
            "gridcolor": "white",
            "gridwidth": 2,
            "linecolor": "white",
            "showbackground": true,
            "ticks": "",
            "zerolinecolor": "white"
           },
           "zaxis": {
            "backgroundcolor": "#E5ECF6",
            "gridcolor": "white",
            "gridwidth": 2,
            "linecolor": "white",
            "showbackground": true,
            "ticks": "",
            "zerolinecolor": "white"
           }
          },
          "shapedefaults": {
           "line": {
            "color": "#2a3f5f"
           }
          },
          "ternary": {
           "aaxis": {
            "gridcolor": "white",
            "linecolor": "white",
            "ticks": ""
           },
           "baxis": {
            "gridcolor": "white",
            "linecolor": "white",
            "ticks": ""
           },
           "bgcolor": "#E5ECF6",
           "caxis": {
            "gridcolor": "white",
            "linecolor": "white",
            "ticks": ""
           }
          },
          "title": {
           "x": 0.05
          },
          "xaxis": {
           "automargin": true,
           "gridcolor": "white",
           "linecolor": "white",
           "ticks": "",
           "title": {
            "standoff": 15
           },
           "zerolinecolor": "white",
           "zerolinewidth": 2
          },
          "yaxis": {
           "automargin": true,
           "gridcolor": "white",
           "linecolor": "white",
           "ticks": "",
           "title": {
            "standoff": 15
           },
           "zerolinecolor": "white",
           "zerolinewidth": 2
          }
         }
        },
        "title": {
         "text": "Example-1"
        },
        "width": 1000
       }
      },
      "image/png": "[encoded data removed]",
      "text/html": [
       "<div>                            <div id=\"e3111725-9cf0-4c7a-a439-5b8c2dd5601e\" class=\"plotly-graph-div\" style=\"height:600px; width:1000px;\"></div>            <script type=\"text/javascript\">                require([\"plotly\"], function(Plotly) {                    window.PLOTLYENV=window.PLOTLYENV || {};                                    if (document.getElementById(\"e3111725-9cf0-4c7a-a439-5b8c2dd5601e\")) {                    Plotly.newPlot(                        \"e3111725-9cf0-4c7a-a439-5b8c2dd5601e\",                        [{\"legendgroup\":\"0\",\"legendgrouptitle\":{\"text\":\"origins\"},\"line\":{\"color\":\"black\",\"width\":2},\"marker\":{\"color\":\"black\",\"size\":1},\"type\":\"scatter3d\",\"x\":[0.0,-48.22999954223633,-157.1300048828125,-292.4100036621094,-403.6600036621094,-465.0400085449219,-462.46002197265625,-392.1300354003906,-260.4400329589844,-79.00003051757812,138.99996948242188,385.6099548339844,655.3299560546875,950.7899780273438,1273.7099609375,1646.2999267578125,2111.97998046875,2691.409912109375,3380.119873046875,4126.9296875,4884.81982421875],\"y\":[0.0,196.47000122070312,573.8499755859375,1130.5699462890625,1864.739990234375,2770.85009765625,3838.860107421875,5051.47998046875,6376.56982421875,7779.75,9232.75,10714.1796875,12212.3701171875,13713.259765625,15197.080078125,16650.5703125,18060.8203125,19408.25,20684.7109375,21920.830078125,23171.619140625],\"z\":[0.0,44.7400016784668,142.15000915527344,295.9000244140625,496.9900207519531,737.25,1006.0900268554688,1298.6700439453125,1612.75,1946.18994140625,2298.599853515625,2667.219970703125,3050.8798828125,3447.369873046875,3855.919921875,4274.4599609375,4685.68017578125,5054.240234375,5367.150390625,5643.23046875,5904.75048828125]},{\"legendgroup\":\"1\",\"legendgrouptitle\":{\"text\":\"finish\"},\"line\":{\"color\":\"black\",\"width\":2},\"marker\":{\"color\":\"black\",\"size\":1},\"type\":\"scatter3d\",\"x\":[0.0,-45.17569234689715,-149.397838997717,-280.3944616448946,-389.35696225149144,-450.2864122135783,-447.9343832908306,-377.1253653074092,-244.0344930209932,-60.44994088186465,159.4509397832536,405.8686127155749,671.5160170352697,958.3181978211267,1270.2195398929885,1634.8841222369317,2096.896787429177,2671.9680311503257,3349.817669173233,4079.460829668122,4821.147951704579],\"y\":[0.0,192.45586196174494,561.6001370345299,1105.834457951066,1824.2255859204224,2713.415841503608,3765.265593249355,4962.99009477815,6273.73857861033,7662.5164835051655,9100.818125992206,10567.267252064908,12050.940893378192,13539.299061437989,15014.120063883172,16458.785299766776,17854.506490422733,19181.030434731372,20435.894287001738,21657.413959586305,22905.265803054983],\"z\":[-500.0,-455.2345555677657,-357.6401018575295,-203.34318522099449,-1.1605649643458946,240.77881491924978,511.7491997891665,806.7916036718387,1123.7136075035278,1460.4820077827992,1816.75367636513,2189.71989416348,2577.9331446587653,2978.668476307442,3390.609863795914,3812.845199152244,4230.480105364295,4609.275873528077,4934.5165374937105,5220.90517228986,5486.418332912037]},{\"legendgroup\":\"2\",\"legendgrouptitle\":{\"text\":\"--2--\"},\"line\":{\"color\":\"red\",\"width\":2},\"marker\":{\"color\":\"red\",\"size\":1},\"type\":\"scatter3d\",\"x\":[0.0,50.0],\"y\":[0.0,0.0],\"z\":[0.0,0.0]},{\"legendgroup\":\"2\",\"legendgrouptitle\":{\"text\":\"--2--\"},\"line\":{\"color\":\"green\",\"width\":2},\"marker\":{\"color\":\"green\",\"size\":1},\"type\":\"scatter3d\",\"x\":[0.0,0.0],\"y\":[0.0,50.0],\"z\":[0.0,0.0]},{\"legendgroup\":\"2\",\"legendgrouptitle\":{\"text\":\"--2--\"},\"line\":{\"color\":\"blue\",\"width\":2},\"marker\":{\"color\":\"blue\",\"size\":1},\"type\":\"scatter3d\",\"x\":[0.0,0.0],\"y\":[0.0,0.0],\"z\":[0.0,-500.0]},{\"legendgroup\":\"3\",\"legendgrouptitle\":{\"text\":\"--3--\"},\"line\":{\"color\":\"red\",\"width\":2},\"marker\":{\"color\":\"red\",\"size\":1},\"type\":\"scatter3d\",\"x\":[-48.22999954223633,1.7528356887276288],\"y\":[196.47000122070312,195.19854113481176],\"z\":[44.7400016784668,45.05555123763899]},{\"legendgroup\":\"3\",\"legendgrouptitle\":{\"text\":\"--3--\"},\"line\":{\"color\":\"green\",\"width\":2},\"marker\":{\"color\":\"green\",\"size\":1},\"type\":\"scatter3d\",\"x\":[-48.22999954223633,-46.956070835489506],\"y\":[196.47000122070312,246.45222062030643],\"z\":[44.7400016784668,44.34649241549535]},{\"legendgroup\":\"3\",\"legendgrouptitle\":{\"text\":\"--3--\"},\"line\":{\"color\":\"blue\",\"width\":2},\"marker\":{\"color\":\"blue\",\"size\":1},\"type\":\"scatter3d\",\"x\":[-48.22999954223633,-45.17569234689715],\"y\":[196.47000122070312,192.45586196174494],\"z\":[44.7400016784668,-455.2345555677657]},{\"legendgroup\":\"4\",\"legendgrouptitle\":{\"text\":\"--4--\"},\"line\":{\"color\":\"red\",\"width\":2},\"marker\":{\"color\":\"red\",\"size\":1},\"type\":\"scatter3d\",\"x\":[-157.1300048828125,-107.28437736195207],\"y\":[573.8499755859375,570.0204629037929],\"z\":[142.15000915527344,143.0150234146567]},{\"legendgroup\":\"4\",\"legendgrouptitle\":{\"text\":\"--4--\"},\"line\":{\"color\":\"green\",\"width\":2},\"marker\":{\"color\":\"green\",\"size\":1},\"type\":\"scatter3d\",\"x\":[-157.1300048828125,-153.28090717570035],\"y\":[573.8499755859375,623.6880558777378],\"z\":[142.15000915527344,140.98802823066]},{\"legendgroup\":\"4\",\"legendgrouptitle\":{\"text\":\"--4--\"},\"line\":{\"color\":\"blue\",\"width\":2},\"marker\":{\"color\":\"blue\",\"size\":1},\"type\":\"scatter3d\",\"x\":[-157.1300048828125,-149.397838997717],\"y\":[573.8499755859375,561.6001370345299],\"z\":[142.15000915527344,-357.6401018575295]},{\"legendgroup\":\"5\",\"legendgrouptitle\":{\"text\":\"--5--\"},\"line\":{\"color\":\"red\",\"width\":2},\"marker\":{\"color\":\"red\",\"size\":1},\"type\":\"scatter3d\",\"x\":[-292.4100036621094,-243.02582370529285],\"y\":[1130.5699462890625,1122.9055336903975],\"z\":[295.9000244140625,297.468319510717]},{\"legendgroup\":\"5\",\"legendgrouptitle\":{\"text\":\"--5--\"},\"line\":{\"color\":\"green\",\"width\":2},\"marker\":{\"color\":\"green\",\"size\":1},\"type\":\"scatter3d\",\"x\":[-292.4100036621094,-284.6796066805121],\"y\":[1130.5699462890625,1179.9170671339937],\"z\":[295.9000244140625,293.64112494248883]},{\"legendgroup\":\"5\",\"legendgrouptitle\":{\"text\":\"--5--\"},\"line\":{\"color\":\"blue\",\"width\":2},\"marker\":{\"color\":\"blue\",\"size\":1},\"type\":\"scatter3d\",\"x\":[-292.4100036621094,-280.3944616448946],\"y\":[1130.5699462890625,1105.834457951066],\"z\":[295.9000244140625,-203.34318522099449]},{\"legendgroup\":\"6\",\"legendgrouptitle\":{\"text\":\"--6--\"},\"line\":{\"color\":\"red\",\"width\":2},\"marker\":{\"color\":\"red\",\"size\":1},\"type\":\"scatter3d\",\"x\":[-403.6600036621094,-355.3489109100583],\"y\":[1864.739990234375,1852.0830235857368],\"z\":[496.9900207519531,499.4065290507138]},{\"legendgroup\":\"6\",\"legendgrouptitle\":{\"text\":\"--6--\"},\"line\":{\"color\":\"green\",\"width\":2},\"marker\":{\"color\":\"green\",\"size\":1},\"type\":\"scatter3d\",\"x\":[-403.6600036621094,-390.85404617479986],\"y\":[1864.739990234375,1912.941515372965],\"z\":[496.9900207519531,493.43749669895874]},{\"legendgroup\":\"6\",\"legendgrouptitle\":{\"text\":\"--6--\"},\"line\":{\"color\":\"blue\",\"width\":2},\"marker\":{\"color\":\"blue\",\"size\":1},\"type\":\"scatter3d\",\"x\":[-403.6600036621094,-389.35696225149144],\"y\":[1864.739990234375,1824.2255859204224],\"z\":[496.9900207519531,-1.1605649643458946]},{\"legendgroup\":\"7\",\"legendgrouptitle\":{\"text\":\"--7--\"},\"line\":{\"color\":\"red\",\"width\":2},\"marker\":{\"color\":\"red\",\"size\":1},\"type\":\"scatter3d\",\"x\":[-465.0400085449219,-418.7415619867157],\"y\":[2770.85009765625,2752.301462733879],\"z\":[737.25,740.7716457535536]},{\"legendgroup\":\"7\",\"legendgrouptitle\":{\"text\":\"--7--\"},\"line\":{\"color\":\"green\",\"width\":2},\"marker\":{\"color\":\"green\",\"size\":1},\"type\":\"scatter3d\",\"x\":[-465.0400085449219,-446.21775681326545],\"y\":[2770.85009765625,2816.9257007962906],\"z\":[737.25,732.4790844660974]},{\"legendgroup\":\"7\",\"legendgrouptitle\":{\"text\":\"--7--\"},\"line\":{\"color\":\"blue\",\"width\":2},\"marker\":{\"color\":\"blue\",\"size\":1},\"type\":\"scatter3d\",\"x\":[-465.0400085449219,-450.2864122135783],\"y\":[2770.85009765625,2713.415841503608],\"z\":[737.25,240.77881491924978]},{\"legendgroup\":\"8\",\"legendgrouptitle\":{\"text\":\"--8--\"},\"line\":{\"color\":\"red\",\"width\":2},\"marker\":{\"color\":\"red\",\"size\":1},\"type\":\"scatter3d\",\"x\":[-462.46002197265625,-419.4669456906738],\"y\":[3838.860107421875,3813.8262627728377],\"z\":[1006.0900268554688,1011.0802186252811]},{\"legendgroup\":\"8\",\"legendgrouptitle\":{\"text\":\"--8--\"},\"line\":{\"color\":\"green\",\"width\":2},\"marker\":{\"color\":\"green\",\"size\":1},\"type\":\"scatter3d\",\"x\":[-462.46002197265625,-436.97501755789324],\"y\":[3838.860107421875,3881.511544641797],\"z\":[1006.0900268554688,1000.4891828963373]},{\"legendgroup\":\"8\",\"legendgrouptitle\":{\"text\":\"--8--\"},\"line\":{\"color\":\"blue\",\"width\":2},\"marker\":{\"color\":\"blue\",\"size\":1},\"type\":\"scatter3d\",\"x\":[-462.46002197265625,-447.9343832908306],\"y\":[3838.860107421875,3765.265593249355],\"z\":[1006.0900268554688,511.7491997891665]},{\"legendgroup\":\"9\",\"legendgrouptitle\":{\"text\":\"--9--\"},\"line\":{\"color\":\"red\",\"width\":2},\"marker\":{\"color\":\"red\",\"size\":1},\"type\":\"scatter3d\",\"x\":[-392.1300354003906,-354.10843085625885],\"y\":[5051.47998046875,5019.744013280866],\"z\":[1298.6700439453125,1305.539248742027]},{\"legendgroup\":\"9\",\"legendgrouptitle\":{\"text\":\"--9--\"},\"line\":{\"color\":\"green\",\"width\":2},\"marker\":{\"color\":\"green\",\"size\":1},\"type\":\"scatter3d\",\"x\":[-392.1300354003906,-359.69384902400435],\"y\":[5051.47998046875,5089.090135852027],\"z\":[1298.6700439453125,1292.8933645010175]},{\"legendgroup\":\"9\",\"legendgrouptitle\":{\"text\":\"--9--\"},\"line\":{\"color\":\"blue\",\"width\":2},\"marker\":{\"color\":\"blue\",\"size\":1},\"type\":\"scatter3d\",\"x\":[-392.1300354003906,-377.1253653074092],\"y\":[5051.47998046875,4962.99009477815],\"z\":[1298.6700439453125,806.7916036718387]},{\"legendgroup\":\"10\",\"legendgrouptitle\":{\"text\":\"--10--\"},\"line\":{\"color\":\"red\",\"width\":2},\"marker\":{\"color\":\"red\",\"size\":1},\"type\":\"scatter3d\",\"x\":[-260.4400329589844,-229.3704991230024],\"y\":[6376.56982421875,6338.456017998328],\"z\":[1612.75,1621.8065911140384]},{\"legendgroup\":\"10\",\"legendgrouptitle\":{\"text\":\"--10--\"},\"line\":{\"color\":\"green\",\"width\":2},\"marker\":{\"color\":\"green\",\"size\":1},\"type\":\"scatter3d\",\"x\":[-260.4400329589844,-221.2993552718492],\"y\":[6376.56982421875,6407.255246240588],\"z\":[1612.75,1607.6107174106219]},{\"legendgroup\":\"10\",\"legendgrouptitle\":{\"text\":\"--10--\"},\"line\":{\"color\":\"blue\",\"width\":2},\"marker\":{\"color\":\"blue\",\"size\":1},\"type\":\"scatter3d\",\"x\":[-260.4400329589844,-244.0344930209932],\"y\":[6376.56982421875,6273.73857861033],\"z\":[1612.75,1123.7136075035278]},{\"legendgroup\":\"11\",\"legendgrouptitle\":{\"text\":\"--11--\"},\"line\":{\"color\":\"red\",\"width\":2},\"marker\":{\"color\":\"red\",\"size\":1},\"type\":\"scatter3d\",\"x\":[-79.00003051757812,-57.00717458333101],\"y\":[7779.75,7736.298876569952],\"z\":[1946.18994140625,1957.5175254612113]},{\"legendgroup\":\"11\",\"legendgrouptitle\":{\"text\":\"--11--\"},\"line\":{\"color\":\"green\",\"width\":2},\"marker\":{\"color\":\"green\",\"size\":1},\"type\":\"scatter3d\",\"x\":[-79.00003051757812,-34.13497474361835],\"y\":[7779.75,7801.534464619754],\"z\":[1946.18994140625,1942.6453861971775]},{\"legendgroup\":\"11\",\"legendgrouptitle\":{\"text\":\"--11--\"},\"line\":{\"color\":\"blue\",\"width\":2},\"marker\":{\"color\":\"blue\",\"size\":1},\"type\":\"scatter3d\",\"x\":[-79.00003051757812,-60.44994088186465],\"y\":[7779.75,7662.5164835051655],\"z\":[1946.18994140625,1460.4820077827992]},{\"legendgroup\":\"12\",\"legendgrouptitle\":{\"text\":\"--12--\"},\"line\":{\"color\":\"red\",\"width\":2},\"marker\":{\"color\":\"red\",\"size\":1},\"type\":\"scatter3d\",\"x\":[138.99996948242188,149.88471120646142],\"y\":[9232.75,9185.801243969137],\"z\":[2298.599853515625,2311.916636338648]},{\"legendgroup\":\"12\",\"legendgrouptitle\":{\"text\":\"--12--\"},\"line\":{\"color\":\"green\",\"width\":2},\"marker\":{\"color\":\"green\",\"size\":1},\"type\":\"scatter3d\",\"x\":[138.99996948242188,187.75794294049842],\"y\":[9232.75,9243.78422463803],\"z\":[2298.599853515625,2297.6480599986344]},{\"legendgroup\":\"12\",\"legendgrouptitle\":{\"text\":\"--12--\"},\"line\":{\"color\":\"blue\",\"width\":2},\"marker\":{\"color\":\"blue\",\"size\":1},\"type\":\"scatter3d\",\"x\":[138.99996948242188,159.4509397832536],\"y\":[9232.75,9100.818125992206],\"z\":[2298.599853515625,1816.75367636513]},{\"legendgroup\":\"13\",\"legendgrouptitle\":{\"text\":\"--13--\"},\"line\":{\"color\":\"red\",\"width\":2},\"marker\":{\"color\":\"red\",\"size\":1},\"type\":\"scatter3d\",\"x\":[385.6099548339844,383.72505038442733],\"y\":[10714.1796875,10666.401986076899],\"z\":[2667.219970703125,2681.8397648857044]},{\"legendgroup\":\"13\",\"legendgrouptitle\":{\"text\":\"--13--\"},\"line\":{\"color\":\"green\",\"width\":2},\"marker\":{\"color\":\"green\",\"size\":1},\"type\":\"scatter3d\",\"x\":[385.6099548339844,435.5333261446682],\"y\":[10714.1796875,10712.971958279422],\"z\":[2667.219970703125,2669.7096267246175]},{\"legendgroup\":\"13\",\"legendgrouptitle\":{\"text\":\"--13--\"},\"line\":{\"color\":\"blue\",\"width\":2},\"marker\":{\"color\":\"blue\",\"size\":1},\"type\":\"scatter3d\",\"x\":[385.6099548339844,405.8686127155749],\"y\":[10714.1796875,10567.267252064908],\"z\":[2667.219970703125,2189.71989416348]},{\"legendgroup\":\"14\",\"legendgrouptitle\":{\"text\":\"--14--\"},\"line\":{\"color\":\"red\",\"width\":2},\"marker\":{\"color\":\"red\",\"size\":1},\"type\":\"scatter3d\",\"x\":[655.3299560546875,639.7548136650449],\"y\":[12212.3701171875,12167.244591118797],\"z\":[3050.8798828125,3065.7493762996746]},{\"legendgroup\":\"14\",\"legendgrouptitle\":{\"text\":\"--14--\"},\"line\":{\"color\":\"green\",\"width\":2},\"marker\":{\"color\":\"green\",\"size\":1},\"type\":\"scatter3d\",\"x\":[655.3299560546875,702.814638362161],\"y\":[12212.3701171875,12198.119048665245],\"z\":[3050.8798828125,3057.3692581393166]},{\"legendgroup\":\"14\",\"legendgrouptitle\":{\"text\":\"--14--\"},\"line\":{\"color\":\"blue\",\"width\":2},\"marker\":{\"color\":\"blue\",\"size\":1},\"type\":\"scatter3d\",\"x\":[655.3299560546875,671.5160170352697],\"y\":[12212.3701171875,12050.940893378192],\"z\":[3050.8798828125,2577.9331446587653]},{\"legendgroup\":\"15\",\"legendgrouptitle\":{\"text\":\"--15--\"},\"line\":{\"color\":\"red\",\"width\":2},\"marker\":{\"color\":\"red\",\"size\":1},\"type\":\"scatter3d\",\"x\":[950.7899780273438,921.8089628838239],\"y\":[13713.259765625,13674.911923929876],\"z\":[3447.369873046875,3461.137363688845]},{\"legendgroup\":\"15\",\"legendgrouptitle\":{\"text\":\"--15--\"},\"line\":{\"color\":\"green\",\"width\":2},\"marker\":{\"color\":\"green\",\"size\":1},\"type\":\"scatter3d\",\"x\":[950.7899780273438,991.5273566901694],\"y\":[13713.259765625,13686.300170462735],\"z\":[3447.369873046875,3458.0303706135132]},{\"legendgroup\":\"15\",\"legendgrouptitle\":{\"text\":\"--15--\"},\"line\":{\"color\":\"blue\",\"width\":2},\"marker\":{\"color\":\"blue\",\"size\":1},\"type\":\"scatter3d\",\"x\":[950.7899780273438,958.3181978211267],\"y\":[13713.259765625,13539.299061437989],\"z\":[3447.369873046875,2978.668476307442]},{\"legendgroup\":\"16\",\"legendgrouptitle\":{\"text\":\"--16--\"},\"line\":{\"color\":\"red\",\"width\":2},\"marker\":{\"color\":\"red\",\"size\":1},\"type\":\"scatter3d\",\"x\":[1273.7099609375,1233.3230925723342],\"y\":[15197.080078125,15169.751830057507],\"z\":[3855.919921875,3866.968348062303]},{\"legendgroup\":\"16\",\"legendgrouptitle\":{\"text\":\"--16--\"},\"line\":{\"color\":\"green\",\"width\":2},\"marker\":{\"color\":\"green\",\"size\":1},\"type\":\"scatter3d\",\"x\":[1273.7099609375,1303.185018753628],\"y\":[15197.080078125,15159.418118677198],\"z\":[3855.919921875,3870.5075117132183]},{\"legendgroup\":\"16\",\"legendgrouptitle\":{\"text\":\"--16--\"},\"line\":{\"color\":\"blue\",\"width\":2},\"marker\":{\"color\":\"blue\",\"size\":1},\"type\":\"scatter3d\",\"x\":[1273.7099609375,1270.2195398929885],\"y\":[15197.080078125,15014.120063883172],\"z\":[3855.919921875,3390.609863795914]},{\"legendgroup\":\"17\",\"legendgrouptitle\":{\"text\":\"--17--\"},\"line\":{\"color\":\"red\",\"width\":2},\"marker\":{\"color\":\"red\",\"size\":1},\"type\":\"scatter3d\",\"x\":[1646.2999267578125,1598.455204747787],\"y\":[16650.5703125,16637.61710017664],\"z\":[4274.4599609375,4281.024781292192]},{\"legendgroup\":\"17\",\"legendgrouptitle\":{\"text\":\"--17--\"},\"line\":{\"color\":\"green\",\"width\":2},\"marker\":{\"color\":\"green\",\"size\":1},\"type\":\"scatter3d\",\"x\":[1646.2999267578125,1660.7767831104468],\"y\":[16650.5703125,16606.248767181554],\"z\":[4274.4599609375,4292.516019497719]},{\"legendgroup\":\"17\",\"legendgrouptitle\":{\"text\":\"--17--\"},\"line\":{\"color\":\"blue\",\"width\":2},\"marker\":{\"color\":\"blue\",\"size\":1},\"type\":\"scatter3d\",\"x\":[1646.2999267578125,1634.8841222369317],\"y\":[16650.5703125,16458.785299766776],\"z\":[4274.4599609375,3812.845199152244]},{\"legendgroup\":\"18\",\"legendgrouptitle\":{\"text\":\"--18--\"},\"line\":{\"color\":\"red\",\"width\":2},\"marker\":{\"color\":\"red\",\"size\":1},\"type\":\"scatter3d\",\"x\":[2111.97998046875,2062.0726105246827],\"y\":[18060.8203125,18063.849435480737],\"z\":[4685.68017578125,4685.960959031457]},{\"legendgroup\":\"18\",\"legendgrouptitle\":{\"text\":\"--18--\"},\"line\":{\"color\":\"green\",\"width\":2},\"marker\":{\"color\":\"green\",\"size\":1},\"type\":\"scatter3d\",\"x\":[2111.97998046875,2109.338125411535],\"y\":[18060.8203125,18015.37616565834],\"z\":[4685.68017578125,4706.364713960537]},{\"legendgroup\":\"18\",\"legendgrouptitle\":{\"text\":\"--18--\"},\"line\":{\"color\":\"blue\",\"width\":2},\"marker\":{\"color\":\"blue\",\"size\":1},\"type\":\"scatter3d\",\"x\":[2111.97998046875,2096.896787429177],\"y\":[18060.8203125,17854.506490422733],\"z\":[4685.68017578125,4230.480105364295]},{\"legendgroup\":\"19\",\"legendgrouptitle\":{\"text\":\"--19--\"},\"line\":{\"color\":\"red\",\"width\":2},\"marker\":{\"color\":\"red\",\"size\":1},\"type\":\"scatter3d\",\"x\":[2691.409912109375,2645.527985923636],\"y\":[19408.25,19426.68737739946],\"z\":[5054.240234375,5046.829973642999]},{\"legendgroup\":\"19\",\"legendgrouptitle\":{\"text\":\"--19--\"},\"line\":{\"color\":\"green\",\"width\":2},\"marker\":{\"color\":\"green\",\"size\":1},\"type\":\"scatter3d\",\"x\":[2691.409912109375,2671.6344479647805],\"y\":[19408.25,19367.706494894726],\"z\":[5054.240234375,5075.807691611416]},{\"legendgroup\":\"19\",\"legendgrouptitle\":{\"text\":\"--19--\"},\"line\":{\"color\":\"blue\",\"width\":2},\"marker\":{\"color\":\"blue\",\"size\":1},\"type\":\"scatter3d\",\"x\":[2691.409912109375,2671.9680311503257],\"y\":[19408.25,19181.030434731372],\"z\":[5054.240234375,4609.275873528077]},{\"legendgroup\":\"20\",\"legendgrouptitle\":{\"text\":\"--20--\"},\"line\":{\"color\":\"red\",\"width\":2},\"marker\":{\"color\":\"red\",\"size\":1},\"type\":\"scatter3d\",\"x\":[3380.119873046875,3344.27045893326],\"y\":[20684.7109375,20715.950927313035],\"z\":[5367.150390625,5351.694565050415]},{\"legendgroup\":\"20\",\"legendgrouptitle\":{\"text\":\"--20--\"},\"line\":{\"color\":\"green\",\"width\":2},\"marker\":{\"color\":\"green\",\"size\":1},\"type\":\"scatter3d\",\"x\":[3380.119873046875,3345.397585217376],\"y\":[20684.7109375,20654.628288334246],\"z\":[5367.150390625,5386.8835339898]},{\"legendgroup\":\"20\",\"legendgrouptitle\":{\"text\":\"--20--\"},\"line\":{\"color\":\"blue\",\"width\":2},\"marker\":{\"color\":\"blue\",\"size\":1},\"type\":\"scatter3d\",\"x\":[3380.119873046875,3349.817669173233],\"y\":[20684.7109375,20435.894287001738],\"z\":[5367.150390625,4934.5165374937105]},{\"legendgroup\":\"21\",\"legendgrouptitle\":{\"text\":\"--21--\"},\"line\":{\"color\":\"red\",\"width\":2},\"marker\":{\"color\":\"red\",\"size\":1},\"type\":\"scatter3d\",\"x\":[4126.9296875,4106.395914203969],\"y\":[21920.830078125,21960.512297947804],\"z\":[5643.23046875,5620.787528119104]},{\"legendgroup\":\"21\",\"legendgrouptitle\":{\"text\":\"--21--\"},\"line\":{\"color\":\"green\",\"width\":2},\"marker\":{\"color\":\"green\",\"size\":1},\"type\":\"scatter3d\",\"x\":[4126.9296875,4081.588412379106],\"y\":[21920.830078125,21905.616895851894],\"z\":[5643.23046875,5657.815661773631]},{\"legendgroup\":\"21\",\"legendgrouptitle\":{\"text\":\"--21--\"},\"line\":{\"color\":\"blue\",\"width\":2},\"marker\":{\"color\":\"blue\",\"size\":1},\"type\":\"scatter3d\",\"x\":[4126.9296875,4079.460829668122],\"y\":[21920.830078125,21657.413959586305],\"z\":[5643.23046875,5220.90517228986]},{\"legendgroup\":\"22\",\"legendgrouptitle\":{\"text\":\"--22--\"},\"line\":{\"color\":\"red\",\"width\":2},\"marker\":{\"color\":\"red\",\"size\":1},\"type\":\"scatter3d\",\"x\":[4884.81982421875,4883.540052236991],\"y\":[23171.619140625,23213.86993197021],\"z\":[5904.75048828125,5878.044069307933]},{\"legendgroup\":\"22\",\"legendgrouptitle\":{\"text\":\"--22--\"},\"line\":{\"color\":\"green\",\"width\":2},\"marker\":{\"color\":\"green\",\"size\":1},\"type\":\"scatter3d\",\"x\":[4884.81982421875,4835.243407343585],\"y\":[23171.619140625,23173.949296490337],\"z\":[5904.75048828125,5910.8126053589]},{\"legendgroup\":\"22\",\"legendgrouptitle\":{\"text\":\"--22--\"},\"line\":{\"color\":\"blue\",\"width\":2},\"marker\":{\"color\":\"blue\",\"size\":1},\"type\":\"scatter3d\",\"x\":[4884.81982421875,4821.147951704579],\"y\":[23171.619140625,22905.265803054983],\"z\":[5904.75048828125,5486.418332912037]}],                        {\"height\":600,\"scene\":{\"aspectmode\":\"data\",\"aspectratio\":{\"x\":1,\"y\":1,\"z\":1}},\"template\":{\"data\":{\"bar\":[{\"error_x\":{\"color\":\"#2a3f5f\"},\"error_y\":{\"color\":\"#2a3f5f\"},\"marker\":{\"line\":{\"color\":\"#E5ECF6\",\"width\":0.5},\"pattern\":{\"fillmode\":\"overlay\",\"size\":10,\"solidity\":0.2}},\"type\":\"bar\"}],\"barpolar\":[{\"marker\":{\"line\":{\"color\":\"#E5ECF6\",\"width\":0.5},\"pattern\":{\"fillmode\":\"overlay\",\"size\":10,\"solidity\":0.2}},\"type\":\"barpolar\"}],\"carpet\":[{\"aaxis\":{\"endlinecolor\":\"#2a3f5f\",\"gridcolor\":\"white\",\"linecolor\":\"white\",\"minorgridcolor\":\"white\",\"startlinecolor\":\"#2a3f5f\"},\"baxis\":{\"endlinecolor\":\"#2a3f5f\",\"gridcolor\":\"white\",\"linecolor\":\"white\",\"minorgridcolor\":\"white\",\"startlinecolor\":\"#2a3f5f\"},\"type\":\"carpet\"}],\"choropleth\":[{\"colorbar\":{\"outlinewidth\":0,\"ticks\":\"\"},\"type\":\"choropleth\"}],\"contour\":[{\"colorbar\":{\"outlinewidth\":0,\"ticks\":\"\"},\"colorscale\":[[0.0,\"#0d0887\"],[0.1111111111111111,\"#46039f\"],[0.2222222222222222,\"#7201a8\"],[0.3333333333333333,\"#9c179e\"],[0.4444444444444444,\"#bd3786\"],[0.5555555555555556,\"#d8576b\"],[0.6666666666666666,\"#ed7953\"],[0.7777777777777778,\"#fb9f3a\"],[0.8888888888888888,\"#fdca26\"],[1.0,\"#f0f921\"]],\"type\":\"contour\"}],\"contourcarpet\":[{\"colorbar\":{\"outlinewidth\":0,\"ticks\":\"\"},\"type\":\"contourcarpet\"}],\"heatmap\":[{\"colorbar\":{\"outlinewidth\":0,\"ticks\":\"\"},\"colorscale\":[[0.0,\"#0d0887\"],[0.1111111111111111,\"#46039f\"],[0.2222222222222222,\"#7201a8\"],[0.3333333333333333,\"#9c179e\"],[0.4444444444444444,\"#bd3786\"],[0.5555555555555556,\"#d8576b\"],[0.6666666666666666,\"#ed7953\"],[0.7777777777777778,\"#fb9f3a\"],[0.8888888888888888,\"#fdca26\"],[1.0,\"#f0f921\"]],\"type\":\"heatmap\"}],\"heatmapgl\":[{\"colorbar\":{\"outlinewidth\":0,\"ticks\":\"\"},\"colorscale\":[[0.0,\"#0d0887\"],[0.1111111111111111,\"#46039f\"],[0.2222222222222222,\"#7201a8\"],[0.3333333333333333,\"#9c179e\"],[0.4444444444444444,\"#bd3786\"],[0.5555555555555556,\"#d8576b\"],[0.6666666666666666,\"#ed7953\"],[0.7777777777777778,\"#fb9f3a\"],[0.8888888888888888,\"#fdca26\"],[1.0,\"#f0f921\"]],\"type\":\"heatmapgl\"}],\"histogram\":[{\"marker\":{\"pattern\":{\"fillmode\":\"overlay\",\"size\":10,\"solidity\":0.2}},\"type\":\"histogram\"}],\"histogram2d\":[{\"colorbar\":{\"outlinewidth\":0,\"ticks\":\"\"},\"colorscale\":[[0.0,\"#0d0887\"],[0.1111111111111111,\"#46039f\"],[0.2222222222222222,\"#7201a8\"],[0.3333333333333333,\"#9c179e\"],[0.4444444444444444,\"#bd3786\"],[0.5555555555555556,\"#d8576b\"],[0.6666666666666666,\"#ed7953\"],[0.7777777777777778,\"#fb9f3a\"],[0.8888888888888888,\"#fdca26\"],[1.0,\"#f0f921\"]],\"type\":\"histogram2d\"}],\"histogram2dcontour\":[{\"colorbar\":{\"outlinewidth\":0,\"ticks\":\"\"},\"colorscale\":[[0.0,\"#0d0887\"],[0.1111111111111111,\"#46039f\"],[0.2222222222222222,\"#7201a8\"],[0.3333333333333333,\"#9c179e\"],[0.4444444444444444,\"#bd3786\"],[0.5555555555555556,\"#d8576b\"],[0.6666666666666666,\"#ed7953\"],[0.7777777777777778,\"#fb9f3a\"],[0.8888888888888888,\"#fdca26\"],[1.0,\"#f0f921\"]],\"type\":\"histogram2dcontour\"}],\"mesh3d\":[{\"colorbar\":{\"outlinewidth\":0,\"ticks\":\"\"},\"type\":\"mesh3d\"}],\"parcoords\":[{\"line\":{\"colorbar\":{\"outlinewidth\":0,\"ticks\":\"\"}},\"type\":\"parcoords\"}],\"pie\":[{\"automargin\":true,\"type\":\"pie\"}],\"scatter\":[{\"marker\":{\"colorbar\":{\"outlinewidth\":0,\"ticks\":\"\"}},\"type\":\"scatter\"}],\"scatter3d\":[{\"line\":{\"colorbar\":{\"outlinewidth\":0,\"ticks\":\"\"}},\"marker\":{\"colorbar\":{\"outlinewidth\":0,\"ticks\":\"\"}},\"type\":\"scatter3d\"}],\"scattercarpet\":[{\"marker\":{\"colorbar\":{\"outlinewidth\":0,\"ticks\":\"\"}},\"type\":\"scattercarpet\"}],\"scattergeo\":[{\"marker\":{\"colorbar\":{\"outlinewidth\":0,\"ticks\":\"\"}},\"type\":\"scattergeo\"}],\"scattergl\":[{\"marker\":{\"colorbar\":{\"outlinewidth\":0,\"ticks\":\"\"}},\"type\":\"scattergl\"}],\"scattermapbox\":[{\"marker\":{\"colorbar\":{\"outlinewidth\":0,\"ticks\":\"\"}},\"type\":\"scattermapbox\"}],\"scatterpolar\":[{\"marker\":{\"colorbar\":{\"outlinewidth\":0,\"ticks\":\"\"}},\"type\":\"scatterpolar\"}],\"scatterpolargl\":[{\"marker\":{\"colorbar\":{\"outlinewidth\":0,\"ticks\":\"\"}},\"type\":\"scatterpolargl\"}],\"scatterternary\":[{\"marker\":{\"colorbar\":{\"outlinewidth\":0,\"ticks\":\"\"}},\"type\":\"scatterternary\"}],\"surface\":[{\"colorbar\":{\"outlinewidth\":0,\"ticks\":\"\"},\"colorscale\":[[0.0,\"#0d0887\"],[0.1111111111111111,\"#46039f\"],[0.2222222222222222,\"#7201a8\"],[0.3333333333333333,\"#9c179e\"],[0.4444444444444444,\"#bd3786\"],[0.5555555555555556,\"#d8576b\"],[0.6666666666666666,\"#ed7953\"],[0.7777777777777778,\"#fb9f3a\"],[0.8888888888888888,\"#fdca26\"],[1.0,\"#f0f921\"]],\"type\":\"surface\"}],\"table\":[{\"cells\":{\"fill\":{\"color\":\"#EBF0F8\"},\"line\":{\"color\":\"white\"}},\"header\":{\"fill\":{\"color\":\"#C8D4E3\"},\"line\":{\"color\":\"white\"}},\"type\":\"table\"}]},\"layout\":{\"annotationdefaults\":{\"arrowcolor\":\"#2a3f5f\",\"arrowhead\":0,\"arrowwidth\":1},\"autotypenumbers\":\"strict\",\"coloraxis\":{\"colorbar\":{\"outlinewidth\":0,\"ticks\":\"\"}},\"colorscale\":{\"diverging\":[[0,\"#8e0152\"],[0.1,\"#c51b7d\"],[0.2,\"#de77ae\"],[0.3,\"#f1b6da\"],[0.4,\"#fde0ef\"],[0.5,\"#f7f7f7\"],[0.6,\"#e6f5d0\"],[0.7,\"#b8e186\"],[0.8,\"#7fbc41\"],[0.9,\"#4d9221\"],[1,\"#276419\"]],\"sequential\":[[0.0,\"#0d0887\"],[0.1111111111111111,\"#46039f\"],[0.2222222222222222,\"#7201a8\"],[0.3333333333333333,\"#9c179e\"],[0.4444444444444444,\"#bd3786\"],[0.5555555555555556,\"#d8576b\"],[0.6666666666666666,\"#ed7953\"],[0.7777777777777778,\"#fb9f3a\"],[0.8888888888888888,\"#fdca26\"],[1.0,\"#f0f921\"]],\"sequentialminus\":[[0.0,\"#0d0887\"],[0.1111111111111111,\"#46039f\"],[0.2222222222222222,\"#7201a8\"],[0.3333333333333333,\"#9c179e\"],[0.4444444444444444,\"#bd3786\"],[0.5555555555555556,\"#d8576b\"],[0.6666666666666666,\"#ed7953\"],[0.7777777777777778,\"#fb9f3a\"],[0.8888888888888888,\"#fdca26\"],[1.0,\"#f0f921\"]]},\"colorway\":[\"#636efa\",\"#EF553B\",\"#00cc96\",\"#ab63fa\",\"#FFA15A\",\"#19d3f3\",\"#FF6692\",\"#B6E880\",\"#FF97FF\",\"#FECB52\"],\"font\":{\"color\":\"#2a3f5f\"},\"geo\":{\"bgcolor\":\"white\",\"lakecolor\":\"white\",\"landcolor\":\"#E5ECF6\",\"showlakes\":true,\"showland\":true,\"subunitcolor\":\"white\"},\"hoverlabel\":{\"align\":\"left\"},\"hovermode\":\"closest\",\"mapbox\":{\"style\":\"light\"},\"paper_bgcolor\":\"white\",\"plot_bgcolor\":\"#E5ECF6\",\"polar\":{\"angularaxis\":{\"gridcolor\":\"white\",\"linecolor\":\"white\",\"ticks\":\"\"},\"bgcolor\":\"#E5ECF6\",\"radialaxis\":{\"gridcolor\":\"white\",\"linecolor\":\"white\",\"ticks\":\"\"}},\"scene\":{\"xaxis\":{\"backgroundcolor\":\"#E5ECF6\",\"gridcolor\":\"white\",\"gridwidth\":2,\"linecolor\":\"white\",\"showbackground\":true,\"ticks\":\"\",\"zerolinecolor\":\"white\"},\"yaxis\":{\"backgroundcolor\":\"#E5ECF6\",\"gridcolor\":\"white\",\"gridwidth\":2,\"linecolor\":\"white\",\"showbackground\":true,\"ticks\":\"\",\"zerolinecolor\":\"white\"},\"zaxis\":{\"backgroundcolor\":\"#E5ECF6\",\"gridcolor\":\"white\",\"gridwidth\":2,\"linecolor\":\"white\",\"showbackground\":true,\"ticks\":\"\",\"zerolinecolor\":\"white\"}},\"shapedefaults\":{\"line\":{\"color\":\"#2a3f5f\"}},\"ternary\":{\"aaxis\":{\"gridcolor\":\"white\",\"linecolor\":\"white\",\"ticks\":\"\"},\"baxis\":{\"gridcolor\":\"white\",\"linecolor\":\"white\",\"ticks\":\"\"},\"bgcolor\":\"#E5ECF6\",\"caxis\":{\"gridcolor\":\"white\",\"linecolor\":\"white\",\"ticks\":\"\"}},\"title\":{\"x\":0.05},\"xaxis\":{\"automargin\":true,\"gridcolor\":\"white\",\"linecolor\":\"white\",\"ticks\":\"\",\"title\":{\"standoff\":15},\"zerolinecolor\":\"white\",\"zerolinewidth\":2},\"yaxis\":{\"automargin\":true,\"gridcolor\":\"white\",\"linecolor\":\"white\",\"ticks\":\"\",\"title\":{\"standoff\":15},\"zerolinecolor\":\"white\",\"zerolinewidth\":2}}},\"title\":{\"text\":\"Example-1\"},\"width\":1000},                        {\"responsive\": true}                    ).then(function(){\n",
       "                            \n",
       "var gd = document.getElementById('e3111725-9cf0-4c7a-a439-5b8c2dd5601e');\n",
       "var x = new MutationObserver(function (mutations, observer) {{\n",
       "        var display = window.getComputedStyle(gd).display;\n",
       "        if (!display || display === 'none') {{\n",
       "            console.log([gd, 'removed!']);\n",
       "            Plotly.purge(gd);\n",
       "            observer.disconnect();\n",
       "        }}\n",
       "}});\n",
       "\n",
       "// Listen for the removal of the full notebook cells\n",
       "var notebookContainer = gd.closest('#notebook-container');\n",
       "if (notebookContainer) {{\n",
       "    x.observe(notebookContainer, {childList: true});\n",
       "}}\n",
       "\n",
       "// Listen for the clearing of the current output cell\n",
       "var outputEl = gd.closest('.output');\n",
       "if (outputEl) {{\n",
       "    x.observe(outputEl, {childList: true});\n",
       "}}\n",
       "\n",
       "                        })                };                });            </script>        </div>"
      ]
     },
     "metadata": {},
     "output_type": "display_data"
    }
   ],
   "source": [
    "# -------------------------------------------------------------\n",
    "# Build the Trace\n",
    "mt = MotionTrace()\n",
    "\n",
    "for d in X3[0]:\n",
    "    mt.forward(ap=d[3:], aax=d[0], aay=d[1], aaz=d[2])\n",
    "\n",
    "mt.trace\n",
    "\n",
    "# -------------------------------------------------------------\n",
    "# Draw\n",
    "data = []\n",
    "\n",
    "group_idx = 0\n",
    "\n",
    "# Draw origin and finish\n",
    "trace_origin = mt.trace_origin()\n",
    "trace_finish = mt.trace_finish()\n",
    "color = \"black\"\n",
    "\n",
    "data.append(\n",
    "    go.Scatter3d(\n",
    "        x=trace_origin[:, 0],\n",
    "        y=trace_origin[:, 1],\n",
    "        z=trace_origin[:, 2],\n",
    "        marker={\"size\": 1, \"color\": color},\n",
    "        line={\"color\": color, \"width\": 2},\n",
    "        legendgroup=group_idx,\n",
    "        legendgrouptitle={\"text\": 'origins'},\n",
    "    )\n",
    ")\n",
    "group_idx += 1\n",
    "\n",
    "data.append(\n",
    "    go.Scatter3d(\n",
    "        x=trace_finish[:, 0],\n",
    "        y=trace_finish[:, 1],\n",
    "        z=trace_finish[:, 2],\n",
    "        marker={\"size\": 1, \"color\": color},\n",
    "        line={\"color\": color, \"width\": 2},\n",
    "        legendgroup=group_idx,\n",
    "        legendgrouptitle={\"text\": 'finish'},\n",
    "    )\n",
    ")\n",
    "group_idx += 1\n",
    "\n",
    "# Draw legs\n",
    "for p in tqdm(mt.trace):\n",
    "    origin = p[0]\n",
    "    for axis, color, length in zip(p[1:], [\"red\", \"green\", \"blue\"], [50, 50, -500]):\n",
    "        data.append(\n",
    "            go.Scatter3d(\n",
    "                x=[origin[0], origin[0] + axis[0] * length],\n",
    "                y=[origin[1], origin[1] + axis[1] * length],\n",
    "                z=[origin[2], origin[2] + axis[2] * length],\n",
    "                marker={\"size\": 1, \"color\": color},\n",
    "                line={\"color\": color, \"width\": 2},\n",
    "                legendgroup=group_idx,\n",
    "                legendgrouptitle={\"text\": f\"--{group_idx}--\"},\n",
    "            )\n",
    "        )\n",
    "    group_idx += 1\n",
    "\n",
    "fig = go.Figure(data=data)\n",
    "fig.update_layout(\n",
    "    title=\"Example-1\",\n",
    "    width=1000,\n",
    "    height=600,\n",
    "    scene=dict(aspectratio=dict(x=1, y=1, z=1), aspectmode=\"data\"),\n",
    ")\n",
    "fig.show()"
   ]
  },
  {
   "cell_type": "code",
   "execution_count": null,
   "id": "ceb114f7-6032-4939-94c9-142dc5a26b10",
   "metadata": {},
   "outputs": [],
   "source": []
  },
  {
   "cell_type": "code",
   "execution_count": null,
   "id": "12149eaf-2083-4a42-8319-41e0969e699c",
   "metadata": {},
   "outputs": [],
   "source": []
  },
  {
   "cell_type": "code",
   "execution_count": null,
   "id": "364eb20d-f5b6-4f5a-a06c-9c8dde75fb92",
   "metadata": {},
   "outputs": [],
   "source": []
  }
 ],
 "metadata": {
  "kernelspec": {
   "display_name": "Python 3",
   "language": "python",
   "name": "python3"
  },
  "language_info": {
   "codemirror_mode": {
    "name": "ipython",
    "version": 3
   },
   "file_extension": ".py",
   "mimetype": "text/x-python",
   "name": "python",
   "nbconvert_exporter": "python",
   "pygments_lexer": "ipython3",
   "version": "3.8.12"
  },
  "toc-autonumbering": true,
  "toc-showcode": true,
  "toc-showmarkdowntxt": true
 },
 "nbformat": 4,
 "nbformat_minor": 5
}
