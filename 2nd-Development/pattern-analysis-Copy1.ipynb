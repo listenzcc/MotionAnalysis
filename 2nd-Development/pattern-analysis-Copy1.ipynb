{
 "cells": [
  {
   "cell_type": "markdown",
   "id": "c413f856-e4f4-4424-986f-8ad0316afe98",
   "metadata": {},
   "source": [
    "# Display Trace"
   ]
  },
  {
   "cell_type": "markdown",
   "id": "56c5bfbb-5c9e-445a-8c0e-7d38006473cd",
   "metadata": {},
   "source": [
    "## Packages"
   ]
  },
  {
   "cell_type": "code",
   "execution_count": 1,
   "id": "28353a88-d089-4f5a-b7b4-2dff9fd5624c",
   "metadata": {
    "ExecuteTime": {
     "end_time": "2021-11-15T03:06:29.447448Z",
     "start_time": "2021-11-15T03:06:28.255442Z"
    }
   },
   "outputs": [],
   "source": [
    "import os\n",
    "\n",
    "import numpy as np\n",
    "import pandas as pd\n",
    "import plotly.express as px\n",
    "import plotly.graph_objects as go\n",
    "from sklearn import metrics\n",
    "from sklearn.model_selection import StratifiedKFold\n",
    "from sklearn.pipeline import Pipeline\n",
    "from sklearn.preprocessing import StandardScaler\n",
    "from sklearn.svm import SVC\n",
    "from tqdm.auto import tqdm"
   ]
  },
  {
   "cell_type": "code",
   "execution_count": 2,
   "id": "6110ed36-2b69-4431-bf1a-50d76028f957",
   "metadata": {
    "ExecuteTime": {
     "end_time": "2021-11-15T03:06:29.477460Z",
     "start_time": "2021-11-15T03:06:29.448448Z"
    }
   },
   "outputs": [],
   "source": [
    "def scale(v, s=1):\n",
    "    \"\"\"Scale the vector of y \\in R3,\n",
    "    s is the  scaler,\n",
    "    It computes the normalized vector of y is s = 1 as default.\n",
    "    \"\"\"\n",
    "    return s * np.array(v) / np.linalg.norm(v)\n",
    "\n",
    "\n",
    "def rotate(r, n, a):\n",
    "    \"\"\"Compute the rotated vector of r \\in R3,\n",
    "    n \\in R3 is the rotate axis,\n",
    "    a \\in R is the radius.\n",
    "    \"\"\"\n",
    "    d = np.cross(n, r)\n",
    "\n",
    "    if all(d == 0):\n",
    "        return r\n",
    "\n",
    "    o = scale(scale(r, np.cos(a)) + scale(d, np.sin(a)))\n",
    "    return o\n",
    "\n",
    "\n",
    "class Point(object):\n",
    "    \"\"\"A point has its position and x-, y- and z- normalized coordinates\"\"\"\n",
    "\n",
    "    def __init__(self, p=[0, 0, 0], nx=[1, 0, 0], ny=[0, 1, 0], nz=[0, 0, 1]):\n",
    "        \"\"\"\n",
    "        Initialize the point,\n",
    "        - p: The origin of the point;\n",
    "        - nx: The normed x axis;\n",
    "        - ny: The normed y axis;\n",
    "        - nz: The normed z axis.\n",
    "        \"\"\"\n",
    "        self.p = np.array(p).astype(np.float32)\n",
    "        self.nx = scale(nx)\n",
    "        self.ny = scale(ny)\n",
    "        self.nz = scale(nz)\n",
    "        pass\n",
    "\n",
    "    def translate(self, dp):\n",
    "        \"\"\"Translate the point by p \\in R3\"\"\"\n",
    "        dpx = scale(self.nx, dp[0])\n",
    "        dpy = scale(self.ny, dp[1])\n",
    "        dpz = scale(self.nz, dp[2])\n",
    "        self.p += dpx + dpy + dpz\n",
    "        pass\n",
    "\n",
    "    def rotate(self, ax, ay, az):\n",
    "        \"\"\"The point rotates around its origin, by 3 axis at ax, ay and az radius\"\"\"\n",
    "        # self.nx = rotate(self.nx, self.nx, ax)\n",
    "        self.ny = rotate(self.ny, self.nx, ax)\n",
    "        self.nz = rotate(self.nz, self.nx, ax)\n",
    "\n",
    "        self.nx = rotate(self.nx, self.ny, ay)\n",
    "        # self.ny = rotate(self.ny, self.ny, ay)\n",
    "        self.nz = rotate(self.nz, self.ny, ay)\n",
    "\n",
    "        self.nx = rotate(self.nx, self.nz, az)\n",
    "        self.ny = rotate(self.ny, self.nz, az)\n",
    "        # self.nz = rotate(self.nz, self.nz, az)\n",
    "        pass\n",
    "\n",
    "    def snip(self):\n",
    "        \"\"\"Get a quick snip of the point on the current state\"\"\"\n",
    "        # The p changes in-place, so use hard copy here.\n",
    "        return [self.p.copy(), self.nx, self.ny, self.nz]\n",
    "\n",
    "\n",
    "class MotionTrace(object):\n",
    "    \"\"\"Trace the motion and record every step\"\"\"\n",
    "\n",
    "    def __init__(self):\n",
    "        \"\"\"Initialize\"\"\"\n",
    "        # Dynamic point\n",
    "        self.point = Point()\n",
    "\n",
    "        # The point walks step-by-step,\n",
    "        # the trace records its path.\n",
    "        self.trace = []\n",
    "        self.num_steps = 0\n",
    "\n",
    "        # Reset the speed and angle\n",
    "        self.dax = 0\n",
    "        self.day = 0\n",
    "        self.daz = 0\n",
    "        self.dp = np.array((0.0, 0, 0))\n",
    "\n",
    "        # Place the first point\n",
    "        self.forward()\n",
    "        pass\n",
    "\n",
    "    def forward(self, ap=(0, 0, 0), aax=0, aay=0, aaz=0):\n",
    "        \"\"\"\n",
    "        Forward a step,\n",
    "        - ap: The accelerate of translating the position;\n",
    "        - aax, aay, aaz: The angular accelerate of rotation along the x-, y- and z- axis.\n",
    "        \"\"\"\n",
    "\n",
    "        def rad(x):\n",
    "            return x / 180 * np.pi\n",
    "\n",
    "        self.dax += aax\n",
    "        self.day += aay\n",
    "        self.daz += aaz\n",
    "        self.dp += ap\n",
    "\n",
    "        self.point.translate(self.dp)\n",
    "        self.point.rotate(rad(self.dax), rad(self.day), rad(self.daz))\n",
    "        self.trace.append(self.point.snip())\n",
    "\n",
    "        self.num_steps += 1\n",
    "        pass\n",
    "\n",
    "    def trace_origin(self):\n",
    "        \"\"\"\n",
    "        Trace the origins along the motion,\n",
    "        it will return a matrix \\in R^{n x 3},\n",
    "        - n refers the steps, it equals to the self.num_samples;\n",
    "        - 3 refers the x-, y- and z- coordinates.\n",
    "        \"\"\"\n",
    "        return np.array([e[0] for e in self.trace])\n",
    "\n",
    "    def trace_finish(self, length=500):\n",
    "        \"\"\"\n",
    "        Trace the finish along the motion,\n",
    "        the input\n",
    "        - length refers the length of the arm/leg.\n",
    "        the length grows at the negative direction of the z-axis.\n",
    "        \n",
    "        It will return a matrix \\in R^{n x 3},\n",
    "        - n refers the steps, it equals to the self.num_samples;\n",
    "        - 3 refers the x-, y- and z- coordinates;\n",
    "        \"\"\"\n",
    "        return np.array([e[0] - e[3] * length for e in self.trace])"
   ]
  },
  {
   "cell_type": "markdown",
   "id": "853a9662-8f7e-44c6-92b7-e031b9cb43b2",
   "metadata": {},
   "source": [
    "## Read Parameters"
   ]
  },
  {
   "cell_type": "code",
   "execution_count": 3,
   "id": "99f815e7-eba4-40cd-8424-7d87090b04d2",
   "metadata": {
    "ExecuteTime": {
     "end_time": "2021-11-15T03:06:29.582452Z",
     "start_time": "2021-11-15T03:06:29.481455Z"
    }
   },
   "outputs": [
    {
     "name": "stdout",
     "output_type": "stream",
     "text": [
      "[('0-SLW', 1), ('1-MLW', 2), ('2-FLW', 3), ('3-RD', 4), ('4-SD', 5), ('5-sit', 6), ('6-stand', 7), ('7-RA', 8), ('8-SA', 9)]\n"
     ]
    },
    {
     "data": {
      "text/plain": [
       "((31625, 20, 6), (31625,))"
      ]
     },
     "execution_count": 3,
     "metadata": {},
     "output_type": "execute_result"
    }
   ],
   "source": [
    "folder = os.path.join(\n",
    "    os.environ[\"SYNC\"], r\"MotionData\\data\\2nd-Development\", \"parsedData\"\n",
    ")\n",
    "\n",
    "event_name = {\n",
    "    \"0-SLW\": 1,\n",
    "    \"1-MLW\": 2,\n",
    "    \"2-FLW\": 3,\n",
    "    \"3-RD\": 4,\n",
    "    \"4-SD\": 5,\n",
    "    \"5-sit\": 6,\n",
    "    \"6-stand\": 7,\n",
    "    \"7-RA\": 8,\n",
    "    \"8-SA\": 9,\n",
    "}\n",
    "\n",
    "event_table = [(a, b) for a, b in event_name.items()]\n",
    "print(event_table)\n",
    "\n",
    "# Read and mark the Signal\n",
    "X3s = []\n",
    "ys = []\n",
    "\n",
    "for name, label in event_name.items():\n",
    "    with open(os.path.join(folder, f\"{name}.npy\"), \"rb\") as f:\n",
    "        mat = np.load(f)\n",
    "    X3s.append(mat)\n",
    "    ys.append(np.zeros(mat.shape[0]) + label)\n",
    "\n",
    "X3 = np.concatenate(X3s)\n",
    "y = np.concatenate(ys)\n",
    "\n",
    "y[y==2] = 1\n",
    "y[y==3] = 1\n",
    "# Simple Report\n",
    "X3.shape, y.shape"
   ]
  },
  {
   "cell_type": "markdown",
   "id": "5f39ff41-9754-47cc-aee2-c30610a4fb25",
   "metadata": {},
   "source": [
    "## Pattern Analysis"
   ]
  },
  {
   "cell_type": "code",
   "execution_count": 7,
   "id": "684c8d66",
   "metadata": {
    "ExecuteTime": {
     "end_time": "2021-11-15T03:21:12.563905Z",
     "start_time": "2021-11-15T03:14:14.069548Z"
    }
   },
   "outputs": [
    {
     "name": "stdout",
     "output_type": "stream",
     "text": [
      "(31625, 120)\n"
     ]
    },
    {
     "data": {
      "application/vnd.jupyter.widget-view+json": {
       "model_id": "e7d09fe47a8f45439dab87847c3461fe",
       "version_major": 2,
       "version_minor": 0
      },
      "text/plain": [
       "0it [00:00, ?it/s]"
      ]
     },
     "metadata": {},
     "output_type": "display_data"
    },
    {
     "name": "stdout",
     "output_type": "stream",
     "text": [
      "              precision    recall  f1-score   support\n",
      "\n",
      "         1.0       0.93      0.78      0.85      9410\n",
      "         4.0       0.76      0.96      0.85      3140\n",
      "         5.0       0.97      0.90      0.94      4291\n",
      "         6.0       0.91      0.89      0.90      3646\n",
      "         7.0       0.87      0.96      0.91      3850\n",
      "         8.0       0.68      0.90      0.78      2899\n",
      "         9.0       0.97      0.93      0.95      4389\n",
      "\n",
      "    accuracy                           0.88     31625\n",
      "   macro avg       0.87      0.90      0.88     31625\n",
      "weighted avg       0.89      0.88      0.88     31625\n",
      "\n"
     ]
    },
    {
     "data": {
      "text/plain": [
       "((3162,), (31625, 120))"
      ]
     },
     "execution_count": 7,
     "metadata": {},
     "output_type": "execute_result"
    }
   ],
   "source": [
    "def mk_clf():\n",
    "    clf = Pipeline([(\"scaler\", StandardScaler()), (\"svc\", SVC(gamma=\"auto\", class_weight='balanced'))])\n",
    "    return clf\n",
    "\n",
    "X = X3.reshape((len(X3), -1))\n",
    "\n",
    "print(X.shape) \n",
    "\n",
    "skf = StratifiedKFold(n_splits=10)\n",
    "p = y * 0\n",
    "\n",
    "for train, test in tqdm(skf.split(y, y)):\n",
    "    clf = mk_clf()\n",
    "    clf.fit(X[train], y[train])\n",
    "    p[test] = clf.predict(X[test])\n",
    "\n",
    "print(metrics.classification_report(y_true=y, y_pred=p))\n",
    "\n",
    "select = test\n",
    "select.shape, X.shape"
   ]
  },
  {
   "cell_type": "code",
   "execution_count": 8,
   "id": "de8f0e7b-eb42-48ab-b493-e62e6327e027",
   "metadata": {
    "ExecuteTime": {
     "end_time": "2021-11-15T03:21:12.578991Z",
     "start_time": "2021-11-15T03:21:12.565975Z"
    }
   },
   "outputs": [],
   "source": [
    "with open(os.path.join(folder, \"raw7-svc.npy\"), \"wb\") as f:\n",
    "    np.save(f, y)\n",
    "    np.save(f, p)"
   ]
  },
  {
   "cell_type": "code",
   "execution_count": null,
   "id": "4370c2aa-8196-4db2-bc33-82b9f3f64d8a",
   "metadata": {},
   "outputs": [],
   "source": []
  },
  {
   "cell_type": "code",
   "execution_count": null,
   "id": "85beb03d",
   "metadata": {},
   "outputs": [],
   "source": []
  },
  {
   "cell_type": "code",
   "execution_count": null,
   "id": "dc3543b6",
   "metadata": {},
   "outputs": [],
   "source": []
  },
  {
   "cell_type": "code",
   "execution_count": null,
   "id": "59917cc4",
   "metadata": {},
   "outputs": [],
   "source": []
  },
  {
   "cell_type": "code",
   "execution_count": null,
   "id": "1d8a5fde",
   "metadata": {},
   "outputs": [],
   "source": []
  },
  {
   "cell_type": "code",
   "execution_count": null,
   "id": "7a62eca2",
   "metadata": {},
   "outputs": [],
   "source": []
  }
 ],
 "metadata": {
  "kernelspec": {
   "display_name": "Python 3 (ipykernel)",
   "language": "python",
   "name": "python3"
  },
  "language_info": {
   "codemirror_mode": {
    "name": "ipython",
    "version": 3
   },
   "file_extension": ".py",
   "mimetype": "text/x-python",
   "name": "python",
   "nbconvert_exporter": "python",
   "pygments_lexer": "ipython3",
   "version": "3.8.12"
  },
  "toc": {
   "base_numbering": 1,
   "nav_menu": {},
   "number_sections": true,
   "sideBar": true,
   "skip_h1_title": false,
   "title_cell": "Table of Contents",
   "title_sidebar": "Contents",
   "toc_cell": false,
   "toc_position": {},
   "toc_section_display": true,
   "toc_window_display": true
  },
  "toc-autonumbering": true,
  "toc-showcode": true,
  "toc-showmarkdowntxt": true
 },
 "nbformat": 4,
 "nbformat_minor": 5
}
