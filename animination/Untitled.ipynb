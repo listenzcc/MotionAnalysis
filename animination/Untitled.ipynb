{
 "cells": [
  {
   "cell_type": "markdown",
   "id": "obvious-strap",
   "metadata": {},
   "source": [
    "# View Motion in 3D Animation"
   ]
  },
  {
   "cell_type": "markdown",
   "id": "binding-cuisine",
   "metadata": {},
   "source": [
    "## Required Packages"
   ]
  },
  {
   "cell_type": "code",
   "execution_count": 1,
   "id": "occupational-newman",
   "metadata": {},
   "outputs": [],
   "source": [
    "import os\n",
    "import numpy as np\n",
    "import pandas as pd\n",
    "import plotly.graph_objs as go\n",
    "import plotly.express as px\n",
    "\n",
    "import matplotlib\n",
    "import matplotlib.pyplot as plt\n",
    "import matplotlib.colors as colors"
   ]
  },
  {
   "cell_type": "markdown",
   "id": "fundamental-medicaid",
   "metadata": {},
   "source": [
    "## Customized Tools"
   ]
  },
  {
   "cell_type": "code",
   "execution_count": 2,
   "id": "speaking-referral",
   "metadata": {},
   "outputs": [],
   "source": [
    "'''\n",
    "Compute triangle functions based on angle.\n",
    "The angle is in the unit of degrees.\n",
    "'''\n",
    "def sin(x):\n",
    "    '''\n",
    "    Compute sin of [x] in the unit of degrees.\n",
    "    \n",
    "    Args:\n",
    "    - @x: The angle value in degrees.\n",
    "    '''\n",
    "    return np.sin(x / 180 * np.pi)\n",
    "\n",
    "\n",
    "def cos(x):\n",
    "    '''\n",
    "    Compute cos of [x] in the unit of degrees.\n",
    "    \n",
    "    Args:\n",
    "    - @x: The angle value in degrees.\n",
    "    '''\n",
    "    return np.cos(x / 180 * np.pi)\n",
    "\n",
    "\n",
    "def rotate(rot):\n",
    "    '''\n",
    "    Compute rotate matrix for [rot].\n",
    "    The matrix is designed to be right-multipled to the vector to perform the rotation.\n",
    "    \n",
    "    Args:\n",
    "    - @rot: The rotation's 3 params, the unit is degree.\n",
    "    '''\n",
    "    rx, ry, rz = rot\n",
    "\n",
    "    mz = np.array([[cos(rz), sin(rz), 0],\n",
    "                   [-sin(rz), cos(rz), 0],\n",
    "                   [0, 0, 1]])\n",
    "\n",
    "    my = np.array([[cos(ry), 0, -sin(ry)],\n",
    "                   [0, 1, 0],\n",
    "                   [sin(ry), 0, cos(ry)]])\n",
    "\n",
    "    mx = np.array([[1, 0, 0],\n",
    "                   [0, cos(rx), sin(rx)],\n",
    "                   [0, -sin(rx), cos(rx)]])\n",
    "\n",
    "    mat = np.matmul(np.matmul(mz, my), mx)\n",
    "\n",
    "    return mat\n",
    "\n",
    "\n",
    "'''\n",
    "Generate rgb hex string for colors in colormap of 'cool'\n",
    "'''\n",
    "def rgb(i, n=20):\n",
    "    '''\n",
    "    Generate color in hex format, like \"#FFFFFF\".\n",
    "    \n",
    "    Args:\n",
    "    - @i: The index of the color;\n",
    "    - @n: The max of the color index, default by 20.\n",
    "    '''\n",
    "    c = plt.cm.cool(i/n)\n",
    "    return matplotlib.colors.to_hex(c)"
   ]
  },
  {
   "cell_type": "code",
   "execution_count": 3,
   "id": "disturbed-floating",
   "metadata": {},
   "outputs": [],
   "source": [
    "class Trace(object):\n",
    "    ''' Trace Motion and Manage the Positions of the Rod '''\n",
    "    \n",
    "    def __init__(self, vec, pos=[0, 0, 0], rot=[0, 0, 0], color='black'):\n",
    "        '''\n",
    "        Init the Trace.\n",
    "        \n",
    "        The purpose of the trace is tracing the rigid transformation of the rod.\n",
    "        The tracing is saved in [self.df],\n",
    "        the columns are ['x', 'y', 'z', 'color', 'step'],\n",
    "        each trace has two rows:\n",
    "          1. The start end of the rod;\n",
    "          2. The stop end of the rod.\n",
    "        \n",
    "        The [vec] refers the origin rod position (without rigid transformation),\n",
    "        and the [pos] / [rot] params refer the 6-value rigid transformation.\n",
    "        \n",
    "        Args:\n",
    "        - @vec: The initial vector of the rod;\n",
    "        - @pos: The current position of the rod, default by [0, 0, 0], unit is unknown;\n",
    "        - @rot: The rotation of the rod, default by [0, 0, 0], unit is degree;\n",
    "        - @color: The color of the rod, default by 'black'.\n",
    "        '''\n",
    "        \n",
    "        self.vec = np.array(vec).astype(np.float)\n",
    "        self.pos = np.array(pos).astype(np.float)\n",
    "        self.rot = np.array(rot).astype(np.float)\n",
    "\n",
    "        self.step = 0\n",
    "\n",
    "        rod = self._place()\n",
    "        rod['color'] = [color for _ in range(len(rod))]\n",
    "        rod['step'] = 0\n",
    "\n",
    "        self.df = rod\n",
    "\n",
    "    def _place(self):\n",
    "        '''\n",
    "        Compute the position of the rod with rigid transformation\n",
    "        '''\n",
    "        \n",
    "        new_vec = np.matmul(self.vec, rotate(self.rot))\n",
    "        p2 = self.pos + new_vec\n",
    "\n",
    "        rod = pd.DataFrame(np.array([self.pos, p2]))\n",
    "        rod.columns = ['x', 'y', 'z']\n",
    "\n",
    "        return rod\n",
    "\n",
    "    def add(self, pos_diff=[0, 0, 0], rot_diff=[0, 0, 0], color='black'):\n",
    "        '''\n",
    "        Add new trace of the rod,\n",
    "        the new trace will be added to the [self.df].\n",
    "        \n",
    "        Args:\n",
    "        - @pos_diff: The latest change of the position's 3 params, default by [0, 0, 0];\n",
    "        - @rot_diff: The latest change of the rotation's 3 params, default by [0, 0, 0];\n",
    "        - @color: The color of the rod, default by 'black'.\n",
    "        '''\n",
    "        \n",
    "        self.pos += np.array(pos_diff).astype(np.float)\n",
    "        self.rot += np.array(rot_diff).astype(np.float)\n",
    "        self.step += 1\n",
    "\n",
    "        rod = self._place()\n",
    "        rod['color'] = [color for _ in range(len(rod))]\n",
    "        rod['step'] = self.step\n",
    "\n",
    "        self.df = pd.concat([self.df, rod], axis=0)"
   ]
  },
  {
   "cell_type": "code",
   "execution_count": 4,
   "id": "protective-fountain",
   "metadata": {},
   "outputs": [],
   "source": [
    "'''\n",
    "Plot Animation\n",
    "'''\n",
    "\n",
    "length = 10\n",
    "vec = [-length, 0, 0]\n",
    "\n",
    "def plot_animation(md, vec=vec):\n",
    "    e, dd = md\n",
    "    trace = Trace(vec, color=rgb(0))\n",
    "\n",
    "    for i, d in enumerate(dd):\n",
    "        trace.add(pos_diff=d[:3], rot_diff=d[3:], color=rgb(i))\n",
    "\n",
    "    trace.df\n",
    "\n",
    "    range_x=(trace.df['x'].min(), trace.df['x'].max())\n",
    "    range_y=(trace.df['y'].min(), trace.df['y'].max())\n",
    "    range_z=(trace.df['z'].min(), trace.df['z'].max())\n",
    "\n",
    "    df1 = trace.df.copy()\n",
    "    df1['line_group'] = 'a'\n",
    "\n",
    "    # Add Grids\n",
    "    dfx = trace.df.copy()\n",
    "    dfx['line_group'] = 'g'\n",
    "\n",
    "    dfy = trace.df.copy()\n",
    "    dfy['line_group'] = 'g'\n",
    "\n",
    "    dfz = trace.df.copy()\n",
    "    dfz['line_group'] = 'g'\n",
    "\n",
    "    # x-axis\n",
    "    xyz = dfx[['x', 'y', 'z']].values\n",
    "    for j in range(len(xyz)):\n",
    "        if j % 2 == 0:\n",
    "            xyz[j] = [range_x[0], range_y[1], range_z[1]]\n",
    "        if j % 2 == 1:\n",
    "            xyz[j] = [range_x[1], range_y[1], range_z[1]]\n",
    "    dfx[['x', 'y', 'z']] = xyz\n",
    "\n",
    "    # y-axis\n",
    "    xyz = dfy[['x', 'y', 'z']].values\n",
    "    for j in range(len(xyz)):\n",
    "        if j % 2 == 0:\n",
    "            xyz[j] = [range_x[0], range_y[1], range_z[1]]\n",
    "        if j % 2 == 1:\n",
    "            xyz[j] = [range_x[0], range_y[0], range_z[1]]\n",
    "    dfy[['x', 'y', 'z']] = xyz\n",
    "\n",
    "    # z-axis\n",
    "    xyz = dfz[['x', 'y', 'z']].values\n",
    "    for j in range(len(xyz)):\n",
    "        if j % 2 == 0:\n",
    "            xyz[j] = [range_x[0], range_y[1], range_z[1]]\n",
    "        if j % 2 == 1:\n",
    "            xyz[j] = [range_x[0], range_y[1], range_z[0]]\n",
    "    dfz[['x', 'y', 'z']] = xyz\n",
    "\n",
    "    df = pd.concat([df1, dfx, dfy, dfz], axis=0)\n",
    "\n",
    "    kwargs = dict(\n",
    "        width=800,\n",
    "        height=800,\n",
    "        title=e\n",
    "    )\n",
    "\n",
    "    fig = px.line_3d(df, x='x', y='y', z='z', line_group='line_group',\n",
    "                     color='color', animation_frame='step', **kwargs)\n",
    "\n",
    "    for f in fig.frames:\n",
    "        f.data[0].name = 'x'\n",
    "        # f.data[1].name = '--'\n",
    "\n",
    "    for j, frame in enumerate(fig.frames):\n",
    "        frame['data'][0]['line']['color'] = df.iloc[j*2]['color']\n",
    "        frame['data'][0]['line']['width'] = 5\n",
    "        frame['data'][1]['line']['color'] = 'black'\n",
    "\n",
    "    fig.layout.updatemenus[0].buttons[0].args[1]['frame']['duration'] = 20\n",
    "    \n",
    "    return fig, trace.df"
   ]
  },
  {
   "cell_type": "markdown",
   "id": "faced-liberia",
   "metadata": {},
   "source": [
    "## Load Data"
   ]
  },
  {
   "cell_type": "code",
   "execution_count": 5,
   "id": "vulnerable-mentor",
   "metadata": {},
   "outputs": [
    {
     "name": "stdout",
     "output_type": "stream",
     "text": [
      "(31625, 20, 6) (31625,)\n",
      "The mean_data Report:\n",
      "\t 0-SLW \t (20, 6)\n",
      "\t 1-MLW \t (20, 6)\n",
      "\t 2-FLW \t (20, 6)\n",
      "\t 3-RD \t (20, 6)\n",
      "\t 4-SD \t (20, 6)\n",
      "\t 5-sit \t (20, 6)\n",
      "\t 6-stand \t (20, 6)\n",
      "\t 7-RA \t (20, 6)\n",
      "\t 8-SA \t (20, 6)\n"
     ]
    }
   ],
   "source": [
    "''' Parameters '''\n",
    "data_folder = r'H:\\Sync\\MotionData\\data'\n",
    "\n",
    "event_name = ['0-SLW', '1-MLW', '2-FLW', '3-RD',\n",
    "              '4-SD', '5-sit', '6-stand', '7-RA', '8-SA']\n",
    "\n",
    "channel_names = ['ax', 'ay', 'az', 'gx', 'gy', 'gz']\n",
    "\n",
    "'''\n",
    "The data_3d shape is (31625, 20, 6),\n",
    "                 samples x times x channels\n",
    "The event shape is (31625,)\n",
    "'''\n",
    "data_3d = np.load(os.path.join(data_folder, 'data3.npy'))\n",
    "event = np.load(os.path.join(data_folder, 'event.npy'))\n",
    "print(data_3d.shape, event.shape)\n",
    "\n",
    "# data_3d[:, :, 2] = 0\n",
    "\n",
    "'''\n",
    "The mean_data is the averaged data of all the 9 events.\n",
    "'''\n",
    "mean_data = []\n",
    "for e in np.unique(event):\n",
    "    en = event_name[int(e-1)]\n",
    "    mean_data.append([en, np.mean(data_3d[event == e], axis=0)])\n",
    "    \n",
    "\n",
    "'''\n",
    "Report\n",
    "'''\n",
    "print(f'The mean_data Report:')\n",
    "for md in mean_data:\n",
    "    print('\\t', md[0], '\\t', md[1].shape)"
   ]
  },
  {
   "cell_type": "markdown",
   "id": "thrown-cartridge",
   "metadata": {},
   "source": [
    "## Plot Animation"
   ]
  },
  {
   "cell_type": "code",
   "execution_count": 11,
   "id": "collective-stephen",
   "metadata": {
    "scrolled": true
   },
   "outputs": [
    {
     "data": {
      "text/html": [
       "<div>\n",
       "<style scoped>\n",
       "    .dataframe tbody tr th:only-of-type {\n",
       "        vertical-align: middle;\n",
       "    }\n",
       "\n",
       "    .dataframe tbody tr th {\n",
       "        vertical-align: top;\n",
       "    }\n",
       "\n",
       "    .dataframe thead th {\n",
       "        text-align: right;\n",
       "    }\n",
       "</style>\n",
       "<table border=\"1\" class=\"dataframe\">\n",
       "  <thead>\n",
       "    <tr style=\"text-align: right;\">\n",
       "      <th></th>\n",
       "      <th>x</th>\n",
       "      <th>y</th>\n",
       "      <th>z</th>\n",
       "      <th>color</th>\n",
       "      <th>step</th>\n",
       "    </tr>\n",
       "  </thead>\n",
       "  <tbody>\n",
       "    <tr>\n",
       "      <th>0</th>\n",
       "      <td>0.000000</td>\n",
       "      <td>0.000000</td>\n",
       "      <td>0.000000</td>\n",
       "      <td>#00ffff</td>\n",
       "      <td>0</td>\n",
       "    </tr>\n",
       "    <tr>\n",
       "      <th>1</th>\n",
       "      <td>-10.000000</td>\n",
       "      <td>0.000000</td>\n",
       "      <td>0.000000</td>\n",
       "      <td>#00ffff</td>\n",
       "      <td>0</td>\n",
       "    </tr>\n",
       "    <tr>\n",
       "      <th>0</th>\n",
       "      <td>-0.126842</td>\n",
       "      <td>-0.053120</td>\n",
       "      <td>-1.093271</td>\n",
       "      <td>#00ffff</td>\n",
       "      <td>1</td>\n",
       "    </tr>\n",
       "    <tr>\n",
       "      <th>1</th>\n",
       "      <td>-10.002347</td>\n",
       "      <td>-1.261171</td>\n",
       "      <td>-0.085794</td>\n",
       "      <td>#00ffff</td>\n",
       "      <td>1</td>\n",
       "    </tr>\n",
       "    <tr>\n",
       "      <th>0</th>\n",
       "      <td>-0.249742</td>\n",
       "      <td>-0.109073</td>\n",
       "      <td>-2.188722</td>\n",
       "      <td>#0cf3ff</td>\n",
       "      <td>2</td>\n",
       "    </tr>\n",
       "    <tr>\n",
       "      <th>1</th>\n",
       "      <td>-9.749686</td>\n",
       "      <td>-2.793700</td>\n",
       "      <td>-0.593774</td>\n",
       "      <td>#0cf3ff</td>\n",
       "      <td>2</td>\n",
       "    </tr>\n",
       "    <tr>\n",
       "      <th>0</th>\n",
       "      <td>-0.368764</td>\n",
       "      <td>-0.166661</td>\n",
       "      <td>-3.285113</td>\n",
       "      <td>#19e6ff</td>\n",
       "      <td>3</td>\n",
       "    </tr>\n",
       "    <tr>\n",
       "      <th>1</th>\n",
       "      <td>-9.246518</td>\n",
       "      <td>-4.430747</td>\n",
       "      <td>-1.552183</td>\n",
       "      <td>#19e6ff</td>\n",
       "      <td>3</td>\n",
       "    </tr>\n",
       "    <tr>\n",
       "      <th>0</th>\n",
       "      <td>-0.486211</td>\n",
       "      <td>-0.224295</td>\n",
       "      <td>-4.385412</td>\n",
       "      <td>#26d9ff</td>\n",
       "      <td>4</td>\n",
       "    </tr>\n",
       "    <tr>\n",
       "      <th>1</th>\n",
       "      <td>-8.583352</td>\n",
       "      <td>-5.950914</td>\n",
       "      <td>-3.103957</td>\n",
       "      <td>#26d9ff</td>\n",
       "      <td>4</td>\n",
       "    </tr>\n",
       "    <tr>\n",
       "      <th>0</th>\n",
       "      <td>-0.601516</td>\n",
       "      <td>-0.282273</td>\n",
       "      <td>-5.484005</td>\n",
       "      <td>#33ccff</td>\n",
       "      <td>5</td>\n",
       "    </tr>\n",
       "    <tr>\n",
       "      <th>1</th>\n",
       "      <td>-7.831986</td>\n",
       "      <td>-7.180570</td>\n",
       "      <td>-5.118220</td>\n",
       "      <td>#33ccff</td>\n",
       "      <td>5</td>\n",
       "    </tr>\n",
       "    <tr>\n",
       "      <th>0</th>\n",
       "      <td>-0.717363</td>\n",
       "      <td>-0.341240</td>\n",
       "      <td>-6.579369</td>\n",
       "      <td>#40bfff</td>\n",
       "      <td>6</td>\n",
       "    </tr>\n",
       "    <tr>\n",
       "      <th>1</th>\n",
       "      <td>-7.058541</td>\n",
       "      <td>-8.027139</td>\n",
       "      <td>-7.425788</td>\n",
       "      <td>#40bfff</td>\n",
       "      <td>6</td>\n",
       "    </tr>\n",
       "    <tr>\n",
       "      <th>0</th>\n",
       "      <td>-0.835393</td>\n",
       "      <td>-0.400016</td>\n",
       "      <td>-7.673641</td>\n",
       "      <td>#4cb3ff</td>\n",
       "      <td>7</td>\n",
       "    </tr>\n",
       "    <tr>\n",
       "      <th>1</th>\n",
       "      <td>-6.275455</td>\n",
       "      <td>-8.472057</td>\n",
       "      <td>-9.964467</td>\n",
       "      <td>#4cb3ff</td>\n",
       "      <td>7</td>\n",
       "    </tr>\n",
       "    <tr>\n",
       "      <th>0</th>\n",
       "      <td>-0.956980</td>\n",
       "      <td>-0.460196</td>\n",
       "      <td>-8.768023</td>\n",
       "      <td>#59a6ff</td>\n",
       "      <td>8</td>\n",
       "    </tr>\n",
       "    <tr>\n",
       "      <th>1</th>\n",
       "      <td>-5.512173</td>\n",
       "      <td>-8.484953</td>\n",
       "      <td>-12.622046</td>\n",
       "      <td>#59a6ff</td>\n",
       "      <td>8</td>\n",
       "    </tr>\n",
       "    <tr>\n",
       "      <th>0</th>\n",
       "      <td>-1.078925</td>\n",
       "      <td>-0.522015</td>\n",
       "      <td>-9.863210</td>\n",
       "      <td>#6699ff</td>\n",
       "      <td>9</td>\n",
       "    </tr>\n",
       "    <tr>\n",
       "      <th>1</th>\n",
       "      <td>-4.748983</td>\n",
       "      <td>-8.140625</td>\n",
       "      <td>-15.200575</td>\n",
       "      <td>#6699ff</td>\n",
       "      <td>9</td>\n",
       "    </tr>\n",
       "    <tr>\n",
       "      <th>0</th>\n",
       "      <td>-1.199079</td>\n",
       "      <td>-0.582447</td>\n",
       "      <td>-10.966288</td>\n",
       "      <td>#738cff</td>\n",
       "      <td>10</td>\n",
       "    </tr>\n",
       "    <tr>\n",
       "      <th>1</th>\n",
       "      <td>-4.022593</td>\n",
       "      <td>-7.423681</td>\n",
       "      <td>-17.691262</td>\n",
       "      <td>#738cff</td>\n",
       "      <td>10</td>\n",
       "    </tr>\n",
       "    <tr>\n",
       "      <th>0</th>\n",
       "      <td>-1.317830</td>\n",
       "      <td>-0.639903</td>\n",
       "      <td>-12.072415</td>\n",
       "      <td>#807fff</td>\n",
       "      <td>11</td>\n",
       "    </tr>\n",
       "    <tr>\n",
       "      <th>1</th>\n",
       "      <td>-3.384128</td>\n",
       "      <td>-6.299882</td>\n",
       "      <td>-20.053333</td>\n",
       "      <td>#807fff</td>\n",
       "      <td>11</td>\n",
       "    </tr>\n",
       "    <tr>\n",
       "      <th>0</th>\n",
       "      <td>-1.437238</td>\n",
       "      <td>-0.696404</td>\n",
       "      <td>-13.178628</td>\n",
       "      <td>#8c73ff</td>\n",
       "      <td>12</td>\n",
       "    </tr>\n",
       "    <tr>\n",
       "      <th>1</th>\n",
       "      <td>-2.857084</td>\n",
       "      <td>-4.859110</td>\n",
       "      <td>-22.159492</td>\n",
       "      <td>#8c73ff</td>\n",
       "      <td>12</td>\n",
       "    </tr>\n",
       "    <tr>\n",
       "      <th>0</th>\n",
       "      <td>-1.555303</td>\n",
       "      <td>-0.753464</td>\n",
       "      <td>-14.283532</td>\n",
       "      <td>#9966ff</td>\n",
       "      <td>13</td>\n",
       "    </tr>\n",
       "    <tr>\n",
       "      <th>1</th>\n",
       "      <td>-2.448262</td>\n",
       "      <td>-3.245379</td>\n",
       "      <td>-23.926819</td>\n",
       "      <td>#9966ff</td>\n",
       "      <td>13</td>\n",
       "    </tr>\n",
       "    <tr>\n",
       "      <th>0</th>\n",
       "      <td>-1.671027</td>\n",
       "      <td>-0.811806</td>\n",
       "      <td>-15.384868</td>\n",
       "      <td>#a659ff</td>\n",
       "      <td>14</td>\n",
       "    </tr>\n",
       "    <tr>\n",
       "      <th>1</th>\n",
       "      <td>-2.166442</td>\n",
       "      <td>-1.596487</td>\n",
       "      <td>-25.341717</td>\n",
       "      <td>#a659ff</td>\n",
       "      <td>14</td>\n",
       "    </tr>\n",
       "    <tr>\n",
       "      <th>0</th>\n",
       "      <td>-1.786481</td>\n",
       "      <td>-0.872144</td>\n",
       "      <td>-16.485254</td>\n",
       "      <td>#b34cff</td>\n",
       "      <td>15</td>\n",
       "    </tr>\n",
       "    <tr>\n",
       "      <th>1</th>\n",
       "      <td>-2.008279</td>\n",
       "      <td>0.039408</td>\n",
       "      <td>-26.441151</td>\n",
       "      <td>#b34cff</td>\n",
       "      <td>15</td>\n",
       "    </tr>\n",
       "    <tr>\n",
       "      <th>0</th>\n",
       "      <td>-1.903213</td>\n",
       "      <td>-0.931359</td>\n",
       "      <td>-17.584742</td>\n",
       "      <td>#c03fff</td>\n",
       "      <td>16</td>\n",
       "    </tr>\n",
       "    <tr>\n",
       "      <th>1</th>\n",
       "      <td>-1.955723</td>\n",
       "      <td>1.613860</td>\n",
       "      <td>-27.255270</td>\n",
       "      <td>#c03fff</td>\n",
       "      <td>16</td>\n",
       "    </tr>\n",
       "    <tr>\n",
       "      <th>0</th>\n",
       "      <td>-2.021674</td>\n",
       "      <td>-0.986896</td>\n",
       "      <td>-18.686310</td>\n",
       "      <td>#cc33ff</td>\n",
       "      <td>17</td>\n",
       "    </tr>\n",
       "    <tr>\n",
       "      <th>1</th>\n",
       "      <td>-1.972906</td>\n",
       "      <td>3.167840</td>\n",
       "      <td>-27.782232</td>\n",
       "      <td>#cc33ff</td>\n",
       "      <td>17</td>\n",
       "    </tr>\n",
       "    <tr>\n",
       "      <th>0</th>\n",
       "      <td>-2.144855</td>\n",
       "      <td>-1.040003</td>\n",
       "      <td>-19.786198</td>\n",
       "      <td>#d926ff</td>\n",
       "      <td>18</td>\n",
       "    </tr>\n",
       "    <tr>\n",
       "      <th>1</th>\n",
       "      <td>-2.034524</td>\n",
       "      <td>4.663731</td>\n",
       "      <td>-27.999312</td>\n",
       "      <td>#d926ff</td>\n",
       "      <td>18</td>\n",
       "    </tr>\n",
       "    <tr>\n",
       "      <th>0</th>\n",
       "      <td>-2.272476</td>\n",
       "      <td>-1.090930</td>\n",
       "      <td>-20.882611</td>\n",
       "      <td>#e619ff</td>\n",
       "      <td>19</td>\n",
       "    </tr>\n",
       "    <tr>\n",
       "      <th>1</th>\n",
       "      <td>-2.148484</td>\n",
       "      <td>6.076255</td>\n",
       "      <td>-27.855135</td>\n",
       "      <td>#e619ff</td>\n",
       "      <td>19</td>\n",
       "    </tr>\n",
       "    <tr>\n",
       "      <th>0</th>\n",
       "      <td>-2.399620</td>\n",
       "      <td>-1.142717</td>\n",
       "      <td>-21.978142</td>\n",
       "      <td>#f30cff</td>\n",
       "      <td>20</td>\n",
       "    </tr>\n",
       "    <tr>\n",
       "      <th>1</th>\n",
       "      <td>-2.347930</td>\n",
       "      <td>7.333183</td>\n",
       "      <td>-27.284407</td>\n",
       "      <td>#f30cff</td>\n",
       "      <td>20</td>\n",
       "    </tr>\n",
       "  </tbody>\n",
       "</table>\n",
       "</div>"
      ],
      "text/plain": [
       "           x         y          z    color  step\n",
       "0   0.000000  0.000000   0.000000  #00ffff     0\n",
       "1 -10.000000  0.000000   0.000000  #00ffff     0\n",
       "0  -0.126842 -0.053120  -1.093271  #00ffff     1\n",
       "1 -10.002347 -1.261171  -0.085794  #00ffff     1\n",
       "0  -0.249742 -0.109073  -2.188722  #0cf3ff     2\n",
       "1  -9.749686 -2.793700  -0.593774  #0cf3ff     2\n",
       "0  -0.368764 -0.166661  -3.285113  #19e6ff     3\n",
       "1  -9.246518 -4.430747  -1.552183  #19e6ff     3\n",
       "0  -0.486211 -0.224295  -4.385412  #26d9ff     4\n",
       "1  -8.583352 -5.950914  -3.103957  #26d9ff     4\n",
       "0  -0.601516 -0.282273  -5.484005  #33ccff     5\n",
       "1  -7.831986 -7.180570  -5.118220  #33ccff     5\n",
       "0  -0.717363 -0.341240  -6.579369  #40bfff     6\n",
       "1  -7.058541 -8.027139  -7.425788  #40bfff     6\n",
       "0  -0.835393 -0.400016  -7.673641  #4cb3ff     7\n",
       "1  -6.275455 -8.472057  -9.964467  #4cb3ff     7\n",
       "0  -0.956980 -0.460196  -8.768023  #59a6ff     8\n",
       "1  -5.512173 -8.484953 -12.622046  #59a6ff     8\n",
       "0  -1.078925 -0.522015  -9.863210  #6699ff     9\n",
       "1  -4.748983 -8.140625 -15.200575  #6699ff     9\n",
       "0  -1.199079 -0.582447 -10.966288  #738cff    10\n",
       "1  -4.022593 -7.423681 -17.691262  #738cff    10\n",
       "0  -1.317830 -0.639903 -12.072415  #807fff    11\n",
       "1  -3.384128 -6.299882 -20.053333  #807fff    11\n",
       "0  -1.437238 -0.696404 -13.178628  #8c73ff    12\n",
       "1  -2.857084 -4.859110 -22.159492  #8c73ff    12\n",
       "0  -1.555303 -0.753464 -14.283532  #9966ff    13\n",
       "1  -2.448262 -3.245379 -23.926819  #9966ff    13\n",
       "0  -1.671027 -0.811806 -15.384868  #a659ff    14\n",
       "1  -2.166442 -1.596487 -25.341717  #a659ff    14\n",
       "0  -1.786481 -0.872144 -16.485254  #b34cff    15\n",
       "1  -2.008279  0.039408 -26.441151  #b34cff    15\n",
       "0  -1.903213 -0.931359 -17.584742  #c03fff    16\n",
       "1  -1.955723  1.613860 -27.255270  #c03fff    16\n",
       "0  -2.021674 -0.986896 -18.686310  #cc33ff    17\n",
       "1  -1.972906  3.167840 -27.782232  #cc33ff    17\n",
       "0  -2.144855 -1.040003 -19.786198  #d926ff    18\n",
       "1  -2.034524  4.663731 -27.999312  #d926ff    18\n",
       "0  -2.272476 -1.090930 -20.882611  #e619ff    19\n",
       "1  -2.148484  6.076255 -27.855135  #e619ff    19\n",
       "0  -2.399620 -1.142717 -21.978142  #f30cff    20\n",
       "1  -2.347930  7.333183 -27.284407  #f30cff    20"
      ]
     },
     "execution_count": 11,
     "metadata": {},
     "output_type": "execute_result"
    }
   ],
   "source": [
    "md = mean_data[0]\n",
    "fig, df = plot_animation(md)\n",
    "df"
   ]
  },
  {
   "cell_type": "code",
   "execution_count": 12,
   "id": "weighted-calcium",
   "metadata": {},
   "outputs": [
    {
     "data": {
      "application/vnd.plotly.v1+json": {
       "config": {
        "plotlyServerURL": "https://plot.ly"
       },
       "data": [
        {
         "hovertemplate": "color=#f30cff<br>step=20<br>line_group=a<br>x=%{x}<br>y=%{y}<br>z=%{z}<extra></extra>",
         "legendgroup": "#f30cff",
         "line": {
          "color": "#f30cff",
          "dash": "solid",
          "width": 5
         },
         "mode": "lines",
         "name": "x",
         "scene": "scene",
         "showlegend": true,
         "type": "scatter3d",
         "x": [
          -2.3996200901480993,
          -2.3479303189360503
         ],
         "y": [
          -1.1427173213135862,
          7.333183032658033
         ],
         "z": [
          -21.978142305215705,
          -27.28440665568825
         ]
        },
        {
         "hovertemplate": "color=#f30cff<br>step=20<br>line_group=g<br>x=%{x}<br>y=%{y}<br>z=%{z}<extra></extra>",
         "legendgroup": "#f30cff",
         "line": {
          "color": "black",
          "dash": "solid"
         },
         "mode": "lines",
         "name": "#f30cff",
         "scene": "scene",
         "showlegend": false,
         "type": "scatter3d",
         "x": [
          -10.002346781927159,
          0,
          -10.002346781927159,
          -10.002346781927159,
          -10.002346781927159,
          -10.002346781927159
         ],
         "y": [
          7.333183032658033,
          7.333183032658033,
          7.333183032658033,
          -8.484953265767555,
          7.333183032658033,
          7.333183032658033
         ],
         "z": [
          0,
          0,
          0,
          0,
          0,
          -27.999311790876078
         ]
        }
       ],
       "frames": [
        {
         "data": [
          {
           "hovertemplate": "color=#00ffff<br>step=0<br>line_group=a<br>x=%{x}<br>y=%{y}<br>z=%{z}<extra></extra>",
           "legendgroup": "#00ffff",
           "line": {
            "color": "#00ffff",
            "dash": "solid",
            "width": 5
           },
           "mode": "lines",
           "name": "x",
           "scene": "scene",
           "showlegend": true,
           "type": "scatter3d",
           "x": [
            0,
            -10
           ],
           "y": [
            0,
            0
           ],
           "z": [
            0,
            0
           ]
          },
          {
           "hovertemplate": "color=#00ffff<br>step=0<br>line_group=g<br>x=%{x}<br>y=%{y}<br>z=%{z}<extra></extra>",
           "legendgroup": "#00ffff",
           "line": {
            "color": "black",
            "dash": "solid"
           },
           "mode": "lines",
           "name": "#00ffff",
           "scene": "scene",
           "showlegend": false,
           "type": "scatter3d",
           "x": [
            -10.002346781927159,
            0,
            -10.002346781927159,
            -10.002346781927159,
            -10.002346781927159,
            -10.002346781927159
           ],
           "y": [
            7.333183032658033,
            7.333183032658033,
            7.333183032658033,
            -8.484953265767555,
            7.333183032658033,
            7.333183032658033
           ],
           "z": [
            0,
            0,
            0,
            0,
            0,
            -27.999311790876078
           ]
          }
         ],
         "name": "0"
        },
        {
         "data": [
          {
           "hovertemplate": "color=#00ffff<br>step=1<br>line_group=a<br>x=%{x}<br>y=%{y}<br>z=%{z}<extra></extra>",
           "legendgroup": "#00ffff",
           "line": {
            "color": "#00ffff",
            "dash": "solid",
            "width": 5
           },
           "mode": "lines",
           "name": "x",
           "scene": "scene",
           "showlegend": true,
           "type": "scatter3d",
           "x": [
            -0.12684159690920782,
            -10.002346781927159
           ],
           "y": [
            -0.0531197681905988,
            -1.261170690329275
           ],
           "z": [
            -1.0932710882163532,
            -0.08579388738080418
           ]
          },
          {
           "hovertemplate": "color=#00ffff<br>step=1<br>line_group=g<br>x=%{x}<br>y=%{y}<br>z=%{z}<extra></extra>",
           "legendgroup": "#00ffff",
           "line": {
            "color": "black",
            "dash": "solid"
           },
           "mode": "lines",
           "name": "#00ffff",
           "scene": "scene",
           "showlegend": false,
           "type": "scatter3d",
           "x": [
            -10.002346781927159,
            0,
            -10.002346781927159,
            -10.002346781927159,
            -10.002346781927159,
            -10.002346781927159
           ],
           "y": [
            7.333183032658033,
            7.333183032658033,
            7.333183032658033,
            -8.484953265767555,
            7.333183032658033,
            7.333183032658033
           ],
           "z": [
            0,
            0,
            0,
            0,
            0,
            -27.999311790876078
           ]
          }
         ],
         "name": "1"
        },
        {
         "data": [
          {
           "hovertemplate": "color=#0cf3ff<br>step=2<br>line_group=a<br>x=%{x}<br>y=%{y}<br>z=%{z}<extra></extra>",
           "legendgroup": "#0cf3ff",
           "line": {
            "color": "#0cf3ff",
            "dash": "solid",
            "width": 5
           },
           "mode": "lines",
           "name": "x",
           "scene": "scene",
           "showlegend": true,
           "type": "scatter3d",
           "x": [
            -0.24974243399871174,
            -9.749685577184636
           ],
           "y": [
            -0.1090727623953638,
            -2.7936999601994685
           ],
           "z": [
            -2.1887218287186094,
            -0.5937744675040679
           ]
          },
          {
           "hovertemplate": "color=#0cf3ff<br>step=2<br>line_group=g<br>x=%{x}<br>y=%{y}<br>z=%{z}<extra></extra>",
           "legendgroup": "#0cf3ff",
           "line": {
            "color": "black",
            "dash": "solid"
           },
           "mode": "lines",
           "name": "#0cf3ff",
           "scene": "scene",
           "showlegend": false,
           "type": "scatter3d",
           "x": [
            -10.002346781927159,
            0,
            -10.002346781927159,
            -10.002346781927159,
            -10.002346781927159,
            -10.002346781927159
           ],
           "y": [
            7.333183032658033,
            7.333183032658033,
            7.333183032658033,
            -8.484953265767555,
            7.333183032658033,
            7.333183032658033
           ],
           "z": [
            0,
            0,
            0,
            0,
            0,
            -27.999311790876078
           ]
          }
         ],
         "name": "2"
        },
        {
         "data": [
          {
           "hovertemplate": "color=#19e6ff<br>step=3<br>line_group=a<br>x=%{x}<br>y=%{y}<br>z=%{z}<extra></extra>",
           "legendgroup": "#19e6ff",
           "line": {
            "color": "#19e6ff",
            "dash": "solid",
            "width": 5
           },
           "mode": "lines",
           "name": "x",
           "scene": "scene",
           "showlegend": true,
           "type": "scatter3d",
           "x": [
            -0.368763683193818,
            -9.246518284169193
           ],
           "y": [
            -0.16666130070830654,
            -4.430747295783614
           ],
           "z": [
            -3.2851126851255623,
            -1.5521834103243162
           ]
          },
          {
           "hovertemplate": "color=#19e6ff<br>step=3<br>line_group=g<br>x=%{x}<br>y=%{y}<br>z=%{z}<extra></extra>",
           "legendgroup": "#19e6ff",
           "line": {
            "color": "black",
            "dash": "solid"
           },
           "mode": "lines",
           "name": "#19e6ff",
           "scene": "scene",
           "showlegend": false,
           "type": "scatter3d",
           "x": [
            -10.002346781927159,
            0,
            -10.002346781927159,
            -10.002346781927159,
            -10.002346781927159,
            -10.002346781927159
           ],
           "y": [
            7.333183032658033,
            7.333183032658033,
            7.333183032658033,
            -8.484953265767555,
            7.333183032658033,
            7.333183032658033
           ],
           "z": [
            0,
            0,
            0,
            0,
            0,
            -27.999311790876078
           ]
          }
         ],
         "name": "3"
        },
        {
         "data": [
          {
           "hovertemplate": "color=#26d9ff<br>step=4<br>line_group=a<br>x=%{x}<br>y=%{y}<br>z=%{z}<extra></extra>",
           "legendgroup": "#26d9ff",
           "line": {
            "color": "#26d9ff",
            "dash": "solid",
            "width": 5
           },
           "mode": "lines",
           "name": "x",
           "scene": "scene",
           "showlegend": true,
           "type": "scatter3d",
           "x": [
            -0.4862105602060525,
            -8.58335222479116
           ],
           "y": [
            -0.22429491307147456,
            -5.950914325378942
           ],
           "z": [
            -4.38541210560206,
            -3.1039570848451037
           ]
          },
          {
           "hovertemplate": "color=#26d9ff<br>step=4<br>line_group=g<br>x=%{x}<br>y=%{y}<br>z=%{z}<extra></extra>",
           "legendgroup": "#26d9ff",
           "line": {
            "color": "black",
            "dash": "solid"
           },
           "mode": "lines",
           "name": "#26d9ff",
           "scene": "scene",
           "showlegend": false,
           "type": "scatter3d",
           "x": [
            -10.002346781927159,
            0,
            -10.002346781927159,
            -10.002346781927159,
            -10.002346781927159,
            -10.002346781927159
           ],
           "y": [
            7.333183032658033,
            7.333183032658033,
            7.333183032658033,
            -8.484953265767555,
            7.333183032658033,
            7.333183032658033
           ],
           "z": [
            0,
            0,
            0,
            0,
            0,
            -27.999311790876078
           ]
          }
         ],
         "name": "4"
        },
        {
         "data": [
          {
           "hovertemplate": "color=#33ccff<br>step=5<br>line_group=a<br>x=%{x}<br>y=%{y}<br>z=%{z}<extra></extra>",
           "legendgroup": "#33ccff",
           "line": {
            "color": "#33ccff",
            "dash": "solid",
            "width": 5
           },
           "mode": "lines",
           "name": "x",
           "scene": "scene",
           "showlegend": true,
           "type": "scatter3d",
           "x": [
            -0.6015164198325819,
            -7.83198623899103
           ],
           "y": [
            -0.282273019961365,
            -7.180570470571548
           ],
           "z": [
            -5.484005151320023,
            -5.118220409779529
           ]
          },
          {
           "hovertemplate": "color=#33ccff<br>step=5<br>line_group=g<br>x=%{x}<br>y=%{y}<br>z=%{z}<extra></extra>",
           "legendgroup": "#33ccff",
           "line": {
            "color": "black",
            "dash": "solid"
           },
           "mode": "lines",
           "name": "#33ccff",
           "scene": "scene",
           "showlegend": false,
           "type": "scatter3d",
           "x": [
            -10.002346781927159,
            0,
            -10.002346781927159,
            -10.002346781927159,
            -10.002346781927159,
            -10.002346781927159
           ],
           "y": [
            7.333183032658033,
            7.333183032658033,
            7.333183032658033,
            -8.484953265767555,
            7.333183032658033,
            7.333183032658033
           ],
           "z": [
            0,
            0,
            0,
            0,
            0,
            -27.999311790876078
           ]
          }
         ],
         "name": "5"
        },
        {
         "data": [
          {
           "hovertemplate": "color=#40bfff<br>step=6<br>line_group=a<br>x=%{x}<br>y=%{y}<br>z=%{z}<extra></extra>",
           "legendgroup": "#40bfff",
           "line": {
            "color": "#40bfff",
            "dash": "solid",
            "width": 5
           },
           "mode": "lines",
           "name": "x",
           "scene": "scene",
           "showlegend": true,
           "type": "scatter3d",
           "x": [
            -0.7173631680618158,
            -7.058540574628644
           ],
           "y": [
            -0.34123953638119764,
            -8.027138615706809
           ],
           "z": [
            -6.579368963296842,
            -7.425787560013686
           ]
          },
          {
           "hovertemplate": "color=#40bfff<br>step=6<br>line_group=g<br>x=%{x}<br>y=%{y}<br>z=%{z}<extra></extra>",
           "legendgroup": "#40bfff",
           "line": {
            "color": "black",
            "dash": "solid"
           },
           "mode": "lines",
           "name": "#40bfff",
           "scene": "scene",
           "showlegend": false,
           "type": "scatter3d",
           "x": [
            -10.002346781927159,
            0,
            -10.002346781927159,
            -10.002346781927159,
            -10.002346781927159,
            -10.002346781927159
           ],
           "y": [
            7.333183032658033,
            7.333183032658033,
            7.333183032658033,
            -8.484953265767555,
            7.333183032658033,
            7.333183032658033
           ],
           "z": [
            0,
            0,
            0,
            0,
            0,
            -27.999311790876078
           ]
          }
         ],
         "name": "6"
        },
        {
         "data": [
          {
           "hovertemplate": "color=#4cb3ff<br>step=7<br>line_group=a<br>x=%{x}<br>y=%{y}<br>z=%{z}<extra></extra>",
           "legendgroup": "#4cb3ff",
           "line": {
            "color": "#4cb3ff",
            "dash": "solid",
            "width": 5
           },
           "mode": "lines",
           "name": "x",
           "scene": "scene",
           "showlegend": true,
           "type": "scatter3d",
           "x": [
            -0.835392788151964,
            -6.2754552608628495
           ],
           "y": [
            -0.4000160978750804,
            -8.472056682215207
           ],
           "z": [
            -7.673641339343203,
            -9.964466757782734
           ]
          },
          {
           "hovertemplate": "color=#4cb3ff<br>step=7<br>line_group=g<br>x=%{x}<br>y=%{y}<br>z=%{z}<extra></extra>",
           "legendgroup": "#4cb3ff",
           "line": {
            "color": "black",
            "dash": "solid"
           },
           "mode": "lines",
           "name": "#4cb3ff",
           "scene": "scene",
           "showlegend": false,
           "type": "scatter3d",
           "x": [
            -10.002346781927159,
            0,
            -10.002346781927159,
            -10.002346781927159,
            -10.002346781927159,
            -10.002346781927159
           ],
           "y": [
            7.333183032658033,
            7.333183032658033,
            7.333183032658033,
            -8.484953265767555,
            7.333183032658033,
            7.333183032658033
           ],
           "z": [
            0,
            0,
            0,
            0,
            0,
            -27.999311790876078
           ]
          }
         ],
         "name": "7"
        },
        {
         "data": [
          {
           "hovertemplate": "color=#59a6ff<br>step=8<br>line_group=a<br>x=%{x}<br>y=%{y}<br>z=%{z}<extra></extra>",
           "legendgroup": "#59a6ff",
           "line": {
            "color": "#59a6ff",
            "dash": "solid",
            "width": 5
           },
           "mode": "lines",
           "name": "x",
           "scene": "scene",
           "showlegend": true,
           "type": "scatter3d",
           "x": [
            -0.9569800386349003,
            -5.5121728622250385
           ],
           "y": [
            -0.4601963940759819,
            -8.484953265767555
           ],
           "z": [
            -8.768023180940114,
            -12.622046467085617
           ]
          },
          {
           "hovertemplate": "color=#59a6ff<br>step=8<br>line_group=g<br>x=%{x}<br>y=%{y}<br>z=%{z}<extra></extra>",
           "legendgroup": "#59a6ff",
           "line": {
            "color": "black",
            "dash": "solid"
           },
           "mode": "lines",
           "name": "#59a6ff",
           "scene": "scene",
           "showlegend": false,
           "type": "scatter3d",
           "x": [
            -10.002346781927159,
            0,
            -10.002346781927159,
            -10.002346781927159,
            -10.002346781927159,
            -10.002346781927159
           ],
           "y": [
            7.333183032658033,
            7.333183032658033,
            7.333183032658033,
            -8.484953265767555,
            7.333183032658033,
            7.333183032658033
           ],
           "z": [
            0,
            0,
            0,
            0,
            0,
            -27.999311790876078
           ]
          }
         ],
         "name": "8"
        },
        {
         "data": [
          {
           "hovertemplate": "color=#6699ff<br>step=9<br>line_group=a<br>x=%{x}<br>y=%{y}<br>z=%{z}<extra></extra>",
           "legendgroup": "#6699ff",
           "line": {
            "color": "#6699ff",
            "dash": "solid",
            "width": 5
           },
           "mode": "lines",
           "name": "x",
           "scene": "scene",
           "showlegend": true,
           "type": "scatter3d",
           "x": [
            -1.0789246619446233,
            -4.748983012828203
           ],
           "y": [
            -0.5220154539600772,
            -8.140624833606118
           ],
           "z": [
            -9.86320991629105,
            -15.20057469879178
           ]
          },
          {
           "hovertemplate": "color=#6699ff<br>step=9<br>line_group=g<br>x=%{x}<br>y=%{y}<br>z=%{z}<extra></extra>",
           "legendgroup": "#6699ff",
           "line": {
            "color": "black",
            "dash": "solid"
           },
           "mode": "lines",
           "name": "#6699ff",
           "scene": "scene",
           "showlegend": false,
           "type": "scatter3d",
           "x": [
            -10.002346781927159,
            0,
            -10.002346781927159,
            -10.002346781927159,
            -10.002346781927159,
            -10.002346781927159
           ],
           "y": [
            7.333183032658033,
            7.333183032658033,
            7.333183032658033,
            -8.484953265767555,
            7.333183032658033,
            7.333183032658033
           ],
           "z": [
            0,
            0,
            0,
            0,
            0,
            -27.999311790876078
           ]
          }
         ],
         "name": "9"
        },
        {
         "data": [
          {
           "hovertemplate": "color=#738cff<br>step=10<br>line_group=a<br>x=%{x}<br>y=%{y}<br>z=%{z}<extra></extra>",
           "legendgroup": "#738cff",
           "line": {
            "color": "#738cff",
            "dash": "solid",
            "width": 5
           },
           "mode": "lines",
           "name": "x",
           "scene": "scene",
           "showlegend": true,
           "type": "scatter3d",
           "x": [
            -1.199079201545396,
            -4.022593307790493
           ],
           "y": [
            -0.5824468770122342,
            -7.423681069710322
           ],
           "z": [
            -10.96628783000644,
            -17.691262388508015
           ]
          },
          {
           "hovertemplate": "color=#738cff<br>step=10<br>line_group=g<br>x=%{x}<br>y=%{y}<br>z=%{z}<extra></extra>",
           "legendgroup": "#738cff",
           "line": {
            "color": "black",
            "dash": "solid"
           },
           "mode": "lines",
           "name": "#738cff",
           "scene": "scene",
           "showlegend": false,
           "type": "scatter3d",
           "x": [
            -10.002346781927159,
            0,
            -10.002346781927159,
            -10.002346781927159,
            -10.002346781927159,
            -10.002346781927159
           ],
           "y": [
            7.333183032658033,
            7.333183032658033,
            7.333183032658033,
            -8.484953265767555,
            7.333183032658033,
            7.333183032658033
           ],
           "z": [
            0,
            0,
            0,
            0,
            0,
            -27.999311790876078
           ]
          }
         ],
         "name": "10"
        },
        {
         "data": [
          {
           "hovertemplate": "color=#807fff<br>step=11<br>line_group=a<br>x=%{x}<br>y=%{y}<br>z=%{z}<extra></extra>",
           "legendgroup": "#807fff",
           "line": {
            "color": "#807fff",
            "dash": "solid",
            "width": 5
           },
           "mode": "lines",
           "name": "x",
           "scene": "scene",
           "showlegend": true,
           "type": "scatter3d",
           "x": [
            -1.3178300064391497,
            -3.3841281799967042
           ],
           "y": [
            -0.6399034127495169,
            -6.299882076860669
           ],
           "z": [
            -12.072414681262075,
            -20.05333276001462
           ]
          },
          {
           "hovertemplate": "color=#807fff<br>step=11<br>line_group=g<br>x=%{x}<br>y=%{y}<br>z=%{z}<extra></extra>",
           "legendgroup": "#807fff",
           "line": {
            "color": "black",
            "dash": "solid"
           },
           "mode": "lines",
           "name": "#807fff",
           "scene": "scene",
           "showlegend": false,
           "type": "scatter3d",
           "x": [
            -10.002346781927159,
            0,
            -10.002346781927159,
            -10.002346781927159,
            -10.002346781927159,
            -10.002346781927159
           ],
           "y": [
            7.333183032658033,
            7.333183032658033,
            7.333183032658033,
            -8.484953265767555,
            7.333183032658033,
            7.333183032658033
           ],
           "z": [
            0,
            0,
            0,
            0,
            0,
            -27.999311790876078
           ]
          }
         ],
         "name": "11"
        },
        {
         "data": [
          {
           "hovertemplate": "color=#8c73ff<br>step=12<br>line_group=a<br>x=%{x}<br>y=%{y}<br>z=%{z}<extra></extra>",
           "legendgroup": "#8c73ff",
           "line": {
            "color": "#8c73ff",
            "dash": "solid",
            "width": 5
           },
           "mode": "lines",
           "name": "x",
           "scene": "scene",
           "showlegend": true,
           "type": "scatter3d",
           "x": [
            -1.4372376046361874,
            -2.8570839940758663
           ],
           "y": [
            -0.6964037347070184,
            -4.859109555515273
           ],
           "z": [
            -13.178628461043143,
            -22.1594923660249
           ]
          },
          {
           "hovertemplate": "color=#8c73ff<br>step=12<br>line_group=g<br>x=%{x}<br>y=%{y}<br>z=%{z}<extra></extra>",
           "legendgroup": "#8c73ff",
           "line": {
            "color": "black",
            "dash": "solid"
           },
           "mode": "lines",
           "name": "#8c73ff",
           "scene": "scene",
           "showlegend": false,
           "type": "scatter3d",
           "x": [
            -10.002346781927159,
            0,
            -10.002346781927159,
            -10.002346781927159,
            -10.002346781927159,
            -10.002346781927159
           ],
           "y": [
            7.333183032658033,
            7.333183032658033,
            7.333183032658033,
            -8.484953265767555,
            7.333183032658033,
            7.333183032658033
           ],
           "z": [
            0,
            0,
            0,
            0,
            0,
            -27.999311790876078
           ]
          }
         ],
         "name": "12"
        },
        {
         "data": [
          {
           "hovertemplate": "color=#9966ff<br>step=13<br>line_group=a<br>x=%{x}<br>y=%{y}<br>z=%{z}<extra></extra>",
           "legendgroup": "#9966ff",
           "line": {
            "color": "#9966ff",
            "dash": "solid",
            "width": 5
           },
           "mode": "lines",
           "name": "x",
           "scene": "scene",
           "showlegend": true,
           "type": "scatter3d",
           "x": [
            -1.5553026400515124,
            -2.4482624580638457
           ],
           "y": [
            -0.7534642627173211,
            -3.2453787557272014
           ],
           "z": [
            -14.283531873792658,
            -23.926818913124357
           ]
          },
          {
           "hovertemplate": "color=#9966ff<br>step=13<br>line_group=g<br>x=%{x}<br>y=%{y}<br>z=%{z}<extra></extra>",
           "legendgroup": "#9966ff",
           "line": {
            "color": "black",
            "dash": "solid"
           },
           "mode": "lines",
           "name": "#9966ff",
           "scene": "scene",
           "showlegend": false,
           "type": "scatter3d",
           "x": [
            -10.002346781927159,
            0,
            -10.002346781927159,
            -10.002346781927159,
            -10.002346781927159,
            -10.002346781927159
           ],
           "y": [
            7.333183032658033,
            7.333183032658033,
            7.333183032658033,
            -8.484953265767555,
            7.333183032658033,
            7.333183032658033
           ],
           "z": [
            0,
            0,
            0,
            0,
            0,
            -27.999311790876078
           ]
          }
         ],
         "name": "13"
        },
        {
         "data": [
          {
           "hovertemplate": "color=#a659ff<br>step=14<br>line_group=a<br>x=%{x}<br>y=%{y}<br>z=%{z}<extra></extra>",
           "legendgroup": "#a659ff",
           "line": {
            "color": "#a659ff",
            "dash": "solid",
            "width": 5
           },
           "mode": "lines",
           "name": "x",
           "scene": "scene",
           "showlegend": true,
           "type": "scatter3d",
           "x": [
            -1.6710270444301343,
            -2.166442207217566
           ],
           "y": [
            -0.8118061815840307,
            -1.5964873009604443
           ],
           "z": [
            -15.384867997424339,
            -25.341716864278474
           ]
          },
          {
           "hovertemplate": "color=#a659ff<br>step=14<br>line_group=g<br>x=%{x}<br>y=%{y}<br>z=%{z}<extra></extra>",
           "legendgroup": "#a659ff",
           "line": {
            "color": "black",
            "dash": "solid"
           },
           "mode": "lines",
           "name": "#a659ff",
           "scene": "scene",
           "showlegend": false,
           "type": "scatter3d",
           "x": [
            -10.002346781927159,
            0,
            -10.002346781927159,
            -10.002346781927159,
            -10.002346781927159,
            -10.002346781927159
           ],
           "y": [
            7.333183032658033,
            7.333183032658033,
            7.333183032658033,
            -8.484953265767555,
            7.333183032658033,
            7.333183032658033
           ],
           "z": [
            0,
            0,
            0,
            0,
            0,
            -27.999311790876078
           ]
          }
         ],
         "name": "14"
        },
        {
         "data": [
          {
           "hovertemplate": "color=#b34cff<br>step=15<br>line_group=a<br>x=%{x}<br>y=%{y}<br>z=%{z}<extra></extra>",
           "legendgroup": "#b34cff",
           "line": {
            "color": "#b34cff",
            "dash": "solid",
            "width": 5
           },
           "mode": "lines",
           "name": "x",
           "scene": "scene",
           "showlegend": true,
           "type": "scatter3d",
           "x": [
            -1.7864810045074042,
            -2.008278874426184
           ],
           "y": [
            -0.872144236960721,
            0.03940847952892346
           ],
           "z": [
            -16.48525434642627,
            -26.441150958482858
           ]
          },
          {
           "hovertemplate": "color=#b34cff<br>step=15<br>line_group=g<br>x=%{x}<br>y=%{y}<br>z=%{z}<extra></extra>",
           "legendgroup": "#b34cff",
           "line": {
            "color": "black",
            "dash": "solid"
           },
           "mode": "lines",
           "name": "#b34cff",
           "scene": "scene",
           "showlegend": false,
           "type": "scatter3d",
           "x": [
            -10.002346781927159,
            0,
            -10.002346781927159,
            -10.002346781927159,
            -10.002346781927159,
            -10.002346781927159
           ],
           "y": [
            7.333183032658033,
            7.333183032658033,
            7.333183032658033,
            -8.484953265767555,
            7.333183032658033,
            7.333183032658033
           ],
           "z": [
            0,
            0,
            0,
            0,
            0,
            -27.999311790876078
           ]
          }
         ],
         "name": "15"
        },
        {
         "data": [
          {
           "hovertemplate": "color=#c03fff<br>step=16<br>line_group=a<br>x=%{x}<br>y=%{y}<br>z=%{z}<extra></extra>",
           "legendgroup": "#c03fff",
           "line": {
            "color": "#c03fff",
            "dash": "solid",
            "width": 5
           },
           "mode": "lines",
           "name": "x",
           "scene": "scene",
           "showlegend": true,
           "type": "scatter3d",
           "x": [
            -1.9032131358660647,
            -1.9557227409312359
           ],
           "y": [
            -0.9313586606567931,
            1.6138596489801493
           ],
           "z": [
            -17.58474243399871,
            -27.255270159912364
           ]
          },
          {
           "hovertemplate": "color=#c03fff<br>step=16<br>line_group=g<br>x=%{x}<br>y=%{y}<br>z=%{z}<extra></extra>",
           "legendgroup": "#c03fff",
           "line": {
            "color": "black",
            "dash": "solid"
           },
           "mode": "lines",
           "name": "#c03fff",
           "scene": "scene",
           "showlegend": false,
           "type": "scatter3d",
           "x": [
            -10.002346781927159,
            0,
            -10.002346781927159,
            -10.002346781927159,
            -10.002346781927159,
            -10.002346781927159
           ],
           "y": [
            7.333183032658033,
            7.333183032658033,
            7.333183032658033,
            -8.484953265767555,
            7.333183032658033,
            7.333183032658033
           ],
           "z": [
            0,
            0,
            0,
            0,
            0,
            -27.999311790876078
           ]
          }
         ],
         "name": "16"
        },
        {
         "data": [
          {
           "hovertemplate": "color=#cc33ff<br>step=17<br>line_group=a<br>x=%{x}<br>y=%{y}<br>z=%{z}<extra></extra>",
           "legendgroup": "#cc33ff",
           "line": {
            "color": "#cc33ff",
            "dash": "solid",
            "width": 5
           },
           "mode": "lines",
           "name": "x",
           "scene": "scene",
           "showlegend": true,
           "type": "scatter3d",
           "x": [
            -2.02167417900837,
            -1.9729063528681028
           ],
           "y": [
            -0.9868963296844813,
            3.167840387212898
           ],
           "z": [
            -18.68631036703155,
            -27.78223167893824
           ]
          },
          {
           "hovertemplate": "color=#cc33ff<br>step=17<br>line_group=g<br>x=%{x}<br>y=%{y}<br>z=%{z}<extra></extra>",
           "legendgroup": "#cc33ff",
           "line": {
            "color": "black",
            "dash": "solid"
           },
           "mode": "lines",
           "name": "#cc33ff",
           "scene": "scene",
           "showlegend": false,
           "type": "scatter3d",
           "x": [
            -10.002346781927159,
            0,
            -10.002346781927159,
            -10.002346781927159,
            -10.002346781927159,
            -10.002346781927159
           ],
           "y": [
            7.333183032658033,
            7.333183032658033,
            7.333183032658033,
            -8.484953265767555,
            7.333183032658033,
            7.333183032658033
           ],
           "z": [
            0,
            0,
            0,
            0,
            0,
            -27.999311790876078
           ]
          }
         ],
         "name": "17"
        },
        {
         "data": [
          {
           "hovertemplate": "color=#d926ff<br>step=18<br>line_group=a<br>x=%{x}<br>y=%{y}<br>z=%{z}<extra></extra>",
           "legendgroup": "#d926ff",
           "line": {
            "color": "#d926ff",
            "dash": "solid",
            "width": 5
           },
           "mode": "lines",
           "name": "x",
           "scene": "scene",
           "showlegend": true,
           "type": "scatter3d",
           "x": [
            -2.1448551191242746,
            -2.0345237006276986
           ],
           "y": [
            -1.0400032195750157,
            4.663730961742424
           ],
           "z": [
            -19.786197681905985,
            -27.999311790876078
           ]
          },
          {
           "hovertemplate": "color=#d926ff<br>step=18<br>line_group=g<br>x=%{x}<br>y=%{y}<br>z=%{z}<extra></extra>",
           "legendgroup": "#d926ff",
           "line": {
            "color": "black",
            "dash": "solid"
           },
           "mode": "lines",
           "name": "#d926ff",
           "scene": "scene",
           "showlegend": false,
           "type": "scatter3d",
           "x": [
            -10.002346781927159,
            0,
            -10.002346781927159,
            -10.002346781927159,
            -10.002346781927159,
            -10.002346781927159
           ],
           "y": [
            7.333183032658033,
            7.333183032658033,
            7.333183032658033,
            -8.484953265767555,
            7.333183032658033,
            7.333183032658033
           ],
           "z": [
            0,
            0,
            0,
            0,
            0,
            -27.999311790876078
           ]
          }
         ],
         "name": "18"
        },
        {
         "data": [
          {
           "hovertemplate": "color=#e619ff<br>step=19<br>line_group=a<br>x=%{x}<br>y=%{y}<br>z=%{z}<extra></extra>",
           "legendgroup": "#e619ff",
           "line": {
            "color": "#e619ff",
            "dash": "solid",
            "width": 5
           },
           "mode": "lines",
           "name": "x",
           "scene": "scene",
           "showlegend": true,
           "type": "scatter3d",
           "x": [
            -2.2724758531873785,
            -2.148484106820149
           ],
           "y": [
            -1.0909304571796519,
            6.076254546274796
           ],
           "z": [
            -20.88261107533805,
            -27.8551346624685
           ]
          },
          {
           "hovertemplate": "color=#e619ff<br>step=19<br>line_group=g<br>x=%{x}<br>y=%{y}<br>z=%{z}<extra></extra>",
           "legendgroup": "#e619ff",
           "line": {
            "color": "black",
            "dash": "solid"
           },
           "mode": "lines",
           "name": "#e619ff",
           "scene": "scene",
           "showlegend": false,
           "type": "scatter3d",
           "x": [
            -10.002346781927159,
            0,
            -10.002346781927159,
            -10.002346781927159,
            -10.002346781927159,
            -10.002346781927159
           ],
           "y": [
            7.333183032658033,
            7.333183032658033,
            7.333183032658033,
            -8.484953265767555,
            7.333183032658033,
            7.333183032658033
           ],
           "z": [
            0,
            0,
            0,
            0,
            0,
            -27.999311790876078
           ]
          }
         ],
         "name": "19"
        },
        {
         "data": [
          {
           "hovertemplate": "color=#f30cff<br>step=20<br>line_group=a<br>x=%{x}<br>y=%{y}<br>z=%{z}<extra></extra>",
           "legendgroup": "#f30cff",
           "line": {
            "color": "#f30cff",
            "dash": "solid",
            "width": 5
           },
           "mode": "lines",
           "name": "x",
           "scene": "scene",
           "showlegend": true,
           "type": "scatter3d",
           "x": [
            -2.3996200901480993,
            -2.3479303189360503
           ],
           "y": [
            -1.1427173213135862,
            7.333183032658033
           ],
           "z": [
            -21.978142305215705,
            -27.28440665568825
           ]
          },
          {
           "hovertemplate": "color=#f30cff<br>step=20<br>line_group=g<br>x=%{x}<br>y=%{y}<br>z=%{z}<extra></extra>",
           "legendgroup": "#f30cff",
           "line": {
            "color": "black",
            "dash": "solid"
           },
           "mode": "lines",
           "name": "#f30cff",
           "scene": "scene",
           "showlegend": false,
           "type": "scatter3d",
           "x": [
            -10.002346781927159,
            0,
            -10.002346781927159,
            -10.002346781927159,
            -10.002346781927159,
            -10.002346781927159
           ],
           "y": [
            7.333183032658033,
            7.333183032658033,
            7.333183032658033,
            -8.484953265767555,
            7.333183032658033,
            7.333183032658033
           ],
           "z": [
            0,
            0,
            0,
            0,
            0,
            -27.999311790876078
           ]
          }
         ],
         "name": "20"
        }
       ],
       "layout": {
        "height": 800,
        "legend": {
         "title": {
          "text": "color"
         },
         "tracegroupgap": 0
        },
        "scene": {
         "aspectmode": "auto",
         "aspectratio": {
          "x": 0.6090230290442479,
          "y": 0.9631349014721726,
          "z": 1.7048224831441214
         },
         "camera": {
          "center": {
           "x": 0,
           "y": 0,
           "z": 0
          },
          "eye": {
           "x": 0,
           "y": -2,
           "z": 0
          },
          "projection": {
           "type": "perspective"
          },
          "up": {
           "x": 1,
           "y": 0,
           "z": 0
          }
         },
         "domain": {
          "x": [
           0,
           1
          ],
          "y": [
           0,
           1
          ]
         },
         "xaxis": {
          "title": {
           "text": "x"
          },
          "type": "linear"
         },
         "yaxis": {
          "title": {
           "text": "y"
          },
          "type": "linear"
         },
         "zaxis": {
          "title": {
           "text": "z"
          },
          "type": "linear"
         }
        },
        "sliders": [
         {
          "active": 20,
          "currentvalue": {
           "prefix": "step="
          },
          "len": 0.9,
          "pad": {
           "b": 10,
           "t": 60
          },
          "steps": [
           {
            "args": [
             [
              "0"
             ],
             {
              "frame": {
               "duration": 0,
               "redraw": true
              },
              "fromcurrent": true,
              "mode": "immediate",
              "transition": {
               "duration": 0,
               "easing": "linear"
              }
             }
            ],
            "label": "0",
            "method": "animate"
           },
           {
            "args": [
             [
              "1"
             ],
             {
              "frame": {
               "duration": 0,
               "redraw": true
              },
              "fromcurrent": true,
              "mode": "immediate",
              "transition": {
               "duration": 0,
               "easing": "linear"
              }
             }
            ],
            "label": "1",
            "method": "animate"
           },
           {
            "args": [
             [
              "2"
             ],
             {
              "frame": {
               "duration": 0,
               "redraw": true
              },
              "fromcurrent": true,
              "mode": "immediate",
              "transition": {
               "duration": 0,
               "easing": "linear"
              }
             }
            ],
            "label": "2",
            "method": "animate"
           },
           {
            "args": [
             [
              "3"
             ],
             {
              "frame": {
               "duration": 0,
               "redraw": true
              },
              "fromcurrent": true,
              "mode": "immediate",
              "transition": {
               "duration": 0,
               "easing": "linear"
              }
             }
            ],
            "label": "3",
            "method": "animate"
           },
           {
            "args": [
             [
              "4"
             ],
             {
              "frame": {
               "duration": 0,
               "redraw": true
              },
              "fromcurrent": true,
              "mode": "immediate",
              "transition": {
               "duration": 0,
               "easing": "linear"
              }
             }
            ],
            "label": "4",
            "method": "animate"
           },
           {
            "args": [
             [
              "5"
             ],
             {
              "frame": {
               "duration": 0,
               "redraw": true
              },
              "fromcurrent": true,
              "mode": "immediate",
              "transition": {
               "duration": 0,
               "easing": "linear"
              }
             }
            ],
            "label": "5",
            "method": "animate"
           },
           {
            "args": [
             [
              "6"
             ],
             {
              "frame": {
               "duration": 0,
               "redraw": true
              },
              "fromcurrent": true,
              "mode": "immediate",
              "transition": {
               "duration": 0,
               "easing": "linear"
              }
             }
            ],
            "label": "6",
            "method": "animate"
           },
           {
            "args": [
             [
              "7"
             ],
             {
              "frame": {
               "duration": 0,
               "redraw": true
              },
              "fromcurrent": true,
              "mode": "immediate",
              "transition": {
               "duration": 0,
               "easing": "linear"
              }
             }
            ],
            "label": "7",
            "method": "animate"
           },
           {
            "args": [
             [
              "8"
             ],
             {
              "frame": {
               "duration": 0,
               "redraw": true
              },
              "fromcurrent": true,
              "mode": "immediate",
              "transition": {
               "duration": 0,
               "easing": "linear"
              }
             }
            ],
            "label": "8",
            "method": "animate"
           },
           {
            "args": [
             [
              "9"
             ],
             {
              "frame": {
               "duration": 0,
               "redraw": true
              },
              "fromcurrent": true,
              "mode": "immediate",
              "transition": {
               "duration": 0,
               "easing": "linear"
              }
             }
            ],
            "label": "9",
            "method": "animate"
           },
           {
            "args": [
             [
              "10"
             ],
             {
              "frame": {
               "duration": 0,
               "redraw": true
              },
              "fromcurrent": true,
              "mode": "immediate",
              "transition": {
               "duration": 0,
               "easing": "linear"
              }
             }
            ],
            "label": "10",
            "method": "animate"
           },
           {
            "args": [
             [
              "11"
             ],
             {
              "frame": {
               "duration": 0,
               "redraw": true
              },
              "fromcurrent": true,
              "mode": "immediate",
              "transition": {
               "duration": 0,
               "easing": "linear"
              }
             }
            ],
            "label": "11",
            "method": "animate"
           },
           {
            "args": [
             [
              "12"
             ],
             {
              "frame": {
               "duration": 0,
               "redraw": true
              },
              "fromcurrent": true,
              "mode": "immediate",
              "transition": {
               "duration": 0,
               "easing": "linear"
              }
             }
            ],
            "label": "12",
            "method": "animate"
           },
           {
            "args": [
             [
              "13"
             ],
             {
              "frame": {
               "duration": 0,
               "redraw": true
              },
              "fromcurrent": true,
              "mode": "immediate",
              "transition": {
               "duration": 0,
               "easing": "linear"
              }
             }
            ],
            "label": "13",
            "method": "animate"
           },
           {
            "args": [
             [
              "14"
             ],
             {
              "frame": {
               "duration": 0,
               "redraw": true
              },
              "fromcurrent": true,
              "mode": "immediate",
              "transition": {
               "duration": 0,
               "easing": "linear"
              }
             }
            ],
            "label": "14",
            "method": "animate"
           },
           {
            "args": [
             [
              "15"
             ],
             {
              "frame": {
               "duration": 0,
               "redraw": true
              },
              "fromcurrent": true,
              "mode": "immediate",
              "transition": {
               "duration": 0,
               "easing": "linear"
              }
             }
            ],
            "label": "15",
            "method": "animate"
           },
           {
            "args": [
             [
              "16"
             ],
             {
              "frame": {
               "duration": 0,
               "redraw": true
              },
              "fromcurrent": true,
              "mode": "immediate",
              "transition": {
               "duration": 0,
               "easing": "linear"
              }
             }
            ],
            "label": "16",
            "method": "animate"
           },
           {
            "args": [
             [
              "17"
             ],
             {
              "frame": {
               "duration": 0,
               "redraw": true
              },
              "fromcurrent": true,
              "mode": "immediate",
              "transition": {
               "duration": 0,
               "easing": "linear"
              }
             }
            ],
            "label": "17",
            "method": "animate"
           },
           {
            "args": [
             [
              "18"
             ],
             {
              "frame": {
               "duration": 0,
               "redraw": true
              },
              "fromcurrent": true,
              "mode": "immediate",
              "transition": {
               "duration": 0,
               "easing": "linear"
              }
             }
            ],
            "label": "18",
            "method": "animate"
           },
           {
            "args": [
             [
              "19"
             ],
             {
              "frame": {
               "duration": 0,
               "redraw": true
              },
              "fromcurrent": true,
              "mode": "immediate",
              "transition": {
               "duration": 0,
               "easing": "linear"
              }
             }
            ],
            "label": "19",
            "method": "animate"
           },
           {
            "args": [
             [
              "20"
             ],
             {
              "frame": {
               "duration": 0,
               "redraw": true
              },
              "fromcurrent": true,
              "mode": "immediate",
              "transition": {
               "duration": 0,
               "easing": "linear"
              }
             }
            ],
            "label": "20",
            "method": "animate"
           }
          ],
          "x": 0.1,
          "xanchor": "left",
          "y": 0,
          "yanchor": "top"
         }
        ],
        "template": {
         "data": {
          "bar": [
           {
            "error_x": {
             "color": "#2a3f5f"
            },
            "error_y": {
             "color": "#2a3f5f"
            },
            "marker": {
             "line": {
              "color": "#E5ECF6",
              "width": 0.5
             }
            },
            "type": "bar"
           }
          ],
          "barpolar": [
           {
            "marker": {
             "line": {
              "color": "#E5ECF6",
              "width": 0.5
             }
            },
            "type": "barpolar"
           }
          ],
          "carpet": [
           {
            "aaxis": {
             "endlinecolor": "#2a3f5f",
             "gridcolor": "white",
             "linecolor": "white",
             "minorgridcolor": "white",
             "startlinecolor": "#2a3f5f"
            },
            "baxis": {
             "endlinecolor": "#2a3f5f",
             "gridcolor": "white",
             "linecolor": "white",
             "minorgridcolor": "white",
             "startlinecolor": "#2a3f5f"
            },
            "type": "carpet"
           }
          ],
          "choropleth": [
           {
            "colorbar": {
             "outlinewidth": 0,
             "ticks": ""
            },
            "type": "choropleth"
           }
          ],
          "contour": [
           {
            "colorbar": {
             "outlinewidth": 0,
             "ticks": ""
            },
            "colorscale": [
             [
              0,
              "#0d0887"
             ],
             [
              0.1111111111111111,
              "#46039f"
             ],
             [
              0.2222222222222222,
              "#7201a8"
             ],
             [
              0.3333333333333333,
              "#9c179e"
             ],
             [
              0.4444444444444444,
              "#bd3786"
             ],
             [
              0.5555555555555556,
              "#d8576b"
             ],
             [
              0.6666666666666666,
              "#ed7953"
             ],
             [
              0.7777777777777778,
              "#fb9f3a"
             ],
             [
              0.8888888888888888,
              "#fdca26"
             ],
             [
              1,
              "#f0f921"
             ]
            ],
            "type": "contour"
           }
          ],
          "contourcarpet": [
           {
            "colorbar": {
             "outlinewidth": 0,
             "ticks": ""
            },
            "type": "contourcarpet"
           }
          ],
          "heatmap": [
           {
            "colorbar": {
             "outlinewidth": 0,
             "ticks": ""
            },
            "colorscale": [
             [
              0,
              "#0d0887"
             ],
             [
              0.1111111111111111,
              "#46039f"
             ],
             [
              0.2222222222222222,
              "#7201a8"
             ],
             [
              0.3333333333333333,
              "#9c179e"
             ],
             [
              0.4444444444444444,
              "#bd3786"
             ],
             [
              0.5555555555555556,
              "#d8576b"
             ],
             [
              0.6666666666666666,
              "#ed7953"
             ],
             [
              0.7777777777777778,
              "#fb9f3a"
             ],
             [
              0.8888888888888888,
              "#fdca26"
             ],
             [
              1,
              "#f0f921"
             ]
            ],
            "type": "heatmap"
           }
          ],
          "heatmapgl": [
           {
            "colorbar": {
             "outlinewidth": 0,
             "ticks": ""
            },
            "colorscale": [
             [
              0,
              "#0d0887"
             ],
             [
              0.1111111111111111,
              "#46039f"
             ],
             [
              0.2222222222222222,
              "#7201a8"
             ],
             [
              0.3333333333333333,
              "#9c179e"
             ],
             [
              0.4444444444444444,
              "#bd3786"
             ],
             [
              0.5555555555555556,
              "#d8576b"
             ],
             [
              0.6666666666666666,
              "#ed7953"
             ],
             [
              0.7777777777777778,
              "#fb9f3a"
             ],
             [
              0.8888888888888888,
              "#fdca26"
             ],
             [
              1,
              "#f0f921"
             ]
            ],
            "type": "heatmapgl"
           }
          ],
          "histogram": [
           {
            "marker": {
             "colorbar": {
              "outlinewidth": 0,
              "ticks": ""
             }
            },
            "type": "histogram"
           }
          ],
          "histogram2d": [
           {
            "colorbar": {
             "outlinewidth": 0,
             "ticks": ""
            },
            "colorscale": [
             [
              0,
              "#0d0887"
             ],
             [
              0.1111111111111111,
              "#46039f"
             ],
             [
              0.2222222222222222,
              "#7201a8"
             ],
             [
              0.3333333333333333,
              "#9c179e"
             ],
             [
              0.4444444444444444,
              "#bd3786"
             ],
             [
              0.5555555555555556,
              "#d8576b"
             ],
             [
              0.6666666666666666,
              "#ed7953"
             ],
             [
              0.7777777777777778,
              "#fb9f3a"
             ],
             [
              0.8888888888888888,
              "#fdca26"
             ],
             [
              1,
              "#f0f921"
             ]
            ],
            "type": "histogram2d"
           }
          ],
          "histogram2dcontour": [
           {
            "colorbar": {
             "outlinewidth": 0,
             "ticks": ""
            },
            "colorscale": [
             [
              0,
              "#0d0887"
             ],
             [
              0.1111111111111111,
              "#46039f"
             ],
             [
              0.2222222222222222,
              "#7201a8"
             ],
             [
              0.3333333333333333,
              "#9c179e"
             ],
             [
              0.4444444444444444,
              "#bd3786"
             ],
             [
              0.5555555555555556,
              "#d8576b"
             ],
             [
              0.6666666666666666,
              "#ed7953"
             ],
             [
              0.7777777777777778,
              "#fb9f3a"
             ],
             [
              0.8888888888888888,
              "#fdca26"
             ],
             [
              1,
              "#f0f921"
             ]
            ],
            "type": "histogram2dcontour"
           }
          ],
          "mesh3d": [
           {
            "colorbar": {
             "outlinewidth": 0,
             "ticks": ""
            },
            "type": "mesh3d"
           }
          ],
          "parcoords": [
           {
            "line": {
             "colorbar": {
              "outlinewidth": 0,
              "ticks": ""
             }
            },
            "type": "parcoords"
           }
          ],
          "pie": [
           {
            "automargin": true,
            "type": "pie"
           }
          ],
          "scatter": [
           {
            "marker": {
             "colorbar": {
              "outlinewidth": 0,
              "ticks": ""
             }
            },
            "type": "scatter"
           }
          ],
          "scatter3d": [
           {
            "line": {
             "colorbar": {
              "outlinewidth": 0,
              "ticks": ""
             }
            },
            "marker": {
             "colorbar": {
              "outlinewidth": 0,
              "ticks": ""
             }
            },
            "type": "scatter3d"
           }
          ],
          "scattercarpet": [
           {
            "marker": {
             "colorbar": {
              "outlinewidth": 0,
              "ticks": ""
             }
            },
            "type": "scattercarpet"
           }
          ],
          "scattergeo": [
           {
            "marker": {
             "colorbar": {
              "outlinewidth": 0,
              "ticks": ""
             }
            },
            "type": "scattergeo"
           }
          ],
          "scattergl": [
           {
            "marker": {
             "colorbar": {
              "outlinewidth": 0,
              "ticks": ""
             }
            },
            "type": "scattergl"
           }
          ],
          "scattermapbox": [
           {
            "marker": {
             "colorbar": {
              "outlinewidth": 0,
              "ticks": ""
             }
            },
            "type": "scattermapbox"
           }
          ],
          "scatterpolar": [
           {
            "marker": {
             "colorbar": {
              "outlinewidth": 0,
              "ticks": ""
             }
            },
            "type": "scatterpolar"
           }
          ],
          "scatterpolargl": [
           {
            "marker": {
             "colorbar": {
              "outlinewidth": 0,
              "ticks": ""
             }
            },
            "type": "scatterpolargl"
           }
          ],
          "scatterternary": [
           {
            "marker": {
             "colorbar": {
              "outlinewidth": 0,
              "ticks": ""
             }
            },
            "type": "scatterternary"
           }
          ],
          "surface": [
           {
            "colorbar": {
             "outlinewidth": 0,
             "ticks": ""
            },
            "colorscale": [
             [
              0,
              "#0d0887"
             ],
             [
              0.1111111111111111,
              "#46039f"
             ],
             [
              0.2222222222222222,
              "#7201a8"
             ],
             [
              0.3333333333333333,
              "#9c179e"
             ],
             [
              0.4444444444444444,
              "#bd3786"
             ],
             [
              0.5555555555555556,
              "#d8576b"
             ],
             [
              0.6666666666666666,
              "#ed7953"
             ],
             [
              0.7777777777777778,
              "#fb9f3a"
             ],
             [
              0.8888888888888888,
              "#fdca26"
             ],
             [
              1,
              "#f0f921"
             ]
            ],
            "type": "surface"
           }
          ],
          "table": [
           {
            "cells": {
             "fill": {
              "color": "#EBF0F8"
             },
             "line": {
              "color": "white"
             }
            },
            "header": {
             "fill": {
              "color": "#C8D4E3"
             },
             "line": {
              "color": "white"
             }
            },
            "type": "table"
           }
          ]
         },
         "layout": {
          "annotationdefaults": {
           "arrowcolor": "#2a3f5f",
           "arrowhead": 0,
           "arrowwidth": 1
          },
          "autotypenumbers": "strict",
          "coloraxis": {
           "colorbar": {
            "outlinewidth": 0,
            "ticks": ""
           }
          },
          "colorscale": {
           "diverging": [
            [
             0,
             "#8e0152"
            ],
            [
             0.1,
             "#c51b7d"
            ],
            [
             0.2,
             "#de77ae"
            ],
            [
             0.3,
             "#f1b6da"
            ],
            [
             0.4,
             "#fde0ef"
            ],
            [
             0.5,
             "#f7f7f7"
            ],
            [
             0.6,
             "#e6f5d0"
            ],
            [
             0.7,
             "#b8e186"
            ],
            [
             0.8,
             "#7fbc41"
            ],
            [
             0.9,
             "#4d9221"
            ],
            [
             1,
             "#276419"
            ]
           ],
           "sequential": [
            [
             0,
             "#0d0887"
            ],
            [
             0.1111111111111111,
             "#46039f"
            ],
            [
             0.2222222222222222,
             "#7201a8"
            ],
            [
             0.3333333333333333,
             "#9c179e"
            ],
            [
             0.4444444444444444,
             "#bd3786"
            ],
            [
             0.5555555555555556,
             "#d8576b"
            ],
            [
             0.6666666666666666,
             "#ed7953"
            ],
            [
             0.7777777777777778,
             "#fb9f3a"
            ],
            [
             0.8888888888888888,
             "#fdca26"
            ],
            [
             1,
             "#f0f921"
            ]
           ],
           "sequentialminus": [
            [
             0,
             "#0d0887"
            ],
            [
             0.1111111111111111,
             "#46039f"
            ],
            [
             0.2222222222222222,
             "#7201a8"
            ],
            [
             0.3333333333333333,
             "#9c179e"
            ],
            [
             0.4444444444444444,
             "#bd3786"
            ],
            [
             0.5555555555555556,
             "#d8576b"
            ],
            [
             0.6666666666666666,
             "#ed7953"
            ],
            [
             0.7777777777777778,
             "#fb9f3a"
            ],
            [
             0.8888888888888888,
             "#fdca26"
            ],
            [
             1,
             "#f0f921"
            ]
           ]
          },
          "colorway": [
           "#636efa",
           "#EF553B",
           "#00cc96",
           "#ab63fa",
           "#FFA15A",
           "#19d3f3",
           "#FF6692",
           "#B6E880",
           "#FF97FF",
           "#FECB52"
          ],
          "font": {
           "color": "#2a3f5f"
          },
          "geo": {
           "bgcolor": "white",
           "lakecolor": "white",
           "landcolor": "#E5ECF6",
           "showlakes": true,
           "showland": true,
           "subunitcolor": "white"
          },
          "hoverlabel": {
           "align": "left"
          },
          "hovermode": "closest",
          "mapbox": {
           "style": "light"
          },
          "paper_bgcolor": "white",
          "plot_bgcolor": "#E5ECF6",
          "polar": {
           "angularaxis": {
            "gridcolor": "white",
            "linecolor": "white",
            "ticks": ""
           },
           "bgcolor": "#E5ECF6",
           "radialaxis": {
            "gridcolor": "white",
            "linecolor": "white",
            "ticks": ""
           }
          },
          "scene": {
           "xaxis": {
            "backgroundcolor": "#E5ECF6",
            "gridcolor": "white",
            "gridwidth": 2,
            "linecolor": "white",
            "showbackground": true,
            "ticks": "",
            "zerolinecolor": "white"
           },
           "yaxis": {
            "backgroundcolor": "#E5ECF6",
            "gridcolor": "white",
            "gridwidth": 2,
            "linecolor": "white",
            "showbackground": true,
            "ticks": "",
            "zerolinecolor": "white"
           },
           "zaxis": {
            "backgroundcolor": "#E5ECF6",
            "gridcolor": "white",
            "gridwidth": 2,
            "linecolor": "white",
            "showbackground": true,
            "ticks": "",
            "zerolinecolor": "white"
           }
          },
          "shapedefaults": {
           "line": {
            "color": "#2a3f5f"
           }
          },
          "ternary": {
           "aaxis": {
            "gridcolor": "white",
            "linecolor": "white",
            "ticks": ""
           },
           "baxis": {
            "gridcolor": "white",
            "linecolor": "white",
            "ticks": ""
           },
           "bgcolor": "#E5ECF6",
           "caxis": {
            "gridcolor": "white",
            "linecolor": "white",
            "ticks": ""
           }
          },
          "title": {
           "x": 0.05
          },
          "xaxis": {
           "automargin": true,
           "gridcolor": "white",
           "linecolor": "white",
           "ticks": "",
           "title": {
            "standoff": 15
           },
           "zerolinecolor": "white",
           "zerolinewidth": 2
          },
          "yaxis": {
           "automargin": true,
           "gridcolor": "white",
           "linecolor": "white",
           "ticks": "",
           "title": {
            "standoff": 15
           },
           "zerolinecolor": "white",
           "zerolinewidth": 2
          }
         }
        },
        "title": {
         "text": "0-SLW"
        },
        "updatemenus": [
         {
          "active": 0,
          "buttons": [
           {
            "args": [
             null,
             {
              "frame": {
               "duration": 20,
               "redraw": true
              },
              "fromcurrent": true,
              "mode": "immediate",
              "transition": {
               "duration": 500,
               "easing": "linear"
              }
             }
            ],
            "label": "&#9654;",
            "method": "animate"
           },
           {
            "args": [
             [
              null
             ],
             {
              "frame": {
               "duration": 0,
               "redraw": true
              },
              "fromcurrent": true,
              "mode": "immediate",
              "transition": {
               "duration": 0,
               "easing": "linear"
              }
             }
            ],
            "label": "&#9724;",
            "method": "animate"
           }
          ],
          "direction": "left",
          "pad": {
           "r": 10,
           "t": 70
          },
          "showactive": false,
          "type": "buttons",
          "x": 0.1,
          "xanchor": "right",
          "y": 0,
          "yanchor": "top"
         }
        ],
        "width": 800
       }
      },
      "text/html": [
       "<div>                            <div id=\"1ba0b4f9-8f46-4bd8-b865-d99016967f8a\" class=\"plotly-graph-div\" style=\"height:800px; width:800px;\"></div>            <script type=\"text/javascript\">                require([\"plotly\"], function(Plotly) {                    window.PLOTLYENV=window.PLOTLYENV || {};                                    if (document.getElementById(\"1ba0b4f9-8f46-4bd8-b865-d99016967f8a\")) {                    Plotly.newPlot(                        \"1ba0b4f9-8f46-4bd8-b865-d99016967f8a\",                        [{\"hovertemplate\": \"color=#00ffff<br>step=0<br>line_group=a<br>x=%{x}<br>y=%{y}<br>z=%{z}<extra></extra>\", \"legendgroup\": \"#00ffff\", \"line\": {\"color\": \"#636efa\", \"dash\": \"solid\"}, \"mode\": \"lines\", \"name\": \"#00ffff\", \"scene\": \"scene\", \"showlegend\": true, \"type\": \"scatter3d\", \"x\": [0.0, -10.0], \"y\": [0.0, 0.0], \"z\": [0.0, 0.0]}, {\"hovertemplate\": \"color=#00ffff<br>step=0<br>line_group=g<br>x=%{x}<br>y=%{y}<br>z=%{z}<extra></extra>\", \"legendgroup\": \"#00ffff\", \"line\": {\"color\": \"#636efa\", \"dash\": \"solid\"}, \"mode\": \"lines\", \"name\": \"#00ffff\", \"scene\": \"scene\", \"showlegend\": false, \"type\": \"scatter3d\", \"x\": [-10.002346781927159, 0.0, -10.002346781927159, -10.002346781927159, -10.002346781927159, -10.002346781927159], \"y\": [7.333183032658033, 7.333183032658033, 7.333183032658033, -8.484953265767555, 7.333183032658033, 7.333183032658033], \"z\": [0.0, 0.0, 0.0, 0.0, 0.0, -27.999311790876078]}],                        {\"height\": 800, \"legend\": {\"title\": {\"text\": \"color\"}, \"tracegroupgap\": 0}, \"scene\": {\"camera\": {\"center\": {\"x\": 0, \"y\": 0, \"z\": 0}, \"eye\": {\"x\": 0, \"y\": -2, \"z\": 0}, \"up\": {\"x\": 1, \"y\": 0, \"z\": 0}}, \"domain\": {\"x\": [0.0, 1.0], \"y\": [0.0, 1.0]}, \"xaxis\": {\"title\": {\"text\": \"x\"}}, \"yaxis\": {\"title\": {\"text\": \"y\"}}, \"zaxis\": {\"title\": {\"text\": \"z\"}}}, \"sliders\": [{\"active\": 0, \"currentvalue\": {\"prefix\": \"step=\"}, \"len\": 0.9, \"pad\": {\"b\": 10, \"t\": 60}, \"steps\": [{\"args\": [[\"0\"], {\"frame\": {\"duration\": 0, \"redraw\": true}, \"fromcurrent\": true, \"mode\": \"immediate\", \"transition\": {\"duration\": 0, \"easing\": \"linear\"}}], \"label\": \"0\", \"method\": \"animate\"}, {\"args\": [[\"1\"], {\"frame\": {\"duration\": 0, \"redraw\": true}, \"fromcurrent\": true, \"mode\": \"immediate\", \"transition\": {\"duration\": 0, \"easing\": \"linear\"}}], \"label\": \"1\", \"method\": \"animate\"}, {\"args\": [[\"2\"], {\"frame\": {\"duration\": 0, \"redraw\": true}, \"fromcurrent\": true, \"mode\": \"immediate\", \"transition\": {\"duration\": 0, \"easing\": \"linear\"}}], \"label\": \"2\", \"method\": \"animate\"}, {\"args\": [[\"3\"], {\"frame\": {\"duration\": 0, \"redraw\": true}, \"fromcurrent\": true, \"mode\": \"immediate\", \"transition\": {\"duration\": 0, \"easing\": \"linear\"}}], \"label\": \"3\", \"method\": \"animate\"}, {\"args\": [[\"4\"], {\"frame\": {\"duration\": 0, \"redraw\": true}, \"fromcurrent\": true, \"mode\": \"immediate\", \"transition\": {\"duration\": 0, \"easing\": \"linear\"}}], \"label\": \"4\", \"method\": \"animate\"}, {\"args\": [[\"5\"], {\"frame\": {\"duration\": 0, \"redraw\": true}, \"fromcurrent\": true, \"mode\": \"immediate\", \"transition\": {\"duration\": 0, \"easing\": \"linear\"}}], \"label\": \"5\", \"method\": \"animate\"}, {\"args\": [[\"6\"], {\"frame\": {\"duration\": 0, \"redraw\": true}, \"fromcurrent\": true, \"mode\": \"immediate\", \"transition\": {\"duration\": 0, \"easing\": \"linear\"}}], \"label\": \"6\", \"method\": \"animate\"}, {\"args\": [[\"7\"], {\"frame\": {\"duration\": 0, \"redraw\": true}, \"fromcurrent\": true, \"mode\": \"immediate\", \"transition\": {\"duration\": 0, \"easing\": \"linear\"}}], \"label\": \"7\", \"method\": \"animate\"}, {\"args\": [[\"8\"], {\"frame\": {\"duration\": 0, \"redraw\": true}, \"fromcurrent\": true, \"mode\": \"immediate\", \"transition\": {\"duration\": 0, \"easing\": \"linear\"}}], \"label\": \"8\", \"method\": \"animate\"}, {\"args\": [[\"9\"], {\"frame\": {\"duration\": 0, \"redraw\": true}, \"fromcurrent\": true, \"mode\": \"immediate\", \"transition\": {\"duration\": 0, \"easing\": \"linear\"}}], \"label\": \"9\", \"method\": \"animate\"}, {\"args\": [[\"10\"], {\"frame\": {\"duration\": 0, \"redraw\": true}, \"fromcurrent\": true, \"mode\": \"immediate\", \"transition\": {\"duration\": 0, \"easing\": \"linear\"}}], \"label\": \"10\", \"method\": \"animate\"}, {\"args\": [[\"11\"], {\"frame\": {\"duration\": 0, \"redraw\": true}, \"fromcurrent\": true, \"mode\": \"immediate\", \"transition\": {\"duration\": 0, \"easing\": \"linear\"}}], \"label\": \"11\", \"method\": \"animate\"}, {\"args\": [[\"12\"], {\"frame\": {\"duration\": 0, \"redraw\": true}, \"fromcurrent\": true, \"mode\": \"immediate\", \"transition\": {\"duration\": 0, \"easing\": \"linear\"}}], \"label\": \"12\", \"method\": \"animate\"}, {\"args\": [[\"13\"], {\"frame\": {\"duration\": 0, \"redraw\": true}, \"fromcurrent\": true, \"mode\": \"immediate\", \"transition\": {\"duration\": 0, \"easing\": \"linear\"}}], \"label\": \"13\", \"method\": \"animate\"}, {\"args\": [[\"14\"], {\"frame\": {\"duration\": 0, \"redraw\": true}, \"fromcurrent\": true, \"mode\": \"immediate\", \"transition\": {\"duration\": 0, \"easing\": \"linear\"}}], \"label\": \"14\", \"method\": \"animate\"}, {\"args\": [[\"15\"], {\"frame\": {\"duration\": 0, \"redraw\": true}, \"fromcurrent\": true, \"mode\": \"immediate\", \"transition\": {\"duration\": 0, \"easing\": \"linear\"}}], \"label\": \"15\", \"method\": \"animate\"}, {\"args\": [[\"16\"], {\"frame\": {\"duration\": 0, \"redraw\": true}, \"fromcurrent\": true, \"mode\": \"immediate\", \"transition\": {\"duration\": 0, \"easing\": \"linear\"}}], \"label\": \"16\", \"method\": \"animate\"}, {\"args\": [[\"17\"], {\"frame\": {\"duration\": 0, \"redraw\": true}, \"fromcurrent\": true, \"mode\": \"immediate\", \"transition\": {\"duration\": 0, \"easing\": \"linear\"}}], \"label\": \"17\", \"method\": \"animate\"}, {\"args\": [[\"18\"], {\"frame\": {\"duration\": 0, \"redraw\": true}, \"fromcurrent\": true, \"mode\": \"immediate\", \"transition\": {\"duration\": 0, \"easing\": \"linear\"}}], \"label\": \"18\", \"method\": \"animate\"}, {\"args\": [[\"19\"], {\"frame\": {\"duration\": 0, \"redraw\": true}, \"fromcurrent\": true, \"mode\": \"immediate\", \"transition\": {\"duration\": 0, \"easing\": \"linear\"}}], \"label\": \"19\", \"method\": \"animate\"}, {\"args\": [[\"20\"], {\"frame\": {\"duration\": 0, \"redraw\": true}, \"fromcurrent\": true, \"mode\": \"immediate\", \"transition\": {\"duration\": 0, \"easing\": \"linear\"}}], \"label\": \"20\", \"method\": \"animate\"}], \"x\": 0.1, \"xanchor\": \"left\", \"y\": 0, \"yanchor\": \"top\"}], \"template\": {\"data\": {\"bar\": [{\"error_x\": {\"color\": \"#2a3f5f\"}, \"error_y\": {\"color\": \"#2a3f5f\"}, \"marker\": {\"line\": {\"color\": \"#E5ECF6\", \"width\": 0.5}}, \"type\": \"bar\"}], \"barpolar\": [{\"marker\": {\"line\": {\"color\": \"#E5ECF6\", \"width\": 0.5}}, \"type\": \"barpolar\"}], \"carpet\": [{\"aaxis\": {\"endlinecolor\": \"#2a3f5f\", \"gridcolor\": \"white\", \"linecolor\": \"white\", \"minorgridcolor\": \"white\", \"startlinecolor\": \"#2a3f5f\"}, \"baxis\": {\"endlinecolor\": \"#2a3f5f\", \"gridcolor\": \"white\", \"linecolor\": \"white\", \"minorgridcolor\": \"white\", \"startlinecolor\": \"#2a3f5f\"}, \"type\": \"carpet\"}], \"choropleth\": [{\"colorbar\": {\"outlinewidth\": 0, \"ticks\": \"\"}, \"type\": \"choropleth\"}], \"contour\": [{\"colorbar\": {\"outlinewidth\": 0, \"ticks\": \"\"}, \"colorscale\": [[0.0, \"#0d0887\"], [0.1111111111111111, \"#46039f\"], [0.2222222222222222, \"#7201a8\"], [0.3333333333333333, \"#9c179e\"], [0.4444444444444444, \"#bd3786\"], [0.5555555555555556, \"#d8576b\"], [0.6666666666666666, \"#ed7953\"], [0.7777777777777778, \"#fb9f3a\"], [0.8888888888888888, \"#fdca26\"], [1.0, \"#f0f921\"]], \"type\": \"contour\"}], \"contourcarpet\": [{\"colorbar\": {\"outlinewidth\": 0, \"ticks\": \"\"}, \"type\": \"contourcarpet\"}], \"heatmap\": [{\"colorbar\": {\"outlinewidth\": 0, \"ticks\": \"\"}, \"colorscale\": [[0.0, \"#0d0887\"], [0.1111111111111111, \"#46039f\"], [0.2222222222222222, \"#7201a8\"], [0.3333333333333333, \"#9c179e\"], [0.4444444444444444, \"#bd3786\"], [0.5555555555555556, \"#d8576b\"], [0.6666666666666666, \"#ed7953\"], [0.7777777777777778, \"#fb9f3a\"], [0.8888888888888888, \"#fdca26\"], [1.0, \"#f0f921\"]], \"type\": \"heatmap\"}], \"heatmapgl\": [{\"colorbar\": {\"outlinewidth\": 0, \"ticks\": \"\"}, \"colorscale\": [[0.0, \"#0d0887\"], [0.1111111111111111, \"#46039f\"], [0.2222222222222222, \"#7201a8\"], [0.3333333333333333, \"#9c179e\"], [0.4444444444444444, \"#bd3786\"], [0.5555555555555556, \"#d8576b\"], [0.6666666666666666, \"#ed7953\"], [0.7777777777777778, \"#fb9f3a\"], [0.8888888888888888, \"#fdca26\"], [1.0, \"#f0f921\"]], \"type\": \"heatmapgl\"}], \"histogram\": [{\"marker\": {\"colorbar\": {\"outlinewidth\": 0, \"ticks\": \"\"}}, \"type\": \"histogram\"}], \"histogram2d\": [{\"colorbar\": {\"outlinewidth\": 0, \"ticks\": \"\"}, \"colorscale\": [[0.0, \"#0d0887\"], [0.1111111111111111, \"#46039f\"], [0.2222222222222222, \"#7201a8\"], [0.3333333333333333, \"#9c179e\"], [0.4444444444444444, \"#bd3786\"], [0.5555555555555556, \"#d8576b\"], [0.6666666666666666, \"#ed7953\"], [0.7777777777777778, \"#fb9f3a\"], [0.8888888888888888, \"#fdca26\"], [1.0, \"#f0f921\"]], \"type\": \"histogram2d\"}], \"histogram2dcontour\": [{\"colorbar\": {\"outlinewidth\": 0, \"ticks\": \"\"}, \"colorscale\": [[0.0, \"#0d0887\"], [0.1111111111111111, \"#46039f\"], [0.2222222222222222, \"#7201a8\"], [0.3333333333333333, \"#9c179e\"], [0.4444444444444444, \"#bd3786\"], [0.5555555555555556, \"#d8576b\"], [0.6666666666666666, \"#ed7953\"], [0.7777777777777778, \"#fb9f3a\"], [0.8888888888888888, \"#fdca26\"], [1.0, \"#f0f921\"]], \"type\": \"histogram2dcontour\"}], \"mesh3d\": [{\"colorbar\": {\"outlinewidth\": 0, \"ticks\": \"\"}, \"type\": \"mesh3d\"}], \"parcoords\": [{\"line\": {\"colorbar\": {\"outlinewidth\": 0, \"ticks\": \"\"}}, \"type\": \"parcoords\"}], \"pie\": [{\"automargin\": true, \"type\": \"pie\"}], \"scatter\": [{\"marker\": {\"colorbar\": {\"outlinewidth\": 0, \"ticks\": \"\"}}, \"type\": \"scatter\"}], \"scatter3d\": [{\"line\": {\"colorbar\": {\"outlinewidth\": 0, \"ticks\": \"\"}}, \"marker\": {\"colorbar\": {\"outlinewidth\": 0, \"ticks\": \"\"}}, \"type\": \"scatter3d\"}], \"scattercarpet\": [{\"marker\": {\"colorbar\": {\"outlinewidth\": 0, \"ticks\": \"\"}}, \"type\": \"scattercarpet\"}], \"scattergeo\": [{\"marker\": {\"colorbar\": {\"outlinewidth\": 0, \"ticks\": \"\"}}, \"type\": \"scattergeo\"}], \"scattergl\": [{\"marker\": {\"colorbar\": {\"outlinewidth\": 0, \"ticks\": \"\"}}, \"type\": \"scattergl\"}], \"scattermapbox\": [{\"marker\": {\"colorbar\": {\"outlinewidth\": 0, \"ticks\": \"\"}}, \"type\": \"scattermapbox\"}], \"scatterpolar\": [{\"marker\": {\"colorbar\": {\"outlinewidth\": 0, \"ticks\": \"\"}}, \"type\": \"scatterpolar\"}], \"scatterpolargl\": [{\"marker\": {\"colorbar\": {\"outlinewidth\": 0, \"ticks\": \"\"}}, \"type\": \"scatterpolargl\"}], \"scatterternary\": [{\"marker\": {\"colorbar\": {\"outlinewidth\": 0, \"ticks\": \"\"}}, \"type\": \"scatterternary\"}], \"surface\": [{\"colorbar\": {\"outlinewidth\": 0, \"ticks\": \"\"}, \"colorscale\": [[0.0, \"#0d0887\"], [0.1111111111111111, \"#46039f\"], [0.2222222222222222, \"#7201a8\"], [0.3333333333333333, \"#9c179e\"], [0.4444444444444444, \"#bd3786\"], [0.5555555555555556, \"#d8576b\"], [0.6666666666666666, \"#ed7953\"], [0.7777777777777778, \"#fb9f3a\"], [0.8888888888888888, \"#fdca26\"], [1.0, \"#f0f921\"]], \"type\": \"surface\"}], \"table\": [{\"cells\": {\"fill\": {\"color\": \"#EBF0F8\"}, \"line\": {\"color\": \"white\"}}, \"header\": {\"fill\": {\"color\": \"#C8D4E3\"}, \"line\": {\"color\": \"white\"}}, \"type\": \"table\"}]}, \"layout\": {\"annotationdefaults\": {\"arrowcolor\": \"#2a3f5f\", \"arrowhead\": 0, \"arrowwidth\": 1}, \"autotypenumbers\": \"strict\", \"coloraxis\": {\"colorbar\": {\"outlinewidth\": 0, \"ticks\": \"\"}}, \"colorscale\": {\"diverging\": [[0, \"#8e0152\"], [0.1, \"#c51b7d\"], [0.2, \"#de77ae\"], [0.3, \"#f1b6da\"], [0.4, \"#fde0ef\"], [0.5, \"#f7f7f7\"], [0.6, \"#e6f5d0\"], [0.7, \"#b8e186\"], [0.8, \"#7fbc41\"], [0.9, \"#4d9221\"], [1, \"#276419\"]], \"sequential\": [[0.0, \"#0d0887\"], [0.1111111111111111, \"#46039f\"], [0.2222222222222222, \"#7201a8\"], [0.3333333333333333, \"#9c179e\"], [0.4444444444444444, \"#bd3786\"], [0.5555555555555556, \"#d8576b\"], [0.6666666666666666, \"#ed7953\"], [0.7777777777777778, \"#fb9f3a\"], [0.8888888888888888, \"#fdca26\"], [1.0, \"#f0f921\"]], \"sequentialminus\": [[0.0, \"#0d0887\"], [0.1111111111111111, \"#46039f\"], [0.2222222222222222, \"#7201a8\"], [0.3333333333333333, \"#9c179e\"], [0.4444444444444444, \"#bd3786\"], [0.5555555555555556, \"#d8576b\"], [0.6666666666666666, \"#ed7953\"], [0.7777777777777778, \"#fb9f3a\"], [0.8888888888888888, \"#fdca26\"], [1.0, \"#f0f921\"]]}, \"colorway\": [\"#636efa\", \"#EF553B\", \"#00cc96\", \"#ab63fa\", \"#FFA15A\", \"#19d3f3\", \"#FF6692\", \"#B6E880\", \"#FF97FF\", \"#FECB52\"], \"font\": {\"color\": \"#2a3f5f\"}, \"geo\": {\"bgcolor\": \"white\", \"lakecolor\": \"white\", \"landcolor\": \"#E5ECF6\", \"showlakes\": true, \"showland\": true, \"subunitcolor\": \"white\"}, \"hoverlabel\": {\"align\": \"left\"}, \"hovermode\": \"closest\", \"mapbox\": {\"style\": \"light\"}, \"paper_bgcolor\": \"white\", \"plot_bgcolor\": \"#E5ECF6\", \"polar\": {\"angularaxis\": {\"gridcolor\": \"white\", \"linecolor\": \"white\", \"ticks\": \"\"}, \"bgcolor\": \"#E5ECF6\", \"radialaxis\": {\"gridcolor\": \"white\", \"linecolor\": \"white\", \"ticks\": \"\"}}, \"scene\": {\"xaxis\": {\"backgroundcolor\": \"#E5ECF6\", \"gridcolor\": \"white\", \"gridwidth\": 2, \"linecolor\": \"white\", \"showbackground\": true, \"ticks\": \"\", \"zerolinecolor\": \"white\"}, \"yaxis\": {\"backgroundcolor\": \"#E5ECF6\", \"gridcolor\": \"white\", \"gridwidth\": 2, \"linecolor\": \"white\", \"showbackground\": true, \"ticks\": \"\", \"zerolinecolor\": \"white\"}, \"zaxis\": {\"backgroundcolor\": \"#E5ECF6\", \"gridcolor\": \"white\", \"gridwidth\": 2, \"linecolor\": \"white\", \"showbackground\": true, \"ticks\": \"\", \"zerolinecolor\": \"white\"}}, \"shapedefaults\": {\"line\": {\"color\": \"#2a3f5f\"}}, \"ternary\": {\"aaxis\": {\"gridcolor\": \"white\", \"linecolor\": \"white\", \"ticks\": \"\"}, \"baxis\": {\"gridcolor\": \"white\", \"linecolor\": \"white\", \"ticks\": \"\"}, \"bgcolor\": \"#E5ECF6\", \"caxis\": {\"gridcolor\": \"white\", \"linecolor\": \"white\", \"ticks\": \"\"}}, \"title\": {\"x\": 0.05}, \"xaxis\": {\"automargin\": true, \"gridcolor\": \"white\", \"linecolor\": \"white\", \"ticks\": \"\", \"title\": {\"standoff\": 15}, \"zerolinecolor\": \"white\", \"zerolinewidth\": 2}, \"yaxis\": {\"automargin\": true, \"gridcolor\": \"white\", \"linecolor\": \"white\", \"ticks\": \"\", \"title\": {\"standoff\": 15}, \"zerolinecolor\": \"white\", \"zerolinewidth\": 2}}}, \"title\": {\"text\": \"0-SLW\"}, \"updatemenus\": [{\"buttons\": [{\"args\": [null, {\"frame\": {\"duration\": 20, \"redraw\": true}, \"fromcurrent\": true, \"mode\": \"immediate\", \"transition\": {\"duration\": 500, \"easing\": \"linear\"}}], \"label\": \"&#9654;\", \"method\": \"animate\"}, {\"args\": [[null], {\"frame\": {\"duration\": 0, \"redraw\": true}, \"fromcurrent\": true, \"mode\": \"immediate\", \"transition\": {\"duration\": 0, \"easing\": \"linear\"}}], \"label\": \"&#9724;\", \"method\": \"animate\"}], \"direction\": \"left\", \"pad\": {\"r\": 10, \"t\": 70}, \"showactive\": false, \"type\": \"buttons\", \"x\": 0.1, \"xanchor\": \"right\", \"y\": 0, \"yanchor\": \"top\"}], \"width\": 800},                        {\"responsive\": true}                    ).then(function(){\n",
       "                            Plotly.addFrames('1ba0b4f9-8f46-4bd8-b865-d99016967f8a', [{\"data\": [{\"hovertemplate\": \"color=#00ffff<br>step=0<br>line_group=a<br>x=%{x}<br>y=%{y}<br>z=%{z}<extra></extra>\", \"legendgroup\": \"#00ffff\", \"line\": {\"color\": \"#00ffff\", \"dash\": \"solid\", \"width\": 5}, \"mode\": \"lines\", \"name\": \"x\", \"scene\": \"scene\", \"showlegend\": true, \"x\": [0.0, -10.0], \"y\": [0.0, 0.0], \"z\": [0.0, 0.0], \"type\": \"scatter3d\"}, {\"hovertemplate\": \"color=#00ffff<br>step=0<br>line_group=g<br>x=%{x}<br>y=%{y}<br>z=%{z}<extra></extra>\", \"legendgroup\": \"#00ffff\", \"line\": {\"color\": \"black\", \"dash\": \"solid\"}, \"mode\": \"lines\", \"name\": \"#00ffff\", \"scene\": \"scene\", \"showlegend\": false, \"x\": [-10.002346781927159, 0.0, -10.002346781927159, -10.002346781927159, -10.002346781927159, -10.002346781927159], \"y\": [7.333183032658033, 7.333183032658033, 7.333183032658033, -8.484953265767555, 7.333183032658033, 7.333183032658033], \"z\": [0.0, 0.0, 0.0, 0.0, 0.0, -27.999311790876078], \"type\": \"scatter3d\"}], \"name\": \"0\"}, {\"data\": [{\"hovertemplate\": \"color=#00ffff<br>step=1<br>line_group=a<br>x=%{x}<br>y=%{y}<br>z=%{z}<extra></extra>\", \"legendgroup\": \"#00ffff\", \"line\": {\"color\": \"#00ffff\", \"dash\": \"solid\", \"width\": 5}, \"mode\": \"lines\", \"name\": \"x\", \"scene\": \"scene\", \"showlegend\": true, \"x\": [-0.12684159690920782, -10.002346781927159], \"y\": [-0.0531197681905988, -1.261170690329275], \"z\": [-1.0932710882163532, -0.08579388738080418], \"type\": \"scatter3d\"}, {\"hovertemplate\": \"color=#00ffff<br>step=1<br>line_group=g<br>x=%{x}<br>y=%{y}<br>z=%{z}<extra></extra>\", \"legendgroup\": \"#00ffff\", \"line\": {\"color\": \"black\", \"dash\": \"solid\"}, \"mode\": \"lines\", \"name\": \"#00ffff\", \"scene\": \"scene\", \"showlegend\": false, \"x\": [-10.002346781927159, 0.0, -10.002346781927159, -10.002346781927159, -10.002346781927159, -10.002346781927159], \"y\": [7.333183032658033, 7.333183032658033, 7.333183032658033, -8.484953265767555, 7.333183032658033, 7.333183032658033], \"z\": [0.0, 0.0, 0.0, 0.0, 0.0, -27.999311790876078], \"type\": \"scatter3d\"}], \"name\": \"1\"}, {\"data\": [{\"hovertemplate\": \"color=#0cf3ff<br>step=2<br>line_group=a<br>x=%{x}<br>y=%{y}<br>z=%{z}<extra></extra>\", \"legendgroup\": \"#0cf3ff\", \"line\": {\"color\": \"#0cf3ff\", \"dash\": \"solid\", \"width\": 5}, \"mode\": \"lines\", \"name\": \"x\", \"scene\": \"scene\", \"showlegend\": true, \"x\": [-0.24974243399871174, -9.749685577184636], \"y\": [-0.1090727623953638, -2.7936999601994685], \"z\": [-2.1887218287186094, -0.5937744675040679], \"type\": \"scatter3d\"}, {\"hovertemplate\": \"color=#0cf3ff<br>step=2<br>line_group=g<br>x=%{x}<br>y=%{y}<br>z=%{z}<extra></extra>\", \"legendgroup\": \"#0cf3ff\", \"line\": {\"color\": \"black\", \"dash\": \"solid\"}, \"mode\": \"lines\", \"name\": \"#0cf3ff\", \"scene\": \"scene\", \"showlegend\": false, \"x\": [-10.002346781927159, 0.0, -10.002346781927159, -10.002346781927159, -10.002346781927159, -10.002346781927159], \"y\": [7.333183032658033, 7.333183032658033, 7.333183032658033, -8.484953265767555, 7.333183032658033, 7.333183032658033], \"z\": [0.0, 0.0, 0.0, 0.0, 0.0, -27.999311790876078], \"type\": \"scatter3d\"}], \"name\": \"2\"}, {\"data\": [{\"hovertemplate\": \"color=#19e6ff<br>step=3<br>line_group=a<br>x=%{x}<br>y=%{y}<br>z=%{z}<extra></extra>\", \"legendgroup\": \"#19e6ff\", \"line\": {\"color\": \"#19e6ff\", \"dash\": \"solid\", \"width\": 5}, \"mode\": \"lines\", \"name\": \"x\", \"scene\": \"scene\", \"showlegend\": true, \"x\": [-0.368763683193818, -9.246518284169193], \"y\": [-0.16666130070830654, -4.430747295783614], \"z\": [-3.2851126851255623, -1.5521834103243162], \"type\": \"scatter3d\"}, {\"hovertemplate\": \"color=#19e6ff<br>step=3<br>line_group=g<br>x=%{x}<br>y=%{y}<br>z=%{z}<extra></extra>\", \"legendgroup\": \"#19e6ff\", \"line\": {\"color\": \"black\", \"dash\": \"solid\"}, \"mode\": \"lines\", \"name\": \"#19e6ff\", \"scene\": \"scene\", \"showlegend\": false, \"x\": [-10.002346781927159, 0.0, -10.002346781927159, -10.002346781927159, -10.002346781927159, -10.002346781927159], \"y\": [7.333183032658033, 7.333183032658033, 7.333183032658033, -8.484953265767555, 7.333183032658033, 7.333183032658033], \"z\": [0.0, 0.0, 0.0, 0.0, 0.0, -27.999311790876078], \"type\": \"scatter3d\"}], \"name\": \"3\"}, {\"data\": [{\"hovertemplate\": \"color=#26d9ff<br>step=4<br>line_group=a<br>x=%{x}<br>y=%{y}<br>z=%{z}<extra></extra>\", \"legendgroup\": \"#26d9ff\", \"line\": {\"color\": \"#26d9ff\", \"dash\": \"solid\", \"width\": 5}, \"mode\": \"lines\", \"name\": \"x\", \"scene\": \"scene\", \"showlegend\": true, \"x\": [-0.4862105602060525, -8.58335222479116], \"y\": [-0.22429491307147456, -5.950914325378942], \"z\": [-4.38541210560206, -3.1039570848451037], \"type\": \"scatter3d\"}, {\"hovertemplate\": \"color=#26d9ff<br>step=4<br>line_group=g<br>x=%{x}<br>y=%{y}<br>z=%{z}<extra></extra>\", \"legendgroup\": \"#26d9ff\", \"line\": {\"color\": \"black\", \"dash\": \"solid\"}, \"mode\": \"lines\", \"name\": \"#26d9ff\", \"scene\": \"scene\", \"showlegend\": false, \"x\": [-10.002346781927159, 0.0, -10.002346781927159, -10.002346781927159, -10.002346781927159, -10.002346781927159], \"y\": [7.333183032658033, 7.333183032658033, 7.333183032658033, -8.484953265767555, 7.333183032658033, 7.333183032658033], \"z\": [0.0, 0.0, 0.0, 0.0, 0.0, -27.999311790876078], \"type\": \"scatter3d\"}], \"name\": \"4\"}, {\"data\": [{\"hovertemplate\": \"color=#33ccff<br>step=5<br>line_group=a<br>x=%{x}<br>y=%{y}<br>z=%{z}<extra></extra>\", \"legendgroup\": \"#33ccff\", \"line\": {\"color\": \"#33ccff\", \"dash\": \"solid\", \"width\": 5}, \"mode\": \"lines\", \"name\": \"x\", \"scene\": \"scene\", \"showlegend\": true, \"x\": [-0.6015164198325819, -7.83198623899103], \"y\": [-0.282273019961365, -7.180570470571548], \"z\": [-5.484005151320023, -5.118220409779529], \"type\": \"scatter3d\"}, {\"hovertemplate\": \"color=#33ccff<br>step=5<br>line_group=g<br>x=%{x}<br>y=%{y}<br>z=%{z}<extra></extra>\", \"legendgroup\": \"#33ccff\", \"line\": {\"color\": \"black\", \"dash\": \"solid\"}, \"mode\": \"lines\", \"name\": \"#33ccff\", \"scene\": \"scene\", \"showlegend\": false, \"x\": [-10.002346781927159, 0.0, -10.002346781927159, -10.002346781927159, -10.002346781927159, -10.002346781927159], \"y\": [7.333183032658033, 7.333183032658033, 7.333183032658033, -8.484953265767555, 7.333183032658033, 7.333183032658033], \"z\": [0.0, 0.0, 0.0, 0.0, 0.0, -27.999311790876078], \"type\": \"scatter3d\"}], \"name\": \"5\"}, {\"data\": [{\"hovertemplate\": \"color=#40bfff<br>step=6<br>line_group=a<br>x=%{x}<br>y=%{y}<br>z=%{z}<extra></extra>\", \"legendgroup\": \"#40bfff\", \"line\": {\"color\": \"#40bfff\", \"dash\": \"solid\", \"width\": 5}, \"mode\": \"lines\", \"name\": \"x\", \"scene\": \"scene\", \"showlegend\": true, \"x\": [-0.7173631680618158, -7.058540574628644], \"y\": [-0.34123953638119764, -8.027138615706809], \"z\": [-6.579368963296842, -7.425787560013686], \"type\": \"scatter3d\"}, {\"hovertemplate\": \"color=#40bfff<br>step=6<br>line_group=g<br>x=%{x}<br>y=%{y}<br>z=%{z}<extra></extra>\", \"legendgroup\": \"#40bfff\", \"line\": {\"color\": \"black\", \"dash\": \"solid\"}, \"mode\": \"lines\", \"name\": \"#40bfff\", \"scene\": \"scene\", \"showlegend\": false, \"x\": [-10.002346781927159, 0.0, -10.002346781927159, -10.002346781927159, -10.002346781927159, -10.002346781927159], \"y\": [7.333183032658033, 7.333183032658033, 7.333183032658033, -8.484953265767555, 7.333183032658033, 7.333183032658033], \"z\": [0.0, 0.0, 0.0, 0.0, 0.0, -27.999311790876078], \"type\": \"scatter3d\"}], \"name\": \"6\"}, {\"data\": [{\"hovertemplate\": \"color=#4cb3ff<br>step=7<br>line_group=a<br>x=%{x}<br>y=%{y}<br>z=%{z}<extra></extra>\", \"legendgroup\": \"#4cb3ff\", \"line\": {\"color\": \"#4cb3ff\", \"dash\": \"solid\", \"width\": 5}, \"mode\": \"lines\", \"name\": \"x\", \"scene\": \"scene\", \"showlegend\": true, \"x\": [-0.835392788151964, -6.2754552608628495], \"y\": [-0.4000160978750804, -8.472056682215207], \"z\": [-7.673641339343203, -9.964466757782734], \"type\": \"scatter3d\"}, {\"hovertemplate\": \"color=#4cb3ff<br>step=7<br>line_group=g<br>x=%{x}<br>y=%{y}<br>z=%{z}<extra></extra>\", \"legendgroup\": \"#4cb3ff\", \"line\": {\"color\": \"black\", \"dash\": \"solid\"}, \"mode\": \"lines\", \"name\": \"#4cb3ff\", \"scene\": \"scene\", \"showlegend\": false, \"x\": [-10.002346781927159, 0.0, -10.002346781927159, -10.002346781927159, -10.002346781927159, -10.002346781927159], \"y\": [7.333183032658033, 7.333183032658033, 7.333183032658033, -8.484953265767555, 7.333183032658033, 7.333183032658033], \"z\": [0.0, 0.0, 0.0, 0.0, 0.0, -27.999311790876078], \"type\": \"scatter3d\"}], \"name\": \"7\"}, {\"data\": [{\"hovertemplate\": \"color=#59a6ff<br>step=8<br>line_group=a<br>x=%{x}<br>y=%{y}<br>z=%{z}<extra></extra>\", \"legendgroup\": \"#59a6ff\", \"line\": {\"color\": \"#59a6ff\", \"dash\": \"solid\", \"width\": 5}, \"mode\": \"lines\", \"name\": \"x\", \"scene\": \"scene\", \"showlegend\": true, \"x\": [-0.9569800386349003, -5.5121728622250385], \"y\": [-0.4601963940759819, -8.484953265767555], \"z\": [-8.768023180940114, -12.622046467085617], \"type\": \"scatter3d\"}, {\"hovertemplate\": \"color=#59a6ff<br>step=8<br>line_group=g<br>x=%{x}<br>y=%{y}<br>z=%{z}<extra></extra>\", \"legendgroup\": \"#59a6ff\", \"line\": {\"color\": \"black\", \"dash\": \"solid\"}, \"mode\": \"lines\", \"name\": \"#59a6ff\", \"scene\": \"scene\", \"showlegend\": false, \"x\": [-10.002346781927159, 0.0, -10.002346781927159, -10.002346781927159, -10.002346781927159, -10.002346781927159], \"y\": [7.333183032658033, 7.333183032658033, 7.333183032658033, -8.484953265767555, 7.333183032658033, 7.333183032658033], \"z\": [0.0, 0.0, 0.0, 0.0, 0.0, -27.999311790876078], \"type\": \"scatter3d\"}], \"name\": \"8\"}, {\"data\": [{\"hovertemplate\": \"color=#6699ff<br>step=9<br>line_group=a<br>x=%{x}<br>y=%{y}<br>z=%{z}<extra></extra>\", \"legendgroup\": \"#6699ff\", \"line\": {\"color\": \"#6699ff\", \"dash\": \"solid\", \"width\": 5}, \"mode\": \"lines\", \"name\": \"x\", \"scene\": \"scene\", \"showlegend\": true, \"x\": [-1.0789246619446233, -4.748983012828203], \"y\": [-0.5220154539600772, -8.140624833606118], \"z\": [-9.86320991629105, -15.20057469879178], \"type\": \"scatter3d\"}, {\"hovertemplate\": \"color=#6699ff<br>step=9<br>line_group=g<br>x=%{x}<br>y=%{y}<br>z=%{z}<extra></extra>\", \"legendgroup\": \"#6699ff\", \"line\": {\"color\": \"black\", \"dash\": \"solid\"}, \"mode\": \"lines\", \"name\": \"#6699ff\", \"scene\": \"scene\", \"showlegend\": false, \"x\": [-10.002346781927159, 0.0, -10.002346781927159, -10.002346781927159, -10.002346781927159, -10.002346781927159], \"y\": [7.333183032658033, 7.333183032658033, 7.333183032658033, -8.484953265767555, 7.333183032658033, 7.333183032658033], \"z\": [0.0, 0.0, 0.0, 0.0, 0.0, -27.999311790876078], \"type\": \"scatter3d\"}], \"name\": \"9\"}, {\"data\": [{\"hovertemplate\": \"color=#738cff<br>step=10<br>line_group=a<br>x=%{x}<br>y=%{y}<br>z=%{z}<extra></extra>\", \"legendgroup\": \"#738cff\", \"line\": {\"color\": \"#738cff\", \"dash\": \"solid\", \"width\": 5}, \"mode\": \"lines\", \"name\": \"x\", \"scene\": \"scene\", \"showlegend\": true, \"x\": [-1.199079201545396, -4.022593307790493], \"y\": [-0.5824468770122342, -7.423681069710322], \"z\": [-10.96628783000644, -17.691262388508015], \"type\": \"scatter3d\"}, {\"hovertemplate\": \"color=#738cff<br>step=10<br>line_group=g<br>x=%{x}<br>y=%{y}<br>z=%{z}<extra></extra>\", \"legendgroup\": \"#738cff\", \"line\": {\"color\": \"black\", \"dash\": \"solid\"}, \"mode\": \"lines\", \"name\": \"#738cff\", \"scene\": \"scene\", \"showlegend\": false, \"x\": [-10.002346781927159, 0.0, -10.002346781927159, -10.002346781927159, -10.002346781927159, -10.002346781927159], \"y\": [7.333183032658033, 7.333183032658033, 7.333183032658033, -8.484953265767555, 7.333183032658033, 7.333183032658033], \"z\": [0.0, 0.0, 0.0, 0.0, 0.0, -27.999311790876078], \"type\": \"scatter3d\"}], \"name\": \"10\"}, {\"data\": [{\"hovertemplate\": \"color=#807fff<br>step=11<br>line_group=a<br>x=%{x}<br>y=%{y}<br>z=%{z}<extra></extra>\", \"legendgroup\": \"#807fff\", \"line\": {\"color\": \"#807fff\", \"dash\": \"solid\", \"width\": 5}, \"mode\": \"lines\", \"name\": \"x\", \"scene\": \"scene\", \"showlegend\": true, \"x\": [-1.3178300064391497, -3.3841281799967042], \"y\": [-0.6399034127495169, -6.299882076860669], \"z\": [-12.072414681262075, -20.05333276001462], \"type\": \"scatter3d\"}, {\"hovertemplate\": \"color=#807fff<br>step=11<br>line_group=g<br>x=%{x}<br>y=%{y}<br>z=%{z}<extra></extra>\", \"legendgroup\": \"#807fff\", \"line\": {\"color\": \"black\", \"dash\": \"solid\"}, \"mode\": \"lines\", \"name\": \"#807fff\", \"scene\": \"scene\", \"showlegend\": false, \"x\": [-10.002346781927159, 0.0, -10.002346781927159, -10.002346781927159, -10.002346781927159, -10.002346781927159], \"y\": [7.333183032658033, 7.333183032658033, 7.333183032658033, -8.484953265767555, 7.333183032658033, 7.333183032658033], \"z\": [0.0, 0.0, 0.0, 0.0, 0.0, -27.999311790876078], \"type\": \"scatter3d\"}], \"name\": \"11\"}, {\"data\": [{\"hovertemplate\": \"color=#8c73ff<br>step=12<br>line_group=a<br>x=%{x}<br>y=%{y}<br>z=%{z}<extra></extra>\", \"legendgroup\": \"#8c73ff\", \"line\": {\"color\": \"#8c73ff\", \"dash\": \"solid\", \"width\": 5}, \"mode\": \"lines\", \"name\": \"x\", \"scene\": \"scene\", \"showlegend\": true, \"x\": [-1.4372376046361874, -2.8570839940758663], \"y\": [-0.6964037347070184, -4.859109555515273], \"z\": [-13.178628461043143, -22.1594923660249], \"type\": \"scatter3d\"}, {\"hovertemplate\": \"color=#8c73ff<br>step=12<br>line_group=g<br>x=%{x}<br>y=%{y}<br>z=%{z}<extra></extra>\", \"legendgroup\": \"#8c73ff\", \"line\": {\"color\": \"black\", \"dash\": \"solid\"}, \"mode\": \"lines\", \"name\": \"#8c73ff\", \"scene\": \"scene\", \"showlegend\": false, \"x\": [-10.002346781927159, 0.0, -10.002346781927159, -10.002346781927159, -10.002346781927159, -10.002346781927159], \"y\": [7.333183032658033, 7.333183032658033, 7.333183032658033, -8.484953265767555, 7.333183032658033, 7.333183032658033], \"z\": [0.0, 0.0, 0.0, 0.0, 0.0, -27.999311790876078], \"type\": \"scatter3d\"}], \"name\": \"12\"}, {\"data\": [{\"hovertemplate\": \"color=#9966ff<br>step=13<br>line_group=a<br>x=%{x}<br>y=%{y}<br>z=%{z}<extra></extra>\", \"legendgroup\": \"#9966ff\", \"line\": {\"color\": \"#9966ff\", \"dash\": \"solid\", \"width\": 5}, \"mode\": \"lines\", \"name\": \"x\", \"scene\": \"scene\", \"showlegend\": true, \"x\": [-1.5553026400515124, -2.4482624580638457], \"y\": [-0.7534642627173211, -3.2453787557272014], \"z\": [-14.283531873792658, -23.926818913124357], \"type\": \"scatter3d\"}, {\"hovertemplate\": \"color=#9966ff<br>step=13<br>line_group=g<br>x=%{x}<br>y=%{y}<br>z=%{z}<extra></extra>\", \"legendgroup\": \"#9966ff\", \"line\": {\"color\": \"black\", \"dash\": \"solid\"}, \"mode\": \"lines\", \"name\": \"#9966ff\", \"scene\": \"scene\", \"showlegend\": false, \"x\": [-10.002346781927159, 0.0, -10.002346781927159, -10.002346781927159, -10.002346781927159, -10.002346781927159], \"y\": [7.333183032658033, 7.333183032658033, 7.333183032658033, -8.484953265767555, 7.333183032658033, 7.333183032658033], \"z\": [0.0, 0.0, 0.0, 0.0, 0.0, -27.999311790876078], \"type\": \"scatter3d\"}], \"name\": \"13\"}, {\"data\": [{\"hovertemplate\": \"color=#a659ff<br>step=14<br>line_group=a<br>x=%{x}<br>y=%{y}<br>z=%{z}<extra></extra>\", \"legendgroup\": \"#a659ff\", \"line\": {\"color\": \"#a659ff\", \"dash\": \"solid\", \"width\": 5}, \"mode\": \"lines\", \"name\": \"x\", \"scene\": \"scene\", \"showlegend\": true, \"x\": [-1.6710270444301343, -2.166442207217566], \"y\": [-0.8118061815840307, -1.5964873009604443], \"z\": [-15.384867997424339, -25.341716864278474], \"type\": \"scatter3d\"}, {\"hovertemplate\": \"color=#a659ff<br>step=14<br>line_group=g<br>x=%{x}<br>y=%{y}<br>z=%{z}<extra></extra>\", \"legendgroup\": \"#a659ff\", \"line\": {\"color\": \"black\", \"dash\": \"solid\"}, \"mode\": \"lines\", \"name\": \"#a659ff\", \"scene\": \"scene\", \"showlegend\": false, \"x\": [-10.002346781927159, 0.0, -10.002346781927159, -10.002346781927159, -10.002346781927159, -10.002346781927159], \"y\": [7.333183032658033, 7.333183032658033, 7.333183032658033, -8.484953265767555, 7.333183032658033, 7.333183032658033], \"z\": [0.0, 0.0, 0.0, 0.0, 0.0, -27.999311790876078], \"type\": \"scatter3d\"}], \"name\": \"14\"}, {\"data\": [{\"hovertemplate\": \"color=#b34cff<br>step=15<br>line_group=a<br>x=%{x}<br>y=%{y}<br>z=%{z}<extra></extra>\", \"legendgroup\": \"#b34cff\", \"line\": {\"color\": \"#b34cff\", \"dash\": \"solid\", \"width\": 5}, \"mode\": \"lines\", \"name\": \"x\", \"scene\": \"scene\", \"showlegend\": true, \"x\": [-1.7864810045074042, -2.008278874426184], \"y\": [-0.872144236960721, 0.03940847952892346], \"z\": [-16.48525434642627, -26.441150958482858], \"type\": \"scatter3d\"}, {\"hovertemplate\": \"color=#b34cff<br>step=15<br>line_group=g<br>x=%{x}<br>y=%{y}<br>z=%{z}<extra></extra>\", \"legendgroup\": \"#b34cff\", \"line\": {\"color\": \"black\", \"dash\": \"solid\"}, \"mode\": \"lines\", \"name\": \"#b34cff\", \"scene\": \"scene\", \"showlegend\": false, \"x\": [-10.002346781927159, 0.0, -10.002346781927159, -10.002346781927159, -10.002346781927159, -10.002346781927159], \"y\": [7.333183032658033, 7.333183032658033, 7.333183032658033, -8.484953265767555, 7.333183032658033, 7.333183032658033], \"z\": [0.0, 0.0, 0.0, 0.0, 0.0, -27.999311790876078], \"type\": \"scatter3d\"}], \"name\": \"15\"}, {\"data\": [{\"hovertemplate\": \"color=#c03fff<br>step=16<br>line_group=a<br>x=%{x}<br>y=%{y}<br>z=%{z}<extra></extra>\", \"legendgroup\": \"#c03fff\", \"line\": {\"color\": \"#c03fff\", \"dash\": \"solid\", \"width\": 5}, \"mode\": \"lines\", \"name\": \"x\", \"scene\": \"scene\", \"showlegend\": true, \"x\": [-1.9032131358660647, -1.9557227409312359], \"y\": [-0.9313586606567931, 1.6138596489801493], \"z\": [-17.58474243399871, -27.255270159912364], \"type\": \"scatter3d\"}, {\"hovertemplate\": \"color=#c03fff<br>step=16<br>line_group=g<br>x=%{x}<br>y=%{y}<br>z=%{z}<extra></extra>\", \"legendgroup\": \"#c03fff\", \"line\": {\"color\": \"black\", \"dash\": \"solid\"}, \"mode\": \"lines\", \"name\": \"#c03fff\", \"scene\": \"scene\", \"showlegend\": false, \"x\": [-10.002346781927159, 0.0, -10.002346781927159, -10.002346781927159, -10.002346781927159, -10.002346781927159], \"y\": [7.333183032658033, 7.333183032658033, 7.333183032658033, -8.484953265767555, 7.333183032658033, 7.333183032658033], \"z\": [0.0, 0.0, 0.0, 0.0, 0.0, -27.999311790876078], \"type\": \"scatter3d\"}], \"name\": \"16\"}, {\"data\": [{\"hovertemplate\": \"color=#cc33ff<br>step=17<br>line_group=a<br>x=%{x}<br>y=%{y}<br>z=%{z}<extra></extra>\", \"legendgroup\": \"#cc33ff\", \"line\": {\"color\": \"#cc33ff\", \"dash\": \"solid\", \"width\": 5}, \"mode\": \"lines\", \"name\": \"x\", \"scene\": \"scene\", \"showlegend\": true, \"x\": [-2.02167417900837, -1.9729063528681028], \"y\": [-0.9868963296844813, 3.167840387212898], \"z\": [-18.68631036703155, -27.78223167893824], \"type\": \"scatter3d\"}, {\"hovertemplate\": \"color=#cc33ff<br>step=17<br>line_group=g<br>x=%{x}<br>y=%{y}<br>z=%{z}<extra></extra>\", \"legendgroup\": \"#cc33ff\", \"line\": {\"color\": \"black\", \"dash\": \"solid\"}, \"mode\": \"lines\", \"name\": \"#cc33ff\", \"scene\": \"scene\", \"showlegend\": false, \"x\": [-10.002346781927159, 0.0, -10.002346781927159, -10.002346781927159, -10.002346781927159, -10.002346781927159], \"y\": [7.333183032658033, 7.333183032658033, 7.333183032658033, -8.484953265767555, 7.333183032658033, 7.333183032658033], \"z\": [0.0, 0.0, 0.0, 0.0, 0.0, -27.999311790876078], \"type\": \"scatter3d\"}], \"name\": \"17\"}, {\"data\": [{\"hovertemplate\": \"color=#d926ff<br>step=18<br>line_group=a<br>x=%{x}<br>y=%{y}<br>z=%{z}<extra></extra>\", \"legendgroup\": \"#d926ff\", \"line\": {\"color\": \"#d926ff\", \"dash\": \"solid\", \"width\": 5}, \"mode\": \"lines\", \"name\": \"x\", \"scene\": \"scene\", \"showlegend\": true, \"x\": [-2.1448551191242746, -2.0345237006276986], \"y\": [-1.0400032195750157, 4.663730961742424], \"z\": [-19.786197681905985, -27.999311790876078], \"type\": \"scatter3d\"}, {\"hovertemplate\": \"color=#d926ff<br>step=18<br>line_group=g<br>x=%{x}<br>y=%{y}<br>z=%{z}<extra></extra>\", \"legendgroup\": \"#d926ff\", \"line\": {\"color\": \"black\", \"dash\": \"solid\"}, \"mode\": \"lines\", \"name\": \"#d926ff\", \"scene\": \"scene\", \"showlegend\": false, \"x\": [-10.002346781927159, 0.0, -10.002346781927159, -10.002346781927159, -10.002346781927159, -10.002346781927159], \"y\": [7.333183032658033, 7.333183032658033, 7.333183032658033, -8.484953265767555, 7.333183032658033, 7.333183032658033], \"z\": [0.0, 0.0, 0.0, 0.0, 0.0, -27.999311790876078], \"type\": \"scatter3d\"}], \"name\": \"18\"}, {\"data\": [{\"hovertemplate\": \"color=#e619ff<br>step=19<br>line_group=a<br>x=%{x}<br>y=%{y}<br>z=%{z}<extra></extra>\", \"legendgroup\": \"#e619ff\", \"line\": {\"color\": \"#e619ff\", \"dash\": \"solid\", \"width\": 5}, \"mode\": \"lines\", \"name\": \"x\", \"scene\": \"scene\", \"showlegend\": true, \"x\": [-2.2724758531873785, -2.148484106820149], \"y\": [-1.0909304571796519, 6.076254546274796], \"z\": [-20.88261107533805, -27.8551346624685], \"type\": \"scatter3d\"}, {\"hovertemplate\": \"color=#e619ff<br>step=19<br>line_group=g<br>x=%{x}<br>y=%{y}<br>z=%{z}<extra></extra>\", \"legendgroup\": \"#e619ff\", \"line\": {\"color\": \"black\", \"dash\": \"solid\"}, \"mode\": \"lines\", \"name\": \"#e619ff\", \"scene\": \"scene\", \"showlegend\": false, \"x\": [-10.002346781927159, 0.0, -10.002346781927159, -10.002346781927159, -10.002346781927159, -10.002346781927159], \"y\": [7.333183032658033, 7.333183032658033, 7.333183032658033, -8.484953265767555, 7.333183032658033, 7.333183032658033], \"z\": [0.0, 0.0, 0.0, 0.0, 0.0, -27.999311790876078], \"type\": \"scatter3d\"}], \"name\": \"19\"}, {\"data\": [{\"hovertemplate\": \"color=#f30cff<br>step=20<br>line_group=a<br>x=%{x}<br>y=%{y}<br>z=%{z}<extra></extra>\", \"legendgroup\": \"#f30cff\", \"line\": {\"color\": \"#f30cff\", \"dash\": \"solid\", \"width\": 5}, \"mode\": \"lines\", \"name\": \"x\", \"scene\": \"scene\", \"showlegend\": true, \"x\": [-2.3996200901480993, -2.3479303189360503], \"y\": [-1.1427173213135862, 7.333183032658033], \"z\": [-21.978142305215705, -27.28440665568825], \"type\": \"scatter3d\"}, {\"hovertemplate\": \"color=#f30cff<br>step=20<br>line_group=g<br>x=%{x}<br>y=%{y}<br>z=%{z}<extra></extra>\", \"legendgroup\": \"#f30cff\", \"line\": {\"color\": \"black\", \"dash\": \"solid\"}, \"mode\": \"lines\", \"name\": \"#f30cff\", \"scene\": \"scene\", \"showlegend\": false, \"x\": [-10.002346781927159, 0.0, -10.002346781927159, -10.002346781927159, -10.002346781927159, -10.002346781927159], \"y\": [7.333183032658033, 7.333183032658033, 7.333183032658033, -8.484953265767555, 7.333183032658033, 7.333183032658033], \"z\": [0.0, 0.0, 0.0, 0.0, 0.0, -27.999311790876078], \"type\": \"scatter3d\"}], \"name\": \"20\"}]);\n",
       "                        }).then(function(){\n",
       "                            \n",
       "var gd = document.getElementById('1ba0b4f9-8f46-4bd8-b865-d99016967f8a');\n",
       "var x = new MutationObserver(function (mutations, observer) {{\n",
       "        var display = window.getComputedStyle(gd).display;\n",
       "        if (!display || display === 'none') {{\n",
       "            console.log([gd, 'removed!']);\n",
       "            Plotly.purge(gd);\n",
       "            observer.disconnect();\n",
       "        }}\n",
       "}});\n",
       "\n",
       "// Listen for the removal of the full notebook cells\n",
       "var notebookContainer = gd.closest('#notebook-container');\n",
       "if (notebookContainer) {{\n",
       "    x.observe(notebookContainer, {childList: true});\n",
       "}}\n",
       "\n",
       "// Listen for the clearing of the current output cell\n",
       "var outputEl = gd.closest('.output');\n",
       "if (outputEl) {{\n",
       "    x.observe(outputEl, {childList: true});\n",
       "}}\n",
       "\n",
       "                        })                };                });            </script>        </div>"
      ]
     },
     "metadata": {},
     "output_type": "display_data"
    }
   ],
   "source": [
    "camera = dict(\n",
    "    up=dict(x=1, y=0, z=0),\n",
    "    center=dict(x=0, y=0, z=0),\n",
    "    eye=dict(x=0, y=-2, z=0)\n",
    ")\n",
    "\n",
    "fig.update_layout(scene_camera=camera)\n",
    "fig.show()"
   ]
  },
  {
   "cell_type": "code",
   "execution_count": 8,
   "id": "collectible-hungary",
   "metadata": {},
   "outputs": [
    {
     "name": "stdout",
     "output_type": "stream",
     "text": [
      "3514410\n",
      "3546957\n",
      "3581382\n",
      "3615503\n",
      "3651493\n",
      "3685651\n",
      "3719822\n",
      "3754258\n",
      "3790342\n"
     ]
    }
   ],
   "source": [
    "html = open('template_motion_animation.html').read()\n",
    "include_plotlyjs = True\n",
    "\n",
    "for md in mean_data:\n",
    "    e, _ = md\n",
    "    fig, _ = plot_animation(md)\n",
    "    fig.update_layout(scene_camera=camera)\n",
    "    # fig.show()\n",
    "    html = html.replace(f'{{{{event {e}}}}}',\n",
    "                        fig.to_html(full_html=False,\n",
    "                                    include_plotlyjs=include_plotlyjs))\n",
    "    print(len(html))\n",
    "    include_plotlyjs = False\n",
    "\n",
    "with open('motion_animation_tmp.html', 'w') as f:\n",
    "    f.write(html)"
   ]
  },
  {
   "cell_type": "code",
   "execution_count": 9,
   "id": "industrial-baptist",
   "metadata": {},
   "outputs": [
    {
     "name": "stdout",
     "output_type": "stream",
     "text": [
      "3492447\n",
      "3506133\n",
      "3519805\n",
      "3533481\n",
      "3547156\n",
      "3560869\n",
      "3574595\n",
      "3588300\n",
      "3601981\n"
     ]
    }
   ],
   "source": [
    "html = open('template_motion_animation.html').read()\n",
    "include_plotlyjs = True\n",
    "\n",
    "for md in mean_data:\n",
    "    e, dd = md\n",
    "\n",
    "    trace = Trace(vec, color=rgb(0))\n",
    "\n",
    "    for i, d in enumerate(dd):\n",
    "        trace.add(pos_diff=d[:3], rot_diff=d[3:], color=rgb(i))\n",
    "\n",
    "    data = []\n",
    "    layout = dict(\n",
    "        title=e,\n",
    "    )\n",
    "\n",
    "    for i in trace.df['step'].unique():\n",
    "        df = trace.df.query(f'step=={i}')\n",
    "\n",
    "        d = go.Scatter3d(\n",
    "            x=df['x'],\n",
    "            y=df['y'],\n",
    "            z=df['z'],\n",
    "            marker=dict(\n",
    "                size=2,\n",
    "                color=df['color'],\n",
    "            ),\n",
    "            line=dict(\n",
    "                color=df['color']\n",
    "            )\n",
    "        )\n",
    "\n",
    "        data.append(d)\n",
    "\n",
    "    fig = go.Figure(data=data, layout=layout)\n",
    "    fig.update_layout(scene_camera=camera)\n",
    "    # fig.show()\n",
    "    \n",
    "    html = html.replace(f'{{{{event {e}}}}}',\n",
    "                        fig.to_html(full_html=False,\n",
    "                                    include_plotlyjs=include_plotlyjs))\n",
    "    print(len(html))\n",
    "    include_plotlyjs = False\n",
    "\n",
    "with open('motion_trace_tmp.html', 'w') as f:\n",
    "    f.write(html)"
   ]
  },
  {
   "cell_type": "code",
   "execution_count": null,
   "id": "outer-execution",
   "metadata": {},
   "outputs": [],
   "source": []
  },
  {
   "cell_type": "code",
   "execution_count": null,
   "id": "civic-sarah",
   "metadata": {},
   "outputs": [],
   "source": []
  },
  {
   "cell_type": "code",
   "execution_count": null,
   "id": "classical-brooklyn",
   "metadata": {},
   "outputs": [],
   "source": []
  },
  {
   "cell_type": "code",
   "execution_count": null,
   "id": "recent-thought",
   "metadata": {},
   "outputs": [],
   "source": []
  },
  {
   "cell_type": "code",
   "execution_count": null,
   "id": "closing-somerset",
   "metadata": {},
   "outputs": [],
   "source": []
  },
  {
   "cell_type": "code",
   "execution_count": null,
   "id": "medical-league",
   "metadata": {},
   "outputs": [],
   "source": []
  }
 ],
 "metadata": {
  "kernelspec": {
   "display_name": "Python 3",
   "language": "python",
   "name": "python3"
  },
  "language_info": {
   "codemirror_mode": {
    "name": "ipython",
    "version": 3
   },
   "file_extension": ".py",
   "mimetype": "text/x-python",
   "name": "python",
   "nbconvert_exporter": "python",
   "pygments_lexer": "ipython3",
   "version": "3.8.8"
  }
 },
 "nbformat": 4,
 "nbformat_minor": 5
}
